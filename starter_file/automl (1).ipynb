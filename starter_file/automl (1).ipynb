{
  "cells": [
    {
      "cell_type": "markdown",
      "source": [
        "# Automated ML\n",
        "\n",
        "TODO: Import Dependencies. In the cell below, import all the dependencies that you will need to complete the project."
      ],
      "metadata": {}
    },
    {
      "cell_type": "code",
      "source": [
        "from azureml.core import Dataset, Workspace, Experiment\r\n",
        "from azureml.core.compute import ComputeTarget, AmlCompute\r\n",
        "from azureml.core.compute_target import ComputeTargetException\r\n",
        "from azureml.widgets import RunDetails\r\n",
        "from azureml.train.automl import AutoMLConfig\r\n",
        "\r\n",
        "from azureml.core.model import InferenceConfig\r\n",
        "from azureml.core.webservice import AciWebservice, Webservice\r\n",
        "from azureml.core.model import Model\r\n",
        "from azureml.core.environment import Environment"
      ],
      "outputs": [],
      "execution_count": 6,
      "metadata": {
        "gather": {
          "logged": 1611955113890
        },
        "jupyter": {
          "outputs_hidden": false,
          "source_hidden": false
        },
        "nteract": {
          "transient": {
            "deleting": false
          }
        }
      }
    },
    {
      "cell_type": "markdown",
      "source": [
        "## Dataset\n",
        "\n",
        "### Overview\n",
        "TODO: In this markdown cell, give an overview of the dataset you are using. Also mention the task you will be performing.\n",
        "\n",
        "\n",
        "TODO: Get data. In the cell below, write code to access the data you will be using in this project. Remember that the dataset needs to be external."
      ],
      "metadata": {}
    },
    {
      "cell_type": "code",
      "source": [
        "ws = Workspace.from_config()\n",
        "\n",
        "# choose a name for experiment\n",
        "experiment_name = 'jobchangeautoml'\n",
        "\n",
        "experiment=Experiment(ws, experiment_name)"
      ],
      "outputs": [
        {
          "output_type": "stream",
          "name": "stdout",
          "text": [
            "Performing interactive authentication. Please follow the instructions on the terminal.\n",
            "To sign in, use a web browser to open the page https://microsoft.com/devicelogin and enter the code E8G2UGXQP to authenticate.\n",
            "You have logged in. Now let us find all the subscriptions to which you have access...\n",
            "Interactive authentication successfully completed.\n"
          ]
        }
      ],
      "execution_count": 5,
      "metadata": {
        "gather": {
          "logged": 1611954915167
        },
        "jupyter": {
          "outputs_hidden": false,
          "source_hidden": false
        },
        "nteract": {
          "transient": {
            "deleting": false
          }
        }
      }
    },
    {
      "cell_type": "code",
      "source": [
        "dataset = Dataset.get_by_name(ws, 'traindata')"
      ],
      "outputs": [],
      "execution_count": 7,
      "metadata": {
        "collapsed": true,
        "jupyter": {
          "source_hidden": false,
          "outputs_hidden": false
        },
        "nteract": {
          "transient": {
            "deleting": false
          }
        },
        "gather": {
          "logged": 1611955181134
        }
      }
    },
    {
      "cell_type": "code",
      "source": [
        "dataset.to_pandas_dataframe().head()"
      ],
      "outputs": [
        {
          "output_type": "execute_result",
          "execution_count": 9,
          "data": {
            "text/plain": "   enrollee_id      city  city_development_index gender  \\\n0         8949  city_103                   0.920   Male   \n1        29725   city_40                   0.776   Male   \n2        11561   city_21                   0.624   None   \n3        33241  city_115                   0.789   None   \n4          666  city_162                   0.767   Male   \n\n       relevent_experience enrolled_university education_level  \\\n0  Has relevent experience       no_enrollment        Graduate   \n1   No relevent experience       no_enrollment        Graduate   \n2   No relevent experience    Full time course        Graduate   \n3   No relevent experience                None        Graduate   \n4  Has relevent experience       no_enrollment         Masters   \n\n  major_discipline experience company_size    company_type last_new_job  \\\n0             STEM        >20         None            None            1   \n1             STEM         15        50-99         Pvt Ltd           >4   \n2             STEM          5         None            None        never   \n3  Business Degree         <1         None         Pvt Ltd        never   \n4             STEM        >20        50-99  Funded Startup            4   \n\n   training_hours  target  \n0              36     1.0  \n1              47     0.0  \n2              83     0.0  \n3              52     1.0  \n4               8     0.0  ",
            "text/html": "<div>\n<style scoped>\n    .dataframe tbody tr th:only-of-type {\n        vertical-align: middle;\n    }\n\n    .dataframe tbody tr th {\n        vertical-align: top;\n    }\n\n    .dataframe thead th {\n        text-align: right;\n    }\n</style>\n<table border=\"1\" class=\"dataframe\">\n  <thead>\n    <tr style=\"text-align: right;\">\n      <th></th>\n      <th>enrollee_id</th>\n      <th>city</th>\n      <th>city_development_index</th>\n      <th>gender</th>\n      <th>relevent_experience</th>\n      <th>enrolled_university</th>\n      <th>education_level</th>\n      <th>major_discipline</th>\n      <th>experience</th>\n      <th>company_size</th>\n      <th>company_type</th>\n      <th>last_new_job</th>\n      <th>training_hours</th>\n      <th>target</th>\n    </tr>\n  </thead>\n  <tbody>\n    <tr>\n      <th>0</th>\n      <td>8949</td>\n      <td>city_103</td>\n      <td>0.920</td>\n      <td>Male</td>\n      <td>Has relevent experience</td>\n      <td>no_enrollment</td>\n      <td>Graduate</td>\n      <td>STEM</td>\n      <td>&gt;20</td>\n      <td>None</td>\n      <td>None</td>\n      <td>1</td>\n      <td>36</td>\n      <td>1.0</td>\n    </tr>\n    <tr>\n      <th>1</th>\n      <td>29725</td>\n      <td>city_40</td>\n      <td>0.776</td>\n      <td>Male</td>\n      <td>No relevent experience</td>\n      <td>no_enrollment</td>\n      <td>Graduate</td>\n      <td>STEM</td>\n      <td>15</td>\n      <td>50-99</td>\n      <td>Pvt Ltd</td>\n      <td>&gt;4</td>\n      <td>47</td>\n      <td>0.0</td>\n    </tr>\n    <tr>\n      <th>2</th>\n      <td>11561</td>\n      <td>city_21</td>\n      <td>0.624</td>\n      <td>None</td>\n      <td>No relevent experience</td>\n      <td>Full time course</td>\n      <td>Graduate</td>\n      <td>STEM</td>\n      <td>5</td>\n      <td>None</td>\n      <td>None</td>\n      <td>never</td>\n      <td>83</td>\n      <td>0.0</td>\n    </tr>\n    <tr>\n      <th>3</th>\n      <td>33241</td>\n      <td>city_115</td>\n      <td>0.789</td>\n      <td>None</td>\n      <td>No relevent experience</td>\n      <td>None</td>\n      <td>Graduate</td>\n      <td>Business Degree</td>\n      <td>&lt;1</td>\n      <td>None</td>\n      <td>Pvt Ltd</td>\n      <td>never</td>\n      <td>52</td>\n      <td>1.0</td>\n    </tr>\n    <tr>\n      <th>4</th>\n      <td>666</td>\n      <td>city_162</td>\n      <td>0.767</td>\n      <td>Male</td>\n      <td>Has relevent experience</td>\n      <td>no_enrollment</td>\n      <td>Masters</td>\n      <td>STEM</td>\n      <td>&gt;20</td>\n      <td>50-99</td>\n      <td>Funded Startup</td>\n      <td>4</td>\n      <td>8</td>\n      <td>0.0</td>\n    </tr>\n  </tbody>\n</table>\n</div>"
          },
          "metadata": {}
        }
      ],
      "execution_count": 9,
      "metadata": {
        "collapsed": true,
        "jupyter": {
          "source_hidden": false,
          "outputs_hidden": false
        },
        "nteract": {
          "transient": {
            "deleting": false
          }
        },
        "gather": {
          "logged": 1611955213138
        }
      }
    },
    {
      "cell_type": "code",
      "source": [
        "cpu_cluster_name = \"cpu-cluster\"\r\n",
        "\r\n",
        "# Verify that cluster does not exist already\r\n",
        "try:\r\n",
        "    compute_target = ComputeTarget(workspace=ws, name=cpu_cluster_name)\r\n",
        "    print('Found existing cluster, use it.')\r\n",
        "except ComputeTargetException:\r\n",
        "    compute_config = AmlCompute.provisioning_configuration(vm_size='STANDARD_D12_V2',\r\n",
        "                                                           max_nodes=5)\r\n",
        "    compute_target = ComputeTarget.create(ws, cpu_cluster_name, compute_config)\r\n",
        "\r\n",
        "compute_target.wait_for_completion(show_output=True)"
      ],
      "outputs": [
        {
          "output_type": "stream",
          "name": "stdout",
          "text": [
            "Creating\n",
            "Succeeded\n",
            "AmlCompute wait for completion finished\n",
            "\n",
            "Minimum number of nodes requested have been provisioned\n"
          ]
        }
      ],
      "execution_count": 10,
      "metadata": {
        "collapsed": true,
        "jupyter": {
          "source_hidden": false,
          "outputs_hidden": false
        },
        "nteract": {
          "transient": {
            "deleting": false
          }
        },
        "gather": {
          "logged": 1611955266774
        }
      }
    },
    {
      "cell_type": "markdown",
      "source": [
        "## AutoML Configuration\n",
        "\n",
        "TODO: Explain why you chose the automl settings and cofiguration you used below."
      ],
      "metadata": {}
    },
    {
      "cell_type": "code",
      "source": [
        "# TODO: Put your automl settings here\n",
        "automl_settings = {\n",
        "    \"experiment_timeout_minutes\": 30,\n",
        "    \"max_concurrent_iterations\": 4,\n",
        "    \"primary_metric\" : 'accuracy',\n",
        "    \"n_cross_validations\": 5\n",
        "}\n",
        "# TODO: Put your automl config here\n",
        "automl_config = AutoMLConfig(compute_target=compute_target,\n",
        "                             task = \"classification\",\n",
        "                             training_data=dataset,\n",
        "                             label_column_name=\"target\", \n",
        "                             enable_early_stopping= True,\n",
        "                             featurization= 'auto',\n",
        "                             **automl_settings\n",
        "                            )"
      ],
      "outputs": [],
      "execution_count": 12,
      "metadata": {
        "gather": {
          "logged": 1611955319895
        },
        "jupyter": {
          "outputs_hidden": false,
          "source_hidden": false
        },
        "nteract": {
          "transient": {
            "deleting": false
          }
        }
      }
    },
    {
      "cell_type": "code",
      "source": [
        "# TODO: Submit your experiment\n",
        "remote_run = experiment.submit(automl_config, show_output = True)\n"
      ],
      "outputs": [
        {
          "output_type": "stream",
          "name": "stdout",
          "text": [
            "Running on remote.\n",
            "Running on remote compute: cpu-cluster\n",
            "Parent Run ID: AutoML_ac80c775-a318-450a-be96-6a83a1daccd1\n",
            "\n",
            "Current status: FeaturesGeneration. Generating features for the dataset.\n",
            "Current status: DatasetCrossValidationSplit. Generating individually featurized CV splits.\n",
            "Current status: ModelSelection. Beginning model selection.\n",
            "\n",
            "****************************************************************************************************\n",
            "DATA GUARDRAILS: \n",
            "\n",
            "TYPE:         Class balancing detection\n",
            "STATUS:       PASSED\n",
            "DESCRIPTION:  Your inputs were analyzed, and all classes are balanced in your training data.\n",
            "              Learn more about imbalanced data: https://aka.ms/AutomatedMLImbalancedData\n",
            "\n",
            "****************************************************************************************************\n",
            "\n",
            "TYPE:         Missing feature values imputation\n",
            "STATUS:       DONE\n",
            "DESCRIPTION:  If the missing values are expected, let the run complete. Otherwise cancel the current run and use a script to customize the handling of missing feature values that may be more appropriate based on the data type and business requirement.\n",
            "              Learn more about missing value imputation: https://aka.ms/AutomatedMLFeaturization\n",
            "DETAILS:      \n",
            "+---------------------------------+---------------------------------+\n",
            "|Column name                      |Missing value count              |\n",
            "+=================================+=================================+\n",
            "|gender                           |4508                             |\n",
            "|enrolled_university              |386                              |\n",
            "|education_level                  |460                              |\n",
            "|major_discipline                 |2813                             |\n",
            "|experience                       |65                               |\n",
            "|company_size                     |5938                             |\n",
            "|company_type                     |6140                             |\n",
            "|last_new_job                     |423                              |\n",
            "+---------------------------------+---------------------------------+\n",
            "\n",
            "****************************************************************************************************\n",
            "\n",
            "TYPE:         High cardinality feature detection\n",
            "STATUS:       PASSED\n",
            "DESCRIPTION:  Your inputs were analyzed, and no high cardinality features were detected.\n",
            "              Learn more about high cardinality feature handling: https://aka.ms/AutomatedMLFeaturization\n",
            "\n",
            "****************************************************************************************************\n",
            "\n",
            "****************************************************************************************************\n",
            "ITERATION: The iteration being evaluated.\n",
            "PIPELINE: A summary description of the pipeline being evaluated.\n",
            "DURATION: Time taken for the current iteration.\n",
            "METRIC: The result of computing score on the fitted pipeline.\n",
            "BEST: The best observed score thus far.\n",
            "****************************************************************************************************\n",
            "\n",
            " ITERATION   PIPELINE                                       DURATION      METRIC      BEST\n",
            "         2   MaxAbsScaler RandomForest                      0:00:46       0.7586    0.7586\n",
            "         0   MaxAbsScaler LightGBM                          0:01:03       0.7960    0.7960\n",
            "         1   MaxAbsScaler XGBoostClassifier                 0:01:11       0.7941    0.7960\n",
            "         3   MaxAbsScaler RandomForest                      0:00:54       0.7504    0.7960\n",
            "         4   MaxAbsScaler RandomForest                      0:01:03       0.7329    0.7960\n",
            "         5   MaxAbsScaler RandomForest                      0:00:56       0.7254    0.7960\n",
            "         6   StandardScalerWrapper XGBoostClassifier        0:00:58       0.7930    0.7960\n",
            "         7   SparseNormalizer XGBoostClassifier             0:01:11       0.7879    0.7960\n",
            "         8   SparseNormalizer XGBoostClassifier             0:01:05       0.7855    0.7960\n",
            "        12   StandardScalerWrapper RandomForest             0:00:47       0.7765    0.7960\n",
            "         9   SparseNormalizer XGBoostClassifier             0:01:18       0.7879    0.7960\n",
            "        11   SparseNormalizer XGBoostClassifier             0:00:55       0.7604    0.7960\n",
            "        10   SparseNormalizer XGBoostClassifier             0:02:14       0.7853    0.7960\n",
            "        13   MaxAbsScaler LightGBM                          0:00:56       0.7621    0.7960\n",
            "        15   MaxAbsScaler LightGBM                          0:00:54       0.7642    0.7960\n",
            "        14   SparseNormalizer LightGBM                      0:01:00       0.7755    0.7960\n",
            "        16   SparseNormalizer XGBoostClassifier             0:00:57       0.7823    0.7960\n",
            "        17   MaxAbsScaler LightGBM                          0:01:02       0.7588    0.7960\n",
            "        18   StandardScalerWrapper LightGBM                 0:00:54       0.7692    0.7960\n",
            "        19   StandardScalerWrapper GradientBoosting         0:01:00       0.7795    0.7960\n",
            "        20   SparseNormalizer GradientBoosting              0:01:00       0.7586    0.7960\n",
            "        21   MaxAbsScaler LightGBM                          0:00:53       0.7753    0.7960\n",
            "        23   StandardScalerWrapper LogisticRegression       0:00:55       0.7172    0.7960\n",
            "        22   StandardScalerWrapper LogisticRegression       0:01:12       0.7816    0.7960\n",
            "        24   StandardScalerWrapper LogisticRegression       0:00:54       0.7599    0.7960\n",
            "        25   MaxAbsScaler LightGBM                          0:00:55       0.7507    0.7960\n",
            "        26   SparseNormalizer LightGBM                      0:01:05       0.7763    0.7960\n",
            "        27   MaxAbsScaler GradientBoosting                  0:01:16       0.7588    0.7960\n",
            "        29   MaxAbsScaler LightGBM                          0:01:09       0.7909    0.7960\n",
            "        30   MaxAbsScaler LightGBM                          0:00:49       0.7621    0.7960\n",
            "        28   MaxAbsScaler ExtremeRandomTrees                0:01:41       0.7807    0.7960\n",
            "        31   SparseNormalizer XGBoostClassifier             0:00:55       0.7772    0.7960\n",
            "        32   MaxAbsScaler LightGBM                          0:00:56       0.7953    0.7960\n",
            "        33   StandardScalerWrapper LightGBM                 0:00:45       0.7930    0.7960\n",
            "        34   StandardScalerWrapper LightGBM                 0:00:26          nan    0.7960\n",
            "        35                                                  0:00:07          nan    0.7960\n",
            "        36    VotingEnsemble                                0:01:43       0.7991    0.7991\n",
            "        37    StackEnsemble                                 0:01:49       0.7950    0.7991\n"
          ]
        }
      ],
      "execution_count": 14,
      "metadata": {
        "gather": {
          "logged": 1611957100649
        },
        "jupyter": {
          "outputs_hidden": false,
          "source_hidden": false
        },
        "nteract": {
          "transient": {
            "deleting": false
          }
        }
      }
    },
    {
      "cell_type": "markdown",
      "source": [
        "## Run Details\n",
        "\n",
        "OPTIONAL: Write about the different models trained and their performance. Why do you think some models did better than others?\n",
        "\n",
        "TODO: In the cell below, use the `RunDetails` widget to show the different experiments."
      ],
      "metadata": {}
    },
    {
      "cell_type": "code",
      "source": [
        "remote_run"
      ],
      "outputs": [
        {
          "output_type": "execute_result",
          "execution_count": 15,
          "data": {
            "text/plain": "Run(Experiment: jobchangeautoml,\nId: AutoML_ac80c775-a318-450a-be96-6a83a1daccd1,\nType: automl,\nStatus: Completed)",
            "text/html": "<table style=\"width:100%\"><tr><th>Experiment</th><th>Id</th><th>Type</th><th>Status</th><th>Details Page</th><th>Docs Page</th></tr><tr><td>jobchangeautoml</td><td>AutoML_ac80c775-a318-450a-be96-6a83a1daccd1</td><td>automl</td><td>Completed</td><td><a href=\"https://ml.azure.com/experiments/jobchangeautoml/runs/AutoML_ac80c775-a318-450a-be96-6a83a1daccd1?wsid=/subscriptions/610d6e37-4747-4a20-80eb-3aad70a55f43/resourcegroups/aml-quickstarts-136529/workspaces/quick-starts-ws-136529\" target=\"_blank\" rel=\"noopener\">Link to Azure Machine Learning studio</a></td><td><a href=\"https://docs.microsoft.com/en-us/python/api/overview/azure/ml/intro?view=azure-ml-py\" target=\"_blank\" rel=\"noopener\">Link to Documentation</a></td></tr></table>"
          },
          "metadata": {}
        }
      ],
      "execution_count": 15,
      "metadata": {
        "collapsed": true,
        "jupyter": {
          "source_hidden": false,
          "outputs_hidden": false
        },
        "nteract": {
          "transient": {
            "deleting": false
          }
        },
        "gather": {
          "logged": 1611957100717
        }
      }
    },
    {
      "cell_type": "code",
      "source": [
        "RunDetails(remote_run).show()"
      ],
      "outputs": [
        {
          "output_type": "display_data",
          "data": {
            "text/plain": "_AutoMLWidget(widget_settings={'childWidgetDisplay': 'popup', 'send_telemetry': False, 'log_level': 'INFO', 's…",
            "application/vnd.jupyter.widget-view+json": {
              "version_major": 2,
              "version_minor": 0,
              "model_id": "cf1054ff83914041aa0a951c26ca880a"
            }
          },
          "metadata": {}
        },
        {
          "output_type": "display_data",
          "data": {
            "application/aml.mini.widget.v1": "{\"status\": \"Completed\", \"workbench_run_details_uri\": \"https://ml.azure.com/experiments/jobchangeautoml/runs/AutoML_ac80c775-a318-450a-be96-6a83a1daccd1?wsid=/subscriptions/610d6e37-4747-4a20-80eb-3aad70a55f43/resourcegroups/aml-quickstarts-136529/workspaces/quick-starts-ws-136529\", \"run_id\": \"AutoML_ac80c775-a318-450a-be96-6a83a1daccd1\", \"run_properties\": {\"run_id\": \"AutoML_ac80c775-a318-450a-be96-6a83a1daccd1\", \"created_utc\": \"2021-01-29T21:22:54.318696Z\", \"properties\": {\"num_iterations\": \"1000\", \"training_type\": \"TrainFull\", \"acquisition_function\": \"EI\", \"primary_metric\": \"accuracy\", \"train_split\": \"0\", \"acquisition_parameter\": \"0\", \"num_cross_validation\": \"5\", \"target\": \"cpu-cluster\", \"AMLSettingsJsonString\": \"{\\\"path\\\":null,\\\"name\\\":\\\"jobchangeautoml\\\",\\\"subscription_id\\\":\\\"610d6e37-4747-4a20-80eb-3aad70a55f43\\\",\\\"resource_group\\\":\\\"aml-quickstarts-136529\\\",\\\"workspace_name\\\":\\\"quick-starts-ws-136529\\\",\\\"region\\\":\\\"southcentralus\\\",\\\"compute_target\\\":\\\"cpu-cluster\\\",\\\"spark_service\\\":null,\\\"azure_service\\\":\\\"remote\\\",\\\"many_models\\\":false,\\\"pipeline_fetch_max_batch_size\\\":1,\\\"iterations\\\":1000,\\\"primary_metric\\\":\\\"accuracy\\\",\\\"task_type\\\":\\\"classification\\\",\\\"data_script\\\":null,\\\"validation_size\\\":0.0,\\\"n_cross_validations\\\":5,\\\"y_min\\\":null,\\\"y_max\\\":null,\\\"num_classes\\\":null,\\\"featurization\\\":\\\"auto\\\",\\\"_ignore_package_version_incompatibilities\\\":false,\\\"is_timeseries\\\":false,\\\"max_cores_per_iteration\\\":1,\\\"max_concurrent_iterations\\\":4,\\\"iteration_timeout_minutes\\\":null,\\\"mem_in_mb\\\":null,\\\"enforce_time_on_windows\\\":false,\\\"experiment_timeout_minutes\\\":30,\\\"experiment_exit_score\\\":null,\\\"whitelist_models\\\":null,\\\"blacklist_algos\\\":[\\\"TensorFlowLinearClassifier\\\",\\\"TensorFlowDNN\\\"],\\\"supported_models\\\":[\\\"MultinomialNaiveBayes\\\",\\\"TensorFlowLinearClassifier\\\",\\\"LightGBM\\\",\\\"ExtremeRandomTrees\\\",\\\"BernoulliNaiveBayes\\\",\\\"LinearSVM\\\",\\\"AveragedPerceptronClassifier\\\",\\\"SGD\\\",\\\"LogisticRegression\\\",\\\"SVM\\\",\\\"TensorFlowDNN\\\",\\\"DecisionTree\\\",\\\"RandomForest\\\",\\\"XGBoostClassifier\\\",\\\"GradientBoosting\\\",\\\"KNN\\\"],\\\"auto_blacklist\\\":true,\\\"blacklist_samples_reached\\\":false,\\\"exclude_nan_labels\\\":true,\\\"verbosity\\\":20,\\\"_debug_log\\\":\\\"azureml_automl.log\\\",\\\"show_warnings\\\":false,\\\"model_explainability\\\":true,\\\"service_url\\\":null,\\\"sdk_url\\\":null,\\\"sdk_packages\\\":null,\\\"enable_onnx_compatible_models\\\":false,\\\"enable_split_onnx_featurizer_estimator_models\\\":false,\\\"vm_type\\\":\\\"STANDARD_D12_V2\\\",\\\"telemetry_verbosity\\\":20,\\\"send_telemetry\\\":true,\\\"enable_dnn\\\":false,\\\"scenario\\\":\\\"SDK-1.13.0\\\",\\\"environment_label\\\":null,\\\"force_text_dnn\\\":false,\\\"enable_feature_sweeping\\\":true,\\\"enable_early_stopping\\\":true,\\\"early_stopping_n_iters\\\":10,\\\"metrics\\\":null,\\\"enable_ensembling\\\":true,\\\"enable_stack_ensembling\\\":true,\\\"ensemble_iterations\\\":15,\\\"enable_tf\\\":false,\\\"enable_subsampling\\\":null,\\\"subsample_seed\\\":null,\\\"enable_nimbusml\\\":false,\\\"enable_streaming\\\":false,\\\"force_streaming\\\":false,\\\"track_child_runs\\\":true,\\\"allowed_private_models\\\":[],\\\"label_column_name\\\":\\\"target\\\",\\\"weight_column_name\\\":null,\\\"cv_split_column_names\\\":null,\\\"enable_local_managed\\\":false,\\\"_local_managed_run_id\\\":null,\\\"cost_mode\\\":1,\\\"lag_length\\\":0,\\\"metric_operation\\\":\\\"maximize\\\",\\\"preprocess\\\":true}\", \"DataPrepJsonString\": \"{\\\\\\\"training_data\\\\\\\": \\\\\\\"{\\\\\\\\\\\\\\\"blocks\\\\\\\\\\\\\\\": [{\\\\\\\\\\\\\\\"id\\\\\\\\\\\\\\\": \\\\\\\\\\\\\\\"3b1af3f7-335e-4895-9dd8-d3b3011bfdee\\\\\\\\\\\\\\\", \\\\\\\\\\\\\\\"type\\\\\\\\\\\\\\\": \\\\\\\\\\\\\\\"Microsoft.DPrep.GetDatastoreFilesBlock\\\\\\\\\\\\\\\", \\\\\\\\\\\\\\\"arguments\\\\\\\\\\\\\\\": {\\\\\\\\\\\\\\\"datastores\\\\\\\\\\\\\\\": [{\\\\\\\\\\\\\\\"datastoreName\\\\\\\\\\\\\\\": \\\\\\\\\\\\\\\"workspaceblobstore\\\\\\\\\\\\\\\", \\\\\\\\\\\\\\\"path\\\\\\\\\\\\\\\": \\\\\\\\\\\\\\\"UI/01-29-2021_091148_UTC/aug_train.csv\\\\\\\\\\\\\\\", \\\\\\\\\\\\\\\"resourceGroup\\\\\\\\\\\\\\\": \\\\\\\\\\\\\\\"aml-quickstarts-136529\\\\\\\\\\\\\\\", \\\\\\\\\\\\\\\"subscription\\\\\\\\\\\\\\\": \\\\\\\\\\\\\\\"610d6e37-4747-4a20-80eb-3aad70a55f43\\\\\\\\\\\\\\\", \\\\\\\\\\\\\\\"workspaceName\\\\\\\\\\\\\\\": \\\\\\\\\\\\\\\"quick-starts-ws-136529\\\\\\\\\\\\\\\"}]}, \\\\\\\\\\\\\\\"localData\\\\\\\\\\\\\\\": {}, \\\\\\\\\\\\\\\"isEnabled\\\\\\\\\\\\\\\": true, \\\\\\\\\\\\\\\"name\\\\\\\\\\\\\\\": null, \\\\\\\\\\\\\\\"annotation\\\\\\\\\\\\\\\": null}, {\\\\\\\\\\\\\\\"id\\\\\\\\\\\\\\\": \\\\\\\\\\\\\\\"ed1f8744-e243-4da7-a826-7fd6e1d57974\\\\\\\\\\\\\\\", \\\\\\\\\\\\\\\"type\\\\\\\\\\\\\\\": \\\\\\\\\\\\\\\"Microsoft.DPrep.ParseDelimitedBlock\\\\\\\\\\\\\\\", \\\\\\\\\\\\\\\"arguments\\\\\\\\\\\\\\\": {\\\\\\\\\\\\\\\"columnHeadersMode\\\\\\\\\\\\\\\": 1, \\\\\\\\\\\\\\\"fileEncoding\\\\\\\\\\\\\\\": 0, \\\\\\\\\\\\\\\"handleQuotedLineBreaks\\\\\\\\\\\\\\\": false, \\\\\\\\\\\\\\\"preview\\\\\\\\\\\\\\\": false, \\\\\\\\\\\\\\\"separator\\\\\\\\\\\\\\\": \\\\\\\\\\\\\\\",\\\\\\\\\\\\\\\", \\\\\\\\\\\\\\\"skipRows\\\\\\\\\\\\\\\": 0, \\\\\\\\\\\\\\\"skipRowsMode\\\\\\\\\\\\\\\": 0}, \\\\\\\\\\\\\\\"localData\\\\\\\\\\\\\\\": {}, \\\\\\\\\\\\\\\"isEnabled\\\\\\\\\\\\\\\": true, \\\\\\\\\\\\\\\"name\\\\\\\\\\\\\\\": null, \\\\\\\\\\\\\\\"annotation\\\\\\\\\\\\\\\": null}, {\\\\\\\\\\\\\\\"id\\\\\\\\\\\\\\\": \\\\\\\\\\\\\\\"d3152d32-e785-445b-ab17-2a1730a86999\\\\\\\\\\\\\\\", \\\\\\\\\\\\\\\"type\\\\\\\\\\\\\\\": \\\\\\\\\\\\\\\"Microsoft.DPrep.DropColumnsBlock\\\\\\\\\\\\\\\", \\\\\\\\\\\\\\\"arguments\\\\\\\\\\\\\\\": {\\\\\\\\\\\\\\\"columns\\\\\\\\\\\\\\\": {\\\\\\\\\\\\\\\"type\\\\\\\\\\\\\\\": 0, \\\\\\\\\\\\\\\"details\\\\\\\\\\\\\\\": {\\\\\\\\\\\\\\\"selectedColumns\\\\\\\\\\\\\\\": [\\\\\\\\\\\\\\\"Path\\\\\\\\\\\\\\\"]}}}, \\\\\\\\\\\\\\\"localData\\\\\\\\\\\\\\\": {}, \\\\\\\\\\\\\\\"isEnabled\\\\\\\\\\\\\\\": true, \\\\\\\\\\\\\\\"name\\\\\\\\\\\\\\\": null, \\\\\\\\\\\\\\\"annotation\\\\\\\\\\\\\\\": null}, {\\\\\\\\\\\\\\\"id\\\\\\\\\\\\\\\": \\\\\\\\\\\\\\\"43159dac-be13-4858-8948-ccc101cca9b6\\\\\\\\\\\\\\\", \\\\\\\\\\\\\\\"type\\\\\\\\\\\\\\\": \\\\\\\\\\\\\\\"Microsoft.DPrep.SetColumnTypesBlock\\\\\\\\\\\\\\\", \\\\\\\\\\\\\\\"arguments\\\\\\\\\\\\\\\": {\\\\\\\\\\\\\\\"columnConversion\\\\\\\\\\\\\\\": [{\\\\\\\\\\\\\\\"column\\\\\\\\\\\\\\\": {\\\\\\\\\\\\\\\"type\\\\\\\\\\\\\\\": 2, \\\\\\\\\\\\\\\"details\\\\\\\\\\\\\\\": {\\\\\\\\\\\\\\\"selectedColumn\\\\\\\\\\\\\\\": \\\\\\\\\\\\\\\"Path\\\\\\\\\\\\\\\"}}, \\\\\\\\\\\\\\\"typeProperty\\\\\\\\\\\\\\\": 0}, {\\\\\\\\\\\\\\\"column\\\\\\\\\\\\\\\": {\\\\\\\\\\\\\\\"type\\\\\\\\\\\\\\\": 2, \\\\\\\\\\\\\\\"details\\\\\\\\\\\\\\\": {\\\\\\\\\\\\\\\"selectedColumn\\\\\\\\\\\\\\\": \\\\\\\\\\\\\\\"enrollee_id\\\\\\\\\\\\\\\"}}, \\\\\\\\\\\\\\\"typeProperty\\\\\\\\\\\\\\\": 2}, {\\\\\\\\\\\\\\\"column\\\\\\\\\\\\\\\": {\\\\\\\\\\\\\\\"type\\\\\\\\\\\\\\\": 2, \\\\\\\\\\\\\\\"details\\\\\\\\\\\\\\\": {\\\\\\\\\\\\\\\"selectedColumn\\\\\\\\\\\\\\\": \\\\\\\\\\\\\\\"city\\\\\\\\\\\\\\\"}}, \\\\\\\\\\\\\\\"typeProperty\\\\\\\\\\\\\\\": 0}, {\\\\\\\\\\\\\\\"column\\\\\\\\\\\\\\\": {\\\\\\\\\\\\\\\"type\\\\\\\\\\\\\\\": 2, \\\\\\\\\\\\\\\"details\\\\\\\\\\\\\\\": {\\\\\\\\\\\\\\\"selectedColumn\\\\\\\\\\\\\\\": \\\\\\\\\\\\\\\"city_development_index\\\\\\\\\\\\\\\"}}, \\\\\\\\\\\\\\\"typeProperty\\\\\\\\\\\\\\\": 3}, {\\\\\\\\\\\\\\\"column\\\\\\\\\\\\\\\": {\\\\\\\\\\\\\\\"type\\\\\\\\\\\\\\\": 2, \\\\\\\\\\\\\\\"details\\\\\\\\\\\\\\\": {\\\\\\\\\\\\\\\"selectedColumn\\\\\\\\\\\\\\\": \\\\\\\\\\\\\\\"gender\\\\\\\\\\\\\\\"}}, \\\\\\\\\\\\\\\"typeProperty\\\\\\\\\\\\\\\": 0}, {\\\\\\\\\\\\\\\"column\\\\\\\\\\\\\\\": {\\\\\\\\\\\\\\\"type\\\\\\\\\\\\\\\": 2, \\\\\\\\\\\\\\\"details\\\\\\\\\\\\\\\": {\\\\\\\\\\\\\\\"selectedColumn\\\\\\\\\\\\\\\": \\\\\\\\\\\\\\\"relevent_experience\\\\\\\\\\\\\\\"}}, \\\\\\\\\\\\\\\"typeProperty\\\\\\\\\\\\\\\": 0}, {\\\\\\\\\\\\\\\"column\\\\\\\\\\\\\\\": {\\\\\\\\\\\\\\\"type\\\\\\\\\\\\\\\": 2, \\\\\\\\\\\\\\\"details\\\\\\\\\\\\\\\": {\\\\\\\\\\\\\\\"selectedColumn\\\\\\\\\\\\\\\": \\\\\\\\\\\\\\\"enrolled_university\\\\\\\\\\\\\\\"}}, \\\\\\\\\\\\\\\"typeProperty\\\\\\\\\\\\\\\": 0}, {\\\\\\\\\\\\\\\"column\\\\\\\\\\\\\\\": {\\\\\\\\\\\\\\\"type\\\\\\\\\\\\\\\": 2, \\\\\\\\\\\\\\\"details\\\\\\\\\\\\\\\": {\\\\\\\\\\\\\\\"selectedColumn\\\\\\\\\\\\\\\": \\\\\\\\\\\\\\\"education_level\\\\\\\\\\\\\\\"}}, \\\\\\\\\\\\\\\"typeProperty\\\\\\\\\\\\\\\": 0}, {\\\\\\\\\\\\\\\"column\\\\\\\\\\\\\\\": {\\\\\\\\\\\\\\\"type\\\\\\\\\\\\\\\": 2, \\\\\\\\\\\\\\\"details\\\\\\\\\\\\\\\": {\\\\\\\\\\\\\\\"selectedColumn\\\\\\\\\\\\\\\": \\\\\\\\\\\\\\\"major_discipline\\\\\\\\\\\\\\\"}}, \\\\\\\\\\\\\\\"typeProperty\\\\\\\\\\\\\\\": 0}, {\\\\\\\\\\\\\\\"column\\\\\\\\\\\\\\\": {\\\\\\\\\\\\\\\"type\\\\\\\\\\\\\\\": 2, \\\\\\\\\\\\\\\"details\\\\\\\\\\\\\\\": {\\\\\\\\\\\\\\\"selectedColumn\\\\\\\\\\\\\\\": \\\\\\\\\\\\\\\"experience\\\\\\\\\\\\\\\"}}, \\\\\\\\\\\\\\\"typeProperty\\\\\\\\\\\\\\\": 0}, {\\\\\\\\\\\\\\\"column\\\\\\\\\\\\\\\": {\\\\\\\\\\\\\\\"type\\\\\\\\\\\\\\\": 2, \\\\\\\\\\\\\\\"details\\\\\\\\\\\\\\\": {\\\\\\\\\\\\\\\"selectedColumn\\\\\\\\\\\\\\\": \\\\\\\\\\\\\\\"company_size\\\\\\\\\\\\\\\"}}, \\\\\\\\\\\\\\\"typeProperty\\\\\\\\\\\\\\\": 0}, {\\\\\\\\\\\\\\\"column\\\\\\\\\\\\\\\": {\\\\\\\\\\\\\\\"type\\\\\\\\\\\\\\\": 2, \\\\\\\\\\\\\\\"details\\\\\\\\\\\\\\\": {\\\\\\\\\\\\\\\"selectedColumn\\\\\\\\\\\\\\\": \\\\\\\\\\\\\\\"company_type\\\\\\\\\\\\\\\"}}, \\\\\\\\\\\\\\\"typeProperty\\\\\\\\\\\\\\\": 0}, {\\\\\\\\\\\\\\\"column\\\\\\\\\\\\\\\": {\\\\\\\\\\\\\\\"type\\\\\\\\\\\\\\\": 2, \\\\\\\\\\\\\\\"details\\\\\\\\\\\\\\\": {\\\\\\\\\\\\\\\"selectedColumn\\\\\\\\\\\\\\\": \\\\\\\\\\\\\\\"last_new_job\\\\\\\\\\\\\\\"}}, \\\\\\\\\\\\\\\"typeProperty\\\\\\\\\\\\\\\": 0}, {\\\\\\\\\\\\\\\"column\\\\\\\\\\\\\\\": {\\\\\\\\\\\\\\\"type\\\\\\\\\\\\\\\": 2, \\\\\\\\\\\\\\\"details\\\\\\\\\\\\\\\": {\\\\\\\\\\\\\\\"selectedColumn\\\\\\\\\\\\\\\": \\\\\\\\\\\\\\\"training_hours\\\\\\\\\\\\\\\"}}, \\\\\\\\\\\\\\\"typeProperty\\\\\\\\\\\\\\\": 2}, {\\\\\\\\\\\\\\\"column\\\\\\\\\\\\\\\": {\\\\\\\\\\\\\\\"type\\\\\\\\\\\\\\\": 2, \\\\\\\\\\\\\\\"details\\\\\\\\\\\\\\\": {\\\\\\\\\\\\\\\"selectedColumn\\\\\\\\\\\\\\\": \\\\\\\\\\\\\\\"target\\\\\\\\\\\\\\\"}}, \\\\\\\\\\\\\\\"typeProperty\\\\\\\\\\\\\\\": 3}]}, \\\\\\\\\\\\\\\"localData\\\\\\\\\\\\\\\": {}, \\\\\\\\\\\\\\\"isEnabled\\\\\\\\\\\\\\\": true, \\\\\\\\\\\\\\\"name\\\\\\\\\\\\\\\": null, \\\\\\\\\\\\\\\"annotation\\\\\\\\\\\\\\\": null}], \\\\\\\\\\\\\\\"inspectors\\\\\\\\\\\\\\\": [], \\\\\\\\\\\\\\\"meta\\\\\\\\\\\\\\\": {\\\\\\\\\\\\\\\"savedDatasetId\\\\\\\\\\\\\\\": \\\\\\\\\\\\\\\"e098c5a6-073e-4b90-bb42-8f3e723b5b25\\\\\\\\\\\\\\\", \\\\\\\\\\\\\\\"datasetType\\\\\\\\\\\\\\\": \\\\\\\\\\\\\\\"tabular\\\\\\\\\\\\\\\", \\\\\\\\\\\\\\\"subscriptionId\\\\\\\\\\\\\\\": \\\\\\\\\\\\\\\"610d6e37-4747-4a20-80eb-3aad70a55f43\\\\\\\\\\\\\\\", \\\\\\\\\\\\\\\"workspaceId\\\\\\\\\\\\\\\": \\\\\\\\\\\\\\\"7526c0db-a06c-4e0e-975f-b3ef7fffc869\\\\\\\\\\\\\\\", \\\\\\\\\\\\\\\"workspaceLocation\\\\\\\\\\\\\\\": \\\\\\\\\\\\\\\"southcentralus\\\\\\\\\\\\\\\"}}\\\\\\\", \\\\\\\"activities\\\\\\\": 0}\", \"EnableSubsampling\": null, \"runTemplate\": \"AutoML\", \"azureml.runsource\": \"automl\", \"display_task_type\": \"classification\", \"dependencies_versions\": \"{\\\"azureml-widgets\\\": \\\"1.20.0\\\", \\\"azureml-train\\\": \\\"1.20.0\\\", \\\"azureml-train-restclients-hyperdrive\\\": \\\"1.20.0\\\", \\\"azureml-train-core\\\": \\\"1.20.0\\\", \\\"azureml-train-automl\\\": \\\"1.20.0\\\", \\\"azureml-train-automl-runtime\\\": \\\"1.20.0\\\", \\\"azureml-train-automl-client\\\": \\\"1.20.0\\\", \\\"azureml-tensorboard\\\": \\\"1.20.0\\\", \\\"azureml-telemetry\\\": \\\"1.20.0\\\", \\\"azureml-sdk\\\": \\\"1.20.0\\\", \\\"azureml-samples\\\": \\\"0+unknown\\\", \\\"azureml-pipeline\\\": \\\"1.20.0\\\", \\\"azureml-pipeline-steps\\\": \\\"1.20.0\\\", \\\"azureml-pipeline-core\\\": \\\"1.20.0\\\", \\\"azureml-opendatasets\\\": \\\"1.20.0\\\", \\\"azureml-model-management-sdk\\\": \\\"1.0.1b6.post1\\\", \\\"azureml-mlflow\\\": \\\"1.20.0.post1\\\", \\\"azureml-interpret\\\": \\\"1.20.0\\\", \\\"azureml-explain-model\\\": \\\"1.20.0\\\", \\\"azureml-defaults\\\": \\\"1.20.0\\\", \\\"azureml-dataset-runtime\\\": \\\"1.20.0\\\", \\\"azureml-dataprep\\\": \\\"2.7.3\\\", \\\"azureml-dataprep-rslex\\\": \\\"1.5.0\\\", \\\"azureml-dataprep-native\\\": \\\"27.0.0\\\", \\\"azureml-datadrift\\\": \\\"1.20.0\\\", \\\"azureml-core\\\": \\\"1.20.0\\\", \\\"azureml-contrib-services\\\": \\\"1.20.0\\\", \\\"azureml-contrib-server\\\": \\\"1.20.0\\\", \\\"azureml-contrib-reinforcementlearning\\\": \\\"1.20.0\\\", \\\"azureml-contrib-pipeline-steps\\\": \\\"1.20.0\\\", \\\"azureml-contrib-notebook\\\": \\\"1.20.0\\\", \\\"azureml-contrib-interpret\\\": \\\"1.20.0\\\", \\\"azureml-contrib-gbdt\\\": \\\"1.20.0\\\", \\\"azureml-contrib-fairness\\\": \\\"1.20.0\\\", \\\"azureml-contrib-dataset\\\": \\\"1.20.0\\\", \\\"azureml-cli-common\\\": \\\"1.20.0\\\", \\\"azureml-automl-runtime\\\": \\\"1.20.0\\\", \\\"azureml-automl-core\\\": \\\"1.20.0\\\", \\\"azureml-accel-models\\\": \\\"1.20.0\\\"}\", \"_aml_system_scenario_identification\": \"Remote.Parent\", \"ClientType\": \"SDK\", \"environment_cpu_name\": \"AzureML-AutoML\", \"environment_cpu_label\": \"prod\", \"environment_gpu_name\": \"AzureML-AutoML-GPU\", \"environment_gpu_label\": \"prod\", \"root_attribution\": \"automl\", \"attribution\": \"AutoML\", \"Orchestrator\": \"AutoML\", \"CancelUri\": \"https://southcentralus.experiments.azureml.net/jasmine/v1.0/subscriptions/610d6e37-4747-4a20-80eb-3aad70a55f43/resourceGroups/aml-quickstarts-136529/providers/Microsoft.MachineLearningServices/workspaces/quick-starts-ws-136529/experimentids/ddb4341f-cead-493d-9d06-d520871de155/cancel/AutoML_ac80c775-a318-450a-be96-6a83a1daccd1\", \"ClientSdkVersion\": \"1.20.0.post1\", \"snapshotId\": \"00000000-0000-0000-0000-000000000000\", \"SetupRunId\": \"AutoML_ac80c775-a318-450a-be96-6a83a1daccd1_setup\", \"SetupRunContainerId\": \"dcid.AutoML_ac80c775-a318-450a-be96-6a83a1daccd1_setup\", \"FeaturizationRunJsonPath\": \"featurizer_container.json\", \"FeaturizationRunId\": \"AutoML_ac80c775-a318-450a-be96-6a83a1daccd1_featurize\", \"ProblemInfoJsonString\": \"{\\\"dataset_num_categorical\\\": 0, \\\"is_sparse\\\": true, \\\"subsampling\\\": false, \\\"dataset_classes\\\": 2, \\\"dataset_features\\\": 194, \\\"dataset_samples\\\": 19158, \\\"single_frequency_class_detected\\\": false}\", \"ModelExplainRunId\": \"AutoML_ac80c775-a318-450a-be96-6a83a1daccd1_ModelExplain\"}, \"tags\": {\"model_explain_run\": \"best_run\", \"_aml_system_azureml.automlComponent\": \"AutoML\", \"pipeline_id\": \"\", \"score\": \"\", \"predicted_cost\": \"\", \"fit_time\": \"\", \"training_percent\": \"\", \"iteration\": \"\", \"run_preprocessor\": \"\", \"run_algorithm\": \"\", \"dynamic_whitelisting_iterations\": \"<25>;<30>;<35>;\", \"automl_best_child_run_id\": \"AutoML_ac80c775-a318-450a-be96-6a83a1daccd1_36\", \"model_explain_best_run_child_id\": \"AutoML_ac80c775-a318-450a-be96-6a83a1daccd1_36\"}, \"end_time_utc\": \"2021-01-29T21:50:56.800505Z\", \"status\": \"Completed\", \"log_files\": {}, \"log_groups\": [], \"run_duration\": \"0:28:02\"}, \"child_runs\": [{\"run_id\": \"AutoML_ac80c775-a318-450a-be96-6a83a1daccd1_0\", \"run_number\": 17, \"metric\": null, \"status\": \"Completed\", \"run_type\": \"azureml.scriptrun\", \"training_percent\": \"100\", \"start_time\": \"2021-01-29T21:34:50.70965Z\", \"end_time\": \"2021-01-29T21:35:53.711838Z\", \"created_time\": \"2021-01-29T21:33:52.166679Z\", \"created_time_dt\": \"2021-01-29T21:33:52.166679Z\", \"duration\": \"0:02:01\", \"iteration\": \"0\", \"goal\": \"accuracy_max\", \"run_name\": \"MaxAbsScaler, LightGBM\", \"run_properties\": \"copy=True\", \"primary_metric\": 0.79596004, \"best_metric\": 0.79596004}, {\"run_id\": \"AutoML_ac80c775-a318-450a-be96-6a83a1daccd1_3\", \"run_number\": 18, \"metric\": null, \"status\": \"Completed\", \"run_type\": \"azureml.scriptrun\", \"training_percent\": \"100\", \"start_time\": \"2021-01-29T21:35:09.732678Z\", \"end_time\": \"2021-01-29T21:36:04.084059Z\", \"created_time\": \"2021-01-29T21:33:52.18873Z\", \"created_time_dt\": \"2021-01-29T21:33:52.18873Z\", \"duration\": \"0:02:11\", \"iteration\": \"3\", \"goal\": \"accuracy_max\", \"run_name\": \"MaxAbsScaler, RandomForest\", \"run_properties\": \"copy=True\", \"primary_metric\": 0.75044334, \"best_metric\": 0.79596004}, {\"run_id\": \"AutoML_ac80c775-a318-450a-be96-6a83a1daccd1_2\", \"run_number\": 19, \"metric\": null, \"status\": \"Completed\", \"run_type\": \"azureml.scriptrun\", \"training_percent\": \"100\", \"start_time\": \"2021-01-29T21:34:01.88805Z\", \"end_time\": \"2021-01-29T21:34:47.66331Z\", \"created_time\": \"2021-01-29T21:33:52.224175Z\", \"created_time_dt\": \"2021-01-29T21:33:52.224175Z\", \"duration\": \"0:00:55\", \"iteration\": \"2\", \"goal\": \"accuracy_max\", \"run_name\": \"MaxAbsScaler, RandomForest\", \"run_properties\": \"copy=True\", \"primary_metric\": 0.75858632, \"best_metric\": 0.79596004}, {\"run_id\": \"AutoML_ac80c775-a318-450a-be96-6a83a1daccd1_1\", \"run_number\": 20, \"metric\": null, \"status\": \"Completed\", \"run_type\": \"azureml.scriptrun\", \"training_percent\": \"100\", \"start_time\": \"2021-01-29T21:34:49.474195Z\", \"end_time\": \"2021-01-29T21:36:00.171041Z\", \"created_time\": \"2021-01-29T21:33:52.474018Z\", \"created_time_dt\": \"2021-01-29T21:33:52.474018Z\", \"duration\": \"0:02:07\", \"iteration\": \"1\", \"goal\": \"accuracy_max\", \"run_name\": \"MaxAbsScaler, XGBoostClassifier\", \"run_properties\": \"copy=True\", \"primary_metric\": 0.79408103, \"best_metric\": 0.79596004}, {\"run_id\": \"AutoML_ac80c775-a318-450a-be96-6a83a1daccd1_4\", \"run_number\": 22, \"metric\": null, \"status\": \"Completed\", \"run_type\": \"azureml.scriptrun\", \"training_percent\": \"100\", \"start_time\": \"2021-01-29T21:35:09.443009Z\", \"end_time\": \"2021-01-29T21:36:12.646266Z\", \"created_time\": \"2021-01-29T21:34:51.515532Z\", \"created_time_dt\": \"2021-01-29T21:34:51.515532Z\", \"duration\": \"0:01:21\", \"iteration\": \"4\", \"goal\": \"accuracy_max\", \"run_name\": \"MaxAbsScaler, RandomForest\", \"run_properties\": \"copy=True\", \"primary_metric\": 0.73290716, \"best_metric\": 0.79596004}, {\"run_id\": \"AutoML_ac80c775-a318-450a-be96-6a83a1daccd1_5\", \"run_number\": 26, \"metric\": null, \"status\": \"Completed\", \"run_type\": \"azureml.scriptrun\", \"training_percent\": \"100\", \"start_time\": \"2021-01-29T21:36:15.073208Z\", \"end_time\": \"2021-01-29T21:37:11.493583Z\", \"created_time\": \"2021-01-29T21:35:56.560803Z\", \"created_time_dt\": \"2021-01-29T21:35:56.560803Z\", \"duration\": \"0:01:14\", \"iteration\": \"5\", \"goal\": \"accuracy_max\", \"run_name\": \"MaxAbsScaler, RandomForest\", \"run_properties\": \"copy=True\", \"primary_metric\": 0.725389, \"best_metric\": 0.79596004}, {\"run_id\": \"AutoML_ac80c775-a318-450a-be96-6a83a1daccd1_6\", \"run_number\": 27, \"metric\": null, \"status\": \"Completed\", \"run_type\": \"azureml.scriptrun\", \"training_percent\": \"100\", \"start_time\": \"2021-01-29T21:36:22.319186Z\", \"end_time\": \"2021-01-29T21:37:20.186804Z\", \"created_time\": \"2021-01-29T21:36:03.217599Z\", \"created_time_dt\": \"2021-01-29T21:36:03.217599Z\", \"duration\": \"0:01:16\", \"iteration\": \"6\", \"goal\": \"accuracy_max\", \"run_name\": \"StandardScalerWrapper, XGBoostClassifier\", \"run_properties\": \"<azureml.automl.runtime.shared.model_wrappers.StandardScalerWrapper object at 0x7f038b2adb00\", \"primary_metric\": 0.79298472, \"best_metric\": 0.79596004}, {\"run_id\": \"AutoML_ac80c775-a318-450a-be96-6a83a1daccd1_7\", \"run_number\": 28, \"metric\": null, \"status\": \"Completed\", \"run_type\": \"azureml.scriptrun\", \"training_percent\": \"100\", \"start_time\": \"2021-01-29T21:36:55.750806Z\", \"end_time\": \"2021-01-29T21:38:06.834965Z\", \"created_time\": \"2021-01-29T21:36:08.671867Z\", \"created_time_dt\": \"2021-01-29T21:36:08.671867Z\", \"duration\": \"0:01:58\", \"iteration\": \"7\", \"goal\": \"accuracy_max\", \"run_name\": \"SparseNormalizer, XGBoostClassifier\", \"run_properties\": \"<azureml.automl.runtime.shared.model_wrappers.SparseNormalizer object at 0x7f5bb5654c50\", \"primary_metric\": 0.78792132, \"best_metric\": 0.79596004}, {\"run_id\": \"AutoML_ac80c775-a318-450a-be96-6a83a1daccd1_8\", \"run_number\": 29, \"metric\": null, \"status\": \"Completed\", \"run_type\": \"azureml.scriptrun\", \"training_percent\": \"100\", \"start_time\": \"2021-01-29T21:37:02.289769Z\", \"end_time\": \"2021-01-29T21:38:07.06657Z\", \"created_time\": \"2021-01-29T21:36:15.107198Z\", \"created_time_dt\": \"2021-01-29T21:36:15.107198Z\", \"duration\": \"0:01:51\", \"iteration\": \"8\", \"goal\": \"accuracy_max\", \"run_name\": \"SparseNormalizer, XGBoostClassifier\", \"run_properties\": \"<azureml.automl.runtime.shared.model_wrappers.SparseNormalizer object at 0x7f4e40209d68\", \"primary_metric\": 0.78552066, \"best_metric\": 0.79596004}, {\"run_id\": \"AutoML_ac80c775-a318-450a-be96-6a83a1daccd1_9\", \"run_number\": 34, \"metric\": null, \"status\": \"Completed\", \"run_type\": \"azureml.scriptrun\", \"training_percent\": \"100\", \"start_time\": \"2021-01-29T21:38:07.833016Z\", \"end_time\": \"2021-01-29T21:39:25.784951Z\", \"created_time\": \"2021-01-29T21:37:13.354797Z\", \"created_time_dt\": \"2021-01-29T21:37:13.354797Z\", \"duration\": \"0:02:12\", \"iteration\": \"9\", \"goal\": \"accuracy_max\", \"run_name\": \"SparseNormalizer, XGBoostClassifier\", \"run_properties\": \"<azureml.automl.runtime.shared.model_wrappers.SparseNormalizer object at 0x7f7f789999b0\", \"primary_metric\": 0.78792159, \"best_metric\": 0.79596004}, {\"run_id\": \"AutoML_ac80c775-a318-450a-be96-6a83a1daccd1_10\", \"run_number\": 35, \"metric\": null, \"status\": \"Completed\", \"run_type\": \"azureml.scriptrun\", \"training_percent\": \"100\", \"start_time\": \"2021-01-29T21:38:11.466057Z\", \"end_time\": \"2021-01-29T21:40:24.97075Z\", \"created_time\": \"2021-01-29T21:37:22.433382Z\", \"created_time_dt\": \"2021-01-29T21:37:22.433382Z\", \"duration\": \"0:03:02\", \"iteration\": \"10\", \"goal\": \"accuracy_max\", \"run_name\": \"SparseNormalizer, XGBoostClassifier\", \"run_properties\": \"<azureml.automl.runtime.shared.model_wrappers.SparseNormalizer object at 0x7fd57be47198\", \"primary_metric\": 0.78531125, \"best_metric\": 0.79596004}, {\"run_id\": \"AutoML_ac80c775-a318-450a-be96-6a83a1daccd1_11\", \"run_number\": 37, \"metric\": null, \"status\": \"Completed\", \"run_type\": \"azureml.scriptrun\", \"training_percent\": \"100\", \"start_time\": \"2021-01-29T21:39:05.425702Z\", \"end_time\": \"2021-01-29T21:40:00.463529Z\", \"created_time\": \"2021-01-29T21:38:09.763298Z\", \"created_time_dt\": \"2021-01-29T21:38:09.763298Z\", \"duration\": \"0:01:50\", \"iteration\": \"11\", \"goal\": \"accuracy_max\", \"run_name\": \"SparseNormalizer, XGBoostClassifier\", \"run_properties\": \"<azureml.automl.runtime.shared.model_wrappers.SparseNormalizer object at 0x7f4fcfdab9b0\", \"primary_metric\": 0.76041309, \"best_metric\": 0.79596004}, {\"run_id\": \"AutoML_ac80c775-a318-450a-be96-6a83a1daccd1_12\", \"run_number\": 38, \"metric\": null, \"status\": \"Completed\", \"run_type\": \"azureml.scriptrun\", \"training_percent\": \"100\", \"start_time\": \"2021-01-29T21:38:19.723213Z\", \"end_time\": \"2021-01-29T21:39:07.022868Z\", \"created_time\": \"2021-01-29T21:38:09.789768Z\", \"created_time_dt\": \"2021-01-29T21:38:09.789768Z\", \"duration\": \"0:00:57\", \"iteration\": \"12\", \"goal\": \"accuracy_max\", \"run_name\": \"StandardScalerWrapper, RandomForest\", \"run_properties\": \"<azureml.automl.runtime.shared.model_wrappers.StandardScalerWrapper object at 0x7fafa652c7b8\", \"primary_metric\": 0.77654221, \"best_metric\": 0.79596004}, {\"run_id\": \"AutoML_ac80c775-a318-450a-be96-6a83a1daccd1_13\", \"run_number\": 42, \"metric\": null, \"status\": \"Completed\", \"run_type\": \"azureml.scriptrun\", \"training_percent\": \"100\", \"start_time\": \"2021-01-29T21:40:05.229554Z\", \"end_time\": \"2021-01-29T21:41:01.126413Z\", \"created_time\": \"2021-01-29T21:39:09.387958Z\", \"created_time_dt\": \"2021-01-29T21:39:09.387958Z\", \"duration\": \"0:01:51\", \"iteration\": \"13\", \"goal\": \"accuracy_max\", \"run_name\": \"MaxAbsScaler, LightGBM\", \"run_properties\": \"copy=True\", \"primary_metric\": 0.76208336, \"best_metric\": 0.79596004}, {\"run_id\": \"AutoML_ac80c775-a318-450a-be96-6a83a1daccd1_14\", \"run_number\": 44, \"metric\": null, \"status\": \"Completed\", \"run_type\": \"azureml.scriptrun\", \"training_percent\": \"100\", \"start_time\": \"2021-01-29T21:40:27.484508Z\", \"end_time\": \"2021-01-29T21:41:27.88081Z\", \"created_time\": \"2021-01-29T21:39:27.929195Z\", \"created_time_dt\": \"2021-01-29T21:39:27.929195Z\", \"duration\": \"0:01:59\", \"iteration\": \"14\", \"goal\": \"accuracy_max\", \"run_name\": \"SparseNormalizer, LightGBM\", \"run_properties\": \"<azureml.automl.runtime.shared.model_wrappers.SparseNormalizer object at 0x7f65b77c1358\", \"primary_metric\": 0.77549832, \"best_metric\": 0.79596004}, {\"run_id\": \"AutoML_ac80c775-a318-450a-be96-6a83a1daccd1_15\", \"run_number\": 45, \"metric\": null, \"status\": \"Completed\", \"run_type\": \"azureml.scriptrun\", \"training_percent\": \"100\", \"start_time\": \"2021-01-29T21:40:30.546354Z\", \"end_time\": \"2021-01-29T21:41:25.0201Z\", \"created_time\": \"2021-01-29T21:40:02.524682Z\", \"created_time_dt\": \"2021-01-29T21:40:02.524682Z\", \"duration\": \"0:01:22\", \"iteration\": \"15\", \"goal\": \"accuracy_max\", \"run_name\": \"MaxAbsScaler, LightGBM\", \"run_properties\": \"copy=True\", \"primary_metric\": 0.76417147, \"best_metric\": 0.79596004}, {\"run_id\": \"AutoML_ac80c775-a318-450a-be96-6a83a1daccd1_16\", \"run_number\": 47, \"metric\": null, \"status\": \"Completed\", \"run_type\": \"azureml.scriptrun\", \"training_percent\": \"100\", \"start_time\": \"2021-01-29T21:41:03.610309Z\", \"end_time\": \"2021-01-29T21:42:00.822254Z\", \"created_time\": \"2021-01-29T21:40:26.866634Z\", \"created_time_dt\": \"2021-01-29T21:40:26.866634Z\", \"duration\": \"0:01:33\", \"iteration\": \"16\", \"goal\": \"accuracy_max\", \"run_name\": \"SparseNormalizer, XGBoostClassifier\", \"run_properties\": \"<azureml.automl.runtime.shared.model_wrappers.SparseNormalizer object at 0x7f7f56534668\", \"primary_metric\": 0.78233641, \"best_metric\": 0.79596004}, {\"run_id\": \"AutoML_ac80c775-a318-450a-be96-6a83a1daccd1_17\", \"run_number\": 50, \"metric\": null, \"status\": \"Completed\", \"run_type\": \"azureml.scriptrun\", \"training_percent\": \"100\", \"start_time\": \"2021-01-29T21:41:31.277557Z\", \"end_time\": \"2021-01-29T21:42:32.783006Z\", \"created_time\": \"2021-01-29T21:41:02.808161Z\", \"created_time_dt\": \"2021-01-29T21:41:02.808161Z\", \"duration\": \"0:01:29\", \"iteration\": \"17\", \"goal\": \"accuracy_max\", \"run_name\": \"MaxAbsScaler, LightGBM\", \"run_properties\": \"copy=True\", \"primary_metric\": 0.75879501, \"best_metric\": 0.79596004}, {\"run_id\": \"AutoML_ac80c775-a318-450a-be96-6a83a1daccd1_18\", \"run_number\": 52, \"metric\": null, \"status\": \"Completed\", \"run_type\": \"azureml.scriptrun\", \"training_percent\": \"100\", \"start_time\": \"2021-01-29T21:42:06.579027Z\", \"end_time\": \"2021-01-29T21:43:00.422997Z\", \"created_time\": \"2021-01-29T21:41:27.189991Z\", \"created_time_dt\": \"2021-01-29T21:41:27.189991Z\", \"duration\": \"0:01:33\", \"iteration\": \"18\", \"goal\": \"accuracy_max\", \"run_name\": \"StandardScalerWrapper, LightGBM\", \"run_properties\": \"<azureml.automl.runtime.shared.model_wrappers.StandardScalerWrapper object at 0x7ff8bad8c668\", \"primary_metric\": 0.76923442, \"best_metric\": 0.79596004}, {\"run_id\": \"AutoML_ac80c775-a318-450a-be96-6a83a1daccd1_19\", \"run_number\": 53, \"metric\": null, \"status\": \"Completed\", \"run_type\": \"azureml.scriptrun\", \"training_percent\": \"100\", \"start_time\": \"2021-01-29T21:42:26.552768Z\", \"end_time\": \"2021-01-29T21:43:26.627059Z\", \"created_time\": \"2021-01-29T21:41:31.211445Z\", \"created_time_dt\": \"2021-01-29T21:41:31.211445Z\", \"duration\": \"0:01:55\", \"iteration\": \"19\", \"goal\": \"accuracy_max\", \"run_name\": \"StandardScalerWrapper, GradientBoosting\", \"run_properties\": \"<azureml.automl.runtime.shared.model_wrappers.StandardScalerWrapper object at 0x7f0e7859fcf8\", \"primary_metric\": 0.77946551, \"best_metric\": 0.79596004}, {\"run_id\": \"AutoML_ac80c775-a318-450a-be96-6a83a1daccd1_20\", \"run_number\": 55, \"metric\": null, \"status\": \"Completed\", \"run_type\": \"azureml.scriptrun\", \"training_percent\": \"100\", \"start_time\": \"2021-01-29T21:42:37.612681Z\", \"end_time\": \"2021-01-29T21:43:37.465727Z\", \"created_time\": \"2021-01-29T21:42:02.663519Z\", \"created_time_dt\": \"2021-01-29T21:42:02.663519Z\", \"duration\": \"0:01:34\", \"iteration\": \"20\", \"goal\": \"accuracy_max\", \"run_name\": \"SparseNormalizer, GradientBoosting\", \"run_properties\": \"<azureml.automl.runtime.shared.model_wrappers.SparseNormalizer object at 0x7fe71515b748\", \"primary_metric\": 0.7586385, \"best_metric\": 0.79596004}, {\"run_id\": \"AutoML_ac80c775-a318-450a-be96-6a83a1daccd1_21\", \"run_number\": 58, \"metric\": null, \"status\": \"Completed\", \"run_type\": \"azureml.scriptrun\", \"training_percent\": \"100\", \"start_time\": \"2021-01-29T21:43:30.217544Z\", \"end_time\": \"2021-01-29T21:44:22.818256Z\", \"created_time\": \"2021-01-29T21:42:34.704524Z\", \"created_time_dt\": \"2021-01-29T21:42:34.704524Z\", \"duration\": \"0:01:48\", \"iteration\": \"21\", \"goal\": \"accuracy_max\", \"run_name\": \"MaxAbsScaler, LightGBM\", \"run_properties\": \"copy=True\", \"primary_metric\": 0.77534183, \"best_metric\": 0.79596004}, {\"run_id\": \"AutoML_ac80c775-a318-450a-be96-6a83a1daccd1_22\", \"run_number\": 60, \"metric\": null, \"status\": \"Completed\", \"run_type\": \"azureml.scriptrun\", \"training_percent\": \"100\", \"start_time\": \"2021-01-29T21:43:41.527924Z\", \"end_time\": \"2021-01-29T21:44:53.768202Z\", \"created_time\": \"2021-01-29T21:43:02.463279Z\", \"created_time_dt\": \"2021-01-29T21:43:02.463279Z\", \"duration\": \"0:01:51\", \"iteration\": \"22\", \"goal\": \"accuracy_max\", \"run_name\": \"StandardScalerWrapper, LogisticRegression\", \"run_properties\": \"<azureml.automl.runtime.shared.model_wrappers.StandardScalerWrapper object at 0x7f6484e6ad30\", \"primary_metric\": 0.78160567, \"best_metric\": 0.79596004}, {\"run_id\": \"AutoML_ac80c775-a318-450a-be96-6a83a1daccd1_23\", \"run_number\": 61, \"metric\": null, \"status\": \"Completed\", \"run_type\": \"azureml.scriptrun\", \"training_percent\": \"100\", \"start_time\": \"2021-01-29T21:43:43.091292Z\", \"end_time\": \"2021-01-29T21:44:37.896072Z\", \"created_time\": \"2021-01-29T21:43:28.904262Z\", \"created_time_dt\": \"2021-01-29T21:43:28.904262Z\", \"duration\": \"0:01:08\", \"iteration\": \"23\", \"goal\": \"accuracy_max\", \"run_name\": \"StandardScalerWrapper, LogisticRegression\", \"run_properties\": \"<azureml.automl.runtime.shared.model_wrappers.StandardScalerWrapper object at 0x7f28b56ebeb8\", \"primary_metric\": 0.71719323, \"best_metric\": 0.79596004}, {\"run_id\": \"AutoML_ac80c775-a318-450a-be96-6a83a1daccd1_24\", \"run_number\": 63, \"metric\": null, \"status\": \"Completed\", \"run_type\": \"azureml.scriptrun\", \"training_percent\": \"100\", \"start_time\": \"2021-01-29T21:44:28.223204Z\", \"end_time\": \"2021-01-29T21:45:22.118336Z\", \"created_time\": \"2021-01-29T21:43:40.711206Z\", \"created_time_dt\": \"2021-01-29T21:43:40.711206Z\", \"duration\": \"0:01:41\", \"iteration\": \"24\", \"goal\": \"accuracy_max\", \"run_name\": \"StandardScalerWrapper, LogisticRegression\", \"run_properties\": \"<azureml.automl.runtime.shared.model_wrappers.StandardScalerWrapper object at 0x7fac025c9470\", \"primary_metric\": 0.75994269, \"best_metric\": 0.79596004}, {\"run_id\": \"AutoML_ac80c775-a318-450a-be96-6a83a1daccd1_25\", \"run_number\": 66, \"metric\": null, \"status\": \"Completed\", \"run_type\": \"azureml.scriptrun\", \"training_percent\": \"100\", \"start_time\": \"2021-01-29T21:44:57.1473Z\", \"end_time\": \"2021-01-29T21:45:52.51241Z\", \"created_time\": \"2021-01-29T21:44:25.960977Z\", \"created_time_dt\": \"2021-01-29T21:44:25.960977Z\", \"duration\": \"0:01:26\", \"iteration\": \"25\", \"goal\": \"accuracy_max\", \"run_name\": \"MaxAbsScaler, LightGBM\", \"run_properties\": \"copy=True\", \"primary_metric\": 0.75065216, \"best_metric\": 0.79596004}, {\"run_id\": \"AutoML_ac80c775-a318-450a-be96-6a83a1daccd1_26\", \"run_number\": 68, \"metric\": null, \"status\": \"Completed\", \"run_type\": \"azureml.scriptrun\", \"training_percent\": \"100\", \"start_time\": \"2021-01-29T21:45:25.381248Z\", \"end_time\": \"2021-01-29T21:46:29.96603Z\", \"created_time\": \"2021-01-29T21:44:40.764183Z\", \"created_time_dt\": \"2021-01-29T21:44:40.764183Z\", \"duration\": \"0:01:49\", \"iteration\": \"26\", \"goal\": \"accuracy_max\", \"run_name\": \"SparseNormalizer, LightGBM\", \"run_properties\": \"<azureml.automl.runtime.shared.model_wrappers.SparseNormalizer object at 0x7fa65855cfd0\", \"primary_metric\": 0.77628155, \"best_metric\": 0.79596004}, {\"run_id\": \"AutoML_ac80c775-a318-450a-be96-6a83a1daccd1_27\", \"run_number\": 69, \"metric\": null, \"status\": \"Completed\", \"run_type\": \"azureml.scriptrun\", \"training_percent\": \"100\", \"start_time\": \"2021-01-29T21:45:34.344169Z\", \"end_time\": \"2021-01-29T21:46:50.210583Z\", \"created_time\": \"2021-01-29T21:44:56.970417Z\", \"created_time_dt\": \"2021-01-29T21:44:56.970417Z\", \"duration\": \"0:01:53\", \"iteration\": \"27\", \"goal\": \"accuracy_max\", \"run_name\": \"MaxAbsScaler, GradientBoosting\", \"run_properties\": \"copy=True\", \"primary_metric\": 0.75884708, \"best_metric\": 0.79596004}, {\"run_id\": \"AutoML_ac80c775-a318-450a-be96-6a83a1daccd1_28\", \"run_number\": 71, \"metric\": null, \"status\": \"Completed\", \"run_type\": \"azureml.scriptrun\", \"training_percent\": \"100\", \"start_time\": \"2021-01-29T21:46:19.913434Z\", \"end_time\": \"2021-01-29T21:48:00.75607Z\", \"created_time\": \"2021-01-29T21:45:25.212495Z\", \"created_time_dt\": \"2021-01-29T21:45:25.212495Z\", \"duration\": \"0:02:35\", \"iteration\": \"28\", \"goal\": \"accuracy_max\", \"run_name\": \"MaxAbsScaler, ExtremeRandomTrees\", \"run_properties\": \"copy=True\", \"primary_metric\": 0.78066632, \"best_metric\": 0.79596004}, {\"run_id\": \"AutoML_ac80c775-a318-450a-be96-6a83a1daccd1_29\", \"run_number\": 73, \"metric\": null, \"status\": \"Completed\", \"run_type\": \"azureml.scriptrun\", \"training_percent\": \"100\", \"start_time\": \"2021-01-29T21:46:32.381462Z\", \"end_time\": \"2021-01-29T21:47:41.119882Z\", \"created_time\": \"2021-01-29T21:45:53.973599Z\", \"created_time_dt\": \"2021-01-29T21:45:53.973599Z\", \"duration\": \"0:01:47\", \"iteration\": \"29\", \"goal\": \"accuracy_max\", \"run_name\": \"MaxAbsScaler, LightGBM\", \"run_properties\": \"copy=True\", \"primary_metric\": 0.79089699, \"best_metric\": 0.79596004}, {\"run_id\": \"AutoML_ac80c775-a318-450a-be96-6a83a1daccd1_30\", \"run_number\": 75, \"metric\": null, \"status\": \"Completed\", \"run_type\": \"azureml.scriptrun\", \"training_percent\": \"100\", \"start_time\": \"2021-01-29T21:46:43.788846Z\", \"end_time\": \"2021-01-29T21:47:33.035114Z\", \"created_time\": \"2021-01-29T21:46:32.263883Z\", \"created_time_dt\": \"2021-01-29T21:46:32.263883Z\", \"duration\": \"0:01:00\", \"iteration\": \"30\", \"goal\": \"accuracy_max\", \"run_name\": \"MaxAbsScaler, LightGBM\", \"run_properties\": \"copy=True\", \"primary_metric\": 0.7620836, \"best_metric\": 0.79596004}, {\"run_id\": \"AutoML_ac80c775-a318-450a-be96-6a83a1daccd1_31\", \"run_number\": 78, \"metric\": null, \"status\": \"Completed\", \"run_type\": \"azureml.scriptrun\", \"training_percent\": \"100\", \"start_time\": \"2021-01-29T21:47:35.612172Z\", \"end_time\": \"2021-01-29T21:48:30.933302Z\", \"created_time\": \"2021-01-29T21:46:51.683783Z\", \"created_time_dt\": \"2021-01-29T21:46:51.683783Z\", \"duration\": \"0:01:39\", \"iteration\": \"31\", \"goal\": \"accuracy_max\", \"run_name\": \"SparseNormalizer, XGBoostClassifier\", \"run_properties\": \"<azureml.automl.runtime.shared.model_wrappers.SparseNormalizer object at 0x7fe6b6325b70\", \"primary_metric\": 0.77716904, \"best_metric\": 0.79596004}, {\"run_id\": \"AutoML_ac80c775-a318-450a-be96-6a83a1daccd1_32\", \"run_number\": 79, \"metric\": null, \"status\": \"Completed\", \"run_type\": \"azureml.scriptrun\", \"training_percent\": \"100\", \"start_time\": \"2021-01-29T21:47:47.18149Z\", \"end_time\": \"2021-01-29T21:48:43.129564Z\", \"created_time\": \"2021-01-29T21:47:34.674259Z\", \"created_time_dt\": \"2021-01-29T21:47:34.674259Z\", \"duration\": \"0:01:08\", \"iteration\": \"32\", \"goal\": \"accuracy_max\", \"run_name\": \"MaxAbsScaler, LightGBM\", \"run_properties\": \"copy=True\", \"primary_metric\": 0.79533379, \"best_metric\": 0.79596004}, {\"run_id\": \"AutoML_ac80c775-a318-450a-be96-6a83a1daccd1_33\", \"run_number\": 80, \"metric\": null, \"status\": \"Canceled\", \"run_type\": \"azureml.scriptrun\", \"training_percent\": \"100\", \"start_time\": \"2021-01-29T21:48:05.720748Z\", \"end_time\": \"2021-01-29T21:48:50.238214Z\", \"created_time\": \"2021-01-29T21:47:42.653855Z\", \"created_time_dt\": \"2021-01-29T21:47:42.653855Z\", \"duration\": \"0:01:07\", \"iteration\": \"33\", \"goal\": \"accuracy_max\", \"run_name\": \"StandardScalerWrapper, LightGBM\", \"run_properties\": \"<azureml.automl.runtime.shared.model_wrappers.StandardScalerWrapper object at 0x7f9940905710\", \"primary_metric\": 0.7930372, \"best_metric\": 0.79596004}, {\"run_id\": \"AutoML_ac80c775-a318-450a-be96-6a83a1daccd1_34\", \"run_number\": 81, \"metric\": null, \"status\": \"Canceled\", \"run_type\": \"azureml.scriptrun\", \"training_percent\": \"100\", \"start_time\": \"2021-01-29T21:48:25.480509Z\", \"end_time\": \"2021-01-29T21:48:51.267344Z\", \"created_time\": \"2021-01-29T21:48:03.777345Z\", \"created_time_dt\": \"2021-01-29T21:48:03.777345Z\", \"duration\": \"0:00:47\", \"iteration\": \"34\", \"goal\": null, \"run_name\": \"StandardScalerWrapper, LightGBM\", \"run_properties\": null}, {\"run_id\": \"AutoML_ac80c775-a318-450a-be96-6a83a1daccd1_35\", \"run_number\": 82, \"metric\": null, \"status\": \"Canceled\", \"run_type\": \"azureml.scriptrun\", \"training_percent\": \"100\", \"start_time\": \"2021-01-29T21:48:43.935399Z\", \"end_time\": \"2021-01-29T21:48:51.218562Z\", \"created_time\": \"2021-01-29T21:48:33.589447Z\", \"created_time_dt\": \"2021-01-29T21:48:33.589447Z\", \"duration\": \"0:00:17\", \"iteration\": \"35\", \"goal\": null, \"run_name\": \"Canceled\", \"run_properties\": null}, {\"run_id\": \"AutoML_ac80c775-a318-450a-be96-6a83a1daccd1_36\", \"run_number\": 83, \"metric\": null, \"status\": \"Completed\", \"run_type\": \"azureml.scriptrun\", \"training_percent\": \"100\", \"start_time\": \"2021-01-29T21:49:05.215295Z\", \"end_time\": \"2021-01-29T21:50:47.8324Z\", \"created_time\": \"2021-01-29T21:48:52.088225Z\", \"created_time_dt\": \"2021-01-29T21:48:52.088225Z\", \"duration\": \"0:01:55\", \"iteration\": \"36\", \"goal\": \"accuracy_max\", \"run_name\": \"VotingEnsemble\", \"run_properties\": \"classification_labels=None,\\n                              estimators=[('0',\\n                                           Pipeline(memory=None,\\n                                                    steps=[('maxabsscaler',\\n                                                            MaxAbsScaler(copy=True\", \"primary_metric\": 0.79914436, \"best_metric\": 0.79914436}, {\"run_id\": \"AutoML_ac80c775-a318-450a-be96-6a83a1daccd1_37\", \"run_number\": 84, \"metric\": null, \"status\": \"Completed\", \"run_type\": \"azureml.scriptrun\", \"training_percent\": \"100\", \"start_time\": \"2021-01-29T21:49:01.803476Z\", \"end_time\": \"2021-01-29T21:50:50.457581Z\", \"created_time\": \"2021-01-29T21:48:52.155292Z\", \"created_time_dt\": \"2021-01-29T21:48:52.155292Z\", \"duration\": \"0:01:58\", \"iteration\": \"37\", \"goal\": \"accuracy_max\", \"run_name\": \"StackEnsemble\", \"run_properties\": \"base_learners=[('0',\\n                                        Pipeline(memory=None,\\n                                                 steps=[('maxabsscaler',\\n                                                         MaxAbsScaler(copy=True\", \"primary_metric\": 0.7950206, \"best_metric\": 0.79914436}], \"children_metrics\": {\"categories\": [0], \"series\": {\"recall_score_macro\": [{\"categories\": [\"0\", \"1\", \"2\", \"3\", \"4\", \"5\", \"6\", \"7\", \"8\", \"9\", \"10\", \"11\", \"12\", \"13\", \"14\", \"15\", \"16\", \"17\", \"18\", \"19\", \"20\", \"21\", \"22\", \"23\", \"24\", \"25\", \"26\", \"27\", \"28\", \"29\", \"30\", \"31\", \"32\", \"33\", \"36\", \"37\"], \"mode\": \"markers\", \"name\": \"recall_score_macro\", \"stepped\": false, \"type\": \"scatter\", \"data\": [0.724582261231103, 0.7085662678317278, 0.5379741983455131, 0.5000609933426644, 0.7352145039786192, 0.7382567085797215, 0.704389279725852, 0.681505407709982, 0.6871314336274125, 0.6872334548942538, 0.6796672577179307, 0.546815967046553, 0.6308477868352401, 0.5573258035108705, 0.6380595002068248, 0.5661933963799385, 0.6673535912861546, 0.5366076805686651, 0.5991844599687386, 0.6458444024773032, 0.5372574463059094, 0.6247126825724003, 0.6470080073751268, 0.7069996253580275, 0.5723496414348556, 0.5, 0.6276401730722737, 0.5380060112024945, 0.6606571275246647, 0.695431611665921, 0.5552200497268159, 0.6318094170598767, 0.7048379693351785, 0.6951885022865372, 0.7337403290968885, 0.7154823351159247]}, {\"categories\": [\"0\", \"1\", \"2\", \"3\", \"4\", \"5\", \"6\", \"7\", \"8\", \"9\", \"10\", \"11\", \"12\", \"13\", \"14\", \"15\", \"16\", \"17\", \"18\", \"19\", \"20\", \"21\", \"22\", \"23\", \"24\", \"25\", \"26\", \"27\", \"28\", \"29\", \"30\", \"31\", \"32\", \"33\", \"36\", \"37\"], \"mode\": \"lines\", \"name\": \"recall_score_macro_max\", \"stepped\": true, \"type\": \"scatter\", \"data\": [0.724582261231103, 0.724582261231103, 0.724582261231103, 0.724582261231103, 0.7352145039786192, 0.7382567085797215, 0.7382567085797215, 0.7382567085797215, 0.7382567085797215, 0.7382567085797215, 0.7382567085797215, 0.7382567085797215, 0.7382567085797215, 0.7382567085797215, 0.7382567085797215, 0.7382567085797215, 0.7382567085797215, 0.7382567085797215, 0.7382567085797215, 0.7382567085797215, 0.7382567085797215, 0.7382567085797215, 0.7382567085797215, 0.7382567085797215, 0.7382567085797215, 0.7382567085797215, 0.7382567085797215, 0.7382567085797215, 0.7382567085797215, 0.7382567085797215, 0.7382567085797215, 0.7382567085797215, 0.7382567085797215, 0.7382567085797215, 0.7382567085797215, 0.7382567085797215]}], \"f1_score_macro\": [{\"categories\": [\"0\", \"1\", \"2\", \"3\", \"4\", \"5\", \"6\", \"7\", \"8\", \"9\", \"10\", \"11\", \"12\", \"13\", \"14\", \"15\", \"16\", \"17\", \"18\", \"19\", \"20\", \"21\", \"22\", \"23\", \"24\", \"25\", \"26\", \"27\", \"28\", \"29\", \"30\", \"31\", \"32\", \"33\", \"36\", \"37\"], \"mode\": \"markers\", \"name\": \"f1_score_macro\", \"stepped\": false, \"type\": \"scatter\", \"data\": [0.7257892986452417, 0.7153148506864131, 0.5083806819158099, 0.4293037370251744, 0.6920280376046194, 0.6883725431439297, 0.7120478704107641, 0.6938340166958386, 0.6967617735652926, 0.6979924252066634, 0.6912447910104305, 0.5287399585111133, 0.6457613424773971, 0.5478847633401485, 0.6530462492088479, 0.5610772309930055, 0.6804781567947564, 0.5101809470329927, 0.6076055047454729, 0.6613841624211549, 0.5119830059658318, 0.6389813754682802, 0.6631854307156495, 0.6710339163632316, 0.5631701323789265, 0.42877895948114375, 0.6427363970342833, 0.5129236453890217, 0.6746043802112837, 0.7051952935790877, 0.5445134962787329, 0.6472266530900856, 0.7136602205129302, 0.7060701975177393, 0.73270710965071, 0.7198749145532554]}, {\"categories\": [\"0\", \"1\", \"2\", \"3\", \"4\", \"5\", \"6\", \"7\", \"8\", \"9\", \"10\", \"11\", \"12\", \"13\", \"14\", \"15\", \"16\", \"17\", \"18\", \"19\", \"20\", \"21\", \"22\", \"23\", \"24\", \"25\", \"26\", \"27\", \"28\", \"29\", \"30\", \"31\", \"32\", \"33\", \"36\", \"37\"], \"mode\": \"lines\", \"name\": \"f1_score_macro_max\", \"stepped\": true, \"type\": \"scatter\", \"data\": [0.7257892986452417, 0.7257892986452417, 0.7257892986452417, 0.7257892986452417, 0.7257892986452417, 0.7257892986452417, 0.7257892986452417, 0.7257892986452417, 0.7257892986452417, 0.7257892986452417, 0.7257892986452417, 0.7257892986452417, 0.7257892986452417, 0.7257892986452417, 0.7257892986452417, 0.7257892986452417, 0.7257892986452417, 0.7257892986452417, 0.7257892986452417, 0.7257892986452417, 0.7257892986452417, 0.7257892986452417, 0.7257892986452417, 0.7257892986452417, 0.7257892986452417, 0.7257892986452417, 0.7257892986452417, 0.7257892986452417, 0.7257892986452417, 0.7257892986452417, 0.7257892986452417, 0.7257892986452417, 0.7257892986452417, 0.7257892986452417, 0.73270710965071, 0.73270710965071]}], \"recall_score_weighted\": [{\"categories\": [\"0\", \"1\", \"2\", \"3\", \"4\", \"5\", \"6\", \"7\", \"8\", \"9\", \"10\", \"11\", \"12\", \"13\", \"14\", \"15\", \"16\", \"17\", \"18\", \"19\", \"20\", \"21\", \"22\", \"23\", \"24\", \"25\", \"26\", \"27\", \"28\", \"29\", \"30\", \"31\", \"32\", \"33\", \"36\", \"37\"], \"mode\": \"markers\", \"name\": \"recall_score_weighted\", \"stepped\": false, \"type\": \"scatter\", \"data\": [0.7959600397591562, 0.794081029988845, 0.7585863238529325, 0.75044333966014, 0.7329071594273505, 0.7253889950622572, 0.792984724113634, 0.7879213170874456, 0.785520659121364, 0.7879215895597339, 0.7853112505442634, 0.7604130870619803, 0.77654220677486, 0.7620833558122971, 0.7754983245678998, 0.764171474440192, 0.7823364117252455, 0.7587950103784695, 0.7692344182634905, 0.7794655074605636, 0.758638502296124, 0.7753418301091688, 0.7816056682955059, 0.717193232987239, 0.7599426909036218, 0.750652162421821, 0.7762815461603477, 0.7588470798327457, 0.780666320081916, 0.7908969869469427, 0.7620836010373566, 0.7771690428974921, 0.7953337894519438, 0.7930372022763426, 0.7991443552733468, 0.7950205961802654]}, {\"categories\": [\"0\", \"1\", \"2\", \"3\", \"4\", \"5\", \"6\", \"7\", \"8\", \"9\", \"10\", \"11\", \"12\", \"13\", \"14\", \"15\", \"16\", \"17\", \"18\", \"19\", \"20\", \"21\", \"22\", \"23\", \"24\", \"25\", \"26\", \"27\", \"28\", \"29\", \"30\", \"31\", \"32\", \"33\", \"36\", \"37\"], \"mode\": \"lines\", \"name\": \"recall_score_weighted_max\", \"stepped\": true, \"type\": \"scatter\", \"data\": [0.7959600397591562, 0.7959600397591562, 0.7959600397591562, 0.7959600397591562, 0.7959600397591562, 0.7959600397591562, 0.7959600397591562, 0.7959600397591562, 0.7959600397591562, 0.7959600397591562, 0.7959600397591562, 0.7959600397591562, 0.7959600397591562, 0.7959600397591562, 0.7959600397591562, 0.7959600397591562, 0.7959600397591562, 0.7959600397591562, 0.7959600397591562, 0.7959600397591562, 0.7959600397591562, 0.7959600397591562, 0.7959600397591562, 0.7959600397591562, 0.7959600397591562, 0.7959600397591562, 0.7959600397591562, 0.7959600397591562, 0.7959600397591562, 0.7959600397591562, 0.7959600397591562, 0.7959600397591562, 0.7959600397591562, 0.7959600397591562, 0.7991443552733468, 0.7991443552733468]}], \"precision_score_macro\": [{\"categories\": [\"0\", \"1\", \"2\", \"3\", \"4\", \"5\", \"6\", \"7\", \"8\", \"9\", \"10\", \"11\", \"12\", \"13\", \"14\", \"15\", \"16\", \"17\", \"18\", \"19\", \"20\", \"21\", \"22\", \"23\", \"24\", \"25\", \"26\", \"27\", \"28\", \"29\", \"30\", \"31\", \"32\", \"33\", \"36\", \"37\"], \"mode\": \"markers\", \"name\": \"precision_score_macro\", \"stepped\": false, \"type\": \"scatter\", \"data\": [0.7274655861956807, 0.7241901859521801, 0.6991893838125721, 0.4053377151144416, 0.6869229467495972, 0.684833715363578, 0.7226385073752503, 0.7152470064848716, 0.711419396956587, 0.7149678521453358, 0.7110135903313758, 0.6855591083303567, 0.6991457409729256, 0.6842266757880863, 0.6956650274996404, 0.6869623121264896, 0.7065159411905267, 0.6860444994467371, 0.6881634010245364, 0.7034699101647944, 0.6844251155240368, 0.6980219408889133, 0.706907872288116, 0.6653738403967764, 0.66058069661789, 0.3753260812109105, 0.6991010099657367, 0.6822217204261934, 0.7036416386897942, 0.7194701585150358, 0.6839778485526118, 0.7001972701577139, 0.7259001946030899, 0.7226373088780444, 0.7320392406836119, 0.7258666420638378]}, {\"categories\": [\"0\", \"1\", \"2\", \"3\", \"4\", \"5\", \"6\", \"7\", \"8\", \"9\", \"10\", \"11\", \"12\", \"13\", \"14\", \"15\", \"16\", \"17\", \"18\", \"19\", \"20\", \"21\", \"22\", \"23\", \"24\", \"25\", \"26\", \"27\", \"28\", \"29\", \"30\", \"31\", \"32\", \"33\", \"36\", \"37\"], \"mode\": \"lines\", \"name\": \"precision_score_macro_max\", \"stepped\": true, \"type\": \"scatter\", \"data\": [0.7274655861956807, 0.7274655861956807, 0.7274655861956807, 0.7274655861956807, 0.7274655861956807, 0.7274655861956807, 0.7274655861956807, 0.7274655861956807, 0.7274655861956807, 0.7274655861956807, 0.7274655861956807, 0.7274655861956807, 0.7274655861956807, 0.7274655861956807, 0.7274655861956807, 0.7274655861956807, 0.7274655861956807, 0.7274655861956807, 0.7274655861956807, 0.7274655861956807, 0.7274655861956807, 0.7274655861956807, 0.7274655861956807, 0.7274655861956807, 0.7274655861956807, 0.7274655861956807, 0.7274655861956807, 0.7274655861956807, 0.7274655861956807, 0.7274655861956807, 0.7274655861956807, 0.7274655861956807, 0.7274655861956807, 0.7274655861956807, 0.7320392406836119, 0.7320392406836119]}], \"weighted_accuracy\": [{\"categories\": [\"0\", \"1\", \"2\", \"3\", \"4\", \"5\", \"6\", \"7\", \"8\", \"9\", \"10\", \"11\", \"12\", \"13\", \"14\", \"15\", \"16\", \"17\", \"18\", \"19\", \"20\", \"21\", \"22\", \"23\", \"24\", \"25\", \"26\", \"27\", \"28\", \"29\", \"30\", \"31\", \"32\", \"33\", \"36\", \"37\"], \"mode\": \"markers\", \"name\": \"weighted_accuracy\", \"stepped\": false, \"type\": \"scatter\", \"data\": [0.8386815871435115, 0.8452746631656132, 0.8907726561793758, 0.9001697288206746, 0.7316090401642216, 0.7177186179752907, 0.8460349011209025, 0.8516528687162406, 0.8444144258641314, 0.848199096509418, 0.8485908954340455, 0.8881900375537153, 0.8637748479879124, 0.8845267445472645, 0.8576708070930629, 0.8827213746420547, 0.851182004988732, 0.8916891094204951, 0.8711525287245504, 0.8594205564876483, 0.8909923281680893, 0.8654927816461402, 0.8620964991836088, 0.7232789760647976, 0.8724225059851831, 0.9005442636628962, 0.8652120670864367, 0.8909467819281252, 0.8524706247623264, 0.8480281060136207, 0.8857847236084402, 0.8641209013625405, 0.8494744945241821, 0.8515692414614808, 0.8383094123788132, 0.8426671142895339]}, {\"categories\": [\"0\", \"1\", \"2\", \"3\", \"4\", \"5\", \"6\", \"7\", \"8\", \"9\", \"10\", \"11\", \"12\", \"13\", \"14\", \"15\", \"16\", \"17\", \"18\", \"19\", \"20\", \"21\", \"22\", \"23\", \"24\", \"25\", \"26\", \"27\", \"28\", \"29\", \"30\", \"31\", \"32\", \"33\", \"36\", \"37\"], \"mode\": \"lines\", \"name\": \"weighted_accuracy_max\", \"stepped\": true, \"type\": \"scatter\", \"data\": [0.8386815871435115, 0.8452746631656132, 0.8907726561793758, 0.9001697288206746, 0.9001697288206746, 0.9001697288206746, 0.9001697288206746, 0.9001697288206746, 0.9001697288206746, 0.9001697288206746, 0.9001697288206746, 0.9001697288206746, 0.9001697288206746, 0.9001697288206746, 0.9001697288206746, 0.9001697288206746, 0.9001697288206746, 0.9001697288206746, 0.9001697288206746, 0.9001697288206746, 0.9001697288206746, 0.9001697288206746, 0.9001697288206746, 0.9001697288206746, 0.9001697288206746, 0.9005442636628962, 0.9005442636628962, 0.9005442636628962, 0.9005442636628962, 0.9005442636628962, 0.9005442636628962, 0.9005442636628962, 0.9005442636628962, 0.9005442636628962, 0.9005442636628962, 0.9005442636628962]}], \"AUC_micro\": [{\"categories\": [\"0\", \"1\", \"2\", \"3\", \"4\", \"5\", \"6\", \"7\", \"8\", \"9\", \"10\", \"11\", \"12\", \"13\", \"14\", \"15\", \"16\", \"17\", \"18\", \"19\", \"20\", \"21\", \"22\", \"23\", \"24\", \"25\", \"26\", \"27\", \"28\", \"29\", \"30\", \"31\", \"32\", \"33\", \"36\", \"37\"], \"mode\": \"markers\", \"name\": \"AUC_micro\", \"stepped\": false, \"type\": \"scatter\", \"data\": [0.8766285932737172, 0.8756793417357109, 0.8597280679377384, 0.8553757946686098, 0.7893723529719866, 0.7839528471800737, 0.8760938700922536, 0.8718750112346495, 0.8702954472552269, 0.8714629072886417, 0.8680485916625704, 0.8522506609019054, 0.8687513419149713, 0.8644830007307543, 0.8599356527265309, 0.8626194339865949, 0.8679176522358999, 0.8629486303246907, 0.8648107290021194, 0.8667016526049638, 0.8540830131140549, 0.8641579510384328, 0.8678252127733078, 0.759088451806894, 0.8377455494625649, 0.8610571911383346, 0.8628502629522263, 0.859116343664551, 0.866143509578837, 0.8734310955014116, 0.8563002470264991, 0.857456208380501, 0.875454649398766, 0.8748437611724965, 0.876836534273006, 0.8774491778192995]}, {\"categories\": [\"0\", \"1\", \"2\", \"3\", \"4\", \"5\", \"6\", \"7\", \"8\", \"9\", \"10\", \"11\", \"12\", \"13\", \"14\", \"15\", \"16\", \"17\", \"18\", \"19\", \"20\", \"21\", \"22\", \"23\", \"24\", \"25\", \"26\", \"27\", \"28\", \"29\", \"30\", \"31\", \"32\", \"33\", \"36\", \"37\"], \"mode\": \"lines\", \"name\": \"AUC_micro_max\", \"stepped\": true, \"type\": \"scatter\", \"data\": [0.8766285932737172, 0.8766285932737172, 0.8766285932737172, 0.8766285932737172, 0.8766285932737172, 0.8766285932737172, 0.8766285932737172, 0.8766285932737172, 0.8766285932737172, 0.8766285932737172, 0.8766285932737172, 0.8766285932737172, 0.8766285932737172, 0.8766285932737172, 0.8766285932737172, 0.8766285932737172, 0.8766285932737172, 0.8766285932737172, 0.8766285932737172, 0.8766285932737172, 0.8766285932737172, 0.8766285932737172, 0.8766285932737172, 0.8766285932737172, 0.8766285932737172, 0.8766285932737172, 0.8766285932737172, 0.8766285932737172, 0.8766285932737172, 0.8766285932737172, 0.8766285932737172, 0.8766285932737172, 0.8766285932737172, 0.8766285932737172, 0.876836534273006, 0.8774491778192995]}], \"precision_score_micro\": [{\"categories\": [\"0\", \"1\", \"2\", \"3\", \"4\", \"5\", \"6\", \"7\", \"8\", \"9\", \"10\", \"11\", \"12\", \"13\", \"14\", \"15\", \"16\", \"17\", \"18\", \"19\", \"20\", \"21\", \"22\", \"23\", \"24\", \"25\", \"26\", \"27\", \"28\", \"29\", \"30\", \"31\", \"32\", \"33\", \"36\", \"37\"], \"mode\": \"markers\", \"name\": \"precision_score_micro\", \"stepped\": false, \"type\": \"scatter\", \"data\": [0.7959600397591562, 0.794081029988845, 0.7585863238529325, 0.75044333966014, 0.7329071594273505, 0.7253889950622572, 0.792984724113634, 0.7879213170874456, 0.785520659121364, 0.7879215895597339, 0.7853112505442634, 0.7604130870619803, 0.77654220677486, 0.7620833558122971, 0.7754983245678998, 0.764171474440192, 0.7823364117252455, 0.7587950103784695, 0.7692344182634905, 0.7794655074605636, 0.758638502296124, 0.7753418301091688, 0.7816056682955059, 0.717193232987239, 0.7599426909036218, 0.750652162421821, 0.7762815461603477, 0.7588470798327457, 0.780666320081916, 0.7908969869469427, 0.7620836010373566, 0.7771690428974921, 0.7953337894519438, 0.7930372022763426, 0.7991443552733468, 0.7950205961802654]}, {\"categories\": [\"0\", \"1\", \"2\", \"3\", \"4\", \"5\", \"6\", \"7\", \"8\", \"9\", \"10\", \"11\", \"12\", \"13\", \"14\", \"15\", \"16\", \"17\", \"18\", \"19\", \"20\", \"21\", \"22\", \"23\", \"24\", \"25\", \"26\", \"27\", \"28\", \"29\", \"30\", \"31\", \"32\", \"33\", \"36\", \"37\"], \"mode\": \"lines\", \"name\": \"precision_score_micro_max\", \"stepped\": true, \"type\": \"scatter\", \"data\": [0.7959600397591562, 0.7959600397591562, 0.7959600397591562, 0.7959600397591562, 0.7959600397591562, 0.7959600397591562, 0.7959600397591562, 0.7959600397591562, 0.7959600397591562, 0.7959600397591562, 0.7959600397591562, 0.7959600397591562, 0.7959600397591562, 0.7959600397591562, 0.7959600397591562, 0.7959600397591562, 0.7959600397591562, 0.7959600397591562, 0.7959600397591562, 0.7959600397591562, 0.7959600397591562, 0.7959600397591562, 0.7959600397591562, 0.7959600397591562, 0.7959600397591562, 0.7959600397591562, 0.7959600397591562, 0.7959600397591562, 0.7959600397591562, 0.7959600397591562, 0.7959600397591562, 0.7959600397591562, 0.7959600397591562, 0.7959600397591562, 0.7991443552733468, 0.7991443552733468]}], \"AUC_macro\": [{\"categories\": [\"0\", \"1\", \"2\", \"3\", \"4\", \"5\", \"6\", \"7\", \"8\", \"9\", \"10\", \"11\", \"12\", \"13\", \"14\", \"15\", \"16\", \"17\", \"18\", \"19\", \"20\", \"21\", \"22\", \"23\", \"24\", \"25\", \"26\", \"27\", \"28\", \"29\", \"30\", \"31\", \"32\", \"33\", \"36\", \"37\"], \"mode\": \"markers\", \"name\": \"AUC_macro\", \"stepped\": false, \"type\": \"scatter\", \"data\": [0.8012921325382292, 0.8008092966614745, 0.7888736434441093, 0.7798658700491068, 0.7816915560239438, 0.7804277460901409, 0.8023734137526851, 0.79697677356962, 0.7937028015573718, 0.7955079858014696, 0.7912338837376138, 0.766692554524585, 0.7955391270860543, 0.7963689420303632, 0.7749294620676173, 0.7930514841615842, 0.7902691230318823, 0.7960497982509013, 0.7936045061992181, 0.7904873364414173, 0.7727971274345402, 0.7912782001915779, 0.79645572216765, 0.7584823151806452, 0.7308006227420784, 0.7949860498988801, 0.7835969689698478, 0.786648753216052, 0.7888459166719217, 0.7983037469114891, 0.7740750719896955, 0.7733935274700844, 0.8001120182764427, 0.8000206604051003, 0.8017519355183292, 0.80320855323658]}, {\"categories\": [\"0\", \"1\", \"2\", \"3\", \"4\", \"5\", \"6\", \"7\", \"8\", \"9\", \"10\", \"11\", \"12\", \"13\", \"14\", \"15\", \"16\", \"17\", \"18\", \"19\", \"20\", \"21\", \"22\", \"23\", \"24\", \"25\", \"26\", \"27\", \"28\", \"29\", \"30\", \"31\", \"32\", \"33\", \"36\", \"37\"], \"mode\": \"lines\", \"name\": \"AUC_macro_max\", \"stepped\": true, \"type\": \"scatter\", \"data\": [0.8012921325382292, 0.8012921325382292, 0.8012921325382292, 0.8012921325382292, 0.8012921325382292, 0.8012921325382292, 0.8023734137526851, 0.8023734137526851, 0.8023734137526851, 0.8023734137526851, 0.8023734137526851, 0.8023734137526851, 0.8023734137526851, 0.8023734137526851, 0.8023734137526851, 0.8023734137526851, 0.8023734137526851, 0.8023734137526851, 0.8023734137526851, 0.8023734137526851, 0.8023734137526851, 0.8023734137526851, 0.8023734137526851, 0.8023734137526851, 0.8023734137526851, 0.8023734137526851, 0.8023734137526851, 0.8023734137526851, 0.8023734137526851, 0.8023734137526851, 0.8023734137526851, 0.8023734137526851, 0.8023734137526851, 0.8023734137526851, 0.8023734137526851, 0.80320855323658]}], \"log_loss\": [{\"categories\": [\"0\", \"1\", \"2\", \"3\", \"4\", \"5\", \"6\", \"7\", \"8\", \"9\", \"10\", \"11\", \"12\", \"13\", \"14\", \"15\", \"16\", \"17\", \"18\", \"19\", \"20\", \"21\", \"22\", \"23\", \"24\", \"25\", \"26\", \"27\", \"28\", \"29\", \"30\", \"31\", \"32\", \"33\", \"36\", \"37\"], \"mode\": \"markers\", \"name\": \"log_loss\", \"stepped\": false, \"type\": \"scatter\", \"data\": [0.4378793603067389, 0.4382646171430141, 0.470435161988236, 0.5002571439813176, 0.6186934756559127, 0.5946905790637332, 0.4418056458967413, 0.44505404894323186, 0.4502012697772219, 0.44563020863578895, 0.4566569783908701, 0.5224768687186774, 0.44977836843158914, 0.460175131698644, 0.4645038594381278, 0.4654887140701325, 0.4971975556479352, 0.46796385439309385, 0.4562109710654515, 0.4531443678704248, 0.481331836648906, 0.4590971882710183, 0.4547090889491372, 0.5904405385287081, 0.5005527184504607, 0.5005458961163207, 0.46096735309496434, 0.4810518811916512, 0.4561109550608073, 0.4444831884792141, 0.4824408480664191, 0.47523915865513827, 0.43945564176672064, 0.4404657427903384, 0.4593537414845009, 0.4360151902976089]}, {\"categories\": [\"0\", \"1\", \"2\", \"3\", \"4\", \"5\", \"6\", \"7\", \"8\", \"9\", \"10\", \"11\", \"12\", \"13\", \"14\", \"15\", \"16\", \"17\", \"18\", \"19\", \"20\", \"21\", \"22\", \"23\", \"24\", \"25\", \"26\", \"27\", \"28\", \"29\", \"30\", \"31\", \"32\", \"33\", \"36\", \"37\"], \"mode\": \"lines\", \"name\": \"log_loss_min\", \"stepped\": true, \"type\": \"scatter\", \"data\": [0.4378793603067389, 0.4378793603067389, 0.4378793603067389, 0.4378793603067389, 0.4378793603067389, 0.4378793603067389, 0.4378793603067389, 0.4378793603067389, 0.4378793603067389, 0.4378793603067389, 0.4378793603067389, 0.4378793603067389, 0.4378793603067389, 0.4378793603067389, 0.4378793603067389, 0.4378793603067389, 0.4378793603067389, 0.4378793603067389, 0.4378793603067389, 0.4378793603067389, 0.4378793603067389, 0.4378793603067389, 0.4378793603067389, 0.4378793603067389, 0.4378793603067389, 0.4378793603067389, 0.4378793603067389, 0.4378793603067389, 0.4378793603067389, 0.4378793603067389, 0.4378793603067389, 0.4378793603067389, 0.4378793603067389, 0.4378793603067389, 0.4378793603067389, 0.4360151902976089]}], \"accuracy\": [{\"categories\": [\"0\", \"1\", \"2\", \"3\", \"4\", \"5\", \"6\", \"7\", \"8\", \"9\", \"10\", \"11\", \"12\", \"13\", \"14\", \"15\", \"16\", \"17\", \"18\", \"19\", \"20\", \"21\", \"22\", \"23\", \"24\", \"25\", \"26\", \"27\", \"28\", \"29\", \"30\", \"31\", \"32\", \"33\", \"36\", \"37\"], \"mode\": \"markers\", \"name\": \"accuracy\", \"stepped\": false, \"type\": \"scatter\", \"data\": [0.7959600397591562, 0.794081029988845, 0.7585863238529325, 0.75044333966014, 0.7329071594273505, 0.7253889950622572, 0.792984724113634, 0.7879213170874456, 0.785520659121364, 0.7879215895597339, 0.7853112505442634, 0.7604130870619803, 0.77654220677486, 0.7620833558122971, 0.7754983245678998, 0.764171474440192, 0.7823364117252455, 0.7587950103784695, 0.7692344182634905, 0.7794655074605636, 0.758638502296124, 0.7753418301091688, 0.7816056682955059, 0.717193232987239, 0.7599426909036218, 0.750652162421821, 0.7762815461603477, 0.7588470798327457, 0.780666320081916, 0.7908969869469427, 0.7620836010373566, 0.7771690428974921, 0.7953337894519438, 0.7930372022763426, 0.7991443552733468, 0.7950205961802654]}, {\"categories\": [\"0\", \"1\", \"2\", \"3\", \"4\", \"5\", \"6\", \"7\", \"8\", \"9\", \"10\", \"11\", \"12\", \"13\", \"14\", \"15\", \"16\", \"17\", \"18\", \"19\", \"20\", \"21\", \"22\", \"23\", \"24\", \"25\", \"26\", \"27\", \"28\", \"29\", \"30\", \"31\", \"32\", \"33\", \"36\", \"37\"], \"mode\": \"lines\", \"name\": \"accuracy_max\", \"stepped\": true, \"type\": \"scatter\", \"data\": [0.7959600397591562, 0.7959600397591562, 0.7959600397591562, 0.7959600397591562, 0.7959600397591562, 0.7959600397591562, 0.7959600397591562, 0.7959600397591562, 0.7959600397591562, 0.7959600397591562, 0.7959600397591562, 0.7959600397591562, 0.7959600397591562, 0.7959600397591562, 0.7959600397591562, 0.7959600397591562, 0.7959600397591562, 0.7959600397591562, 0.7959600397591562, 0.7959600397591562, 0.7959600397591562, 0.7959600397591562, 0.7959600397591562, 0.7959600397591562, 0.7959600397591562, 0.7959600397591562, 0.7959600397591562, 0.7959600397591562, 0.7959600397591562, 0.7959600397591562, 0.7959600397591562, 0.7959600397591562, 0.7959600397591562, 0.7959600397591562, 0.7991443552733468, 0.7991443552733468]}], \"AUC_weighted\": [{\"categories\": [\"0\", \"1\", \"2\", \"3\", \"4\", \"5\", \"6\", \"7\", \"8\", \"9\", \"10\", \"11\", \"12\", \"13\", \"14\", \"15\", \"16\", \"17\", \"18\", \"19\", \"20\", \"21\", \"22\", \"23\", \"24\", \"25\", \"26\", \"27\", \"28\", \"29\", \"30\", \"31\", \"32\", \"33\", \"36\", \"37\"], \"mode\": \"markers\", \"name\": \"AUC_weighted\", \"stepped\": false, \"type\": \"scatter\", \"data\": [0.8012921325382292, 0.8008092791511816, 0.7888736434441093, 0.7798658700491068, 0.7816915560239438, 0.780427746090141, 0.8023734234715081, 0.79697677356962, 0.7937028015573719, 0.7955079860365205, 0.7912338748451055, 0.7666925545245851, 0.7955391270860545, 0.7963689420303632, 0.7749294620676173, 0.7930514841615842, 0.7902691230318823, 0.7960497982509014, 0.7936045061992181, 0.7904873364414173, 0.7727971274345402, 0.7912782001915779, 0.7964557221676503, 0.7584823151806452, 0.7308006227420784, 0.7949860498988801, 0.7835969689698478, 0.7866487532160521, 0.7888459166719218, 0.7983037469114892, 0.7740750719896955, 0.7733935274700843, 0.8001120182764427, 0.8000206604051003, 0.8017519533033456, 0.80320855323658]}, {\"categories\": [\"0\", \"1\", \"2\", \"3\", \"4\", \"5\", \"6\", \"7\", \"8\", \"9\", \"10\", \"11\", \"12\", \"13\", \"14\", \"15\", \"16\", \"17\", \"18\", \"19\", \"20\", \"21\", \"22\", \"23\", \"24\", \"25\", \"26\", \"27\", \"28\", \"29\", \"30\", \"31\", \"32\", \"33\", \"36\", \"37\"], \"mode\": \"lines\", \"name\": \"AUC_weighted_max\", \"stepped\": true, \"type\": \"scatter\", \"data\": [0.8012921325382292, 0.8012921325382292, 0.8012921325382292, 0.8012921325382292, 0.8012921325382292, 0.8012921325382292, 0.8023734234715081, 0.8023734234715081, 0.8023734234715081, 0.8023734234715081, 0.8023734234715081, 0.8023734234715081, 0.8023734234715081, 0.8023734234715081, 0.8023734234715081, 0.8023734234715081, 0.8023734234715081, 0.8023734234715081, 0.8023734234715081, 0.8023734234715081, 0.8023734234715081, 0.8023734234715081, 0.8023734234715081, 0.8023734234715081, 0.8023734234715081, 0.8023734234715081, 0.8023734234715081, 0.8023734234715081, 0.8023734234715081, 0.8023734234715081, 0.8023734234715081, 0.8023734234715081, 0.8023734234715081, 0.8023734234715081, 0.8023734234715081, 0.80320855323658]}], \"average_precision_score_weighted\": [{\"categories\": [\"0\", \"1\", \"2\", \"3\", \"4\", \"5\", \"6\", \"7\", \"8\", \"9\", \"10\", \"11\", \"12\", \"13\", \"14\", \"15\", \"16\", \"17\", \"18\", \"19\", \"20\", \"21\", \"22\", \"23\", \"24\", \"25\", \"26\", \"27\", \"28\", \"29\", \"30\", \"31\", \"32\", \"33\", \"36\", \"37\"], \"mode\": \"markers\", \"name\": \"average_precision_score_weighted\", \"stepped\": false, \"type\": \"scatter\", \"data\": [0.8167168126138236, 0.813577917256338, 0.8094331870352345, 0.8008571646884668, 0.8040012033590698, 0.8020833122961493, 0.8141570682773042, 0.810983709474265, 0.8093794819521813, 0.8109454166674925, 0.8093621198264296, 0.7872000840483206, 0.8130796453318625, 0.8120020069581688, 0.7983267895327761, 0.809998963395653, 0.806136254926329, 0.8120869823348636, 0.8100916187654462, 0.8076246337869228, 0.7974495942795626, 0.8074298795206027, 0.8107405734599691, 0.7901522670792044, 0.77143697613381, 0.8109149388646228, 0.8039508765319858, 0.8060484447888143, 0.8067931831694374, 0.8137322058266541, 0.786583238056112, 0.7943328483138546, 0.8146218092387443, 0.8144607933325789, 0.8149878679558672, 0.8159865893302918]}, {\"categories\": [\"0\", \"1\", \"2\", \"3\", \"4\", \"5\", \"6\", \"7\", \"8\", \"9\", \"10\", \"11\", \"12\", \"13\", \"14\", \"15\", \"16\", \"17\", \"18\", \"19\", \"20\", \"21\", \"22\", \"23\", \"24\", \"25\", \"26\", \"27\", \"28\", \"29\", \"30\", \"31\", \"32\", \"33\", \"36\", \"37\"], \"mode\": \"lines\", \"name\": \"average_precision_score_weighted_max\", \"stepped\": true, \"type\": \"scatter\", \"data\": [0.8167168126138236, 0.8167168126138236, 0.8167168126138236, 0.8167168126138236, 0.8167168126138236, 0.8167168126138236, 0.8167168126138236, 0.8167168126138236, 0.8167168126138236, 0.8167168126138236, 0.8167168126138236, 0.8167168126138236, 0.8167168126138236, 0.8167168126138236, 0.8167168126138236, 0.8167168126138236, 0.8167168126138236, 0.8167168126138236, 0.8167168126138236, 0.8167168126138236, 0.8167168126138236, 0.8167168126138236, 0.8167168126138236, 0.8167168126138236, 0.8167168126138236, 0.8167168126138236, 0.8167168126138236, 0.8167168126138236, 0.8167168126138236, 0.8167168126138236, 0.8167168126138236, 0.8167168126138236, 0.8167168126138236, 0.8167168126138236, 0.8167168126138236, 0.8167168126138236]}], \"balanced_accuracy\": [{\"categories\": [\"0\", \"1\", \"2\", \"3\", \"4\", \"5\", \"6\", \"7\", \"8\", \"9\", \"10\", \"11\", \"12\", \"13\", \"14\", \"15\", \"16\", \"17\", \"18\", \"19\", \"20\", \"21\", \"22\", \"23\", \"24\", \"25\", \"26\", \"27\", \"28\", \"29\", \"30\", \"31\", \"32\", \"33\", \"36\", \"37\"], \"mode\": \"markers\", \"name\": \"balanced_accuracy\", \"stepped\": false, \"type\": \"scatter\", \"data\": [0.724582261231103, 0.7085662678317278, 0.5379741983455131, 0.5000609933426644, 0.7352145039786192, 0.7382567085797215, 0.704389279725852, 0.681505407709982, 0.6871314336274125, 0.6872334548942538, 0.6796672577179307, 0.546815967046553, 0.6308477868352401, 0.5573258035108705, 0.6380595002068248, 0.5661933963799385, 0.6673535912861546, 0.5366076805686651, 0.5991844599687386, 0.6458444024773032, 0.5372574463059094, 0.6247126825724003, 0.6470080073751268, 0.7069996253580275, 0.5723496414348556, 0.5, 0.6276401730722737, 0.5380060112024945, 0.6606571275246647, 0.695431611665921, 0.5552200497268159, 0.6318094170598767, 0.7048379693351785, 0.6951885022865372, 0.7337403290968885, 0.7154823351159247]}, {\"categories\": [\"0\", \"1\", \"2\", \"3\", \"4\", \"5\", \"6\", \"7\", \"8\", \"9\", \"10\", \"11\", \"12\", \"13\", \"14\", \"15\", \"16\", \"17\", \"18\", \"19\", \"20\", \"21\", \"22\", \"23\", \"24\", \"25\", \"26\", \"27\", \"28\", \"29\", \"30\", \"31\", \"32\", \"33\", \"36\", \"37\"], \"mode\": \"lines\", \"name\": \"balanced_accuracy_max\", \"stepped\": true, \"type\": \"scatter\", \"data\": [0.724582261231103, 0.724582261231103, 0.724582261231103, 0.724582261231103, 0.7352145039786192, 0.7382567085797215, 0.7382567085797215, 0.7382567085797215, 0.7382567085797215, 0.7382567085797215, 0.7382567085797215, 0.7382567085797215, 0.7382567085797215, 0.7382567085797215, 0.7382567085797215, 0.7382567085797215, 0.7382567085797215, 0.7382567085797215, 0.7382567085797215, 0.7382567085797215, 0.7382567085797215, 0.7382567085797215, 0.7382567085797215, 0.7382567085797215, 0.7382567085797215, 0.7382567085797215, 0.7382567085797215, 0.7382567085797215, 0.7382567085797215, 0.7382567085797215, 0.7382567085797215, 0.7382567085797215, 0.7382567085797215, 0.7382567085797215, 0.7382567085797215, 0.7382567085797215]}], \"precision_score_weighted\": [{\"categories\": [\"0\", \"1\", \"2\", \"3\", \"4\", \"5\", \"6\", \"7\", \"8\", \"9\", \"10\", \"11\", \"12\", \"13\", \"14\", \"15\", \"16\", \"17\", \"18\", \"19\", \"20\", \"21\", \"22\", \"23\", \"24\", \"25\", \"26\", \"27\", \"28\", \"29\", \"30\", \"31\", \"32\", \"33\", \"36\", \"37\"], \"mode\": \"markers\", \"name\": \"precision_score_weighted\", \"stepped\": false, \"type\": \"scatter\", \"data\": [0.7950038686306888, 0.788014946130053, 0.7327203219473469, 0.5788575218316867, 0.7911215204412088, 0.7931384737145232, 0.7859619140780157, 0.7754645926828418, 0.7756259712653184, 0.7771295482881024, 0.7730224855818486, 0.727514310185665, 0.7536909962168139, 0.7289580298132509, 0.7540183588765814, 0.7323238521861516, 0.7673393145222653, 0.7255126841638259, 0.7405196096854134, 0.7597582792511016, 0.7248173558262635, 0.751597712764936, 0.7616359478471642, 0.7701730860304024, 0.7211852946446715, 0.5635073887631035, 0.7528033998166448, 0.7238423409511923, 0.7640576638576033, 0.7816942257064708, 0.7283810855115551, 0.7544472743516246, 0.7874797586723703, 0.7829651832378623, 0.8001094368443452, 0.7911332849851376]}, {\"categories\": [\"0\", \"1\", \"2\", \"3\", \"4\", \"5\", \"6\", \"7\", \"8\", \"9\", \"10\", \"11\", \"12\", \"13\", \"14\", \"15\", \"16\", \"17\", \"18\", \"19\", \"20\", \"21\", \"22\", \"23\", \"24\", \"25\", \"26\", \"27\", \"28\", \"29\", \"30\", \"31\", \"32\", \"33\", \"36\", \"37\"], \"mode\": \"lines\", \"name\": \"precision_score_weighted_max\", \"stepped\": true, \"type\": \"scatter\", \"data\": [0.7950038686306888, 0.7950038686306888, 0.7950038686306888, 0.7950038686306888, 0.7950038686306888, 0.7950038686306888, 0.7950038686306888, 0.7950038686306888, 0.7950038686306888, 0.7950038686306888, 0.7950038686306888, 0.7950038686306888, 0.7950038686306888, 0.7950038686306888, 0.7950038686306888, 0.7950038686306888, 0.7950038686306888, 0.7950038686306888, 0.7950038686306888, 0.7950038686306888, 0.7950038686306888, 0.7950038686306888, 0.7950038686306888, 0.7950038686306888, 0.7950038686306888, 0.7950038686306888, 0.7950038686306888, 0.7950038686306888, 0.7950038686306888, 0.7950038686306888, 0.7950038686306888, 0.7950038686306888, 0.7950038686306888, 0.7950038686306888, 0.8001094368443452, 0.8001094368443452]}], \"average_precision_score_macro\": [{\"categories\": [\"0\", \"1\", \"2\", \"3\", \"4\", \"5\", \"6\", \"7\", \"8\", \"9\", \"10\", \"11\", \"12\", \"13\", \"14\", \"15\", \"16\", \"17\", \"18\", \"19\", \"20\", \"21\", \"22\", \"23\", \"24\", \"25\", \"26\", \"27\", \"28\", \"29\", \"30\", \"31\", \"32\", \"33\", \"36\", \"37\"], \"mode\": \"markers\", \"name\": \"average_precision_score_macro\", \"stepped\": false, \"type\": \"scatter\", \"data\": [0.7269380503562266, 0.7227741297315716, 0.7170480300002392, 0.7047077992081292, 0.7095768225187293, 0.7084565371755309, 0.7219937633254239, 0.7180314467986777, 0.7155270964502556, 0.7185585259737485, 0.7154989397105941, 0.690566764720234, 0.7215974557660525, 0.7212251017996559, 0.7047126881544454, 0.7184846411261985, 0.712781144352206, 0.7211811389150127, 0.7183283822153644, 0.7160054907718838, 0.7030790383243193, 0.7150653231269711, 0.72039678175688, 0.6926554263058016, 0.6650767525436987, 0.7193861266671497, 0.7121144053870071, 0.7132583929400321, 0.7114784405777158, 0.7223548535202939, 0.6880228147253564, 0.6997695239909282, 0.7247504349893258, 0.723918024582842, 0.7253544972659199, 0.7264756635906203]}, {\"categories\": [\"0\", \"1\", \"2\", \"3\", \"4\", \"5\", \"6\", \"7\", \"8\", \"9\", \"10\", \"11\", \"12\", \"13\", \"14\", \"15\", \"16\", \"17\", \"18\", \"19\", \"20\", \"21\", \"22\", \"23\", \"24\", \"25\", \"26\", \"27\", \"28\", \"29\", \"30\", \"31\", \"32\", \"33\", \"36\", \"37\"], \"mode\": \"lines\", \"name\": \"average_precision_score_macro_max\", \"stepped\": true, \"type\": \"scatter\", \"data\": [0.7269380503562266, 0.7269380503562266, 0.7269380503562266, 0.7269380503562266, 0.7269380503562266, 0.7269380503562266, 0.7269380503562266, 0.7269380503562266, 0.7269380503562266, 0.7269380503562266, 0.7269380503562266, 0.7269380503562266, 0.7269380503562266, 0.7269380503562266, 0.7269380503562266, 0.7269380503562266, 0.7269380503562266, 0.7269380503562266, 0.7269380503562266, 0.7269380503562266, 0.7269380503562266, 0.7269380503562266, 0.7269380503562266, 0.7269380503562266, 0.7269380503562266, 0.7269380503562266, 0.7269380503562266, 0.7269380503562266, 0.7269380503562266, 0.7269380503562266, 0.7269380503562266, 0.7269380503562266, 0.7269380503562266, 0.7269380503562266, 0.7269380503562266, 0.7269380503562266]}], \"f1_score_weighted\": [{\"categories\": [\"0\", \"1\", \"2\", \"3\", \"4\", \"5\", \"6\", \"7\", \"8\", \"9\", \"10\", \"11\", \"12\", \"13\", \"14\", \"15\", \"16\", \"17\", \"18\", \"19\", \"20\", \"21\", \"22\", \"23\", \"24\", \"25\", \"26\", \"27\", \"28\", \"29\", \"30\", \"31\", \"32\", \"33\", \"36\", \"37\"], \"mode\": \"markers\", \"name\": \"f1_score_weighted\", \"stepped\": false, \"type\": \"scatter\", \"data\": [0.7953329815772835, 0.7903774597873626, 0.6837169374192769, 0.6439345375771837, 0.7480990543754122, 0.7422108265366056, 0.7885519413124229, 0.7788767200118173, 0.7790000705777438, 0.7805866303913476, 0.7766185977285347, 0.6942841311787669, 0.7535644989717312, 0.7038505803464477, 0.7564009993948739, 0.7105166111196184, 0.7708581936111989, 0.6850692214512117, 0.7335695869889254, 0.7615878715392943, 0.6859577378897342, 0.7501212883511481, 0.7633108353616181, 0.7326736545469045, 0.7094364151780365, 0.6437464058813542, 0.7521978243875429, 0.6863465930552455, 0.7677261951330676, 0.784885113594621, 0.7023220026043739, 0.7545483958648995, 0.7903380939040193, 0.7862343740191684, 0.7995115482708414, 0.7925744127334784]}, {\"categories\": [\"0\", \"1\", \"2\", \"3\", \"4\", \"5\", \"6\", \"7\", \"8\", \"9\", \"10\", \"11\", \"12\", \"13\", \"14\", \"15\", \"16\", \"17\", \"18\", \"19\", \"20\", \"21\", \"22\", \"23\", \"24\", \"25\", \"26\", \"27\", \"28\", \"29\", \"30\", \"31\", \"32\", \"33\", \"36\", \"37\"], \"mode\": \"lines\", \"name\": \"f1_score_weighted_max\", \"stepped\": true, \"type\": \"scatter\", \"data\": [0.7953329815772835, 0.7953329815772835, 0.7953329815772835, 0.7953329815772835, 0.7953329815772835, 0.7953329815772835, 0.7953329815772835, 0.7953329815772835, 0.7953329815772835, 0.7953329815772835, 0.7953329815772835, 0.7953329815772835, 0.7953329815772835, 0.7953329815772835, 0.7953329815772835, 0.7953329815772835, 0.7953329815772835, 0.7953329815772835, 0.7953329815772835, 0.7953329815772835, 0.7953329815772835, 0.7953329815772835, 0.7953329815772835, 0.7953329815772835, 0.7953329815772835, 0.7953329815772835, 0.7953329815772835, 0.7953329815772835, 0.7953329815772835, 0.7953329815772835, 0.7953329815772835, 0.7953329815772835, 0.7953329815772835, 0.7953329815772835, 0.7995115482708414, 0.7995115482708414]}], \"recall_score_micro\": [{\"categories\": [\"0\", \"1\", \"2\", \"3\", \"4\", \"5\", \"6\", \"7\", \"8\", \"9\", \"10\", \"11\", \"12\", \"13\", \"14\", \"15\", \"16\", \"17\", \"18\", \"19\", \"20\", \"21\", \"22\", \"23\", \"24\", \"25\", \"26\", \"27\", \"28\", \"29\", \"30\", \"31\", \"32\", \"33\", \"36\", \"37\"], \"mode\": \"markers\", \"name\": \"recall_score_micro\", \"stepped\": false, \"type\": \"scatter\", \"data\": [0.7959600397591562, 0.794081029988845, 0.7585863238529325, 0.75044333966014, 0.7329071594273505, 0.7253889950622572, 0.792984724113634, 0.7879213170874456, 0.785520659121364, 0.7879215895597339, 0.7853112505442634, 0.7604130870619803, 0.77654220677486, 0.7620833558122971, 0.7754983245678998, 0.764171474440192, 0.7823364117252455, 0.7587950103784695, 0.7692344182634905, 0.7794655074605636, 0.758638502296124, 0.7753418301091688, 0.7816056682955059, 0.717193232987239, 0.7599426909036218, 0.750652162421821, 0.7762815461603477, 0.7588470798327457, 0.780666320081916, 0.7908969869469427, 0.7620836010373566, 0.7771690428974921, 0.7953337894519438, 0.7930372022763426, 0.7991443552733468, 0.7950205961802654]}, {\"categories\": [\"0\", \"1\", \"2\", \"3\", \"4\", \"5\", \"6\", \"7\", \"8\", \"9\", \"10\", \"11\", \"12\", \"13\", \"14\", \"15\", \"16\", \"17\", \"18\", \"19\", \"20\", \"21\", \"22\", \"23\", \"24\", \"25\", \"26\", \"27\", \"28\", \"29\", \"30\", \"31\", \"32\", \"33\", \"36\", \"37\"], \"mode\": \"lines\", \"name\": \"recall_score_micro_max\", \"stepped\": true, \"type\": \"scatter\", \"data\": [0.7959600397591562, 0.7959600397591562, 0.7959600397591562, 0.7959600397591562, 0.7959600397591562, 0.7959600397591562, 0.7959600397591562, 0.7959600397591562, 0.7959600397591562, 0.7959600397591562, 0.7959600397591562, 0.7959600397591562, 0.7959600397591562, 0.7959600397591562, 0.7959600397591562, 0.7959600397591562, 0.7959600397591562, 0.7959600397591562, 0.7959600397591562, 0.7959600397591562, 0.7959600397591562, 0.7959600397591562, 0.7959600397591562, 0.7959600397591562, 0.7959600397591562, 0.7959600397591562, 0.7959600397591562, 0.7959600397591562, 0.7959600397591562, 0.7959600397591562, 0.7959600397591562, 0.7959600397591562, 0.7959600397591562, 0.7959600397591562, 0.7991443552733468, 0.7991443552733468]}], \"f1_score_micro\": [{\"categories\": [\"0\", \"1\", \"2\", \"3\", \"4\", \"5\", \"6\", \"7\", \"8\", \"9\", \"10\", \"11\", \"12\", \"13\", \"14\", \"15\", \"16\", \"17\", \"18\", \"19\", \"20\", \"21\", \"22\", \"23\", \"24\", \"25\", \"26\", \"27\", \"28\", \"29\", \"30\", \"31\", \"32\", \"33\", \"36\", \"37\"], \"mode\": \"markers\", \"name\": \"f1_score_micro\", \"stepped\": false, \"type\": \"scatter\", \"data\": [0.7959600397591562, 0.794081029988845, 0.7585863238529325, 0.75044333966014, 0.7329071594273505, 0.7253889950622572, 0.792984724113634, 0.7879213170874456, 0.785520659121364, 0.7879215895597339, 0.7853112505442633, 0.7604130870619803, 0.7765422067748599, 0.7620833558122971, 0.7754983245678998, 0.764171474440192, 0.7823364117252455, 0.7587950103784695, 0.7692344182634905, 0.7794655074605636, 0.758638502296124, 0.7753418301091688, 0.7816056682955059, 0.717193232987239, 0.7599426909036218, 0.750652162421821, 0.7762815461603477, 0.7588470798327457, 0.780666320081916, 0.7908969869469425, 0.7620836010373565, 0.7771690428974921, 0.7953337894519438, 0.7930372022763426, 0.7991443552733468, 0.7950205961802655]}, {\"categories\": [\"0\", \"1\", \"2\", \"3\", \"4\", \"5\", \"6\", \"7\", \"8\", \"9\", \"10\", \"11\", \"12\", \"13\", \"14\", \"15\", \"16\", \"17\", \"18\", \"19\", \"20\", \"21\", \"22\", \"23\", \"24\", \"25\", \"26\", \"27\", \"28\", \"29\", \"30\", \"31\", \"32\", \"33\", \"36\", \"37\"], \"mode\": \"lines\", \"name\": \"f1_score_micro_max\", \"stepped\": true, \"type\": \"scatter\", \"data\": [0.7959600397591562, 0.7959600397591562, 0.7959600397591562, 0.7959600397591562, 0.7959600397591562, 0.7959600397591562, 0.7959600397591562, 0.7959600397591562, 0.7959600397591562, 0.7959600397591562, 0.7959600397591562, 0.7959600397591562, 0.7959600397591562, 0.7959600397591562, 0.7959600397591562, 0.7959600397591562, 0.7959600397591562, 0.7959600397591562, 0.7959600397591562, 0.7959600397591562, 0.7959600397591562, 0.7959600397591562, 0.7959600397591562, 0.7959600397591562, 0.7959600397591562, 0.7959600397591562, 0.7959600397591562, 0.7959600397591562, 0.7959600397591562, 0.7959600397591562, 0.7959600397591562, 0.7959600397591562, 0.7959600397591562, 0.7959600397591562, 0.7991443552733468, 0.7991443552733468]}], \"average_precision_score_micro\": [{\"categories\": [\"0\", \"1\", \"2\", \"3\", \"4\", \"5\", \"6\", \"7\", \"8\", \"9\", \"10\", \"11\", \"12\", \"13\", \"14\", \"15\", \"16\", \"17\", \"18\", \"19\", \"20\", \"21\", \"22\", \"23\", \"24\", \"25\", \"26\", \"27\", \"28\", \"29\", \"30\", \"31\", \"32\", \"33\", \"36\", \"37\"], \"mode\": \"markers\", \"name\": \"average_precision_score_micro\", \"stepped\": false, \"type\": \"scatter\", \"data\": [0.8647324104186278, 0.8624580607733087, 0.8503016403186999, 0.8450341100284028, 0.7541308928703526, 0.7495645462848949, 0.8638934150132652, 0.85980773028359, 0.8586574548493479, 0.859350187198373, 0.8571940499025837, 0.8332387002325372, 0.8581298341443547, 0.853325529479114, 0.8460051013111757, 0.8515625703190736, 0.8546673894414877, 0.8523324913092752, 0.8534249365454023, 0.8536424661545665, 0.8417297218713667, 0.8516474297855184, 0.8540333727023505, 0.7215076021525212, 0.8264348920635591, 0.850654352419833, 0.8492886009684542, 0.8480778536173919, 0.8554127848397061, 0.8617241066744263, 0.8338205325963151, 0.840834826401583, 0.8626248018244684, 0.8624923710740138, 0.8633854243952636, 0.8643216331855369]}, {\"categories\": [\"0\", \"1\", \"2\", \"3\", \"4\", \"5\", \"6\", \"7\", \"8\", \"9\", \"10\", \"11\", \"12\", \"13\", \"14\", \"15\", \"16\", \"17\", \"18\", \"19\", \"20\", \"21\", \"22\", \"23\", \"24\", \"25\", \"26\", \"27\", \"28\", \"29\", \"30\", \"31\", \"32\", \"33\", \"36\", \"37\"], \"mode\": \"lines\", \"name\": \"average_precision_score_micro_max\", \"stepped\": true, \"type\": \"scatter\", \"data\": [0.8647324104186278, 0.8647324104186278, 0.8647324104186278, 0.8647324104186278, 0.8647324104186278, 0.8647324104186278, 0.8647324104186278, 0.8647324104186278, 0.8647324104186278, 0.8647324104186278, 0.8647324104186278, 0.8647324104186278, 0.8647324104186278, 0.8647324104186278, 0.8647324104186278, 0.8647324104186278, 0.8647324104186278, 0.8647324104186278, 0.8647324104186278, 0.8647324104186278, 0.8647324104186278, 0.8647324104186278, 0.8647324104186278, 0.8647324104186278, 0.8647324104186278, 0.8647324104186278, 0.8647324104186278, 0.8647324104186278, 0.8647324104186278, 0.8647324104186278, 0.8647324104186278, 0.8647324104186278, 0.8647324104186278, 0.8647324104186278, 0.8647324104186278, 0.8647324104186278]}], \"norm_macro_recall\": [{\"categories\": [\"0\", \"1\", \"2\", \"3\", \"4\", \"5\", \"6\", \"7\", \"8\", \"9\", \"10\", \"11\", \"12\", \"13\", \"14\", \"15\", \"16\", \"17\", \"18\", \"19\", \"20\", \"21\", \"22\", \"23\", \"24\", \"25\", \"26\", \"27\", \"28\", \"29\", \"30\", \"31\", \"32\", \"33\", \"36\", \"37\"], \"mode\": \"markers\", \"name\": \"norm_macro_recall\", \"stepped\": false, \"type\": \"scatter\", \"data\": [0.44916452246220623, 0.4171325356634557, 0.07594839669102611, 0.00012198668532881207, 0.47042900795723847, 0.476513417159443, 0.4087785594517041, 0.36301081541996394, 0.37426286725482494, 0.37446690978850766, 0.35933451543586126, 0.09363193409310613, 0.26169557367048035, 0.11465160702174093, 0.2761190004136496, 0.13238679275987697, 0.334707182572309, 0.07321536113733015, 0.19836891993747746, 0.29168880495460653, 0.07451489261181887, 0.2494253651448007, 0.2940160147502534, 0.41399925071605514, 0.14469928286971107, 0.0, 0.2552803461445473, 0.0760120224049889, 0.32131425504932926, 0.3908632233318422, 0.11044009945363173, 0.26361883411975345, 0.40967593867035673, 0.3903770045730742, 0.46748065819377704, 0.4309646702318496]}, {\"categories\": [\"0\", \"1\", \"2\", \"3\", \"4\", \"5\", \"6\", \"7\", \"8\", \"9\", \"10\", \"11\", \"12\", \"13\", \"14\", \"15\", \"16\", \"17\", \"18\", \"19\", \"20\", \"21\", \"22\", \"23\", \"24\", \"25\", \"26\", \"27\", \"28\", \"29\", \"30\", \"31\", \"32\", \"33\", \"36\", \"37\"], \"mode\": \"lines\", \"name\": \"norm_macro_recall_max\", \"stepped\": true, \"type\": \"scatter\", \"data\": [0.44916452246220623, 0.44916452246220623, 0.44916452246220623, 0.44916452246220623, 0.47042900795723847, 0.476513417159443, 0.476513417159443, 0.476513417159443, 0.476513417159443, 0.476513417159443, 0.476513417159443, 0.476513417159443, 0.476513417159443, 0.476513417159443, 0.476513417159443, 0.476513417159443, 0.476513417159443, 0.476513417159443, 0.476513417159443, 0.476513417159443, 0.476513417159443, 0.476513417159443, 0.476513417159443, 0.476513417159443, 0.476513417159443, 0.476513417159443, 0.476513417159443, 0.476513417159443, 0.476513417159443, 0.476513417159443, 0.476513417159443, 0.476513417159443, 0.476513417159443, 0.476513417159443, 0.476513417159443, 0.476513417159443]}], \"matthews_correlation\": [{\"categories\": [\"0\", \"1\", \"2\", \"3\", \"4\", \"5\", \"6\", \"7\", \"8\", \"9\", \"10\", \"11\", \"12\", \"13\", \"14\", \"15\", \"16\", \"17\", \"18\", \"19\", \"20\", \"21\", \"22\", \"23\", \"24\", \"25\", \"26\", \"27\", \"28\", \"29\", \"30\", \"31\", \"32\", \"33\", \"36\", \"37\"], \"mode\": \"markers\", \"name\": \"matthews_correlation\", \"stepped\": false, \"type\": \"scatter\", \"data\": [0.4519757106792719, 0.43241749797212686, 0.1638965851096795, 0.0010427735777439344, 0.41924768279596625, 0.41969383495524826, 0.4265526246092791, 0.39521191807950473, 0.39773540478597724, 0.40117622635041245, 0.389317552243278, 0.1843609451538915, 0.32261792788083954, 0.20479571960589232, 0.3286875387222018, 0.22104819350284627, 0.3716437171384484, 0.1644825014536277, 0.2721829715411566, 0.34438689728185334, 0.1655494700817692, 0.31388466983561225, 0.3487998568233416, 0.37003105582685475, 0.20835641109352904, 0.0, 0.3187548549108196, 0.16584534340900803, 0.36169332492281037, 0.41416391040953915, 0.2013847150490183, 0.32482327075834394, 0.43017928014023, 0.416876729771979, 0.4657253146115708, 0.44109223939897346]}, {\"categories\": [\"0\", \"1\", \"2\", \"3\", \"4\", \"5\", \"6\", \"7\", \"8\", \"9\", \"10\", \"11\", \"12\", \"13\", \"14\", \"15\", \"16\", \"17\", \"18\", \"19\", \"20\", \"21\", \"22\", \"23\", \"24\", \"25\", \"26\", \"27\", \"28\", \"29\", \"30\", \"31\", \"32\", \"33\", \"36\", \"37\"], \"mode\": \"lines\", \"name\": \"matthews_correlation_max\", \"stepped\": true, \"type\": \"scatter\", \"data\": [0.4519757106792719, 0.4519757106792719, 0.4519757106792719, 0.4519757106792719, 0.4519757106792719, 0.4519757106792719, 0.4519757106792719, 0.4519757106792719, 0.4519757106792719, 0.4519757106792719, 0.4519757106792719, 0.4519757106792719, 0.4519757106792719, 0.4519757106792719, 0.4519757106792719, 0.4519757106792719, 0.4519757106792719, 0.4519757106792719, 0.4519757106792719, 0.4519757106792719, 0.4519757106792719, 0.4519757106792719, 0.4519757106792719, 0.4519757106792719, 0.4519757106792719, 0.4519757106792719, 0.4519757106792719, 0.4519757106792719, 0.4519757106792719, 0.4519757106792719, 0.4519757106792719, 0.4519757106792719, 0.4519757106792719, 0.4519757106792719, 0.4657253146115708, 0.4657253146115708]}]}, \"metricName\": null, \"primaryMetricName\": \"accuracy\", \"showLegend\": false}, \"run_metrics\": [{\"name\": \"experiment_status\", \"run_id\": \"AutoML_ac80c775-a318-450a-be96-6a83a1daccd1\", \"categories\": [0, 1, 2, 3, 4, 5, 6, 7, 8, 9, 10, 11, 12, 13], \"series\": [{\"data\": [\"DatasetEvaluation\", \"FeaturesGeneration\", \"DatasetFeaturization\", \"DatasetFeaturizationCompleted\", \"DatasetCrossValidationSplit\", \"ModelSelection\", \"BestRunExplainModel\", \"ModelExplanationDataSetSetup\", \"PickSurrogateModel\", \"EngineeredFeatureExplanations\", \"EngineeredFeatureExplanations\", \"RawFeaturesExplanations\", \"RawFeaturesExplanations\", \"BestRunExplainModel\"]}]}, {\"name\": \"experiment_status_description\", \"run_id\": \"AutoML_ac80c775-a318-450a-be96-6a83a1daccd1\", \"categories\": [0, 1, 2, 3, 4, 5, 6, 7, 8, 9, 10, 11, 12, 13], \"series\": [{\"data\": [\"Gathering dataset statistics.\", \"Generating features for the dataset.\", \"Beginning to fit featurizers and featurize the dataset.\", \"Completed fit featurizers and featurizing the dataset.\", \"Generating individually featurized CV splits.\", \"Beginning model selection.\", \"Best run model explanations started\", \"Model explanations data setup completed\", \"Choosing LightGBM as the surrogate model for explanations\", \"Computation of engineered features started\", \"Computation of engineered features completed\", \"Computation of raw features started\", \"Computation of raw features completed\", \"Best run model explanations completed\"]}]}, {\"name\": \"recall_score_macro\", \"run_id\": \"AutoML_ac80c775-a318-450a-be96-6a83a1daccd1\", \"categories\": [0], \"series\": [{\"data\": [0.7337403290968885]}]}, {\"name\": \"f1_score_weighted\", \"run_id\": \"AutoML_ac80c775-a318-450a-be96-6a83a1daccd1\", \"categories\": [0], \"series\": [{\"data\": [0.7995115482708414]}]}, {\"name\": \"AUC_macro\", \"run_id\": \"AutoML_ac80c775-a318-450a-be96-6a83a1daccd1\", \"categories\": [0], \"series\": [{\"data\": [0.8017519355183292]}]}, {\"name\": \"f1_score_macro\", \"run_id\": \"AutoML_ac80c775-a318-450a-be96-6a83a1daccd1\", \"categories\": [0], \"series\": [{\"data\": [0.73270710965071]}]}, {\"name\": \"log_loss\", \"run_id\": \"AutoML_ac80c775-a318-450a-be96-6a83a1daccd1\", \"categories\": [0], \"series\": [{\"data\": [0.4593537414845009]}]}, {\"name\": \"average_precision_score_macro\", \"run_id\": \"AutoML_ac80c775-a318-450a-be96-6a83a1daccd1\", \"categories\": [0], \"series\": [{\"data\": [0.7253544972659199]}]}, {\"name\": \"average_precision_score_weighted\", \"run_id\": \"AutoML_ac80c775-a318-450a-be96-6a83a1daccd1\", \"categories\": [0], \"series\": [{\"data\": [0.8149878679558672]}]}, {\"name\": \"average_precision_score_micro\", \"run_id\": \"AutoML_ac80c775-a318-450a-be96-6a83a1daccd1\", \"categories\": [0], \"series\": [{\"data\": [0.8633854243952636]}]}, {\"name\": \"precision_score_micro\", \"run_id\": \"AutoML_ac80c775-a318-450a-be96-6a83a1daccd1\", \"categories\": [0], \"series\": [{\"data\": [0.7991443552733468]}]}, {\"name\": \"accuracy\", \"run_id\": \"AutoML_ac80c775-a318-450a-be96-6a83a1daccd1\", \"categories\": [0], \"series\": [{\"data\": [0.7991443552733468]}]}, {\"name\": \"AUC_micro\", \"run_id\": \"AutoML_ac80c775-a318-450a-be96-6a83a1daccd1\", \"categories\": [0], \"series\": [{\"data\": [0.876836534273006]}]}, {\"name\": \"balanced_accuracy\", \"run_id\": \"AutoML_ac80c775-a318-450a-be96-6a83a1daccd1\", \"categories\": [0], \"series\": [{\"data\": [0.7337403290968885]}]}, {\"name\": \"norm_macro_recall\", \"run_id\": \"AutoML_ac80c775-a318-450a-be96-6a83a1daccd1\", \"categories\": [0], \"series\": [{\"data\": [0.46748065819377704]}]}, {\"name\": \"recall_score_weighted\", \"run_id\": \"AutoML_ac80c775-a318-450a-be96-6a83a1daccd1\", \"categories\": [0], \"series\": [{\"data\": [0.7991443552733468]}]}, {\"name\": \"precision_score_macro\", \"run_id\": \"AutoML_ac80c775-a318-450a-be96-6a83a1daccd1\", \"categories\": [0], \"series\": [{\"data\": [0.7320392406836119]}]}, {\"name\": \"weighted_accuracy\", \"run_id\": \"AutoML_ac80c775-a318-450a-be96-6a83a1daccd1\", \"categories\": [0], \"series\": [{\"data\": [0.8383094123788132]}]}, {\"name\": \"precision_score_weighted\", \"run_id\": \"AutoML_ac80c775-a318-450a-be96-6a83a1daccd1\", \"categories\": [0], \"series\": [{\"data\": [0.8001094368443452]}]}, {\"name\": \"AUC_weighted\", \"run_id\": \"AutoML_ac80c775-a318-450a-be96-6a83a1daccd1\", \"categories\": [0], \"series\": [{\"data\": [0.8017519533033456]}]}, {\"name\": \"matthews_correlation\", \"run_id\": \"AutoML_ac80c775-a318-450a-be96-6a83a1daccd1\", \"categories\": [0], \"series\": [{\"data\": [0.4657253146115708]}]}, {\"name\": \"recall_score_micro\", \"run_id\": \"AutoML_ac80c775-a318-450a-be96-6a83a1daccd1\", \"categories\": [0], \"series\": [{\"data\": [0.7991443552733468]}]}, {\"name\": \"f1_score_micro\", \"run_id\": \"AutoML_ac80c775-a318-450a-be96-6a83a1daccd1\", \"categories\": [0], \"series\": [{\"data\": [0.7991443552733468]}]}], \"run_logs\": \"\\nRun is completed.\", \"graph\": {}, \"widget_settings\": {\"childWidgetDisplay\": \"popup\", \"send_telemetry\": false, \"log_level\": \"INFO\", \"sdk_version\": \"1.20.0\"}, \"loading\": false}"
          },
          "metadata": {}
        }
      ],
      "execution_count": 16,
      "metadata": {
        "gather": {
          "logged": 1611957100803
        },
        "jupyter": {
          "outputs_hidden": false,
          "source_hidden": false
        },
        "nteract": {
          "transient": {
            "deleting": false
          }
        }
      }
    },
    {
      "cell_type": "code",
      "source": [
        "remote_run.wait_for_completion()\r\n"
      ],
      "outputs": [
        {
          "output_type": "execute_result",
          "execution_count": 17,
          "data": {
            "text/plain": "{'runId': 'AutoML_ac80c775-a318-450a-be96-6a83a1daccd1',\n 'target': 'cpu-cluster',\n 'status': 'Completed',\n 'startTimeUtc': '2021-01-29T21:23:13.625445Z',\n 'endTimeUtc': '2021-01-29T21:50:56.800505Z',\n 'properties': {'num_iterations': '1000',\n  'training_type': 'TrainFull',\n  'acquisition_function': 'EI',\n  'primary_metric': 'accuracy',\n  'train_split': '0',\n  'acquisition_parameter': '0',\n  'num_cross_validation': '5',\n  'target': 'cpu-cluster',\n  'AMLSettingsJsonString': '{\"path\":null,\"name\":\"jobchangeautoml\",\"subscription_id\":\"610d6e37-4747-4a20-80eb-3aad70a55f43\",\"resource_group\":\"aml-quickstarts-136529\",\"workspace_name\":\"quick-starts-ws-136529\",\"region\":\"southcentralus\",\"compute_target\":\"cpu-cluster\",\"spark_service\":null,\"azure_service\":\"remote\",\"many_models\":false,\"pipeline_fetch_max_batch_size\":1,\"iterations\":1000,\"primary_metric\":\"accuracy\",\"task_type\":\"classification\",\"data_script\":null,\"validation_size\":0.0,\"n_cross_validations\":5,\"y_min\":null,\"y_max\":null,\"num_classes\":null,\"featurization\":\"auto\",\"_ignore_package_version_incompatibilities\":false,\"is_timeseries\":false,\"max_cores_per_iteration\":1,\"max_concurrent_iterations\":4,\"iteration_timeout_minutes\":null,\"mem_in_mb\":null,\"enforce_time_on_windows\":false,\"experiment_timeout_minutes\":30,\"experiment_exit_score\":null,\"whitelist_models\":null,\"blacklist_algos\":[\"TensorFlowLinearClassifier\",\"TensorFlowDNN\"],\"supported_models\":[\"MultinomialNaiveBayes\",\"TensorFlowLinearClassifier\",\"LightGBM\",\"ExtremeRandomTrees\",\"BernoulliNaiveBayes\",\"LinearSVM\",\"AveragedPerceptronClassifier\",\"SGD\",\"LogisticRegression\",\"SVM\",\"TensorFlowDNN\",\"DecisionTree\",\"RandomForest\",\"XGBoostClassifier\",\"GradientBoosting\",\"KNN\"],\"auto_blacklist\":true,\"blacklist_samples_reached\":false,\"exclude_nan_labels\":true,\"verbosity\":20,\"_debug_log\":\"azureml_automl.log\",\"show_warnings\":false,\"model_explainability\":true,\"service_url\":null,\"sdk_url\":null,\"sdk_packages\":null,\"enable_onnx_compatible_models\":false,\"enable_split_onnx_featurizer_estimator_models\":false,\"vm_type\":\"STANDARD_D12_V2\",\"telemetry_verbosity\":20,\"send_telemetry\":true,\"enable_dnn\":false,\"scenario\":\"SDK-1.13.0\",\"environment_label\":null,\"force_text_dnn\":false,\"enable_feature_sweeping\":true,\"enable_early_stopping\":true,\"early_stopping_n_iters\":10,\"metrics\":null,\"enable_ensembling\":true,\"enable_stack_ensembling\":true,\"ensemble_iterations\":15,\"enable_tf\":false,\"enable_subsampling\":null,\"subsample_seed\":null,\"enable_nimbusml\":false,\"enable_streaming\":false,\"force_streaming\":false,\"track_child_runs\":true,\"allowed_private_models\":[],\"label_column_name\":\"target\",\"weight_column_name\":null,\"cv_split_column_names\":null,\"enable_local_managed\":false,\"_local_managed_run_id\":null,\"cost_mode\":1,\"lag_length\":0,\"metric_operation\":\"maximize\",\"preprocess\":true}',\n  'DataPrepJsonString': '{\\\\\"training_data\\\\\": \\\\\"{\\\\\\\\\\\\\"blocks\\\\\\\\\\\\\": [{\\\\\\\\\\\\\"id\\\\\\\\\\\\\": \\\\\\\\\\\\\"3b1af3f7-335e-4895-9dd8-d3b3011bfdee\\\\\\\\\\\\\", \\\\\\\\\\\\\"type\\\\\\\\\\\\\": \\\\\\\\\\\\\"Microsoft.DPrep.GetDatastoreFilesBlock\\\\\\\\\\\\\", \\\\\\\\\\\\\"arguments\\\\\\\\\\\\\": {\\\\\\\\\\\\\"datastores\\\\\\\\\\\\\": [{\\\\\\\\\\\\\"datastoreName\\\\\\\\\\\\\": \\\\\\\\\\\\\"workspaceblobstore\\\\\\\\\\\\\", \\\\\\\\\\\\\"path\\\\\\\\\\\\\": \\\\\\\\\\\\\"UI/01-29-2021_091148_UTC/aug_train.csv\\\\\\\\\\\\\", \\\\\\\\\\\\\"resourceGroup\\\\\\\\\\\\\": \\\\\\\\\\\\\"aml-quickstarts-136529\\\\\\\\\\\\\", \\\\\\\\\\\\\"subscription\\\\\\\\\\\\\": \\\\\\\\\\\\\"610d6e37-4747-4a20-80eb-3aad70a55f43\\\\\\\\\\\\\", \\\\\\\\\\\\\"workspaceName\\\\\\\\\\\\\": \\\\\\\\\\\\\"quick-starts-ws-136529\\\\\\\\\\\\\"}]}, \\\\\\\\\\\\\"localData\\\\\\\\\\\\\": {}, \\\\\\\\\\\\\"isEnabled\\\\\\\\\\\\\": true, \\\\\\\\\\\\\"name\\\\\\\\\\\\\": null, \\\\\\\\\\\\\"annotation\\\\\\\\\\\\\": null}, {\\\\\\\\\\\\\"id\\\\\\\\\\\\\": \\\\\\\\\\\\\"ed1f8744-e243-4da7-a826-7fd6e1d57974\\\\\\\\\\\\\", \\\\\\\\\\\\\"type\\\\\\\\\\\\\": \\\\\\\\\\\\\"Microsoft.DPrep.ParseDelimitedBlock\\\\\\\\\\\\\", \\\\\\\\\\\\\"arguments\\\\\\\\\\\\\": {\\\\\\\\\\\\\"columnHeadersMode\\\\\\\\\\\\\": 1, \\\\\\\\\\\\\"fileEncoding\\\\\\\\\\\\\": 0, \\\\\\\\\\\\\"handleQuotedLineBreaks\\\\\\\\\\\\\": false, \\\\\\\\\\\\\"preview\\\\\\\\\\\\\": false, \\\\\\\\\\\\\"separator\\\\\\\\\\\\\": \\\\\\\\\\\\\",\\\\\\\\\\\\\", \\\\\\\\\\\\\"skipRows\\\\\\\\\\\\\": 0, \\\\\\\\\\\\\"skipRowsMode\\\\\\\\\\\\\": 0}, \\\\\\\\\\\\\"localData\\\\\\\\\\\\\": {}, \\\\\\\\\\\\\"isEnabled\\\\\\\\\\\\\": true, \\\\\\\\\\\\\"name\\\\\\\\\\\\\": null, \\\\\\\\\\\\\"annotation\\\\\\\\\\\\\": null}, {\\\\\\\\\\\\\"id\\\\\\\\\\\\\": \\\\\\\\\\\\\"d3152d32-e785-445b-ab17-2a1730a86999\\\\\\\\\\\\\", \\\\\\\\\\\\\"type\\\\\\\\\\\\\": \\\\\\\\\\\\\"Microsoft.DPrep.DropColumnsBlock\\\\\\\\\\\\\", \\\\\\\\\\\\\"arguments\\\\\\\\\\\\\": {\\\\\\\\\\\\\"columns\\\\\\\\\\\\\": {\\\\\\\\\\\\\"type\\\\\\\\\\\\\": 0, \\\\\\\\\\\\\"details\\\\\\\\\\\\\": {\\\\\\\\\\\\\"selectedColumns\\\\\\\\\\\\\": [\\\\\\\\\\\\\"Path\\\\\\\\\\\\\"]}}}, \\\\\\\\\\\\\"localData\\\\\\\\\\\\\": {}, \\\\\\\\\\\\\"isEnabled\\\\\\\\\\\\\": true, \\\\\\\\\\\\\"name\\\\\\\\\\\\\": null, \\\\\\\\\\\\\"annotation\\\\\\\\\\\\\": null}, {\\\\\\\\\\\\\"id\\\\\\\\\\\\\": \\\\\\\\\\\\\"43159dac-be13-4858-8948-ccc101cca9b6\\\\\\\\\\\\\", \\\\\\\\\\\\\"type\\\\\\\\\\\\\": \\\\\\\\\\\\\"Microsoft.DPrep.SetColumnTypesBlock\\\\\\\\\\\\\", \\\\\\\\\\\\\"arguments\\\\\\\\\\\\\": {\\\\\\\\\\\\\"columnConversion\\\\\\\\\\\\\": [{\\\\\\\\\\\\\"column\\\\\\\\\\\\\": {\\\\\\\\\\\\\"type\\\\\\\\\\\\\": 2, \\\\\\\\\\\\\"details\\\\\\\\\\\\\": {\\\\\\\\\\\\\"selectedColumn\\\\\\\\\\\\\": \\\\\\\\\\\\\"Path\\\\\\\\\\\\\"}}, \\\\\\\\\\\\\"typeProperty\\\\\\\\\\\\\": 0}, {\\\\\\\\\\\\\"column\\\\\\\\\\\\\": {\\\\\\\\\\\\\"type\\\\\\\\\\\\\": 2, \\\\\\\\\\\\\"details\\\\\\\\\\\\\": {\\\\\\\\\\\\\"selectedColumn\\\\\\\\\\\\\": \\\\\\\\\\\\\"enrollee_id\\\\\\\\\\\\\"}}, \\\\\\\\\\\\\"typeProperty\\\\\\\\\\\\\": 2}, {\\\\\\\\\\\\\"column\\\\\\\\\\\\\": {\\\\\\\\\\\\\"type\\\\\\\\\\\\\": 2, \\\\\\\\\\\\\"details\\\\\\\\\\\\\": {\\\\\\\\\\\\\"selectedColumn\\\\\\\\\\\\\": \\\\\\\\\\\\\"city\\\\\\\\\\\\\"}}, \\\\\\\\\\\\\"typeProperty\\\\\\\\\\\\\": 0}, {\\\\\\\\\\\\\"column\\\\\\\\\\\\\": {\\\\\\\\\\\\\"type\\\\\\\\\\\\\": 2, \\\\\\\\\\\\\"details\\\\\\\\\\\\\": {\\\\\\\\\\\\\"selectedColumn\\\\\\\\\\\\\": \\\\\\\\\\\\\"city_development_index\\\\\\\\\\\\\"}}, \\\\\\\\\\\\\"typeProperty\\\\\\\\\\\\\": 3}, {\\\\\\\\\\\\\"column\\\\\\\\\\\\\": {\\\\\\\\\\\\\"type\\\\\\\\\\\\\": 2, \\\\\\\\\\\\\"details\\\\\\\\\\\\\": {\\\\\\\\\\\\\"selectedColumn\\\\\\\\\\\\\": \\\\\\\\\\\\\"gender\\\\\\\\\\\\\"}}, \\\\\\\\\\\\\"typeProperty\\\\\\\\\\\\\": 0}, {\\\\\\\\\\\\\"column\\\\\\\\\\\\\": {\\\\\\\\\\\\\"type\\\\\\\\\\\\\": 2, \\\\\\\\\\\\\"details\\\\\\\\\\\\\": {\\\\\\\\\\\\\"selectedColumn\\\\\\\\\\\\\": \\\\\\\\\\\\\"relevent_experience\\\\\\\\\\\\\"}}, \\\\\\\\\\\\\"typeProperty\\\\\\\\\\\\\": 0}, {\\\\\\\\\\\\\"column\\\\\\\\\\\\\": {\\\\\\\\\\\\\"type\\\\\\\\\\\\\": 2, \\\\\\\\\\\\\"details\\\\\\\\\\\\\": {\\\\\\\\\\\\\"selectedColumn\\\\\\\\\\\\\": \\\\\\\\\\\\\"enrolled_university\\\\\\\\\\\\\"}}, \\\\\\\\\\\\\"typeProperty\\\\\\\\\\\\\": 0}, {\\\\\\\\\\\\\"column\\\\\\\\\\\\\": {\\\\\\\\\\\\\"type\\\\\\\\\\\\\": 2, \\\\\\\\\\\\\"details\\\\\\\\\\\\\": {\\\\\\\\\\\\\"selectedColumn\\\\\\\\\\\\\": \\\\\\\\\\\\\"education_level\\\\\\\\\\\\\"}}, \\\\\\\\\\\\\"typeProperty\\\\\\\\\\\\\": 0}, {\\\\\\\\\\\\\"column\\\\\\\\\\\\\": {\\\\\\\\\\\\\"type\\\\\\\\\\\\\": 2, \\\\\\\\\\\\\"details\\\\\\\\\\\\\": {\\\\\\\\\\\\\"selectedColumn\\\\\\\\\\\\\": \\\\\\\\\\\\\"major_discipline\\\\\\\\\\\\\"}}, \\\\\\\\\\\\\"typeProperty\\\\\\\\\\\\\": 0}, {\\\\\\\\\\\\\"column\\\\\\\\\\\\\": {\\\\\\\\\\\\\"type\\\\\\\\\\\\\": 2, \\\\\\\\\\\\\"details\\\\\\\\\\\\\": {\\\\\\\\\\\\\"selectedColumn\\\\\\\\\\\\\": \\\\\\\\\\\\\"experience\\\\\\\\\\\\\"}}, \\\\\\\\\\\\\"typeProperty\\\\\\\\\\\\\": 0}, {\\\\\\\\\\\\\"column\\\\\\\\\\\\\": {\\\\\\\\\\\\\"type\\\\\\\\\\\\\": 2, \\\\\\\\\\\\\"details\\\\\\\\\\\\\": {\\\\\\\\\\\\\"selectedColumn\\\\\\\\\\\\\": \\\\\\\\\\\\\"company_size\\\\\\\\\\\\\"}}, \\\\\\\\\\\\\"typeProperty\\\\\\\\\\\\\": 0}, {\\\\\\\\\\\\\"column\\\\\\\\\\\\\": {\\\\\\\\\\\\\"type\\\\\\\\\\\\\": 2, \\\\\\\\\\\\\"details\\\\\\\\\\\\\": {\\\\\\\\\\\\\"selectedColumn\\\\\\\\\\\\\": \\\\\\\\\\\\\"company_type\\\\\\\\\\\\\"}}, \\\\\\\\\\\\\"typeProperty\\\\\\\\\\\\\": 0}, {\\\\\\\\\\\\\"column\\\\\\\\\\\\\": {\\\\\\\\\\\\\"type\\\\\\\\\\\\\": 2, \\\\\\\\\\\\\"details\\\\\\\\\\\\\": {\\\\\\\\\\\\\"selectedColumn\\\\\\\\\\\\\": \\\\\\\\\\\\\"last_new_job\\\\\\\\\\\\\"}}, \\\\\\\\\\\\\"typeProperty\\\\\\\\\\\\\": 0}, {\\\\\\\\\\\\\"column\\\\\\\\\\\\\": {\\\\\\\\\\\\\"type\\\\\\\\\\\\\": 2, \\\\\\\\\\\\\"details\\\\\\\\\\\\\": {\\\\\\\\\\\\\"selectedColumn\\\\\\\\\\\\\": \\\\\\\\\\\\\"training_hours\\\\\\\\\\\\\"}}, \\\\\\\\\\\\\"typeProperty\\\\\\\\\\\\\": 2}, {\\\\\\\\\\\\\"column\\\\\\\\\\\\\": {\\\\\\\\\\\\\"type\\\\\\\\\\\\\": 2, \\\\\\\\\\\\\"details\\\\\\\\\\\\\": {\\\\\\\\\\\\\"selectedColumn\\\\\\\\\\\\\": \\\\\\\\\\\\\"target\\\\\\\\\\\\\"}}, \\\\\\\\\\\\\"typeProperty\\\\\\\\\\\\\": 3}]}, \\\\\\\\\\\\\"localData\\\\\\\\\\\\\": {}, \\\\\\\\\\\\\"isEnabled\\\\\\\\\\\\\": true, \\\\\\\\\\\\\"name\\\\\\\\\\\\\": null, \\\\\\\\\\\\\"annotation\\\\\\\\\\\\\": null}], \\\\\\\\\\\\\"inspectors\\\\\\\\\\\\\": [], \\\\\\\\\\\\\"meta\\\\\\\\\\\\\": {\\\\\\\\\\\\\"savedDatasetId\\\\\\\\\\\\\": \\\\\\\\\\\\\"e098c5a6-073e-4b90-bb42-8f3e723b5b25\\\\\\\\\\\\\", \\\\\\\\\\\\\"datasetType\\\\\\\\\\\\\": \\\\\\\\\\\\\"tabular\\\\\\\\\\\\\", \\\\\\\\\\\\\"subscriptionId\\\\\\\\\\\\\": \\\\\\\\\\\\\"610d6e37-4747-4a20-80eb-3aad70a55f43\\\\\\\\\\\\\", \\\\\\\\\\\\\"workspaceId\\\\\\\\\\\\\": \\\\\\\\\\\\\"7526c0db-a06c-4e0e-975f-b3ef7fffc869\\\\\\\\\\\\\", \\\\\\\\\\\\\"workspaceLocation\\\\\\\\\\\\\": \\\\\\\\\\\\\"southcentralus\\\\\\\\\\\\\"}}\\\\\", \\\\\"activities\\\\\": 0}',\n  'EnableSubsampling': None,\n  'runTemplate': 'AutoML',\n  'azureml.runsource': 'automl',\n  'display_task_type': 'classification',\n  'dependencies_versions': '{\"azureml-widgets\": \"1.20.0\", \"azureml-train\": \"1.20.0\", \"azureml-train-restclients-hyperdrive\": \"1.20.0\", \"azureml-train-core\": \"1.20.0\", \"azureml-train-automl\": \"1.20.0\", \"azureml-train-automl-runtime\": \"1.20.0\", \"azureml-train-automl-client\": \"1.20.0\", \"azureml-tensorboard\": \"1.20.0\", \"azureml-telemetry\": \"1.20.0\", \"azureml-sdk\": \"1.20.0\", \"azureml-samples\": \"0+unknown\", \"azureml-pipeline\": \"1.20.0\", \"azureml-pipeline-steps\": \"1.20.0\", \"azureml-pipeline-core\": \"1.20.0\", \"azureml-opendatasets\": \"1.20.0\", \"azureml-model-management-sdk\": \"1.0.1b6.post1\", \"azureml-mlflow\": \"1.20.0.post1\", \"azureml-interpret\": \"1.20.0\", \"azureml-explain-model\": \"1.20.0\", \"azureml-defaults\": \"1.20.0\", \"azureml-dataset-runtime\": \"1.20.0\", \"azureml-dataprep\": \"2.7.3\", \"azureml-dataprep-rslex\": \"1.5.0\", \"azureml-dataprep-native\": \"27.0.0\", \"azureml-datadrift\": \"1.20.0\", \"azureml-core\": \"1.20.0\", \"azureml-contrib-services\": \"1.20.0\", \"azureml-contrib-server\": \"1.20.0\", \"azureml-contrib-reinforcementlearning\": \"1.20.0\", \"azureml-contrib-pipeline-steps\": \"1.20.0\", \"azureml-contrib-notebook\": \"1.20.0\", \"azureml-contrib-interpret\": \"1.20.0\", \"azureml-contrib-gbdt\": \"1.20.0\", \"azureml-contrib-fairness\": \"1.20.0\", \"azureml-contrib-dataset\": \"1.20.0\", \"azureml-cli-common\": \"1.20.0\", \"azureml-automl-runtime\": \"1.20.0\", \"azureml-automl-core\": \"1.20.0\", \"azureml-accel-models\": \"1.20.0\"}',\n  '_aml_system_scenario_identification': 'Remote.Parent',\n  'ClientType': 'SDK',\n  'environment_cpu_name': 'AzureML-AutoML',\n  'environment_cpu_label': 'prod',\n  'environment_gpu_name': 'AzureML-AutoML-GPU',\n  'environment_gpu_label': 'prod',\n  'root_attribution': 'automl',\n  'attribution': 'AutoML',\n  'Orchestrator': 'AutoML',\n  'CancelUri': 'https://southcentralus.experiments.azureml.net/jasmine/v1.0/subscriptions/610d6e37-4747-4a20-80eb-3aad70a55f43/resourceGroups/aml-quickstarts-136529/providers/Microsoft.MachineLearningServices/workspaces/quick-starts-ws-136529/experimentids/ddb4341f-cead-493d-9d06-d520871de155/cancel/AutoML_ac80c775-a318-450a-be96-6a83a1daccd1',\n  'ClientSdkVersion': '1.20.0.post1',\n  'snapshotId': '00000000-0000-0000-0000-000000000000',\n  'SetupRunId': 'AutoML_ac80c775-a318-450a-be96-6a83a1daccd1_setup',\n  'SetupRunContainerId': 'dcid.AutoML_ac80c775-a318-450a-be96-6a83a1daccd1_setup',\n  'FeaturizationRunJsonPath': 'featurizer_container.json',\n  'FeaturizationRunId': 'AutoML_ac80c775-a318-450a-be96-6a83a1daccd1_featurize',\n  'ProblemInfoJsonString': '{\"dataset_num_categorical\": 0, \"is_sparse\": true, \"subsampling\": false, \"dataset_classes\": 2, \"dataset_features\": 194, \"dataset_samples\": 19158, \"single_frequency_class_detected\": false}',\n  'ModelExplainRunId': 'AutoML_ac80c775-a318-450a-be96-6a83a1daccd1_ModelExplain'},\n 'inputDatasets': [{'dataset': {'id': 'e098c5a6-073e-4b90-bb42-8f3e723b5b25'}, 'consumptionDetails': {'type': 'RunInput', 'inputName': 'training_data', 'mechanism': 'Direct'}}],\n 'outputDatasets': [],\n 'logFiles': {},\n 'submittedBy': 'ODL_User 136529'}"
          },
          "metadata": {}
        }
      ],
      "execution_count": 17,
      "metadata": {
        "collapsed": true,
        "jupyter": {
          "source_hidden": false,
          "outputs_hidden": false
        },
        "nteract": {
          "transient": {
            "deleting": false
          }
        },
        "gather": {
          "logged": 1611957104738
        }
      }
    },
    {
      "cell_type": "markdown",
      "source": [
        "## Best Model\n",
        "\n",
        "TODO: In the cell below, get the best model from the automl experiments and display all the properties of the model.\n",
        "\n"
      ],
      "metadata": {}
    },
    {
      "cell_type": "code",
      "source": [
        "best_run, fitted_model = remote_run.get_output()\r\n",
        "best_run_metrics = best_run.get_metrics()"
      ],
      "outputs": [],
      "execution_count": 18,
      "metadata": {
        "gather": {
          "logged": 1611958175491
        },
        "jupyter": {
          "outputs_hidden": false,
          "source_hidden": false
        },
        "nteract": {
          "transient": {
            "deleting": false
          }
        }
      }
    },
    {
      "cell_type": "code",
      "source": [
        "best_run"
      ],
      "outputs": [
        {
          "output_type": "execute_result",
          "execution_count": 19,
          "data": {
            "text/plain": "Run(Experiment: jobchangeautoml,\nId: AutoML_ac80c775-a318-450a-be96-6a83a1daccd1_36,\nType: azureml.scriptrun,\nStatus: Completed)",
            "text/html": "<table style=\"width:100%\"><tr><th>Experiment</th><th>Id</th><th>Type</th><th>Status</th><th>Details Page</th><th>Docs Page</th></tr><tr><td>jobchangeautoml</td><td>AutoML_ac80c775-a318-450a-be96-6a83a1daccd1_36</td><td>azureml.scriptrun</td><td>Completed</td><td><a href=\"https://ml.azure.com/experiments/jobchangeautoml/runs/AutoML_ac80c775-a318-450a-be96-6a83a1daccd1_36?wsid=/subscriptions/610d6e37-4747-4a20-80eb-3aad70a55f43/resourcegroups/aml-quickstarts-136529/workspaces/quick-starts-ws-136529\" target=\"_blank\" rel=\"noopener\">Link to Azure Machine Learning studio</a></td><td><a href=\"https://docs.microsoft.com/en-us/python/api/azureml-core/azureml.core.run.Run?view=azure-ml-py\" target=\"_blank\" rel=\"noopener\">Link to Documentation</a></td></tr></table>"
          },
          "metadata": {}
        }
      ],
      "execution_count": 19,
      "metadata": {
        "collapsed": true,
        "jupyter": {
          "source_hidden": false,
          "outputs_hidden": false
        },
        "nteract": {
          "transient": {
            "deleting": false
          }
        },
        "gather": {
          "logged": 1611958175654
        }
      }
    },
    {
      "cell_type": "code",
      "source": [
        "fitted_model"
      ],
      "outputs": [
        {
          "output_type": "execute_result",
          "execution_count": 20,
          "data": {
            "text/plain": "PipelineWithYTransformations(Pipeline={'memory': None,\n                                       'steps': [('datatransformer',\n                                                  DataTransformer(enable_dnn=None,\n                                                                  enable_feature_sweeping=None,\n                                                                  feature_sweeping_config=None,\n                                                                  feature_sweeping_timeout=None,\n                                                                  featurization_config=None,\n                                                                  force_text_dnn=None,\n                                                                  is_cross_validation=None,\n                                                                  is_onnx_compatible=None,\n                                                                  logger=None,\n                                                                  observer=None,\n                                                                  task=None,\n                                                                  working_dir=None))...\n                                                                                                                                     min_impurity_decrease=0.0,\n                                                                                                                                     min_impurity_split=None,\n                                                                                                                                     min_samples_leaf=0.01,\n                                                                                                                                     min_samples_split=0.01,\n                                                                                                                                     min_weight_fraction_leaf=0.0,\n                                                                                                                                     n_estimators=25,\n                                                                                                                                     n_jobs=1,\n                                                                                                                                     oob_score=True,\n                                                                                                                                     random_state=None,\n                                                                                                                                     verbose=0,\n                                                                                                                                     warm_start=False))],\n                                                                                                      verbose=False))],\n                                                                                flatten_transform=None,\n                                                                                weights=[0.1,\n                                                                                         0.1,\n                                                                                         0.2,\n                                                                                         0.2,\n                                                                                         0.1,\n                                                                                         0.1,\n                                                                                         0.1,\n                                                                                         0.1]))],\n                                       'verbose': False},\n                             y_transformer={},\n                             y_transformer_name='LabelEncoder')"
          },
          "metadata": {}
        }
      ],
      "execution_count": 20,
      "metadata": {
        "collapsed": true,
        "jupyter": {
          "source_hidden": false,
          "outputs_hidden": false
        },
        "nteract": {
          "transient": {
            "deleting": false
          }
        },
        "gather": {
          "logged": 1611958175897
        }
      }
    },
    {
      "cell_type": "code",
      "source": [
        "print('Best Run Id: ', best_run.id)\r\n",
        "print('\\n Accuracy:', best_run_metrics['accuracy'])\r\n",
        "print(fitted_model._final_estimator)\r\n",
        "print(best_run.get_tags())"
      ],
      "outputs": [
        {
          "output_type": "stream",
          "name": "stdout",
          "text": [
            "Best Run Id:  AutoML_ac80c775-a318-450a-be96-6a83a1daccd1_36\n",
            "\n",
            " Accuracy: 0.7991443552733468\n",
            "PreFittedSoftVotingClassifier(classification_labels=None,\n",
            "                              estimators=[('0',\n",
            "                                           Pipeline(memory=None,\n",
            "                                                    steps=[('maxabsscaler',\n",
            "                                                            MaxAbsScaler(copy=True)),\n",
            "                                                           ('lightgbmclassifier',\n",
            "                                                            LightGBMClassifier(boosting_type='gbdt',\n",
            "                                                                               class_weight=None,\n",
            "                                                                               colsample_bytree=1.0,\n",
            "                                                                               importance_type='split',\n",
            "                                                                               learning_rate=0.1,\n",
            "                                                                               max_depth=-1,\n",
            "                                                                               min_child_samples=20,\n",
            "                                                                               min_child_weight=0.001,\n",
            "                                                                               min_spl...\n",
            "                                                                                   max_features='log2',\n",
            "                                                                                   max_leaf_nodes=None,\n",
            "                                                                                   max_samples=None,\n",
            "                                                                                   min_impurity_decrease=0.0,\n",
            "                                                                                   min_impurity_split=None,\n",
            "                                                                                   min_samples_leaf=0.01,\n",
            "                                                                                   min_samples_split=0.01,\n",
            "                                                                                   min_weight_fraction_leaf=0.0,\n",
            "                                                                                   n_estimators=25,\n",
            "                                                                                   n_jobs=1,\n",
            "                                                                                   oob_score=True,\n",
            "                                                                                   random_state=None,\n",
            "                                                                                   verbose=0,\n",
            "                                                                                   warm_start=False))],\n",
            "                                                    verbose=False))],\n",
            "                              flatten_transform=None,\n",
            "                              weights=[0.1, 0.1, 0.2, 0.2, 0.1, 0.1, 0.1, 0.1])\n",
            "{'_aml_system_azureml.automlComponent': 'AutoML', '_aml_system_ComputeTargetStatus': '{\"AllocationState\":\"steady\",\"PreparingNodeCount\":0,\"RunningNodeCount\":0,\"CurrentNodeCount\":5}', 'ensembled_iterations': '[0, 32, 1, 33, 6, 23, 5, 4]', 'ensembled_algorithms': \"['LightGBM', 'LightGBM', 'XGBoostClassifier', 'LightGBM', 'XGBoostClassifier', 'LogisticRegression', 'RandomForest', 'RandomForest']\", 'ensemble_weights': '[0.1, 0.1, 0.2, 0.2, 0.1, 0.1, 0.1, 0.1]', 'best_individual_pipeline_score': '0.7959600397591562', 'best_individual_iteration': '0', '_aml_system_automl_is_child_run_end_telemetry_event_logged': 'True', 'model_explain_run_id': 'AutoML_ac80c775-a318-450a-be96-6a83a1daccd1_ModelExplain', 'model_explanation': 'True'}\n"
          ]
        }
      ],
      "execution_count": 21,
      "metadata": {
        "collapsed": true,
        "jupyter": {
          "source_hidden": false,
          "outputs_hidden": false
        },
        "nteract": {
          "transient": {
            "deleting": false
          }
        },
        "gather": {
          "logged": 1611958236285
        }
      }
    },
    {
      "cell_type": "code",
      "source": [
        "import os\r\n",
        "import joblib\r\n",
        "\r\n",
        "os.makedirs('./outputs', exist_ok=True)\r\n",
        "\r\n",
        "joblib.dump(fitted_model, filename='outputs/automl.joblib')\r\n",
        "\r\n",
        "model_name = best_run.properties['model_name']\r\n",
        "model_name"
      ],
      "outputs": [
        {
          "output_type": "execute_result",
          "execution_count": 22,
          "data": {
            "text/plain": "'AutoMLac80c775a36'"
          },
          "metadata": {}
        }
      ],
      "execution_count": 22,
      "metadata": {
        "gather": {
          "logged": 1611958251935
        },
        "jupyter": {
          "outputs_hidden": false,
          "source_hidden": false
        },
        "nteract": {
          "transient": {
            "deleting": false
          }
        }
      }
    },
    {
      "cell_type": "code",
      "source": [
        "env = best_run.get_environment()\r\n",
        "\r\n",
        "script_file = 'score.py'\r\n",
        "\r\n",
        "best_run.download_file('outputs/scoring_file_v_1_0_0.py', script_file)"
      ],
      "outputs": [],
      "execution_count": null,
      "metadata": {
        "collapsed": true,
        "jupyter": {
          "source_hidden": false,
          "outputs_hidden": false
        },
        "nteract": {
          "transient": {
            "deleting": false
          }
        }
      }
    },
    {
      "cell_type": "markdown",
      "source": [
        "## Model Deployment\n",
        "\n",
        "Remember you have to deploy only one of the two models you trained.. Perform the steps in the rest of this notebook only if you wish to deploy this model.\n",
        "\n",
        "TODO: In the cell below, register the model, create an inference config and deploy the model as a web service."
      ],
      "metadata": {}
    },
    {
      "cell_type": "code",
      "source": [
        "#Register the fitted model\r\n",
        "model = remote_run.register_model(model_name = model_name, #AutoMLac80c775a36\r\n",
        "                                  description = 'AutoML model')"
      ],
      "outputs": [],
      "execution_count": 23,
      "metadata": {
        "gather": {
          "logged": 1611962726722
        },
        "jupyter": {
          "outputs_hidden": false,
          "source_hidden": false
        },
        "nteract": {
          "transient": {
            "deleting": false
          }
        }
      }
    },
    {
      "cell_type": "code",
      "source": [
        "inference_config = InferenceConfig(entry_script = script_file, environment = env)\r\n",
        "\r\n",
        "aci_config = AciWebservice.deploy_configuration(cpu_cores = 1, memory_gb = 1)\r\n",
        "\r\n",
        "aci_service_name = 'automl-job-change'\r\n",
        "print(aci_service_name)"
      ],
      "outputs": [],
      "execution_count": null,
      "metadata": {
        "collapsed": true,
        "jupyter": {
          "source_hidden": false,
          "outputs_hidden": false
        },
        "nteract": {
          "transient": {
            "deleting": false
          }
        }
      }
    },
    {
      "cell_type": "code",
      "source": [
        "service = Model.deploy(ws, aci_service_name, [model], inference_config, aci_config)\r\n",
        "service.wait_for_deployment(True)\r\n",
        "print(\"State: \" + service.state)\r\n",
        "print(\"Scoring URI: \" + service.scoring_uri)"
      ],
      "outputs": [],
      "execution_count": null,
      "metadata": {
        "collapsed": true,
        "jupyter": {
          "source_hidden": false,
          "outputs_hidden": false
        },
        "nteract": {
          "transient": {
            "deleting": false
          }
        }
      }
    },
    {
      "cell_type": "code",
      "source": [
        "%run endpoint.py\r\n"
      ],
      "outputs": [],
      "execution_count": null,
      "metadata": {
        "collapsed": true,
        "jupyter": {
          "source_hidden": false,
          "outputs_hidden": false
        },
        "nteract": {
          "transient": {
            "deleting": false
          }
        }
      }
    },
    {
      "cell_type": "markdown",
      "source": [
        "TODO: In the cell below, send a request to the web service you deployed to test it."
      ],
      "metadata": {
        "collapsed": true,
        "gather": {
          "logged": 1598431657736
        },
        "jupyter": {
          "outputs_hidden": false,
          "source_hidden": false
        },
        "nteract": {
          "transient": {
            "deleting": false
          }
        }
      }
    },
    {
      "cell_type": "code",
      "source": [
        "data_test = Dataset"
      ],
      "outputs": [],
      "execution_count": null,
      "metadata": {
        "collapsed": true,
        "jupyter": {
          "source_hidden": false,
          "outputs_hidden": false
        },
        "nteract": {
          "transient": {
            "deleting": false
          }
        }
      }
    },
    {
      "cell_type": "code",
      "source": [
        "data_test = data_test.to_pandas_dataframe().dropna()\r\n",
        "data_sample = data_test.sample(3)\r\n",
        "y_true = data_sample.pop('target')\r\n",
        "sample_json = json.dumps({'data':data_sample.to_dict(orient='records')})\r\n",
        "print(sample_json)"
      ],
      "outputs": [],
      "execution_count": null,
      "metadata": {
        "gather": {
          "logged": 1598432707604
        },
        "jupyter": {
          "outputs_hidden": false,
          "source_hidden": false
        },
        "nteract": {
          "transient": {
            "deleting": false
          }
        }
      }
    },
    {
      "cell_type": "code",
      "source": [
        "output = service.run(sample_json)\r\n",
        "print('Prediction: ', output)\r\n",
        "print('True Values: ', y_true.values)"
      ],
      "outputs": [],
      "execution_count": null,
      "metadata": {
        "collapsed": true,
        "jupyter": {
          "source_hidden": false,
          "outputs_hidden": false
        },
        "nteract": {
          "transient": {
            "deleting": false
          }
        }
      }
    },
    {
      "cell_type": "code",
      "source": [
        "service.get_logs()\r\n"
      ],
      "outputs": [],
      "execution_count": null,
      "metadata": {
        "collapsed": true,
        "jupyter": {
          "source_hidden": false,
          "outputs_hidden": false
        },
        "nteract": {
          "transient": {
            "deleting": false
          }
        }
      }
    },
    {
      "cell_type": "markdown",
      "source": [
        "TODO: In the cell below, print the logs of the web service and delete the service"
      ],
      "metadata": {
        "collapsed": true,
        "gather": {
          "logged": 1598432765711
        },
        "jupyter": {
          "outputs_hidden": false,
          "source_hidden": false
        },
        "nteract": {
          "transient": {
            "deleting": false
          }
        }
      }
    },
    {
      "cell_type": "code",
      "source": [
        "service.get_logs()\r\n"
      ],
      "outputs": [],
      "execution_count": null,
      "metadata": {
        "jupyter": {
          "outputs_hidden": false,
          "source_hidden": false
        },
        "nteract": {
          "transient": {
            "deleting": false
          }
        }
      }
    },
    {
      "cell_type": "code",
      "source": [
        "service.delete()"
      ],
      "outputs": [],
      "execution_count": null,
      "metadata": {
        "collapsed": true,
        "jupyter": {
          "source_hidden": false,
          "outputs_hidden": false
        },
        "nteract": {
          "transient": {
            "deleting": false
          }
        }
      }
    }
  ],
  "metadata": {
    "kernel_info": {
      "name": "python3"
    },
    "kernelspec": {
      "name": "python3",
      "language": "python",
      "display_name": "Python 3"
    },
    "language_info": {
      "name": "python",
      "version": "3.6.9",
      "mimetype": "text/x-python",
      "codemirror_mode": {
        "name": "ipython",
        "version": 3
      },
      "pygments_lexer": "ipython3",
      "nbconvert_exporter": "python",
      "file_extension": ".py"
    },
    "nteract": {
      "version": "nteract-front-end@1.0.0"
    }
  },
  "nbformat": 4,
  "nbformat_minor": 2
}