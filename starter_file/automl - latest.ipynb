{
 "cells": [
  {
   "cell_type": "markdown",
   "metadata": {},
   "source": [
    "# Automated ML\n",
    "\n",
    "TODO: Import Dependencies. In the cell below, import all the dependencies that you will need to complete the project."
   ]
  },
  {
   "cell_type": "code",
   "execution_count": 1,
   "metadata": {
    "collapsed": false,
    "gather": {
     "logged": 1611955113890
    },
    "jupyter": {
     "outputs_hidden": false,
     "source_hidden": false
    },
    "nteract": {
     "transient": {
      "deleting": false
     }
    }
   },
   "outputs": [],
   "source": [
    "from azureml.core import Dataset, Workspace, Experiment\r\n",
    "from azureml.core.compute import ComputeTarget, AmlCompute\r\n",
    "from azureml.core.compute_target import ComputeTargetException\r\n",
    "from azureml.widgets import RunDetails\r\n",
    "from azureml.train.automl import AutoMLConfig\r\n",
    "\r\n",
    "from azureml.core.model import InferenceConfig\r\n",
    "from azureml.core.webservice import AciWebservice, Webservice\r\n",
    "from azureml.core.model import Model\r\n",
    "from azureml.core.environment import Environment"
   ]
  },
  {
   "cell_type": "markdown",
   "metadata": {},
   "source": [
    "## Dataset\n",
    "\n",
    "### Overview\n",
    "TODO: In this markdown cell, give an overview of the dataset you are using. Also mention the task you will be performing.\n",
    "\n",
    "\n",
    "TODO: Get data. In the cell below, write code to access the data you will be using in this project. Remember that the dataset needs to be external."
   ]
  },
  {
   "cell_type": "code",
   "execution_count": 2,
   "metadata": {
    "collapsed": false,
    "gather": {
     "logged": 1611954915167
    },
    "jupyter": {
     "outputs_hidden": false,
     "source_hidden": false
    },
    "nteract": {
     "transient": {
      "deleting": false
     }
    }
   },
   "outputs": [],
   "source": [
    "ws = Workspace.from_config()\n",
    "\n",
    "# choose a name for experiment\n",
    "experiment_name = 'jobchangeautoml'\n",
    "\n",
    "experiment=Experiment(ws, experiment_name)"
   ]
  },
  {
   "cell_type": "code",
   "execution_count": 28,
   "metadata": {
    "gather": {
     "logged": 1611955181134
    },
    "nteract": {
     "transient": {
      "deleting": false
     }
    }
   },
   "outputs": [
    {
     "data": {
      "text/plain": [
       "{\n",
       "  \"source\": [\n",
       "    \"('workspaceblobstore', 'UI/01-30-2021_093921_UTC/aug_train.csv')\"\n",
       "  ],\n",
       "  \"definition\": [\n",
       "    \"GetDatastoreFiles\",\n",
       "    \"ParseDelimited\",\n",
       "    \"DropColumns\",\n",
       "    \"SetColumnTypes\"\n",
       "  ],\n",
       "  \"registration\": {\n",
       "    \"id\": \"847d6fc6-10cf-403b-acdd-aa55b57e2df4\",\n",
       "    \"name\": \"traindata\",\n",
       "    \"version\": 1,\n",
       "    \"workspace\": \"Workspace.create(name='quick-starts-ws-136575', subscription_id='3e42d11f-d64d-4173-af9b-12ecaa1030b3', resource_group='aml-quickstarts-136575')\"\n",
       "  }\n",
       "}"
      ]
     },
     "execution_count": 28,
     "metadata": {},
     "output_type": "execute_result"
    }
   ],
   "source": [
    "dataset = Dataset.get_by_name(ws, 'traindata')\n",
    "#dataset = dataset.to_pandas_dataframe().drop('enrollee_id',axis=1)\n",
    "dataset"
   ]
  },
  {
   "cell_type": "code",
   "execution_count": 5,
   "metadata": {
    "gather": {
     "logged": 1611955266774
    },
    "nteract": {
     "transient": {
      "deleting": false
     }
    }
   },
   "outputs": [
    {
     "name": "stdout",
     "output_type": "stream",
     "text": [
      "Creating\n",
      "Succeeded\n",
      "AmlCompute wait for completion finished\n",
      "\n",
      "Minimum number of nodes requested have been provisioned\n"
     ]
    }
   ],
   "source": [
    "cpu_cluster_name = \"cpu-cluster\"\r\n",
    "\r\n",
    "# Verify that cluster does not exist already\r\n",
    "try:\r\n",
    "    compute_target = ComputeTarget(workspace=ws, name=cpu_cluster_name)\r\n",
    "    print('Found existing cluster, use it.')\r\n",
    "except ComputeTargetException:\r\n",
    "    compute_config = AmlCompute.provisioning_configuration(vm_size='STANDARD_D12_V2',\r\n",
    "                                                           max_nodes=5)\r\n",
    "    compute_target = ComputeTarget.create(ws, cpu_cluster_name, compute_config)\r\n",
    "\r\n",
    "compute_target.wait_for_completion(show_output=True)"
   ]
  },
  {
   "cell_type": "markdown",
   "metadata": {},
   "source": [
    "## AutoML Configuration\n",
    "\n",
    "TODO: Explain why you chose the automl settings and cofiguration you used below."
   ]
  },
  {
   "cell_type": "code",
   "execution_count": 26,
   "metadata": {
    "collapsed": false,
    "gather": {
     "logged": 1611955319895
    },
    "jupyter": {
     "outputs_hidden": false,
     "source_hidden": false
    },
    "nteract": {
     "transient": {
      "deleting": false
     }
    }
   },
   "outputs": [],
   "source": [
    "# TODO: Put your automl settings here\n",
    "automl_settings = {\n",
    "    \"experiment_timeout_minutes\": 30,\n",
    "    \"max_concurrent_iterations\": 4,\n",
    "    \"primary_metric\" : 'accuracy',\n",
    "    \"n_cross_validations\": 5\n",
    "}\n",
    "# TODO: Put your automl config here\n",
    "automl_config = AutoMLConfig(compute_target=compute_target,\n",
    "                             task = \"classification\",\n",
    "                             training_data=dataset,\n",
    "                             label_column_name=\"target\", \n",
    "                             enable_early_stopping= True,\n",
    "                             featurization= 'auto',\n",
    "                             **automl_settings\n",
    "                            )"
   ]
  },
  {
   "cell_type": "code",
   "execution_count": 27,
   "metadata": {
    "collapsed": false,
    "gather": {
     "logged": 1611957100649
    },
    "jupyter": {
     "outputs_hidden": false,
     "source_hidden": false
    },
    "nteract": {
     "transient": {
      "deleting": false
     }
    }
   },
   "outputs": [
    {
     "ename": "ConfigException",
     "evalue": "ConfigException:\n\tMessage: Input of type 'Unknown' is not supported. Supported types: [azureml.data.tabular_dataset.TabularDataset, azureml.pipeline.core.pipeline_output_dataset.PipelineOutputTabularDataset]\n\tInnerException: None\n\tErrorResponse \n{\n    \"error\": {\n        \"code\": \"UserError\",\n        \"message\": \"Input of type 'Unknown' is not supported. Supported types: [azureml.data.tabular_dataset.TabularDataset, azureml.pipeline.core.pipeline_output_dataset.PipelineOutputTabularDataset]\",\n        \"details_uri\": \"https://aka.ms/AutoMLConfig\",\n        \"target\": \"training_data\",\n        \"inner_error\": {\n            \"code\": \"BadArgument\",\n            \"inner_error\": {\n                \"code\": \"ArgumentInvalid\",\n                \"inner_error\": {\n                    \"code\": \"InvalidInputDatatype\"\n                }\n            }\n        }\n    }\n}",
     "output_type": "error",
     "traceback": [
      "\u001b[0;31m---------------------------------------------------------------------------\u001b[0m",
      "\u001b[0;31mConfigException\u001b[0m                           Traceback (most recent call last)",
      "\u001b[0;32m<ipython-input-27-05e4c7bbb036>\u001b[0m in \u001b[0;36m<module>\u001b[0;34m\u001b[0m\n\u001b[1;32m      1\u001b[0m \u001b[0;31m# TODO: Submit your experiment\u001b[0m\u001b[0;34m\u001b[0m\u001b[0;34m\u001b[0m\u001b[0;34m\u001b[0m\u001b[0m\n\u001b[0;32m----> 2\u001b[0;31m \u001b[0mremote_run\u001b[0m \u001b[0;34m=\u001b[0m \u001b[0mexperiment\u001b[0m\u001b[0;34m.\u001b[0m\u001b[0msubmit\u001b[0m\u001b[0;34m(\u001b[0m\u001b[0mautoml_config\u001b[0m\u001b[0;34m,\u001b[0m \u001b[0mshow_output\u001b[0m \u001b[0;34m=\u001b[0m \u001b[0;32mTrue\u001b[0m\u001b[0;34m)\u001b[0m\u001b[0;34m\u001b[0m\u001b[0;34m\u001b[0m\u001b[0m\n\u001b[0m",
      "\u001b[0;32m/anaconda/envs/azureml_py36/lib/python3.6/site-packages/azureml/core/experiment.py\u001b[0m in \u001b[0;36msubmit\u001b[0;34m(self, config, tags, **kwargs)\u001b[0m\n\u001b[1;32m    218\u001b[0m         \u001b[0msubmit_func\u001b[0m \u001b[0;34m=\u001b[0m \u001b[0mget_experiment_submit\u001b[0m\u001b[0;34m(\u001b[0m\u001b[0mconfig\u001b[0m\u001b[0;34m)\u001b[0m\u001b[0;34m\u001b[0m\u001b[0;34m\u001b[0m\u001b[0m\n\u001b[1;32m    219\u001b[0m         \u001b[0;32mwith\u001b[0m \u001b[0mself\u001b[0m\u001b[0;34m.\u001b[0m\u001b[0m_log_context\u001b[0m\u001b[0;34m(\u001b[0m\u001b[0;34m\"submit config {}\"\u001b[0m\u001b[0;34m.\u001b[0m\u001b[0mformat\u001b[0m\u001b[0;34m(\u001b[0m\u001b[0mconfig\u001b[0m\u001b[0;34m.\u001b[0m\u001b[0m__class__\u001b[0m\u001b[0;34m.\u001b[0m\u001b[0m__name__\u001b[0m\u001b[0;34m)\u001b[0m\u001b[0;34m)\u001b[0m\u001b[0;34m:\u001b[0m\u001b[0;34m\u001b[0m\u001b[0;34m\u001b[0m\u001b[0m\n\u001b[0;32m--> 220\u001b[0;31m             \u001b[0mrun\u001b[0m \u001b[0;34m=\u001b[0m \u001b[0msubmit_func\u001b[0m\u001b[0;34m(\u001b[0m\u001b[0mconfig\u001b[0m\u001b[0;34m,\u001b[0m \u001b[0mself\u001b[0m\u001b[0;34m.\u001b[0m\u001b[0mworkspace\u001b[0m\u001b[0;34m,\u001b[0m \u001b[0mself\u001b[0m\u001b[0;34m.\u001b[0m\u001b[0mname\u001b[0m\u001b[0;34m,\u001b[0m \u001b[0;34m**\u001b[0m\u001b[0mkwargs\u001b[0m\u001b[0;34m)\u001b[0m\u001b[0;34m\u001b[0m\u001b[0;34m\u001b[0m\u001b[0m\n\u001b[0m\u001b[1;32m    221\u001b[0m         \u001b[0;32mif\u001b[0m \u001b[0mtags\u001b[0m \u001b[0;32mis\u001b[0m \u001b[0;32mnot\u001b[0m \u001b[0;32mNone\u001b[0m\u001b[0;34m:\u001b[0m\u001b[0;34m\u001b[0m\u001b[0;34m\u001b[0m\u001b[0m\n\u001b[1;32m    222\u001b[0m             \u001b[0mrun\u001b[0m\u001b[0;34m.\u001b[0m\u001b[0mset_tags\u001b[0m\u001b[0;34m(\u001b[0m\u001b[0mtags\u001b[0m\u001b[0;34m)\u001b[0m\u001b[0;34m\u001b[0m\u001b[0;34m\u001b[0m\u001b[0m\n",
      "\u001b[0;32m/anaconda/envs/azureml_py36/lib/python3.6/site-packages/azureml/train/automl/automlconfig.py\u001b[0m in \u001b[0;36m_automl_static_submit\u001b[0;34m(automl_config_object, workspace, experiment_name, **kwargs)\u001b[0m\n\u001b[1;32m     84\u001b[0m     \u001b[0mcompute_target\u001b[0m \u001b[0;34m=\u001b[0m \u001b[0mautoml_config_object\u001b[0m\u001b[0;34m.\u001b[0m\u001b[0muser_settings\u001b[0m\u001b[0;34m.\u001b[0m\u001b[0mget\u001b[0m\u001b[0;34m(\u001b[0m\u001b[0;34m'compute_target'\u001b[0m\u001b[0;34m)\u001b[0m\u001b[0;34m\u001b[0m\u001b[0;34m\u001b[0m\u001b[0m\n\u001b[1;32m     85\u001b[0m \u001b[0;34m\u001b[0m\u001b[0m\n\u001b[0;32m---> 86\u001b[0;31m     \u001b[0mautoml_config_object\u001b[0m\u001b[0;34m.\u001b[0m\u001b[0m_validate_config_settings\u001b[0m\u001b[0;34m(\u001b[0m\u001b[0mworkspace\u001b[0m\u001b[0;34m)\u001b[0m\u001b[0;34m\u001b[0m\u001b[0;34m\u001b[0m\u001b[0m\n\u001b[0m\u001b[1;32m     87\u001b[0m     \u001b[0mfit_params\u001b[0m \u001b[0;34m=\u001b[0m \u001b[0mautoml_config_object\u001b[0m\u001b[0;34m.\u001b[0m\u001b[0m_get_fit_params\u001b[0m\u001b[0;34m(\u001b[0m\u001b[0;34m)\u001b[0m\u001b[0;34m\u001b[0m\u001b[0;34m\u001b[0m\u001b[0m\n\u001b[1;32m     88\u001b[0m \u001b[0;34m\u001b[0m\u001b[0m\n",
      "\u001b[0;32m/anaconda/envs/azureml_py36/lib/python3.6/site-packages/azureml/train/automl/automlconfig.py\u001b[0m in \u001b[0;36m_validate_config_settings\u001b[0;34m(self, workspace)\u001b[0m\n\u001b[1;32m   1894\u001b[0m                     AzureMLError.create(\n\u001b[1;32m   1895\u001b[0m                         \u001b[0mInvalidInputDatatype\u001b[0m\u001b[0;34m,\u001b[0m \u001b[0mtarget\u001b[0m\u001b[0;34m=\u001b[0m\u001b[0;34m\"training_data\"\u001b[0m\u001b[0;34m,\u001b[0m \u001b[0minput_type\u001b[0m\u001b[0;34m=\u001b[0m\u001b[0;34m\"Unknown\"\u001b[0m\u001b[0;34m,\u001b[0m\u001b[0;34m\u001b[0m\u001b[0;34m\u001b[0m\u001b[0m\n\u001b[0;32m-> 1896\u001b[0;31m                         \u001b[0msupported_types\u001b[0m\u001b[0;34m=\u001b[0m\u001b[0;34m\", \"\u001b[0m\u001b[0;34m.\u001b[0m\u001b[0mjoin\u001b[0m\u001b[0;34m(\u001b[0m\u001b[0mSupportedInputDatatypes\u001b[0m\u001b[0;34m.\u001b[0m\u001b[0mREMOTE_RUN_SCENARIO\u001b[0m\u001b[0;34m)\u001b[0m\u001b[0;34m\u001b[0m\u001b[0;34m\u001b[0m\u001b[0m\n\u001b[0m\u001b[1;32m   1897\u001b[0m                     )\n\u001b[1;32m   1898\u001b[0m                 )\n",
      "\u001b[0;31mConfigException\u001b[0m: ConfigException:\n\tMessage: Input of type 'Unknown' is not supported. Supported types: [azureml.data.tabular_dataset.TabularDataset, azureml.pipeline.core.pipeline_output_dataset.PipelineOutputTabularDataset]\n\tInnerException: None\n\tErrorResponse \n{\n    \"error\": {\n        \"code\": \"UserError\",\n        \"message\": \"Input of type 'Unknown' is not supported. Supported types: [azureml.data.tabular_dataset.TabularDataset, azureml.pipeline.core.pipeline_output_dataset.PipelineOutputTabularDataset]\",\n        \"details_uri\": \"https://aka.ms/AutoMLConfig\",\n        \"target\": \"training_data\",\n        \"inner_error\": {\n            \"code\": \"BadArgument\",\n            \"inner_error\": {\n                \"code\": \"ArgumentInvalid\",\n                \"inner_error\": {\n                    \"code\": \"InvalidInputDatatype\"\n                }\n            }\n        }\n    }\n}"
     ]
    }
   ],
   "source": [
    "# TODO: Submit your experiment\n",
    "remote_run = experiment.submit(automl_config, show_output = True)\n"
   ]
  },
  {
   "cell_type": "markdown",
   "metadata": {},
   "source": [
    "## Run Details\n",
    "\n",
    "OPTIONAL: Write about the different models trained and their performance. Why do you think some models did better than others?\n",
    "\n",
    "TODO: In the cell below, use the `RunDetails` widget to show the different experiments."
   ]
  },
  {
   "cell_type": "code",
   "execution_count": 8,
   "metadata": {
    "gather": {
     "logged": 1611957100717
    },
    "nteract": {
     "transient": {
      "deleting": false
     }
    }
   },
   "outputs": [
    {
     "data": {
      "text/html": [
       "<table style=\"width:100%\"><tr><th>Experiment</th><th>Id</th><th>Type</th><th>Status</th><th>Details Page</th><th>Docs Page</th></tr><tr><td>jobchangeautoml</td><td>AutoML_0dc470e4-c43e-46a6-8c8c-c05f198eda7e</td><td>automl</td><td>Completed</td><td><a href=\"https://ml.azure.com/experiments/jobchangeautoml/runs/AutoML_0dc470e4-c43e-46a6-8c8c-c05f198eda7e?wsid=/subscriptions/3e42d11f-d64d-4173-af9b-12ecaa1030b3/resourcegroups/aml-quickstarts-136575/workspaces/quick-starts-ws-136575\" target=\"_blank\" rel=\"noopener\">Link to Azure Machine Learning studio</a></td><td><a href=\"https://docs.microsoft.com/en-us/python/api/overview/azure/ml/intro?view=azure-ml-py\" target=\"_blank\" rel=\"noopener\">Link to Documentation</a></td></tr></table>"
      ],
      "text/plain": [
       "Run(Experiment: jobchangeautoml,\n",
       "Id: AutoML_0dc470e4-c43e-46a6-8c8c-c05f198eda7e,\n",
       "Type: automl,\n",
       "Status: Completed)"
      ]
     },
     "execution_count": 8,
     "metadata": {},
     "output_type": "execute_result"
    }
   ],
   "source": [
    "remote_run"
   ]
  },
  {
   "cell_type": "code",
   "execution_count": 9,
   "metadata": {
    "collapsed": false,
    "gather": {
     "logged": 1611957100803
    },
    "jupyter": {
     "outputs_hidden": false,
     "source_hidden": false
    },
    "nteract": {
     "transient": {
      "deleting": false
     }
    }
   },
   "outputs": [
    {
     "data": {
      "application/vnd.jupyter.widget-view+json": {
       "model_id": "76f3edefa42f481d83f2eb3437cac656",
       "version_major": 2,
       "version_minor": 0
      },
      "text/plain": [
       "_AutoMLWidget(widget_settings={'childWidgetDisplay': 'popup', 'send_telemetry': False, 'log_level': 'INFO', 's…"
      ]
     },
     "metadata": {},
     "output_type": "display_data"
    },
    {
     "data": {
      "application/aml.mini.widget.v1": "{\"status\": \"Completed\", \"workbench_run_details_uri\": \"https://ml.azure.com/experiments/jobchangeautoml/runs/AutoML_0dc470e4-c43e-46a6-8c8c-c05f198eda7e?wsid=/subscriptions/3e42d11f-d64d-4173-af9b-12ecaa1030b3/resourcegroups/aml-quickstarts-136575/workspaces/quick-starts-ws-136575\", \"run_id\": \"AutoML_0dc470e4-c43e-46a6-8c8c-c05f198eda7e\", \"run_properties\": {\"run_id\": \"AutoML_0dc470e4-c43e-46a6-8c8c-c05f198eda7e\", \"created_utc\": \"2021-01-30T10:23:42.844309Z\", \"properties\": {\"num_iterations\": \"1000\", \"training_type\": \"TrainFull\", \"acquisition_function\": \"EI\", \"primary_metric\": \"accuracy\", \"train_split\": \"0\", \"acquisition_parameter\": \"0\", \"num_cross_validation\": \"5\", \"target\": \"cpu-cluster\", \"AMLSettingsJsonString\": \"{\\\"path\\\":null,\\\"name\\\":\\\"jobchangeautoml\\\",\\\"subscription_id\\\":\\\"3e42d11f-d64d-4173-af9b-12ecaa1030b3\\\",\\\"resource_group\\\":\\\"aml-quickstarts-136575\\\",\\\"workspace_name\\\":\\\"quick-starts-ws-136575\\\",\\\"region\\\":\\\"southcentralus\\\",\\\"compute_target\\\":\\\"cpu-cluster\\\",\\\"spark_service\\\":null,\\\"azure_service\\\":\\\"remote\\\",\\\"many_models\\\":false,\\\"pipeline_fetch_max_batch_size\\\":1,\\\"iterations\\\":1000,\\\"primary_metric\\\":\\\"accuracy\\\",\\\"task_type\\\":\\\"classification\\\",\\\"data_script\\\":null,\\\"validation_size\\\":0.0,\\\"n_cross_validations\\\":5,\\\"y_min\\\":null,\\\"y_max\\\":null,\\\"num_classes\\\":null,\\\"featurization\\\":\\\"auto\\\",\\\"_ignore_package_version_incompatibilities\\\":false,\\\"is_timeseries\\\":false,\\\"max_cores_per_iteration\\\":1,\\\"max_concurrent_iterations\\\":4,\\\"iteration_timeout_minutes\\\":null,\\\"mem_in_mb\\\":null,\\\"enforce_time_on_windows\\\":false,\\\"experiment_timeout_minutes\\\":30,\\\"experiment_exit_score\\\":null,\\\"whitelist_models\\\":null,\\\"blacklist_algos\\\":[\\\"TensorFlowLinearClassifier\\\",\\\"TensorFlowDNN\\\"],\\\"supported_models\\\":[\\\"AveragedPerceptronClassifier\\\",\\\"ExtremeRandomTrees\\\",\\\"DecisionTree\\\",\\\"SGD\\\",\\\"BernoulliNaiveBayes\\\",\\\"LinearSVM\\\",\\\"KNN\\\",\\\"LightGBM\\\",\\\"GradientBoosting\\\",\\\"TensorFlowLinearClassifier\\\",\\\"RandomForest\\\",\\\"XGBoostClassifier\\\",\\\"LogisticRegression\\\",\\\"SVM\\\",\\\"MultinomialNaiveBayes\\\",\\\"TensorFlowDNN\\\"],\\\"auto_blacklist\\\":true,\\\"blacklist_samples_reached\\\":false,\\\"exclude_nan_labels\\\":true,\\\"verbosity\\\":20,\\\"_debug_log\\\":\\\"azureml_automl.log\\\",\\\"show_warnings\\\":false,\\\"model_explainability\\\":true,\\\"service_url\\\":null,\\\"sdk_url\\\":null,\\\"sdk_packages\\\":null,\\\"enable_onnx_compatible_models\\\":false,\\\"enable_split_onnx_featurizer_estimator_models\\\":false,\\\"vm_type\\\":\\\"STANDARD_D12_V2\\\",\\\"telemetry_verbosity\\\":20,\\\"send_telemetry\\\":true,\\\"enable_dnn\\\":false,\\\"scenario\\\":\\\"SDK-1.13.0\\\",\\\"environment_label\\\":null,\\\"force_text_dnn\\\":false,\\\"enable_feature_sweeping\\\":true,\\\"enable_early_stopping\\\":true,\\\"early_stopping_n_iters\\\":10,\\\"metrics\\\":null,\\\"enable_ensembling\\\":true,\\\"enable_stack_ensembling\\\":true,\\\"ensemble_iterations\\\":15,\\\"enable_tf\\\":false,\\\"enable_subsampling\\\":null,\\\"subsample_seed\\\":null,\\\"enable_nimbusml\\\":false,\\\"enable_streaming\\\":false,\\\"force_streaming\\\":false,\\\"track_child_runs\\\":true,\\\"allowed_private_models\\\":[],\\\"label_column_name\\\":\\\"target\\\",\\\"weight_column_name\\\":null,\\\"cv_split_column_names\\\":null,\\\"enable_local_managed\\\":false,\\\"_local_managed_run_id\\\":null,\\\"cost_mode\\\":1,\\\"lag_length\\\":0,\\\"metric_operation\\\":\\\"maximize\\\",\\\"preprocess\\\":true}\", \"DataPrepJsonString\": \"{\\\\\\\"training_data\\\\\\\": \\\\\\\"{\\\\\\\\\\\\\\\"blocks\\\\\\\\\\\\\\\": [{\\\\\\\\\\\\\\\"id\\\\\\\\\\\\\\\": \\\\\\\\\\\\\\\"68d83cd9-e5d9-42d2-b9ad-8d95d6df0adb\\\\\\\\\\\\\\\", \\\\\\\\\\\\\\\"type\\\\\\\\\\\\\\\": \\\\\\\\\\\\\\\"Microsoft.DPrep.GetDatastoreFilesBlock\\\\\\\\\\\\\\\", \\\\\\\\\\\\\\\"arguments\\\\\\\\\\\\\\\": {\\\\\\\\\\\\\\\"datastores\\\\\\\\\\\\\\\": [{\\\\\\\\\\\\\\\"datastoreName\\\\\\\\\\\\\\\": \\\\\\\\\\\\\\\"workspaceblobstore\\\\\\\\\\\\\\\", \\\\\\\\\\\\\\\"path\\\\\\\\\\\\\\\": \\\\\\\\\\\\\\\"UI/01-30-2021_093921_UTC/aug_train.csv\\\\\\\\\\\\\\\", \\\\\\\\\\\\\\\"resourceGroup\\\\\\\\\\\\\\\": \\\\\\\\\\\\\\\"aml-quickstarts-136575\\\\\\\\\\\\\\\", \\\\\\\\\\\\\\\"subscription\\\\\\\\\\\\\\\": \\\\\\\\\\\\\\\"3e42d11f-d64d-4173-af9b-12ecaa1030b3\\\\\\\\\\\\\\\", \\\\\\\\\\\\\\\"workspaceName\\\\\\\\\\\\\\\": \\\\\\\\\\\\\\\"quick-starts-ws-136575\\\\\\\\\\\\\\\"}]}, \\\\\\\\\\\\\\\"localData\\\\\\\\\\\\\\\": {}, \\\\\\\\\\\\\\\"isEnabled\\\\\\\\\\\\\\\": true, \\\\\\\\\\\\\\\"name\\\\\\\\\\\\\\\": null, \\\\\\\\\\\\\\\"annotation\\\\\\\\\\\\\\\": null}, {\\\\\\\\\\\\\\\"id\\\\\\\\\\\\\\\": \\\\\\\\\\\\\\\"5d092d90-0f94-419e-aac6-bcf98ab65aa4\\\\\\\\\\\\\\\", \\\\\\\\\\\\\\\"type\\\\\\\\\\\\\\\": \\\\\\\\\\\\\\\"Microsoft.DPrep.ParseDelimitedBlock\\\\\\\\\\\\\\\", \\\\\\\\\\\\\\\"arguments\\\\\\\\\\\\\\\": {\\\\\\\\\\\\\\\"columnHeadersMode\\\\\\\\\\\\\\\": 1, \\\\\\\\\\\\\\\"fileEncoding\\\\\\\\\\\\\\\": 0, \\\\\\\\\\\\\\\"handleQuotedLineBreaks\\\\\\\\\\\\\\\": false, \\\\\\\\\\\\\\\"preview\\\\\\\\\\\\\\\": false, \\\\\\\\\\\\\\\"separator\\\\\\\\\\\\\\\": \\\\\\\\\\\\\\\",\\\\\\\\\\\\\\\", \\\\\\\\\\\\\\\"skipRows\\\\\\\\\\\\\\\": 0, \\\\\\\\\\\\\\\"skipRowsMode\\\\\\\\\\\\\\\": 0}, \\\\\\\\\\\\\\\"localData\\\\\\\\\\\\\\\": {}, \\\\\\\\\\\\\\\"isEnabled\\\\\\\\\\\\\\\": true, \\\\\\\\\\\\\\\"name\\\\\\\\\\\\\\\": null, \\\\\\\\\\\\\\\"annotation\\\\\\\\\\\\\\\": null}, {\\\\\\\\\\\\\\\"id\\\\\\\\\\\\\\\": \\\\\\\\\\\\\\\"6d2457e5-eca1-4e4f-8f81-bb616e23ecaf\\\\\\\\\\\\\\\", \\\\\\\\\\\\\\\"type\\\\\\\\\\\\\\\": \\\\\\\\\\\\\\\"Microsoft.DPrep.DropColumnsBlock\\\\\\\\\\\\\\\", \\\\\\\\\\\\\\\"arguments\\\\\\\\\\\\\\\": {\\\\\\\\\\\\\\\"columns\\\\\\\\\\\\\\\": {\\\\\\\\\\\\\\\"type\\\\\\\\\\\\\\\": 0, \\\\\\\\\\\\\\\"details\\\\\\\\\\\\\\\": {\\\\\\\\\\\\\\\"selectedColumns\\\\\\\\\\\\\\\": [\\\\\\\\\\\\\\\"Path\\\\\\\\\\\\\\\"]}}}, \\\\\\\\\\\\\\\"localData\\\\\\\\\\\\\\\": {}, \\\\\\\\\\\\\\\"isEnabled\\\\\\\\\\\\\\\": true, \\\\\\\\\\\\\\\"name\\\\\\\\\\\\\\\": null, \\\\\\\\\\\\\\\"annotation\\\\\\\\\\\\\\\": null}, {\\\\\\\\\\\\\\\"id\\\\\\\\\\\\\\\": \\\\\\\\\\\\\\\"de1af6be-a6a2-4fc4-b70e-d77925fe40ea\\\\\\\\\\\\\\\", \\\\\\\\\\\\\\\"type\\\\\\\\\\\\\\\": \\\\\\\\\\\\\\\"Microsoft.DPrep.SetColumnTypesBlock\\\\\\\\\\\\\\\", \\\\\\\\\\\\\\\"arguments\\\\\\\\\\\\\\\": {\\\\\\\\\\\\\\\"columnConversion\\\\\\\\\\\\\\\": [{\\\\\\\\\\\\\\\"column\\\\\\\\\\\\\\\": {\\\\\\\\\\\\\\\"type\\\\\\\\\\\\\\\": 2, \\\\\\\\\\\\\\\"details\\\\\\\\\\\\\\\": {\\\\\\\\\\\\\\\"selectedColumn\\\\\\\\\\\\\\\": \\\\\\\\\\\\\\\"Path\\\\\\\\\\\\\\\"}}, \\\\\\\\\\\\\\\"typeProperty\\\\\\\\\\\\\\\": 0}, {\\\\\\\\\\\\\\\"column\\\\\\\\\\\\\\\": {\\\\\\\\\\\\\\\"type\\\\\\\\\\\\\\\": 2, \\\\\\\\\\\\\\\"details\\\\\\\\\\\\\\\": {\\\\\\\\\\\\\\\"selectedColumn\\\\\\\\\\\\\\\": \\\\\\\\\\\\\\\"enrollee_id\\\\\\\\\\\\\\\"}}, \\\\\\\\\\\\\\\"typeProperty\\\\\\\\\\\\\\\": 2}, {\\\\\\\\\\\\\\\"column\\\\\\\\\\\\\\\": {\\\\\\\\\\\\\\\"type\\\\\\\\\\\\\\\": 2, \\\\\\\\\\\\\\\"details\\\\\\\\\\\\\\\": {\\\\\\\\\\\\\\\"selectedColumn\\\\\\\\\\\\\\\": \\\\\\\\\\\\\\\"city\\\\\\\\\\\\\\\"}}, \\\\\\\\\\\\\\\"typeProperty\\\\\\\\\\\\\\\": 0}, {\\\\\\\\\\\\\\\"column\\\\\\\\\\\\\\\": {\\\\\\\\\\\\\\\"type\\\\\\\\\\\\\\\": 2, \\\\\\\\\\\\\\\"details\\\\\\\\\\\\\\\": {\\\\\\\\\\\\\\\"selectedColumn\\\\\\\\\\\\\\\": \\\\\\\\\\\\\\\"city_development_index\\\\\\\\\\\\\\\"}}, \\\\\\\\\\\\\\\"typeProperty\\\\\\\\\\\\\\\": 3}, {\\\\\\\\\\\\\\\"column\\\\\\\\\\\\\\\": {\\\\\\\\\\\\\\\"type\\\\\\\\\\\\\\\": 2, \\\\\\\\\\\\\\\"details\\\\\\\\\\\\\\\": {\\\\\\\\\\\\\\\"selectedColumn\\\\\\\\\\\\\\\": \\\\\\\\\\\\\\\"gender\\\\\\\\\\\\\\\"}}, \\\\\\\\\\\\\\\"typeProperty\\\\\\\\\\\\\\\": 0}, {\\\\\\\\\\\\\\\"column\\\\\\\\\\\\\\\": {\\\\\\\\\\\\\\\"type\\\\\\\\\\\\\\\": 2, \\\\\\\\\\\\\\\"details\\\\\\\\\\\\\\\": {\\\\\\\\\\\\\\\"selectedColumn\\\\\\\\\\\\\\\": \\\\\\\\\\\\\\\"relevent_experience\\\\\\\\\\\\\\\"}}, \\\\\\\\\\\\\\\"typeProperty\\\\\\\\\\\\\\\": 0}, {\\\\\\\\\\\\\\\"column\\\\\\\\\\\\\\\": {\\\\\\\\\\\\\\\"type\\\\\\\\\\\\\\\": 2, \\\\\\\\\\\\\\\"details\\\\\\\\\\\\\\\": {\\\\\\\\\\\\\\\"selectedColumn\\\\\\\\\\\\\\\": \\\\\\\\\\\\\\\"enrolled_university\\\\\\\\\\\\\\\"}}, \\\\\\\\\\\\\\\"typeProperty\\\\\\\\\\\\\\\": 0}, {\\\\\\\\\\\\\\\"column\\\\\\\\\\\\\\\": {\\\\\\\\\\\\\\\"type\\\\\\\\\\\\\\\": 2, \\\\\\\\\\\\\\\"details\\\\\\\\\\\\\\\": {\\\\\\\\\\\\\\\"selectedColumn\\\\\\\\\\\\\\\": \\\\\\\\\\\\\\\"education_level\\\\\\\\\\\\\\\"}}, \\\\\\\\\\\\\\\"typeProperty\\\\\\\\\\\\\\\": 0}, {\\\\\\\\\\\\\\\"column\\\\\\\\\\\\\\\": {\\\\\\\\\\\\\\\"type\\\\\\\\\\\\\\\": 2, \\\\\\\\\\\\\\\"details\\\\\\\\\\\\\\\": {\\\\\\\\\\\\\\\"selectedColumn\\\\\\\\\\\\\\\": \\\\\\\\\\\\\\\"major_discipline\\\\\\\\\\\\\\\"}}, \\\\\\\\\\\\\\\"typeProperty\\\\\\\\\\\\\\\": 0}, {\\\\\\\\\\\\\\\"column\\\\\\\\\\\\\\\": {\\\\\\\\\\\\\\\"type\\\\\\\\\\\\\\\": 2, \\\\\\\\\\\\\\\"details\\\\\\\\\\\\\\\": {\\\\\\\\\\\\\\\"selectedColumn\\\\\\\\\\\\\\\": \\\\\\\\\\\\\\\"experience\\\\\\\\\\\\\\\"}}, \\\\\\\\\\\\\\\"typeProperty\\\\\\\\\\\\\\\": 0}, {\\\\\\\\\\\\\\\"column\\\\\\\\\\\\\\\": {\\\\\\\\\\\\\\\"type\\\\\\\\\\\\\\\": 2, \\\\\\\\\\\\\\\"details\\\\\\\\\\\\\\\": {\\\\\\\\\\\\\\\"selectedColumn\\\\\\\\\\\\\\\": \\\\\\\\\\\\\\\"company_size\\\\\\\\\\\\\\\"}}, \\\\\\\\\\\\\\\"typeProperty\\\\\\\\\\\\\\\": 0}, {\\\\\\\\\\\\\\\"column\\\\\\\\\\\\\\\": {\\\\\\\\\\\\\\\"type\\\\\\\\\\\\\\\": 2, \\\\\\\\\\\\\\\"details\\\\\\\\\\\\\\\": {\\\\\\\\\\\\\\\"selectedColumn\\\\\\\\\\\\\\\": \\\\\\\\\\\\\\\"company_type\\\\\\\\\\\\\\\"}}, \\\\\\\\\\\\\\\"typeProperty\\\\\\\\\\\\\\\": 0}, {\\\\\\\\\\\\\\\"column\\\\\\\\\\\\\\\": {\\\\\\\\\\\\\\\"type\\\\\\\\\\\\\\\": 2, \\\\\\\\\\\\\\\"details\\\\\\\\\\\\\\\": {\\\\\\\\\\\\\\\"selectedColumn\\\\\\\\\\\\\\\": \\\\\\\\\\\\\\\"last_new_job\\\\\\\\\\\\\\\"}}, \\\\\\\\\\\\\\\"typeProperty\\\\\\\\\\\\\\\": 0}, {\\\\\\\\\\\\\\\"column\\\\\\\\\\\\\\\": {\\\\\\\\\\\\\\\"type\\\\\\\\\\\\\\\": 2, \\\\\\\\\\\\\\\"details\\\\\\\\\\\\\\\": {\\\\\\\\\\\\\\\"selectedColumn\\\\\\\\\\\\\\\": \\\\\\\\\\\\\\\"training_hours\\\\\\\\\\\\\\\"}}, \\\\\\\\\\\\\\\"typeProperty\\\\\\\\\\\\\\\": 2}, {\\\\\\\\\\\\\\\"column\\\\\\\\\\\\\\\": {\\\\\\\\\\\\\\\"type\\\\\\\\\\\\\\\": 2, \\\\\\\\\\\\\\\"details\\\\\\\\\\\\\\\": {\\\\\\\\\\\\\\\"selectedColumn\\\\\\\\\\\\\\\": \\\\\\\\\\\\\\\"target\\\\\\\\\\\\\\\"}}, \\\\\\\\\\\\\\\"typeProperty\\\\\\\\\\\\\\\": 3}]}, \\\\\\\\\\\\\\\"localData\\\\\\\\\\\\\\\": {}, \\\\\\\\\\\\\\\"isEnabled\\\\\\\\\\\\\\\": true, \\\\\\\\\\\\\\\"name\\\\\\\\\\\\\\\": null, \\\\\\\\\\\\\\\"annotation\\\\\\\\\\\\\\\": null}], \\\\\\\\\\\\\\\"inspectors\\\\\\\\\\\\\\\": [], \\\\\\\\\\\\\\\"meta\\\\\\\\\\\\\\\": {\\\\\\\\\\\\\\\"savedDatasetId\\\\\\\\\\\\\\\": \\\\\\\\\\\\\\\"847d6fc6-10cf-403b-acdd-aa55b57e2df4\\\\\\\\\\\\\\\", \\\\\\\\\\\\\\\"datasetType\\\\\\\\\\\\\\\": \\\\\\\\\\\\\\\"tabular\\\\\\\\\\\\\\\", \\\\\\\\\\\\\\\"subscriptionId\\\\\\\\\\\\\\\": \\\\\\\\\\\\\\\"3e42d11f-d64d-4173-af9b-12ecaa1030b3\\\\\\\\\\\\\\\", \\\\\\\\\\\\\\\"workspaceId\\\\\\\\\\\\\\\": \\\\\\\\\\\\\\\"8cb7f4ed-da94-4721-b4ff-32dcd30e2a99\\\\\\\\\\\\\\\", \\\\\\\\\\\\\\\"workspaceLocation\\\\\\\\\\\\\\\": \\\\\\\\\\\\\\\"southcentralus\\\\\\\\\\\\\\\"}}\\\\\\\", \\\\\\\"activities\\\\\\\": 0}\", \"EnableSubsampling\": null, \"runTemplate\": \"AutoML\", \"azureml.runsource\": \"automl\", \"display_task_type\": \"classification\", \"dependencies_versions\": \"{\\\"azureml-widgets\\\": \\\"1.20.0\\\", \\\"azureml-train\\\": \\\"1.20.0\\\", \\\"azureml-train-restclients-hyperdrive\\\": \\\"1.20.0\\\", \\\"azureml-train-core\\\": \\\"1.20.0\\\", \\\"azureml-train-automl\\\": \\\"1.20.0\\\", \\\"azureml-train-automl-runtime\\\": \\\"1.20.0\\\", \\\"azureml-train-automl-client\\\": \\\"1.20.0\\\", \\\"azureml-tensorboard\\\": \\\"1.20.0\\\", \\\"azureml-telemetry\\\": \\\"1.20.0\\\", \\\"azureml-sdk\\\": \\\"1.20.0\\\", \\\"azureml-samples\\\": \\\"0+unknown\\\", \\\"azureml-pipeline\\\": \\\"1.20.0\\\", \\\"azureml-pipeline-steps\\\": \\\"1.20.0\\\", \\\"azureml-pipeline-core\\\": \\\"1.20.0\\\", \\\"azureml-opendatasets\\\": \\\"1.20.0\\\", \\\"azureml-model-management-sdk\\\": \\\"1.0.1b6.post1\\\", \\\"azureml-mlflow\\\": \\\"1.20.0.post1\\\", \\\"azureml-interpret\\\": \\\"1.20.0\\\", \\\"azureml-explain-model\\\": \\\"1.20.0\\\", \\\"azureml-defaults\\\": \\\"1.20.0\\\", \\\"azureml-dataset-runtime\\\": \\\"1.20.0\\\", \\\"azureml-dataprep\\\": \\\"2.7.3\\\", \\\"azureml-dataprep-rslex\\\": \\\"1.5.0\\\", \\\"azureml-dataprep-native\\\": \\\"27.0.0\\\", \\\"azureml-datadrift\\\": \\\"1.20.0\\\", \\\"azureml-core\\\": \\\"1.20.0\\\", \\\"azureml-contrib-services\\\": \\\"1.20.0\\\", \\\"azureml-contrib-server\\\": \\\"1.20.0\\\", \\\"azureml-contrib-reinforcementlearning\\\": \\\"1.20.0\\\", \\\"azureml-contrib-pipeline-steps\\\": \\\"1.20.0\\\", \\\"azureml-contrib-notebook\\\": \\\"1.20.0\\\", \\\"azureml-contrib-interpret\\\": \\\"1.20.0\\\", \\\"azureml-contrib-gbdt\\\": \\\"1.20.0\\\", \\\"azureml-contrib-fairness\\\": \\\"1.20.0\\\", \\\"azureml-contrib-dataset\\\": \\\"1.20.0\\\", \\\"azureml-cli-common\\\": \\\"1.20.0\\\", \\\"azureml-automl-runtime\\\": \\\"1.20.0\\\", \\\"azureml-automl-core\\\": \\\"1.20.0\\\", \\\"azureml-accel-models\\\": \\\"1.20.0\\\"}\", \"_aml_system_scenario_identification\": \"Remote.Parent\", \"ClientType\": \"SDK\", \"environment_cpu_name\": \"AzureML-AutoML\", \"environment_cpu_label\": \"prod\", \"environment_gpu_name\": \"AzureML-AutoML-GPU\", \"environment_gpu_label\": \"prod\", \"root_attribution\": \"automl\", \"attribution\": \"AutoML\", \"Orchestrator\": \"AutoML\", \"CancelUri\": \"https://southcentralus.experiments.azureml.net/jasmine/v1.0/subscriptions/3e42d11f-d64d-4173-af9b-12ecaa1030b3/resourceGroups/aml-quickstarts-136575/providers/Microsoft.MachineLearningServices/workspaces/quick-starts-ws-136575/experimentids/25cc97d7-c20f-4671-9545-f8a56c98f0d1/cancel/AutoML_0dc470e4-c43e-46a6-8c8c-c05f198eda7e\", \"ClientSdkVersion\": \"1.20.0.post1\", \"snapshotId\": \"00000000-0000-0000-0000-000000000000\", \"SetupRunId\": \"AutoML_0dc470e4-c43e-46a6-8c8c-c05f198eda7e_setup\", \"SetupRunContainerId\": \"dcid.AutoML_0dc470e4-c43e-46a6-8c8c-c05f198eda7e_setup\", \"FeaturizationRunJsonPath\": \"featurizer_container.json\", \"FeaturizationRunId\": \"AutoML_0dc470e4-c43e-46a6-8c8c-c05f198eda7e_featurize\", \"ProblemInfoJsonString\": \"{\\\"dataset_num_categorical\\\": 0, \\\"is_sparse\\\": true, \\\"subsampling\\\": false, \\\"dataset_classes\\\": 2, \\\"dataset_features\\\": 194, \\\"dataset_samples\\\": 19158, \\\"single_frequency_class_detected\\\": false}\", \"ModelExplainRunId\": \"AutoML_0dc470e4-c43e-46a6-8c8c-c05f198eda7e_ModelExplain\"}, \"tags\": {\"model_explain_run\": \"best_run\", \"_aml_system_azureml.automlComponent\": \"AutoML\", \"pipeline_id\": \"\", \"score\": \"\", \"predicted_cost\": \"\", \"fit_time\": \"\", \"training_percent\": \"\", \"iteration\": \"\", \"run_preprocessor\": \"\", \"run_algorithm\": \"\", \"dynamic_whitelisting_iterations\": \"<25>;<30>;<35>;\", \"automl_best_child_run_id\": \"AutoML_0dc470e4-c43e-46a6-8c8c-c05f198eda7e_36\"}, \"end_time_utc\": \"2021-01-30T10:50:22.39625Z\", \"status\": \"Completed\", \"log_files\": {}, \"log_groups\": [], \"run_duration\": \"0:26:39\"}, \"child_runs\": [{\"run_id\": \"AutoML_0dc470e4-c43e-46a6-8c8c-c05f198eda7e_0\", \"run_number\": 5, \"metric\": null, \"status\": \"Completed\", \"run_type\": \"azureml.scriptrun\", \"training_percent\": \"100\", \"start_time\": \"2021-01-30T10:33:58.52198Z\", \"end_time\": \"2021-01-30T10:34:55.043946Z\", \"created_time\": \"2021-01-30T10:32:48.472085Z\", \"created_time_dt\": \"2021-01-30T10:32:48.472085Z\", \"duration\": \"0:02:06\", \"iteration\": \"0\", \"goal\": \"accuracy_max\", \"run_name\": \"MaxAbsScaler, LightGBM\", \"run_properties\": \"copy=True\", \"primary_metric\": 0.79596004, \"best_metric\": 0.79596004}, {\"run_id\": \"AutoML_0dc470e4-c43e-46a6-8c8c-c05f198eda7e_1\", \"run_number\": 6, \"metric\": null, \"status\": \"Completed\", \"run_type\": \"azureml.scriptrun\", \"training_percent\": \"100\", \"start_time\": \"2021-01-30T10:34:59.190375Z\", \"end_time\": \"2021-01-30T10:36:02.330605Z\", \"created_time\": \"2021-01-30T10:32:48.623977Z\", \"created_time_dt\": \"2021-01-30T10:32:48.623977Z\", \"duration\": \"0:03:13\", \"iteration\": \"1\", \"goal\": \"accuracy_max\", \"run_name\": \"MaxAbsScaler, XGBoostClassifier\", \"run_properties\": \"copy=True\", \"primary_metric\": 0.79408103, \"best_metric\": 0.79596004}, {\"run_id\": \"AutoML_0dc470e4-c43e-46a6-8c8c-c05f198eda7e_2\", \"run_number\": 7, \"metric\": null, \"status\": \"Completed\", \"run_type\": \"azureml.scriptrun\", \"training_percent\": \"100\", \"start_time\": \"2021-01-30T10:32:59.333848Z\", \"end_time\": \"2021-01-30T10:33:52.612715Z\", \"created_time\": \"2021-01-30T10:32:48.633754Z\", \"created_time_dt\": \"2021-01-30T10:32:48.633754Z\", \"duration\": \"0:01:03\", \"iteration\": \"2\", \"goal\": \"accuracy_max\", \"run_name\": \"MaxAbsScaler, RandomForest\", \"run_properties\": \"copy=True\", \"primary_metric\": 0.76130056, \"best_metric\": 0.79596004}, {\"run_id\": \"AutoML_0dc470e4-c43e-46a6-8c8c-c05f198eda7e_3\", \"run_number\": 8, \"metric\": null, \"status\": \"Completed\", \"run_type\": \"azureml.scriptrun\", \"training_percent\": \"100\", \"start_time\": \"2021-01-30T10:35:13.993263Z\", \"end_time\": \"2021-01-30T10:37:37.571503Z\", \"created_time\": \"2021-01-30T10:32:48.63576Z\", \"created_time_dt\": \"2021-01-30T10:32:48.63576Z\", \"duration\": \"0:04:48\", \"iteration\": \"3\", \"goal\": \"accuracy_max\", \"run_name\": \"MaxAbsScaler, RandomForest\", \"run_properties\": \"copy=True\", \"primary_metric\": 0.75096531, \"best_metric\": 0.79596004}, {\"run_id\": \"AutoML_0dc470e4-c43e-46a6-8c8c-c05f198eda7e_4\", \"run_number\": 9, \"metric\": null, \"status\": \"Completed\", \"run_type\": \"azureml.scriptrun\", \"training_percent\": \"100\", \"start_time\": \"2021-01-30T10:35:14.821679Z\", \"end_time\": \"2021-01-30T10:37:39.47894Z\", \"created_time\": \"2021-01-30T10:33:55.747567Z\", \"created_time_dt\": \"2021-01-30T10:33:55.747567Z\", \"duration\": \"0:03:43\", \"iteration\": \"4\", \"goal\": \"accuracy_max\", \"run_name\": \"MaxAbsScaler, RandomForest\", \"run_properties\": \"copy=True\", \"primary_metric\": 0.72215374, \"best_metric\": 0.79596004}, {\"run_id\": \"AutoML_0dc470e4-c43e-46a6-8c8c-c05f198eda7e_5\", \"run_number\": 10, \"metric\": null, \"status\": \"Completed\", \"run_type\": \"azureml.scriptrun\", \"training_percent\": \"100\", \"start_time\": \"2021-01-30T10:35:18.272688Z\", \"end_time\": \"2021-01-30T10:37:39.561292Z\", \"created_time\": \"2021-01-30T10:34:59.683557Z\", \"created_time_dt\": \"2021-01-30T10:34:59.683557Z\", \"duration\": \"0:02:39\", \"iteration\": \"5\", \"goal\": \"accuracy_max\", \"run_name\": \"MaxAbsScaler, RandomForest\", \"run_properties\": \"copy=True\", \"primary_metric\": 0.72982533, \"best_metric\": 0.79596004}, {\"run_id\": \"AutoML_0dc470e4-c43e-46a6-8c8c-c05f198eda7e_6\", \"run_number\": 11, \"metric\": null, \"status\": \"Completed\", \"run_type\": \"azureml.scriptrun\", \"training_percent\": \"100\", \"start_time\": \"2021-01-30T10:36:18.166276Z\", \"end_time\": \"2021-01-30T10:37:22.33559Z\", \"created_time\": \"2021-01-30T10:36:05.491328Z\", \"created_time_dt\": \"2021-01-30T10:36:05.491328Z\", \"duration\": \"0:01:16\", \"iteration\": \"6\", \"goal\": \"accuracy_max\", \"run_name\": \"TruncatedSVDWrapper, XGBoostClassifier\", \"run_properties\": \"n_components=0.8015789473684211, random_state=None\", \"primary_metric\": 0.762501, \"best_metric\": 0.79596004}, {\"run_id\": \"AutoML_0dc470e4-c43e-46a6-8c8c-c05f198eda7e_7\", \"run_number\": 12, \"metric\": null, \"status\": \"Completed\", \"run_type\": \"azureml.scriptrun\", \"training_percent\": \"100\", \"start_time\": \"2021-01-30T10:37:36.478573Z\", \"end_time\": \"2021-01-30T10:38:45.125985Z\", \"created_time\": \"2021-01-30T10:37:26.044762Z\", \"created_time_dt\": \"2021-01-30T10:37:26.044762Z\", \"duration\": \"0:01:19\", \"iteration\": \"7\", \"goal\": \"accuracy_max\", \"run_name\": \"SparseNormalizer, XGBoostClassifier\", \"run_properties\": \"<azureml.automl.runtime.shared.model_wrappers.SparseNormalizer object at 0x7f0f7c10cfd0\", \"primary_metric\": 0.78792132, \"best_metric\": 0.79596004}, {\"run_id\": \"AutoML_0dc470e4-c43e-46a6-8c8c-c05f198eda7e_8\", \"run_number\": 13, \"metric\": null, \"status\": \"Completed\", \"run_type\": \"azureml.scriptrun\", \"training_percent\": \"100\", \"start_time\": \"2021-01-30T10:37:53.254185Z\", \"end_time\": \"2021-01-30T10:39:05.871069Z\", \"created_time\": \"2021-01-30T10:37:41.218729Z\", \"created_time_dt\": \"2021-01-30T10:37:41.218729Z\", \"duration\": \"0:01:24\", \"iteration\": \"8\", \"goal\": \"accuracy_max\", \"run_name\": \"SparseNormalizer, XGBoostClassifier\", \"run_properties\": \"<azureml.automl.runtime.shared.model_wrappers.SparseNormalizer object at 0x7f415c7a6668\", \"primary_metric\": 0.78552066, \"best_metric\": 0.79596004}, {\"run_id\": \"AutoML_0dc470e4-c43e-46a6-8c8c-c05f198eda7e_9\", \"run_number\": 14, \"metric\": null, \"status\": \"Completed\", \"run_type\": \"azureml.scriptrun\", \"training_percent\": \"100\", \"start_time\": \"2021-01-30T10:37:58.134227Z\", \"end_time\": \"2021-01-30T10:39:21.7842Z\", \"created_time\": \"2021-01-30T10:37:47.352765Z\", \"created_time_dt\": \"2021-01-30T10:37:47.352765Z\", \"duration\": \"0:01:34\", \"iteration\": \"9\", \"goal\": \"accuracy_max\", \"run_name\": \"SparseNormalizer, XGBoostClassifier\", \"run_properties\": \"<azureml.automl.runtime.shared.model_wrappers.SparseNormalizer object at 0x7f7a2f7c99b0\", \"primary_metric\": 0.78792159, \"best_metric\": 0.79596004}, {\"run_id\": \"AutoML_0dc470e4-c43e-46a6-8c8c-c05f198eda7e_10\", \"run_number\": 15, \"metric\": null, \"status\": \"Completed\", \"run_type\": \"azureml.scriptrun\", \"training_percent\": \"100\", \"start_time\": \"2021-01-30T10:37:59.470129Z\", \"end_time\": \"2021-01-30T10:39:02.844298Z\", \"created_time\": \"2021-01-30T10:37:47.583096Z\", \"created_time_dt\": \"2021-01-30T10:37:47.583096Z\", \"duration\": \"0:01:15\", \"iteration\": \"10\", \"goal\": \"accuracy_max\", \"run_name\": \"SparseNormalizer, XGBoostClassifier\", \"run_properties\": \"<azureml.automl.runtime.shared.model_wrappers.SparseNormalizer object at 0x7f44a66e4b38\", \"primary_metric\": 0.78463286, \"best_metric\": 0.79596004}, {\"run_id\": \"AutoML_0dc470e4-c43e-46a6-8c8c-c05f198eda7e_11\", \"run_number\": 16, \"metric\": null, \"status\": \"Completed\", \"run_type\": \"azureml.scriptrun\", \"training_percent\": \"100\", \"start_time\": \"2021-01-30T10:39:10.372178Z\", \"end_time\": \"2021-01-30T10:40:01.99572Z\", \"created_time\": \"2021-01-30T10:38:47.874923Z\", \"created_time_dt\": \"2021-01-30T10:38:47.874923Z\", \"duration\": \"0:01:14\", \"iteration\": \"11\", \"goal\": \"accuracy_max\", \"run_name\": \"MaxAbsScaler, RandomForest\", \"run_properties\": \"copy=True\", \"primary_metric\": 0.78233667, \"best_metric\": 0.79596004}, {\"run_id\": \"AutoML_0dc470e4-c43e-46a6-8c8c-c05f198eda7e_12\", \"run_number\": 17, \"metric\": null, \"status\": \"Completed\", \"run_type\": \"azureml.scriptrun\", \"training_percent\": \"100\", \"start_time\": \"2021-01-30T10:39:20.567576Z\", \"end_time\": \"2021-01-30T10:40:12.274732Z\", \"created_time\": \"2021-01-30T10:39:05.592393Z\", \"created_time_dt\": \"2021-01-30T10:39:05.592393Z\", \"duration\": \"0:01:06\", \"iteration\": \"12\", \"goal\": \"accuracy_max\", \"run_name\": \"MaxAbsScaler, LogisticRegression\", \"run_properties\": \"copy=True\", \"primary_metric\": 0.78160565, \"best_metric\": 0.79596004}, {\"run_id\": \"AutoML_0dc470e4-c43e-46a6-8c8c-c05f198eda7e_13\", \"run_number\": 18, \"metric\": null, \"status\": \"Completed\", \"run_type\": \"azureml.scriptrun\", \"training_percent\": \"100\", \"start_time\": \"2021-01-30T10:39:26.866824Z\", \"end_time\": \"2021-01-30T10:41:06.056261Z\", \"created_time\": \"2021-01-30T10:39:13.416305Z\", \"created_time_dt\": \"2021-01-30T10:39:13.416305Z\", \"duration\": \"0:01:52\", \"iteration\": \"13\", \"goal\": \"accuracy_max\", \"run_name\": \"MaxAbsScaler, ExtremeRandomTrees\", \"run_properties\": \"copy=True\", \"primary_metric\": 0.77528979, \"best_metric\": 0.79596004}, {\"run_id\": \"AutoML_0dc470e4-c43e-46a6-8c8c-c05f198eda7e_14\", \"run_number\": 19, \"metric\": null, \"status\": \"Completed\", \"run_type\": \"azureml.scriptrun\", \"training_percent\": \"100\", \"start_time\": \"2021-01-30T10:39:36.414307Z\", \"end_time\": \"2021-01-30T10:40:29.665515Z\", \"created_time\": \"2021-01-30T10:39:24.592918Z\", \"created_time_dt\": \"2021-01-30T10:39:24.592918Z\", \"duration\": \"0:01:05\", \"iteration\": \"14\", \"goal\": \"accuracy_max\", \"run_name\": \"MaxAbsScaler, LightGBM\", \"run_properties\": \"copy=True\", \"primary_metric\": 0.77534183, \"best_metric\": 0.79596004}, {\"run_id\": \"AutoML_0dc470e4-c43e-46a6-8c8c-c05f198eda7e_15\", \"run_number\": 20, \"metric\": null, \"status\": \"Completed\", \"run_type\": \"azureml.scriptrun\", \"training_percent\": \"100\", \"start_time\": \"2021-01-30T10:40:18.295097Z\", \"end_time\": \"2021-01-30T10:41:16.078739Z\", \"created_time\": \"2021-01-30T10:40:05.417824Z\", \"created_time_dt\": \"2021-01-30T10:40:05.417824Z\", \"duration\": \"0:01:10\", \"iteration\": \"15\", \"goal\": \"accuracy_max\", \"run_name\": \"SparseNormalizer, LightGBM\", \"run_properties\": \"<azureml.automl.runtime.shared.model_wrappers.SparseNormalizer object at 0x7f3c5587d588\", \"primary_metric\": 0.77549832, \"best_metric\": 0.79596004}, {\"run_id\": \"AutoML_0dc470e4-c43e-46a6-8c8c-c05f198eda7e_16\", \"run_number\": 21, \"metric\": null, \"status\": \"Completed\", \"run_type\": \"azureml.scriptrun\", \"training_percent\": \"100\", \"start_time\": \"2021-01-30T10:40:41.319017Z\", \"end_time\": \"2021-01-30T10:41:28.440486Z\", \"created_time\": \"2021-01-30T10:40:14.581227Z\", \"created_time_dt\": \"2021-01-30T10:40:14.581227Z\", \"duration\": \"0:01:13\", \"iteration\": \"16\", \"goal\": \"accuracy_max\", \"run_name\": \"SparseNormalizer, XGBoostClassifier\", \"run_properties\": \"<azureml.automl.runtime.shared.model_wrappers.SparseNormalizer object at 0x7fb906154ba8\", \"primary_metric\": 0.76041309, \"best_metric\": 0.79596004}, {\"run_id\": \"AutoML_0dc470e4-c43e-46a6-8c8c-c05f198eda7e_17\", \"run_number\": 22, \"metric\": null, \"status\": \"Completed\", \"run_type\": \"azureml.scriptrun\", \"training_percent\": \"100\", \"start_time\": \"2021-01-30T10:40:43.693296Z\", \"end_time\": \"2021-01-30T10:41:40.739725Z\", \"created_time\": \"2021-01-30T10:40:31.763829Z\", \"created_time_dt\": \"2021-01-30T10:40:31.763829Z\", \"duration\": \"0:01:08\", \"iteration\": \"17\", \"goal\": \"accuracy_max\", \"run_name\": \"MaxAbsScaler, LightGBM\", \"run_properties\": \"copy=True\", \"primary_metric\": 0.75973466, \"best_metric\": 0.79596004}, {\"run_id\": \"AutoML_0dc470e4-c43e-46a6-8c8c-c05f198eda7e_18\", \"run_number\": 23, \"metric\": null, \"status\": \"Completed\", \"run_type\": \"azureml.scriptrun\", \"training_percent\": \"100\", \"start_time\": \"2021-01-30T10:41:22.071626Z\", \"end_time\": \"2021-01-30T10:42:11.348332Z\", \"created_time\": \"2021-01-30T10:41:08.636122Z\", \"created_time_dt\": \"2021-01-30T10:41:08.636122Z\", \"duration\": \"0:01:02\", \"iteration\": \"18\", \"goal\": \"accuracy_max\", \"run_name\": \"SparseNormalizer, XGBoostClassifier\", \"run_properties\": \"<azureml.automl.runtime.shared.model_wrappers.SparseNormalizer object at 0x7f7ecab6b860\", \"primary_metric\": 0.78233641, \"best_metric\": 0.79596004}, {\"run_id\": \"AutoML_0dc470e4-c43e-46a6-8c8c-c05f198eda7e_19\", \"run_number\": 24, \"metric\": null, \"status\": \"Completed\", \"run_type\": \"azureml.scriptrun\", \"training_percent\": \"100\", \"start_time\": \"2021-01-30T10:41:31.352241Z\", \"end_time\": \"2021-01-30T10:42:29.951719Z\", \"created_time\": \"2021-01-30T10:41:18.751054Z\", \"created_time_dt\": \"2021-01-30T10:41:18.751054Z\", \"duration\": \"0:01:11\", \"iteration\": \"19\", \"goal\": \"accuracy_max\", \"run_name\": \"StandardScalerWrapper, RandomForest\", \"run_properties\": \"<azureml.automl.runtime.shared.model_wrappers.StandardScalerWrapper object at 0x7f1dcb6eb128\", \"primary_metric\": 0.77857811, \"best_metric\": 0.79596004}, {\"run_id\": \"AutoML_0dc470e4-c43e-46a6-8c8c-c05f198eda7e_20\", \"run_number\": 25, \"metric\": null, \"status\": \"Completed\", \"run_type\": \"azureml.scriptrun\", \"training_percent\": \"100\", \"start_time\": \"2021-01-30T10:41:45.23082Z\", \"end_time\": \"2021-01-30T10:42:36.103937Z\", \"created_time\": \"2021-01-30T10:41:31.496105Z\", \"created_time_dt\": \"2021-01-30T10:41:31.496105Z\", \"duration\": \"0:01:04\", \"iteration\": \"20\", \"goal\": \"accuracy_max\", \"run_name\": \"StandardScalerWrapper, LightGBM\", \"run_properties\": \"<azureml.automl.runtime.shared.model_wrappers.StandardScalerWrapper object at 0x7f239f594fd0\", \"primary_metric\": 0.76124843, \"best_metric\": 0.79596004}, {\"run_id\": \"AutoML_0dc470e4-c43e-46a6-8c8c-c05f198eda7e_21\", \"run_number\": 26, \"metric\": null, \"status\": \"Completed\", \"run_type\": \"azureml.scriptrun\", \"training_percent\": \"100\", \"start_time\": \"2021-01-30T10:41:54.78818Z\", \"end_time\": \"2021-01-30T10:43:07.98539Z\", \"created_time\": \"2021-01-30T10:41:43.372123Z\", \"created_time_dt\": \"2021-01-30T10:41:43.372123Z\", \"duration\": \"0:01:24\", \"iteration\": \"21\", \"goal\": \"accuracy_max\", \"run_name\": \"StandardScalerWrapper, ExtremeRandomTrees\", \"run_properties\": \"<azureml.automl.runtime.shared.model_wrappers.StandardScalerWrapper object at 0x7f35c870cd30\", \"primary_metric\": 0.75138289, \"best_metric\": 0.79596004}, {\"run_id\": \"AutoML_0dc470e4-c43e-46a6-8c8c-c05f198eda7e_22\", \"run_number\": 27, \"metric\": null, \"status\": \"Completed\", \"run_type\": \"azureml.scriptrun\", \"training_percent\": \"100\", \"start_time\": \"2021-01-30T10:42:25.974755Z\", \"end_time\": \"2021-01-30T10:43:19.237839Z\", \"created_time\": \"2021-01-30T10:42:14.131782Z\", \"created_time_dt\": \"2021-01-30T10:42:14.131782Z\", \"duration\": \"0:01:05\", \"iteration\": \"22\", \"goal\": \"accuracy_max\", \"run_name\": \"MaxAbsScaler, ExtremeRandomTrees\", \"run_properties\": \"copy=True\", \"primary_metric\": 0.7746635, \"best_metric\": 0.79596004}, {\"run_id\": \"AutoML_0dc470e4-c43e-46a6-8c8c-c05f198eda7e_23\", \"run_number\": 28, \"metric\": null, \"status\": \"Completed\", \"run_type\": \"azureml.scriptrun\", \"training_percent\": \"100\", \"start_time\": \"2021-01-30T10:42:45.643709Z\", \"end_time\": \"2021-01-30T10:44:10.368004Z\", \"created_time\": \"2021-01-30T10:42:32.505258Z\", \"created_time_dt\": \"2021-01-30T10:42:32.505258Z\", \"duration\": \"0:01:37\", \"iteration\": \"23\", \"goal\": \"accuracy_max\", \"run_name\": \"MaxAbsScaler, LogisticRegression\", \"run_properties\": \"copy=True\", \"primary_metric\": 0.78171007, \"best_metric\": 0.79596004}, {\"run_id\": \"AutoML_0dc470e4-c43e-46a6-8c8c-c05f198eda7e_24\", \"run_number\": 29, \"metric\": null, \"status\": \"Completed\", \"run_type\": \"azureml.scriptrun\", \"training_percent\": \"100\", \"start_time\": \"2021-01-30T10:42:49.442239Z\", \"end_time\": \"2021-01-30T10:43:46.302089Z\", \"created_time\": \"2021-01-30T10:42:38.788035Z\", \"created_time_dt\": \"2021-01-30T10:42:38.788035Z\", \"duration\": \"0:01:07\", \"iteration\": \"24\", \"goal\": \"accuracy_max\", \"run_name\": \"StandardScalerWrapper, XGBoostClassifier\", \"run_properties\": \"<azureml.automl.runtime.shared.model_wrappers.StandardScalerWrapper object at 0x7f8c154fca58\", \"primary_metric\": 0.77309734, \"best_metric\": 0.79596004}, {\"run_id\": \"AutoML_0dc470e4-c43e-46a6-8c8c-c05f198eda7e_25\", \"run_number\": 30, \"metric\": null, \"status\": \"Completed\", \"run_type\": \"azureml.scriptrun\", \"training_percent\": \"100\", \"start_time\": \"2021-01-30T10:43:25.313806Z\", \"end_time\": \"2021-01-30T10:44:21.876068Z\", \"created_time\": \"2021-01-30T10:43:12.315444Z\", \"created_time_dt\": \"2021-01-30T10:43:12.315444Z\", \"duration\": \"0:01:09\", \"iteration\": \"25\", \"goal\": \"accuracy_max\", \"run_name\": \"StandardScalerWrapper, LightGBM\", \"run_properties\": \"<azureml.automl.runtime.shared.model_wrappers.StandardScalerWrapper object at 0x7fda67fdb320\", \"primary_metric\": 0.75065216, \"best_metric\": 0.79596004}, {\"run_id\": \"AutoML_0dc470e4-c43e-46a6-8c8c-c05f198eda7e_26\", \"run_number\": 31, \"metric\": null, \"status\": \"Completed\", \"run_type\": \"azureml.scriptrun\", \"training_percent\": \"100\", \"start_time\": \"2021-01-30T10:43:38.202897Z\", \"end_time\": \"2021-01-30T10:44:39.117692Z\", \"created_time\": \"2021-01-30T10:43:22.313264Z\", \"created_time_dt\": \"2021-01-30T10:43:22.313264Z\", \"duration\": \"0:01:16\", \"iteration\": \"26\", \"goal\": \"accuracy_max\", \"run_name\": \"SparseNormalizer, LightGBM\", \"run_properties\": \"<azureml.automl.runtime.shared.model_wrappers.SparseNormalizer object at 0x7f73cd3159e8\", \"primary_metric\": 0.78583377, \"best_metric\": 0.79596004}, {\"run_id\": \"AutoML_0dc470e4-c43e-46a6-8c8c-c05f198eda7e_27\", \"run_number\": 32, \"metric\": null, \"status\": \"Completed\", \"run_type\": \"azureml.scriptrun\", \"training_percent\": \"100\", \"start_time\": \"2021-01-30T10:44:04.17135Z\", \"end_time\": \"2021-01-30T10:45:14.955351Z\", \"created_time\": \"2021-01-30T10:43:49.740332Z\", \"created_time_dt\": \"2021-01-30T10:43:49.740332Z\", \"duration\": \"0:01:25\", \"iteration\": \"27\", \"goal\": \"accuracy_max\", \"run_name\": \"MaxAbsScaler, GradientBoosting\", \"run_properties\": \"copy=True\", \"primary_metric\": 0.77847398, \"best_metric\": 0.79596004}, {\"run_id\": \"AutoML_0dc470e4-c43e-46a6-8c8c-c05f198eda7e_28\", \"run_number\": 33, \"metric\": null, \"status\": \"Completed\", \"run_type\": \"azureml.scriptrun\", \"training_percent\": \"100\", \"start_time\": \"2021-01-30T10:44:25.920555Z\", \"end_time\": \"2021-01-30T10:45:23.381279Z\", \"created_time\": \"2021-01-30T10:44:13.249672Z\", \"created_time_dt\": \"2021-01-30T10:44:13.249672Z\", \"duration\": \"0:01:10\", \"iteration\": \"28\", \"goal\": \"accuracy_max\", \"run_name\": \"SparseNormalizer, XGBoostClassifier\", \"run_properties\": \"<azureml.automl.runtime.shared.model_wrappers.SparseNormalizer object at 0x7f51832f09b0\", \"primary_metric\": 0.76422349, \"best_metric\": 0.79596004}, {\"run_id\": \"AutoML_0dc470e4-c43e-46a6-8c8c-c05f198eda7e_29\", \"run_number\": 34, \"metric\": null, \"status\": \"Completed\", \"run_type\": \"azureml.scriptrun\", \"training_percent\": \"100\", \"start_time\": \"2021-01-30T10:44:35.741279Z\", \"end_time\": \"2021-01-30T10:45:36.075525Z\", \"created_time\": \"2021-01-30T10:44:24.268879Z\", \"created_time_dt\": \"2021-01-30T10:44:24.268879Z\", \"duration\": \"0:01:11\", \"iteration\": \"29\", \"goal\": \"accuracy_max\", \"run_name\": \"StandardScalerWrapper, LightGBM\", \"run_properties\": \"<azureml.automl.runtime.shared.model_wrappers.StandardScalerWrapper object at 0x7fc4f09db6d8\", \"primary_metric\": 0.79110573, \"best_metric\": 0.79596004}, {\"run_id\": \"AutoML_0dc470e4-c43e-46a6-8c8c-c05f198eda7e_30\", \"run_number\": 35, \"metric\": null, \"status\": \"Completed\", \"run_type\": \"azureml.scriptrun\", \"training_percent\": \"100\", \"start_time\": \"2021-01-30T10:44:57.12306Z\", \"end_time\": \"2021-01-30T10:45:54.866692Z\", \"created_time\": \"2021-01-30T10:44:42.68943Z\", \"created_time_dt\": \"2021-01-30T10:44:42.68943Z\", \"duration\": \"0:01:12\", \"iteration\": \"30\", \"goal\": \"accuracy_max\", \"run_name\": \"SparseNormalizer, LightGBM\", \"run_properties\": \"<azureml.automl.runtime.shared.model_wrappers.SparseNormalizer object at 0x7fba877dc7b8\", \"primary_metric\": 0.75065216, \"best_metric\": 0.79596004}, {\"run_id\": \"AutoML_0dc470e4-c43e-46a6-8c8c-c05f198eda7e_31\", \"run_number\": 36, \"metric\": null, \"status\": \"Completed\", \"run_type\": \"azureml.scriptrun\", \"training_percent\": \"100\", \"start_time\": \"2021-01-30T10:45:30.12144Z\", \"end_time\": \"2021-01-30T10:46:28.91808Z\", \"created_time\": \"2021-01-30T10:45:17.376958Z\", \"created_time_dt\": \"2021-01-30T10:45:17.376958Z\", \"duration\": \"0:01:11\", \"iteration\": \"31\", \"goal\": \"accuracy_max\", \"run_name\": \"StandardScalerWrapper, LightGBM\", \"run_properties\": \"<azureml.automl.runtime.shared.model_wrappers.StandardScalerWrapper object at 0x7fca9d1509b0\", \"primary_metric\": 0.7930372, \"best_metric\": 0.79596004}, {\"run_id\": \"AutoML_0dc470e4-c43e-46a6-8c8c-c05f198eda7e_32\", \"run_number\": 37, \"metric\": null, \"status\": \"Completed\", \"run_type\": \"azureml.scriptrun\", \"training_percent\": \"100\", \"start_time\": \"2021-01-30T10:45:40.009156Z\", \"end_time\": \"2021-01-30T10:46:43.316553Z\", \"created_time\": \"2021-01-30T10:45:25.809189Z\", \"created_time_dt\": \"2021-01-30T10:45:25.809189Z\", \"duration\": \"0:01:17\", \"iteration\": \"32\", \"goal\": \"accuracy_max\", \"run_name\": \"StandardScalerWrapper, LightGBM\", \"run_properties\": \"<azureml.automl.runtime.shared.model_wrappers.StandardScalerWrapper object at 0x7f855802e518\", \"primary_metric\": 0.78479, \"best_metric\": 0.79596004}, {\"run_id\": \"AutoML_0dc470e4-c43e-46a6-8c8c-c05f198eda7e_33\", \"run_number\": 38, \"metric\": null, \"status\": \"Canceled\", \"run_type\": \"azureml.scriptrun\", \"training_percent\": \"100\", \"start_time\": \"2021-01-30T10:45:52.037432Z\", \"end_time\": \"2021-01-30T10:46:51.609325Z\", \"created_time\": \"2021-01-30T10:45:38.705096Z\", \"created_time_dt\": \"2021-01-30T10:45:38.705096Z\", \"duration\": \"0:01:12\", \"iteration\": \"33\", \"goal\": null, \"run_name\": \"SparseNormalizer, XGBoostClassifier\", \"run_properties\": null}, {\"run_id\": \"AutoML_0dc470e4-c43e-46a6-8c8c-c05f198eda7e_34\", \"run_number\": 39, \"metric\": null, \"status\": \"Canceled\", \"run_type\": \"azureml.scriptrun\", \"training_percent\": \"100\", \"start_time\": \"2021-01-30T10:46:09.691648Z\", \"end_time\": \"2021-01-30T10:46:52.19835Z\", \"created_time\": \"2021-01-30T10:45:57.018878Z\", \"created_time_dt\": \"2021-01-30T10:45:57.018878Z\", \"duration\": \"0:00:55\", \"iteration\": \"34\", \"goal\": \"accuracy_max\", \"run_name\": \"StandardScalerWrapper, LightGBM\", \"run_properties\": \"<azureml.automl.runtime.shared.model_wrappers.StandardScalerWrapper object at 0x7f9feabfe438\", \"primary_metric\": 0.77988363, \"best_metric\": 0.79596004}, {\"run_id\": \"AutoML_0dc470e4-c43e-46a6-8c8c-c05f198eda7e_35\", \"run_number\": 40, \"metric\": null, \"status\": \"Canceled\", \"run_type\": \"azureml.scriptrun\", \"training_percent\": \"100\", \"start_time\": \"2021-01-30T10:46:32.534497Z\", \"end_time\": \"2021-01-30T10:46:51.310073Z\", \"created_time\": \"2021-01-30T10:46:32.534497Z\", \"created_time_dt\": \"2021-01-30T10:46:32.534497Z\", \"duration\": \"0:00:18\", \"iteration\": \"35\", \"goal\": null, \"run_name\": \"Canceled\", \"run_properties\": null}, {\"run_id\": \"AutoML_0dc470e4-c43e-46a6-8c8c-c05f198eda7e_36\", \"run_number\": 41, \"metric\": null, \"status\": \"Completed\", \"run_type\": \"azureml.scriptrun\", \"training_percent\": \"100\", \"start_time\": \"2021-01-30T10:47:10.256003Z\", \"end_time\": \"2021-01-30T10:48:56.524949Z\", \"created_time\": \"2021-01-30T10:46:54.242662Z\", \"created_time_dt\": \"2021-01-30T10:46:54.242662Z\", \"duration\": \"0:02:02\", \"iteration\": \"36\", \"goal\": \"accuracy_max\", \"run_name\": \"VotingEnsemble\", \"run_properties\": \"classification_labels=None,\\n                              estimators=[('0',\\n                                           Pipeline(memory=None,\\n                                                    steps=[('maxabsscaler',\\n                                                            MaxAbsScaler(copy=True\", \"primary_metric\": 0.79757853, \"best_metric\": 0.79757853}, {\"run_id\": \"AutoML_0dc470e4-c43e-46a6-8c8c-c05f198eda7e_37\", \"run_number\": 42, \"metric\": null, \"status\": \"Completed\", \"run_type\": \"azureml.scriptrun\", \"training_percent\": \"100\", \"start_time\": \"2021-01-30T10:47:09.831078Z\", \"end_time\": \"2021-01-30T10:50:11.431017Z\", \"created_time\": \"2021-01-30T10:46:54.563858Z\", \"created_time_dt\": \"2021-01-30T10:46:54.563858Z\", \"duration\": \"0:03:16\", \"iteration\": \"37\", \"goal\": \"accuracy_max\", \"run_name\": \"StackEnsemble\", \"run_properties\": \"base_learners=[('0',\\n                                        Pipeline(memory=None,\\n                                                 steps=[('maxabsscaler',\\n                                                         MaxAbsScaler(copy=True\", \"primary_metric\": 0.79408113, \"best_metric\": 0.79757853}], \"children_metrics\": {\"categories\": [0], \"series\": {\"weighted_accuracy\": [{\"categories\": [\"0\", \"1\", \"2\", \"3\", \"4\", \"5\", \"6\", \"7\", \"8\", \"9\", \"10\", \"11\", \"12\", \"13\", \"14\", \"15\", \"16\", \"17\", \"18\", \"19\", \"20\", \"21\", \"22\", \"23\", \"24\", \"25\", \"26\", \"27\", \"28\", \"29\", \"30\", \"31\", \"32\", \"34\", \"36\", \"37\"], \"mode\": \"markers\", \"name\": \"weighted_accuracy\", \"stepped\": false, \"type\": \"scatter\", \"data\": [0.8386815871435115, 0.8452746631656132, 0.8916745877275684, 0.900464543506925, 0.717525047969675, 0.727944728569357, 0.887196196976566, 0.8516528687162406, 0.8444144258641314, 0.848199096509418, 0.8499390266419853, 0.8542387663353834, 0.8621800765188243, 0.8692586717851644, 0.8654927816461402, 0.8576708070930629, 0.8881900375537153, 0.8870608692810172, 0.851182004988732, 0.8619293809743331, 0.8886672784745763, 0.8993917103282388, 0.8661206558094069, 0.8618004703440245, 0.8675416730541535, 0.9005442636628962, 0.8513205724453365, 0.864138547091222, 0.883510083528195, 0.8533689970430614, 0.9005442636628962, 0.8515692414614808, 0.8454791014602951, 0.8594353880431262, 0.8401505414018644, 0.841278590491411]}, {\"categories\": [\"0\", \"1\", \"2\", \"3\", \"4\", \"5\", \"6\", \"7\", \"8\", \"9\", \"10\", \"11\", \"12\", \"13\", \"14\", \"15\", \"16\", \"17\", \"18\", \"19\", \"20\", \"21\", \"22\", \"23\", \"24\", \"25\", \"26\", \"27\", \"28\", \"29\", \"30\", \"31\", \"32\", \"34\", \"36\", \"37\"], \"mode\": \"lines\", \"name\": \"weighted_accuracy_max\", \"stepped\": true, \"type\": \"scatter\", \"data\": [0.8386815871435115, 0.8452746631656132, 0.8916745877275684, 0.900464543506925, 0.900464543506925, 0.900464543506925, 0.900464543506925, 0.900464543506925, 0.900464543506925, 0.900464543506925, 0.900464543506925, 0.900464543506925, 0.900464543506925, 0.900464543506925, 0.900464543506925, 0.900464543506925, 0.900464543506925, 0.900464543506925, 0.900464543506925, 0.900464543506925, 0.900464543506925, 0.900464543506925, 0.900464543506925, 0.900464543506925, 0.900464543506925, 0.9005442636628962, 0.9005442636628962, 0.9005442636628962, 0.9005442636628962, 0.9005442636628962, 0.9005442636628962, 0.9005442636628962, 0.9005442636628962, 0.9005442636628962, 0.9005442636628962, 0.9005442636628962]}], \"precision_score_weighted\": [{\"categories\": [\"0\", \"1\", \"2\", \"3\", \"4\", \"5\", \"6\", \"7\", \"8\", \"9\", \"10\", \"11\", \"12\", \"13\", \"14\", \"15\", \"16\", \"17\", \"18\", \"19\", \"20\", \"21\", \"22\", \"23\", \"24\", \"25\", \"26\", \"27\", \"28\", \"29\", \"30\", \"31\", \"32\", \"34\", \"36\", \"37\"], \"mode\": \"markers\", \"name\": \"precision_score_weighted\", \"stepped\": false, \"type\": \"scatter\", \"data\": [0.7950038686306888, 0.788014946130053, 0.7303089525130089, 0.5985850203764594, 0.7875555087700863, 0.7895938748284305, 0.7304800518417585, 0.7754645926828418, 0.7756259712653184, 0.7771295482881024, 0.7713753579637838, 0.7657482394713616, 0.7616144903587123, 0.7505202716925399, 0.751597712764936, 0.7540183588765814, 0.727514310185665, 0.7237973950073935, 0.7673393145222653, 0.7572766112464184, 0.7279887721123629, 0.7088044513393769, 0.7499466226441107, 0.7618820405217249, 0.7479121558471025, 0.5635073887631035, 0.7724354188717066, 0.7566933445128796, 0.7321051719788463, 0.779145895339995, 0.5635073887631035, 0.7829651832378623, 0.7738127677643455, 0.7600544357277113, 0.7965207742913323, 0.790588832816647]}, {\"categories\": [\"0\", \"1\", \"2\", \"3\", \"4\", \"5\", \"6\", \"7\", \"8\", \"9\", \"10\", \"11\", \"12\", \"13\", \"14\", \"15\", \"16\", \"17\", \"18\", \"19\", \"20\", \"21\", \"22\", \"23\", \"24\", \"25\", \"26\", \"27\", \"28\", \"29\", \"30\", \"31\", \"32\", \"34\", \"36\", \"37\"], \"mode\": \"lines\", \"name\": \"precision_score_weighted_max\", \"stepped\": true, \"type\": \"scatter\", \"data\": [0.7950038686306888, 0.7950038686306888, 0.7950038686306888, 0.7950038686306888, 0.7950038686306888, 0.7950038686306888, 0.7950038686306888, 0.7950038686306888, 0.7950038686306888, 0.7950038686306888, 0.7950038686306888, 0.7950038686306888, 0.7950038686306888, 0.7950038686306888, 0.7950038686306888, 0.7950038686306888, 0.7950038686306888, 0.7950038686306888, 0.7950038686306888, 0.7950038686306888, 0.7950038686306888, 0.7950038686306888, 0.7950038686306888, 0.7950038686306888, 0.7950038686306888, 0.7950038686306888, 0.7950038686306888, 0.7950038686306888, 0.7950038686306888, 0.7950038686306888, 0.7950038686306888, 0.7950038686306888, 0.7950038686306888, 0.7950038686306888, 0.7965207742913323, 0.7965207742913323]}], \"precision_score_macro\": [{\"categories\": [\"0\", \"1\", \"2\", \"3\", \"4\", \"5\", \"6\", \"7\", \"8\", \"9\", \"10\", \"11\", \"12\", \"13\", \"14\", \"15\", \"16\", \"17\", \"18\", \"19\", \"20\", \"21\", \"22\", \"23\", \"24\", \"25\", \"26\", \"27\", \"28\", \"29\", \"30\", \"31\", \"32\", \"34\", \"36\", \"37\"], \"mode\": \"markers\", \"name\": \"precision_score_macro\", \"stepped\": false, \"type\": \"scatter\", \"data\": [0.7274655861956807, 0.7241901859521801, 0.6928445638190637, 0.4442582063580767, 0.6800621277706617, 0.6845211936485288, 0.6886944540653984, 0.7152470064848716, 0.711419396956587, 0.7149678521453358, 0.7100477382139092, 0.7065124426104572, 0.7069479370015243, 0.6992909963367083, 0.6980219408889133, 0.6956650274996404, 0.6855591083303567, 0.6783338953882889, 0.7065159411905267, 0.7019398684446972, 0.6861440747653674, 0.6653787017516881, 0.6961612027743034, 0.7069935292014684, 0.6947046973112273, 0.3753260812109105, 0.7118897396362357, 0.7029387337286167, 0.6870928209713154, 0.7198338637693942, 0.3753260812109105, 0.7226373088780444, 0.7100915481200264, 0.7034969434501102, 0.7296608246147112, 0.7246629104780441]}, {\"categories\": [\"0\", \"1\", \"2\", \"3\", \"4\", \"5\", \"6\", \"7\", \"8\", \"9\", \"10\", \"11\", \"12\", \"13\", \"14\", \"15\", \"16\", \"17\", \"18\", \"19\", \"20\", \"21\", \"22\", \"23\", \"24\", \"25\", \"26\", \"27\", \"28\", \"29\", \"30\", \"31\", \"32\", \"34\", \"36\", \"37\"], \"mode\": \"lines\", \"name\": \"precision_score_macro_max\", \"stepped\": true, \"type\": \"scatter\", \"data\": [0.7274655861956807, 0.7274655861956807, 0.7274655861956807, 0.7274655861956807, 0.7274655861956807, 0.7274655861956807, 0.7274655861956807, 0.7274655861956807, 0.7274655861956807, 0.7274655861956807, 0.7274655861956807, 0.7274655861956807, 0.7274655861956807, 0.7274655861956807, 0.7274655861956807, 0.7274655861956807, 0.7274655861956807, 0.7274655861956807, 0.7274655861956807, 0.7274655861956807, 0.7274655861956807, 0.7274655861956807, 0.7274655861956807, 0.7274655861956807, 0.7274655861956807, 0.7274655861956807, 0.7274655861956807, 0.7274655861956807, 0.7274655861956807, 0.7274655861956807, 0.7274655861956807, 0.7274655861956807, 0.7274655861956807, 0.7274655861956807, 0.7296608246147112, 0.7296608246147112]}], \"recall_score_macro\": [{\"categories\": [\"0\", \"1\", \"2\", \"3\", \"4\", \"5\", \"6\", \"7\", \"8\", \"9\", \"10\", \"11\", \"12\", \"13\", \"14\", \"15\", \"16\", \"17\", \"18\", \"19\", \"20\", \"21\", \"22\", \"23\", \"24\", \"25\", \"26\", \"27\", \"28\", \"29\", \"30\", \"31\", \"32\", \"34\", \"36\", \"37\"], \"mode\": \"markers\", \"name\": \"recall_score_macro\", \"stepped\": false, \"type\": \"scatter\", \"data\": [0.724582261231103, 0.7085662678317278, 0.543126443892457, 0.500959317613665, 0.7300447502151027, 0.7330231228170792, 0.5540104615514808, 0.681505407709982, 0.6871314336274125, 0.6872334548942538, 0.6755472474179696, 0.6621071509840707, 0.646867573581382, 0.6182168290731379, 0.6247126825724003, 0.6380595002068248, 0.546815967046553, 0.5468167504279134, 0.6673535912861546, 0.6393255250346469, 0.5482940558360914, 0.5039422042781775, 0.6217919349440921, 0.6477868539802771, 0.6154514671543316, 0.5, 0.6763867266501515, 0.6353819797377719, 0.5648625885181697, 0.6870465095728594, 0.5, 0.6951885022865372, 0.6833256138928313, 0.6468933313986286, 0.7264807626864792, 0.715318151349641]}, {\"categories\": [\"0\", \"1\", \"2\", \"3\", \"4\", \"5\", \"6\", \"7\", \"8\", \"9\", \"10\", \"11\", \"12\", \"13\", \"14\", \"15\", \"16\", \"17\", \"18\", \"19\", \"20\", \"21\", \"22\", \"23\", \"24\", \"25\", \"26\", \"27\", \"28\", \"29\", \"30\", \"31\", \"32\", \"34\", \"36\", \"37\"], \"mode\": \"lines\", \"name\": \"recall_score_macro_max\", \"stepped\": true, \"type\": \"scatter\", \"data\": [0.724582261231103, 0.724582261231103, 0.724582261231103, 0.724582261231103, 0.7300447502151027, 0.7330231228170792, 0.7330231228170792, 0.7330231228170792, 0.7330231228170792, 0.7330231228170792, 0.7330231228170792, 0.7330231228170792, 0.7330231228170792, 0.7330231228170792, 0.7330231228170792, 0.7330231228170792, 0.7330231228170792, 0.7330231228170792, 0.7330231228170792, 0.7330231228170792, 0.7330231228170792, 0.7330231228170792, 0.7330231228170792, 0.7330231228170792, 0.7330231228170792, 0.7330231228170792, 0.7330231228170792, 0.7330231228170792, 0.7330231228170792, 0.7330231228170792, 0.7330231228170792, 0.7330231228170792, 0.7330231228170792, 0.7330231228170792, 0.7330231228170792, 0.7330231228170792]}], \"recall_score_micro\": [{\"categories\": [\"0\", \"1\", \"2\", \"3\", \"4\", \"5\", \"6\", \"7\", \"8\", \"9\", \"10\", \"11\", \"12\", \"13\", \"14\", \"15\", \"16\", \"17\", \"18\", \"19\", \"20\", \"21\", \"22\", \"23\", \"24\", \"25\", \"26\", \"27\", \"28\", \"29\", \"30\", \"31\", \"32\", \"34\", \"36\", \"37\"], \"mode\": \"markers\", \"name\": \"recall_score_micro\", \"stepped\": false, \"type\": \"scatter\", \"data\": [0.7959600397591562, 0.794081029988845, 0.7613005565518959, 0.7509653148226559, 0.7221537408537865, 0.7298253343643685, 0.7625010013356591, 0.7879213170874456, 0.785520659121364, 0.7879215895597339, 0.7846328626647028, 0.7823366705739192, 0.7816056546718916, 0.7752897879021214, 0.7753418301091688, 0.7754983245678998, 0.7604130870619803, 0.7597346583115765, 0.7823364117252455, 0.7785781060887202, 0.7612484326031621, 0.751382892227946, 0.7746634967240656, 0.7817100660527322, 0.7730973396350723, 0.750652162421821, 0.785833770651356, 0.7784739808037824, 0.7642234894000106, 0.7911057279669371, 0.750652162421821, 0.7930372022763426, 0.7847899974333111, 0.7798836298104301, 0.7975785251510995, 0.7940811253541458]}, {\"categories\": [\"0\", \"1\", \"2\", \"3\", \"4\", \"5\", \"6\", \"7\", \"8\", \"9\", \"10\", \"11\", \"12\", \"13\", \"14\", \"15\", \"16\", \"17\", \"18\", \"19\", \"20\", \"21\", \"22\", \"23\", \"24\", \"25\", \"26\", \"27\", \"28\", \"29\", \"30\", \"31\", \"32\", \"34\", \"36\", \"37\"], \"mode\": \"lines\", \"name\": \"recall_score_micro_max\", \"stepped\": true, \"type\": \"scatter\", \"data\": [0.7959600397591562, 0.7959600397591562, 0.7959600397591562, 0.7959600397591562, 0.7959600397591562, 0.7959600397591562, 0.7959600397591562, 0.7959600397591562, 0.7959600397591562, 0.7959600397591562, 0.7959600397591562, 0.7959600397591562, 0.7959600397591562, 0.7959600397591562, 0.7959600397591562, 0.7959600397591562, 0.7959600397591562, 0.7959600397591562, 0.7959600397591562, 0.7959600397591562, 0.7959600397591562, 0.7959600397591562, 0.7959600397591562, 0.7959600397591562, 0.7959600397591562, 0.7959600397591562, 0.7959600397591562, 0.7959600397591562, 0.7959600397591562, 0.7959600397591562, 0.7959600397591562, 0.7959600397591562, 0.7959600397591562, 0.7959600397591562, 0.7975785251510995, 0.7975785251510995]}], \"accuracy\": [{\"categories\": [\"0\", \"1\", \"2\", \"3\", \"4\", \"5\", \"6\", \"7\", \"8\", \"9\", \"10\", \"11\", \"12\", \"13\", \"14\", \"15\", \"16\", \"17\", \"18\", \"19\", \"20\", \"21\", \"22\", \"23\", \"24\", \"25\", \"26\", \"27\", \"28\", \"29\", \"30\", \"31\", \"32\", \"34\", \"36\", \"37\"], \"mode\": \"markers\", \"name\": \"accuracy\", \"stepped\": false, \"type\": \"scatter\", \"data\": [0.7959600397591562, 0.794081029988845, 0.7613005565518959, 0.7509653148226559, 0.7221537408537865, 0.7298253343643685, 0.7625010013356591, 0.7879213170874456, 0.785520659121364, 0.7879215895597339, 0.7846328626647028, 0.7823366705739192, 0.7816056546718916, 0.7752897879021214, 0.7753418301091688, 0.7754983245678998, 0.7604130870619803, 0.7597346583115765, 0.7823364117252455, 0.7785781060887202, 0.7612484326031621, 0.751382892227946, 0.7746634967240656, 0.7817100660527322, 0.7730973396350723, 0.750652162421821, 0.785833770651356, 0.7784739808037824, 0.7642234894000106, 0.7911057279669371, 0.750652162421821, 0.7930372022763426, 0.7847899974333111, 0.7798836298104301, 0.7975785251510995, 0.7940811253541458]}, {\"categories\": [\"0\", \"1\", \"2\", \"3\", \"4\", \"5\", \"6\", \"7\", \"8\", \"9\", \"10\", \"11\", \"12\", \"13\", \"14\", \"15\", \"16\", \"17\", \"18\", \"19\", \"20\", \"21\", \"22\", \"23\", \"24\", \"25\", \"26\", \"27\", \"28\", \"29\", \"30\", \"31\", \"32\", \"34\", \"36\", \"37\"], \"mode\": \"lines\", \"name\": \"accuracy_max\", \"stepped\": true, \"type\": \"scatter\", \"data\": [0.7959600397591562, 0.7959600397591562, 0.7959600397591562, 0.7959600397591562, 0.7959600397591562, 0.7959600397591562, 0.7959600397591562, 0.7959600397591562, 0.7959600397591562, 0.7959600397591562, 0.7959600397591562, 0.7959600397591562, 0.7959600397591562, 0.7959600397591562, 0.7959600397591562, 0.7959600397591562, 0.7959600397591562, 0.7959600397591562, 0.7959600397591562, 0.7959600397591562, 0.7959600397591562, 0.7959600397591562, 0.7959600397591562, 0.7959600397591562, 0.7959600397591562, 0.7959600397591562, 0.7959600397591562, 0.7959600397591562, 0.7959600397591562, 0.7959600397591562, 0.7959600397591562, 0.7959600397591562, 0.7959600397591562, 0.7959600397591562, 0.7975785251510995, 0.7975785251510995]}], \"average_precision_score_weighted\": [{\"categories\": [\"0\", \"1\", \"2\", \"3\", \"4\", \"5\", \"6\", \"7\", \"8\", \"9\", \"10\", \"11\", \"12\", \"13\", \"14\", \"15\", \"16\", \"17\", \"18\", \"19\", \"20\", \"21\", \"22\", \"23\", \"24\", \"25\", \"26\", \"27\", \"28\", \"29\", \"30\", \"31\", \"32\", \"34\", \"36\", \"37\"], \"mode\": \"markers\", \"name\": \"average_precision_score_weighted\", \"stepped\": false, \"type\": \"scatter\", \"data\": [0.8167168126138236, 0.813577917256338, 0.8082691614508108, 0.7997444811859783, 0.7965445362743437, 0.8021162843867368, 0.7858303270354531, 0.810983709474265, 0.8093794819521813, 0.8109454166674925, 0.8118662459488999, 0.8009675775085684, 0.810885427661933, 0.8061220906618844, 0.8074298795206027, 0.7983267895327761, 0.7872000840483206, 0.8079130316952574, 0.806136254926329, 0.8122868819796544, 0.8086839677631236, 0.8082059673513603, 0.805890953133833, 0.8092026238850657, 0.8044650578853529, 0.8045333847583496, 0.808348349030419, 0.8104973329423466, 0.7956091138225103, 0.8131220828932977, 0.8036010215727222, 0.8144607933325789, 0.8084558915536851, 0.8083142844517479, 0.8156658131654491, 0.8167878399477116]}, {\"categories\": [\"0\", \"1\", \"2\", \"3\", \"4\", \"5\", \"6\", \"7\", \"8\", \"9\", \"10\", \"11\", \"12\", \"13\", \"14\", \"15\", \"16\", \"17\", \"18\", \"19\", \"20\", \"21\", \"22\", \"23\", \"24\", \"25\", \"26\", \"27\", \"28\", \"29\", \"30\", \"31\", \"32\", \"34\", \"36\", \"37\"], \"mode\": \"lines\", \"name\": \"average_precision_score_weighted_max\", \"stepped\": true, \"type\": \"scatter\", \"data\": [0.8167168126138236, 0.8167168126138236, 0.8167168126138236, 0.8167168126138236, 0.8167168126138236, 0.8167168126138236, 0.8167168126138236, 0.8167168126138236, 0.8167168126138236, 0.8167168126138236, 0.8167168126138236, 0.8167168126138236, 0.8167168126138236, 0.8167168126138236, 0.8167168126138236, 0.8167168126138236, 0.8167168126138236, 0.8167168126138236, 0.8167168126138236, 0.8167168126138236, 0.8167168126138236, 0.8167168126138236, 0.8167168126138236, 0.8167168126138236, 0.8167168126138236, 0.8167168126138236, 0.8167168126138236, 0.8167168126138236, 0.8167168126138236, 0.8167168126138236, 0.8167168126138236, 0.8167168126138236, 0.8167168126138236, 0.8167168126138236, 0.8167168126138236, 0.8167878399477116]}], \"matthews_correlation\": [{\"categories\": [\"0\", \"1\", \"2\", \"3\", \"4\", \"5\", \"6\", \"7\", \"8\", \"9\", \"10\", \"11\", \"12\", \"13\", \"14\", \"15\", \"16\", \"17\", \"18\", \"19\", \"20\", \"21\", \"22\", \"23\", \"24\", \"25\", \"26\", \"27\", \"28\", \"29\", \"30\", \"31\", \"32\", \"34\", \"36\", \"37\"], \"mode\": \"markers\", \"name\": \"matthews_correlation\", \"stepped\": false, \"type\": \"scatter\", \"data\": [0.4519757106792719, 0.43241749797212686, 0.17944958847371642, 0.012937457067836769, 0.4070031062689079, 0.4146387146407247, 0.20168989781602448, 0.39521191807950473, 0.39773540478597724, 0.40117622635041245, 0.38395674286507736, 0.3659084850473814, 0.3486675370359736, 0.3069076246996163, 0.31388466983561225, 0.3286875387222018, 0.1843609451538915, 0.18255402852216798, 0.3716437171384484, 0.33524839504761755, 0.18864792551216242, 0.046788473081961046, 0.3089979329283482, 0.3497949911116815, 0.29726977448316455, 0.0, 0.38661160722526794, 0.331289217716286, 0.22001907815892344, 0.40551262919093717, 0.0, 0.416876729771979, 0.39246223466640434, 0.3457074011987227, 0.45606500961532237, 0.43974824300513704]}, {\"categories\": [\"0\", \"1\", \"2\", \"3\", \"4\", \"5\", \"6\", \"7\", \"8\", \"9\", \"10\", \"11\", \"12\", \"13\", \"14\", \"15\", \"16\", \"17\", \"18\", \"19\", \"20\", \"21\", \"22\", \"23\", \"24\", \"25\", \"26\", \"27\", \"28\", \"29\", \"30\", \"31\", \"32\", \"34\", \"36\", \"37\"], \"mode\": \"lines\", \"name\": \"matthews_correlation_max\", \"stepped\": true, \"type\": \"scatter\", \"data\": [0.4519757106792719, 0.4519757106792719, 0.4519757106792719, 0.4519757106792719, 0.4519757106792719, 0.4519757106792719, 0.4519757106792719, 0.4519757106792719, 0.4519757106792719, 0.4519757106792719, 0.4519757106792719, 0.4519757106792719, 0.4519757106792719, 0.4519757106792719, 0.4519757106792719, 0.4519757106792719, 0.4519757106792719, 0.4519757106792719, 0.4519757106792719, 0.4519757106792719, 0.4519757106792719, 0.4519757106792719, 0.4519757106792719, 0.4519757106792719, 0.4519757106792719, 0.4519757106792719, 0.4519757106792719, 0.4519757106792719, 0.4519757106792719, 0.4519757106792719, 0.4519757106792719, 0.4519757106792719, 0.4519757106792719, 0.4519757106792719, 0.45606500961532237, 0.45606500961532237]}], \"norm_macro_recall\": [{\"categories\": [\"0\", \"1\", \"2\", \"3\", \"4\", \"5\", \"6\", \"7\", \"8\", \"9\", \"10\", \"11\", \"12\", \"13\", \"14\", \"15\", \"16\", \"17\", \"18\", \"19\", \"20\", \"21\", \"22\", \"23\", \"24\", \"25\", \"26\", \"27\", \"28\", \"29\", \"30\", \"31\", \"32\", \"34\", \"36\", \"37\"], \"mode\": \"markers\", \"name\": \"norm_macro_recall\", \"stepped\": false, \"type\": \"scatter\", \"data\": [0.44916452246220623, 0.4171325356634557, 0.08625288778491394, 0.0019186352273300234, 0.4600895004302056, 0.4660462456341584, 0.10802092310296163, 0.36301081541996394, 0.37426286725482494, 0.37446690978850766, 0.3510944948359391, 0.3242143019681415, 0.29373514716276405, 0.23643365814627582, 0.2494253651448007, 0.2761190004136496, 0.09363193409310613, 0.09363350085582697, 0.334707182572309, 0.2786510500692937, 0.09658811167218281, 0.007884408556354926, 0.2435838698881839, 0.29557370796055427, 0.2309029343086631, 0.0, 0.352773453300303, 0.2707639594755438, 0.12972517703633932, 0.37409301914571863, 0.0, 0.3903770045730742, 0.36665122778566267, 0.2937866627972572, 0.45296152537295864, 0.430636302699282]}, {\"categories\": [\"0\", \"1\", \"2\", \"3\", \"4\", \"5\", \"6\", \"7\", \"8\", \"9\", \"10\", \"11\", \"12\", \"13\", \"14\", \"15\", \"16\", \"17\", \"18\", \"19\", \"20\", \"21\", \"22\", \"23\", \"24\", \"25\", \"26\", \"27\", \"28\", \"29\", \"30\", \"31\", \"32\", \"34\", \"36\", \"37\"], \"mode\": \"lines\", \"name\": \"norm_macro_recall_max\", \"stepped\": true, \"type\": \"scatter\", \"data\": [0.44916452246220623, 0.44916452246220623, 0.44916452246220623, 0.44916452246220623, 0.4600895004302056, 0.4660462456341584, 0.4660462456341584, 0.4660462456341584, 0.4660462456341584, 0.4660462456341584, 0.4660462456341584, 0.4660462456341584, 0.4660462456341584, 0.4660462456341584, 0.4660462456341584, 0.4660462456341584, 0.4660462456341584, 0.4660462456341584, 0.4660462456341584, 0.4660462456341584, 0.4660462456341584, 0.4660462456341584, 0.4660462456341584, 0.4660462456341584, 0.4660462456341584, 0.4660462456341584, 0.4660462456341584, 0.4660462456341584, 0.4660462456341584, 0.4660462456341584, 0.4660462456341584, 0.4660462456341584, 0.4660462456341584, 0.4660462456341584, 0.4660462456341584, 0.4660462456341584]}], \"f1_score_weighted\": [{\"categories\": [\"0\", \"1\", \"2\", \"3\", \"4\", \"5\", \"6\", \"7\", \"8\", \"9\", \"10\", \"11\", \"12\", \"13\", \"14\", \"15\", \"16\", \"17\", \"18\", \"19\", \"20\", \"21\", \"22\", \"23\", \"24\", \"25\", \"26\", \"27\", \"28\", \"29\", \"30\", \"31\", \"32\", \"34\", \"36\", \"37\"], \"mode\": \"markers\", \"name\": \"f1_score_weighted\", \"stepped\": false, \"type\": \"scatter\", \"data\": [0.7953329815772835, 0.7903774597873626, 0.6911622026106532, 0.6449583469168234, 0.738873246672074, 0.7452623887707807, 0.7013442261088303, 0.7788767200118173, 0.7790000705777438, 0.7805866303913476, 0.7749973054962627, 0.76928695402713, 0.763257740480421, 0.7472913384209726, 0.7501212883511481, 0.7564009993948739, 0.6942841311787669, 0.6948244119235912, 0.7708581936111989, 0.7582799652986421, 0.6958181548521457, 0.6486537029024012, 0.748612428530547, 0.7636701483417024, 0.7427926409423082, 0.6437464058813542, 0.7760963144401282, 0.7566139979710524, 0.7102181399989022, 0.7826200009185277, 0.6437464058813542, 0.7862343740191684, 0.7774812023760915, 0.7622358546073976, 0.7968925181684844, 0.79187168334769]}, {\"categories\": [\"0\", \"1\", \"2\", \"3\", \"4\", \"5\", \"6\", \"7\", \"8\", \"9\", \"10\", \"11\", \"12\", \"13\", \"14\", \"15\", \"16\", \"17\", \"18\", \"19\", \"20\", \"21\", \"22\", \"23\", \"24\", \"25\", \"26\", \"27\", \"28\", \"29\", \"30\", \"31\", \"32\", \"34\", \"36\", \"37\"], \"mode\": \"lines\", \"name\": \"f1_score_weighted_max\", \"stepped\": true, \"type\": \"scatter\", \"data\": [0.7953329815772835, 0.7953329815772835, 0.7953329815772835, 0.7953329815772835, 0.7953329815772835, 0.7953329815772835, 0.7953329815772835, 0.7953329815772835, 0.7953329815772835, 0.7953329815772835, 0.7953329815772835, 0.7953329815772835, 0.7953329815772835, 0.7953329815772835, 0.7953329815772835, 0.7953329815772835, 0.7953329815772835, 0.7953329815772835, 0.7953329815772835, 0.7953329815772835, 0.7953329815772835, 0.7953329815772835, 0.7953329815772835, 0.7953329815772835, 0.7953329815772835, 0.7953329815772835, 0.7953329815772835, 0.7953329815772835, 0.7953329815772835, 0.7953329815772835, 0.7953329815772835, 0.7953329815772835, 0.7953329815772835, 0.7953329815772835, 0.7968925181684844, 0.7968925181684844]}], \"average_precision_score_micro\": [{\"categories\": [\"0\", \"1\", \"2\", \"3\", \"4\", \"5\", \"6\", \"7\", \"8\", \"9\", \"10\", \"11\", \"12\", \"13\", \"14\", \"15\", \"16\", \"17\", \"18\", \"19\", \"20\", \"21\", \"22\", \"23\", \"24\", \"25\", \"26\", \"27\", \"28\", \"29\", \"30\", \"31\", \"32\", \"34\", \"36\", \"37\"], \"mode\": \"markers\", \"name\": \"average_precision_score_micro\", \"stepped\": false, \"type\": \"scatter\", \"data\": [0.8647324104186278, 0.8624580607733087, 0.8492312517163739, 0.8419941217600103, 0.7449144529695537, 0.7504679695279681, 0.8342112389098733, 0.85980773028359, 0.8586574548493479, 0.859350187198373, 0.8594028690106468, 0.8499358968402906, 0.8541576723177997, 0.8528976355177615, 0.8516474297855184, 0.8460051013111757, 0.8332387002325372, 0.8497355468922837, 0.8546673894414877, 0.8579055534155, 0.8502004191320583, 0.8484176917775098, 0.8526701133303722, 0.8521844445539543, 0.8493135771613722, 0.8464163084607167, 0.8551646263075314, 0.8548532110840311, 0.8408406692822389, 0.860593265757531, 0.8454849732356806, 0.8624923710740138, 0.8566009567572334, 0.8547358912008806, 0.8645745898909694, 0.8652301720864208]}, {\"categories\": [\"0\", \"1\", \"2\", \"3\", \"4\", \"5\", \"6\", \"7\", \"8\", \"9\", \"10\", \"11\", \"12\", \"13\", \"14\", \"15\", \"16\", \"17\", \"18\", \"19\", \"20\", \"21\", \"22\", \"23\", \"24\", \"25\", \"26\", \"27\", \"28\", \"29\", \"30\", \"31\", \"32\", \"34\", \"36\", \"37\"], \"mode\": \"lines\", \"name\": \"average_precision_score_micro_max\", \"stepped\": true, \"type\": \"scatter\", \"data\": [0.8647324104186278, 0.8647324104186278, 0.8647324104186278, 0.8647324104186278, 0.8647324104186278, 0.8647324104186278, 0.8647324104186278, 0.8647324104186278, 0.8647324104186278, 0.8647324104186278, 0.8647324104186278, 0.8647324104186278, 0.8647324104186278, 0.8647324104186278, 0.8647324104186278, 0.8647324104186278, 0.8647324104186278, 0.8647324104186278, 0.8647324104186278, 0.8647324104186278, 0.8647324104186278, 0.8647324104186278, 0.8647324104186278, 0.8647324104186278, 0.8647324104186278, 0.8647324104186278, 0.8647324104186278, 0.8647324104186278, 0.8647324104186278, 0.8647324104186278, 0.8647324104186278, 0.8647324104186278, 0.8647324104186278, 0.8647324104186278, 0.8647324104186278, 0.8652301720864208]}], \"f1_score_micro\": [{\"categories\": [\"0\", \"1\", \"2\", \"3\", \"4\", \"5\", \"6\", \"7\", \"8\", \"9\", \"10\", \"11\", \"12\", \"13\", \"14\", \"15\", \"16\", \"17\", \"18\", \"19\", \"20\", \"21\", \"22\", \"23\", \"24\", \"25\", \"26\", \"27\", \"28\", \"29\", \"30\", \"31\", \"32\", \"34\", \"36\", \"37\"], \"mode\": \"markers\", \"name\": \"f1_score_micro\", \"stepped\": false, \"type\": \"scatter\", \"data\": [0.7959600397591562, 0.794081029988845, 0.7613005565518959, 0.750965314822656, 0.7221537408537865, 0.7298253343643685, 0.7625010013356592, 0.7879213170874456, 0.785520659121364, 0.7879215895597339, 0.7846328626647028, 0.7823366705739192, 0.7816056546718916, 0.7752897879021214, 0.7753418301091688, 0.7754983245678998, 0.7604130870619803, 0.7597346583115765, 0.7823364117252455, 0.7785781060887202, 0.7612484326031621, 0.751382892227946, 0.7746634967240658, 0.7817100660527321, 0.7730973396350723, 0.750652162421821, 0.7858337706513558, 0.7784739808037824, 0.7642234894000106, 0.791105727966937, 0.750652162421821, 0.7930372022763426, 0.784789997433311, 0.7798836298104301, 0.7975785251510995, 0.7940811253541458]}, {\"categories\": [\"0\", \"1\", \"2\", \"3\", \"4\", \"5\", \"6\", \"7\", \"8\", \"9\", \"10\", \"11\", \"12\", \"13\", \"14\", \"15\", \"16\", \"17\", \"18\", \"19\", \"20\", \"21\", \"22\", \"23\", \"24\", \"25\", \"26\", \"27\", \"28\", \"29\", \"30\", \"31\", \"32\", \"34\", \"36\", \"37\"], \"mode\": \"lines\", \"name\": \"f1_score_micro_max\", \"stepped\": true, \"type\": \"scatter\", \"data\": [0.7959600397591562, 0.7959600397591562, 0.7959600397591562, 0.7959600397591562, 0.7959600397591562, 0.7959600397591562, 0.7959600397591562, 0.7959600397591562, 0.7959600397591562, 0.7959600397591562, 0.7959600397591562, 0.7959600397591562, 0.7959600397591562, 0.7959600397591562, 0.7959600397591562, 0.7959600397591562, 0.7959600397591562, 0.7959600397591562, 0.7959600397591562, 0.7959600397591562, 0.7959600397591562, 0.7959600397591562, 0.7959600397591562, 0.7959600397591562, 0.7959600397591562, 0.7959600397591562, 0.7959600397591562, 0.7959600397591562, 0.7959600397591562, 0.7959600397591562, 0.7959600397591562, 0.7959600397591562, 0.7959600397591562, 0.7959600397591562, 0.7975785251510995, 0.7975785251510995]}], \"precision_score_micro\": [{\"categories\": [\"0\", \"1\", \"2\", \"3\", \"4\", \"5\", \"6\", \"7\", \"8\", \"9\", \"10\", \"11\", \"12\", \"13\", \"14\", \"15\", \"16\", \"17\", \"18\", \"19\", \"20\", \"21\", \"22\", \"23\", \"24\", \"25\", \"26\", \"27\", \"28\", \"29\", \"30\", \"31\", \"32\", \"34\", \"36\", \"37\"], \"mode\": \"markers\", \"name\": \"precision_score_micro\", \"stepped\": false, \"type\": \"scatter\", \"data\": [0.7959600397591562, 0.794081029988845, 0.7613005565518959, 0.7509653148226559, 0.7221537408537865, 0.7298253343643685, 0.7625010013356591, 0.7879213170874456, 0.785520659121364, 0.7879215895597339, 0.7846328626647028, 0.7823366705739192, 0.7816056546718916, 0.7752897879021214, 0.7753418301091688, 0.7754983245678998, 0.7604130870619803, 0.7597346583115765, 0.7823364117252455, 0.7785781060887202, 0.7612484326031621, 0.751382892227946, 0.7746634967240656, 0.7817100660527322, 0.7730973396350723, 0.750652162421821, 0.785833770651356, 0.7784739808037824, 0.7642234894000106, 0.7911057279669371, 0.750652162421821, 0.7930372022763426, 0.7847899974333111, 0.7798836298104301, 0.7975785251510995, 0.7940811253541458]}, {\"categories\": [\"0\", \"1\", \"2\", \"3\", \"4\", \"5\", \"6\", \"7\", \"8\", \"9\", \"10\", \"11\", \"12\", \"13\", \"14\", \"15\", \"16\", \"17\", \"18\", \"19\", \"20\", \"21\", \"22\", \"23\", \"24\", \"25\", \"26\", \"27\", \"28\", \"29\", \"30\", \"31\", \"32\", \"34\", \"36\", \"37\"], \"mode\": \"lines\", \"name\": \"precision_score_micro_max\", \"stepped\": true, \"type\": \"scatter\", \"data\": [0.7959600397591562, 0.7959600397591562, 0.7959600397591562, 0.7959600397591562, 0.7959600397591562, 0.7959600397591562, 0.7959600397591562, 0.7959600397591562, 0.7959600397591562, 0.7959600397591562, 0.7959600397591562, 0.7959600397591562, 0.7959600397591562, 0.7959600397591562, 0.7959600397591562, 0.7959600397591562, 0.7959600397591562, 0.7959600397591562, 0.7959600397591562, 0.7959600397591562, 0.7959600397591562, 0.7959600397591562, 0.7959600397591562, 0.7959600397591562, 0.7959600397591562, 0.7959600397591562, 0.7959600397591562, 0.7959600397591562, 0.7959600397591562, 0.7959600397591562, 0.7959600397591562, 0.7959600397591562, 0.7959600397591562, 0.7959600397591562, 0.7975785251510995, 0.7975785251510995]}], \"log_loss\": [{\"categories\": [\"0\", \"1\", \"2\", \"3\", \"4\", \"5\", \"6\", \"7\", \"8\", \"9\", \"10\", \"11\", \"12\", \"13\", \"14\", \"15\", \"16\", \"17\", \"18\", \"19\", \"20\", \"21\", \"22\", \"23\", \"24\", \"25\", \"26\", \"27\", \"28\", \"29\", \"30\", \"31\", \"32\", \"34\", \"36\", \"37\"], \"mode\": \"markers\", \"name\": \"log_loss\", \"stepped\": false, \"type\": \"scatter\", \"data\": [0.4378793603067389, 0.4382646171430141, 0.4705997203812308, 0.4978121142725029, 0.6246420122697373, 0.5952017052935792, 0.5318430936676439, 0.44505404894323186, 0.4502012697772219, 0.44563020863578895, 0.44568113315532154, 0.45070039646693, 0.45446532181259214, 0.4600550446176328, 0.4590971882710183, 0.4645038594381278, 0.5224768687186774, 0.4695682511425163, 0.4971975556479352, 0.44944256191477916, 0.4745576558990753, 0.4744160768276785, 0.45763233837612693, 0.4569188059592116, 0.46505297092507103, 0.5550012924068242, 0.4517666772847516, 0.4529290929049606, 0.4793138606729677, 0.4427384320892716, 0.5615792649955887, 0.4404657427903384, 0.4492715371596237, 0.45352788848013575, 0.4497039437793304, 0.43631854741524523]}, {\"categories\": [\"0\", \"1\", \"2\", \"3\", \"4\", \"5\", \"6\", \"7\", \"8\", \"9\", \"10\", \"11\", \"12\", \"13\", \"14\", \"15\", \"16\", \"17\", \"18\", \"19\", \"20\", \"21\", \"22\", \"23\", \"24\", \"25\", \"26\", \"27\", \"28\", \"29\", \"30\", \"31\", \"32\", \"34\", \"36\", \"37\"], \"mode\": \"lines\", \"name\": \"log_loss_min\", \"stepped\": true, \"type\": \"scatter\", \"data\": [0.4378793603067389, 0.4378793603067389, 0.4378793603067389, 0.4378793603067389, 0.4378793603067389, 0.4378793603067389, 0.4378793603067389, 0.4378793603067389, 0.4378793603067389, 0.4378793603067389, 0.4378793603067389, 0.4378793603067389, 0.4378793603067389, 0.4378793603067389, 0.4378793603067389, 0.4378793603067389, 0.4378793603067389, 0.4378793603067389, 0.4378793603067389, 0.4378793603067389, 0.4378793603067389, 0.4378793603067389, 0.4378793603067389, 0.4378793603067389, 0.4378793603067389, 0.4378793603067389, 0.4378793603067389, 0.4378793603067389, 0.4378793603067389, 0.4378793603067389, 0.4378793603067389, 0.4378793603067389, 0.4378793603067389, 0.4378793603067389, 0.4378793603067389, 0.43631854741524523]}], \"balanced_accuracy\": [{\"categories\": [\"0\", \"1\", \"2\", \"3\", \"4\", \"5\", \"6\", \"7\", \"8\", \"9\", \"10\", \"11\", \"12\", \"13\", \"14\", \"15\", \"16\", \"17\", \"18\", \"19\", \"20\", \"21\", \"22\", \"23\", \"24\", \"25\", \"26\", \"27\", \"28\", \"29\", \"30\", \"31\", \"32\", \"34\", \"36\", \"37\"], \"mode\": \"markers\", \"name\": \"balanced_accuracy\", \"stepped\": false, \"type\": \"scatter\", \"data\": [0.724582261231103, 0.7085662678317278, 0.543126443892457, 0.500959317613665, 0.7300447502151027, 0.7330231228170792, 0.5540104615514808, 0.681505407709982, 0.6871314336274125, 0.6872334548942538, 0.6755472474179696, 0.6621071509840707, 0.646867573581382, 0.6182168290731379, 0.6247126825724003, 0.6380595002068248, 0.546815967046553, 0.5468167504279134, 0.6673535912861546, 0.6393255250346469, 0.5482940558360914, 0.5039422042781775, 0.6217919349440921, 0.6477868539802771, 0.6154514671543316, 0.5, 0.6763867266501515, 0.6353819797377719, 0.5648625885181697, 0.6870465095728594, 0.5, 0.6951885022865372, 0.6833256138928313, 0.6468933313986286, 0.7264807626864792, 0.715318151349641]}, {\"categories\": [\"0\", \"1\", \"2\", \"3\", \"4\", \"5\", \"6\", \"7\", \"8\", \"9\", \"10\", \"11\", \"12\", \"13\", \"14\", \"15\", \"16\", \"17\", \"18\", \"19\", \"20\", \"21\", \"22\", \"23\", \"24\", \"25\", \"26\", \"27\", \"28\", \"29\", \"30\", \"31\", \"32\", \"34\", \"36\", \"37\"], \"mode\": \"lines\", \"name\": \"balanced_accuracy_max\", \"stepped\": true, \"type\": \"scatter\", \"data\": [0.724582261231103, 0.724582261231103, 0.724582261231103, 0.724582261231103, 0.7300447502151027, 0.7330231228170792, 0.7330231228170792, 0.7330231228170792, 0.7330231228170792, 0.7330231228170792, 0.7330231228170792, 0.7330231228170792, 0.7330231228170792, 0.7330231228170792, 0.7330231228170792, 0.7330231228170792, 0.7330231228170792, 0.7330231228170792, 0.7330231228170792, 0.7330231228170792, 0.7330231228170792, 0.7330231228170792, 0.7330231228170792, 0.7330231228170792, 0.7330231228170792, 0.7330231228170792, 0.7330231228170792, 0.7330231228170792, 0.7330231228170792, 0.7330231228170792, 0.7330231228170792, 0.7330231228170792, 0.7330231228170792, 0.7330231228170792, 0.7330231228170792, 0.7330231228170792]}], \"AUC_macro\": [{\"categories\": [\"0\", \"1\", \"2\", \"3\", \"4\", \"5\", \"6\", \"7\", \"8\", \"9\", \"10\", \"11\", \"12\", \"13\", \"14\", \"15\", \"16\", \"17\", \"18\", \"19\", \"20\", \"21\", \"22\", \"23\", \"24\", \"25\", \"26\", \"27\", \"28\", \"29\", \"30\", \"31\", \"32\", \"34\", \"36\", \"37\"], \"mode\": \"markers\", \"name\": \"AUC_macro\", \"stepped\": false, \"type\": \"scatter\", \"data\": [0.8012921325382292, 0.8008092966614745, 0.7891361094264016, 0.7754362393027151, 0.7744925375928078, 0.7797897992678635, 0.7542044794694289, 0.79697677356962, 0.7937028015573718, 0.7955079858014696, 0.7957764222641577, 0.7888593301607042, 0.7966363327053178, 0.7862254479650196, 0.7912782001915779, 0.7749294620676173, 0.766692554524585, 0.7903293018303366, 0.7902691230318823, 0.7945755622237304, 0.7909639371214605, 0.7889127037258614, 0.7884859127948471, 0.7957226994618345, 0.787483912590303, 0.7842034148968267, 0.7902040797401779, 0.7947282525282903, 0.7731928424808159, 0.7985436324853096, 0.7820809690790875, 0.8000206604051003, 0.7905458648361815, 0.789776145764599, 0.8023998087108003, 0.8032811745940753]}, {\"categories\": [\"0\", \"1\", \"2\", \"3\", \"4\", \"5\", \"6\", \"7\", \"8\", \"9\", \"10\", \"11\", \"12\", \"13\", \"14\", \"15\", \"16\", \"17\", \"18\", \"19\", \"20\", \"21\", \"22\", \"23\", \"24\", \"25\", \"26\", \"27\", \"28\", \"29\", \"30\", \"31\", \"32\", \"34\", \"36\", \"37\"], \"mode\": \"lines\", \"name\": \"AUC_macro_max\", \"stepped\": true, \"type\": \"scatter\", \"data\": [0.8012921325382292, 0.8012921325382292, 0.8012921325382292, 0.8012921325382292, 0.8012921325382292, 0.8012921325382292, 0.8012921325382292, 0.8012921325382292, 0.8012921325382292, 0.8012921325382292, 0.8012921325382292, 0.8012921325382292, 0.8012921325382292, 0.8012921325382292, 0.8012921325382292, 0.8012921325382292, 0.8012921325382292, 0.8012921325382292, 0.8012921325382292, 0.8012921325382292, 0.8012921325382292, 0.8012921325382292, 0.8012921325382292, 0.8012921325382292, 0.8012921325382292, 0.8012921325382292, 0.8012921325382292, 0.8012921325382292, 0.8012921325382292, 0.8012921325382292, 0.8012921325382292, 0.8012921325382292, 0.8012921325382292, 0.8012921325382292, 0.8023998087108003, 0.8032811745940753]}], \"AUC_micro\": [{\"categories\": [\"0\", \"1\", \"2\", \"3\", \"4\", \"5\", \"6\", \"7\", \"8\", \"9\", \"10\", \"11\", \"12\", \"13\", \"14\", \"15\", \"16\", \"17\", \"18\", \"19\", \"20\", \"21\", \"22\", \"23\", \"24\", \"25\", \"26\", \"27\", \"28\", \"29\", \"30\", \"31\", \"32\", \"34\", \"36\", \"37\"], \"mode\": \"markers\", \"name\": \"AUC_micro\", \"stepped\": false, \"type\": \"scatter\", \"data\": [0.8766285932737172, 0.8756793417357109, 0.8601914255034091, 0.8537531381286453, 0.7782359962117564, 0.783544286026413, 0.8472678370252316, 0.8718750112346495, 0.8702954472552269, 0.8714629072886417, 0.8711038700017781, 0.8677607105232987, 0.867928339541314, 0.8635077589765903, 0.8641579510384328, 0.8599356527265309, 0.8522506609019054, 0.8608645367949583, 0.8679176522358999, 0.8687385233200849, 0.8613407797970908, 0.8588042764238442, 0.8638987518859723, 0.8671051509936575, 0.8633303919184974, 0.8570244639855744, 0.8683843574186874, 0.8678679432973562, 0.8554449037111886, 0.8735328821167403, 0.8562281767775479, 0.8748437611724965, 0.8692344356557584, 0.8665808922853578, 0.8773511994247777, 0.8774169083060656]}, {\"categories\": [\"0\", \"1\", \"2\", \"3\", \"4\", \"5\", \"6\", \"7\", \"8\", \"9\", \"10\", \"11\", \"12\", \"13\", \"14\", \"15\", \"16\", \"17\", \"18\", \"19\", \"20\", \"21\", \"22\", \"23\", \"24\", \"25\", \"26\", \"27\", \"28\", \"29\", \"30\", \"31\", \"32\", \"34\", \"36\", \"37\"], \"mode\": \"lines\", \"name\": \"AUC_micro_max\", \"stepped\": true, \"type\": \"scatter\", \"data\": [0.8766285932737172, 0.8766285932737172, 0.8766285932737172, 0.8766285932737172, 0.8766285932737172, 0.8766285932737172, 0.8766285932737172, 0.8766285932737172, 0.8766285932737172, 0.8766285932737172, 0.8766285932737172, 0.8766285932737172, 0.8766285932737172, 0.8766285932737172, 0.8766285932737172, 0.8766285932737172, 0.8766285932737172, 0.8766285932737172, 0.8766285932737172, 0.8766285932737172, 0.8766285932737172, 0.8766285932737172, 0.8766285932737172, 0.8766285932737172, 0.8766285932737172, 0.8766285932737172, 0.8766285932737172, 0.8766285932737172, 0.8766285932737172, 0.8766285932737172, 0.8766285932737172, 0.8766285932737172, 0.8766285932737172, 0.8766285932737172, 0.8773511994247777, 0.8774169083060656]}], \"f1_score_macro\": [{\"categories\": [\"0\", \"1\", \"2\", \"3\", \"4\", \"5\", \"6\", \"7\", \"8\", \"9\", \"10\", \"11\", \"12\", \"13\", \"14\", \"15\", \"16\", \"17\", \"18\", \"19\", \"20\", \"21\", \"22\", \"23\", \"24\", \"25\", \"26\", \"27\", \"28\", \"29\", \"30\", \"31\", \"32\", \"34\", \"36\", \"37\"], \"mode\": \"markers\", \"name\": \"f1_score_macro\", \"stepped\": false, \"type\": \"scatter\", \"data\": [0.7257892986452417, 0.7153148506864131, 0.5208923214085278, 0.43106532567197453, 0.6833845748189026, 0.6891207371917918, 0.5421366096597352, 0.6938340166958386, 0.6967617735652926, 0.6979924252066634, 0.6879456443733132, 0.6765422140147335, 0.663062010049737, 0.6324457048751493, 0.6389813754682802, 0.6530462492088479, 0.5287399585111133, 0.5302274143392547, 0.6804781567947564, 0.6546373395283214, 0.5314512284792603, 0.4387187060508442, 0.6360419098110396, 0.6639313946013028, 0.6250445769794329, 0.42877895948114375, 0.6892256112894439, 0.6508977952797348, 0.560066344791188, 0.699392723282539, 0.42877895948114375, 0.7060701975177393, 0.6937865734048969, 0.6624229175968841, 0.7278220544819003, 0.7192557104228195]}, {\"categories\": [\"0\", \"1\", \"2\", \"3\", \"4\", \"5\", \"6\", \"7\", \"8\", \"9\", \"10\", \"11\", \"12\", \"13\", \"14\", \"15\", \"16\", \"17\", \"18\", \"19\", \"20\", \"21\", \"22\", \"23\", \"24\", \"25\", \"26\", \"27\", \"28\", \"29\", \"30\", \"31\", \"32\", \"34\", \"36\", \"37\"], \"mode\": \"lines\", \"name\": \"f1_score_macro_max\", \"stepped\": true, \"type\": \"scatter\", \"data\": [0.7257892986452417, 0.7257892986452417, 0.7257892986452417, 0.7257892986452417, 0.7257892986452417, 0.7257892986452417, 0.7257892986452417, 0.7257892986452417, 0.7257892986452417, 0.7257892986452417, 0.7257892986452417, 0.7257892986452417, 0.7257892986452417, 0.7257892986452417, 0.7257892986452417, 0.7257892986452417, 0.7257892986452417, 0.7257892986452417, 0.7257892986452417, 0.7257892986452417, 0.7257892986452417, 0.7257892986452417, 0.7257892986452417, 0.7257892986452417, 0.7257892986452417, 0.7257892986452417, 0.7257892986452417, 0.7257892986452417, 0.7257892986452417, 0.7257892986452417, 0.7257892986452417, 0.7257892986452417, 0.7257892986452417, 0.7257892986452417, 0.7278220544819003, 0.7278220544819003]}], \"average_precision_score_macro\": [{\"categories\": [\"0\", \"1\", \"2\", \"3\", \"4\", \"5\", \"6\", \"7\", \"8\", \"9\", \"10\", \"11\", \"12\", \"13\", \"14\", \"15\", \"16\", \"17\", \"18\", \"19\", \"20\", \"21\", \"22\", \"23\", \"24\", \"25\", \"26\", \"27\", \"28\", \"29\", \"30\", \"31\", \"32\", \"34\", \"36\", \"37\"], \"mode\": \"markers\", \"name\": \"average_precision_score_macro\", \"stepped\": false, \"type\": \"scatter\", \"data\": [0.7269380503562266, 0.7227741297315716, 0.7166167537900642, 0.7061637278512188, 0.7001699331473635, 0.7072866131597724, 0.6875758209156423, 0.7180314467986777, 0.7155270964502556, 0.7185585259737485, 0.7199356475196621, 0.7052230591891729, 0.7205962618187869, 0.7114606784797912, 0.7150653231269711, 0.7047126881544454, 0.690566764720234, 0.7155974164637999, 0.712781144352206, 0.7205579067293586, 0.7168896574463235, 0.7161748794085143, 0.7105618391895289, 0.7183588920389194, 0.7117950498477874, 0.7109161635242754, 0.7172469832559418, 0.7199647192177518, 0.7013194035695912, 0.7228043421916417, 0.7100384076359141, 0.723918024582842, 0.7163600435268134, 0.7159059360508035, 0.7255548160584903, 0.7267636526579907]}, {\"categories\": [\"0\", \"1\", \"2\", \"3\", \"4\", \"5\", \"6\", \"7\", \"8\", \"9\", \"10\", \"11\", \"12\", \"13\", \"14\", \"15\", \"16\", \"17\", \"18\", \"19\", \"20\", \"21\", \"22\", \"23\", \"24\", \"25\", \"26\", \"27\", \"28\", \"29\", \"30\", \"31\", \"32\", \"34\", \"36\", \"37\"], \"mode\": \"lines\", \"name\": \"average_precision_score_macro_max\", \"stepped\": true, \"type\": \"scatter\", \"data\": [0.7269380503562266, 0.7269380503562266, 0.7269380503562266, 0.7269380503562266, 0.7269380503562266, 0.7269380503562266, 0.7269380503562266, 0.7269380503562266, 0.7269380503562266, 0.7269380503562266, 0.7269380503562266, 0.7269380503562266, 0.7269380503562266, 0.7269380503562266, 0.7269380503562266, 0.7269380503562266, 0.7269380503562266, 0.7269380503562266, 0.7269380503562266, 0.7269380503562266, 0.7269380503562266, 0.7269380503562266, 0.7269380503562266, 0.7269380503562266, 0.7269380503562266, 0.7269380503562266, 0.7269380503562266, 0.7269380503562266, 0.7269380503562266, 0.7269380503562266, 0.7269380503562266, 0.7269380503562266, 0.7269380503562266, 0.7269380503562266, 0.7269380503562266, 0.7269380503562266]}], \"recall_score_weighted\": [{\"categories\": [\"0\", \"1\", \"2\", \"3\", \"4\", \"5\", \"6\", \"7\", \"8\", \"9\", \"10\", \"11\", \"12\", \"13\", \"14\", \"15\", \"16\", \"17\", \"18\", \"19\", \"20\", \"21\", \"22\", \"23\", \"24\", \"25\", \"26\", \"27\", \"28\", \"29\", \"30\", \"31\", \"32\", \"34\", \"36\", \"37\"], \"mode\": \"markers\", \"name\": \"recall_score_weighted\", \"stepped\": false, \"type\": \"scatter\", \"data\": [0.7959600397591562, 0.794081029988845, 0.7613005565518959, 0.7509653148226559, 0.7221537408537865, 0.7298253343643685, 0.7625010013356591, 0.7879213170874456, 0.785520659121364, 0.7879215895597339, 0.7846328626647028, 0.7823366705739192, 0.7816056546718916, 0.7752897879021214, 0.7753418301091688, 0.7754983245678998, 0.7604130870619803, 0.7597346583115765, 0.7823364117252455, 0.7785781060887202, 0.7612484326031621, 0.751382892227946, 0.7746634967240656, 0.7817100660527322, 0.7730973396350723, 0.750652162421821, 0.785833770651356, 0.7784739808037824, 0.7642234894000106, 0.7911057279669371, 0.750652162421821, 0.7930372022763426, 0.7847899974333111, 0.7798836298104301, 0.7975785251510995, 0.7940811253541458]}, {\"categories\": [\"0\", \"1\", \"2\", \"3\", \"4\", \"5\", \"6\", \"7\", \"8\", \"9\", \"10\", \"11\", \"12\", \"13\", \"14\", \"15\", \"16\", \"17\", \"18\", \"19\", \"20\", \"21\", \"22\", \"23\", \"24\", \"25\", \"26\", \"27\", \"28\", \"29\", \"30\", \"31\", \"32\", \"34\", \"36\", \"37\"], \"mode\": \"lines\", \"name\": \"recall_score_weighted_max\", \"stepped\": true, \"type\": \"scatter\", \"data\": [0.7959600397591562, 0.7959600397591562, 0.7959600397591562, 0.7959600397591562, 0.7959600397591562, 0.7959600397591562, 0.7959600397591562, 0.7959600397591562, 0.7959600397591562, 0.7959600397591562, 0.7959600397591562, 0.7959600397591562, 0.7959600397591562, 0.7959600397591562, 0.7959600397591562, 0.7959600397591562, 0.7959600397591562, 0.7959600397591562, 0.7959600397591562, 0.7959600397591562, 0.7959600397591562, 0.7959600397591562, 0.7959600397591562, 0.7959600397591562, 0.7959600397591562, 0.7959600397591562, 0.7959600397591562, 0.7959600397591562, 0.7959600397591562, 0.7959600397591562, 0.7959600397591562, 0.7959600397591562, 0.7959600397591562, 0.7959600397591562, 0.7975785251510995, 0.7975785251510995]}], \"AUC_weighted\": [{\"categories\": [\"0\", \"1\", \"2\", \"3\", \"4\", \"5\", \"6\", \"7\", \"8\", \"9\", \"10\", \"11\", \"12\", \"13\", \"14\", \"15\", \"16\", \"17\", \"18\", \"19\", \"20\", \"21\", \"22\", \"23\", \"24\", \"25\", \"26\", \"27\", \"28\", \"29\", \"30\", \"31\", \"32\", \"34\", \"36\", \"37\"], \"mode\": \"markers\", \"name\": \"AUC_weighted\", \"stepped\": false, \"type\": \"scatter\", \"data\": [0.8012921325382292, 0.8008092791511816, 0.7891361094264016, 0.7754362393027151, 0.7744925375928078, 0.7797897992678635, 0.7542044891882517, 0.79697677356962, 0.7937028015573719, 0.7955079860365205, 0.7957764222641577, 0.7888593301607042, 0.7966363327053178, 0.7862254479650196, 0.7912782001915779, 0.7749294620676173, 0.7666925545245851, 0.7903293018303366, 0.7902691230318823, 0.7945755622237305, 0.7909639371214605, 0.7889127037258614, 0.7884859127948471, 0.7957226994618345, 0.787483912590303, 0.7842034148968267, 0.7902040797401779, 0.7947282525282903, 0.7731928424808159, 0.7985436324853096, 0.7820809690790875, 0.8000206604051003, 0.7905458648361816, 0.789776145764599, 0.8023998087108002, 0.8032811745940753]}, {\"categories\": [\"0\", \"1\", \"2\", \"3\", \"4\", \"5\", \"6\", \"7\", \"8\", \"9\", \"10\", \"11\", \"12\", \"13\", \"14\", \"15\", \"16\", \"17\", \"18\", \"19\", \"20\", \"21\", \"22\", \"23\", \"24\", \"25\", \"26\", \"27\", \"28\", \"29\", \"30\", \"31\", \"32\", \"34\", \"36\", \"37\"], \"mode\": \"lines\", \"name\": \"AUC_weighted_max\", \"stepped\": true, \"type\": \"scatter\", \"data\": [0.8012921325382292, 0.8012921325382292, 0.8012921325382292, 0.8012921325382292, 0.8012921325382292, 0.8012921325382292, 0.8012921325382292, 0.8012921325382292, 0.8012921325382292, 0.8012921325382292, 0.8012921325382292, 0.8012921325382292, 0.8012921325382292, 0.8012921325382292, 0.8012921325382292, 0.8012921325382292, 0.8012921325382292, 0.8012921325382292, 0.8012921325382292, 0.8012921325382292, 0.8012921325382292, 0.8012921325382292, 0.8012921325382292, 0.8012921325382292, 0.8012921325382292, 0.8012921325382292, 0.8012921325382292, 0.8012921325382292, 0.8012921325382292, 0.8012921325382292, 0.8012921325382292, 0.8012921325382292, 0.8012921325382292, 0.8012921325382292, 0.8023998087108002, 0.8032811745940753]}]}, \"metricName\": null, \"primaryMetricName\": \"accuracy\", \"showLegend\": false}, \"run_metrics\": [{\"name\": \"experiment_status\", \"run_id\": \"AutoML_0dc470e4-c43e-46a6-8c8c-c05f198eda7e\", \"categories\": [0, 1, 2, 3, 4, 5], \"series\": [{\"data\": [\"DatasetEvaluation\", \"FeaturesGeneration\", \"DatasetFeaturization\", \"DatasetFeaturizationCompleted\", \"DatasetCrossValidationSplit\", \"ModelSelection\"]}]}, {\"name\": \"experiment_status_description\", \"run_id\": \"AutoML_0dc470e4-c43e-46a6-8c8c-c05f198eda7e\", \"categories\": [0, 1, 2, 3, 4, 5], \"series\": [{\"data\": [\"Gathering dataset statistics.\", \"Generating features for the dataset.\", \"Beginning to fit featurizers and featurize the dataset.\", \"Completed fit featurizers and featurizing the dataset.\", \"Generating individually featurized CV splits.\", \"Beginning model selection.\"]}]}, {\"name\": \"recall_score_micro\", \"run_id\": \"AutoML_0dc470e4-c43e-46a6-8c8c-c05f198eda7e\", \"categories\": [0], \"series\": [{\"data\": [0.7975785251510995]}]}, {\"name\": \"log_loss\", \"run_id\": \"AutoML_0dc470e4-c43e-46a6-8c8c-c05f198eda7e\", \"categories\": [0], \"series\": [{\"data\": [0.4497039437793304]}]}, {\"name\": \"f1_score_micro\", \"run_id\": \"AutoML_0dc470e4-c43e-46a6-8c8c-c05f198eda7e\", \"categories\": [0], \"series\": [{\"data\": [0.7975785251510995]}]}, {\"name\": \"AUC_macro\", \"run_id\": \"AutoML_0dc470e4-c43e-46a6-8c8c-c05f198eda7e\", \"categories\": [0], \"series\": [{\"data\": [0.8023998087108003]}]}, {\"name\": \"recall_score_macro\", \"run_id\": \"AutoML_0dc470e4-c43e-46a6-8c8c-c05f198eda7e\", \"categories\": [0], \"series\": [{\"data\": [0.7264807626864792]}]}, {\"name\": \"AUC_micro\", \"run_id\": \"AutoML_0dc470e4-c43e-46a6-8c8c-c05f198eda7e\", \"categories\": [0], \"series\": [{\"data\": [0.8773511994247777]}]}, {\"name\": \"accuracy\", \"run_id\": \"AutoML_0dc470e4-c43e-46a6-8c8c-c05f198eda7e\", \"categories\": [0], \"series\": [{\"data\": [0.7975785251510995]}]}, {\"name\": \"average_precision_score_macro\", \"run_id\": \"AutoML_0dc470e4-c43e-46a6-8c8c-c05f198eda7e\", \"categories\": [0], \"series\": [{\"data\": [0.7255548160584903]}]}, {\"name\": \"average_precision_score_weighted\", \"run_id\": \"AutoML_0dc470e4-c43e-46a6-8c8c-c05f198eda7e\", \"categories\": [0], \"series\": [{\"data\": [0.8156658131654491]}]}, {\"name\": \"precision_score_weighted\", \"run_id\": \"AutoML_0dc470e4-c43e-46a6-8c8c-c05f198eda7e\", \"categories\": [0], \"series\": [{\"data\": [0.7965207742913323]}]}, {\"name\": \"recall_score_weighted\", \"run_id\": \"AutoML_0dc470e4-c43e-46a6-8c8c-c05f198eda7e\", \"categories\": [0], \"series\": [{\"data\": [0.7975785251510995]}]}, {\"name\": \"weighted_accuracy\", \"run_id\": \"AutoML_0dc470e4-c43e-46a6-8c8c-c05f198eda7e\", \"categories\": [0], \"series\": [{\"data\": [0.8401505414018644]}]}, {\"name\": \"average_precision_score_micro\", \"run_id\": \"AutoML_0dc470e4-c43e-46a6-8c8c-c05f198eda7e\", \"categories\": [0], \"series\": [{\"data\": [0.8645745898909694]}]}, {\"name\": \"precision_score_micro\", \"run_id\": \"AutoML_0dc470e4-c43e-46a6-8c8c-c05f198eda7e\", \"categories\": [0], \"series\": [{\"data\": [0.7975785251510995]}]}, {\"name\": \"f1_score_macro\", \"run_id\": \"AutoML_0dc470e4-c43e-46a6-8c8c-c05f198eda7e\", \"categories\": [0], \"series\": [{\"data\": [0.7278220544819003]}]}, {\"name\": \"AUC_weighted\", \"run_id\": \"AutoML_0dc470e4-c43e-46a6-8c8c-c05f198eda7e\", \"categories\": [0], \"series\": [{\"data\": [0.8023998087108002]}]}, {\"name\": \"f1_score_weighted\", \"run_id\": \"AutoML_0dc470e4-c43e-46a6-8c8c-c05f198eda7e\", \"categories\": [0], \"series\": [{\"data\": [0.7968925181684844]}]}, {\"name\": \"precision_score_macro\", \"run_id\": \"AutoML_0dc470e4-c43e-46a6-8c8c-c05f198eda7e\", \"categories\": [0], \"series\": [{\"data\": [0.7296608246147112]}]}, {\"name\": \"balanced_accuracy\", \"run_id\": \"AutoML_0dc470e4-c43e-46a6-8c8c-c05f198eda7e\", \"categories\": [0], \"series\": [{\"data\": [0.7264807626864792]}]}, {\"name\": \"norm_macro_recall\", \"run_id\": \"AutoML_0dc470e4-c43e-46a6-8c8c-c05f198eda7e\", \"categories\": [0], \"series\": [{\"data\": [0.45296152537295864]}]}, {\"name\": \"matthews_correlation\", \"run_id\": \"AutoML_0dc470e4-c43e-46a6-8c8c-c05f198eda7e\", \"categories\": [0], \"series\": [{\"data\": [0.45606500961532237]}]}], \"run_logs\": \"\\nRun is completed.\", \"graph\": {}, \"widget_settings\": {\"childWidgetDisplay\": \"popup\", \"send_telemetry\": false, \"log_level\": \"INFO\", \"sdk_version\": \"1.20.0\"}, \"loading\": false}"
     },
     "metadata": {},
     "output_type": "display_data"
    }
   ],
   "source": [
    "RunDetails(remote_run).show()"
   ]
  },
  {
   "cell_type": "code",
   "execution_count": 10,
   "metadata": {
    "gather": {
     "logged": 1611957104738
    },
    "nteract": {
     "transient": {
      "deleting": false
     }
    }
   },
   "outputs": [
    {
     "data": {
      "text/plain": [
       "{'runId': 'AutoML_0dc470e4-c43e-46a6-8c8c-c05f198eda7e',\n",
       " 'target': 'cpu-cluster',\n",
       " 'status': 'Completed',\n",
       " 'startTimeUtc': '2021-01-30T10:24:00.462831Z',\n",
       " 'endTimeUtc': '2021-01-30T10:50:22.39625Z',\n",
       " 'properties': {'num_iterations': '1000',\n",
       "  'training_type': 'TrainFull',\n",
       "  'acquisition_function': 'EI',\n",
       "  'primary_metric': 'accuracy',\n",
       "  'train_split': '0',\n",
       "  'acquisition_parameter': '0',\n",
       "  'num_cross_validation': '5',\n",
       "  'target': 'cpu-cluster',\n",
       "  'AMLSettingsJsonString': '{\"path\":null,\"name\":\"jobchangeautoml\",\"subscription_id\":\"3e42d11f-d64d-4173-af9b-12ecaa1030b3\",\"resource_group\":\"aml-quickstarts-136575\",\"workspace_name\":\"quick-starts-ws-136575\",\"region\":\"southcentralus\",\"compute_target\":\"cpu-cluster\",\"spark_service\":null,\"azure_service\":\"remote\",\"many_models\":false,\"pipeline_fetch_max_batch_size\":1,\"iterations\":1000,\"primary_metric\":\"accuracy\",\"task_type\":\"classification\",\"data_script\":null,\"validation_size\":0.0,\"n_cross_validations\":5,\"y_min\":null,\"y_max\":null,\"num_classes\":null,\"featurization\":\"auto\",\"_ignore_package_version_incompatibilities\":false,\"is_timeseries\":false,\"max_cores_per_iteration\":1,\"max_concurrent_iterations\":4,\"iteration_timeout_minutes\":null,\"mem_in_mb\":null,\"enforce_time_on_windows\":false,\"experiment_timeout_minutes\":30,\"experiment_exit_score\":null,\"whitelist_models\":null,\"blacklist_algos\":[\"TensorFlowLinearClassifier\",\"TensorFlowDNN\"],\"supported_models\":[\"AveragedPerceptronClassifier\",\"ExtremeRandomTrees\",\"DecisionTree\",\"SGD\",\"BernoulliNaiveBayes\",\"LinearSVM\",\"KNN\",\"LightGBM\",\"GradientBoosting\",\"TensorFlowLinearClassifier\",\"RandomForest\",\"XGBoostClassifier\",\"LogisticRegression\",\"SVM\",\"MultinomialNaiveBayes\",\"TensorFlowDNN\"],\"auto_blacklist\":true,\"blacklist_samples_reached\":false,\"exclude_nan_labels\":true,\"verbosity\":20,\"_debug_log\":\"azureml_automl.log\",\"show_warnings\":false,\"model_explainability\":true,\"service_url\":null,\"sdk_url\":null,\"sdk_packages\":null,\"enable_onnx_compatible_models\":false,\"enable_split_onnx_featurizer_estimator_models\":false,\"vm_type\":\"STANDARD_D12_V2\",\"telemetry_verbosity\":20,\"send_telemetry\":true,\"enable_dnn\":false,\"scenario\":\"SDK-1.13.0\",\"environment_label\":null,\"force_text_dnn\":false,\"enable_feature_sweeping\":true,\"enable_early_stopping\":true,\"early_stopping_n_iters\":10,\"metrics\":null,\"enable_ensembling\":true,\"enable_stack_ensembling\":true,\"ensemble_iterations\":15,\"enable_tf\":false,\"enable_subsampling\":null,\"subsample_seed\":null,\"enable_nimbusml\":false,\"enable_streaming\":false,\"force_streaming\":false,\"track_child_runs\":true,\"allowed_private_models\":[],\"label_column_name\":\"target\",\"weight_column_name\":null,\"cv_split_column_names\":null,\"enable_local_managed\":false,\"_local_managed_run_id\":null,\"cost_mode\":1,\"lag_length\":0,\"metric_operation\":\"maximize\",\"preprocess\":true}',\n",
       "  'DataPrepJsonString': '{\\\\\"training_data\\\\\": \\\\\"{\\\\\\\\\\\\\"blocks\\\\\\\\\\\\\": [{\\\\\\\\\\\\\"id\\\\\\\\\\\\\": \\\\\\\\\\\\\"68d83cd9-e5d9-42d2-b9ad-8d95d6df0adb\\\\\\\\\\\\\", \\\\\\\\\\\\\"type\\\\\\\\\\\\\": \\\\\\\\\\\\\"Microsoft.DPrep.GetDatastoreFilesBlock\\\\\\\\\\\\\", \\\\\\\\\\\\\"arguments\\\\\\\\\\\\\": {\\\\\\\\\\\\\"datastores\\\\\\\\\\\\\": [{\\\\\\\\\\\\\"datastoreName\\\\\\\\\\\\\": \\\\\\\\\\\\\"workspaceblobstore\\\\\\\\\\\\\", \\\\\\\\\\\\\"path\\\\\\\\\\\\\": \\\\\\\\\\\\\"UI/01-30-2021_093921_UTC/aug_train.csv\\\\\\\\\\\\\", \\\\\\\\\\\\\"resourceGroup\\\\\\\\\\\\\": \\\\\\\\\\\\\"aml-quickstarts-136575\\\\\\\\\\\\\", \\\\\\\\\\\\\"subscription\\\\\\\\\\\\\": \\\\\\\\\\\\\"3e42d11f-d64d-4173-af9b-12ecaa1030b3\\\\\\\\\\\\\", \\\\\\\\\\\\\"workspaceName\\\\\\\\\\\\\": \\\\\\\\\\\\\"quick-starts-ws-136575\\\\\\\\\\\\\"}]}, \\\\\\\\\\\\\"localData\\\\\\\\\\\\\": {}, \\\\\\\\\\\\\"isEnabled\\\\\\\\\\\\\": true, \\\\\\\\\\\\\"name\\\\\\\\\\\\\": null, \\\\\\\\\\\\\"annotation\\\\\\\\\\\\\": null}, {\\\\\\\\\\\\\"id\\\\\\\\\\\\\": \\\\\\\\\\\\\"5d092d90-0f94-419e-aac6-bcf98ab65aa4\\\\\\\\\\\\\", \\\\\\\\\\\\\"type\\\\\\\\\\\\\": \\\\\\\\\\\\\"Microsoft.DPrep.ParseDelimitedBlock\\\\\\\\\\\\\", \\\\\\\\\\\\\"arguments\\\\\\\\\\\\\": {\\\\\\\\\\\\\"columnHeadersMode\\\\\\\\\\\\\": 1, \\\\\\\\\\\\\"fileEncoding\\\\\\\\\\\\\": 0, \\\\\\\\\\\\\"handleQuotedLineBreaks\\\\\\\\\\\\\": false, \\\\\\\\\\\\\"preview\\\\\\\\\\\\\": false, \\\\\\\\\\\\\"separator\\\\\\\\\\\\\": \\\\\\\\\\\\\",\\\\\\\\\\\\\", \\\\\\\\\\\\\"skipRows\\\\\\\\\\\\\": 0, \\\\\\\\\\\\\"skipRowsMode\\\\\\\\\\\\\": 0}, \\\\\\\\\\\\\"localData\\\\\\\\\\\\\": {}, \\\\\\\\\\\\\"isEnabled\\\\\\\\\\\\\": true, \\\\\\\\\\\\\"name\\\\\\\\\\\\\": null, \\\\\\\\\\\\\"annotation\\\\\\\\\\\\\": null}, {\\\\\\\\\\\\\"id\\\\\\\\\\\\\": \\\\\\\\\\\\\"6d2457e5-eca1-4e4f-8f81-bb616e23ecaf\\\\\\\\\\\\\", \\\\\\\\\\\\\"type\\\\\\\\\\\\\": \\\\\\\\\\\\\"Microsoft.DPrep.DropColumnsBlock\\\\\\\\\\\\\", \\\\\\\\\\\\\"arguments\\\\\\\\\\\\\": {\\\\\\\\\\\\\"columns\\\\\\\\\\\\\": {\\\\\\\\\\\\\"type\\\\\\\\\\\\\": 0, \\\\\\\\\\\\\"details\\\\\\\\\\\\\": {\\\\\\\\\\\\\"selectedColumns\\\\\\\\\\\\\": [\\\\\\\\\\\\\"Path\\\\\\\\\\\\\"]}}}, \\\\\\\\\\\\\"localData\\\\\\\\\\\\\": {}, \\\\\\\\\\\\\"isEnabled\\\\\\\\\\\\\": true, \\\\\\\\\\\\\"name\\\\\\\\\\\\\": null, \\\\\\\\\\\\\"annotation\\\\\\\\\\\\\": null}, {\\\\\\\\\\\\\"id\\\\\\\\\\\\\": \\\\\\\\\\\\\"de1af6be-a6a2-4fc4-b70e-d77925fe40ea\\\\\\\\\\\\\", \\\\\\\\\\\\\"type\\\\\\\\\\\\\": \\\\\\\\\\\\\"Microsoft.DPrep.SetColumnTypesBlock\\\\\\\\\\\\\", \\\\\\\\\\\\\"arguments\\\\\\\\\\\\\": {\\\\\\\\\\\\\"columnConversion\\\\\\\\\\\\\": [{\\\\\\\\\\\\\"column\\\\\\\\\\\\\": {\\\\\\\\\\\\\"type\\\\\\\\\\\\\": 2, \\\\\\\\\\\\\"details\\\\\\\\\\\\\": {\\\\\\\\\\\\\"selectedColumn\\\\\\\\\\\\\": \\\\\\\\\\\\\"Path\\\\\\\\\\\\\"}}, \\\\\\\\\\\\\"typeProperty\\\\\\\\\\\\\": 0}, {\\\\\\\\\\\\\"column\\\\\\\\\\\\\": {\\\\\\\\\\\\\"type\\\\\\\\\\\\\": 2, \\\\\\\\\\\\\"details\\\\\\\\\\\\\": {\\\\\\\\\\\\\"selectedColumn\\\\\\\\\\\\\": \\\\\\\\\\\\\"enrollee_id\\\\\\\\\\\\\"}}, \\\\\\\\\\\\\"typeProperty\\\\\\\\\\\\\": 2}, {\\\\\\\\\\\\\"column\\\\\\\\\\\\\": {\\\\\\\\\\\\\"type\\\\\\\\\\\\\": 2, \\\\\\\\\\\\\"details\\\\\\\\\\\\\": {\\\\\\\\\\\\\"selectedColumn\\\\\\\\\\\\\": \\\\\\\\\\\\\"city\\\\\\\\\\\\\"}}, \\\\\\\\\\\\\"typeProperty\\\\\\\\\\\\\": 0}, {\\\\\\\\\\\\\"column\\\\\\\\\\\\\": {\\\\\\\\\\\\\"type\\\\\\\\\\\\\": 2, \\\\\\\\\\\\\"details\\\\\\\\\\\\\": {\\\\\\\\\\\\\"selectedColumn\\\\\\\\\\\\\": \\\\\\\\\\\\\"city_development_index\\\\\\\\\\\\\"}}, \\\\\\\\\\\\\"typeProperty\\\\\\\\\\\\\": 3}, {\\\\\\\\\\\\\"column\\\\\\\\\\\\\": {\\\\\\\\\\\\\"type\\\\\\\\\\\\\": 2, \\\\\\\\\\\\\"details\\\\\\\\\\\\\": {\\\\\\\\\\\\\"selectedColumn\\\\\\\\\\\\\": \\\\\\\\\\\\\"gender\\\\\\\\\\\\\"}}, \\\\\\\\\\\\\"typeProperty\\\\\\\\\\\\\": 0}, {\\\\\\\\\\\\\"column\\\\\\\\\\\\\": {\\\\\\\\\\\\\"type\\\\\\\\\\\\\": 2, \\\\\\\\\\\\\"details\\\\\\\\\\\\\": {\\\\\\\\\\\\\"selectedColumn\\\\\\\\\\\\\": \\\\\\\\\\\\\"relevent_experience\\\\\\\\\\\\\"}}, \\\\\\\\\\\\\"typeProperty\\\\\\\\\\\\\": 0}, {\\\\\\\\\\\\\"column\\\\\\\\\\\\\": {\\\\\\\\\\\\\"type\\\\\\\\\\\\\": 2, \\\\\\\\\\\\\"details\\\\\\\\\\\\\": {\\\\\\\\\\\\\"selectedColumn\\\\\\\\\\\\\": \\\\\\\\\\\\\"enrolled_university\\\\\\\\\\\\\"}}, \\\\\\\\\\\\\"typeProperty\\\\\\\\\\\\\": 0}, {\\\\\\\\\\\\\"column\\\\\\\\\\\\\": {\\\\\\\\\\\\\"type\\\\\\\\\\\\\": 2, \\\\\\\\\\\\\"details\\\\\\\\\\\\\": {\\\\\\\\\\\\\"selectedColumn\\\\\\\\\\\\\": \\\\\\\\\\\\\"education_level\\\\\\\\\\\\\"}}, \\\\\\\\\\\\\"typeProperty\\\\\\\\\\\\\": 0}, {\\\\\\\\\\\\\"column\\\\\\\\\\\\\": {\\\\\\\\\\\\\"type\\\\\\\\\\\\\": 2, \\\\\\\\\\\\\"details\\\\\\\\\\\\\": {\\\\\\\\\\\\\"selectedColumn\\\\\\\\\\\\\": \\\\\\\\\\\\\"major_discipline\\\\\\\\\\\\\"}}, \\\\\\\\\\\\\"typeProperty\\\\\\\\\\\\\": 0}, {\\\\\\\\\\\\\"column\\\\\\\\\\\\\": {\\\\\\\\\\\\\"type\\\\\\\\\\\\\": 2, \\\\\\\\\\\\\"details\\\\\\\\\\\\\": {\\\\\\\\\\\\\"selectedColumn\\\\\\\\\\\\\": \\\\\\\\\\\\\"experience\\\\\\\\\\\\\"}}, \\\\\\\\\\\\\"typeProperty\\\\\\\\\\\\\": 0}, {\\\\\\\\\\\\\"column\\\\\\\\\\\\\": {\\\\\\\\\\\\\"type\\\\\\\\\\\\\": 2, \\\\\\\\\\\\\"details\\\\\\\\\\\\\": {\\\\\\\\\\\\\"selectedColumn\\\\\\\\\\\\\": \\\\\\\\\\\\\"company_size\\\\\\\\\\\\\"}}, \\\\\\\\\\\\\"typeProperty\\\\\\\\\\\\\": 0}, {\\\\\\\\\\\\\"column\\\\\\\\\\\\\": {\\\\\\\\\\\\\"type\\\\\\\\\\\\\": 2, \\\\\\\\\\\\\"details\\\\\\\\\\\\\": {\\\\\\\\\\\\\"selectedColumn\\\\\\\\\\\\\": \\\\\\\\\\\\\"company_type\\\\\\\\\\\\\"}}, \\\\\\\\\\\\\"typeProperty\\\\\\\\\\\\\": 0}, {\\\\\\\\\\\\\"column\\\\\\\\\\\\\": {\\\\\\\\\\\\\"type\\\\\\\\\\\\\": 2, \\\\\\\\\\\\\"details\\\\\\\\\\\\\": {\\\\\\\\\\\\\"selectedColumn\\\\\\\\\\\\\": \\\\\\\\\\\\\"last_new_job\\\\\\\\\\\\\"}}, \\\\\\\\\\\\\"typeProperty\\\\\\\\\\\\\": 0}, {\\\\\\\\\\\\\"column\\\\\\\\\\\\\": {\\\\\\\\\\\\\"type\\\\\\\\\\\\\": 2, \\\\\\\\\\\\\"details\\\\\\\\\\\\\": {\\\\\\\\\\\\\"selectedColumn\\\\\\\\\\\\\": \\\\\\\\\\\\\"training_hours\\\\\\\\\\\\\"}}, \\\\\\\\\\\\\"typeProperty\\\\\\\\\\\\\": 2}, {\\\\\\\\\\\\\"column\\\\\\\\\\\\\": {\\\\\\\\\\\\\"type\\\\\\\\\\\\\": 2, \\\\\\\\\\\\\"details\\\\\\\\\\\\\": {\\\\\\\\\\\\\"selectedColumn\\\\\\\\\\\\\": \\\\\\\\\\\\\"target\\\\\\\\\\\\\"}}, \\\\\\\\\\\\\"typeProperty\\\\\\\\\\\\\": 3}]}, \\\\\\\\\\\\\"localData\\\\\\\\\\\\\": {}, \\\\\\\\\\\\\"isEnabled\\\\\\\\\\\\\": true, \\\\\\\\\\\\\"name\\\\\\\\\\\\\": null, \\\\\\\\\\\\\"annotation\\\\\\\\\\\\\": null}], \\\\\\\\\\\\\"inspectors\\\\\\\\\\\\\": [], \\\\\\\\\\\\\"meta\\\\\\\\\\\\\": {\\\\\\\\\\\\\"savedDatasetId\\\\\\\\\\\\\": \\\\\\\\\\\\\"847d6fc6-10cf-403b-acdd-aa55b57e2df4\\\\\\\\\\\\\", \\\\\\\\\\\\\"datasetType\\\\\\\\\\\\\": \\\\\\\\\\\\\"tabular\\\\\\\\\\\\\", \\\\\\\\\\\\\"subscriptionId\\\\\\\\\\\\\": \\\\\\\\\\\\\"3e42d11f-d64d-4173-af9b-12ecaa1030b3\\\\\\\\\\\\\", \\\\\\\\\\\\\"workspaceId\\\\\\\\\\\\\": \\\\\\\\\\\\\"8cb7f4ed-da94-4721-b4ff-32dcd30e2a99\\\\\\\\\\\\\", \\\\\\\\\\\\\"workspaceLocation\\\\\\\\\\\\\": \\\\\\\\\\\\\"southcentralus\\\\\\\\\\\\\"}}\\\\\", \\\\\"activities\\\\\": 0}',\n",
       "  'EnableSubsampling': None,\n",
       "  'runTemplate': 'AutoML',\n",
       "  'azureml.runsource': 'automl',\n",
       "  'display_task_type': 'classification',\n",
       "  'dependencies_versions': '{\"azureml-widgets\": \"1.20.0\", \"azureml-train\": \"1.20.0\", \"azureml-train-restclients-hyperdrive\": \"1.20.0\", \"azureml-train-core\": \"1.20.0\", \"azureml-train-automl\": \"1.20.0\", \"azureml-train-automl-runtime\": \"1.20.0\", \"azureml-train-automl-client\": \"1.20.0\", \"azureml-tensorboard\": \"1.20.0\", \"azureml-telemetry\": \"1.20.0\", \"azureml-sdk\": \"1.20.0\", \"azureml-samples\": \"0+unknown\", \"azureml-pipeline\": \"1.20.0\", \"azureml-pipeline-steps\": \"1.20.0\", \"azureml-pipeline-core\": \"1.20.0\", \"azureml-opendatasets\": \"1.20.0\", \"azureml-model-management-sdk\": \"1.0.1b6.post1\", \"azureml-mlflow\": \"1.20.0.post1\", \"azureml-interpret\": \"1.20.0\", \"azureml-explain-model\": \"1.20.0\", \"azureml-defaults\": \"1.20.0\", \"azureml-dataset-runtime\": \"1.20.0\", \"azureml-dataprep\": \"2.7.3\", \"azureml-dataprep-rslex\": \"1.5.0\", \"azureml-dataprep-native\": \"27.0.0\", \"azureml-datadrift\": \"1.20.0\", \"azureml-core\": \"1.20.0\", \"azureml-contrib-services\": \"1.20.0\", \"azureml-contrib-server\": \"1.20.0\", \"azureml-contrib-reinforcementlearning\": \"1.20.0\", \"azureml-contrib-pipeline-steps\": \"1.20.0\", \"azureml-contrib-notebook\": \"1.20.0\", \"azureml-contrib-interpret\": \"1.20.0\", \"azureml-contrib-gbdt\": \"1.20.0\", \"azureml-contrib-fairness\": \"1.20.0\", \"azureml-contrib-dataset\": \"1.20.0\", \"azureml-cli-common\": \"1.20.0\", \"azureml-automl-runtime\": \"1.20.0\", \"azureml-automl-core\": \"1.20.0\", \"azureml-accel-models\": \"1.20.0\"}',\n",
       "  '_aml_system_scenario_identification': 'Remote.Parent',\n",
       "  'ClientType': 'SDK',\n",
       "  'environment_cpu_name': 'AzureML-AutoML',\n",
       "  'environment_cpu_label': 'prod',\n",
       "  'environment_gpu_name': 'AzureML-AutoML-GPU',\n",
       "  'environment_gpu_label': 'prod',\n",
       "  'root_attribution': 'automl',\n",
       "  'attribution': 'AutoML',\n",
       "  'Orchestrator': 'AutoML',\n",
       "  'CancelUri': 'https://southcentralus.experiments.azureml.net/jasmine/v1.0/subscriptions/3e42d11f-d64d-4173-af9b-12ecaa1030b3/resourceGroups/aml-quickstarts-136575/providers/Microsoft.MachineLearningServices/workspaces/quick-starts-ws-136575/experimentids/25cc97d7-c20f-4671-9545-f8a56c98f0d1/cancel/AutoML_0dc470e4-c43e-46a6-8c8c-c05f198eda7e',\n",
       "  'ClientSdkVersion': '1.20.0.post1',\n",
       "  'snapshotId': '00000000-0000-0000-0000-000000000000',\n",
       "  'SetupRunId': 'AutoML_0dc470e4-c43e-46a6-8c8c-c05f198eda7e_setup',\n",
       "  'SetupRunContainerId': 'dcid.AutoML_0dc470e4-c43e-46a6-8c8c-c05f198eda7e_setup',\n",
       "  'FeaturizationRunJsonPath': 'featurizer_container.json',\n",
       "  'FeaturizationRunId': 'AutoML_0dc470e4-c43e-46a6-8c8c-c05f198eda7e_featurize',\n",
       "  'ProblemInfoJsonString': '{\"dataset_num_categorical\": 0, \"is_sparse\": true, \"subsampling\": false, \"dataset_classes\": 2, \"dataset_features\": 194, \"dataset_samples\": 19158, \"single_frequency_class_detected\": false}',\n",
       "  'ModelExplainRunId': 'AutoML_0dc470e4-c43e-46a6-8c8c-c05f198eda7e_ModelExplain'},\n",
       " 'inputDatasets': [{'dataset': {'id': '847d6fc6-10cf-403b-acdd-aa55b57e2df4'}, 'consumptionDetails': {'type': 'RunInput', 'inputName': 'training_data', 'mechanism': 'Direct'}}],\n",
       " 'outputDatasets': [],\n",
       " 'logFiles': {},\n",
       " 'submittedBy': 'ODL_User 136575'}"
      ]
     },
     "execution_count": 10,
     "metadata": {},
     "output_type": "execute_result"
    }
   ],
   "source": [
    "remote_run.wait_for_completion()\r\n"
   ]
  },
  {
   "cell_type": "markdown",
   "metadata": {},
   "source": [
    "## Best Model\n",
    "\n",
    "TODO: In the cell below, get the best model from the automl experiments and display all the properties of the model.\n",
    "\n"
   ]
  },
  {
   "cell_type": "code",
   "execution_count": 11,
   "metadata": {
    "collapsed": false,
    "gather": {
     "logged": 1611958175491
    },
    "jupyter": {
     "outputs_hidden": false,
     "source_hidden": false
    },
    "nteract": {
     "transient": {
      "deleting": false
     }
    }
   },
   "outputs": [],
   "source": [
    "best_run, fitted_model = remote_run.get_output()\r\n",
    "best_run_metrics = best_run.get_metrics()"
   ]
  },
  {
   "cell_type": "code",
   "execution_count": 12,
   "metadata": {
    "gather": {
     "logged": 1611958175654
    },
    "nteract": {
     "transient": {
      "deleting": false
     }
    }
   },
   "outputs": [
    {
     "data": {
      "text/html": [
       "<table style=\"width:100%\"><tr><th>Experiment</th><th>Id</th><th>Type</th><th>Status</th><th>Details Page</th><th>Docs Page</th></tr><tr><td>jobchangeautoml</td><td>AutoML_0dc470e4-c43e-46a6-8c8c-c05f198eda7e_36</td><td>azureml.scriptrun</td><td>Completed</td><td><a href=\"https://ml.azure.com/experiments/jobchangeautoml/runs/AutoML_0dc470e4-c43e-46a6-8c8c-c05f198eda7e_36?wsid=/subscriptions/3e42d11f-d64d-4173-af9b-12ecaa1030b3/resourcegroups/aml-quickstarts-136575/workspaces/quick-starts-ws-136575\" target=\"_blank\" rel=\"noopener\">Link to Azure Machine Learning studio</a></td><td><a href=\"https://docs.microsoft.com/en-us/python/api/azureml-core/azureml.core.run.Run?view=azure-ml-py\" target=\"_blank\" rel=\"noopener\">Link to Documentation</a></td></tr></table>"
      ],
      "text/plain": [
       "Run(Experiment: jobchangeautoml,\n",
       "Id: AutoML_0dc470e4-c43e-46a6-8c8c-c05f198eda7e_36,\n",
       "Type: azureml.scriptrun,\n",
       "Status: Completed)"
      ]
     },
     "execution_count": 12,
     "metadata": {},
     "output_type": "execute_result"
    }
   ],
   "source": [
    "best_run"
   ]
  },
  {
   "cell_type": "code",
   "execution_count": 13,
   "metadata": {
    "gather": {
     "logged": 1611958175897
    },
    "nteract": {
     "transient": {
      "deleting": false
     }
    }
   },
   "outputs": [
    {
     "data": {
      "text/plain": [
       "PipelineWithYTransformations(Pipeline={'memory': None,\n",
       "                                       'steps': [('datatransformer',\n",
       "                                                  DataTransformer(enable_dnn=None,\n",
       "                                                                  enable_feature_sweeping=None,\n",
       "                                                                  feature_sweeping_config=None,\n",
       "                                                                  feature_sweeping_timeout=None,\n",
       "                                                                  featurization_config=None,\n",
       "                                                                  force_text_dnn=None,\n",
       "                                                                  is_cross_validation=None,\n",
       "                                                                  is_onnx_compatible=None,\n",
       "                                                                  logger=None,\n",
       "                                                                  observer=None,\n",
       "                                                                  task=None,\n",
       "                                                                  working_dir=None))...\n",
       "                                                                                                                                     n_estimators=25,\n",
       "                                                                                                                                     n_jobs=1,\n",
       "                                                                                                                                     oob_score=True,\n",
       "                                                                                                                                     random_state=None,\n",
       "                                                                                                                                     verbose=0,\n",
       "                                                                                                                                     warm_start=False))],\n",
       "                                                                                                      verbose=False))],\n",
       "                                                                                flatten_transform=None,\n",
       "                                                                                weights=[0.2,\n",
       "                                                                                         0.3333333333333333,\n",
       "                                                                                         0.06666666666666667,\n",
       "                                                                                         0.06666666666666667,\n",
       "                                                                                         0.06666666666666667,\n",
       "                                                                                         0.13333333333333333,\n",
       "                                                                                         0.06666666666666667,\n",
       "                                                                                         0.06666666666666667]))],\n",
       "                                       'verbose': False},\n",
       "                             y_transformer={},\n",
       "                             y_transformer_name='LabelEncoder')"
      ]
     },
     "execution_count": 13,
     "metadata": {},
     "output_type": "execute_result"
    }
   ],
   "source": [
    "fitted_model"
   ]
  },
  {
   "cell_type": "code",
   "execution_count": 14,
   "metadata": {
    "gather": {
     "logged": 1611958236285
    },
    "nteract": {
     "transient": {
      "deleting": false
     }
    }
   },
   "outputs": [
    {
     "name": "stdout",
     "output_type": "stream",
     "text": [
      "Best Run Id:  AutoML_0dc470e4-c43e-46a6-8c8c-c05f198eda7e_36\n",
      "\n",
      " Accuracy: 0.7975785251510995\n",
      "PreFittedSoftVotingClassifier(classification_labels=None,\n",
      "                              estimators=[('0',\n",
      "                                           Pipeline(memory=None,\n",
      "                                                    steps=[('maxabsscaler',\n",
      "                                                            MaxAbsScaler(copy=True)),\n",
      "                                                           ('lightgbmclassifier',\n",
      "                                                            LightGBMClassifier(boosting_type='gbdt',\n",
      "                                                                               class_weight=None,\n",
      "                                                                               colsample_bytree=1.0,\n",
      "                                                                               importance_type='split',\n",
      "                                                                               learning_rate=0.1,\n",
      "                                                                               max_depth=-1,\n",
      "                                                                               min_child_samples=20,\n",
      "                                                                               min_child_weight=0.001,\n",
      "                                                                               min_spl...\n",
      "                                                                                   min_samples_leaf=0.035789473684210524,\n",
      "                                                                                   min_samples_split=0.15052631578947367,\n",
      "                                                                                   min_weight_fraction_leaf=0.0,\n",
      "                                                                                   n_estimators=25,\n",
      "                                                                                   n_jobs=1,\n",
      "                                                                                   oob_score=True,\n",
      "                                                                                   random_state=None,\n",
      "                                                                                   verbose=0,\n",
      "                                                                                   warm_start=False))],\n",
      "                                                    verbose=False))],\n",
      "                              flatten_transform=None,\n",
      "                              weights=[0.2, 0.3333333333333333,\n",
      "                                       0.06666666666666667, 0.06666666666666667,\n",
      "                                       0.06666666666666667, 0.13333333333333333,\n",
      "                                       0.06666666666666667,\n",
      "                                       0.06666666666666667])\n",
      "{'_aml_system_azureml.automlComponent': 'AutoML', '_aml_system_ComputeTargetStatus': '{\"AllocationState\":\"steady\",\"PreparingNodeCount\":0,\"RunningNodeCount\":3,\"CurrentNodeCount\":4}', 'ensembled_iterations': '[0, 1, 31, 29, 9, 4, 5, 11]', 'ensembled_algorithms': \"['LightGBM', 'XGBoostClassifier', 'LightGBM', 'LightGBM', 'XGBoostClassifier', 'RandomForest', 'RandomForest', 'RandomForest']\", 'ensemble_weights': '[0.2, 0.3333333333333333, 0.06666666666666667, 0.06666666666666667, 0.06666666666666667, 0.13333333333333333, 0.06666666666666667, 0.06666666666666667]', 'best_individual_pipeline_score': '0.7959600397591562', 'best_individual_iteration': '0', '_aml_system_automl_is_child_run_end_telemetry_event_logged': 'True'}\n"
     ]
    }
   ],
   "source": [
    "print('Best Run Id: ', best_run.id)\r\n",
    "print('\\n Accuracy:', best_run_metrics['accuracy'])\r\n",
    "print(fitted_model._final_estimator)\r\n",
    "print(best_run.get_tags())"
   ]
  },
  {
   "cell_type": "code",
   "execution_count": 15,
   "metadata": {
    "collapsed": false,
    "gather": {
     "logged": 1611958251935
    },
    "jupyter": {
     "outputs_hidden": false,
     "source_hidden": false
    },
    "nteract": {
     "transient": {
      "deleting": false
     }
    }
   },
   "outputs": [
    {
     "data": {
      "text/plain": [
       "'AutoML0dc470e4c36'"
      ]
     },
     "execution_count": 15,
     "metadata": {},
     "output_type": "execute_result"
    }
   ],
   "source": [
    "import os\r\n",
    "import joblib\r\n",
    "\r\n",
    "os.makedirs('./outputs', exist_ok=True)\r\n",
    "\r\n",
    "joblib.dump(fitted_model, filename='outputs/automl.joblib')\r\n",
    "\r\n",
    "model_name = best_run.properties['model_name']\r\n",
    "model_name"
   ]
  },
  {
   "cell_type": "code",
   "execution_count": 18,
   "metadata": {},
   "outputs": [],
   "source": [
    "env = best_run.get_environment()\n",
    "\n",
    "script_file = 'score.py'\n",
    "\n",
    "best_run.download_file('outputs/scoring_file_v_1_0_0.py', script_file)"
   ]
  },
  {
   "cell_type": "markdown",
   "metadata": {},
   "source": [
    "## Model Deployment\n",
    "\n",
    "Remember you have to deploy only one of the two models you trained.. Perform the steps in the rest of this notebook only if you wish to deploy this model.\n",
    "\n",
    "TODO: In the cell below, register the model, create an inference config and deploy the model as a web service."
   ]
  },
  {
   "cell_type": "code",
   "execution_count": 19,
   "metadata": {
    "collapsed": false,
    "gather": {
     "logged": 1611962726722
    },
    "jupyter": {
     "outputs_hidden": false,
     "source_hidden": false
    },
    "nteract": {
     "transient": {
      "deleting": false
     }
    }
   },
   "outputs": [],
   "source": [
    "#Register the fitted model\r\n",
    "model = remote_run.register_model(model_name = model_name, #AutoMLac80c775a36\r\n",
    "                                  description = 'AutoML model')"
   ]
  },
  {
   "cell_type": "code",
   "execution_count": 20,
   "metadata": {
    "nteract": {
     "transient": {
      "deleting": false
     }
    }
   },
   "outputs": [
    {
     "name": "stdout",
     "output_type": "stream",
     "text": [
      "automl-job-change\n"
     ]
    }
   ],
   "source": [
    "inference_config = InferenceConfig(entry_script = script_file, environment = env)\r\n",
    "\r\n",
    "aci_config = AciWebservice.deploy_configuration(cpu_cores = 1, memory_gb = 1)\r\n",
    "\r\n",
    "aci_service_name = 'automl-job-change'\r\n",
    "print(aci_service_name)"
   ]
  },
  {
   "cell_type": "code",
   "execution_count": 21,
   "metadata": {
    "nteract": {
     "transient": {
      "deleting": false
     }
    }
   },
   "outputs": [
    {
     "name": "stdout",
     "output_type": "stream",
     "text": [
      "Tips: You can try get_logs(): https://aka.ms/debugimage#dockerlog or local deployment: https://aka.ms/debugimage#debug-locally to debug if deployment takes longer than 10 minutes.\n",
      "Running.............................................\n",
      "Succeeded\n",
      "ACI service creation operation finished, operation \"Succeeded\"\n",
      "State: Healthy\n",
      "Scoring URI: http://57760d1d-5d48-4640-b0f2-f0f24505bb4a.southcentralus.azurecontainer.io/score\n"
     ]
    }
   ],
   "source": [
    "service = Model.deploy(ws, aci_service_name, [model], inference_config, aci_config)\r\n",
    "service.wait_for_deployment(True)\r\n",
    "print(\"State: \" + service.state)\r\n",
    "print(\"Scoring URI: \" + service.scoring_uri)"
   ]
  },
  {
   "cell_type": "code",
   "execution_count": 33,
   "metadata": {},
   "outputs": [
    {
     "name": "stdout",
     "output_type": "stream",
     "text": [
      "{\"result\": [0.0, 0.0]}\n"
     ]
    }
   ],
   "source": [
    "%run endpoint.py"
   ]
  },
  {
   "cell_type": "markdown",
   "metadata": {
    "gather": {
     "logged": 1598431657736
    },
    "jupyter": {
     "outputs_hidden": false,
     "source_hidden": false
    },
    "nteract": {
     "transient": {
      "deleting": false
     }
    }
   },
   "source": [
    "TODO: In the cell below, send a request to the web service you deployed to test it."
   ]
  },
  {
   "cell_type": "code",
   "execution_count": 34,
   "metadata": {
    "nteract": {
     "transient": {
      "deleting": false
     }
    }
   },
   "outputs": [
    {
     "data": {
      "text/html": [
       "<div>\n",
       "<style scoped>\n",
       "    .dataframe tbody tr th:only-of-type {\n",
       "        vertical-align: middle;\n",
       "    }\n",
       "\n",
       "    .dataframe tbody tr th {\n",
       "        vertical-align: top;\n",
       "    }\n",
       "\n",
       "    .dataframe thead th {\n",
       "        text-align: right;\n",
       "    }\n",
       "</style>\n",
       "<table border=\"1\" class=\"dataframe\">\n",
       "  <thead>\n",
       "    <tr style=\"text-align: right;\">\n",
       "      <th></th>\n",
       "      <th>enrollee_id</th>\n",
       "      <th>city</th>\n",
       "      <th>city_development_index</th>\n",
       "      <th>gender</th>\n",
       "      <th>relevent_experience</th>\n",
       "      <th>enrolled_university</th>\n",
       "      <th>education_level</th>\n",
       "      <th>major_discipline</th>\n",
       "      <th>experience</th>\n",
       "      <th>company_size</th>\n",
       "      <th>company_type</th>\n",
       "      <th>last_new_job</th>\n",
       "      <th>training_hours</th>\n",
       "      <th>target</th>\n",
       "    </tr>\n",
       "  </thead>\n",
       "  <tbody>\n",
       "    <tr>\n",
       "      <th>0</th>\n",
       "      <td>8949</td>\n",
       "      <td>city_103</td>\n",
       "      <td>0.92</td>\n",
       "      <td>Male</td>\n",
       "      <td>Has relevent experience</td>\n",
       "      <td>no_enrollment</td>\n",
       "      <td>Graduate</td>\n",
       "      <td>STEM</td>\n",
       "      <td>&gt;20</td>\n",
       "      <td>None</td>\n",
       "      <td>None</td>\n",
       "      <td>1</td>\n",
       "      <td>36</td>\n",
       "      <td>1.00</td>\n",
       "    </tr>\n",
       "    <tr>\n",
       "      <th>1</th>\n",
       "      <td>29725</td>\n",
       "      <td>city_40</td>\n",
       "      <td>0.78</td>\n",
       "      <td>Male</td>\n",
       "      <td>No relevent experience</td>\n",
       "      <td>no_enrollment</td>\n",
       "      <td>Graduate</td>\n",
       "      <td>STEM</td>\n",
       "      <td>15</td>\n",
       "      <td>50-99</td>\n",
       "      <td>Pvt Ltd</td>\n",
       "      <td>&gt;4</td>\n",
       "      <td>47</td>\n",
       "      <td>0.00</td>\n",
       "    </tr>\n",
       "    <tr>\n",
       "      <th>2</th>\n",
       "      <td>11561</td>\n",
       "      <td>city_21</td>\n",
       "      <td>0.62</td>\n",
       "      <td>None</td>\n",
       "      <td>No relevent experience</td>\n",
       "      <td>Full time course</td>\n",
       "      <td>Graduate</td>\n",
       "      <td>STEM</td>\n",
       "      <td>5</td>\n",
       "      <td>None</td>\n",
       "      <td>None</td>\n",
       "      <td>never</td>\n",
       "      <td>83</td>\n",
       "      <td>0.00</td>\n",
       "    </tr>\n",
       "    <tr>\n",
       "      <th>3</th>\n",
       "      <td>33241</td>\n",
       "      <td>city_115</td>\n",
       "      <td>0.79</td>\n",
       "      <td>None</td>\n",
       "      <td>No relevent experience</td>\n",
       "      <td>None</td>\n",
       "      <td>Graduate</td>\n",
       "      <td>Business Degree</td>\n",
       "      <td>&lt;1</td>\n",
       "      <td>None</td>\n",
       "      <td>Pvt Ltd</td>\n",
       "      <td>never</td>\n",
       "      <td>52</td>\n",
       "      <td>1.00</td>\n",
       "    </tr>\n",
       "    <tr>\n",
       "      <th>4</th>\n",
       "      <td>666</td>\n",
       "      <td>city_162</td>\n",
       "      <td>0.77</td>\n",
       "      <td>Male</td>\n",
       "      <td>Has relevent experience</td>\n",
       "      <td>no_enrollment</td>\n",
       "      <td>Masters</td>\n",
       "      <td>STEM</td>\n",
       "      <td>&gt;20</td>\n",
       "      <td>50-99</td>\n",
       "      <td>Funded Startup</td>\n",
       "      <td>4</td>\n",
       "      <td>8</td>\n",
       "      <td>0.00</td>\n",
       "    </tr>\n",
       "  </tbody>\n",
       "</table>\n",
       "</div>"
      ],
      "text/plain": [
       "   enrollee_id      city  city_development_index gender  \\\n",
       "0         8949  city_103                    0.92   Male   \n",
       "1        29725   city_40                    0.78   Male   \n",
       "2        11561   city_21                    0.62   None   \n",
       "3        33241  city_115                    0.79   None   \n",
       "4          666  city_162                    0.77   Male   \n",
       "\n",
       "       relevent_experience enrolled_university education_level  \\\n",
       "0  Has relevent experience       no_enrollment        Graduate   \n",
       "1   No relevent experience       no_enrollment        Graduate   \n",
       "2   No relevent experience    Full time course        Graduate   \n",
       "3   No relevent experience                None        Graduate   \n",
       "4  Has relevent experience       no_enrollment         Masters   \n",
       "\n",
       "  major_discipline experience company_size    company_type last_new_job  \\\n",
       "0             STEM        >20         None            None            1   \n",
       "1             STEM         15        50-99         Pvt Ltd           >4   \n",
       "2             STEM          5         None            None        never   \n",
       "3  Business Degree         <1         None         Pvt Ltd        never   \n",
       "4             STEM        >20        50-99  Funded Startup            4   \n",
       "\n",
       "   training_hours  target  \n",
       "0              36    1.00  \n",
       "1              47    0.00  \n",
       "2              83    0.00  \n",
       "3              52    1.00  \n",
       "4               8    0.00  "
      ]
     },
     "execution_count": 34,
     "metadata": {},
     "output_type": "execute_result"
    }
   ],
   "source": [
    "dataset.to_pandas_dataframe().head()"
   ]
  },
  {
   "cell_type": "code",
   "execution_count": 37,
   "metadata": {},
   "outputs": [
    {
     "name": "stdout",
     "output_type": "stream",
     "text": [
      "{\"data\": [{\"enrollee_id\": 397, \"city\": \"city_73\", \"city_development_index\": 0.754, \"gender\": null, \"relevent_experience\": \"Has relevent experience\", \"enrolled_university\": \"no_enrollment\", \"education_level\": \"Graduate\", \"major_discipline\": \"STEM\", \"experience\": \"5\", \"company_size\": \"1000-4999\", \"company_type\": \"Pvt Ltd\", \"last_new_job\": \"4\", \"training_hours\": 81}, {\"enrollee_id\": 9131, \"city\": \"city_136\", \"city_development_index\": 0.897, \"gender\": null, \"relevent_experience\": \"Has relevent experience\", \"enrolled_university\": \"no_enrollment\", \"education_level\": \"Masters\", \"major_discipline\": \"STEM\", \"experience\": \">20\", \"company_size\": \"10000+\", \"company_type\": \"Public Sector\", \"last_new_job\": \"3\", \"training_hours\": 200}, {\"enrollee_id\": 2865, \"city\": \"city_16\", \"city_development_index\": 0.91, \"gender\": \"Male\", \"relevent_experience\": \"Has relevent experience\", \"enrolled_university\": \"no_enrollment\", \"education_level\": \"Masters\", \"major_discipline\": \"STEM\", \"experience\": \"16\", \"company_size\": \"10/49\", \"company_type\": \"Pvt Ltd\", \"last_new_job\": \"1\", \"training_hours\": 144}]}\n"
     ]
    }
   ],
   "source": [
    "data_sample = dataset.to_pandas_dataframe().sample(3)\n",
    "y_true = data_sample.pop('target')\n",
    "sample_json = json.dumps({'data':data_sample.to_dict(orient='records')})\n",
    "print(sample_json)"
   ]
  },
  {
   "cell_type": "code",
   "execution_count": 38,
   "metadata": {
    "nteract": {
     "transient": {
      "deleting": false
     }
    }
   },
   "outputs": [
    {
     "name": "stdout",
     "output_type": "stream",
     "text": [
      "Prediction:  {\"result\": [0.0, 0.0, 0.0]}\n",
      "True Values:  [0. 0. 0.]\n"
     ]
    }
   ],
   "source": [
    "output = service.run(sample_json)\r\n",
    "print('Prediction: ', output)\r\n",
    "print('True Values: ', y_true.values)"
   ]
  },
  {
   "cell_type": "code",
   "execution_count": 39,
   "metadata": {
    "nteract": {
     "transient": {
      "deleting": false
     }
    }
   },
   "outputs": [
    {
     "data": {
      "text/plain": [
       "'2021-01-30T10:59:48,315007943+00:00 - iot-server/run \\n2021-01-30T10:59:48,317281637+00:00 - rsyslog/run \\n2021-01-30T10:59:48,319599831+00:00 - nginx/run \\n2021-01-30T10:59:48,320867428+00:00 - gunicorn/run \\nrsyslogd: /azureml-envs/azureml_265db83b0c6014ce472c5de2f0b97e04/lib/libuuid.so.1: no version information available (required by rsyslogd)\\n/usr/sbin/nginx: /azureml-envs/azureml_265db83b0c6014ce472c5de2f0b97e04/lib/libcrypto.so.1.0.0: no version information available (required by /usr/sbin/nginx)\\n/usr/sbin/nginx: /azureml-envs/azureml_265db83b0c6014ce472c5de2f0b97e04/lib/libcrypto.so.1.0.0: no version information available (required by /usr/sbin/nginx)\\n/usr/sbin/nginx: /azureml-envs/azureml_265db83b0c6014ce472c5de2f0b97e04/lib/libssl.so.1.0.0: no version information available (required by /usr/sbin/nginx)\\n/usr/sbin/nginx: /azureml-envs/azureml_265db83b0c6014ce472c5de2f0b97e04/lib/libssl.so.1.0.0: no version information available (required by /usr/sbin/nginx)\\n/usr/sbin/nginx: /azureml-envs/azureml_265db83b0c6014ce472c5de2f0b97e04/lib/libssl.so.1.0.0: no version information available (required by /usr/sbin/nginx)\\nEdgeHubConnectionString and IOTEDGE_IOTHUBHOSTNAME are not set. Exiting...\\n2021-01-30T10:59:48,462830756+00:00 - iot-server/finish 1 0\\n2021-01-30T10:59:48,463839754+00:00 - Exit code 1 is normal. Not restarting iot-server.\\nStarting gunicorn 19.9.0\\nListening at: http://127.0.0.1:31311 (13)\\nUsing worker: sync\\nworker timeout is set to 300\\nBooting worker with pid: 42\\nSPARK_HOME not set. Skipping PySpark Initialization.\\nGenerating new fontManager, this may take some time...\\nInitializing logger\\n2021-01-30 10:59:49,686 | root | INFO | Starting up app insights client\\n2021-01-30 10:59:49,686 | root | INFO | Starting up request id generator\\n2021-01-30 10:59:49,686 | root | INFO | Starting up app insight hooks\\n2021-01-30 10:59:49,686 | root | INFO | Invoking user\\'s init function\\n2021-01-30 10:59:51,921 | azureml.core | WARNING | Failure while loading azureml_run_type_providers. Failed to load entrypoint automl = azureml.train.automl.run:AutoMLRun._from_run_dto with exception cannot import name \\'RunType\\'.\\nFailure while loading azureml_run_type_providers. Failed to load entrypoint automl = azureml.train.automl.run:AutoMLRun._from_run_dto with exception cannot import name \\'RunType\\'.\\n2021-01-30 10:59:52,070 | root | INFO | Users\\'s init has completed successfully\\n2021-01-30 10:59:52,073 | root | INFO | Skipping middleware: dbg_model_info as it\\'s not enabled.\\n2021-01-30 10:59:52,073 | root | INFO | Skipping middleware: dbg_resource_usage as it\\'s not enabled.\\n2021-01-30 10:59:52,074 | root | INFO | Scoring timeout is found from os.environ: 60000 ms\\n2021-01-30 11:00:02,485 | root | INFO | 200\\n127.0.0.1 - - [30/Jan/2021:11:00:02 +0000] \"GET /swagger.json HTTP/1.0\" 200 2919 \"-\" \"Go-http-client/1.1\"\\n2021-01-30 11:00:04,745 | root | INFO | 200\\n127.0.0.1 - - [30/Jan/2021:11:00:04 +0000] \"GET /swagger.json HTTP/1.0\" 200 2919 \"-\" \"Go-http-client/1.1\"\\n2021-01-30 11:04:08,702 | root | INFO | 200\\n127.0.0.1 - - [30/Jan/2021:11:04:08 +0000] \"GET /swagger.json HTTP/1.0\" 200 2919 \"-\" \"Go-http-client/1.1\"\\n2021-01-30 11:04:09,151 | root | INFO | 200\\n127.0.0.1 - - [30/Jan/2021:11:04:09 +0000] \"GET /swagger.json HTTP/1.0\" 200 2919 \"-\" \"Go-http-client/1.1\"\\n2021-01-30 11:06:22,653 | root | INFO | Validation Request Content-Type\\n2021-01-30 11:06:22,654 | root | INFO | Scoring Timer is set to 60.0 seconds\\n2021-01-30 11:06:22,748 | root | INFO | 200\\n127.0.0.1 - - [30/Jan/2021:11:06:22 +0000] \"POST /score HTTP/1.0\" 200 26 \"-\" \"python-requests/2.25.1\"\\n2021-01-30 11:07:22,962 | root | INFO | Validation Request Content-Type\\n2021-01-30 11:07:22,962 | root | INFO | Scoring Timer is set to 60.0 seconds\\n2021-01-30 11:07:23,050 | root | INFO | 200\\n127.0.0.1 - - [30/Jan/2021:11:07:23 +0000] \"POST /score HTTP/1.0\" 200 31 \"-\" \"python-requests/2.25.1\"\\n'"
      ]
     },
     "execution_count": 39,
     "metadata": {},
     "output_type": "execute_result"
    }
   ],
   "source": [
    "service.get_logs()\n"
   ]
  },
  {
   "cell_type": "markdown",
   "metadata": {
    "gather": {
     "logged": 1598432765711
    },
    "jupyter": {
     "outputs_hidden": false,
     "source_hidden": false
    },
    "nteract": {
     "transient": {
      "deleting": false
     }
    }
   },
   "source": [
    "TODO: In the cell below, print the logs of the web service and delete the service"
   ]
  },
  {
   "cell_type": "code",
   "execution_count": 40,
   "metadata": {
    "nteract": {
     "transient": {
      "deleting": false
     }
    }
   },
   "outputs": [],
   "source": [
    "service.delete()"
   ]
  }
 ],
 "metadata": {
  "kernel_info": {
   "name": "python3"
  },
  "kernelspec": {
   "display_name": "Python 3",
   "language": "python",
   "name": "python3"
  },
  "language_info": {
   "codemirror_mode": {
    "name": "ipython",
    "version": 3
   },
   "file_extension": ".py",
   "mimetype": "text/x-python",
   "name": "python",
   "nbconvert_exporter": "python",
   "pygments_lexer": "ipython3",
   "version": "3.6.9"
  },
  "nteract": {
   "version": "nteract-front-end@1.0.0"
  }
 },
 "nbformat": 4,
 "nbformat_minor": 4
}
