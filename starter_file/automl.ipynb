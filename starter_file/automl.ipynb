{
 "cells": [
  {
   "cell_type": "markdown",
   "metadata": {},
   "source": [
    "# Automated ML\n",
    "\n",
    "TODO: Import Dependencies. In the cell below, import all the dependencies that you will need to complete the project."
   ]
  },
  {
   "cell_type": "code",
   "execution_count": 1,
   "metadata": {
    "collapsed": false,
    "gather": {
     "logged": 1611955113890
    },
    "jupyter": {
     "outputs_hidden": false,
     "source_hidden": false
    },
    "nteract": {
     "transient": {
      "deleting": false
     }
    }
   },
   "outputs": [],
   "source": [
    "from azureml.core import Dataset, Workspace, Experiment\r\n",
    "from azureml.core.compute import ComputeTarget, AmlCompute\r\n",
    "from azureml.core.compute_target import ComputeTargetException\r\n",
    "from azureml.widgets import RunDetails\r\n",
    "from azureml.train.automl import AutoMLConfig\r\n",
    "\r\n",
    "from azureml.core.model import InferenceConfig\r\n",
    "from azureml.core.webservice import AciWebservice, Webservice\r\n",
    "from azureml.core.model import Model\r\n",
    "from azureml.core.environment import Environment"
   ]
  },
  {
   "cell_type": "markdown",
   "metadata": {},
   "source": [
    "## Dataset\n",
    "\n",
    "### Overview"
   ]
  },
  {
   "cell_type": "code",
   "execution_count": 2,
   "metadata": {
    "collapsed": false,
    "gather": {
     "logged": 1611954915167
    },
    "jupyter": {
     "outputs_hidden": false,
     "source_hidden": false
    },
    "nteract": {
     "transient": {
      "deleting": false
     }
    }
   },
   "outputs": [],
   "source": [
    "ws = Workspace.from_config()\n",
    "\n",
    "# choose a name for experiment\n",
    "experiment_name = 'jobchangeautoml'\n",
    "\n",
    "experiment=Experiment(ws, experiment_name)"
   ]
  },
  {
   "cell_type": "code",
   "execution_count": 3,
   "metadata": {
    "gather": {
     "logged": 1611955181134
    },
    "nteract": {
     "transient": {
      "deleting": false
     }
    }
   },
   "outputs": [
    {
     "data": {
      "text/plain": [
       "{\n",
       "  \"source\": [\n",
       "    \"('workspaceblobstore', 'UI/01-31-2021_101329_UTC/aug_train.csv')\"\n",
       "  ],\n",
       "  \"definition\": [\n",
       "    \"GetDatastoreFiles\",\n",
       "    \"ParseDelimited\",\n",
       "    \"DropColumns\",\n",
       "    \"SetColumnTypes\"\n",
       "  ],\n",
       "  \"registration\": {\n",
       "    \"id\": \"87499c16-f708-47cf-9c5b-83d2f2202e74\",\n",
       "    \"name\": \"traindata\",\n",
       "    \"version\": 1,\n",
       "    \"workspace\": \"Workspace.create(name='quick-starts-ws-136708', subscription_id='a24a24d5-8d87-4c8a-99b6-91ed2d2df51f', resource_group='aml-quickstarts-136708')\"\n",
       "  }\n",
       "}"
      ]
     },
     "execution_count": 3,
     "metadata": {},
     "output_type": "execute_result"
    }
   ],
   "source": [
    "dataset = Dataset.get_by_name(ws, 'traindata')\n",
    "#dataset = dataset.to_pandas_dataframe().drop('enrollee_id',axis=1)\n",
    "dataset"
   ]
  },
  {
   "cell_type": "code",
   "execution_count": 4,
   "metadata": {
    "gather": {
     "logged": 1611955266774
    },
    "nteract": {
     "transient": {
      "deleting": false
     }
    }
   },
   "outputs": [
    {
     "name": "stdout",
     "output_type": "stream",
     "text": [
      "Creating\n",
      "Succeeded\n",
      "AmlCompute wait for completion finished\n",
      "\n",
      "Minimum number of nodes requested have been provisioned\n"
     ]
    }
   ],
   "source": [
    "cpu_cluster_name = \"cpu-cluster\"\r\n",
    "\r\n",
    "# Verify that cluster does not exist already\r\n",
    "try:\r\n",
    "    compute_target = ComputeTarget(workspace=ws, name=cpu_cluster_name)\r\n",
    "    print('Found existing cluster, use it.')\r\n",
    "except ComputeTargetException:\r\n",
    "    compute_config = AmlCompute.provisioning_configuration(vm_size='STANDARD_D12_V2',\r\n",
    "                                                           max_nodes=5)\r\n",
    "    compute_target = ComputeTarget.create(ws, cpu_cluster_name, compute_config)\r\n",
    "\r\n",
    "compute_target.wait_for_completion(show_output=True)"
   ]
  },
  {
   "cell_type": "markdown",
   "metadata": {},
   "source": [
    "## AutoML Configuration\n",
    "\n",
    "TODO: Explain why you chose the automl settings and cofiguration you used below."
   ]
  },
  {
   "cell_type": "code",
   "execution_count": 5,
   "metadata": {
    "collapsed": false,
    "gather": {
     "logged": 1611955319895
    },
    "jupyter": {
     "outputs_hidden": false,
     "source_hidden": false
    },
    "nteract": {
     "transient": {
      "deleting": false
     }
    }
   },
   "outputs": [],
   "source": [
    "# TODO: Put your automl settings here\n",
    "automl_settings = {\n",
    "    \"experiment_timeout_minutes\": 15,\n",
    "    \"max_concurrent_iterations\": 4,\n",
    "    \"primary_metric\" : 'accuracy',\n",
    "    \"n_cross_validations\": 5\n",
    "}\n",
    "# TODO: Put your automl config here\n",
    "automl_config = AutoMLConfig(compute_target=compute_target,\n",
    "                             task = \"classification\",\n",
    "                             training_data=dataset,\n",
    "                             label_column_name=\"target\", \n",
    "                             enable_early_stopping= True,\n",
    "                             featurization= 'auto',\n",
    "                             **automl_settings\n",
    "                            )"
   ]
  },
  {
   "cell_type": "code",
   "execution_count": 6,
   "metadata": {
    "collapsed": false,
    "gather": {
     "logged": 1611957100649
    },
    "jupyter": {
     "outputs_hidden": false,
     "source_hidden": false
    },
    "nteract": {
     "transient": {
      "deleting": false
     }
    }
   },
   "outputs": [
    {
     "name": "stdout",
     "output_type": "stream",
     "text": [
      "Running on remote.\n",
      "No run_configuration provided, running on cpu-cluster with default configuration\n",
      "Running on remote compute: cpu-cluster\n",
      "Parent Run ID: AutoML_4e968e5c-5cbd-4b5a-8325-df62fb150e34\n",
      "\n",
      "Current status: FeaturesGeneration. Generating features for the dataset.\n",
      "Current status: DatasetCrossValidationSplit. Generating individually featurized CV splits.\n",
      "Current status: ModelSelection. Beginning model selection.\n",
      "\n",
      "****************************************************************************************************\n",
      "DATA GUARDRAILS: \n",
      "\n",
      "TYPE:         Class balancing detection\n",
      "STATUS:       PASSED\n",
      "DESCRIPTION:  Your inputs were analyzed, and all classes are balanced in your training data.\n",
      "              Learn more about imbalanced data: https://aka.ms/AutomatedMLImbalancedData\n",
      "\n",
      "****************************************************************************************************\n",
      "\n",
      "TYPE:         Missing feature values imputation\n",
      "STATUS:       DONE\n",
      "DESCRIPTION:  If the missing values are expected, let the run complete. Otherwise cancel the current run and use a script to customize the handling of missing feature values that may be more appropriate based on the data type and business requirement.\n",
      "              Learn more about missing value imputation: https://aka.ms/AutomatedMLFeaturization\n",
      "DETAILS:      \n",
      "+---------------------------------+---------------------------------+\n",
      "|Column name                      |Missing value count              |\n",
      "+=================================+=================================+\n",
      "|gender                           |4508                             |\n",
      "|enrolled_university              |386                              |\n",
      "|education_level                  |460                              |\n",
      "|major_discipline                 |2813                             |\n",
      "|experience                       |65                               |\n",
      "|company_size                     |5938                             |\n",
      "|company_type                     |6140                             |\n",
      "|last_new_job                     |423                              |\n",
      "+---------------------------------+---------------------------------+\n",
      "\n",
      "****************************************************************************************************\n",
      "\n",
      "TYPE:         High cardinality feature detection\n",
      "STATUS:       PASSED\n",
      "DESCRIPTION:  Your inputs were analyzed, and no high cardinality features were detected.\n",
      "              Learn more about high cardinality feature handling: https://aka.ms/AutomatedMLFeaturization\n",
      "\n",
      "****************************************************************************************************\n",
      "\n",
      "****************************************************************************************************\n",
      "ITERATION: The iteration being evaluated.\n",
      "PIPELINE: A summary description of the pipeline being evaluated.\n",
      "DURATION: Time taken for the current iteration.\n",
      "METRIC: The result of computing score on the fitted pipeline.\n",
      "BEST: The best observed score thus far.\n",
      "****************************************************************************************************\n",
      "\n",
      " ITERATION   PIPELINE                                       DURATION      METRIC      BEST\n",
      "         0   MaxAbsScaler LightGBM                          0:00:54       0.7939    0.7939\n",
      "         3   MaxAbsScaler RandomForest                      0:00:52       0.7544    0.7939\n",
      "         2   MaxAbsScaler RandomForest                      0:00:57       0.7736    0.7939\n",
      "         4   MaxAbsScaler RandomForest                      0:02:21       0.7493    0.7939\n",
      "         5   MaxAbsScaler RandomForest                      0:02:12       0.7104    0.7939\n",
      "         6   SparseNormalizer XGBoostClassifier             0:01:18       0.7903    0.7939\n",
      "         1   MaxAbsScaler XGBoostClassifier                 0:02:29       0.7935    0.7939\n",
      "         9   SparseNormalizer XGBoostClassifier             0:00:52       0.7747    0.7939\n",
      "        10   MaxAbsScaler RandomForest                      0:01:01       0.7823    0.7939\n",
      "         7   SparseNormalizer XGBoostClassifier             0:01:04       0.7888    0.7939\n",
      "         8   StandardScalerWrapper RandomForest             0:00:59       0.7794    0.7939\n",
      "        11   MaxAbsScaler LightGBM                          0:00:52       0.7783    0.7939\n",
      "        13   MaxAbsScaler LightGBM                          0:00:48       0.7730    0.7939\n",
      "        12   MaxAbsScaler LogisticRegression                0:00:55       0.7810    0.7939\n",
      "        14   MaxAbsScaler LogisticRegression                0:01:08       0.7802    0.7939\n",
      "        16   MaxAbsScaler LogisticRegression                0:00:52       0.7804    0.7939\n",
      "        17   SparseNormalizer XGBoostClassifier             0:01:09       0.7885    0.7939\n",
      "        18   SparseNormalizer XGBoostClassifier             0:01:04       0.7915    0.7939\n",
      "        15   MaxAbsScaler ExtremeRandomTrees                0:02:02       0.7799    0.7939\n",
      "        19   SparseNormalizer RandomForest                  0:00:55       0.7579    0.7939\n",
      "        20   SparseNormalizer XGBoostClassifier             0:00:58       0.7918    0.7939\n",
      "        21   SparseNormalizer XGBoostClassifier             0:00:49       0.7835    0.7939\n",
      "        22   SparseNormalizer XGBoostClassifier             0:00:53       0.7920    0.7939\n",
      "        23   SparseNormalizer XGBoostClassifier             0:01:06       0.7939    0.7939\n",
      "        25   SparseNormalizer XGBoostClassifier             0:00:48       0.7731    0.7939\n",
      "        24   StandardScalerWrapper LightGBM                 0:00:53       0.7507    0.7939\n",
      "        26   StandardScalerWrapper XGBoostClassifier        0:00:55       0.7792    0.7939\n",
      "        28   MaxAbsScaler LightGBM                          0:01:00       0.7940    0.7940\n",
      "        27   MaxAbsScaler ExtremeRandomTrees                0:01:17       0.7779    0.7940\n",
      "        29   SparseNormalizer XGBoostClassifier             0:01:01       0.7875    0.7940\n",
      "        30   SparseNormalizer XGBoostClassifier             0:00:58       0.7507    0.7940\n",
      "        32   MaxAbsScaler LightGBM                          0:00:55       0.7763    0.7940\n",
      "        33   StandardScalerWrapper XGBoostClassifier        0:00:53       0.7763    0.7940\n",
      "        31   SparseNormalizer RandomForest                  0:01:44       0.7765    0.7940\n",
      "        34   MaxAbsScaler GradientBoosting                  0:01:05       0.7830    0.7940\n",
      "        35   StandardScalerWrapper LightGBM                 0:00:56       0.7507    0.7940\n",
      "        36   TruncatedSVDWrapper XGBoostClassifier          0:01:03       0.7809    0.7940\n",
      "        37   StandardScalerWrapper XGBoostClassifier        0:00:54       0.7922    0.7940\n",
      "        38   SparseNormalizer XGBoostClassifier             0:00:58       0.7918    0.7940\n",
      "ERROR: {\n",
      "    \"additional_properties\": {},\n",
      "    \"error\": {\n",
      "        \"additional_properties\": {\n",
      "            \"debugInfo\": null\n",
      "        },\n",
      "        \"code\": \"UserError\",\n",
      "        \"severity\": null,\n",
      "        \"message\": \"Experiment timeout reached, please consider increasing your experiment timeout.\",\n",
      "        \"message_format\": \"Experiment timeout reached, please consider increasing your experiment timeout.\",\n",
      "        \"message_parameters\": {},\n",
      "        \"reference_code\": null,\n",
      "        \"details_uri\": null,\n",
      "        \"target\": null,\n",
      "        \"details\": [],\n",
      "        \"inner_error\": {\n",
      "            \"additional_properties\": {},\n",
      "            \"code\": \"ResourceExhausted\",\n",
      "            \"inner_error\": {\n",
      "                \"additional_properties\": {},\n",
      "                \"code\": \"Timeout\",\n",
      "                \"inner_error\": {\n",
      "                    \"additional_properties\": {},\n",
      "                    \"code\": \"ExperimentTimeoutForIterations\",\n",
      "                    \"inner_error\": null\n",
      "                }\n",
      "            }\n",
      "        }\n",
      "    },\n",
      "    \"correlation\": null,\n",
      "    \"environment\": null,\n",
      "    \"location\": null,\n",
      "    \"time\": {},\n",
      "    \"component_name\": null\n",
      "}\n",
      "        39   SparseNormalizer XGBoostClassifier             0:00:37       0.7917    0.7940\n",
      "ERROR: {\n",
      "    \"additional_properties\": {},\n",
      "    \"error\": {\n",
      "        \"additional_properties\": {\n",
      "            \"debugInfo\": null\n",
      "        },\n",
      "        \"code\": \"UserError\",\n",
      "        \"severity\": null,\n",
      "        \"message\": \"Experiment timeout reached, please consider increasing your experiment timeout.\",\n",
      "        \"message_format\": \"Experiment timeout reached, please consider increasing your experiment timeout.\",\n",
      "        \"message_parameters\": {},\n",
      "        \"reference_code\": null,\n",
      "        \"details_uri\": null,\n",
      "        \"target\": null,\n",
      "        \"details\": [],\n",
      "        \"inner_error\": {\n",
      "            \"additional_properties\": {},\n",
      "            \"code\": \"ResourceExhausted\",\n",
      "            \"inner_error\": {\n",
      "                \"additional_properties\": {},\n",
      "                \"code\": \"Timeout\",\n",
      "                \"inner_error\": {\n",
      "                    \"additional_properties\": {},\n",
      "                    \"code\": \"ExperimentTimeoutForIterations\",\n",
      "                    \"inner_error\": null\n",
      "                }\n",
      "            }\n",
      "        }\n",
      "    },\n",
      "    \"correlation\": null,\n",
      "    \"environment\": null,\n",
      "    \"location\": null,\n",
      "    \"time\": {},\n",
      "    \"component_name\": null\n",
      "}\n",
      "        40   MaxAbsScaler LightGBM                          0:00:24          nan    0.7940\n",
      "ERROR: {\n",
      "    \"additional_properties\": {},\n",
      "    \"error\": {\n",
      "        \"additional_properties\": {\n",
      "            \"debugInfo\": null\n",
      "        },\n",
      "        \"code\": \"UserError\",\n",
      "        \"severity\": null,\n",
      "        \"message\": \"Experiment timeout reached, please consider increasing your experiment timeout.\",\n",
      "        \"message_format\": \"Experiment timeout reached, please consider increasing your experiment timeout.\",\n",
      "        \"message_parameters\": {},\n",
      "        \"reference_code\": null,\n",
      "        \"details_uri\": null,\n",
      "        \"target\": null,\n",
      "        \"details\": [],\n",
      "        \"inner_error\": {\n",
      "            \"additional_properties\": {},\n",
      "            \"code\": \"ResourceExhausted\",\n",
      "            \"inner_error\": {\n",
      "                \"additional_properties\": {},\n",
      "                \"code\": \"Timeout\",\n",
      "                \"inner_error\": {\n",
      "                    \"additional_properties\": {},\n",
      "                    \"code\": \"ExperimentTimeoutForIterations\",\n",
      "                    \"inner_error\": null\n",
      "                }\n",
      "            }\n",
      "        }\n",
      "    },\n",
      "    \"correlation\": null,\n",
      "    \"environment\": null,\n",
      "    \"location\": null,\n",
      "    \"time\": {},\n",
      "    \"component_name\": null\n",
      "}\n",
      "        41    VotingEnsemble                                0:01:47       0.7991    0.7991\n",
      "        42    StackEnsemble                                 0:01:59       0.7941    0.7991\n"
     ]
    }
   ],
   "source": [
    "# TODO: Submit your experiment\n",
    "remote_run = experiment.submit(automl_config, show_output = True)\n"
   ]
  },
  {
   "cell_type": "markdown",
   "metadata": {},
   "source": [
    "## Run Details\n"
   ]
  },
  {
   "cell_type": "code",
   "execution_count": 7,
   "metadata": {
    "gather": {
     "logged": 1611957100717
    },
    "nteract": {
     "transient": {
      "deleting": false
     }
    }
   },
   "outputs": [
    {
     "data": {
      "text/html": [
       "<table style=\"width:100%\"><tr><th>Experiment</th><th>Id</th><th>Type</th><th>Status</th><th>Details Page</th><th>Docs Page</th></tr><tr><td>jobchangeautoml</td><td>AutoML_4e968e5c-5cbd-4b5a-8325-df62fb150e34</td><td>automl</td><td>Completed</td><td><a href=\"https://ml.azure.com/experiments/jobchangeautoml/runs/AutoML_4e968e5c-5cbd-4b5a-8325-df62fb150e34?wsid=/subscriptions/a24a24d5-8d87-4c8a-99b6-91ed2d2df51f/resourcegroups/aml-quickstarts-136708/workspaces/quick-starts-ws-136708\" target=\"_blank\" rel=\"noopener\">Link to Azure Machine Learning studio</a></td><td><a href=\"https://docs.microsoft.com/en-us/python/api/overview/azure/ml/intro?view=azure-ml-py\" target=\"_blank\" rel=\"noopener\">Link to Documentation</a></td></tr></table>"
      ],
      "text/plain": [
       "Run(Experiment: jobchangeautoml,\n",
       "Id: AutoML_4e968e5c-5cbd-4b5a-8325-df62fb150e34,\n",
       "Type: automl,\n",
       "Status: Completed)"
      ]
     },
     "execution_count": 7,
     "metadata": {},
     "output_type": "execute_result"
    }
   ],
   "source": [
    "remote_run"
   ]
  },
  {
   "cell_type": "code",
   "execution_count": 8,
   "metadata": {
    "collapsed": false,
    "gather": {
     "logged": 1611957100803
    },
    "jupyter": {
     "outputs_hidden": false,
     "source_hidden": false
    },
    "nteract": {
     "transient": {
      "deleting": false
     }
    }
   },
   "outputs": [
    {
     "data": {
      "application/vnd.jupyter.widget-view+json": {
       "model_id": "fdc5b2187c5742f6b9997f3e1317a18a",
       "version_major": 2,
       "version_minor": 0
      },
      "text/plain": [
       "_AutoMLWidget(widget_settings={'childWidgetDisplay': 'popup', 'send_telemetry': False, 'log_level': 'INFO', 's…"
      ]
     },
     "metadata": {},
     "output_type": "display_data"
    },
    {
     "data": {
      "application/aml.mini.widget.v1": "{\"status\": \"Completed\", \"workbench_run_details_uri\": \"https://ml.azure.com/experiments/jobchangeautoml/runs/AutoML_4e968e5c-5cbd-4b5a-8325-df62fb150e34?wsid=/subscriptions/a24a24d5-8d87-4c8a-99b6-91ed2d2df51f/resourcegroups/aml-quickstarts-136708/workspaces/quick-starts-ws-136708\", \"run_id\": \"AutoML_4e968e5c-5cbd-4b5a-8325-df62fb150e34\", \"run_properties\": {\"run_id\": \"AutoML_4e968e5c-5cbd-4b5a-8325-df62fb150e34\", \"created_utc\": \"2021-01-31T10:20:25.877053Z\", \"properties\": {\"num_iterations\": \"1000\", \"training_type\": \"TrainFull\", \"acquisition_function\": \"EI\", \"primary_metric\": \"accuracy\", \"train_split\": \"0\", \"acquisition_parameter\": \"0\", \"num_cross_validation\": \"5\", \"target\": \"cpu-cluster\", \"AMLSettingsJsonString\": \"{\\\"path\\\":null,\\\"name\\\":\\\"jobchangeautoml\\\",\\\"subscription_id\\\":\\\"a24a24d5-8d87-4c8a-99b6-91ed2d2df51f\\\",\\\"resource_group\\\":\\\"aml-quickstarts-136708\\\",\\\"workspace_name\\\":\\\"quick-starts-ws-136708\\\",\\\"region\\\":\\\"southcentralus\\\",\\\"compute_target\\\":\\\"cpu-cluster\\\",\\\"spark_service\\\":null,\\\"azure_service\\\":\\\"remote\\\",\\\"many_models\\\":false,\\\"pipeline_fetch_max_batch_size\\\":1,\\\"iterations\\\":1000,\\\"primary_metric\\\":\\\"accuracy\\\",\\\"task_type\\\":\\\"classification\\\",\\\"data_script\\\":null,\\\"validation_size\\\":0.0,\\\"n_cross_validations\\\":5,\\\"y_min\\\":null,\\\"y_max\\\":null,\\\"num_classes\\\":null,\\\"featurization\\\":\\\"auto\\\",\\\"_ignore_package_version_incompatibilities\\\":false,\\\"is_timeseries\\\":false,\\\"max_cores_per_iteration\\\":1,\\\"max_concurrent_iterations\\\":4,\\\"iteration_timeout_minutes\\\":null,\\\"mem_in_mb\\\":null,\\\"enforce_time_on_windows\\\":false,\\\"experiment_timeout_minutes\\\":15,\\\"experiment_exit_score\\\":null,\\\"whitelist_models\\\":null,\\\"blacklist_algos\\\":[\\\"TensorFlowLinearClassifier\\\",\\\"TensorFlowDNN\\\"],\\\"supported_models\\\":[\\\"KNN\\\",\\\"GradientBoosting\\\",\\\"BernoulliNaiveBayes\\\",\\\"RandomForest\\\",\\\"LinearSVM\\\",\\\"XGBoostClassifier\\\",\\\"ExtremeRandomTrees\\\",\\\"SVM\\\",\\\"LogisticRegression\\\",\\\"MultinomialNaiveBayes\\\",\\\"SGD\\\",\\\"DecisionTree\\\",\\\"LightGBM\\\",\\\"TensorFlowLinearClassifier\\\",\\\"AveragedPerceptronClassifier\\\",\\\"TensorFlowDNN\\\"],\\\"auto_blacklist\\\":true,\\\"blacklist_samples_reached\\\":false,\\\"exclude_nan_labels\\\":true,\\\"verbosity\\\":20,\\\"_debug_log\\\":\\\"azureml_automl.log\\\",\\\"show_warnings\\\":false,\\\"model_explainability\\\":true,\\\"service_url\\\":null,\\\"sdk_url\\\":null,\\\"sdk_packages\\\":null,\\\"enable_onnx_compatible_models\\\":false,\\\"enable_split_onnx_featurizer_estimator_models\\\":false,\\\"vm_type\\\":\\\"STANDARD_D12_V2\\\",\\\"telemetry_verbosity\\\":20,\\\"send_telemetry\\\":true,\\\"enable_dnn\\\":false,\\\"scenario\\\":\\\"SDK-1.13.0\\\",\\\"environment_label\\\":null,\\\"force_text_dnn\\\":false,\\\"enable_feature_sweeping\\\":true,\\\"enable_early_stopping\\\":true,\\\"early_stopping_n_iters\\\":10,\\\"metrics\\\":null,\\\"enable_ensembling\\\":true,\\\"enable_stack_ensembling\\\":true,\\\"ensemble_iterations\\\":15,\\\"enable_tf\\\":false,\\\"enable_subsampling\\\":null,\\\"subsample_seed\\\":null,\\\"enable_nimbusml\\\":false,\\\"enable_streaming\\\":false,\\\"force_streaming\\\":false,\\\"track_child_runs\\\":true,\\\"allowed_private_models\\\":[],\\\"label_column_name\\\":\\\"target\\\",\\\"weight_column_name\\\":null,\\\"cv_split_column_names\\\":null,\\\"enable_local_managed\\\":false,\\\"_local_managed_run_id\\\":null,\\\"cost_mode\\\":1,\\\"lag_length\\\":0,\\\"metric_operation\\\":\\\"maximize\\\",\\\"preprocess\\\":true}\", \"DataPrepJsonString\": \"{\\\\\\\"training_data\\\\\\\": \\\\\\\"{\\\\\\\\\\\\\\\"blocks\\\\\\\\\\\\\\\": [{\\\\\\\\\\\\\\\"id\\\\\\\\\\\\\\\": \\\\\\\\\\\\\\\"beef11ba-a4fb-4369-a12f-dc43cfc7c044\\\\\\\\\\\\\\\", \\\\\\\\\\\\\\\"type\\\\\\\\\\\\\\\": \\\\\\\\\\\\\\\"Microsoft.DPrep.GetDatastoreFilesBlock\\\\\\\\\\\\\\\", \\\\\\\\\\\\\\\"arguments\\\\\\\\\\\\\\\": {\\\\\\\\\\\\\\\"datastores\\\\\\\\\\\\\\\": [{\\\\\\\\\\\\\\\"datastoreName\\\\\\\\\\\\\\\": \\\\\\\\\\\\\\\"workspaceblobstore\\\\\\\\\\\\\\\", \\\\\\\\\\\\\\\"path\\\\\\\\\\\\\\\": \\\\\\\\\\\\\\\"UI/01-31-2021_101329_UTC/aug_train.csv\\\\\\\\\\\\\\\", \\\\\\\\\\\\\\\"resourceGroup\\\\\\\\\\\\\\\": \\\\\\\\\\\\\\\"aml-quickstarts-136708\\\\\\\\\\\\\\\", \\\\\\\\\\\\\\\"subscription\\\\\\\\\\\\\\\": \\\\\\\\\\\\\\\"a24a24d5-8d87-4c8a-99b6-91ed2d2df51f\\\\\\\\\\\\\\\", \\\\\\\\\\\\\\\"workspaceName\\\\\\\\\\\\\\\": \\\\\\\\\\\\\\\"quick-starts-ws-136708\\\\\\\\\\\\\\\"}]}, \\\\\\\\\\\\\\\"localData\\\\\\\\\\\\\\\": {}, \\\\\\\\\\\\\\\"isEnabled\\\\\\\\\\\\\\\": true, \\\\\\\\\\\\\\\"name\\\\\\\\\\\\\\\": null, \\\\\\\\\\\\\\\"annotation\\\\\\\\\\\\\\\": null}, {\\\\\\\\\\\\\\\"id\\\\\\\\\\\\\\\": \\\\\\\\\\\\\\\"7da411f4-207e-421b-a06b-baa14fcd94f4\\\\\\\\\\\\\\\", \\\\\\\\\\\\\\\"type\\\\\\\\\\\\\\\": \\\\\\\\\\\\\\\"Microsoft.DPrep.ParseDelimitedBlock\\\\\\\\\\\\\\\", \\\\\\\\\\\\\\\"arguments\\\\\\\\\\\\\\\": {\\\\\\\\\\\\\\\"columnHeadersMode\\\\\\\\\\\\\\\": 1, \\\\\\\\\\\\\\\"fileEncoding\\\\\\\\\\\\\\\": 0, \\\\\\\\\\\\\\\"handleQuotedLineBreaks\\\\\\\\\\\\\\\": false, \\\\\\\\\\\\\\\"preview\\\\\\\\\\\\\\\": false, \\\\\\\\\\\\\\\"separator\\\\\\\\\\\\\\\": \\\\\\\\\\\\\\\",\\\\\\\\\\\\\\\", \\\\\\\\\\\\\\\"skipRows\\\\\\\\\\\\\\\": 0, \\\\\\\\\\\\\\\"skipRowsMode\\\\\\\\\\\\\\\": 0}, \\\\\\\\\\\\\\\"localData\\\\\\\\\\\\\\\": {}, \\\\\\\\\\\\\\\"isEnabled\\\\\\\\\\\\\\\": true, \\\\\\\\\\\\\\\"name\\\\\\\\\\\\\\\": null, \\\\\\\\\\\\\\\"annotation\\\\\\\\\\\\\\\": null}, {\\\\\\\\\\\\\\\"id\\\\\\\\\\\\\\\": \\\\\\\\\\\\\\\"ab7b6304-adb4-45de-9262-0505cb1b53fe\\\\\\\\\\\\\\\", \\\\\\\\\\\\\\\"type\\\\\\\\\\\\\\\": \\\\\\\\\\\\\\\"Microsoft.DPrep.DropColumnsBlock\\\\\\\\\\\\\\\", \\\\\\\\\\\\\\\"arguments\\\\\\\\\\\\\\\": {\\\\\\\\\\\\\\\"columns\\\\\\\\\\\\\\\": {\\\\\\\\\\\\\\\"type\\\\\\\\\\\\\\\": 0, \\\\\\\\\\\\\\\"details\\\\\\\\\\\\\\\": {\\\\\\\\\\\\\\\"selectedColumns\\\\\\\\\\\\\\\": [\\\\\\\\\\\\\\\"Path\\\\\\\\\\\\\\\", \\\\\\\\\\\\\\\"enrollee_id\\\\\\\\\\\\\\\"]}}}, \\\\\\\\\\\\\\\"localData\\\\\\\\\\\\\\\": {}, \\\\\\\\\\\\\\\"isEnabled\\\\\\\\\\\\\\\": true, \\\\\\\\\\\\\\\"name\\\\\\\\\\\\\\\": null, \\\\\\\\\\\\\\\"annotation\\\\\\\\\\\\\\\": null}, {\\\\\\\\\\\\\\\"id\\\\\\\\\\\\\\\": \\\\\\\\\\\\\\\"026f01e2-f5ea-4648-8cf8-ddd091a1da3b\\\\\\\\\\\\\\\", \\\\\\\\\\\\\\\"type\\\\\\\\\\\\\\\": \\\\\\\\\\\\\\\"Microsoft.DPrep.SetColumnTypesBlock\\\\\\\\\\\\\\\", \\\\\\\\\\\\\\\"arguments\\\\\\\\\\\\\\\": {\\\\\\\\\\\\\\\"columnConversion\\\\\\\\\\\\\\\": [{\\\\\\\\\\\\\\\"column\\\\\\\\\\\\\\\": {\\\\\\\\\\\\\\\"type\\\\\\\\\\\\\\\": 2, \\\\\\\\\\\\\\\"details\\\\\\\\\\\\\\\": {\\\\\\\\\\\\\\\"selectedColumn\\\\\\\\\\\\\\\": \\\\\\\\\\\\\\\"Path\\\\\\\\\\\\\\\"}}, \\\\\\\\\\\\\\\"typeProperty\\\\\\\\\\\\\\\": 0}, {\\\\\\\\\\\\\\\"column\\\\\\\\\\\\\\\": {\\\\\\\\\\\\\\\"type\\\\\\\\\\\\\\\": 2, \\\\\\\\\\\\\\\"details\\\\\\\\\\\\\\\": {\\\\\\\\\\\\\\\"selectedColumn\\\\\\\\\\\\\\\": \\\\\\\\\\\\\\\"enrollee_id\\\\\\\\\\\\\\\"}}, \\\\\\\\\\\\\\\"typeProperty\\\\\\\\\\\\\\\": 2}, {\\\\\\\\\\\\\\\"column\\\\\\\\\\\\\\\": {\\\\\\\\\\\\\\\"type\\\\\\\\\\\\\\\": 2, \\\\\\\\\\\\\\\"details\\\\\\\\\\\\\\\": {\\\\\\\\\\\\\\\"selectedColumn\\\\\\\\\\\\\\\": \\\\\\\\\\\\\\\"city\\\\\\\\\\\\\\\"}}, \\\\\\\\\\\\\\\"typeProperty\\\\\\\\\\\\\\\": 0}, {\\\\\\\\\\\\\\\"column\\\\\\\\\\\\\\\": {\\\\\\\\\\\\\\\"type\\\\\\\\\\\\\\\": 2, \\\\\\\\\\\\\\\"details\\\\\\\\\\\\\\\": {\\\\\\\\\\\\\\\"selectedColumn\\\\\\\\\\\\\\\": \\\\\\\\\\\\\\\"city_development_index\\\\\\\\\\\\\\\"}}, \\\\\\\\\\\\\\\"typeProperty\\\\\\\\\\\\\\\": 3}, {\\\\\\\\\\\\\\\"column\\\\\\\\\\\\\\\": {\\\\\\\\\\\\\\\"type\\\\\\\\\\\\\\\": 2, \\\\\\\\\\\\\\\"details\\\\\\\\\\\\\\\": {\\\\\\\\\\\\\\\"selectedColumn\\\\\\\\\\\\\\\": \\\\\\\\\\\\\\\"gender\\\\\\\\\\\\\\\"}}, \\\\\\\\\\\\\\\"typeProperty\\\\\\\\\\\\\\\": 0}, {\\\\\\\\\\\\\\\"column\\\\\\\\\\\\\\\": {\\\\\\\\\\\\\\\"type\\\\\\\\\\\\\\\": 2, \\\\\\\\\\\\\\\"details\\\\\\\\\\\\\\\": {\\\\\\\\\\\\\\\"selectedColumn\\\\\\\\\\\\\\\": \\\\\\\\\\\\\\\"relevent_experience\\\\\\\\\\\\\\\"}}, \\\\\\\\\\\\\\\"typeProperty\\\\\\\\\\\\\\\": 0}, {\\\\\\\\\\\\\\\"column\\\\\\\\\\\\\\\": {\\\\\\\\\\\\\\\"type\\\\\\\\\\\\\\\": 2, \\\\\\\\\\\\\\\"details\\\\\\\\\\\\\\\": {\\\\\\\\\\\\\\\"selectedColumn\\\\\\\\\\\\\\\": \\\\\\\\\\\\\\\"enrolled_university\\\\\\\\\\\\\\\"}}, \\\\\\\\\\\\\\\"typeProperty\\\\\\\\\\\\\\\": 0}, {\\\\\\\\\\\\\\\"column\\\\\\\\\\\\\\\": {\\\\\\\\\\\\\\\"type\\\\\\\\\\\\\\\": 2, \\\\\\\\\\\\\\\"details\\\\\\\\\\\\\\\": {\\\\\\\\\\\\\\\"selectedColumn\\\\\\\\\\\\\\\": \\\\\\\\\\\\\\\"education_level\\\\\\\\\\\\\\\"}}, \\\\\\\\\\\\\\\"typeProperty\\\\\\\\\\\\\\\": 0}, {\\\\\\\\\\\\\\\"column\\\\\\\\\\\\\\\": {\\\\\\\\\\\\\\\"type\\\\\\\\\\\\\\\": 2, \\\\\\\\\\\\\\\"details\\\\\\\\\\\\\\\": {\\\\\\\\\\\\\\\"selectedColumn\\\\\\\\\\\\\\\": \\\\\\\\\\\\\\\"major_discipline\\\\\\\\\\\\\\\"}}, \\\\\\\\\\\\\\\"typeProperty\\\\\\\\\\\\\\\": 0}, {\\\\\\\\\\\\\\\"column\\\\\\\\\\\\\\\": {\\\\\\\\\\\\\\\"type\\\\\\\\\\\\\\\": 2, \\\\\\\\\\\\\\\"details\\\\\\\\\\\\\\\": {\\\\\\\\\\\\\\\"selectedColumn\\\\\\\\\\\\\\\": \\\\\\\\\\\\\\\"experience\\\\\\\\\\\\\\\"}}, \\\\\\\\\\\\\\\"typeProperty\\\\\\\\\\\\\\\": 0}, {\\\\\\\\\\\\\\\"column\\\\\\\\\\\\\\\": {\\\\\\\\\\\\\\\"type\\\\\\\\\\\\\\\": 2, \\\\\\\\\\\\\\\"details\\\\\\\\\\\\\\\": {\\\\\\\\\\\\\\\"selectedColumn\\\\\\\\\\\\\\\": \\\\\\\\\\\\\\\"company_size\\\\\\\\\\\\\\\"}}, \\\\\\\\\\\\\\\"typeProperty\\\\\\\\\\\\\\\": 0}, {\\\\\\\\\\\\\\\"column\\\\\\\\\\\\\\\": {\\\\\\\\\\\\\\\"type\\\\\\\\\\\\\\\": 2, \\\\\\\\\\\\\\\"details\\\\\\\\\\\\\\\": {\\\\\\\\\\\\\\\"selectedColumn\\\\\\\\\\\\\\\": \\\\\\\\\\\\\\\"company_type\\\\\\\\\\\\\\\"}}, \\\\\\\\\\\\\\\"typeProperty\\\\\\\\\\\\\\\": 0}, {\\\\\\\\\\\\\\\"column\\\\\\\\\\\\\\\": {\\\\\\\\\\\\\\\"type\\\\\\\\\\\\\\\": 2, \\\\\\\\\\\\\\\"details\\\\\\\\\\\\\\\": {\\\\\\\\\\\\\\\"selectedColumn\\\\\\\\\\\\\\\": \\\\\\\\\\\\\\\"last_new_job\\\\\\\\\\\\\\\"}}, \\\\\\\\\\\\\\\"typeProperty\\\\\\\\\\\\\\\": 0}, {\\\\\\\\\\\\\\\"column\\\\\\\\\\\\\\\": {\\\\\\\\\\\\\\\"type\\\\\\\\\\\\\\\": 2, \\\\\\\\\\\\\\\"details\\\\\\\\\\\\\\\": {\\\\\\\\\\\\\\\"selectedColumn\\\\\\\\\\\\\\\": \\\\\\\\\\\\\\\"training_hours\\\\\\\\\\\\\\\"}}, \\\\\\\\\\\\\\\"typeProperty\\\\\\\\\\\\\\\": 2}, {\\\\\\\\\\\\\\\"column\\\\\\\\\\\\\\\": {\\\\\\\\\\\\\\\"type\\\\\\\\\\\\\\\": 2, \\\\\\\\\\\\\\\"details\\\\\\\\\\\\\\\": {\\\\\\\\\\\\\\\"selectedColumn\\\\\\\\\\\\\\\": \\\\\\\\\\\\\\\"target\\\\\\\\\\\\\\\"}}, \\\\\\\\\\\\\\\"typeProperty\\\\\\\\\\\\\\\": 3}]}, \\\\\\\\\\\\\\\"localData\\\\\\\\\\\\\\\": {}, \\\\\\\\\\\\\\\"isEnabled\\\\\\\\\\\\\\\": true, \\\\\\\\\\\\\\\"name\\\\\\\\\\\\\\\": null, \\\\\\\\\\\\\\\"annotation\\\\\\\\\\\\\\\": null}], \\\\\\\\\\\\\\\"inspectors\\\\\\\\\\\\\\\": [], \\\\\\\\\\\\\\\"meta\\\\\\\\\\\\\\\": {\\\\\\\\\\\\\\\"savedDatasetId\\\\\\\\\\\\\\\": \\\\\\\\\\\\\\\"87499c16-f708-47cf-9c5b-83d2f2202e74\\\\\\\\\\\\\\\", \\\\\\\\\\\\\\\"datasetType\\\\\\\\\\\\\\\": \\\\\\\\\\\\\\\"tabular\\\\\\\\\\\\\\\", \\\\\\\\\\\\\\\"subscriptionId\\\\\\\\\\\\\\\": \\\\\\\\\\\\\\\"a24a24d5-8d87-4c8a-99b6-91ed2d2df51f\\\\\\\\\\\\\\\", \\\\\\\\\\\\\\\"workspaceId\\\\\\\\\\\\\\\": \\\\\\\\\\\\\\\"a1377232-ddd2-4474-98a2-37692d08c09e\\\\\\\\\\\\\\\", \\\\\\\\\\\\\\\"workspaceLocation\\\\\\\\\\\\\\\": \\\\\\\\\\\\\\\"southcentralus\\\\\\\\\\\\\\\"}}\\\\\\\", \\\\\\\"activities\\\\\\\": 0}\", \"EnableSubsampling\": null, \"runTemplate\": \"AutoML\", \"azureml.runsource\": \"automl\", \"display_task_type\": \"classification\", \"dependencies_versions\": \"{\\\"azureml-widgets\\\": \\\"1.20.0\\\", \\\"azureml-train\\\": \\\"1.20.0\\\", \\\"azureml-train-restclients-hyperdrive\\\": \\\"1.20.0\\\", \\\"azureml-train-core\\\": \\\"1.20.0\\\", \\\"azureml-train-automl\\\": \\\"1.20.0\\\", \\\"azureml-train-automl-runtime\\\": \\\"1.20.0\\\", \\\"azureml-train-automl-client\\\": \\\"1.20.0\\\", \\\"azureml-tensorboard\\\": \\\"1.20.0\\\", \\\"azureml-telemetry\\\": \\\"1.20.0\\\", \\\"azureml-sdk\\\": \\\"1.20.0\\\", \\\"azureml-samples\\\": \\\"0+unknown\\\", \\\"azureml-pipeline\\\": \\\"1.20.0\\\", \\\"azureml-pipeline-steps\\\": \\\"1.20.0\\\", \\\"azureml-pipeline-core\\\": \\\"1.20.0\\\", \\\"azureml-opendatasets\\\": \\\"1.20.0\\\", \\\"azureml-model-management-sdk\\\": \\\"1.0.1b6.post1\\\", \\\"azureml-mlflow\\\": \\\"1.20.0.post1\\\", \\\"azureml-interpret\\\": \\\"1.20.0\\\", \\\"azureml-explain-model\\\": \\\"1.20.0\\\", \\\"azureml-defaults\\\": \\\"1.20.0\\\", \\\"azureml-dataset-runtime\\\": \\\"1.20.0\\\", \\\"azureml-dataprep\\\": \\\"2.7.3\\\", \\\"azureml-dataprep-rslex\\\": \\\"1.5.0\\\", \\\"azureml-dataprep-native\\\": \\\"27.0.0\\\", \\\"azureml-datadrift\\\": \\\"1.20.0\\\", \\\"azureml-core\\\": \\\"1.20.0\\\", \\\"azureml-contrib-services\\\": \\\"1.20.0\\\", \\\"azureml-contrib-server\\\": \\\"1.20.0\\\", \\\"azureml-contrib-reinforcementlearning\\\": \\\"1.20.0\\\", \\\"azureml-contrib-pipeline-steps\\\": \\\"1.20.0\\\", \\\"azureml-contrib-notebook\\\": \\\"1.20.0\\\", \\\"azureml-contrib-interpret\\\": \\\"1.20.0\\\", \\\"azureml-contrib-gbdt\\\": \\\"1.20.0\\\", \\\"azureml-contrib-fairness\\\": \\\"1.20.0\\\", \\\"azureml-contrib-dataset\\\": \\\"1.20.0\\\", \\\"azureml-cli-common\\\": \\\"1.20.0\\\", \\\"azureml-automl-runtime\\\": \\\"1.20.0\\\", \\\"azureml-automl-core\\\": \\\"1.20.0\\\", \\\"azureml-accel-models\\\": \\\"1.20.0\\\"}\", \"_aml_system_scenario_identification\": \"Remote.Parent\", \"ClientType\": \"SDK\", \"environment_cpu_name\": \"AzureML-AutoML\", \"environment_cpu_label\": \"prod\", \"environment_gpu_name\": \"AzureML-AutoML-GPU\", \"environment_gpu_label\": \"prod\", \"root_attribution\": \"automl\", \"attribution\": \"AutoML\", \"Orchestrator\": \"AutoML\", \"CancelUri\": \"https://southcentralus.experiments.azureml.net/jasmine/v1.0/subscriptions/a24a24d5-8d87-4c8a-99b6-91ed2d2df51f/resourceGroups/aml-quickstarts-136708/providers/Microsoft.MachineLearningServices/workspaces/quick-starts-ws-136708/experimentids/70c4f341-a7b5-4588-9078-5d73d24e2b52/cancel/AutoML_4e968e5c-5cbd-4b5a-8325-df62fb150e34\", \"ClientSdkVersion\": \"1.20.0.post1\", \"snapshotId\": \"00000000-0000-0000-0000-000000000000\", \"SetupRunId\": \"AutoML_4e968e5c-5cbd-4b5a-8325-df62fb150e34_setup\", \"SetupRunContainerId\": \"dcid.AutoML_4e968e5c-5cbd-4b5a-8325-df62fb150e34_setup\", \"FeaturizationRunJsonPath\": \"featurizer_container.json\", \"FeaturizationRunId\": \"AutoML_4e968e5c-5cbd-4b5a-8325-df62fb150e34_featurize\", \"ProblemInfoJsonString\": \"{\\\"dataset_num_categorical\\\": 0, \\\"is_sparse\\\": true, \\\"subsampling\\\": false, \\\"dataset_classes\\\": 2, \\\"dataset_features\\\": 201, \\\"dataset_samples\\\": 19158, \\\"single_frequency_class_detected\\\": false}\", \"ModelExplainRunId\": \"AutoML_4e968e5c-5cbd-4b5a-8325-df62fb150e34_ModelExplain\"}, \"tags\": {\"model_explain_run\": \"best_run\", \"_aml_system_azureml.automlComponent\": \"AutoML\", \"pipeline_id\": \"\", \"score\": \"\", \"predicted_cost\": \"\", \"fit_time\": \"\", \"training_percent\": \"\", \"iteration\": \"\", \"run_preprocessor\": \"\", \"run_algorithm\": \"\", \"dynamic_whitelisting_iterations\": \"<24>;<30>;<35>;<40>;\", \"automl_best_child_run_id\": \"AutoML_4e968e5c-5cbd-4b5a-8325-df62fb150e34_41\", \"model_explain_best_run_child_id\": \"AutoML_4e968e5c-5cbd-4b5a-8325-df62fb150e34_41\"}, \"end_time_utc\": \"2021-01-31T10:47:19.04084Z\", \"status\": \"Completed\", \"log_files\": {}, \"log_groups\": [], \"run_duration\": \"0:26:53\"}, \"child_runs\": [{\"run_id\": \"AutoML_4e968e5c-5cbd-4b5a-8325-df62fb150e34_0\", \"run_number\": 5, \"metric\": null, \"status\": \"Completed\", \"run_type\": \"azureml.scriptrun\", \"training_percent\": \"100\", \"start_time\": \"2021-01-31T10:29:44.998172Z\", \"end_time\": \"2021-01-31T10:30:39.152951Z\", \"created_time\": \"2021-01-31T10:29:32.701891Z\", \"created_time_dt\": \"2021-01-31T10:29:32.701891Z\", \"duration\": \"0:01:06\", \"iteration\": \"0\", \"goal\": \"accuracy_max\", \"run_name\": \"MaxAbsScaler, LightGBM\", \"run_properties\": \"copy=True\", \"primary_metric\": 0.79387193, \"best_metric\": 0.79387193}, {\"run_id\": \"AutoML_4e968e5c-5cbd-4b5a-8325-df62fb150e34_1\", \"run_number\": 6, \"metric\": null, \"status\": \"Completed\", \"run_type\": \"azureml.scriptrun\", \"training_percent\": \"100\", \"start_time\": \"2021-01-31T10:31:44.8766Z\", \"end_time\": \"2021-01-31T10:34:14.255267Z\", \"created_time\": \"2021-01-31T10:29:32.709861Z\", \"created_time_dt\": \"2021-01-31T10:29:32.709861Z\", \"duration\": \"0:04:41\", \"iteration\": \"1\", \"goal\": \"accuracy_max\", \"run_name\": \"MaxAbsScaler, XGBoostClassifier\", \"run_properties\": \"copy=True\", \"primary_metric\": 0.7934546, \"best_metric\": 0.79387193}, {\"run_id\": \"AutoML_4e968e5c-5cbd-4b5a-8325-df62fb150e34_2\", \"run_number\": 7, \"metric\": null, \"status\": \"Completed\", \"run_type\": \"azureml.scriptrun\", \"training_percent\": \"100\", \"start_time\": \"2021-01-31T10:31:37.696249Z\", \"end_time\": \"2021-01-31T10:32:34.701249Z\", \"created_time\": \"2021-01-31T10:29:33.137257Z\", \"created_time_dt\": \"2021-01-31T10:29:33.137257Z\", \"duration\": \"0:03:01\", \"iteration\": \"2\", \"goal\": \"accuracy_max\", \"run_name\": \"MaxAbsScaler, RandomForest\", \"run_properties\": \"copy=True\", \"primary_metric\": 0.77356795, \"best_metric\": 0.79387193}, {\"run_id\": \"AutoML_4e968e5c-5cbd-4b5a-8325-df62fb150e34_3\", \"run_number\": 8, \"metric\": null, \"status\": \"Completed\", \"run_type\": \"azureml.scriptrun\", \"training_percent\": \"100\", \"start_time\": \"2021-01-31T10:30:42.359306Z\", \"end_time\": \"2021-01-31T10:31:34.491324Z\", \"created_time\": \"2021-01-31T10:29:32.701219Z\", \"created_time_dt\": \"2021-01-31T10:29:32.701219Z\", \"duration\": \"0:02:01\", \"iteration\": \"3\", \"goal\": \"accuracy_max\", \"run_name\": \"MaxAbsScaler, RandomForest\", \"run_properties\": \"copy=True\", \"primary_metric\": 0.75441015, \"best_metric\": 0.79387193}, {\"run_id\": \"AutoML_4e968e5c-5cbd-4b5a-8325-df62fb150e34_4\", \"run_number\": 9, \"metric\": null, \"status\": \"Completed\", \"run_type\": \"azureml.scriptrun\", \"training_percent\": \"100\", \"start_time\": \"2021-01-31T10:31:46.025158Z\", \"end_time\": \"2021-01-31T10:34:07.521647Z\", \"created_time\": \"2021-01-31T10:30:43.064022Z\", \"created_time_dt\": \"2021-01-31T10:30:43.064022Z\", \"duration\": \"0:03:24\", \"iteration\": \"4\", \"goal\": \"accuracy_max\", \"run_name\": \"MaxAbsScaler, RandomForest\", \"run_properties\": \"copy=True\", \"primary_metric\": 0.74929573, \"best_metric\": 0.79387193}, {\"run_id\": \"AutoML_4e968e5c-5cbd-4b5a-8325-df62fb150e34_5\", \"run_number\": 10, \"metric\": null, \"status\": \"Completed\", \"run_type\": \"azureml.scriptrun\", \"training_percent\": \"100\", \"start_time\": \"2021-01-31T10:31:53.505154Z\", \"end_time\": \"2021-01-31T10:34:05.253438Z\", \"created_time\": \"2021-01-31T10:31:38.851973Z\", \"created_time_dt\": \"2021-01-31T10:31:38.851973Z\", \"duration\": \"0:02:26\", \"iteration\": \"5\", \"goal\": \"accuracy_max\", \"run_name\": \"MaxAbsScaler, RandomForest\", \"run_properties\": \"copy=True\", \"primary_metric\": 0.71040854, \"best_metric\": 0.79387193}, {\"run_id\": \"AutoML_4e968e5c-5cbd-4b5a-8325-df62fb150e34_6\", \"run_number\": 11, \"metric\": null, \"status\": \"Completed\", \"run_type\": \"azureml.scriptrun\", \"training_percent\": \"100\", \"start_time\": \"2021-01-31T10:32:49.789474Z\", \"end_time\": \"2021-01-31T10:34:08.178096Z\", \"created_time\": \"2021-01-31T10:32:38.082694Z\", \"created_time_dt\": \"2021-01-31T10:32:38.082694Z\", \"duration\": \"0:01:30\", \"iteration\": \"6\", \"goal\": \"accuracy_max\", \"run_name\": \"SparseNormalizer, XGBoostClassifier\", \"run_properties\": \"<azureml.automl.runtime.shared.model_wrappers.SparseNormalizer object at 0x7f6fb7bbc6d8\", \"primary_metric\": 0.79032253, \"best_metric\": 0.79387193}, {\"run_id\": \"AutoML_4e968e5c-5cbd-4b5a-8325-df62fb150e34_7\", \"run_number\": 12, \"metric\": null, \"status\": \"Completed\", \"run_type\": \"azureml.scriptrun\", \"training_percent\": \"100\", \"start_time\": \"2021-01-31T10:34:22.29728Z\", \"end_time\": \"2021-01-31T10:35:26.075168Z\", \"created_time\": \"2021-01-31T10:34:09.093106Z\", \"created_time_dt\": \"2021-01-31T10:34:09.093106Z\", \"duration\": \"0:01:16\", \"iteration\": \"7\", \"goal\": \"accuracy_max\", \"run_name\": \"SparseNormalizer, XGBoostClassifier\", \"run_properties\": \"<azureml.automl.runtime.shared.model_wrappers.SparseNormalizer object at 0x7f3319fb6b00\", \"primary_metric\": 0.78875679, \"best_metric\": 0.79387193}, {\"run_id\": \"AutoML_4e968e5c-5cbd-4b5a-8325-df62fb150e34_8\", \"run_number\": 13, \"metric\": null, \"status\": \"Completed\", \"run_type\": \"azureml.scriptrun\", \"training_percent\": \"100\", \"start_time\": \"2021-01-31T10:34:28.372173Z\", \"end_time\": \"2021-01-31T10:35:27.176721Z\", \"created_time\": \"2021-01-31T10:34:15.151812Z\", \"created_time_dt\": \"2021-01-31T10:34:15.151812Z\", \"duration\": \"0:01:12\", \"iteration\": \"8\", \"goal\": \"accuracy_max\", \"run_name\": \"StandardScalerWrapper, RandomForest\", \"run_properties\": \"<azureml.automl.runtime.shared.model_wrappers.StandardScalerWrapper object at 0x7fdff5096e10\", \"primary_metric\": 0.77941344, \"best_metric\": 0.79387193}, {\"run_id\": \"AutoML_4e968e5c-5cbd-4b5a-8325-df62fb150e34_9\", \"run_number\": 14, \"metric\": null, \"status\": \"Completed\", \"run_type\": \"azureml.scriptrun\", \"training_percent\": \"100\", \"start_time\": \"2021-01-31T10:34:28.766777Z\", \"end_time\": \"2021-01-31T10:35:20.786962Z\", \"created_time\": \"2021-01-31T10:34:15.303319Z\", \"created_time_dt\": \"2021-01-31T10:34:15.303319Z\", \"duration\": \"0:01:05\", \"iteration\": \"9\", \"goal\": \"accuracy_max\", \"run_name\": \"SparseNormalizer, XGBoostClassifier\", \"run_properties\": \"<azureml.automl.runtime.shared.model_wrappers.SparseNormalizer object at 0x7f45d13c2f98\", \"primary_metric\": 0.77471597, \"best_metric\": 0.79387193}, {\"run_id\": \"AutoML_4e968e5c-5cbd-4b5a-8325-df62fb150e34_10\", \"run_number\": 15, \"metric\": null, \"status\": \"Completed\", \"run_type\": \"azureml.scriptrun\", \"training_percent\": \"100\", \"start_time\": \"2021-01-31T10:34:33.984689Z\", \"end_time\": \"2021-01-31T10:35:35.385403Z\", \"created_time\": \"2021-01-31T10:34:20.640315Z\", \"created_time_dt\": \"2021-01-31T10:34:20.640315Z\", \"duration\": \"0:01:14\", \"iteration\": \"10\", \"goal\": \"accuracy_max\", \"run_name\": \"MaxAbsScaler, RandomForest\", \"run_properties\": \"copy=True\", \"primary_metric\": 0.78233667, \"best_metric\": 0.79387193}, {\"run_id\": \"AutoML_4e968e5c-5cbd-4b5a-8325-df62fb150e34_11\", \"run_number\": 16, \"metric\": null, \"status\": \"Completed\", \"run_type\": \"azureml.scriptrun\", \"training_percent\": \"100\", \"start_time\": \"2021-01-31T10:35:37.29437Z\", \"end_time\": \"2021-01-31T10:36:29.742409Z\", \"created_time\": \"2021-01-31T10:35:22.931419Z\", \"created_time_dt\": \"2021-01-31T10:35:22.931419Z\", \"duration\": \"0:01:06\", \"iteration\": \"11\", \"goal\": \"accuracy_max\", \"run_name\": \"MaxAbsScaler, LightGBM\", \"run_properties\": \"copy=True\", \"primary_metric\": 0.77831725, \"best_metric\": 0.79387193}, {\"run_id\": \"AutoML_4e968e5c-5cbd-4b5a-8325-df62fb150e34_12\", \"run_number\": 17, \"metric\": null, \"status\": \"Completed\", \"run_type\": \"azureml.scriptrun\", \"training_percent\": \"100\", \"start_time\": \"2021-01-31T10:35:41.882018Z\", \"end_time\": \"2021-01-31T10:36:36.561491Z\", \"created_time\": \"2021-01-31T10:35:28.623233Z\", \"created_time_dt\": \"2021-01-31T10:35:28.623233Z\", \"duration\": \"0:01:07\", \"iteration\": \"12\", \"goal\": \"accuracy_max\", \"run_name\": \"MaxAbsScaler, LogisticRegression\", \"run_properties\": \"copy=True\", \"primary_metric\": 0.78097916, \"best_metric\": 0.79387193}, {\"run_id\": \"AutoML_4e968e5c-5cbd-4b5a-8325-df62fb150e34_13\", \"run_number\": 18, \"metric\": null, \"status\": \"Completed\", \"run_type\": \"azureml.scriptrun\", \"training_percent\": \"100\", \"start_time\": \"2021-01-31T10:35:44.600508Z\", \"end_time\": \"2021-01-31T10:36:32.251026Z\", \"created_time\": \"2021-01-31T10:35:33.016303Z\", \"created_time_dt\": \"2021-01-31T10:35:33.016303Z\", \"duration\": \"0:00:59\", \"iteration\": \"13\", \"goal\": \"accuracy_max\", \"run_name\": \"MaxAbsScaler, LightGBM\", \"run_properties\": \"copy=True\", \"primary_metric\": 0.77299276, \"best_metric\": 0.79387193}, {\"run_id\": \"AutoML_4e968e5c-5cbd-4b5a-8325-df62fb150e34_14\", \"run_number\": 19, \"metric\": null, \"status\": \"Completed\", \"run_type\": \"azureml.scriptrun\", \"training_percent\": \"100\", \"start_time\": \"2021-01-31T10:35:49.67413Z\", \"end_time\": \"2021-01-31T10:36:57.488494Z\", \"created_time\": \"2021-01-31T10:35:37.54663Z\", \"created_time_dt\": \"2021-01-31T10:35:37.54663Z\", \"duration\": \"0:01:19\", \"iteration\": \"14\", \"goal\": \"accuracy_max\", \"run_name\": \"MaxAbsScaler, LogisticRegression\", \"run_properties\": \"copy=True\", \"primary_metric\": 0.7802484, \"best_metric\": 0.79387193}, {\"run_id\": \"AutoML_4e968e5c-5cbd-4b5a-8325-df62fb150e34_15\", \"run_number\": 20, \"metric\": null, \"status\": \"Completed\", \"run_type\": \"azureml.scriptrun\", \"training_percent\": \"100\", \"start_time\": \"2021-01-31T10:36:46.56895Z\", \"end_time\": \"2021-01-31T10:38:48.602238Z\", \"created_time\": \"2021-01-31T10:36:32.49826Z\", \"created_time_dt\": \"2021-01-31T10:36:32.49826Z\", \"duration\": \"0:02:16\", \"iteration\": \"15\", \"goal\": \"accuracy_max\", \"run_name\": \"MaxAbsScaler, ExtremeRandomTrees\", \"run_properties\": \"copy=True\", \"primary_metric\": 0.77993556, \"best_metric\": 0.79387193}, {\"run_id\": \"AutoML_4e968e5c-5cbd-4b5a-8325-df62fb150e34_16\", \"run_number\": 21, \"metric\": null, \"status\": \"Completed\", \"run_type\": \"azureml.scriptrun\", \"training_percent\": \"100\", \"start_time\": \"2021-01-31T10:36:50.861659Z\", \"end_time\": \"2021-01-31T10:37:42.481935Z\", \"created_time\": \"2021-01-31T10:36:37.940946Z\", \"created_time_dt\": \"2021-01-31T10:36:37.940946Z\", \"duration\": \"0:01:04\", \"iteration\": \"16\", \"goal\": \"accuracy_max\", \"run_name\": \"MaxAbsScaler, LogisticRegression\", \"run_properties\": \"copy=True\", \"primary_metric\": 0.78035279, \"best_metric\": 0.79387193}, {\"run_id\": \"AutoML_4e968e5c-5cbd-4b5a-8325-df62fb150e34_17\", \"run_number\": 22, \"metric\": null, \"status\": \"Completed\", \"run_type\": \"azureml.scriptrun\", \"training_percent\": \"100\", \"start_time\": \"2021-01-31T10:36:56.239589Z\", \"end_time\": \"2021-01-31T10:38:05.599161Z\", \"created_time\": \"2021-01-31T10:36:43.121782Z\", \"created_time_dt\": \"2021-01-31T10:36:43.121782Z\", \"duration\": \"0:01:22\", \"iteration\": \"17\", \"goal\": \"accuracy_max\", \"run_name\": \"SparseNormalizer, XGBoostClassifier\", \"run_properties\": \"<azureml.automl.runtime.shared.model_wrappers.SparseNormalizer object at 0x7fadd280ee80\", \"primary_metric\": 0.78854784, \"best_metric\": 0.79387193}, {\"run_id\": \"AutoML_4e968e5c-5cbd-4b5a-8325-df62fb150e34_18\", \"run_number\": 23, \"metric\": null, \"status\": \"Completed\", \"run_type\": \"azureml.scriptrun\", \"training_percent\": \"100\", \"start_time\": \"2021-01-31T10:37:12.32129Z\", \"end_time\": \"2021-01-31T10:38:16.539651Z\", \"created_time\": \"2021-01-31T10:37:00.549246Z\", \"created_time_dt\": \"2021-01-31T10:37:00.549246Z\", \"duration\": \"0:01:15\", \"iteration\": \"18\", \"goal\": \"accuracy_max\", \"run_name\": \"SparseNormalizer, XGBoostClassifier\", \"run_properties\": \"<azureml.automl.runtime.shared.model_wrappers.SparseNormalizer object at 0x7f9225fd8358\", \"primary_metric\": 0.79147092, \"best_metric\": 0.79387193}, {\"run_id\": \"AutoML_4e968e5c-5cbd-4b5a-8325-df62fb150e34_19\", \"run_number\": 24, \"metric\": null, \"status\": \"Completed\", \"run_type\": \"azureml.scriptrun\", \"training_percent\": \"100\", \"start_time\": \"2021-01-31T10:37:58.298284Z\", \"end_time\": \"2021-01-31T10:38:53.13307Z\", \"created_time\": \"2021-01-31T10:37:45.879396Z\", \"created_time_dt\": \"2021-01-31T10:37:45.879396Z\", \"duration\": \"0:01:07\", \"iteration\": \"19\", \"goal\": \"accuracy_max\", \"run_name\": \"SparseNormalizer, RandomForest\", \"run_properties\": \"<azureml.automl.runtime.shared.model_wrappers.SparseNormalizer object at 0x7fa86e123550\", \"primary_metric\": 0.75790785, \"best_metric\": 0.79387193}, {\"run_id\": \"AutoML_4e968e5c-5cbd-4b5a-8325-df62fb150e34_20\", \"run_number\": 25, \"metric\": null, \"status\": \"Completed\", \"run_type\": \"azureml.scriptrun\", \"training_percent\": \"100\", \"start_time\": \"2021-01-31T10:38:21.593026Z\", \"end_time\": \"2021-01-31T10:39:19.837377Z\", \"created_time\": \"2021-01-31T10:38:08.485097Z\", \"created_time_dt\": \"2021-01-31T10:38:08.485097Z\", \"duration\": \"0:01:11\", \"iteration\": \"20\", \"goal\": \"accuracy_max\", \"run_name\": \"SparseNormalizer, XGBoostClassifier\", \"run_properties\": \"<azureml.automl.runtime.shared.model_wrappers.SparseNormalizer object at 0x7f149a6b6fd0\", \"primary_metric\": 0.79183632, \"best_metric\": 0.79387193}, {\"run_id\": \"AutoML_4e968e5c-5cbd-4b5a-8325-df62fb150e34_21\", \"run_number\": 26, \"metric\": null, \"status\": \"Completed\", \"run_type\": \"azureml.scriptrun\", \"training_percent\": \"100\", \"start_time\": \"2021-01-31T10:38:31.179871Z\", \"end_time\": \"2021-01-31T10:39:19.702619Z\", \"created_time\": \"2021-01-31T10:38:18.895855Z\", \"created_time_dt\": \"2021-01-31T10:38:18.895855Z\", \"duration\": \"0:01:00\", \"iteration\": \"21\", \"goal\": \"accuracy_max\", \"run_name\": \"SparseNormalizer, XGBoostClassifier\", \"run_properties\": \"<azureml.automl.runtime.shared.model_wrappers.SparseNormalizer object at 0x7f02c9b286a0\", \"primary_metric\": 0.78353683, \"best_metric\": 0.79387193}, {\"run_id\": \"AutoML_4e968e5c-5cbd-4b5a-8325-df62fb150e34_22\", \"run_number\": 27, \"metric\": null, \"status\": \"Completed\", \"run_type\": \"azureml.scriptrun\", \"training_percent\": \"100\", \"start_time\": \"2021-01-31T10:39:01.189631Z\", \"end_time\": \"2021-01-31T10:39:54.428545Z\", \"created_time\": \"2021-01-31T10:38:50.911782Z\", \"created_time_dt\": \"2021-01-31T10:38:50.911782Z\", \"duration\": \"0:01:03\", \"iteration\": \"22\", \"goal\": \"accuracy_max\", \"run_name\": \"SparseNormalizer, XGBoostClassifier\", \"run_properties\": \"<azureml.automl.runtime.shared.model_wrappers.SparseNormalizer object at 0x7f56c73aa438\", \"primary_metric\": 0.79204502, \"best_metric\": 0.79387193}, {\"run_id\": \"AutoML_4e968e5c-5cbd-4b5a-8325-df62fb150e34_23\", \"run_number\": 28, \"metric\": null, \"status\": \"Completed\", \"run_type\": \"azureml.scriptrun\", \"training_percent\": \"100\", \"start_time\": \"2021-01-31T10:39:06.417095Z\", \"end_time\": \"2021-01-31T10:40:12.236976Z\", \"created_time\": \"2021-01-31T10:38:56.461387Z\", \"created_time_dt\": \"2021-01-31T10:38:56.461387Z\", \"duration\": \"0:01:15\", \"iteration\": \"23\", \"goal\": \"accuracy_max\", \"run_name\": \"SparseNormalizer, XGBoostClassifier\", \"run_properties\": \"<azureml.automl.runtime.shared.model_wrappers.SparseNormalizer object at 0x7f067a25e898\", \"primary_metric\": 0.7938721, \"best_metric\": 0.7938721}, {\"run_id\": \"AutoML_4e968e5c-5cbd-4b5a-8325-df62fb150e34_24\", \"run_number\": 29, \"metric\": null, \"status\": \"Completed\", \"run_type\": \"azureml.scriptrun\", \"training_percent\": \"100\", \"start_time\": \"2021-01-31T10:39:37.179682Z\", \"end_time\": \"2021-01-31T10:40:30.045493Z\", \"created_time\": \"2021-01-31T10:39:23.338509Z\", \"created_time_dt\": \"2021-01-31T10:39:23.338509Z\", \"duration\": \"0:01:06\", \"iteration\": \"24\", \"goal\": \"accuracy_max\", \"run_name\": \"StandardScalerWrapper, LightGBM\", \"run_properties\": \"<azureml.automl.runtime.shared.model_wrappers.StandardScalerWrapper object at 0x7ff2909debe0\", \"primary_metric\": 0.75065216, \"best_metric\": 0.7938721}, {\"run_id\": \"AutoML_4e968e5c-5cbd-4b5a-8325-df62fb150e34_25\", \"run_number\": 30, \"metric\": null, \"status\": \"Completed\", \"run_type\": \"azureml.scriptrun\", \"training_percent\": \"100\", \"start_time\": \"2021-01-31T10:39:35.292483Z\", \"end_time\": \"2021-01-31T10:40:22.90819Z\", \"created_time\": \"2021-01-31T10:39:23.441484Z\", \"created_time_dt\": \"2021-01-31T10:39:23.441484Z\", \"duration\": \"0:00:59\", \"iteration\": \"25\", \"goal\": \"accuracy_max\", \"run_name\": \"SparseNormalizer, XGBoostClassifier\", \"run_properties\": \"<azureml.automl.runtime.shared.model_wrappers.SparseNormalizer object at 0x7f1fb4cd0ef0\", \"primary_metric\": 0.77314994, \"best_metric\": 0.7938721}, {\"run_id\": \"AutoML_4e968e5c-5cbd-4b5a-8325-df62fb150e34_26\", \"run_number\": 31, \"metric\": null, \"status\": \"Completed\", \"run_type\": \"azureml.scriptrun\", \"training_percent\": \"100\", \"start_time\": \"2021-01-31T10:40:10.149803Z\", \"end_time\": \"2021-01-31T10:41:05.143108Z\", \"created_time\": \"2021-01-31T10:39:56.746519Z\", \"created_time_dt\": \"2021-01-31T10:39:56.746519Z\", \"duration\": \"0:01:08\", \"iteration\": \"26\", \"goal\": \"accuracy_max\", \"run_name\": \"StandardScalerWrapper, XGBoostClassifier\", \"run_properties\": \"<azureml.automl.runtime.shared.model_wrappers.StandardScalerWrapper object at 0x7f4558aca550\", \"primary_metric\": 0.77915244, \"best_metric\": 0.7938721}, {\"run_id\": \"AutoML_4e968e5c-5cbd-4b5a-8325-df62fb150e34_27\", \"run_number\": 32, \"metric\": null, \"status\": \"Completed\", \"run_type\": \"azureml.scriptrun\", \"training_percent\": \"100\", \"start_time\": \"2021-01-31T10:40:26.408501Z\", \"end_time\": \"2021-01-31T10:41:43.331479Z\", \"created_time\": \"2021-01-31T10:40:14.610044Z\", \"created_time_dt\": \"2021-01-31T10:40:14.610044Z\", \"duration\": \"0:01:28\", \"iteration\": \"27\", \"goal\": \"accuracy_max\", \"run_name\": \"MaxAbsScaler, ExtremeRandomTrees\", \"run_properties\": \"copy=True\", \"primary_metric\": 0.77789954, \"best_metric\": 0.7938721}, {\"run_id\": \"AutoML_4e968e5c-5cbd-4b5a-8325-df62fb150e34_28\", \"run_number\": 33, \"metric\": null, \"status\": \"Completed\", \"run_type\": \"azureml.scriptrun\", \"training_percent\": \"100\", \"start_time\": \"2021-01-31T10:40:37.843124Z\", \"end_time\": \"2021-01-31T10:41:38.101732Z\", \"created_time\": \"2021-01-31T10:40:25.273427Z\", \"created_time_dt\": \"2021-01-31T10:40:25.273427Z\", \"duration\": \"0:01:12\", \"iteration\": \"28\", \"goal\": \"accuracy_max\", \"run_name\": \"MaxAbsScaler, LightGBM\", \"run_properties\": \"copy=True\", \"primary_metric\": 0.79397665, \"best_metric\": 0.79397665}, {\"run_id\": \"AutoML_4e968e5c-5cbd-4b5a-8325-df62fb150e34_29\", \"run_number\": 34, \"metric\": null, \"status\": \"Completed\", \"run_type\": \"azureml.scriptrun\", \"training_percent\": \"100\", \"start_time\": \"2021-01-31T10:40:45.271414Z\", \"end_time\": \"2021-01-31T10:41:46.644003Z\", \"created_time\": \"2021-01-31T10:40:32.362934Z\", \"created_time_dt\": \"2021-01-31T10:40:32.362934Z\", \"duration\": \"0:01:14\", \"iteration\": \"29\", \"goal\": \"accuracy_max\", \"run_name\": \"SparseNormalizer, XGBoostClassifier\", \"run_properties\": \"<azureml.automl.runtime.shared.model_wrappers.SparseNormalizer object at 0x7f6c66bbddd8\", \"primary_metric\": 0.78750389, \"best_metric\": 0.79397665}, {\"run_id\": \"AutoML_4e968e5c-5cbd-4b5a-8325-df62fb150e34_30\", \"run_number\": 35, \"metric\": null, \"status\": \"Completed\", \"run_type\": \"azureml.scriptrun\", \"training_percent\": \"100\", \"start_time\": \"2021-01-31T10:41:22.209545Z\", \"end_time\": \"2021-01-31T10:42:20.18624Z\", \"created_time\": \"2021-01-31T10:41:08.65699Z\", \"created_time_dt\": \"2021-01-31T10:41:08.65699Z\", \"duration\": \"0:01:11\", \"iteration\": \"30\", \"goal\": \"accuracy_max\", \"run_name\": \"SparseNormalizer, XGBoostClassifier\", \"run_properties\": \"<azureml.automl.runtime.shared.model_wrappers.SparseNormalizer object at 0x7ff7a4381470\", \"primary_metric\": 0.75065216, \"best_metric\": 0.79397665}, {\"run_id\": \"AutoML_4e968e5c-5cbd-4b5a-8325-df62fb150e34_31\", \"run_number\": 36, \"metric\": null, \"status\": \"Completed\", \"run_type\": \"azureml.scriptrun\", \"training_percent\": \"100\", \"start_time\": \"2021-01-31T10:41:52.101713Z\", \"end_time\": \"2021-01-31T10:43:36.474759Z\", \"created_time\": \"2021-01-31T10:41:40.315147Z\", \"created_time_dt\": \"2021-01-31T10:41:40.315147Z\", \"duration\": \"0:01:56\", \"iteration\": \"31\", \"goal\": \"accuracy_max\", \"run_name\": \"SparseNormalizer, RandomForest\", \"run_properties\": \"<azureml.automl.runtime.shared.model_wrappers.SparseNormalizer object at 0x7fd78c4a22b0\", \"primary_metric\": 0.77649052, \"best_metric\": 0.79397665}, {\"run_id\": \"AutoML_4e968e5c-5cbd-4b5a-8325-df62fb150e34_32\", \"run_number\": 37, \"metric\": null, \"status\": \"Completed\", \"run_type\": \"azureml.scriptrun\", \"training_percent\": \"100\", \"start_time\": \"2021-01-31T10:41:57.953329Z\", \"end_time\": \"2021-01-31T10:42:53.225698Z\", \"created_time\": \"2021-01-31T10:41:45.789173Z\", \"created_time_dt\": \"2021-01-31T10:41:45.789173Z\", \"duration\": \"0:01:07\", \"iteration\": \"32\", \"goal\": \"accuracy_max\", \"run_name\": \"MaxAbsScaler, LightGBM\", \"run_properties\": \"copy=True\", \"primary_metric\": 0.77628148, \"best_metric\": 0.79397665}, {\"run_id\": \"AutoML_4e968e5c-5cbd-4b5a-8325-df62fb150e34_33\", \"run_number\": 38, \"metric\": null, \"status\": \"Completed\", \"run_type\": \"azureml.scriptrun\", \"training_percent\": \"100\", \"start_time\": \"2021-01-31T10:42:02.488936Z\", \"end_time\": \"2021-01-31T10:42:55.028511Z\", \"created_time\": \"2021-01-31T10:41:50.120115Z\", \"created_time_dt\": \"2021-01-31T10:41:50.120115Z\", \"duration\": \"0:01:04\", \"iteration\": \"33\", \"goal\": \"accuracy_max\", \"run_name\": \"StandardScalerWrapper, XGBoostClassifier\", \"run_properties\": \"<azureml.automl.runtime.shared.model_wrappers.StandardScalerWrapper object at 0x7f4d0f6d7b00\", \"primary_metric\": 0.7763339, \"best_metric\": 0.79397665}, {\"run_id\": \"AutoML_4e968e5c-5cbd-4b5a-8325-df62fb150e34_34\", \"run_number\": 39, \"metric\": null, \"status\": \"Completed\", \"run_type\": \"azureml.scriptrun\", \"training_percent\": \"100\", \"start_time\": \"2021-01-31T10:42:32.151511Z\", \"end_time\": \"2021-01-31T10:43:37.544226Z\", \"created_time\": \"2021-01-31T10:42:22.38659Z\", \"created_time_dt\": \"2021-01-31T10:42:22.38659Z\", \"duration\": \"0:01:15\", \"iteration\": \"34\", \"goal\": \"accuracy_max\", \"run_name\": \"MaxAbsScaler, GradientBoosting\", \"run_properties\": \"copy=True\", \"primary_metric\": 0.78301488, \"best_metric\": 0.79397665}, {\"run_id\": \"AutoML_4e968e5c-5cbd-4b5a-8325-df62fb150e34_35\", \"run_number\": 40, \"metric\": null, \"status\": \"Completed\", \"run_type\": \"azureml.scriptrun\", \"training_percent\": \"100\", \"start_time\": \"2021-01-31T10:43:07.179612Z\", \"end_time\": \"2021-01-31T10:44:03.637707Z\", \"created_time\": \"2021-01-31T10:42:56.379687Z\", \"created_time_dt\": \"2021-01-31T10:42:56.379687Z\", \"duration\": \"0:01:07\", \"iteration\": \"35\", \"goal\": \"accuracy_max\", \"run_name\": \"StandardScalerWrapper, LightGBM\", \"run_properties\": \"<azureml.automl.runtime.shared.model_wrappers.StandardScalerWrapper object at 0x7f2e93bfe978\", \"primary_metric\": 0.75065216, \"best_metric\": 0.79397665}, {\"run_id\": \"AutoML_4e968e5c-5cbd-4b5a-8325-df62fb150e34_36\", \"run_number\": 41, \"metric\": null, \"status\": \"Completed\", \"run_type\": \"azureml.scriptrun\", \"training_percent\": \"100\", \"start_time\": \"2021-01-31T10:43:11.006155Z\", \"end_time\": \"2021-01-31T10:44:13.783291Z\", \"created_time\": \"2021-01-31T10:43:00.349682Z\", \"created_time_dt\": \"2021-01-31T10:43:00.349682Z\", \"duration\": \"0:01:13\", \"iteration\": \"36\", \"goal\": \"accuracy_max\", \"run_name\": \"TruncatedSVDWrapper, XGBoostClassifier\", \"run_properties\": \"n_components=0.6036842105263158, random_state=None\", \"primary_metric\": 0.78092676, \"best_metric\": 0.79397665}, {\"run_id\": \"AutoML_4e968e5c-5cbd-4b5a-8325-df62fb150e34_37\", \"run_number\": 42, \"metric\": null, \"status\": \"Completed\", \"run_type\": \"azureml.scriptrun\", \"training_percent\": \"100\", \"start_time\": \"2021-01-31T10:43:50.481128Z\", \"end_time\": \"2021-01-31T10:44:44.540979Z\", \"created_time\": \"2021-01-31T10:43:38.977461Z\", \"created_time_dt\": \"2021-01-31T10:43:38.977461Z\", \"duration\": \"0:01:05\", \"iteration\": \"37\", \"goal\": \"accuracy_max\", \"run_name\": \"StandardScalerWrapper, XGBoostClassifier\", \"run_properties\": \"<azureml.automl.runtime.shared.model_wrappers.StandardScalerWrapper object at 0x7fe6cf28e5c0\", \"primary_metric\": 0.79220153, \"best_metric\": 0.79397665}, {\"run_id\": \"AutoML_4e968e5c-5cbd-4b5a-8325-df62fb150e34_38\", \"run_number\": 43, \"metric\": null, \"status\": \"Canceled\", \"run_type\": \"azureml.scriptrun\", \"training_percent\": \"100\", \"start_time\": \"2021-01-31T10:43:55.994411Z\", \"end_time\": \"2021-01-31T10:44:53.985145Z\", \"created_time\": \"2021-01-31T10:43:43.804979Z\", \"created_time_dt\": \"2021-01-31T10:43:43.804979Z\", \"duration\": \"0:01:10\", \"iteration\": \"38\", \"goal\": \"accuracy_max\", \"run_name\": \"SparseNormalizer, XGBoostClassifier\", \"run_properties\": \"<azureml.automl.runtime.shared.model_wrappers.SparseNormalizer object at 0x7f6cc6effc88\", \"primary_metric\": 0.79178414, \"best_metric\": 0.79397665}, {\"run_id\": \"AutoML_4e968e5c-5cbd-4b5a-8325-df62fb150e34_39\", \"run_number\": 44, \"metric\": null, \"status\": \"Canceled\", \"run_type\": \"azureml.scriptrun\", \"training_percent\": \"100\", \"start_time\": \"2021-01-31T10:44:17.709693Z\", \"end_time\": \"2021-01-31T10:44:54.56052Z\", \"created_time\": \"2021-01-31T10:44:05.701808Z\", \"created_time_dt\": \"2021-01-31T10:44:05.701808Z\", \"duration\": \"0:00:48\", \"iteration\": \"39\", \"goal\": \"accuracy_max\", \"run_name\": \"SparseNormalizer, XGBoostClassifier\", \"run_properties\": \"<azureml.automl.runtime.shared.model_wrappers.SparseNormalizer object at 0x7f56c1fa8b70\", \"primary_metric\": 0.79173218, \"best_metric\": 0.79397665}, {\"run_id\": \"AutoML_4e968e5c-5cbd-4b5a-8325-df62fb150e34_40\", \"run_number\": 45, \"metric\": null, \"status\": \"Canceled\", \"run_type\": \"azureml.scriptrun\", \"training_percent\": \"100\", \"start_time\": \"2021-01-31T10:44:30.187852Z\", \"end_time\": \"2021-01-31T10:44:54.043393Z\", \"created_time\": \"2021-01-31T10:44:18.658506Z\", \"created_time_dt\": \"2021-01-31T10:44:18.658506Z\", \"duration\": \"0:00:35\", \"iteration\": \"40\", \"goal\": null, \"run_name\": \"MaxAbsScaler, LightGBM\", \"run_properties\": null}, {\"run_id\": \"AutoML_4e968e5c-5cbd-4b5a-8325-df62fb150e34_41\", \"run_number\": 46, \"metric\": null, \"status\": \"Completed\", \"run_type\": \"azureml.scriptrun\", \"training_percent\": \"100\", \"start_time\": \"2021-01-31T10:45:09.948735Z\", \"end_time\": \"2021-01-31T10:46:56.604736Z\", \"created_time\": \"2021-01-31T10:44:56.51907Z\", \"created_time_dt\": \"2021-01-31T10:44:56.51907Z\", \"duration\": \"0:02:00\", \"iteration\": \"41\", \"goal\": \"accuracy_max\", \"run_name\": \"VotingEnsemble\", \"run_properties\": \"classification_labels=None,\\n                              estimators=[('28',\\n                                           Pipeline(memory=None,\\n                                                    steps=[('maxabsscaler',\\n                                                            MaxAbsScaler(copy=True\", \"primary_metric\": 0.7991443, \"best_metric\": 0.7991443}, {\"run_id\": \"AutoML_4e968e5c-5cbd-4b5a-8325-df62fb150e34_42\", \"run_number\": 47, \"metric\": null, \"status\": \"Completed\", \"run_type\": \"azureml.scriptrun\", \"training_percent\": \"100\", \"start_time\": \"2021-01-31T10:45:10.80784Z\", \"end_time\": \"2021-01-31T10:47:09.87535Z\", \"created_time\": \"2021-01-31T10:44:56.648485Z\", \"created_time_dt\": \"2021-01-31T10:44:56.648485Z\", \"duration\": \"0:02:13\", \"iteration\": \"42\", \"goal\": \"accuracy_max\", \"run_name\": \"StackEnsemble\", \"run_properties\": \"base_learners=[('28',\\n                                        Pipeline(memory=None,\\n                                                 steps=[('maxabsscaler',\\n                                                         MaxAbsScaler(copy=True\", \"primary_metric\": 0.79413303, \"best_metric\": 0.7991443}], \"children_metrics\": {\"categories\": [0], \"series\": {\"log_loss\": [{\"categories\": [\"0\", \"1\", \"2\", \"3\", \"4\", \"5\", \"6\", \"7\", \"8\", \"9\", \"10\", \"11\", \"12\", \"13\", \"14\", \"15\", \"16\", \"17\", \"18\", \"19\", \"20\", \"21\", \"22\", \"23\", \"24\", \"25\", \"26\", \"27\", \"28\", \"29\", \"30\", \"31\", \"32\", \"33\", \"34\", \"35\", \"36\", \"37\", \"38\", \"39\", \"41\", \"42\"], \"mode\": \"markers\", \"name\": \"log_loss\", \"stepped\": false, \"type\": \"scatter\", \"data\": [0.4400500364491352, 0.4386354114873188, 0.4652062886629782, 0.488721018121018, 0.5941619113427363, 0.5973640825610419, 0.4419084885909938, 0.4465308714829478, 0.4507116548732177, 0.5170384212089658, 0.45044311548359256, 0.4514189893773522, 0.4547653302404792, 0.46025080181773603, 0.4564613011926856, 0.45542804924345565, 0.4560870925834613, 0.4454680689319326, 0.4453540563432192, 0.47225131503399886, 0.444389411608047, 0.49615088412791214, 0.49023356861968714, 0.4407186636374646, 0.5512152364976773, 0.47214764875268883, 0.4635414672624993, 0.45416801400255197, 0.44112465404025364, 0.44791755767671343, 0.5616648112147737, 0.4614095293749644, 0.4535326011029134, 0.5141956104249849, 0.4498860694409587, 0.5616309009302981, 0.44922970556830244, 0.4394759691567066, 0.49000418109975985, 0.44527131888821836, 0.47025256974514756, 0.43692258856429733]}, {\"categories\": [\"0\", \"1\", \"2\", \"3\", \"4\", \"5\", \"6\", \"7\", \"8\", \"9\", \"10\", \"11\", \"12\", \"13\", \"14\", \"15\", \"16\", \"17\", \"18\", \"19\", \"20\", \"21\", \"22\", \"23\", \"24\", \"25\", \"26\", \"27\", \"28\", \"29\", \"30\", \"31\", \"32\", \"33\", \"34\", \"35\", \"36\", \"37\", \"38\", \"39\", \"41\", \"42\"], \"mode\": \"lines\", \"name\": \"log_loss_min\", \"stepped\": true, \"type\": \"scatter\", \"data\": [0.4400500364491352, 0.4386354114873188, 0.4386354114873188, 0.4386354114873188, 0.4386354114873188, 0.4386354114873188, 0.4386354114873188, 0.4386354114873188, 0.4386354114873188, 0.4386354114873188, 0.4386354114873188, 0.4386354114873188, 0.4386354114873188, 0.4386354114873188, 0.4386354114873188, 0.4386354114873188, 0.4386354114873188, 0.4386354114873188, 0.4386354114873188, 0.4386354114873188, 0.4386354114873188, 0.4386354114873188, 0.4386354114873188, 0.4386354114873188, 0.4386354114873188, 0.4386354114873188, 0.4386354114873188, 0.4386354114873188, 0.4386354114873188, 0.4386354114873188, 0.4386354114873188, 0.4386354114873188, 0.4386354114873188, 0.4386354114873188, 0.4386354114873188, 0.4386354114873188, 0.4386354114873188, 0.4386354114873188, 0.4386354114873188, 0.4386354114873188, 0.4386354114873188, 0.43692258856429733]}], \"average_precision_score_micro\": [{\"categories\": [\"0\", \"1\", \"2\", \"3\", \"4\", \"5\", \"6\", \"7\", \"8\", \"9\", \"10\", \"11\", \"12\", \"13\", \"14\", \"15\", \"16\", \"17\", \"18\", \"19\", \"20\", \"21\", \"22\", \"23\", \"24\", \"25\", \"26\", \"27\", \"28\", \"29\", \"30\", \"31\", \"32\", \"33\", \"34\", \"35\", \"36\", \"37\", \"38\", \"39\", \"41\", \"42\"], \"mode\": \"markers\", \"name\": \"average_precision_score_micro\", \"stepped\": false, \"type\": \"scatter\", \"data\": [0.8629785229519127, 0.8615514678408918, 0.8507929112195702, 0.8425427795147133, 0.7414220164648505, 0.7531019927692969, 0.8615272315772424, 0.8592262025674282, 0.8574165460711394, 0.8417825124299234, 0.8505606851225765, 0.8560092508581484, 0.8538202646317667, 0.8526057861295634, 0.8526751379555886, 0.8558574336374823, 0.8529704943133467, 0.8587617303951001, 0.8614973227962178, 0.8464732833215745, 0.8601735773658469, 0.8580572803817892, 0.8585248309052836, 0.861965352134388, 0.8424927169837098, 0.8442711206794054, 0.8516567174462205, 0.8567091399185557, 0.8603402895076984, 0.8590176462262299, 0.6881813075521931, 0.8512959811098538, 0.8546787991086731, 0.8289098404372595, 0.855963054134194, 0.7730246465900634, 0.8594800633242012, 0.8619860867520988, 0.8578584724405598, 0.8608365328203144, 0.863364237580727, 0.8649963301730288]}, {\"categories\": [\"0\", \"1\", \"2\", \"3\", \"4\", \"5\", \"6\", \"7\", \"8\", \"9\", \"10\", \"11\", \"12\", \"13\", \"14\", \"15\", \"16\", \"17\", \"18\", \"19\", \"20\", \"21\", \"22\", \"23\", \"24\", \"25\", \"26\", \"27\", \"28\", \"29\", \"30\", \"31\", \"32\", \"33\", \"34\", \"35\", \"36\", \"37\", \"38\", \"39\", \"41\", \"42\"], \"mode\": \"lines\", \"name\": \"average_precision_score_micro_max\", \"stepped\": true, \"type\": \"scatter\", \"data\": [0.8629785229519127, 0.8629785229519127, 0.8629785229519127, 0.8629785229519127, 0.8629785229519127, 0.8629785229519127, 0.8629785229519127, 0.8629785229519127, 0.8629785229519127, 0.8629785229519127, 0.8629785229519127, 0.8629785229519127, 0.8629785229519127, 0.8629785229519127, 0.8629785229519127, 0.8629785229519127, 0.8629785229519127, 0.8629785229519127, 0.8629785229519127, 0.8629785229519127, 0.8629785229519127, 0.8629785229519127, 0.8629785229519127, 0.8629785229519127, 0.8629785229519127, 0.8629785229519127, 0.8629785229519127, 0.8629785229519127, 0.8629785229519127, 0.8629785229519127, 0.8629785229519127, 0.8629785229519127, 0.8629785229519127, 0.8629785229519127, 0.8629785229519127, 0.8629785229519127, 0.8629785229519127, 0.8629785229519127, 0.8629785229519127, 0.8629785229519127, 0.863364237580727, 0.8649963301730288]}], \"AUC_weighted\": [{\"categories\": [\"0\", \"1\", \"2\", \"3\", \"4\", \"5\", \"6\", \"7\", \"8\", \"9\", \"10\", \"11\", \"12\", \"13\", \"14\", \"15\", \"16\", \"17\", \"18\", \"19\", \"20\", \"21\", \"22\", \"23\", \"24\", \"25\", \"26\", \"27\", \"28\", \"29\", \"30\", \"31\", \"32\", \"33\", \"34\", \"35\", \"36\", \"37\", \"38\", \"39\", \"41\", \"42\"], \"mode\": \"markers\", \"name\": \"AUC_weighted\", \"stepped\": false, \"type\": \"scatter\", \"data\": [0.7990651914976759, 0.8000309772632157, 0.787379196199326, 0.7730700281256782, 0.7860333139886614, 0.7719136577559231, 0.7989278903599801, 0.7943549426976113, 0.7935444004191774, 0.774209373948823, 0.7894485275951875, 0.7952904497328721, 0.796082154179276, 0.7920856990691472, 0.7950923366837385, 0.7891458395021809, 0.7952240620135782, 0.7973950622166802, 0.7961827666376728, 0.7820931900111356, 0.7966566239863309, 0.7952748267122234, 0.7943020549112128, 0.7983609862448325, 0.7704125934467152, 0.7784110330444542, 0.7907870764406313, 0.791840200855223, 0.7973542319611203, 0.7946659342950235, 0.5, 0.7824000044034183, 0.7943377602379703, 0.7656540114900858, 0.7952358336295895, 0.6713130603578403, 0.7955235496225124, 0.8002930830084637, 0.7942204314834804, 0.7973708986422763, 0.7998160582990923, 0.8020337596059548]}, {\"categories\": [\"0\", \"1\", \"2\", \"3\", \"4\", \"5\", \"6\", \"7\", \"8\", \"9\", \"10\", \"11\", \"12\", \"13\", \"14\", \"15\", \"16\", \"17\", \"18\", \"19\", \"20\", \"21\", \"22\", \"23\", \"24\", \"25\", \"26\", \"27\", \"28\", \"29\", \"30\", \"31\", \"32\", \"33\", \"34\", \"35\", \"36\", \"37\", \"38\", \"39\", \"41\", \"42\"], \"mode\": \"lines\", \"name\": \"AUC_weighted_max\", \"stepped\": true, \"type\": \"scatter\", \"data\": [0.7990651914976759, 0.8000309772632157, 0.8000309772632157, 0.8000309772632157, 0.8000309772632157, 0.8000309772632157, 0.8000309772632157, 0.8000309772632157, 0.8000309772632157, 0.8000309772632157, 0.8000309772632157, 0.8000309772632157, 0.8000309772632157, 0.8000309772632157, 0.8000309772632157, 0.8000309772632157, 0.8000309772632157, 0.8000309772632157, 0.8000309772632157, 0.8000309772632157, 0.8000309772632157, 0.8000309772632157, 0.8000309772632157, 0.8000309772632157, 0.8000309772632157, 0.8000309772632157, 0.8000309772632157, 0.8000309772632157, 0.8000309772632157, 0.8000309772632157, 0.8000309772632157, 0.8000309772632157, 0.8000309772632157, 0.8000309772632157, 0.8000309772632157, 0.8000309772632157, 0.8000309772632157, 0.8002930830084637, 0.8002930830084637, 0.8002930830084637, 0.8002930830084637, 0.8020337596059548]}], \"precision_score_weighted\": [{\"categories\": [\"0\", \"1\", \"2\", \"3\", \"4\", \"5\", \"6\", \"7\", \"8\", \"9\", \"10\", \"11\", \"12\", \"13\", \"14\", \"15\", \"16\", \"17\", \"18\", \"19\", \"20\", \"21\", \"22\", \"23\", \"24\", \"25\", \"26\", \"27\", \"28\", \"29\", \"30\", \"31\", \"32\", \"33\", \"34\", \"35\", \"36\", \"37\", \"38\", \"39\", \"41\", \"42\"], \"mode\": \"markers\", \"name\": \"precision_score_weighted\", \"stepped\": false, \"type\": \"scatter\", \"data\": [0.7915340009705881, 0.7869570975817286, 0.7479777703996051, 0.6955386822924601, 0.7955351556809953, 0.7785977393136687, 0.7805905428339478, 0.7815337684377439, 0.7593543799488583, 0.7500731116448016, 0.7657482394713616, 0.7561035874607708, 0.7609055291257834, 0.7465729322491764, 0.7601364624779278, 0.7625888854708521, 0.7602199727052447, 0.7737705708366514, 0.7849151037113242, 0.7205872197919934, 0.7861696730783694, 0.7672633959251018, 0.7844612623257171, 0.7865307355719084, 0.5635073887631035, 0.7468156302867918, 0.7581529808683957, 0.7553829295498024, 0.786396549745248, 0.7775283342688901, 0.5635073887631035, 0.7531206923850429, 0.7526861908896105, 0.7530440108888959, 0.7638867333026258, 0.5635073887631035, 0.7615530754626477, 0.7824167851940285, 0.7847137627448884, 0.7837987681311449, 0.7989336172737452, 0.7895144337965696]}, {\"categories\": [\"0\", \"1\", \"2\", \"3\", \"4\", \"5\", \"6\", \"7\", \"8\", \"9\", \"10\", \"11\", \"12\", \"13\", \"14\", \"15\", \"16\", \"17\", \"18\", \"19\", \"20\", \"21\", \"22\", \"23\", \"24\", \"25\", \"26\", \"27\", \"28\", \"29\", \"30\", \"31\", \"32\", \"33\", \"34\", \"35\", \"36\", \"37\", \"38\", \"39\", \"41\", \"42\"], \"mode\": \"lines\", \"name\": \"precision_score_weighted_max\", \"stepped\": true, \"type\": \"scatter\", \"data\": [0.7915340009705881, 0.7915340009705881, 0.7915340009705881, 0.7915340009705881, 0.7955351556809953, 0.7955351556809953, 0.7955351556809953, 0.7955351556809953, 0.7955351556809953, 0.7955351556809953, 0.7955351556809953, 0.7955351556809953, 0.7955351556809953, 0.7955351556809953, 0.7955351556809953, 0.7955351556809953, 0.7955351556809953, 0.7955351556809953, 0.7955351556809953, 0.7955351556809953, 0.7955351556809953, 0.7955351556809953, 0.7955351556809953, 0.7955351556809953, 0.7955351556809953, 0.7955351556809953, 0.7955351556809953, 0.7955351556809953, 0.7955351556809953, 0.7955351556809953, 0.7955351556809953, 0.7955351556809953, 0.7955351556809953, 0.7955351556809953, 0.7955351556809953, 0.7955351556809953, 0.7955351556809953, 0.7955351556809953, 0.7955351556809953, 0.7955351556809953, 0.7989336172737452, 0.7989336172737452]}], \"recall_score_weighted\": [{\"categories\": [\"0\", \"1\", \"2\", \"3\", \"4\", \"5\", \"6\", \"7\", \"8\", \"9\", \"10\", \"11\", \"12\", \"13\", \"14\", \"15\", \"16\", \"17\", \"18\", \"19\", \"20\", \"21\", \"22\", \"23\", \"24\", \"25\", \"26\", \"27\", \"28\", \"29\", \"30\", \"31\", \"32\", \"33\", \"34\", \"35\", \"36\", \"37\", \"38\", \"39\", \"41\", \"42\"], \"mode\": \"markers\", \"name\": \"recall_score_weighted\", \"stepped\": false, \"type\": \"scatter\", \"data\": [0.7938719347548757, 0.7934546025746452, 0.7735679537712616, 0.7544101547152147, 0.7492957272530597, 0.7104085367747673, 0.790322533621718, 0.788756785241157, 0.7794134380062876, 0.7747159748867741, 0.7823366705739192, 0.7783172547436064, 0.7809791591396197, 0.7729927647708591, 0.7802484020862659, 0.7799355630285623, 0.7803527862198776, 0.7885478398669463, 0.7914709225748195, 0.7579078542316855, 0.7918363215369181, 0.78353682926178, 0.7920450216860694, 0.7938720982382487, 0.750652162421821, 0.7731499404103105, 0.7791524368014151, 0.7778995411021722, 0.7939766458552333, 0.7875038895419142, 0.750652162421821, 0.7764905187817872, 0.7762814780422758, 0.7763339017105265, 0.7830148813464927, 0.750652162421821, 0.7809267627185978, 0.7922015297684148, 0.7917841430937267, 0.7917321826283658, 0.7991443007788893, 0.7941330313250491]}, {\"categories\": [\"0\", \"1\", \"2\", \"3\", \"4\", \"5\", \"6\", \"7\", \"8\", \"9\", \"10\", \"11\", \"12\", \"13\", \"14\", \"15\", \"16\", \"17\", \"18\", \"19\", \"20\", \"21\", \"22\", \"23\", \"24\", \"25\", \"26\", \"27\", \"28\", \"29\", \"30\", \"31\", \"32\", \"33\", \"34\", \"35\", \"36\", \"37\", \"38\", \"39\", \"41\", \"42\"], \"mode\": \"lines\", \"name\": \"recall_score_weighted_max\", \"stepped\": true, \"type\": \"scatter\", \"data\": [0.7938719347548757, 0.7938719347548757, 0.7938719347548757, 0.7938719347548757, 0.7938719347548757, 0.7938719347548757, 0.7938719347548757, 0.7938719347548757, 0.7938719347548757, 0.7938719347548757, 0.7938719347548757, 0.7938719347548757, 0.7938719347548757, 0.7938719347548757, 0.7938719347548757, 0.7938719347548757, 0.7938719347548757, 0.7938719347548757, 0.7938719347548757, 0.7938719347548757, 0.7938719347548757, 0.7938719347548757, 0.7938719347548757, 0.7938720982382487, 0.7938720982382487, 0.7938720982382487, 0.7938720982382487, 0.7938720982382487, 0.7939766458552333, 0.7939766458552333, 0.7939766458552333, 0.7939766458552333, 0.7939766458552333, 0.7939766458552333, 0.7939766458552333, 0.7939766458552333, 0.7939766458552333, 0.7939766458552333, 0.7939766458552333, 0.7939766458552333, 0.7991443007788893, 0.7991443007788893]}], \"average_precision_score_weighted\": [{\"categories\": [\"0\", \"1\", \"2\", \"3\", \"4\", \"5\", \"6\", \"7\", \"8\", \"9\", \"10\", \"11\", \"12\", \"13\", \"14\", \"15\", \"16\", \"17\", \"18\", \"19\", \"20\", \"21\", \"22\", \"23\", \"24\", \"25\", \"26\", \"27\", \"28\", \"29\", \"30\", \"31\", \"32\", \"33\", \"34\", \"35\", \"36\", \"37\", \"38\", \"39\", \"41\", \"42\"], \"mode\": \"markers\", \"name\": \"average_precision_score_weighted\", \"stepped\": false, \"type\": \"scatter\", \"data\": [0.8137666459366596, 0.8125453153335593, 0.806111569030849, 0.7978013031596435, 0.8049145232496869, 0.7977320532830676, 0.8132449969816046, 0.8099073619156201, 0.8108988411818588, 0.7944477829751398, 0.801613617562887, 0.8121061047680567, 0.8104949911189184, 0.8108103226862428, 0.8092027882642376, 0.8085361597892489, 0.8095427425178844, 0.8123000988777035, 0.811944906857169, 0.8025191547128262, 0.8113232376206353, 0.8094931749000052, 0.8102561042118547, 0.8129632249552892, 0.7983334430967945, 0.7981131134672454, 0.8082168948187931, 0.8109819342061216, 0.8120957448137801, 0.8102716501375085, 0.6257104526825653, 0.8024159882738571, 0.8108358671613972, 0.7794943390090315, 0.8109111374760459, 0.7229933307720884, 0.8138114946827487, 0.8142698088132716, 0.8081837385576229, 0.8117113263063832, 0.8144421690293544, 0.816275246308764]}, {\"categories\": [\"0\", \"1\", \"2\", \"3\", \"4\", \"5\", \"6\", \"7\", \"8\", \"9\", \"10\", \"11\", \"12\", \"13\", \"14\", \"15\", \"16\", \"17\", \"18\", \"19\", \"20\", \"21\", \"22\", \"23\", \"24\", \"25\", \"26\", \"27\", \"28\", \"29\", \"30\", \"31\", \"32\", \"33\", \"34\", \"35\", \"36\", \"37\", \"38\", \"39\", \"41\", \"42\"], \"mode\": \"lines\", \"name\": \"average_precision_score_weighted_max\", \"stepped\": true, \"type\": \"scatter\", \"data\": [0.8137666459366596, 0.8137666459366596, 0.8137666459366596, 0.8137666459366596, 0.8137666459366596, 0.8137666459366596, 0.8137666459366596, 0.8137666459366596, 0.8137666459366596, 0.8137666459366596, 0.8137666459366596, 0.8137666459366596, 0.8137666459366596, 0.8137666459366596, 0.8137666459366596, 0.8137666459366596, 0.8137666459366596, 0.8137666459366596, 0.8137666459366596, 0.8137666459366596, 0.8137666459366596, 0.8137666459366596, 0.8137666459366596, 0.8137666459366596, 0.8137666459366596, 0.8137666459366596, 0.8137666459366596, 0.8137666459366596, 0.8137666459366596, 0.8137666459366596, 0.8137666459366596, 0.8137666459366596, 0.8137666459366596, 0.8137666459366596, 0.8137666459366596, 0.8137666459366596, 0.8138114946827487, 0.8142698088132716, 0.8142698088132716, 0.8142698088132716, 0.8144421690293544, 0.816275246308764]}], \"accuracy\": [{\"categories\": [\"0\", \"1\", \"2\", \"3\", \"4\", \"5\", \"6\", \"7\", \"8\", \"9\", \"10\", \"11\", \"12\", \"13\", \"14\", \"15\", \"16\", \"17\", \"18\", \"19\", \"20\", \"21\", \"22\", \"23\", \"24\", \"25\", \"26\", \"27\", \"28\", \"29\", \"30\", \"31\", \"32\", \"33\", \"34\", \"35\", \"36\", \"37\", \"38\", \"39\", \"41\", \"42\"], \"mode\": \"markers\", \"name\": \"accuracy\", \"stepped\": false, \"type\": \"scatter\", \"data\": [0.7938719347548757, 0.7934546025746452, 0.7735679537712616, 0.7544101547152147, 0.7492957272530597, 0.7104085367747673, 0.790322533621718, 0.788756785241157, 0.7794134380062876, 0.7747159748867741, 0.7823366705739192, 0.7783172547436064, 0.7809791591396197, 0.7729927647708591, 0.7802484020862659, 0.7799355630285623, 0.7803527862198776, 0.7885478398669463, 0.7914709225748195, 0.7579078542316855, 0.7918363215369181, 0.78353682926178, 0.7920450216860694, 0.7938720982382487, 0.750652162421821, 0.7731499404103105, 0.7791524368014151, 0.7778995411021722, 0.7939766458552333, 0.7875038895419142, 0.750652162421821, 0.7764905187817872, 0.7762814780422758, 0.7763339017105265, 0.7830148813464927, 0.750652162421821, 0.7809267627185978, 0.7922015297684148, 0.7917841430937267, 0.7917321826283658, 0.7991443007788893, 0.7941330313250491]}, {\"categories\": [\"0\", \"1\", \"2\", \"3\", \"4\", \"5\", \"6\", \"7\", \"8\", \"9\", \"10\", \"11\", \"12\", \"13\", \"14\", \"15\", \"16\", \"17\", \"18\", \"19\", \"20\", \"21\", \"22\", \"23\", \"24\", \"25\", \"26\", \"27\", \"28\", \"29\", \"30\", \"31\", \"32\", \"33\", \"34\", \"35\", \"36\", \"37\", \"38\", \"39\", \"41\", \"42\"], \"mode\": \"lines\", \"name\": \"accuracy_max\", \"stepped\": true, \"type\": \"scatter\", \"data\": [0.7938719347548757, 0.7938719347548757, 0.7938719347548757, 0.7938719347548757, 0.7938719347548757, 0.7938719347548757, 0.7938719347548757, 0.7938719347548757, 0.7938719347548757, 0.7938719347548757, 0.7938719347548757, 0.7938719347548757, 0.7938719347548757, 0.7938719347548757, 0.7938719347548757, 0.7938719347548757, 0.7938719347548757, 0.7938719347548757, 0.7938719347548757, 0.7938719347548757, 0.7938719347548757, 0.7938719347548757, 0.7938719347548757, 0.7938720982382487, 0.7938720982382487, 0.7938720982382487, 0.7938720982382487, 0.7938720982382487, 0.7939766458552333, 0.7939766458552333, 0.7939766458552333, 0.7939766458552333, 0.7939766458552333, 0.7939766458552333, 0.7939766458552333, 0.7939766458552333, 0.7939766458552333, 0.7939766458552333, 0.7939766458552333, 0.7939766458552333, 0.7991443007788893, 0.7991443007788893]}], \"AUC_macro\": [{\"categories\": [\"0\", \"1\", \"2\", \"3\", \"4\", \"5\", \"6\", \"7\", \"8\", \"9\", \"10\", \"11\", \"12\", \"13\", \"14\", \"15\", \"16\", \"17\", \"18\", \"19\", \"20\", \"21\", \"22\", \"23\", \"24\", \"25\", \"26\", \"27\", \"28\", \"29\", \"30\", \"31\", \"32\", \"33\", \"34\", \"35\", \"36\", \"37\", \"38\", \"39\", \"41\", \"42\"], \"mode\": \"markers\", \"name\": \"AUC_macro\", \"stepped\": false, \"type\": \"scatter\", \"data\": [0.7990651914976759, 0.8000310122838016, 0.787379196199326, 0.7730700281256782, 0.7860333139886614, 0.771913657755923, 0.7989278903599801, 0.7943549426976112, 0.7935444004191773, 0.7742093739488229, 0.7894485275951875, 0.7952904497328721, 0.796082154179276, 0.7920856990691472, 0.7950923366837386, 0.7891458395021809, 0.7952240620135782, 0.7973950622166802, 0.7961827578825263, 0.7820931900111356, 0.7966566239863306, 0.7952748267122234, 0.7943020549112128, 0.7983609951373406, 0.7704125934467152, 0.7784110330444542, 0.7907870764406313, 0.791840200855223, 0.7973542319611202, 0.7946659342950235, 0.5, 0.7824000044034181, 0.7943377602379702, 0.7656540114900858, 0.7952358336295895, 0.6713130603578403, 0.7955235496225124, 0.8002930917636102, 0.7942204314834804, 0.7973708792046306, 0.7998160582990923, 0.8020337596059548]}, {\"categories\": [\"0\", \"1\", \"2\", \"3\", \"4\", \"5\", \"6\", \"7\", \"8\", \"9\", \"10\", \"11\", \"12\", \"13\", \"14\", \"15\", \"16\", \"17\", \"18\", \"19\", \"20\", \"21\", \"22\", \"23\", \"24\", \"25\", \"26\", \"27\", \"28\", \"29\", \"30\", \"31\", \"32\", \"33\", \"34\", \"35\", \"36\", \"37\", \"38\", \"39\", \"41\", \"42\"], \"mode\": \"lines\", \"name\": \"AUC_macro_max\", \"stepped\": true, \"type\": \"scatter\", \"data\": [0.7990651914976759, 0.8000310122838016, 0.8000310122838016, 0.8000310122838016, 0.8000310122838016, 0.8000310122838016, 0.8000310122838016, 0.8000310122838016, 0.8000310122838016, 0.8000310122838016, 0.8000310122838016, 0.8000310122838016, 0.8000310122838016, 0.8000310122838016, 0.8000310122838016, 0.8000310122838016, 0.8000310122838016, 0.8000310122838016, 0.8000310122838016, 0.8000310122838016, 0.8000310122838016, 0.8000310122838016, 0.8000310122838016, 0.8000310122838016, 0.8000310122838016, 0.8000310122838016, 0.8000310122838016, 0.8000310122838016, 0.8000310122838016, 0.8000310122838016, 0.8000310122838016, 0.8000310122838016, 0.8000310122838016, 0.8000310122838016, 0.8000310122838016, 0.8000310122838016, 0.8000310122838016, 0.8002930917636102, 0.8002930917636102, 0.8002930917636102, 0.8002930917636102, 0.8020337596059548]}], \"balanced_accuracy\": [{\"categories\": [\"0\", \"1\", \"2\", \"3\", \"4\", \"5\", \"6\", \"7\", \"8\", \"9\", \"10\", \"11\", \"12\", \"13\", \"14\", \"15\", \"16\", \"17\", \"18\", \"19\", \"20\", \"21\", \"22\", \"23\", \"24\", \"25\", \"26\", \"27\", \"28\", \"29\", \"30\", \"31\", \"32\", \"33\", \"34\", \"35\", \"36\", \"37\", \"38\", \"39\", \"41\", \"42\"], \"mode\": \"markers\", \"name\": \"balanced_accuracy\", \"stepped\": false, \"type\": \"scatter\", \"data\": [0.7185357351109539, 0.70674775618263, 0.6110778076853896, 0.5176010080523481, 0.7421141360620002, 0.7171316420189127, 0.6929817760520327, 0.6986872680916489, 0.6457174816528464, 0.6213795897104137, 0.6621071509840707, 0.6342679512705705, 0.64627585707193, 0.6052414283580605, 0.6459267356978617, 0.6568421294797546, 0.6458605888824732, 0.6731602907373395, 0.7038987529024636, 0.5389491104772051, 0.7068595565017688, 0.6637260890462674, 0.7010780479809662, 0.7045665852549278, 0.5, 0.6104049885853595, 0.6410481521687058, 0.6318177231673618, 0.7041758027119122, 0.6892715844972459, 0.5, 0.6283733397610239, 0.6259958535891574, 0.6288182726406933, 0.65078809773595, 0.5, 0.6494093430470814, 0.6947974539483998, 0.7028078734576166, 0.7000349449225373, 0.7309333058275644, 0.7123396422987022]}, {\"categories\": [\"0\", \"1\", \"2\", \"3\", \"4\", \"5\", \"6\", \"7\", \"8\", \"9\", \"10\", \"11\", \"12\", \"13\", \"14\", \"15\", \"16\", \"17\", \"18\", \"19\", \"20\", \"21\", \"22\", \"23\", \"24\", \"25\", \"26\", \"27\", \"28\", \"29\", \"30\", \"31\", \"32\", \"33\", \"34\", \"35\", \"36\", \"37\", \"38\", \"39\", \"41\", \"42\"], \"mode\": \"lines\", \"name\": \"balanced_accuracy_max\", \"stepped\": true, \"type\": \"scatter\", \"data\": [0.7185357351109539, 0.7185357351109539, 0.7185357351109539, 0.7185357351109539, 0.7421141360620002, 0.7421141360620002, 0.7421141360620002, 0.7421141360620002, 0.7421141360620002, 0.7421141360620002, 0.7421141360620002, 0.7421141360620002, 0.7421141360620002, 0.7421141360620002, 0.7421141360620002, 0.7421141360620002, 0.7421141360620002, 0.7421141360620002, 0.7421141360620002, 0.7421141360620002, 0.7421141360620002, 0.7421141360620002, 0.7421141360620002, 0.7421141360620002, 0.7421141360620002, 0.7421141360620002, 0.7421141360620002, 0.7421141360620002, 0.7421141360620002, 0.7421141360620002, 0.7421141360620002, 0.7421141360620002, 0.7421141360620002, 0.7421141360620002, 0.7421141360620002, 0.7421141360620002, 0.7421141360620002, 0.7421141360620002, 0.7421141360620002, 0.7421141360620002, 0.7421141360620002, 0.7421141360620002]}], \"f1_score_macro\": [{\"categories\": [\"0\", \"1\", \"2\", \"3\", \"4\", \"5\", \"6\", \"7\", \"8\", \"9\", \"10\", \"11\", \"12\", \"13\", \"14\", \"15\", \"16\", \"17\", \"18\", \"19\", \"20\", \"21\", \"22\", \"23\", \"24\", \"25\", \"26\", \"27\", \"28\", \"29\", \"30\", \"31\", \"32\", \"33\", \"34\", \"35\", \"36\", \"37\", \"38\", \"39\", \"41\", \"42\"], \"mode\": \"markers\", \"name\": \"f1_score_macro\", \"stepped\": false, \"type\": \"scatter\", \"data\": [0.7211387829956304, 0.7138393854710382, 0.6208925315937184, 0.46791483891895885, 0.705102535838747, 0.6708731049332692, 0.7032133258271015, 0.7061730450866797, 0.6613403499715931, 0.6355935715655072, 0.6765422140147335, 0.6500489481177414, 0.6623199909693047, 0.6168794209401558, 0.6617692414591673, 0.6710723335541824, 0.6617361448649647, 0.6878870125185068, 0.7109205520664682, 0.5151764319249121, 0.7129491561269283, 0.6779466264081654, 0.7093485180855096, 0.7126981544698333, 0.42877895948114375, 0.6230734970448691, 0.6567579051669871, 0.6473561844984733, 0.7125229229062408, 0.6992409183036342, 0.42877895948114375, 0.6435277713986611, 0.6410357303397859, 0.6439657347807609, 0.6670630377214033, 0.42877895948114375, 0.6649911671107714, 0.7053283231724051, 0.7103838583894962, 0.7085653206829414, 0.7312579868040309, 0.7175547059900215]}, {\"categories\": [\"0\", \"1\", \"2\", \"3\", \"4\", \"5\", \"6\", \"7\", \"8\", \"9\", \"10\", \"11\", \"12\", \"13\", \"14\", \"15\", \"16\", \"17\", \"18\", \"19\", \"20\", \"21\", \"22\", \"23\", \"24\", \"25\", \"26\", \"27\", \"28\", \"29\", \"30\", \"31\", \"32\", \"33\", \"34\", \"35\", \"36\", \"37\", \"38\", \"39\", \"41\", \"42\"], \"mode\": \"lines\", \"name\": \"f1_score_macro_max\", \"stepped\": true, \"type\": \"scatter\", \"data\": [0.7211387829956304, 0.7211387829956304, 0.7211387829956304, 0.7211387829956304, 0.7211387829956304, 0.7211387829956304, 0.7211387829956304, 0.7211387829956304, 0.7211387829956304, 0.7211387829956304, 0.7211387829956304, 0.7211387829956304, 0.7211387829956304, 0.7211387829956304, 0.7211387829956304, 0.7211387829956304, 0.7211387829956304, 0.7211387829956304, 0.7211387829956304, 0.7211387829956304, 0.7211387829956304, 0.7211387829956304, 0.7211387829956304, 0.7211387829956304, 0.7211387829956304, 0.7211387829956304, 0.7211387829956304, 0.7211387829956304, 0.7211387829956304, 0.7211387829956304, 0.7211387829956304, 0.7211387829956304, 0.7211387829956304, 0.7211387829956304, 0.7211387829956304, 0.7211387829956304, 0.7211387829956304, 0.7211387829956304, 0.7211387829956304, 0.7211387829956304, 0.7312579868040309, 0.7312579868040309]}], \"norm_macro_recall\": [{\"categories\": [\"0\", \"1\", \"2\", \"3\", \"4\", \"5\", \"6\", \"7\", \"8\", \"9\", \"10\", \"11\", \"12\", \"13\", \"14\", \"15\", \"16\", \"17\", \"18\", \"19\", \"20\", \"21\", \"22\", \"23\", \"24\", \"25\", \"26\", \"27\", \"28\", \"29\", \"30\", \"31\", \"32\", \"33\", \"34\", \"35\", \"36\", \"37\", \"38\", \"39\", \"41\", \"42\"], \"mode\": \"markers\", \"name\": \"norm_macro_recall\", \"stepped\": false, \"type\": \"scatter\", \"data\": [0.43707147022190806, 0.41349551236526, 0.22215561537077916, 0.03520201610469607, 0.48422827212400027, 0.4342632840378256, 0.38596355210406535, 0.39737453618329777, 0.29143496330569285, 0.2427591794208274, 0.3242143019681415, 0.2685359025411408, 0.2925517141438601, 0.21048285671612105, 0.29185347139572354, 0.31368425895950913, 0.2917211777649466, 0.3463205814746791, 0.40779750580492724, 0.07789822095441012, 0.4137191130035376, 0.32745217809253485, 0.40215609596193236, 0.40913317050985576, 0.0, 0.22080997717071896, 0.28209630433741156, 0.2636354463347237, 0.4083516054238244, 0.37854316899449186, 0.0, 0.2567466795220479, 0.25199170717831476, 0.2576365452813866, 0.30157619547189995, 0.0, 0.29881868609416296, 0.3895949078967995, 0.4056157469152334, 0.40006988984507463, 0.4618666116551289, 0.42467928459740456]}, {\"categories\": [\"0\", \"1\", \"2\", \"3\", \"4\", \"5\", \"6\", \"7\", \"8\", \"9\", \"10\", \"11\", \"12\", \"13\", \"14\", \"15\", \"16\", \"17\", \"18\", \"19\", \"20\", \"21\", \"22\", \"23\", \"24\", \"25\", \"26\", \"27\", \"28\", \"29\", \"30\", \"31\", \"32\", \"33\", \"34\", \"35\", \"36\", \"37\", \"38\", \"39\", \"41\", \"42\"], \"mode\": \"lines\", \"name\": \"norm_macro_recall_max\", \"stepped\": true, \"type\": \"scatter\", \"data\": [0.43707147022190806, 0.43707147022190806, 0.43707147022190806, 0.43707147022190806, 0.48422827212400027, 0.48422827212400027, 0.48422827212400027, 0.48422827212400027, 0.48422827212400027, 0.48422827212400027, 0.48422827212400027, 0.48422827212400027, 0.48422827212400027, 0.48422827212400027, 0.48422827212400027, 0.48422827212400027, 0.48422827212400027, 0.48422827212400027, 0.48422827212400027, 0.48422827212400027, 0.48422827212400027, 0.48422827212400027, 0.48422827212400027, 0.48422827212400027, 0.48422827212400027, 0.48422827212400027, 0.48422827212400027, 0.48422827212400027, 0.48422827212400027, 0.48422827212400027, 0.48422827212400027, 0.48422827212400027, 0.48422827212400027, 0.48422827212400027, 0.48422827212400027, 0.48422827212400027, 0.48422827212400027, 0.48422827212400027, 0.48422827212400027, 0.48422827212400027, 0.48422827212400027, 0.48422827212400027]}], \"matthews_correlation\": [{\"categories\": [\"0\", \"1\", \"2\", \"3\", \"4\", \"5\", \"6\", \"7\", \"8\", \"9\", \"10\", \"11\", \"12\", \"13\", \"14\", \"15\", \"16\", \"17\", \"18\", \"19\", \"20\", \"21\", \"22\", \"23\", \"24\", \"25\", \"26\", \"27\", \"28\", \"29\", \"30\", \"31\", \"32\", \"33\", \"34\", \"35\", \"36\", \"37\", \"38\", \"39\", \"41\", \"42\"], \"mode\": \"markers\", \"name\": \"matthews_correlation\", \"stepped\": false, \"type\": \"scatter\", \"data\": [0.4427272506371036, 0.4295693559896157, 0.2935367691399981, 0.0890805271098292, 0.4363732732250096, 0.38321998760672543, 0.41085716389351346, 0.4146956164921714, 0.3437120574588596, 0.3087813098857196, 0.3659084850473814, 0.3296632238907583, 0.3469697742277324, 0.2883599103864821, 0.345311141932471, 0.35655398285580187, 0.34542054808204553, 0.38769099493243725, 0.42398994644114385, 0.16385266266382356, 0.427599270903368, 0.36944671209099755, 0.4219547848356259, 0.4279308758592573, 0.0, 0.2937081124005342, 0.3382293436045115, 0.3264151697523176, 0.42751504519223804, 0.4028141670112998, 0.0, 0.3198435685055183, 0.3171898030934107, 0.3200560511374211, 0.35539019435680447, 0.0, 0.3501334619866022, 0.41548403092737657, 0.4232392743417364, 0.4202835833894872, 0.4626083897633532, 0.4366332448514504]}, {\"categories\": [\"0\", \"1\", \"2\", \"3\", \"4\", \"5\", \"6\", \"7\", \"8\", \"9\", \"10\", \"11\", \"12\", \"13\", \"14\", \"15\", \"16\", \"17\", \"18\", \"19\", \"20\", \"21\", \"22\", \"23\", \"24\", \"25\", \"26\", \"27\", \"28\", \"29\", \"30\", \"31\", \"32\", \"33\", \"34\", \"35\", \"36\", \"37\", \"38\", \"39\", \"41\", \"42\"], \"mode\": \"lines\", \"name\": \"matthews_correlation_max\", \"stepped\": true, \"type\": \"scatter\", \"data\": [0.4427272506371036, 0.4427272506371036, 0.4427272506371036, 0.4427272506371036, 0.4427272506371036, 0.4427272506371036, 0.4427272506371036, 0.4427272506371036, 0.4427272506371036, 0.4427272506371036, 0.4427272506371036, 0.4427272506371036, 0.4427272506371036, 0.4427272506371036, 0.4427272506371036, 0.4427272506371036, 0.4427272506371036, 0.4427272506371036, 0.4427272506371036, 0.4427272506371036, 0.4427272506371036, 0.4427272506371036, 0.4427272506371036, 0.4427272506371036, 0.4427272506371036, 0.4427272506371036, 0.4427272506371036, 0.4427272506371036, 0.4427272506371036, 0.4427272506371036, 0.4427272506371036, 0.4427272506371036, 0.4427272506371036, 0.4427272506371036, 0.4427272506371036, 0.4427272506371036, 0.4427272506371036, 0.4427272506371036, 0.4427272506371036, 0.4427272506371036, 0.4626083897633532, 0.4626083897633532]}], \"f1_score_micro\": [{\"categories\": [\"0\", \"1\", \"2\", \"3\", \"4\", \"5\", \"6\", \"7\", \"8\", \"9\", \"10\", \"11\", \"12\", \"13\", \"14\", \"15\", \"16\", \"17\", \"18\", \"19\", \"20\", \"21\", \"22\", \"23\", \"24\", \"25\", \"26\", \"27\", \"28\", \"29\", \"30\", \"31\", \"32\", \"33\", \"34\", \"35\", \"36\", \"37\", \"38\", \"39\", \"41\", \"42\"], \"mode\": \"markers\", \"name\": \"f1_score_micro\", \"stepped\": false, \"type\": \"scatter\", \"data\": [0.7938719347548757, 0.7934546025746452, 0.7735679537712616, 0.7544101547152147, 0.7492957272530598, 0.7104085367747673, 0.790322533621718, 0.788756785241157, 0.7794134380062876, 0.7747159748867741, 0.7823366705739192, 0.7783172547436064, 0.7809791591396197, 0.7729927647708591, 0.7802484020862659, 0.7799355630285623, 0.7803527862198776, 0.7885478398669463, 0.7914709225748197, 0.7579078542316855, 0.7918363215369181, 0.78353682926178, 0.7920450216860694, 0.7938720982382487, 0.750652162421821, 0.7731499404103105, 0.7791524368014151, 0.7778995411021722, 0.7939766458552333, 0.7875038895419142, 0.750652162421821, 0.7764905187817872, 0.7762814780422758, 0.7763339017105265, 0.7830148813464927, 0.750652162421821, 0.7809267627185978, 0.7922015297684147, 0.7917841430937267, 0.7917321826283658, 0.7991443007788893, 0.7941330313250491]}, {\"categories\": [\"0\", \"1\", \"2\", \"3\", \"4\", \"5\", \"6\", \"7\", \"8\", \"9\", \"10\", \"11\", \"12\", \"13\", \"14\", \"15\", \"16\", \"17\", \"18\", \"19\", \"20\", \"21\", \"22\", \"23\", \"24\", \"25\", \"26\", \"27\", \"28\", \"29\", \"30\", \"31\", \"32\", \"33\", \"34\", \"35\", \"36\", \"37\", \"38\", \"39\", \"41\", \"42\"], \"mode\": \"lines\", \"name\": \"f1_score_micro_max\", \"stepped\": true, \"type\": \"scatter\", \"data\": [0.7938719347548757, 0.7938719347548757, 0.7938719347548757, 0.7938719347548757, 0.7938719347548757, 0.7938719347548757, 0.7938719347548757, 0.7938719347548757, 0.7938719347548757, 0.7938719347548757, 0.7938719347548757, 0.7938719347548757, 0.7938719347548757, 0.7938719347548757, 0.7938719347548757, 0.7938719347548757, 0.7938719347548757, 0.7938719347548757, 0.7938719347548757, 0.7938719347548757, 0.7938719347548757, 0.7938719347548757, 0.7938719347548757, 0.7938720982382487, 0.7938720982382487, 0.7938720982382487, 0.7938720982382487, 0.7938720982382487, 0.7939766458552333, 0.7939766458552333, 0.7939766458552333, 0.7939766458552333, 0.7939766458552333, 0.7939766458552333, 0.7939766458552333, 0.7939766458552333, 0.7939766458552333, 0.7939766458552333, 0.7939766458552333, 0.7939766458552333, 0.7991443007788893, 0.7991443007788893]}], \"weighted_accuracy\": [{\"categories\": [\"0\", \"1\", \"2\", \"3\", \"4\", \"5\", \"6\", \"7\", \"8\", \"9\", \"10\", \"11\", \"12\", \"13\", \"14\", \"15\", \"16\", \"17\", \"18\", \"19\", \"20\", \"21\", \"22\", \"23\", \"24\", \"25\", \"26\", \"27\", \"28\", \"29\", \"30\", \"31\", \"32\", \"33\", \"34\", \"35\", \"36\", \"37\", \"38\", \"39\", \"41\", \"42\"], \"mode\": \"markers\", \"name\": \"weighted_accuracy\", \"stepped\": false, \"type\": \"scatter\", \"data\": [0.8389676964840191, 0.8453554370927667, 0.8706518961447607, 0.8959944866699148, 0.7535782693423034, 0.7063814940585678, 0.8485809697575284, 0.8426603172514234, 0.8593511247754215, 0.8664437873589131, 0.8542387663353834, 0.864490252555002, 0.86154645816973, 0.8733783267602693, 0.8605876365017059, 0.8535945959469944, 0.8607953331129016, 0.8576095207086235, 0.8439204399048492, 0.8889007646870832, 0.842734164349519, 0.8551809659109446, 0.846504833463165, 0.8473269683884475, 0.9005442636628962, 0.8704773286204258, 0.8617709000853953, 0.8653107688294377, 0.8476884476936464, 0.84631643733006, 0.9005442636628962, 0.8650981283065468, 0.8662105128418351, 0.8645787058455685, 0.8621098108582537, 0.9005442636628962, 0.8596258660076824, 0.8505282886402187, 0.8450856471088308, 0.8466592596347556, 0.8399343028031654, 0.8431133868634003]}, {\"categories\": [\"0\", \"1\", \"2\", \"3\", \"4\", \"5\", \"6\", \"7\", \"8\", \"9\", \"10\", \"11\", \"12\", \"13\", \"14\", \"15\", \"16\", \"17\", \"18\", \"19\", \"20\", \"21\", \"22\", \"23\", \"24\", \"25\", \"26\", \"27\", \"28\", \"29\", \"30\", \"31\", \"32\", \"33\", \"34\", \"35\", \"36\", \"37\", \"38\", \"39\", \"41\", \"42\"], \"mode\": \"lines\", \"name\": \"weighted_accuracy_max\", \"stepped\": true, \"type\": \"scatter\", \"data\": [0.8389676964840191, 0.8453554370927667, 0.8706518961447607, 0.8959944866699148, 0.8959944866699148, 0.8959944866699148, 0.8959944866699148, 0.8959944866699148, 0.8959944866699148, 0.8959944866699148, 0.8959944866699148, 0.8959944866699148, 0.8959944866699148, 0.8959944866699148, 0.8959944866699148, 0.8959944866699148, 0.8959944866699148, 0.8959944866699148, 0.8959944866699148, 0.8959944866699148, 0.8959944866699148, 0.8959944866699148, 0.8959944866699148, 0.8959944866699148, 0.9005442636628962, 0.9005442636628962, 0.9005442636628962, 0.9005442636628962, 0.9005442636628962, 0.9005442636628962, 0.9005442636628962, 0.9005442636628962, 0.9005442636628962, 0.9005442636628962, 0.9005442636628962, 0.9005442636628962, 0.9005442636628962, 0.9005442636628962, 0.9005442636628962, 0.9005442636628962, 0.9005442636628962, 0.9005442636628962]}], \"f1_score_weighted\": [{\"categories\": [\"0\", \"1\", \"2\", \"3\", \"4\", \"5\", \"6\", \"7\", \"8\", \"9\", \"10\", \"11\", \"12\", \"13\", \"14\", \"15\", \"16\", \"17\", \"18\", \"19\", \"20\", \"21\", \"22\", \"23\", \"24\", \"25\", \"26\", \"27\", \"28\", \"29\", \"30\", \"31\", \"32\", \"33\", \"34\", \"35\", \"36\", \"37\", \"38\", \"39\", \"41\", \"42\"], \"mode\": \"markers\", \"name\": \"f1_score_weighted\", \"stepped\": false, \"type\": \"scatter\", \"data\": [0.7925337716003232, 0.7894967816270205, 0.7414153300189791, 0.6636358837020758, 0.7621477120989798, 0.7279488153021771, 0.7838012077704049, 0.7842649780555375, 0.7615991701125966, 0.7484453124406575, 0.76928695402713, 0.7562459963390246, 0.7626664865068726, 0.7394130086923882, 0.7621239136382807, 0.7659106706292256, 0.7621523442821608, 0.7767217230824867, 0.7873872722296789, 0.6870505180265951, 0.7883645702588347, 0.7703729478091084, 0.7870346557925847, 0.7892521011112082, 0.6437464058813542, 0.7423106412948759, 0.7594899589987871, 0.7548714983006807, 0.7892630606641429, 0.7808966009908435, 0.6437464058813542, 0.7526472904822642, 0.7514473648705365, 0.7527781563948984, 0.7655595479413196, 0.6437464058813542, 0.7637590987932145, 0.7855048792966579, 0.7873225090082058, 0.7865837234020021, 0.7990042291391382, 0.7912521366179799]}, {\"categories\": [\"0\", \"1\", \"2\", \"3\", \"4\", \"5\", \"6\", \"7\", \"8\", \"9\", \"10\", \"11\", \"12\", \"13\", \"14\", \"15\", \"16\", \"17\", \"18\", \"19\", \"20\", \"21\", \"22\", \"23\", \"24\", \"25\", \"26\", \"27\", \"28\", \"29\", \"30\", \"31\", \"32\", \"33\", \"34\", \"35\", \"36\", \"37\", \"38\", \"39\", \"41\", \"42\"], \"mode\": \"lines\", \"name\": \"f1_score_weighted_max\", \"stepped\": true, \"type\": \"scatter\", \"data\": [0.7925337716003232, 0.7925337716003232, 0.7925337716003232, 0.7925337716003232, 0.7925337716003232, 0.7925337716003232, 0.7925337716003232, 0.7925337716003232, 0.7925337716003232, 0.7925337716003232, 0.7925337716003232, 0.7925337716003232, 0.7925337716003232, 0.7925337716003232, 0.7925337716003232, 0.7925337716003232, 0.7925337716003232, 0.7925337716003232, 0.7925337716003232, 0.7925337716003232, 0.7925337716003232, 0.7925337716003232, 0.7925337716003232, 0.7925337716003232, 0.7925337716003232, 0.7925337716003232, 0.7925337716003232, 0.7925337716003232, 0.7925337716003232, 0.7925337716003232, 0.7925337716003232, 0.7925337716003232, 0.7925337716003232, 0.7925337716003232, 0.7925337716003232, 0.7925337716003232, 0.7925337716003232, 0.7925337716003232, 0.7925337716003232, 0.7925337716003232, 0.7990042291391382, 0.7990042291391382]}], \"precision_score_micro\": [{\"categories\": [\"0\", \"1\", \"2\", \"3\", \"4\", \"5\", \"6\", \"7\", \"8\", \"9\", \"10\", \"11\", \"12\", \"13\", \"14\", \"15\", \"16\", \"17\", \"18\", \"19\", \"20\", \"21\", \"22\", \"23\", \"24\", \"25\", \"26\", \"27\", \"28\", \"29\", \"30\", \"31\", \"32\", \"33\", \"34\", \"35\", \"36\", \"37\", \"38\", \"39\", \"41\", \"42\"], \"mode\": \"markers\", \"name\": \"precision_score_micro\", \"stepped\": false, \"type\": \"scatter\", \"data\": [0.7938719347548757, 0.7934546025746452, 0.7735679537712616, 0.7544101547152147, 0.7492957272530597, 0.7104085367747673, 0.790322533621718, 0.788756785241157, 0.7794134380062876, 0.7747159748867741, 0.7823366705739192, 0.7783172547436064, 0.7809791591396197, 0.7729927647708591, 0.7802484020862659, 0.7799355630285623, 0.7803527862198776, 0.7885478398669463, 0.7914709225748195, 0.7579078542316855, 0.7918363215369181, 0.78353682926178, 0.7920450216860694, 0.7938720982382487, 0.750652162421821, 0.7731499404103105, 0.7791524368014151, 0.7778995411021722, 0.7939766458552333, 0.7875038895419142, 0.750652162421821, 0.7764905187817872, 0.7762814780422758, 0.7763339017105265, 0.7830148813464927, 0.750652162421821, 0.7809267627185978, 0.7922015297684148, 0.7917841430937267, 0.7917321826283658, 0.7991443007788893, 0.7941330313250491]}, {\"categories\": [\"0\", \"1\", \"2\", \"3\", \"4\", \"5\", \"6\", \"7\", \"8\", \"9\", \"10\", \"11\", \"12\", \"13\", \"14\", \"15\", \"16\", \"17\", \"18\", \"19\", \"20\", \"21\", \"22\", \"23\", \"24\", \"25\", \"26\", \"27\", \"28\", \"29\", \"30\", \"31\", \"32\", \"33\", \"34\", \"35\", \"36\", \"37\", \"38\", \"39\", \"41\", \"42\"], \"mode\": \"lines\", \"name\": \"precision_score_micro_max\", \"stepped\": true, \"type\": \"scatter\", \"data\": [0.7938719347548757, 0.7938719347548757, 0.7938719347548757, 0.7938719347548757, 0.7938719347548757, 0.7938719347548757, 0.7938719347548757, 0.7938719347548757, 0.7938719347548757, 0.7938719347548757, 0.7938719347548757, 0.7938719347548757, 0.7938719347548757, 0.7938719347548757, 0.7938719347548757, 0.7938719347548757, 0.7938719347548757, 0.7938719347548757, 0.7938719347548757, 0.7938719347548757, 0.7938719347548757, 0.7938719347548757, 0.7938719347548757, 0.7938720982382487, 0.7938720982382487, 0.7938720982382487, 0.7938720982382487, 0.7938720982382487, 0.7939766458552333, 0.7939766458552333, 0.7939766458552333, 0.7939766458552333, 0.7939766458552333, 0.7939766458552333, 0.7939766458552333, 0.7939766458552333, 0.7939766458552333, 0.7939766458552333, 0.7939766458552333, 0.7939766458552333, 0.7991443007788893, 0.7991443007788893]}], \"AUC_micro\": [{\"categories\": [\"0\", \"1\", \"2\", \"3\", \"4\", \"5\", \"6\", \"7\", \"8\", \"9\", \"10\", \"11\", \"12\", \"13\", \"14\", \"15\", \"16\", \"17\", \"18\", \"19\", \"20\", \"21\", \"22\", \"23\", \"24\", \"25\", \"26\", \"27\", \"28\", \"29\", \"30\", \"31\", \"32\", \"33\", \"34\", \"35\", \"36\", \"37\", \"38\", \"39\", \"41\", \"42\"], \"mode\": \"markers\", \"name\": \"AUC_micro\", \"stepped\": false, \"type\": \"scatter\", \"data\": [0.8753836680167468, 0.8754741172813076, 0.8622959062029943, 0.853225620972758, 0.7881895999108897, 0.7735518174057364, 0.8737943399553956, 0.8717037548487298, 0.8689311466880936, 0.8570179344676833, 0.8679800826795123, 0.8681060904411512, 0.867700036873541, 0.8634815756955231, 0.8669574490804971, 0.8661326440552841, 0.8671132314026699, 0.8720397167009946, 0.8727045569640417, 0.857105091843415, 0.8731076610954815, 0.8704664484317022, 0.8718927572615099, 0.8740678490263262, 0.8518615097370693, 0.8591980618880392, 0.8649121639724509, 0.8670410765052443, 0.8740493820421305, 0.8713050056721017, 0.750652162421821, 0.8633572383476501, 0.8666209780022868, 0.8537117506426911, 0.8694776497442487, 0.8147687919244773, 0.8697836665905685, 0.8748990530045921, 0.8723284013064081, 0.8737782818736054, 0.8758651308563377, 0.8767903897098263]}, {\"categories\": [\"0\", \"1\", \"2\", \"3\", \"4\", \"5\", \"6\", \"7\", \"8\", \"9\", \"10\", \"11\", \"12\", \"13\", \"14\", \"15\", \"16\", \"17\", \"18\", \"19\", \"20\", \"21\", \"22\", \"23\", \"24\", \"25\", \"26\", \"27\", \"28\", \"29\", \"30\", \"31\", \"32\", \"33\", \"34\", \"35\", \"36\", \"37\", \"38\", \"39\", \"41\", \"42\"], \"mode\": \"lines\", \"name\": \"AUC_micro_max\", \"stepped\": true, \"type\": \"scatter\", \"data\": [0.8753836680167468, 0.8754741172813076, 0.8754741172813076, 0.8754741172813076, 0.8754741172813076, 0.8754741172813076, 0.8754741172813076, 0.8754741172813076, 0.8754741172813076, 0.8754741172813076, 0.8754741172813076, 0.8754741172813076, 0.8754741172813076, 0.8754741172813076, 0.8754741172813076, 0.8754741172813076, 0.8754741172813076, 0.8754741172813076, 0.8754741172813076, 0.8754741172813076, 0.8754741172813076, 0.8754741172813076, 0.8754741172813076, 0.8754741172813076, 0.8754741172813076, 0.8754741172813076, 0.8754741172813076, 0.8754741172813076, 0.8754741172813076, 0.8754741172813076, 0.8754741172813076, 0.8754741172813076, 0.8754741172813076, 0.8754741172813076, 0.8754741172813076, 0.8754741172813076, 0.8754741172813076, 0.8754741172813076, 0.8754741172813076, 0.8754741172813076, 0.8758651308563377, 0.8767903897098263]}], \"average_precision_score_macro\": [{\"categories\": [\"0\", \"1\", \"2\", \"3\", \"4\", \"5\", \"6\", \"7\", \"8\", \"9\", \"10\", \"11\", \"12\", \"13\", \"14\", \"15\", \"16\", \"17\", \"18\", \"19\", \"20\", \"21\", \"22\", \"23\", \"24\", \"25\", \"26\", \"27\", \"28\", \"29\", \"30\", \"31\", \"32\", \"33\", \"34\", \"35\", \"36\", \"37\", \"38\", \"39\", \"41\", \"42\"], \"mode\": \"markers\", \"name\": \"average_precision_score_macro\", \"stepped\": false, \"type\": \"scatter\", \"data\": [0.7225981494213273, 0.7220223491864692, 0.7129341384578493, 0.7015462102539289, 0.7116377854569073, 0.700542501652902, 0.721855897410722, 0.7171707349292451, 0.7189506595184518, 0.6969244737176813, 0.7057385981449932, 0.7219950559396798, 0.7202069773864788, 0.7198877111950482, 0.7183841074185979, 0.7143657664590572, 0.7189374808890193, 0.7222714929896739, 0.7187844162123316, 0.7072867508426317, 0.7196445925758874, 0.716266842442005, 0.7186373228864354, 0.7211622833383137, 0.7019556410284153, 0.7036204475927599, 0.7171637141708219, 0.7184242332007362, 0.7220192928695032, 0.7176668664575881, 0.5, 0.7065768542286877, 0.7199187304393068, 0.6785849402298433, 0.72104953113788, 0.6212486867192281, 0.722425419217192, 0.7242037207343636, 0.7158808108311567, 0.7201182130958974, 0.7238128943729059, 0.7257676854515902]}, {\"categories\": [\"0\", \"1\", \"2\", \"3\", \"4\", \"5\", \"6\", \"7\", \"8\", \"9\", \"10\", \"11\", \"12\", \"13\", \"14\", \"15\", \"16\", \"17\", \"18\", \"19\", \"20\", \"21\", \"22\", \"23\", \"24\", \"25\", \"26\", \"27\", \"28\", \"29\", \"30\", \"31\", \"32\", \"33\", \"34\", \"35\", \"36\", \"37\", \"38\", \"39\", \"41\", \"42\"], \"mode\": \"lines\", \"name\": \"average_precision_score_macro_max\", \"stepped\": true, \"type\": \"scatter\", \"data\": [0.7225981494213273, 0.7225981494213273, 0.7225981494213273, 0.7225981494213273, 0.7225981494213273, 0.7225981494213273, 0.7225981494213273, 0.7225981494213273, 0.7225981494213273, 0.7225981494213273, 0.7225981494213273, 0.7225981494213273, 0.7225981494213273, 0.7225981494213273, 0.7225981494213273, 0.7225981494213273, 0.7225981494213273, 0.7225981494213273, 0.7225981494213273, 0.7225981494213273, 0.7225981494213273, 0.7225981494213273, 0.7225981494213273, 0.7225981494213273, 0.7225981494213273, 0.7225981494213273, 0.7225981494213273, 0.7225981494213273, 0.7225981494213273, 0.7225981494213273, 0.7225981494213273, 0.7225981494213273, 0.7225981494213273, 0.7225981494213273, 0.7225981494213273, 0.7225981494213273, 0.7225981494213273, 0.7242037207343636, 0.7242037207343636, 0.7242037207343636, 0.7242037207343636, 0.7257676854515902]}], \"recall_score_micro\": [{\"categories\": [\"0\", \"1\", \"2\", \"3\", \"4\", \"5\", \"6\", \"7\", \"8\", \"9\", \"10\", \"11\", \"12\", \"13\", \"14\", \"15\", \"16\", \"17\", \"18\", \"19\", \"20\", \"21\", \"22\", \"23\", \"24\", \"25\", \"26\", \"27\", \"28\", \"29\", \"30\", \"31\", \"32\", \"33\", \"34\", \"35\", \"36\", \"37\", \"38\", \"39\", \"41\", \"42\"], \"mode\": \"markers\", \"name\": \"recall_score_micro\", \"stepped\": false, \"type\": \"scatter\", \"data\": [0.7938719347548757, 0.7934546025746452, 0.7735679537712616, 0.7544101547152147, 0.7492957272530597, 0.7104085367747673, 0.790322533621718, 0.788756785241157, 0.7794134380062876, 0.7747159748867741, 0.7823366705739192, 0.7783172547436064, 0.7809791591396197, 0.7729927647708591, 0.7802484020862659, 0.7799355630285623, 0.7803527862198776, 0.7885478398669463, 0.7914709225748195, 0.7579078542316855, 0.7918363215369181, 0.78353682926178, 0.7920450216860694, 0.7938720982382487, 0.750652162421821, 0.7731499404103105, 0.7791524368014151, 0.7778995411021722, 0.7939766458552333, 0.7875038895419142, 0.750652162421821, 0.7764905187817872, 0.7762814780422758, 0.7763339017105265, 0.7830148813464927, 0.750652162421821, 0.7809267627185978, 0.7922015297684148, 0.7917841430937267, 0.7917321826283658, 0.7991443007788893, 0.7941330313250491]}, {\"categories\": [\"0\", \"1\", \"2\", \"3\", \"4\", \"5\", \"6\", \"7\", \"8\", \"9\", \"10\", \"11\", \"12\", \"13\", \"14\", \"15\", \"16\", \"17\", \"18\", \"19\", \"20\", \"21\", \"22\", \"23\", \"24\", \"25\", \"26\", \"27\", \"28\", \"29\", \"30\", \"31\", \"32\", \"33\", \"34\", \"35\", \"36\", \"37\", \"38\", \"39\", \"41\", \"42\"], \"mode\": \"lines\", \"name\": \"recall_score_micro_max\", \"stepped\": true, \"type\": \"scatter\", \"data\": [0.7938719347548757, 0.7938719347548757, 0.7938719347548757, 0.7938719347548757, 0.7938719347548757, 0.7938719347548757, 0.7938719347548757, 0.7938719347548757, 0.7938719347548757, 0.7938719347548757, 0.7938719347548757, 0.7938719347548757, 0.7938719347548757, 0.7938719347548757, 0.7938719347548757, 0.7938719347548757, 0.7938719347548757, 0.7938719347548757, 0.7938719347548757, 0.7938719347548757, 0.7938719347548757, 0.7938719347548757, 0.7938719347548757, 0.7938720982382487, 0.7938720982382487, 0.7938720982382487, 0.7938720982382487, 0.7938720982382487, 0.7939766458552333, 0.7939766458552333, 0.7939766458552333, 0.7939766458552333, 0.7939766458552333, 0.7939766458552333, 0.7939766458552333, 0.7939766458552333, 0.7939766458552333, 0.7939766458552333, 0.7939766458552333, 0.7939766458552333, 0.7991443007788893, 0.7991443007788893]}], \"precision_score_macro\": [{\"categories\": [\"0\", \"1\", \"2\", \"3\", \"4\", \"5\", \"6\", \"7\", \"8\", \"9\", \"10\", \"11\", \"12\", \"13\", \"14\", \"15\", \"16\", \"17\", \"18\", \"19\", \"20\", \"21\", \"22\", \"23\", \"24\", \"25\", \"26\", \"27\", \"28\", \"29\", \"30\", \"31\", \"32\", \"33\", \"34\", \"35\", \"36\", \"37\", \"38\", \"39\", \"41\", \"42\"], \"mode\": \"markers\", \"name\": \"precision_score_macro\", \"stepped\": false, \"type\": \"scatter\", \"data\": [0.7242722057598096, 0.7231782736777307, 0.6970716304508183, 0.6305273351727892, 0.6966908445398131, 0.6691086552017073, 0.7187577432730852, 0.7164557026639303, 0.7027192234857171, 0.696613403433824, 0.7065124426104572, 0.702385526316526, 0.70576672261832, 0.6977690272161434, 0.7042927751701755, 0.7027914711752878, 0.7045161412994384, 0.7171058561758109, 0.7205004539090663, 0.6750044270459249, 0.7210592532023297, 0.7086609808700418, 0.7215317787275222, 0.7238543692458528, 0.3753260812109105, 0.69554664085689, 0.7028621995771622, 0.7022207783560204, 0.7238134091244597, 0.7143861280252783, 0.3753260812109105, 0.6993147021945866, 0.6997398146744048, 0.6988921804582178, 0.7094595480634314, 0.3753260812109105, 0.705226467683771, 0.721655347028222, 0.7209020062532395, 0.7208608260632776, 0.7316912425150164, 0.72458537657694]}, {\"categories\": [\"0\", \"1\", \"2\", \"3\", \"4\", \"5\", \"6\", \"7\", \"8\", \"9\", \"10\", \"11\", \"12\", \"13\", \"14\", \"15\", \"16\", \"17\", \"18\", \"19\", \"20\", \"21\", \"22\", \"23\", \"24\", \"25\", \"26\", \"27\", \"28\", \"29\", \"30\", \"31\", \"32\", \"33\", \"34\", \"35\", \"36\", \"37\", \"38\", \"39\", \"41\", \"42\"], \"mode\": \"lines\", \"name\": \"precision_score_macro_max\", \"stepped\": true, \"type\": \"scatter\", \"data\": [0.7242722057598096, 0.7242722057598096, 0.7242722057598096, 0.7242722057598096, 0.7242722057598096, 0.7242722057598096, 0.7242722057598096, 0.7242722057598096, 0.7242722057598096, 0.7242722057598096, 0.7242722057598096, 0.7242722057598096, 0.7242722057598096, 0.7242722057598096, 0.7242722057598096, 0.7242722057598096, 0.7242722057598096, 0.7242722057598096, 0.7242722057598096, 0.7242722057598096, 0.7242722057598096, 0.7242722057598096, 0.7242722057598096, 0.7242722057598096, 0.7242722057598096, 0.7242722057598096, 0.7242722057598096, 0.7242722057598096, 0.7242722057598096, 0.7242722057598096, 0.7242722057598096, 0.7242722057598096, 0.7242722057598096, 0.7242722057598096, 0.7242722057598096, 0.7242722057598096, 0.7242722057598096, 0.7242722057598096, 0.7242722057598096, 0.7242722057598096, 0.7316912425150164, 0.7316912425150164]}], \"recall_score_macro\": [{\"categories\": [\"0\", \"1\", \"2\", \"3\", \"4\", \"5\", \"6\", \"7\", \"8\", \"9\", \"10\", \"11\", \"12\", \"13\", \"14\", \"15\", \"16\", \"17\", \"18\", \"19\", \"20\", \"21\", \"22\", \"23\", \"24\", \"25\", \"26\", \"27\", \"28\", \"29\", \"30\", \"31\", \"32\", \"33\", \"34\", \"35\", \"36\", \"37\", \"38\", \"39\", \"41\", \"42\"], \"mode\": \"markers\", \"name\": \"recall_score_macro\", \"stepped\": false, \"type\": \"scatter\", \"data\": [0.7185357351109539, 0.70674775618263, 0.6110778076853896, 0.5176010080523481, 0.7421141360620002, 0.7171316420189127, 0.6929817760520327, 0.6986872680916489, 0.6457174816528464, 0.6213795897104137, 0.6621071509840707, 0.6342679512705705, 0.64627585707193, 0.6052414283580605, 0.6459267356978617, 0.6568421294797546, 0.6458605888824732, 0.6731602907373395, 0.7038987529024636, 0.5389491104772051, 0.7068595565017688, 0.6637260890462674, 0.7010780479809662, 0.7045665852549278, 0.5, 0.6104049885853595, 0.6410481521687058, 0.6318177231673618, 0.7041758027119122, 0.6892715844972459, 0.5, 0.6283733397610239, 0.6259958535891574, 0.6288182726406933, 0.65078809773595, 0.5, 0.6494093430470814, 0.6947974539483998, 0.7028078734576166, 0.7000349449225373, 0.7309333058275644, 0.7123396422987022]}, {\"categories\": [\"0\", \"1\", \"2\", \"3\", \"4\", \"5\", \"6\", \"7\", \"8\", \"9\", \"10\", \"11\", \"12\", \"13\", \"14\", \"15\", \"16\", \"17\", \"18\", \"19\", \"20\", \"21\", \"22\", \"23\", \"24\", \"25\", \"26\", \"27\", \"28\", \"29\", \"30\", \"31\", \"32\", \"33\", \"34\", \"35\", \"36\", \"37\", \"38\", \"39\", \"41\", \"42\"], \"mode\": \"lines\", \"name\": \"recall_score_macro_max\", \"stepped\": true, \"type\": \"scatter\", \"data\": [0.7185357351109539, 0.7185357351109539, 0.7185357351109539, 0.7185357351109539, 0.7421141360620002, 0.7421141360620002, 0.7421141360620002, 0.7421141360620002, 0.7421141360620002, 0.7421141360620002, 0.7421141360620002, 0.7421141360620002, 0.7421141360620002, 0.7421141360620002, 0.7421141360620002, 0.7421141360620002, 0.7421141360620002, 0.7421141360620002, 0.7421141360620002, 0.7421141360620002, 0.7421141360620002, 0.7421141360620002, 0.7421141360620002, 0.7421141360620002, 0.7421141360620002, 0.7421141360620002, 0.7421141360620002, 0.7421141360620002, 0.7421141360620002, 0.7421141360620002, 0.7421141360620002, 0.7421141360620002, 0.7421141360620002, 0.7421141360620002, 0.7421141360620002, 0.7421141360620002, 0.7421141360620002, 0.7421141360620002, 0.7421141360620002, 0.7421141360620002, 0.7421141360620002, 0.7421141360620002]}]}, \"metricName\": null, \"primaryMetricName\": \"accuracy\", \"showLegend\": false}, \"run_metrics\": [{\"name\": \"experiment_status\", \"run_id\": \"AutoML_4e968e5c-5cbd-4b5a-8325-df62fb150e34\", \"categories\": [0, 1, 2, 3, 4, 5, 6, 7, 8, 9, 10, 11, 12, 13], \"series\": [{\"data\": [\"DatasetEvaluation\", \"FeaturesGeneration\", \"DatasetFeaturization\", \"DatasetFeaturizationCompleted\", \"DatasetCrossValidationSplit\", \"ModelSelection\", \"BestRunExplainModel\", \"ModelExplanationDataSetSetup\", \"PickSurrogateModel\", \"EngineeredFeatureExplanations\", \"EngineeredFeatureExplanations\", \"RawFeaturesExplanations\", \"RawFeaturesExplanations\", \"BestRunExplainModel\"]}]}, {\"name\": \"experiment_status_description\", \"run_id\": \"AutoML_4e968e5c-5cbd-4b5a-8325-df62fb150e34\", \"categories\": [0, 1, 2, 3, 4, 5, 6, 7, 8, 9, 10, 11, 12, 13], \"series\": [{\"data\": [\"Gathering dataset statistics.\", \"Generating features for the dataset.\", \"Beginning to fit featurizers and featurize the dataset.\", \"Completed fit featurizers and featurizing the dataset.\", \"Generating individually featurized CV splits.\", \"Beginning model selection.\", \"Best run model explanations started\", \"Model explanations data setup completed\", \"Choosing LightGBM as the surrogate model for explanations\", \"Computation of engineered features started\", \"Computation of engineered features completed\", \"Computation of raw features started\", \"Computation of raw features completed\", \"Best run model explanations completed\"]}]}, {\"name\": \"accuracy\", \"run_id\": \"AutoML_4e968e5c-5cbd-4b5a-8325-df62fb150e34\", \"categories\": [0], \"series\": [{\"data\": [0.7991443007788893]}]}, {\"name\": \"log_loss\", \"run_id\": \"AutoML_4e968e5c-5cbd-4b5a-8325-df62fb150e34\", \"categories\": [0], \"series\": [{\"data\": [0.47025256974514756]}]}, {\"name\": \"AUC_macro\", \"run_id\": \"AutoML_4e968e5c-5cbd-4b5a-8325-df62fb150e34\", \"categories\": [0], \"series\": [{\"data\": [0.7998160582990923]}]}, {\"name\": \"precision_score_macro\", \"run_id\": \"AutoML_4e968e5c-5cbd-4b5a-8325-df62fb150e34\", \"categories\": [0], \"series\": [{\"data\": [0.7316912425150164]}]}, {\"name\": \"f1_score_micro\", \"run_id\": \"AutoML_4e968e5c-5cbd-4b5a-8325-df62fb150e34\", \"categories\": [0], \"series\": [{\"data\": [0.7991443007788893]}]}, {\"name\": \"weighted_accuracy\", \"run_id\": \"AutoML_4e968e5c-5cbd-4b5a-8325-df62fb150e34\", \"categories\": [0], \"series\": [{\"data\": [0.8399343028031654]}]}, {\"name\": \"average_precision_score_weighted\", \"run_id\": \"AutoML_4e968e5c-5cbd-4b5a-8325-df62fb150e34\", \"categories\": [0], \"series\": [{\"data\": [0.8144421690293544]}]}, {\"name\": \"AUC_weighted\", \"run_id\": \"AutoML_4e968e5c-5cbd-4b5a-8325-df62fb150e34\", \"categories\": [0], \"series\": [{\"data\": [0.7998160582990923]}]}, {\"name\": \"precision_score_micro\", \"run_id\": \"AutoML_4e968e5c-5cbd-4b5a-8325-df62fb150e34\", \"categories\": [0], \"series\": [{\"data\": [0.7991443007788893]}]}, {\"name\": \"precision_score_weighted\", \"run_id\": \"AutoML_4e968e5c-5cbd-4b5a-8325-df62fb150e34\", \"categories\": [0], \"series\": [{\"data\": [0.7989336172737452]}]}, {\"name\": \"recall_score_micro\", \"run_id\": \"AutoML_4e968e5c-5cbd-4b5a-8325-df62fb150e34\", \"categories\": [0], \"series\": [{\"data\": [0.7991443007788893]}]}, {\"name\": \"AUC_micro\", \"run_id\": \"AutoML_4e968e5c-5cbd-4b5a-8325-df62fb150e34\", \"categories\": [0], \"series\": [{\"data\": [0.8758651308563377]}]}, {\"name\": \"f1_score_macro\", \"run_id\": \"AutoML_4e968e5c-5cbd-4b5a-8325-df62fb150e34\", \"categories\": [0], \"series\": [{\"data\": [0.7312579868040309]}]}, {\"name\": \"f1_score_weighted\", \"run_id\": \"AutoML_4e968e5c-5cbd-4b5a-8325-df62fb150e34\", \"categories\": [0], \"series\": [{\"data\": [0.7990042291391382]}]}, {\"name\": \"average_precision_score_macro\", \"run_id\": \"AutoML_4e968e5c-5cbd-4b5a-8325-df62fb150e34\", \"categories\": [0], \"series\": [{\"data\": [0.7238128943729059]}]}, {\"name\": \"average_precision_score_micro\", \"run_id\": \"AutoML_4e968e5c-5cbd-4b5a-8325-df62fb150e34\", \"categories\": [0], \"series\": [{\"data\": [0.863364237580727]}]}, {\"name\": \"recall_score_macro\", \"run_id\": \"AutoML_4e968e5c-5cbd-4b5a-8325-df62fb150e34\", \"categories\": [0], \"series\": [{\"data\": [0.7309333058275644]}]}, {\"name\": \"matthews_correlation\", \"run_id\": \"AutoML_4e968e5c-5cbd-4b5a-8325-df62fb150e34\", \"categories\": [0], \"series\": [{\"data\": [0.4626083897633532]}]}, {\"name\": \"recall_score_weighted\", \"run_id\": \"AutoML_4e968e5c-5cbd-4b5a-8325-df62fb150e34\", \"categories\": [0], \"series\": [{\"data\": [0.7991443007788893]}]}, {\"name\": \"norm_macro_recall\", \"run_id\": \"AutoML_4e968e5c-5cbd-4b5a-8325-df62fb150e34\", \"categories\": [0], \"series\": [{\"data\": [0.4618666116551289]}]}, {\"name\": \"balanced_accuracy\", \"run_id\": \"AutoML_4e968e5c-5cbd-4b5a-8325-df62fb150e34\", \"categories\": [0], \"series\": [{\"data\": [0.7309333058275644]}]}], \"run_logs\": \"\\nRun is completed.\", \"graph\": {}, \"widget_settings\": {\"childWidgetDisplay\": \"popup\", \"send_telemetry\": false, \"log_level\": \"INFO\", \"sdk_version\": \"1.20.0\"}, \"loading\": false}"
     },
     "metadata": {},
     "output_type": "display_data"
    }
   ],
   "source": [
    "RunDetails(remote_run).show()"
   ]
  },
  {
   "cell_type": "code",
   "execution_count": 9,
   "metadata": {
    "gather": {
     "logged": 1611957104738
    },
    "nteract": {
     "transient": {
      "deleting": false
     }
    }
   },
   "outputs": [
    {
     "data": {
      "text/plain": [
       "{'runId': 'AutoML_4e968e5c-5cbd-4b5a-8325-df62fb150e34',\n",
       " 'target': 'cpu-cluster',\n",
       " 'status': 'Completed',\n",
       " 'startTimeUtc': '2021-01-31T10:20:43.853768Z',\n",
       " 'endTimeUtc': '2021-01-31T10:47:19.04084Z',\n",
       " 'properties': {'num_iterations': '1000',\n",
       "  'training_type': 'TrainFull',\n",
       "  'acquisition_function': 'EI',\n",
       "  'primary_metric': 'accuracy',\n",
       "  'train_split': '0',\n",
       "  'acquisition_parameter': '0',\n",
       "  'num_cross_validation': '5',\n",
       "  'target': 'cpu-cluster',\n",
       "  'AMLSettingsJsonString': '{\"path\":null,\"name\":\"jobchangeautoml\",\"subscription_id\":\"a24a24d5-8d87-4c8a-99b6-91ed2d2df51f\",\"resource_group\":\"aml-quickstarts-136708\",\"workspace_name\":\"quick-starts-ws-136708\",\"region\":\"southcentralus\",\"compute_target\":\"cpu-cluster\",\"spark_service\":null,\"azure_service\":\"remote\",\"many_models\":false,\"pipeline_fetch_max_batch_size\":1,\"iterations\":1000,\"primary_metric\":\"accuracy\",\"task_type\":\"classification\",\"data_script\":null,\"validation_size\":0.0,\"n_cross_validations\":5,\"y_min\":null,\"y_max\":null,\"num_classes\":null,\"featurization\":\"auto\",\"_ignore_package_version_incompatibilities\":false,\"is_timeseries\":false,\"max_cores_per_iteration\":1,\"max_concurrent_iterations\":4,\"iteration_timeout_minutes\":null,\"mem_in_mb\":null,\"enforce_time_on_windows\":false,\"experiment_timeout_minutes\":15,\"experiment_exit_score\":null,\"whitelist_models\":null,\"blacklist_algos\":[\"TensorFlowLinearClassifier\",\"TensorFlowDNN\"],\"supported_models\":[\"KNN\",\"GradientBoosting\",\"BernoulliNaiveBayes\",\"RandomForest\",\"LinearSVM\",\"XGBoostClassifier\",\"ExtremeRandomTrees\",\"SVM\",\"LogisticRegression\",\"MultinomialNaiveBayes\",\"SGD\",\"DecisionTree\",\"LightGBM\",\"TensorFlowLinearClassifier\",\"AveragedPerceptronClassifier\",\"TensorFlowDNN\"],\"auto_blacklist\":true,\"blacklist_samples_reached\":false,\"exclude_nan_labels\":true,\"verbosity\":20,\"_debug_log\":\"azureml_automl.log\",\"show_warnings\":false,\"model_explainability\":true,\"service_url\":null,\"sdk_url\":null,\"sdk_packages\":null,\"enable_onnx_compatible_models\":false,\"enable_split_onnx_featurizer_estimator_models\":false,\"vm_type\":\"STANDARD_D12_V2\",\"telemetry_verbosity\":20,\"send_telemetry\":true,\"enable_dnn\":false,\"scenario\":\"SDK-1.13.0\",\"environment_label\":null,\"force_text_dnn\":false,\"enable_feature_sweeping\":true,\"enable_early_stopping\":true,\"early_stopping_n_iters\":10,\"metrics\":null,\"enable_ensembling\":true,\"enable_stack_ensembling\":true,\"ensemble_iterations\":15,\"enable_tf\":false,\"enable_subsampling\":null,\"subsample_seed\":null,\"enable_nimbusml\":false,\"enable_streaming\":false,\"force_streaming\":false,\"track_child_runs\":true,\"allowed_private_models\":[],\"label_column_name\":\"target\",\"weight_column_name\":null,\"cv_split_column_names\":null,\"enable_local_managed\":false,\"_local_managed_run_id\":null,\"cost_mode\":1,\"lag_length\":0,\"metric_operation\":\"maximize\",\"preprocess\":true}',\n",
       "  'DataPrepJsonString': '{\\\\\"training_data\\\\\": \\\\\"{\\\\\\\\\\\\\"blocks\\\\\\\\\\\\\": [{\\\\\\\\\\\\\"id\\\\\\\\\\\\\": \\\\\\\\\\\\\"beef11ba-a4fb-4369-a12f-dc43cfc7c044\\\\\\\\\\\\\", \\\\\\\\\\\\\"type\\\\\\\\\\\\\": \\\\\\\\\\\\\"Microsoft.DPrep.GetDatastoreFilesBlock\\\\\\\\\\\\\", \\\\\\\\\\\\\"arguments\\\\\\\\\\\\\": {\\\\\\\\\\\\\"datastores\\\\\\\\\\\\\": [{\\\\\\\\\\\\\"datastoreName\\\\\\\\\\\\\": \\\\\\\\\\\\\"workspaceblobstore\\\\\\\\\\\\\", \\\\\\\\\\\\\"path\\\\\\\\\\\\\": \\\\\\\\\\\\\"UI/01-31-2021_101329_UTC/aug_train.csv\\\\\\\\\\\\\", \\\\\\\\\\\\\"resourceGroup\\\\\\\\\\\\\": \\\\\\\\\\\\\"aml-quickstarts-136708\\\\\\\\\\\\\", \\\\\\\\\\\\\"subscription\\\\\\\\\\\\\": \\\\\\\\\\\\\"a24a24d5-8d87-4c8a-99b6-91ed2d2df51f\\\\\\\\\\\\\", \\\\\\\\\\\\\"workspaceName\\\\\\\\\\\\\": \\\\\\\\\\\\\"quick-starts-ws-136708\\\\\\\\\\\\\"}]}, \\\\\\\\\\\\\"localData\\\\\\\\\\\\\": {}, \\\\\\\\\\\\\"isEnabled\\\\\\\\\\\\\": true, \\\\\\\\\\\\\"name\\\\\\\\\\\\\": null, \\\\\\\\\\\\\"annotation\\\\\\\\\\\\\": null}, {\\\\\\\\\\\\\"id\\\\\\\\\\\\\": \\\\\\\\\\\\\"7da411f4-207e-421b-a06b-baa14fcd94f4\\\\\\\\\\\\\", \\\\\\\\\\\\\"type\\\\\\\\\\\\\": \\\\\\\\\\\\\"Microsoft.DPrep.ParseDelimitedBlock\\\\\\\\\\\\\", \\\\\\\\\\\\\"arguments\\\\\\\\\\\\\": {\\\\\\\\\\\\\"columnHeadersMode\\\\\\\\\\\\\": 1, \\\\\\\\\\\\\"fileEncoding\\\\\\\\\\\\\": 0, \\\\\\\\\\\\\"handleQuotedLineBreaks\\\\\\\\\\\\\": false, \\\\\\\\\\\\\"preview\\\\\\\\\\\\\": false, \\\\\\\\\\\\\"separator\\\\\\\\\\\\\": \\\\\\\\\\\\\",\\\\\\\\\\\\\", \\\\\\\\\\\\\"skipRows\\\\\\\\\\\\\": 0, \\\\\\\\\\\\\"skipRowsMode\\\\\\\\\\\\\": 0}, \\\\\\\\\\\\\"localData\\\\\\\\\\\\\": {}, \\\\\\\\\\\\\"isEnabled\\\\\\\\\\\\\": true, \\\\\\\\\\\\\"name\\\\\\\\\\\\\": null, \\\\\\\\\\\\\"annotation\\\\\\\\\\\\\": null}, {\\\\\\\\\\\\\"id\\\\\\\\\\\\\": \\\\\\\\\\\\\"ab7b6304-adb4-45de-9262-0505cb1b53fe\\\\\\\\\\\\\", \\\\\\\\\\\\\"type\\\\\\\\\\\\\": \\\\\\\\\\\\\"Microsoft.DPrep.DropColumnsBlock\\\\\\\\\\\\\", \\\\\\\\\\\\\"arguments\\\\\\\\\\\\\": {\\\\\\\\\\\\\"columns\\\\\\\\\\\\\": {\\\\\\\\\\\\\"type\\\\\\\\\\\\\": 0, \\\\\\\\\\\\\"details\\\\\\\\\\\\\": {\\\\\\\\\\\\\"selectedColumns\\\\\\\\\\\\\": [\\\\\\\\\\\\\"Path\\\\\\\\\\\\\", \\\\\\\\\\\\\"enrollee_id\\\\\\\\\\\\\"]}}}, \\\\\\\\\\\\\"localData\\\\\\\\\\\\\": {}, \\\\\\\\\\\\\"isEnabled\\\\\\\\\\\\\": true, \\\\\\\\\\\\\"name\\\\\\\\\\\\\": null, \\\\\\\\\\\\\"annotation\\\\\\\\\\\\\": null}, {\\\\\\\\\\\\\"id\\\\\\\\\\\\\": \\\\\\\\\\\\\"026f01e2-f5ea-4648-8cf8-ddd091a1da3b\\\\\\\\\\\\\", \\\\\\\\\\\\\"type\\\\\\\\\\\\\": \\\\\\\\\\\\\"Microsoft.DPrep.SetColumnTypesBlock\\\\\\\\\\\\\", \\\\\\\\\\\\\"arguments\\\\\\\\\\\\\": {\\\\\\\\\\\\\"columnConversion\\\\\\\\\\\\\": [{\\\\\\\\\\\\\"column\\\\\\\\\\\\\": {\\\\\\\\\\\\\"type\\\\\\\\\\\\\": 2, \\\\\\\\\\\\\"details\\\\\\\\\\\\\": {\\\\\\\\\\\\\"selectedColumn\\\\\\\\\\\\\": \\\\\\\\\\\\\"Path\\\\\\\\\\\\\"}}, \\\\\\\\\\\\\"typeProperty\\\\\\\\\\\\\": 0}, {\\\\\\\\\\\\\"column\\\\\\\\\\\\\": {\\\\\\\\\\\\\"type\\\\\\\\\\\\\": 2, \\\\\\\\\\\\\"details\\\\\\\\\\\\\": {\\\\\\\\\\\\\"selectedColumn\\\\\\\\\\\\\": \\\\\\\\\\\\\"enrollee_id\\\\\\\\\\\\\"}}, \\\\\\\\\\\\\"typeProperty\\\\\\\\\\\\\": 2}, {\\\\\\\\\\\\\"column\\\\\\\\\\\\\": {\\\\\\\\\\\\\"type\\\\\\\\\\\\\": 2, \\\\\\\\\\\\\"details\\\\\\\\\\\\\": {\\\\\\\\\\\\\"selectedColumn\\\\\\\\\\\\\": \\\\\\\\\\\\\"city\\\\\\\\\\\\\"}}, \\\\\\\\\\\\\"typeProperty\\\\\\\\\\\\\": 0}, {\\\\\\\\\\\\\"column\\\\\\\\\\\\\": {\\\\\\\\\\\\\"type\\\\\\\\\\\\\": 2, \\\\\\\\\\\\\"details\\\\\\\\\\\\\": {\\\\\\\\\\\\\"selectedColumn\\\\\\\\\\\\\": \\\\\\\\\\\\\"city_development_index\\\\\\\\\\\\\"}}, \\\\\\\\\\\\\"typeProperty\\\\\\\\\\\\\": 3}, {\\\\\\\\\\\\\"column\\\\\\\\\\\\\": {\\\\\\\\\\\\\"type\\\\\\\\\\\\\": 2, \\\\\\\\\\\\\"details\\\\\\\\\\\\\": {\\\\\\\\\\\\\"selectedColumn\\\\\\\\\\\\\": \\\\\\\\\\\\\"gender\\\\\\\\\\\\\"}}, \\\\\\\\\\\\\"typeProperty\\\\\\\\\\\\\": 0}, {\\\\\\\\\\\\\"column\\\\\\\\\\\\\": {\\\\\\\\\\\\\"type\\\\\\\\\\\\\": 2, \\\\\\\\\\\\\"details\\\\\\\\\\\\\": {\\\\\\\\\\\\\"selectedColumn\\\\\\\\\\\\\": \\\\\\\\\\\\\"relevent_experience\\\\\\\\\\\\\"}}, \\\\\\\\\\\\\"typeProperty\\\\\\\\\\\\\": 0}, {\\\\\\\\\\\\\"column\\\\\\\\\\\\\": {\\\\\\\\\\\\\"type\\\\\\\\\\\\\": 2, \\\\\\\\\\\\\"details\\\\\\\\\\\\\": {\\\\\\\\\\\\\"selectedColumn\\\\\\\\\\\\\": \\\\\\\\\\\\\"enrolled_university\\\\\\\\\\\\\"}}, \\\\\\\\\\\\\"typeProperty\\\\\\\\\\\\\": 0}, {\\\\\\\\\\\\\"column\\\\\\\\\\\\\": {\\\\\\\\\\\\\"type\\\\\\\\\\\\\": 2, \\\\\\\\\\\\\"details\\\\\\\\\\\\\": {\\\\\\\\\\\\\"selectedColumn\\\\\\\\\\\\\": \\\\\\\\\\\\\"education_level\\\\\\\\\\\\\"}}, \\\\\\\\\\\\\"typeProperty\\\\\\\\\\\\\": 0}, {\\\\\\\\\\\\\"column\\\\\\\\\\\\\": {\\\\\\\\\\\\\"type\\\\\\\\\\\\\": 2, \\\\\\\\\\\\\"details\\\\\\\\\\\\\": {\\\\\\\\\\\\\"selectedColumn\\\\\\\\\\\\\": \\\\\\\\\\\\\"major_discipline\\\\\\\\\\\\\"}}, \\\\\\\\\\\\\"typeProperty\\\\\\\\\\\\\": 0}, {\\\\\\\\\\\\\"column\\\\\\\\\\\\\": {\\\\\\\\\\\\\"type\\\\\\\\\\\\\": 2, \\\\\\\\\\\\\"details\\\\\\\\\\\\\": {\\\\\\\\\\\\\"selectedColumn\\\\\\\\\\\\\": \\\\\\\\\\\\\"experience\\\\\\\\\\\\\"}}, \\\\\\\\\\\\\"typeProperty\\\\\\\\\\\\\": 0}, {\\\\\\\\\\\\\"column\\\\\\\\\\\\\": {\\\\\\\\\\\\\"type\\\\\\\\\\\\\": 2, \\\\\\\\\\\\\"details\\\\\\\\\\\\\": {\\\\\\\\\\\\\"selectedColumn\\\\\\\\\\\\\": \\\\\\\\\\\\\"company_size\\\\\\\\\\\\\"}}, \\\\\\\\\\\\\"typeProperty\\\\\\\\\\\\\": 0}, {\\\\\\\\\\\\\"column\\\\\\\\\\\\\": {\\\\\\\\\\\\\"type\\\\\\\\\\\\\": 2, \\\\\\\\\\\\\"details\\\\\\\\\\\\\": {\\\\\\\\\\\\\"selectedColumn\\\\\\\\\\\\\": \\\\\\\\\\\\\"company_type\\\\\\\\\\\\\"}}, \\\\\\\\\\\\\"typeProperty\\\\\\\\\\\\\": 0}, {\\\\\\\\\\\\\"column\\\\\\\\\\\\\": {\\\\\\\\\\\\\"type\\\\\\\\\\\\\": 2, \\\\\\\\\\\\\"details\\\\\\\\\\\\\": {\\\\\\\\\\\\\"selectedColumn\\\\\\\\\\\\\": \\\\\\\\\\\\\"last_new_job\\\\\\\\\\\\\"}}, \\\\\\\\\\\\\"typeProperty\\\\\\\\\\\\\": 0}, {\\\\\\\\\\\\\"column\\\\\\\\\\\\\": {\\\\\\\\\\\\\"type\\\\\\\\\\\\\": 2, \\\\\\\\\\\\\"details\\\\\\\\\\\\\": {\\\\\\\\\\\\\"selectedColumn\\\\\\\\\\\\\": \\\\\\\\\\\\\"training_hours\\\\\\\\\\\\\"}}, \\\\\\\\\\\\\"typeProperty\\\\\\\\\\\\\": 2}, {\\\\\\\\\\\\\"column\\\\\\\\\\\\\": {\\\\\\\\\\\\\"type\\\\\\\\\\\\\": 2, \\\\\\\\\\\\\"details\\\\\\\\\\\\\": {\\\\\\\\\\\\\"selectedColumn\\\\\\\\\\\\\": \\\\\\\\\\\\\"target\\\\\\\\\\\\\"}}, \\\\\\\\\\\\\"typeProperty\\\\\\\\\\\\\": 3}]}, \\\\\\\\\\\\\"localData\\\\\\\\\\\\\": {}, \\\\\\\\\\\\\"isEnabled\\\\\\\\\\\\\": true, \\\\\\\\\\\\\"name\\\\\\\\\\\\\": null, \\\\\\\\\\\\\"annotation\\\\\\\\\\\\\": null}], \\\\\\\\\\\\\"inspectors\\\\\\\\\\\\\": [], \\\\\\\\\\\\\"meta\\\\\\\\\\\\\": {\\\\\\\\\\\\\"savedDatasetId\\\\\\\\\\\\\": \\\\\\\\\\\\\"87499c16-f708-47cf-9c5b-83d2f2202e74\\\\\\\\\\\\\", \\\\\\\\\\\\\"datasetType\\\\\\\\\\\\\": \\\\\\\\\\\\\"tabular\\\\\\\\\\\\\", \\\\\\\\\\\\\"subscriptionId\\\\\\\\\\\\\": \\\\\\\\\\\\\"a24a24d5-8d87-4c8a-99b6-91ed2d2df51f\\\\\\\\\\\\\", \\\\\\\\\\\\\"workspaceId\\\\\\\\\\\\\": \\\\\\\\\\\\\"a1377232-ddd2-4474-98a2-37692d08c09e\\\\\\\\\\\\\", \\\\\\\\\\\\\"workspaceLocation\\\\\\\\\\\\\": \\\\\\\\\\\\\"southcentralus\\\\\\\\\\\\\"}}\\\\\", \\\\\"activities\\\\\": 0}',\n",
       "  'EnableSubsampling': None,\n",
       "  'runTemplate': 'AutoML',\n",
       "  'azureml.runsource': 'automl',\n",
       "  'display_task_type': 'classification',\n",
       "  'dependencies_versions': '{\"azureml-widgets\": \"1.20.0\", \"azureml-train\": \"1.20.0\", \"azureml-train-restclients-hyperdrive\": \"1.20.0\", \"azureml-train-core\": \"1.20.0\", \"azureml-train-automl\": \"1.20.0\", \"azureml-train-automl-runtime\": \"1.20.0\", \"azureml-train-automl-client\": \"1.20.0\", \"azureml-tensorboard\": \"1.20.0\", \"azureml-telemetry\": \"1.20.0\", \"azureml-sdk\": \"1.20.0\", \"azureml-samples\": \"0+unknown\", \"azureml-pipeline\": \"1.20.0\", \"azureml-pipeline-steps\": \"1.20.0\", \"azureml-pipeline-core\": \"1.20.0\", \"azureml-opendatasets\": \"1.20.0\", \"azureml-model-management-sdk\": \"1.0.1b6.post1\", \"azureml-mlflow\": \"1.20.0.post1\", \"azureml-interpret\": \"1.20.0\", \"azureml-explain-model\": \"1.20.0\", \"azureml-defaults\": \"1.20.0\", \"azureml-dataset-runtime\": \"1.20.0\", \"azureml-dataprep\": \"2.7.3\", \"azureml-dataprep-rslex\": \"1.5.0\", \"azureml-dataprep-native\": \"27.0.0\", \"azureml-datadrift\": \"1.20.0\", \"azureml-core\": \"1.20.0\", \"azureml-contrib-services\": \"1.20.0\", \"azureml-contrib-server\": \"1.20.0\", \"azureml-contrib-reinforcementlearning\": \"1.20.0\", \"azureml-contrib-pipeline-steps\": \"1.20.0\", \"azureml-contrib-notebook\": \"1.20.0\", \"azureml-contrib-interpret\": \"1.20.0\", \"azureml-contrib-gbdt\": \"1.20.0\", \"azureml-contrib-fairness\": \"1.20.0\", \"azureml-contrib-dataset\": \"1.20.0\", \"azureml-cli-common\": \"1.20.0\", \"azureml-automl-runtime\": \"1.20.0\", \"azureml-automl-core\": \"1.20.0\", \"azureml-accel-models\": \"1.20.0\"}',\n",
       "  '_aml_system_scenario_identification': 'Remote.Parent',\n",
       "  'ClientType': 'SDK',\n",
       "  'environment_cpu_name': 'AzureML-AutoML',\n",
       "  'environment_cpu_label': 'prod',\n",
       "  'environment_gpu_name': 'AzureML-AutoML-GPU',\n",
       "  'environment_gpu_label': 'prod',\n",
       "  'root_attribution': 'automl',\n",
       "  'attribution': 'AutoML',\n",
       "  'Orchestrator': 'AutoML',\n",
       "  'CancelUri': 'https://southcentralus.experiments.azureml.net/jasmine/v1.0/subscriptions/a24a24d5-8d87-4c8a-99b6-91ed2d2df51f/resourceGroups/aml-quickstarts-136708/providers/Microsoft.MachineLearningServices/workspaces/quick-starts-ws-136708/experimentids/70c4f341-a7b5-4588-9078-5d73d24e2b52/cancel/AutoML_4e968e5c-5cbd-4b5a-8325-df62fb150e34',\n",
       "  'ClientSdkVersion': '1.20.0.post1',\n",
       "  'snapshotId': '00000000-0000-0000-0000-000000000000',\n",
       "  'SetupRunId': 'AutoML_4e968e5c-5cbd-4b5a-8325-df62fb150e34_setup',\n",
       "  'SetupRunContainerId': 'dcid.AutoML_4e968e5c-5cbd-4b5a-8325-df62fb150e34_setup',\n",
       "  'FeaturizationRunJsonPath': 'featurizer_container.json',\n",
       "  'FeaturizationRunId': 'AutoML_4e968e5c-5cbd-4b5a-8325-df62fb150e34_featurize',\n",
       "  'ProblemInfoJsonString': '{\"dataset_num_categorical\": 0, \"is_sparse\": true, \"subsampling\": false, \"dataset_classes\": 2, \"dataset_features\": 201, \"dataset_samples\": 19158, \"single_frequency_class_detected\": false}',\n",
       "  'ModelExplainRunId': 'AutoML_4e968e5c-5cbd-4b5a-8325-df62fb150e34_ModelExplain'},\n",
       " 'inputDatasets': [{'dataset': {'id': '87499c16-f708-47cf-9c5b-83d2f2202e74'}, 'consumptionDetails': {'type': 'RunInput', 'inputName': 'training_data', 'mechanism': 'Direct'}}],\n",
       " 'outputDatasets': [],\n",
       " 'logFiles': {},\n",
       " 'submittedBy': 'ODL_User 136708'}"
      ]
     },
     "execution_count": 9,
     "metadata": {},
     "output_type": "execute_result"
    }
   ],
   "source": [
    "remote_run.wait_for_completion()\r\n"
   ]
  },
  {
   "cell_type": "markdown",
   "metadata": {},
   "source": [
    "## Best Model"
   ]
  },
  {
   "cell_type": "code",
   "execution_count": 10,
   "metadata": {
    "collapsed": false,
    "gather": {
     "logged": 1611958175491
    },
    "jupyter": {
     "outputs_hidden": false,
     "source_hidden": false
    },
    "nteract": {
     "transient": {
      "deleting": false
     }
    }
   },
   "outputs": [],
   "source": [
    "best_run, fitted_model = remote_run.get_output()\r\n",
    "best_run_metrics = best_run.get_metrics()"
   ]
  },
  {
   "cell_type": "code",
   "execution_count": 11,
   "metadata": {
    "gather": {
     "logged": 1611958175654
    },
    "nteract": {
     "transient": {
      "deleting": false
     }
    }
   },
   "outputs": [
    {
     "data": {
      "text/html": [
       "<table style=\"width:100%\"><tr><th>Experiment</th><th>Id</th><th>Type</th><th>Status</th><th>Details Page</th><th>Docs Page</th></tr><tr><td>jobchangeautoml</td><td>AutoML_4e968e5c-5cbd-4b5a-8325-df62fb150e34_41</td><td>azureml.scriptrun</td><td>Completed</td><td><a href=\"https://ml.azure.com/experiments/jobchangeautoml/runs/AutoML_4e968e5c-5cbd-4b5a-8325-df62fb150e34_41?wsid=/subscriptions/a24a24d5-8d87-4c8a-99b6-91ed2d2df51f/resourcegroups/aml-quickstarts-136708/workspaces/quick-starts-ws-136708\" target=\"_blank\" rel=\"noopener\">Link to Azure Machine Learning studio</a></td><td><a href=\"https://docs.microsoft.com/en-us/python/api/azureml-core/azureml.core.run.Run?view=azure-ml-py\" target=\"_blank\" rel=\"noopener\">Link to Documentation</a></td></tr></table>"
      ],
      "text/plain": [
       "Run(Experiment: jobchangeautoml,\n",
       "Id: AutoML_4e968e5c-5cbd-4b5a-8325-df62fb150e34_41,\n",
       "Type: azureml.scriptrun,\n",
       "Status: Completed)"
      ]
     },
     "execution_count": 11,
     "metadata": {},
     "output_type": "execute_result"
    }
   ],
   "source": [
    "best_run"
   ]
  },
  {
   "cell_type": "code",
   "execution_count": 12,
   "metadata": {
    "gather": {
     "logged": 1611958175897
    },
    "nteract": {
     "transient": {
      "deleting": false
     }
    }
   },
   "outputs": [
    {
     "data": {
      "text/plain": [
       "PipelineWithYTransformations(Pipeline={'memory': None,\n",
       "                                       'steps': [('datatransformer',\n",
       "                                                  DataTransformer(enable_dnn=None,\n",
       "                                                                  enable_feature_sweeping=None,\n",
       "                                                                  feature_sweeping_config=None,\n",
       "                                                                  feature_sweeping_timeout=None,\n",
       "                                                                  featurization_config=None,\n",
       "                                                                  force_text_dnn=None,\n",
       "                                                                  is_cross_validation=None,\n",
       "                                                                  is_onnx_compatible=None,\n",
       "                                                                  logger=None,\n",
       "                                                                  observer=None,\n",
       "                                                                  task=None,\n",
       "                                                                  working_dir=None))...\n",
       "                                                                                                                                   verbose=0,\n",
       "                                                                                                                                   warm_start=False))],\n",
       "                                                                                                      verbose=False))],\n",
       "                                                                                flatten_transform=None,\n",
       "                                                                                weights=[0.07142857142857142,\n",
       "                                                                                         0.07142857142857142,\n",
       "                                                                                         0.07142857142857142,\n",
       "                                                                                         0.14285714285714285,\n",
       "                                                                                         0.07142857142857142,\n",
       "                                                                                         0.07142857142857142,\n",
       "                                                                                         0.2857142857142857,\n",
       "                                                                                         0.07142857142857142,\n",
       "                                                                                         0.07142857142857142,\n",
       "                                                                                         0.07142857142857142]))],\n",
       "                                       'verbose': False},\n",
       "                             y_transformer={},\n",
       "                             y_transformer_name='LabelEncoder')"
      ]
     },
     "execution_count": 12,
     "metadata": {},
     "output_type": "execute_result"
    }
   ],
   "source": [
    "fitted_model"
   ]
  },
  {
   "cell_type": "code",
   "execution_count": 13,
   "metadata": {
    "gather": {
     "logged": 1611958236285
    },
    "nteract": {
     "transient": {
      "deleting": false
     }
    }
   },
   "outputs": [
    {
     "name": "stdout",
     "output_type": "stream",
     "text": [
      "Best Run Id:  AutoML_4e968e5c-5cbd-4b5a-8325-df62fb150e34_41\n",
      "\n",
      " Accuracy: 0.7991443007788893\n",
      "PreFittedSoftVotingClassifier(classification_labels=None,\n",
      "                              estimators=[('28',\n",
      "                                           Pipeline(memory=None,\n",
      "                                                    steps=[('maxabsscaler',\n",
      "                                                            MaxAbsScaler(copy=True)),\n",
      "                                                           ('lightgbmclassifier',\n",
      "                                                            LightGBMClassifier(boosting_type='gbdt',\n",
      "                                                                               class_weight=None,\n",
      "                                                                               colsample_bytree=0.7922222222222222,\n",
      "                                                                               importance_type='split',\n",
      "                                                                               learning_rate=0.026323157894736843,\n",
      "                                                                               max_bin=130,\n",
      "                                                                               max_depth=3,\n",
      "                                                                               min_chi...\n",
      "                                                                                 min_weight_fraction_leaf=0.0,\n",
      "                                                                                 n_estimators=200,\n",
      "                                                                                 n_jobs=1,\n",
      "                                                                                 oob_score=False,\n",
      "                                                                                 random_state=None,\n",
      "                                                                                 verbose=0,\n",
      "                                                                                 warm_start=False))],\n",
      "                                                    verbose=False))],\n",
      "                              flatten_transform=None,\n",
      "                              weights=[0.07142857142857142, 0.07142857142857142,\n",
      "                                       0.07142857142857142, 0.14285714285714285,\n",
      "                                       0.07142857142857142, 0.07142857142857142,\n",
      "                                       0.2857142857142857, 0.07142857142857142,\n",
      "                                       0.07142857142857142,\n",
      "                                       0.07142857142857142])\n",
      "{'_aml_system_azureml.automlComponent': 'AutoML', '_aml_system_ComputeTargetStatus': '{\"AllocationState\":\"steady\",\"PreparingNodeCount\":0,\"RunningNodeCount\":3,\"CurrentNodeCount\":4}', 'ensembled_iterations': '[28, 23, 0, 1, 37, 4, 5, 39, 36, 27]', 'ensembled_algorithms': \"['LightGBM', 'XGBoostClassifier', 'LightGBM', 'XGBoostClassifier', 'XGBoostClassifier', 'RandomForest', 'RandomForest', 'XGBoostClassifier', 'XGBoostClassifier', 'ExtremeRandomTrees']\", 'ensemble_weights': '[0.07142857142857142, 0.07142857142857142, 0.07142857142857142, 0.14285714285714285, 0.07142857142857142, 0.07142857142857142, 0.2857142857142857, 0.07142857142857142, 0.07142857142857142, 0.07142857142857142]', 'best_individual_pipeline_score': '0.7939766458552333', 'best_individual_iteration': '28', '_aml_system_automl_is_child_run_end_telemetry_event_logged': 'True'}\n"
     ]
    }
   ],
   "source": [
    "print('Best Run Id: ', best_run.id)\r\n",
    "print('\\n Accuracy:', best_run_metrics['accuracy'])\r\n",
    "print(fitted_model._final_estimator)\r\n",
    "print(best_run.get_tags())"
   ]
  },
  {
   "cell_type": "code",
   "execution_count": 14,
   "metadata": {
    "collapsed": false,
    "gather": {
     "logged": 1611958251935
    },
    "jupyter": {
     "outputs_hidden": false,
     "source_hidden": false
    },
    "nteract": {
     "transient": {
      "deleting": false
     }
    }
   },
   "outputs": [
    {
     "data": {
      "text/plain": [
       "'AutoML4e968e5c541'"
      ]
     },
     "execution_count": 14,
     "metadata": {},
     "output_type": "execute_result"
    }
   ],
   "source": [
    "import os\r\n",
    "import joblib\r\n",
    "\r\n",
    "os.makedirs('./outputs', exist_ok=True)\r\n",
    "\r\n",
    "joblib.dump(fitted_model, filename='outputs/automl.joblib')\r\n",
    "\r\n",
    "model_name = best_run.properties['model_name']\r\n",
    "model_name"
   ]
  },
  {
   "cell_type": "code",
   "execution_count": 15,
   "metadata": {},
   "outputs": [],
   "source": [
    "env = best_run.get_environment()\n",
    "\n",
    "script_file = 'score.py'\n",
    "\n",
    "best_run.download_file('outputs/scoring_file_v_1_0_0.py', script_file)"
   ]
  },
  {
   "cell_type": "markdown",
   "metadata": {},
   "source": [
    "## Model Deployment\n",
    "\n",
    "Remember you have to deploy only one of the two models you trained.. Perform the steps in the rest of this notebook only if you wish to deploy this model.\n"
   ]
  },
  {
   "cell_type": "code",
   "execution_count": 32,
   "metadata": {},
   "outputs": [
    {
     "ename": "ModuleNotFoundError",
     "evalue": "No module named 'azure.automl'",
     "output_type": "error",
     "traceback": [
      "\u001b[0;31m---------------------------------------------------------------------------\u001b[0m",
      "\u001b[0;31mModuleNotFoundError\u001b[0m                       Traceback (most recent call last)",
      "\u001b[0;32m<ipython-input-32-ab94cb5e7d95>\u001b[0m in \u001b[0;36m<module>\u001b[0;34m\u001b[0m\n\u001b[0;32m----> 1\u001b[0;31m \u001b[0;32mfrom\u001b[0m \u001b[0mazure\u001b[0m\u001b[0;34m.\u001b[0m\u001b[0mautoml\u001b[0m\u001b[0;34m.\u001b[0m\u001b[0mcore\u001b[0m\u001b[0;34m.\u001b[0m\u001b[0mshared\u001b[0m \u001b[0;32mimport\u001b[0m \u001b[0mconstants\u001b[0m\u001b[0;34m\u001b[0m\u001b[0;34m\u001b[0m\u001b[0m\n\u001b[0m\u001b[1;32m      2\u001b[0m \u001b[0mbest_run\u001b[0m\u001b[0;34m.\u001b[0m\u001b[0mdownload_file\u001b[0m\u001b[0;34m(\u001b[0m\u001b[0mconstants\u001b[0m\u001b[0;34m.\u001b[0m\u001b[0mCONDA_ENV_FILE_PATH\u001b[0m\u001b[0;34m,\u001b[0m \u001b[0;34m'myenv.yml'\u001b[0m\u001b[0;34m)\u001b[0m\u001b[0;34m\u001b[0m\u001b[0;34m\u001b[0m\u001b[0m\n",
      "\u001b[0;31mModuleNotFoundError\u001b[0m: No module named 'azure.automl'"
     ]
    }
   ],
   "source": [
    "from azure.automl.core.shared import constants\n",
    "best_run.download_file(constants.CONDA_ENV_FILE_PATH, 'myenv.yml')"
   ]
  },
  {
   "cell_type": "code",
   "execution_count": 16,
   "metadata": {
    "collapsed": false,
    "gather": {
     "logged": 1611962726722
    },
    "jupyter": {
     "outputs_hidden": false,
     "source_hidden": false
    },
    "nteract": {
     "transient": {
      "deleting": false
     }
    }
   },
   "outputs": [],
   "source": [
    "#Register the fitted model\r\n",
    "model = remote_run.register_model(model_name = model_name, #AutoMLac80c775a36\r\n",
    "                                  description = 'AutoML model')"
   ]
  },
  {
   "cell_type": "code",
   "execution_count": 17,
   "metadata": {
    "nteract": {
     "transient": {
      "deleting": false
     }
    }
   },
   "outputs": [
    {
     "name": "stdout",
     "output_type": "stream",
     "text": [
      "automl-job-change\n"
     ]
    }
   ],
   "source": [
    "inference_config = InferenceConfig(entry_script = script_file, environment = env)\r\n",
    "\r\n",
    "aci_config = AciWebservice.deploy_configuration(cpu_cores = 1, memory_gb = 1)\r\n",
    "\r\n",
    "aci_service_name = 'automl-job-change'\r\n",
    "print(aci_service_name)"
   ]
  },
  {
   "cell_type": "code",
   "execution_count": 29,
   "metadata": {
    "nteract": {
     "transient": {
      "deleting": false
     }
    }
   },
   "outputs": [
    {
     "name": "stdout",
     "output_type": "stream",
     "text": [
      "Tips: You can try get_logs(): https://aka.ms/debugimage#dockerlog or local deployment: https://aka.ms/debugimage#debug-locally to debug if deployment takes longer than 10 minutes.\n",
      "Running.............................................\n",
      "Succeeded\n",
      "ACI service creation operation finished, operation \"Succeeded\"\n",
      "State: Healthy\n",
      "Scoring URI: http://835fd430-24bf-452d-91fe-930a84454f98.southcentralus.azurecontainer.io/score\n"
     ]
    }
   ],
   "source": [
    "service = Model.deploy(ws, aci_service_name, [model], inference_config, aci_config)\r\n",
    "service.wait_for_deployment(True)\r\n",
    "print(\"State: \" + service.state)\r\n",
    "print(\"Scoring URI: \" + service.scoring_uri)"
   ]
  },
  {
   "cell_type": "code",
   "execution_count": 31,
   "metadata": {},
   "outputs": [],
   "source": [
    "service.update(enable_app_insights=True)"
   ]
  },
  {
   "cell_type": "code",
   "execution_count": 30,
   "metadata": {},
   "outputs": [
    {
     "name": "stdout",
     "output_type": "stream",
     "text": [
      "{\"result\": [0.0, 0.0]}\n"
     ]
    }
   ],
   "source": [
    "%run endpoint.py"
   ]
  },
  {
   "cell_type": "markdown",
   "metadata": {
    "gather": {
     "logged": 1598431657736
    },
    "jupyter": {
     "outputs_hidden": false,
     "source_hidden": false
    },
    "nteract": {
     "transient": {
      "deleting": false
     }
    }
   },
   "source": [
    "TODO: In the cell below, send a request to the web service you deployed to test it."
   ]
  },
  {
   "cell_type": "code",
   "execution_count": 20,
   "metadata": {
    "nteract": {
     "transient": {
      "deleting": false
     }
    }
   },
   "outputs": [
    {
     "data": {
      "text/html": [
       "<div>\n",
       "<style scoped>\n",
       "    .dataframe tbody tr th:only-of-type {\n",
       "        vertical-align: middle;\n",
       "    }\n",
       "\n",
       "    .dataframe tbody tr th {\n",
       "        vertical-align: top;\n",
       "    }\n",
       "\n",
       "    .dataframe thead th {\n",
       "        text-align: right;\n",
       "    }\n",
       "</style>\n",
       "<table border=\"1\" class=\"dataframe\">\n",
       "  <thead>\n",
       "    <tr style=\"text-align: right;\">\n",
       "      <th></th>\n",
       "      <th>city</th>\n",
       "      <th>city_development_index</th>\n",
       "      <th>gender</th>\n",
       "      <th>relevent_experience</th>\n",
       "      <th>enrolled_university</th>\n",
       "      <th>education_level</th>\n",
       "      <th>major_discipline</th>\n",
       "      <th>experience</th>\n",
       "      <th>company_size</th>\n",
       "      <th>company_type</th>\n",
       "      <th>last_new_job</th>\n",
       "      <th>training_hours</th>\n",
       "      <th>target</th>\n",
       "    </tr>\n",
       "  </thead>\n",
       "  <tbody>\n",
       "    <tr>\n",
       "      <th>0</th>\n",
       "      <td>city_103</td>\n",
       "      <td>0.92</td>\n",
       "      <td>Male</td>\n",
       "      <td>Has relevent experience</td>\n",
       "      <td>no_enrollment</td>\n",
       "      <td>Graduate</td>\n",
       "      <td>STEM</td>\n",
       "      <td>&gt;20</td>\n",
       "      <td>None</td>\n",
       "      <td>None</td>\n",
       "      <td>1</td>\n",
       "      <td>36</td>\n",
       "      <td>1.00</td>\n",
       "    </tr>\n",
       "    <tr>\n",
       "      <th>1</th>\n",
       "      <td>city_40</td>\n",
       "      <td>0.78</td>\n",
       "      <td>Male</td>\n",
       "      <td>No relevent experience</td>\n",
       "      <td>no_enrollment</td>\n",
       "      <td>Graduate</td>\n",
       "      <td>STEM</td>\n",
       "      <td>15</td>\n",
       "      <td>50-99</td>\n",
       "      <td>Pvt Ltd</td>\n",
       "      <td>&gt;4</td>\n",
       "      <td>47</td>\n",
       "      <td>0.00</td>\n",
       "    </tr>\n",
       "    <tr>\n",
       "      <th>2</th>\n",
       "      <td>city_21</td>\n",
       "      <td>0.62</td>\n",
       "      <td>None</td>\n",
       "      <td>No relevent experience</td>\n",
       "      <td>Full time course</td>\n",
       "      <td>Graduate</td>\n",
       "      <td>STEM</td>\n",
       "      <td>5</td>\n",
       "      <td>None</td>\n",
       "      <td>None</td>\n",
       "      <td>never</td>\n",
       "      <td>83</td>\n",
       "      <td>0.00</td>\n",
       "    </tr>\n",
       "    <tr>\n",
       "      <th>3</th>\n",
       "      <td>city_115</td>\n",
       "      <td>0.79</td>\n",
       "      <td>None</td>\n",
       "      <td>No relevent experience</td>\n",
       "      <td>None</td>\n",
       "      <td>Graduate</td>\n",
       "      <td>Business Degree</td>\n",
       "      <td>&lt;1</td>\n",
       "      <td>None</td>\n",
       "      <td>Pvt Ltd</td>\n",
       "      <td>never</td>\n",
       "      <td>52</td>\n",
       "      <td>1.00</td>\n",
       "    </tr>\n",
       "    <tr>\n",
       "      <th>4</th>\n",
       "      <td>city_162</td>\n",
       "      <td>0.77</td>\n",
       "      <td>Male</td>\n",
       "      <td>Has relevent experience</td>\n",
       "      <td>no_enrollment</td>\n",
       "      <td>Masters</td>\n",
       "      <td>STEM</td>\n",
       "      <td>&gt;20</td>\n",
       "      <td>50-99</td>\n",
       "      <td>Funded Startup</td>\n",
       "      <td>4</td>\n",
       "      <td>8</td>\n",
       "      <td>0.00</td>\n",
       "    </tr>\n",
       "  </tbody>\n",
       "</table>\n",
       "</div>"
      ],
      "text/plain": [
       "       city  city_development_index gender      relevent_experience  \\\n",
       "0  city_103                    0.92   Male  Has relevent experience   \n",
       "1   city_40                    0.78   Male   No relevent experience   \n",
       "2   city_21                    0.62   None   No relevent experience   \n",
       "3  city_115                    0.79   None   No relevent experience   \n",
       "4  city_162                    0.77   Male  Has relevent experience   \n",
       "\n",
       "  enrolled_university education_level major_discipline experience  \\\n",
       "0       no_enrollment        Graduate             STEM        >20   \n",
       "1       no_enrollment        Graduate             STEM         15   \n",
       "2    Full time course        Graduate             STEM          5   \n",
       "3                None        Graduate  Business Degree         <1   \n",
       "4       no_enrollment         Masters             STEM        >20   \n",
       "\n",
       "  company_size    company_type last_new_job  training_hours  target  \n",
       "0         None            None            1              36    1.00  \n",
       "1        50-99         Pvt Ltd           >4              47    0.00  \n",
       "2         None            None        never              83    0.00  \n",
       "3         None         Pvt Ltd        never              52    1.00  \n",
       "4        50-99  Funded Startup            4               8    0.00  "
      ]
     },
     "execution_count": 20,
     "metadata": {},
     "output_type": "execute_result"
    }
   ],
   "source": [
    "dataset.to_pandas_dataframe().head()"
   ]
  },
  {
   "cell_type": "code",
   "execution_count": 21,
   "metadata": {},
   "outputs": [
    {
     "name": "stdout",
     "output_type": "stream",
     "text": [
      "{\"data\": [{\"city\": \"city_75\", \"city_development_index\": 0.9390000000000001, \"gender\": null, \"relevent_experience\": \"No relevent experience\", \"enrolled_university\": \"no_enrollment\", \"education_level\": null, \"major_discipline\": null, \"experience\": \"1\", \"company_size\": null, \"company_type\": null, \"last_new_job\": \"1\", \"training_hours\": 75}, {\"city\": \"city_97\", \"city_development_index\": 0.925, \"gender\": \"Male\", \"relevent_experience\": \"Has relevent experience\", \"enrolled_university\": \"no_enrollment\", \"education_level\": \"Masters\", \"major_discipline\": \"STEM\", \"experience\": \"8\", \"company_size\": \"10000+\", \"company_type\": \"Pvt Ltd\", \"last_new_job\": \"2\", \"training_hours\": 124}, {\"city\": \"city_103\", \"city_development_index\": 0.92, \"gender\": \"Male\", \"relevent_experience\": \"Has relevent experience\", \"enrolled_university\": \"no_enrollment\", \"education_level\": \"Phd\", \"major_discipline\": \"STEM\", \"experience\": \">20\", \"company_size\": \"100-500\", \"company_type\": \"Funded Startup\", \"last_new_job\": \"3\", \"training_hours\": 34}]}\n"
     ]
    }
   ],
   "source": [
    "data_sample = dataset.to_pandas_dataframe().sample(3)\n",
    "y_true = data_sample.pop('target')\n",
    "sample_json = json.dumps({'data':data_sample.to_dict(orient='records')})\n",
    "print(sample_json)"
   ]
  },
  {
   "cell_type": "code",
   "execution_count": 22,
   "metadata": {
    "nteract": {
     "transient": {
      "deleting": false
     }
    }
   },
   "outputs": [
    {
     "name": "stdout",
     "output_type": "stream",
     "text": [
      "Prediction:  {\"result\": [0.0, 0.0, 0.0]}\n",
      "True Values:  [0. 0. 0.]\n"
     ]
    }
   ],
   "source": [
    "output = service.run(sample_json)\r\n",
    "print('Prediction: ', output)\r\n",
    "print('True Values: ', y_true.values)"
   ]
  },
  {
   "cell_type": "code",
   "execution_count": 23,
   "metadata": {
    "nteract": {
     "transient": {
      "deleting": false
     }
    }
   },
   "outputs": [
    {
     "data": {
      "text/plain": [
       "'2021-01-31T10:51:57,945921794+00:00 - rsyslog/run \\n2021-01-31T10:51:57,946972084+00:00 - gunicorn/run \\n2021-01-31T10:51:57,947137998+00:00 - iot-server/run \\n2021-01-31T10:51:57,949832528+00:00 - nginx/run \\n/usr/sbin/nginx: /azureml-envs/azureml_265db83b0c6014ce472c5de2f0b97e04/lib/libcrypto.so.1.0.0: no version information available (required by /usr/sbin/nginx)\\n/usr/sbin/nginx: /azureml-envs/azureml_265db83b0c6014ce472c5de2f0b97e04/lib/libcrypto.so.1.0.0: no version information available (required by /usr/sbin/nginx)\\n/usr/sbin/nginx: /azureml-envs/azureml_265db83b0c6014ce472c5de2f0b97e04/lib/libssl.so.1.0.0: no version information available (required by /usr/sbin/nginx)\\n/usr/sbin/nginx: /azureml-envs/azureml_265db83b0c6014ce472c5de2f0b97e04/lib/libssl.so.1.0.0: no version information available (required by /usr/sbin/nginx)\\n/usr/sbin/nginx: /azureml-envs/azureml_265db83b0c6014ce472c5de2f0b97e04/lib/libssl.so.1.0.0: no version information available (required by /usr/sbin/nginx)\\nrsyslogd: /azureml-envs/azureml_265db83b0c6014ce472c5de2f0b97e04/lib/libuuid.so.1: no version information available (required by rsyslogd)\\nEdgeHubConnectionString and IOTEDGE_IOTHUBHOSTNAME are not set. Exiting...\\n2021-01-31T10:51:58,126277820+00:00 - iot-server/finish 1 0\\n2021-01-31T10:51:58,127767047+00:00 - Exit code 1 is normal. Not restarting iot-server.\\nStarting gunicorn 19.9.0\\nListening at: http://127.0.0.1:31311 (13)\\nUsing worker: sync\\nworker timeout is set to 300\\nBooting worker with pid: 42\\nSPARK_HOME not set. Skipping PySpark Initialization.\\nGenerating new fontManager, this may take some time...\\nInitializing logger\\n2021-01-31 10:51:59,316 | root | INFO | Starting up app insights client\\n2021-01-31 10:51:59,316 | root | INFO | Starting up request id generator\\n2021-01-31 10:51:59,316 | root | INFO | Starting up app insight hooks\\n2021-01-31 10:51:59,316 | root | INFO | Invoking user\\'s init function\\n2021-01-31 10:52:01,630 | azureml.core | WARNING | Failure while loading azureml_run_type_providers. Failed to load entrypoint automl = azureml.train.automl.run:AutoMLRun._from_run_dto with exception cannot import name \\'RunType\\'.\\nFailure while loading azureml_run_type_providers. Failed to load entrypoint automl = azureml.train.automl.run:AutoMLRun._from_run_dto with exception cannot import name \\'RunType\\'.\\n2021-01-31 10:52:01,974 | root | INFO | Users\\'s init has completed successfully\\n2021-01-31 10:52:01,978 | root | INFO | Skipping middleware: dbg_model_info as it\\'s not enabled.\\n2021-01-31 10:52:01,978 | root | INFO | Skipping middleware: dbg_resource_usage as it\\'s not enabled.\\n2021-01-31 10:52:01,979 | root | INFO | Scoring timeout is found from os.environ: 60000 ms\\n2021-01-31 10:52:11,621 | root | INFO | 200\\n127.0.0.1 - - [31/Jan/2021:10:52:11 +0000] \"GET /swagger.json HTTP/1.0\" 200 2846 \"-\" \"Go-http-client/1.1\"\\n2021-01-31 10:52:16,103 | root | INFO | 200\\n127.0.0.1 - - [31/Jan/2021:10:52:16 +0000] \"GET /swagger.json HTTP/1.0\" 200 2846 \"-\" \"Go-http-client/1.1\"\\n2021-01-31 10:52:19,889 | root | INFO | Validation Request Content-Type\\n2021-01-31 10:52:19,890 | root | INFO | Scoring Timer is set to 60.0 seconds\\n2021-01-31 10:52:20,037 | root | INFO | 200\\n127.0.0.1 - - [31/Jan/2021:10:52:20 +0000] \"POST /score HTTP/1.0\" 200 31 \"-\" \"python-requests/2.25.1\"\\n'"
      ]
     },
     "execution_count": 23,
     "metadata": {},
     "output_type": "execute_result"
    }
   ],
   "source": [
    "service.get_logs()"
   ]
  },
  {
   "cell_type": "markdown",
   "metadata": {
    "gather": {
     "logged": 1598432765711
    },
    "jupyter": {
     "outputs_hidden": false,
     "source_hidden": false
    },
    "nteract": {
     "transient": {
      "deleting": false
     }
    }
   },
   "source": [
    "TODO: In the cell below, print the logs of the web service and delete the service"
   ]
  },
  {
   "cell_type": "code",
   "execution_count": 24,
   "metadata": {
    "nteract": {
     "transient": {
      "deleting": false
     }
    }
   },
   "outputs": [],
   "source": [
    "service.delete()"
   ]
  }
 ],
 "metadata": {
  "kernel_info": {
   "name": "python3"
  },
  "kernelspec": {
   "display_name": "Python 3",
   "language": "python",
   "name": "python3"
  },
  "language_info": {
   "codemirror_mode": {
    "name": "ipython",
    "version": 3
   },
   "file_extension": ".py",
   "mimetype": "text/x-python",
   "name": "python",
   "nbconvert_exporter": "python",
   "pygments_lexer": "ipython3",
   "version": "3.6.9"
  },
  "nteract": {
   "version": "nteract-front-end@1.0.0"
  }
 },
 "nbformat": 4,
 "nbformat_minor": 4
}
