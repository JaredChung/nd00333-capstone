{
 "cells": [
  {
   "cell_type": "markdown",
   "metadata": {},
   "source": [
    "# Automated ML\n",
    "\n",
    "TODO: Import Dependencies. In the cell below, import all the dependencies that you will need to complete the project."
   ]
  },
  {
   "cell_type": "code",
   "execution_count": 1,
   "metadata": {
    "collapsed": false,
    "gather": {
     "logged": 1611955113890
    },
    "jupyter": {
     "outputs_hidden": false,
     "source_hidden": false
    },
    "nteract": {
     "transient": {
      "deleting": false
     }
    }
   },
   "outputs": [],
   "source": [
    "from azureml.core import Dataset, Workspace, Experiment\r\n",
    "from azureml.core.compute import ComputeTarget, AmlCompute\r\n",
    "from azureml.core.compute_target import ComputeTargetException\r\n",
    "from azureml.widgets import RunDetails\r\n",
    "from azureml.train.automl import AutoMLConfig\r\n",
    "\r\n",
    "from azureml.core.model import InferenceConfig\r\n",
    "from azureml.core.webservice import AciWebservice, Webservice\r\n",
    "from azureml.core.model import Model\r\n",
    "from azureml.core.environment import Environment"
   ]
  },
  {
   "cell_type": "markdown",
   "metadata": {},
   "source": [
    "## Dataset\n",
    "\n",
    "### Overview\n",
    "TODO: In this markdown cell, give an overview of the dataset you are using. Also mention the task you will be performing.\n",
    "\n",
    "\n",
    "TODO: Get data. In the cell below, write code to access the data you will be using in this project. Remember that the dataset needs to be external."
   ]
  },
  {
   "cell_type": "code",
   "execution_count": 2,
   "metadata": {
    "collapsed": false,
    "gather": {
     "logged": 1611954915167
    },
    "jupyter": {
     "outputs_hidden": false,
     "source_hidden": false
    },
    "nteract": {
     "transient": {
      "deleting": false
     }
    }
   },
   "outputs": [],
   "source": [
    "ws = Workspace.from_config()\n",
    "\n",
    "# choose a name for experiment\n",
    "experiment_name = 'jobchangeautoml'\n",
    "\n",
    "experiment=Experiment(ws, experiment_name)"
   ]
  },
  {
   "cell_type": "code",
   "execution_count": 3,
   "metadata": {
    "gather": {
     "logged": 1611955181134
    },
    "nteract": {
     "transient": {
      "deleting": false
     }
    }
   },
   "outputs": [
    {
     "data": {
      "text/plain": [
       "{\n",
       "  \"source\": [\n",
       "    \"('workspaceblobstore', 'UI/01-31-2021_041851_UTC/aug_train.csv')\"\n",
       "  ],\n",
       "  \"definition\": [\n",
       "    \"GetDatastoreFiles\",\n",
       "    \"ParseDelimited\",\n",
       "    \"DropColumns\",\n",
       "    \"SetColumnTypes\"\n",
       "  ],\n",
       "  \"registration\": {\n",
       "    \"id\": \"f0acea14-bafe-4304-ad4a-be43f0214298\",\n",
       "    \"name\": \"traindata\",\n",
       "    \"version\": 1,\n",
       "    \"workspace\": \"Workspace.create(name='quick-starts-ws-136680', subscription_id='d7f39349-a66b-446e-aba6-0053c2cf1c11', resource_group='aml-quickstarts-136680')\"\n",
       "  }\n",
       "}"
      ]
     },
     "execution_count": 3,
     "metadata": {},
     "output_type": "execute_result"
    }
   ],
   "source": [
    "dataset = Dataset.get_by_name(ws, 'traindata')\n",
    "#dataset = dataset.to_pandas_dataframe().drop('enrollee_id',axis=1)\n",
    "dataset"
   ]
  },
  {
   "cell_type": "code",
   "execution_count": 4,
   "metadata": {
    "gather": {
     "logged": 1611955266774
    },
    "nteract": {
     "transient": {
      "deleting": false
     }
    }
   },
   "outputs": [
    {
     "name": "stdout",
     "output_type": "stream",
     "text": [
      "Creating\n",
      "Succeeded\n",
      "AmlCompute wait for completion finished\n",
      "\n",
      "Minimum number of nodes requested have been provisioned\n"
     ]
    }
   ],
   "source": [
    "cpu_cluster_name = \"cpu-cluster\"\r\n",
    "\r\n",
    "# Verify that cluster does not exist already\r\n",
    "try:\r\n",
    "    compute_target = ComputeTarget(workspace=ws, name=cpu_cluster_name)\r\n",
    "    print('Found existing cluster, use it.')\r\n",
    "except ComputeTargetException:\r\n",
    "    compute_config = AmlCompute.provisioning_configuration(vm_size='STANDARD_D12_V2',\r\n",
    "                                                           max_nodes=5)\r\n",
    "    compute_target = ComputeTarget.create(ws, cpu_cluster_name, compute_config)\r\n",
    "\r\n",
    "compute_target.wait_for_completion(show_output=True)"
   ]
  },
  {
   "cell_type": "markdown",
   "metadata": {},
   "source": [
    "## AutoML Configuration\n",
    "\n",
    "TODO: Explain why you chose the automl settings and cofiguration you used below."
   ]
  },
  {
   "cell_type": "code",
   "execution_count": 5,
   "metadata": {
    "collapsed": false,
    "gather": {
     "logged": 1611955319895
    },
    "jupyter": {
     "outputs_hidden": false,
     "source_hidden": false
    },
    "nteract": {
     "transient": {
      "deleting": false
     }
    }
   },
   "outputs": [],
   "source": [
    "# TODO: Put your automl settings here\n",
    "automl_settings = {\n",
    "    \"experiment_timeout_minutes\": 15,\n",
    "    \"max_concurrent_iterations\": 4,\n",
    "    \"primary_metric\" : 'accuracy',\n",
    "    \"n_cross_validations\": 5\n",
    "}\n",
    "# TODO: Put your automl config here\n",
    "automl_config = AutoMLConfig(compute_target=compute_target,\n",
    "                             task = \"classification\",\n",
    "                             training_data=dataset,\n",
    "                             label_column_name=\"target\", \n",
    "                             enable_early_stopping= True,\n",
    "                             featurization= 'auto',\n",
    "                             **automl_settings\n",
    "                            )"
   ]
  },
  {
   "cell_type": "code",
   "execution_count": 6,
   "metadata": {
    "collapsed": false,
    "gather": {
     "logged": 1611957100649
    },
    "jupyter": {
     "outputs_hidden": false,
     "source_hidden": false
    },
    "nteract": {
     "transient": {
      "deleting": false
     }
    }
   },
   "outputs": [
    {
     "name": "stdout",
     "output_type": "stream",
     "text": [
      "Running on remote.\n",
      "No run_configuration provided, running on cpu-cluster with default configuration\n",
      "Running on remote compute: cpu-cluster\n",
      "Parent Run ID: AutoML_a2097c92-4271-44a9-aa13-020ff2552d48\n",
      "\n",
      "Current status: FeaturesGeneration. Generating features for the dataset.\n",
      "Current status: DatasetCrossValidationSplit. Generating individually featurized CV splits.\n",
      "Current status: ModelSelection. Beginning model selection.\n",
      "\n",
      "****************************************************************************************************\n",
      "DATA GUARDRAILS: \n",
      "\n",
      "TYPE:         Class balancing detection\n",
      "STATUS:       PASSED\n",
      "DESCRIPTION:  Your inputs were analyzed, and all classes are balanced in your training data.\n",
      "              Learn more about imbalanced data: https://aka.ms/AutomatedMLImbalancedData\n",
      "\n",
      "****************************************************************************************************\n",
      "\n",
      "TYPE:         Missing feature values imputation\n",
      "STATUS:       DONE\n",
      "DESCRIPTION:  If the missing values are expected, let the run complete. Otherwise cancel the current run and use a script to customize the handling of missing feature values that may be more appropriate based on the data type and business requirement.\n",
      "              Learn more about missing value imputation: https://aka.ms/AutomatedMLFeaturization\n",
      "DETAILS:      \n",
      "+---------------------------------+---------------------------------+\n",
      "|Column name                      |Missing value count              |\n",
      "+=================================+=================================+\n",
      "|gender                           |4508                             |\n",
      "|enrolled_university              |386                              |\n",
      "|education_level                  |460                              |\n",
      "|major_discipline                 |2813                             |\n",
      "|experience                       |65                               |\n",
      "|company_size                     |5938                             |\n",
      "|company_type                     |6140                             |\n",
      "|last_new_job                     |423                              |\n",
      "+---------------------------------+---------------------------------+\n",
      "\n",
      "****************************************************************************************************\n",
      "\n",
      "TYPE:         High cardinality feature detection\n",
      "STATUS:       PASSED\n",
      "DESCRIPTION:  Your inputs were analyzed, and no high cardinality features were detected.\n",
      "              Learn more about high cardinality feature handling: https://aka.ms/AutomatedMLFeaturization\n",
      "\n",
      "****************************************************************************************************\n",
      "\n",
      "****************************************************************************************************\n",
      "ITERATION: The iteration being evaluated.\n",
      "PIPELINE: A summary description of the pipeline being evaluated.\n",
      "DURATION: Time taken for the current iteration.\n",
      "METRIC: The result of computing score on the fitted pipeline.\n",
      "BEST: The best observed score thus far.\n",
      "****************************************************************************************************\n",
      "\n",
      " ITERATION   PIPELINE                                       DURATION      METRIC      BEST\n",
      "         0   MaxAbsScaler LightGBM                          0:00:57       0.7939    0.7939\n",
      "         2   MaxAbsScaler RandomForest                      0:00:52       0.7744    0.7939\n",
      "         3   MaxAbsScaler RandomForest                      0:00:56       0.7537    0.7939\n",
      "         4   MaxAbsScaler RandomForest                      0:00:55       0.7447    0.7939\n",
      "         1   MaxAbsScaler XGBoostClassifier                 0:02:48       0.7935    0.7939\n",
      "         5   MaxAbsScaler RandomForest                      0:00:55       0.7119    0.7939\n",
      "         6   SparseNormalizer XGBoostClassifier             0:01:11       0.7903    0.7939\n",
      "         9   SparseNormalizer XGBoostClassifier             0:00:49       0.7920    0.7939\n",
      "         8   SparseNormalizer XGBoostClassifier             0:01:10       0.7895    0.7939\n",
      "        10   StandardScalerWrapper RandomForest             0:00:57       0.7809    0.7939\n",
      "        11   SparseNormalizer XGBoostClassifier             0:00:48       0.7747    0.7939\n",
      "         7   SparseNormalizer XGBoostClassifier             0:02:57       0.7888    0.7939\n",
      "        12   MaxAbsScaler RandomForest                      0:01:01       0.7823    0.7939\n",
      "        13   MaxAbsScaler LogisticRegression                0:01:01       0.7810    0.7939\n",
      "        14   StandardScalerWrapper LightGBM                 0:00:50       0.7651    0.7939\n",
      "        16   MaxAbsScaler LightGBM                          0:01:04       0.7744    0.7939\n",
      "        17   MaxAbsScaler LightGBM                          0:00:55       0.7745    0.7939\n",
      "        18   SparseNormalizer XGBoostClassifier             0:00:55       0.7889    0.7939\n",
      "        15   MaxAbsScaler ExtremeRandomTrees                0:01:55       0.7787    0.7939\n",
      "        20   MaxAbsScaler LogisticRegression                0:00:50       0.7804    0.7939\n",
      "        19   MaxAbsScaler LightGBM                          0:01:02       0.7859    0.7939\n",
      "        22   SparseNormalizer LightGBM                      0:01:01       0.7545    0.7939\n",
      "        21   SparseNormalizer XGBoostClassifier             0:01:23       0.7887    0.7939\n",
      "        23   SparseNormalizer XGBoostClassifier             0:01:14       0.7875    0.7939\n",
      "        24   StandardScalerWrapper ExtremeRandomTrees       0:01:14       0.7763    0.7939\n",
      "        25   StandardScalerWrapper LightGBM                 0:00:53       0.7507    0.7939\n",
      "        26   MaxAbsScaler GradientBoosting                  0:01:22       0.7901    0.7939\n",
      "        29   MaxAbsScaler LightGBM                          0:00:46       0.7857    0.7939\n",
      "        28   MaxAbsScaler LightGBM                          0:01:06       0.7907    0.7939\n",
      "        27   SparseNormalizer RandomForest                  0:01:41       0.7764    0.7939\n",
      "        30   SparseNormalizer LightGBM                      0:00:55       0.7507    0.7939\n",
      "        31   MaxAbsScaler RandomForest                      0:01:25       0.7916    0.7939\n",
      "        33   SparseNormalizer LightGBM                      0:00:53       0.7795    0.7939\n",
      "        32   SparseNormalizer XGBoostClassifier             0:01:31       0.7906    0.7939\n",
      "        34   TruncatedSVDWrapper XGBoostClassifier          0:00:49       0.7808    0.7939\n",
      "        35                                                  0:00:17          nan    0.7939\n",
      "        36    VotingEnsemble                                0:01:35       0.7996    0.7996\n",
      "        37    StackEnsemble                                 0:01:43       0.7954    0.7996\n"
     ]
    }
   ],
   "source": [
    "# TODO: Submit your experiment\n",
    "remote_run = experiment.submit(automl_config, show_output = True)\n"
   ]
  },
  {
   "cell_type": "markdown",
   "metadata": {},
   "source": [
    "## Run Details\n",
    "\n",
    "OPTIONAL: Write about the different models trained and their performance. Why do you think some models did better than others?\n",
    "\n",
    "TODO: In the cell below, use the `RunDetails` widget to show the different experiments."
   ]
  },
  {
   "cell_type": "code",
   "execution_count": 7,
   "metadata": {
    "gather": {
     "logged": 1611957100717
    },
    "nteract": {
     "transient": {
      "deleting": false
     }
    }
   },
   "outputs": [
    {
     "data": {
      "text/html": [
       "<table style=\"width:100%\"><tr><th>Experiment</th><th>Id</th><th>Type</th><th>Status</th><th>Details Page</th><th>Docs Page</th></tr><tr><td>jobchangeautoml</td><td>AutoML_a2097c92-4271-44a9-aa13-020ff2552d48</td><td>automl</td><td>Completed</td><td><a href=\"https://ml.azure.com/experiments/jobchangeautoml/runs/AutoML_a2097c92-4271-44a9-aa13-020ff2552d48?wsid=/subscriptions/d7f39349-a66b-446e-aba6-0053c2cf1c11/resourcegroups/aml-quickstarts-136680/workspaces/quick-starts-ws-136680\" target=\"_blank\" rel=\"noopener\">Link to Azure Machine Learning studio</a></td><td><a href=\"https://docs.microsoft.com/en-us/python/api/overview/azure/ml/intro?view=azure-ml-py\" target=\"_blank\" rel=\"noopener\">Link to Documentation</a></td></tr></table>"
      ],
      "text/plain": [
       "Run(Experiment: jobchangeautoml,\n",
       "Id: AutoML_a2097c92-4271-44a9-aa13-020ff2552d48,\n",
       "Type: automl,\n",
       "Status: Completed)"
      ]
     },
     "execution_count": 7,
     "metadata": {},
     "output_type": "execute_result"
    }
   ],
   "source": [
    "remote_run"
   ]
  },
  {
   "cell_type": "code",
   "execution_count": 8,
   "metadata": {
    "collapsed": false,
    "gather": {
     "logged": 1611957100803
    },
    "jupyter": {
     "outputs_hidden": false,
     "source_hidden": false
    },
    "nteract": {
     "transient": {
      "deleting": false
     }
    }
   },
   "outputs": [
    {
     "data": {
      "application/vnd.jupyter.widget-view+json": {
       "model_id": "f65ae704c12a49df824d3703b810138d",
       "version_major": 2,
       "version_minor": 0
      },
      "text/plain": [
       "_AutoMLWidget(widget_settings={'childWidgetDisplay': 'popup', 'send_telemetry': False, 'log_level': 'INFO', 's…"
      ]
     },
     "metadata": {},
     "output_type": "display_data"
    },
    {
     "data": {
      "application/aml.mini.widget.v1": "{\"status\": \"Completed\", \"workbench_run_details_uri\": \"https://ml.azure.com/experiments/jobchangeautoml/runs/AutoML_a2097c92-4271-44a9-aa13-020ff2552d48?wsid=/subscriptions/d7f39349-a66b-446e-aba6-0053c2cf1c11/resourcegroups/aml-quickstarts-136680/workspaces/quick-starts-ws-136680\", \"run_id\": \"AutoML_a2097c92-4271-44a9-aa13-020ff2552d48\", \"run_properties\": {\"run_id\": \"AutoML_a2097c92-4271-44a9-aa13-020ff2552d48\", \"created_utc\": \"2021-01-31T04:22:04.219035Z\", \"properties\": {\"num_iterations\": \"1000\", \"training_type\": \"TrainFull\", \"acquisition_function\": \"EI\", \"primary_metric\": \"accuracy\", \"train_split\": \"0\", \"acquisition_parameter\": \"0\", \"num_cross_validation\": \"5\", \"target\": \"cpu-cluster\", \"AMLSettingsJsonString\": \"{\\\"path\\\":null,\\\"name\\\":\\\"jobchangeautoml\\\",\\\"subscription_id\\\":\\\"d7f39349-a66b-446e-aba6-0053c2cf1c11\\\",\\\"resource_group\\\":\\\"aml-quickstarts-136680\\\",\\\"workspace_name\\\":\\\"quick-starts-ws-136680\\\",\\\"region\\\":\\\"southcentralus\\\",\\\"compute_target\\\":\\\"cpu-cluster\\\",\\\"spark_service\\\":null,\\\"azure_service\\\":\\\"remote\\\",\\\"many_models\\\":false,\\\"pipeline_fetch_max_batch_size\\\":1,\\\"iterations\\\":1000,\\\"primary_metric\\\":\\\"accuracy\\\",\\\"task_type\\\":\\\"classification\\\",\\\"data_script\\\":null,\\\"validation_size\\\":0.0,\\\"n_cross_validations\\\":5,\\\"y_min\\\":null,\\\"y_max\\\":null,\\\"num_classes\\\":null,\\\"featurization\\\":\\\"auto\\\",\\\"_ignore_package_version_incompatibilities\\\":false,\\\"is_timeseries\\\":false,\\\"max_cores_per_iteration\\\":1,\\\"max_concurrent_iterations\\\":4,\\\"iteration_timeout_minutes\\\":null,\\\"mem_in_mb\\\":null,\\\"enforce_time_on_windows\\\":false,\\\"experiment_timeout_minutes\\\":15,\\\"experiment_exit_score\\\":null,\\\"whitelist_models\\\":null,\\\"blacklist_algos\\\":[\\\"TensorFlowLinearClassifier\\\",\\\"TensorFlowDNN\\\"],\\\"supported_models\\\":[\\\"MultinomialNaiveBayes\\\",\\\"LogisticRegression\\\",\\\"TensorFlowDNN\\\",\\\"SVM\\\",\\\"SGD\\\",\\\"XGBoostClassifier\\\",\\\"BernoulliNaiveBayes\\\",\\\"LinearSVM\\\",\\\"AveragedPerceptronClassifier\\\",\\\"ExtremeRandomTrees\\\",\\\"GradientBoosting\\\",\\\"KNN\\\",\\\"TensorFlowLinearClassifier\\\",\\\"DecisionTree\\\",\\\"RandomForest\\\",\\\"LightGBM\\\"],\\\"auto_blacklist\\\":true,\\\"blacklist_samples_reached\\\":false,\\\"exclude_nan_labels\\\":true,\\\"verbosity\\\":20,\\\"_debug_log\\\":\\\"azureml_automl.log\\\",\\\"show_warnings\\\":false,\\\"model_explainability\\\":true,\\\"service_url\\\":null,\\\"sdk_url\\\":null,\\\"sdk_packages\\\":null,\\\"enable_onnx_compatible_models\\\":false,\\\"enable_split_onnx_featurizer_estimator_models\\\":false,\\\"vm_type\\\":\\\"STANDARD_D12_V2\\\",\\\"telemetry_verbosity\\\":20,\\\"send_telemetry\\\":true,\\\"enable_dnn\\\":false,\\\"scenario\\\":\\\"SDK-1.13.0\\\",\\\"environment_label\\\":null,\\\"force_text_dnn\\\":false,\\\"enable_feature_sweeping\\\":true,\\\"enable_early_stopping\\\":true,\\\"early_stopping_n_iters\\\":10,\\\"metrics\\\":null,\\\"enable_ensembling\\\":true,\\\"enable_stack_ensembling\\\":true,\\\"ensemble_iterations\\\":15,\\\"enable_tf\\\":false,\\\"enable_subsampling\\\":null,\\\"subsample_seed\\\":null,\\\"enable_nimbusml\\\":false,\\\"enable_streaming\\\":false,\\\"force_streaming\\\":false,\\\"track_child_runs\\\":true,\\\"allowed_private_models\\\":[],\\\"label_column_name\\\":\\\"target\\\",\\\"weight_column_name\\\":null,\\\"cv_split_column_names\\\":null,\\\"enable_local_managed\\\":false,\\\"_local_managed_run_id\\\":null,\\\"cost_mode\\\":1,\\\"lag_length\\\":0,\\\"metric_operation\\\":\\\"maximize\\\",\\\"preprocess\\\":true}\", \"DataPrepJsonString\": \"{\\\\\\\"training_data\\\\\\\": \\\\\\\"{\\\\\\\\\\\\\\\"blocks\\\\\\\\\\\\\\\": [{\\\\\\\\\\\\\\\"id\\\\\\\\\\\\\\\": \\\\\\\\\\\\\\\"d9b50f64-ce0c-4332-8a92-6e1129fafb56\\\\\\\\\\\\\\\", \\\\\\\\\\\\\\\"type\\\\\\\\\\\\\\\": \\\\\\\\\\\\\\\"Microsoft.DPrep.GetDatastoreFilesBlock\\\\\\\\\\\\\\\", \\\\\\\\\\\\\\\"arguments\\\\\\\\\\\\\\\": {\\\\\\\\\\\\\\\"datastores\\\\\\\\\\\\\\\": [{\\\\\\\\\\\\\\\"datastoreName\\\\\\\\\\\\\\\": \\\\\\\\\\\\\\\"workspaceblobstore\\\\\\\\\\\\\\\", \\\\\\\\\\\\\\\"path\\\\\\\\\\\\\\\": \\\\\\\\\\\\\\\"UI/01-31-2021_041851_UTC/aug_train.csv\\\\\\\\\\\\\\\", \\\\\\\\\\\\\\\"resourceGroup\\\\\\\\\\\\\\\": \\\\\\\\\\\\\\\"aml-quickstarts-136680\\\\\\\\\\\\\\\", \\\\\\\\\\\\\\\"subscription\\\\\\\\\\\\\\\": \\\\\\\\\\\\\\\"d7f39349-a66b-446e-aba6-0053c2cf1c11\\\\\\\\\\\\\\\", \\\\\\\\\\\\\\\"workspaceName\\\\\\\\\\\\\\\": \\\\\\\\\\\\\\\"quick-starts-ws-136680\\\\\\\\\\\\\\\"}]}, \\\\\\\\\\\\\\\"localData\\\\\\\\\\\\\\\": {}, \\\\\\\\\\\\\\\"isEnabled\\\\\\\\\\\\\\\": true, \\\\\\\\\\\\\\\"name\\\\\\\\\\\\\\\": null, \\\\\\\\\\\\\\\"annotation\\\\\\\\\\\\\\\": null}, {\\\\\\\\\\\\\\\"id\\\\\\\\\\\\\\\": \\\\\\\\\\\\\\\"16a12452-8631-4cad-92ce-9b7f1e1240ab\\\\\\\\\\\\\\\", \\\\\\\\\\\\\\\"type\\\\\\\\\\\\\\\": \\\\\\\\\\\\\\\"Microsoft.DPrep.ParseDelimitedBlock\\\\\\\\\\\\\\\", \\\\\\\\\\\\\\\"arguments\\\\\\\\\\\\\\\": {\\\\\\\\\\\\\\\"columnHeadersMode\\\\\\\\\\\\\\\": 1, \\\\\\\\\\\\\\\"fileEncoding\\\\\\\\\\\\\\\": 0, \\\\\\\\\\\\\\\"handleQuotedLineBreaks\\\\\\\\\\\\\\\": false, \\\\\\\\\\\\\\\"preview\\\\\\\\\\\\\\\": false, \\\\\\\\\\\\\\\"separator\\\\\\\\\\\\\\\": \\\\\\\\\\\\\\\",\\\\\\\\\\\\\\\", \\\\\\\\\\\\\\\"skipRows\\\\\\\\\\\\\\\": 0, \\\\\\\\\\\\\\\"skipRowsMode\\\\\\\\\\\\\\\": 0}, \\\\\\\\\\\\\\\"localData\\\\\\\\\\\\\\\": {}, \\\\\\\\\\\\\\\"isEnabled\\\\\\\\\\\\\\\": true, \\\\\\\\\\\\\\\"name\\\\\\\\\\\\\\\": null, \\\\\\\\\\\\\\\"annotation\\\\\\\\\\\\\\\": null}, {\\\\\\\\\\\\\\\"id\\\\\\\\\\\\\\\": \\\\\\\\\\\\\\\"1c48470f-63d6-439a-b01b-dbc9e40a947d\\\\\\\\\\\\\\\", \\\\\\\\\\\\\\\"type\\\\\\\\\\\\\\\": \\\\\\\\\\\\\\\"Microsoft.DPrep.DropColumnsBlock\\\\\\\\\\\\\\\", \\\\\\\\\\\\\\\"arguments\\\\\\\\\\\\\\\": {\\\\\\\\\\\\\\\"columns\\\\\\\\\\\\\\\": {\\\\\\\\\\\\\\\"type\\\\\\\\\\\\\\\": 0, \\\\\\\\\\\\\\\"details\\\\\\\\\\\\\\\": {\\\\\\\\\\\\\\\"selectedColumns\\\\\\\\\\\\\\\": [\\\\\\\\\\\\\\\"Path\\\\\\\\\\\\\\\", \\\\\\\\\\\\\\\"enrollee_id\\\\\\\\\\\\\\\"]}}}, \\\\\\\\\\\\\\\"localData\\\\\\\\\\\\\\\": {}, \\\\\\\\\\\\\\\"isEnabled\\\\\\\\\\\\\\\": true, \\\\\\\\\\\\\\\"name\\\\\\\\\\\\\\\": null, \\\\\\\\\\\\\\\"annotation\\\\\\\\\\\\\\\": null}, {\\\\\\\\\\\\\\\"id\\\\\\\\\\\\\\\": \\\\\\\\\\\\\\\"ad3f72a5-c028-4826-995c-d4365ed0fa63\\\\\\\\\\\\\\\", \\\\\\\\\\\\\\\"type\\\\\\\\\\\\\\\": \\\\\\\\\\\\\\\"Microsoft.DPrep.SetColumnTypesBlock\\\\\\\\\\\\\\\", \\\\\\\\\\\\\\\"arguments\\\\\\\\\\\\\\\": {\\\\\\\\\\\\\\\"columnConversion\\\\\\\\\\\\\\\": [{\\\\\\\\\\\\\\\"column\\\\\\\\\\\\\\\": {\\\\\\\\\\\\\\\"type\\\\\\\\\\\\\\\": 2, \\\\\\\\\\\\\\\"details\\\\\\\\\\\\\\\": {\\\\\\\\\\\\\\\"selectedColumn\\\\\\\\\\\\\\\": \\\\\\\\\\\\\\\"Path\\\\\\\\\\\\\\\"}}, \\\\\\\\\\\\\\\"typeProperty\\\\\\\\\\\\\\\": 0}, {\\\\\\\\\\\\\\\"column\\\\\\\\\\\\\\\": {\\\\\\\\\\\\\\\"type\\\\\\\\\\\\\\\": 2, \\\\\\\\\\\\\\\"details\\\\\\\\\\\\\\\": {\\\\\\\\\\\\\\\"selectedColumn\\\\\\\\\\\\\\\": \\\\\\\\\\\\\\\"enrollee_id\\\\\\\\\\\\\\\"}}, \\\\\\\\\\\\\\\"typeProperty\\\\\\\\\\\\\\\": 2}, {\\\\\\\\\\\\\\\"column\\\\\\\\\\\\\\\": {\\\\\\\\\\\\\\\"type\\\\\\\\\\\\\\\": 2, \\\\\\\\\\\\\\\"details\\\\\\\\\\\\\\\": {\\\\\\\\\\\\\\\"selectedColumn\\\\\\\\\\\\\\\": \\\\\\\\\\\\\\\"city\\\\\\\\\\\\\\\"}}, \\\\\\\\\\\\\\\"typeProperty\\\\\\\\\\\\\\\": 0}, {\\\\\\\\\\\\\\\"column\\\\\\\\\\\\\\\": {\\\\\\\\\\\\\\\"type\\\\\\\\\\\\\\\": 2, \\\\\\\\\\\\\\\"details\\\\\\\\\\\\\\\": {\\\\\\\\\\\\\\\"selectedColumn\\\\\\\\\\\\\\\": \\\\\\\\\\\\\\\"city_development_index\\\\\\\\\\\\\\\"}}, \\\\\\\\\\\\\\\"typeProperty\\\\\\\\\\\\\\\": 3}, {\\\\\\\\\\\\\\\"column\\\\\\\\\\\\\\\": {\\\\\\\\\\\\\\\"type\\\\\\\\\\\\\\\": 2, \\\\\\\\\\\\\\\"details\\\\\\\\\\\\\\\": {\\\\\\\\\\\\\\\"selectedColumn\\\\\\\\\\\\\\\": \\\\\\\\\\\\\\\"gender\\\\\\\\\\\\\\\"}}, \\\\\\\\\\\\\\\"typeProperty\\\\\\\\\\\\\\\": 0}, {\\\\\\\\\\\\\\\"column\\\\\\\\\\\\\\\": {\\\\\\\\\\\\\\\"type\\\\\\\\\\\\\\\": 2, \\\\\\\\\\\\\\\"details\\\\\\\\\\\\\\\": {\\\\\\\\\\\\\\\"selectedColumn\\\\\\\\\\\\\\\": \\\\\\\\\\\\\\\"relevent_experience\\\\\\\\\\\\\\\"}}, \\\\\\\\\\\\\\\"typeProperty\\\\\\\\\\\\\\\": 0}, {\\\\\\\\\\\\\\\"column\\\\\\\\\\\\\\\": {\\\\\\\\\\\\\\\"type\\\\\\\\\\\\\\\": 2, \\\\\\\\\\\\\\\"details\\\\\\\\\\\\\\\": {\\\\\\\\\\\\\\\"selectedColumn\\\\\\\\\\\\\\\": \\\\\\\\\\\\\\\"enrolled_university\\\\\\\\\\\\\\\"}}, \\\\\\\\\\\\\\\"typeProperty\\\\\\\\\\\\\\\": 0}, {\\\\\\\\\\\\\\\"column\\\\\\\\\\\\\\\": {\\\\\\\\\\\\\\\"type\\\\\\\\\\\\\\\": 2, \\\\\\\\\\\\\\\"details\\\\\\\\\\\\\\\": {\\\\\\\\\\\\\\\"selectedColumn\\\\\\\\\\\\\\\": \\\\\\\\\\\\\\\"education_level\\\\\\\\\\\\\\\"}}, \\\\\\\\\\\\\\\"typeProperty\\\\\\\\\\\\\\\": 0}, {\\\\\\\\\\\\\\\"column\\\\\\\\\\\\\\\": {\\\\\\\\\\\\\\\"type\\\\\\\\\\\\\\\": 2, \\\\\\\\\\\\\\\"details\\\\\\\\\\\\\\\": {\\\\\\\\\\\\\\\"selectedColumn\\\\\\\\\\\\\\\": \\\\\\\\\\\\\\\"major_discipline\\\\\\\\\\\\\\\"}}, \\\\\\\\\\\\\\\"typeProperty\\\\\\\\\\\\\\\": 0}, {\\\\\\\\\\\\\\\"column\\\\\\\\\\\\\\\": {\\\\\\\\\\\\\\\"type\\\\\\\\\\\\\\\": 2, \\\\\\\\\\\\\\\"details\\\\\\\\\\\\\\\": {\\\\\\\\\\\\\\\"selectedColumn\\\\\\\\\\\\\\\": \\\\\\\\\\\\\\\"experience\\\\\\\\\\\\\\\"}}, \\\\\\\\\\\\\\\"typeProperty\\\\\\\\\\\\\\\": 0}, {\\\\\\\\\\\\\\\"column\\\\\\\\\\\\\\\": {\\\\\\\\\\\\\\\"type\\\\\\\\\\\\\\\": 2, \\\\\\\\\\\\\\\"details\\\\\\\\\\\\\\\": {\\\\\\\\\\\\\\\"selectedColumn\\\\\\\\\\\\\\\": \\\\\\\\\\\\\\\"company_size\\\\\\\\\\\\\\\"}}, \\\\\\\\\\\\\\\"typeProperty\\\\\\\\\\\\\\\": 0}, {\\\\\\\\\\\\\\\"column\\\\\\\\\\\\\\\": {\\\\\\\\\\\\\\\"type\\\\\\\\\\\\\\\": 2, \\\\\\\\\\\\\\\"details\\\\\\\\\\\\\\\": {\\\\\\\\\\\\\\\"selectedColumn\\\\\\\\\\\\\\\": \\\\\\\\\\\\\\\"company_type\\\\\\\\\\\\\\\"}}, \\\\\\\\\\\\\\\"typeProperty\\\\\\\\\\\\\\\": 0}, {\\\\\\\\\\\\\\\"column\\\\\\\\\\\\\\\": {\\\\\\\\\\\\\\\"type\\\\\\\\\\\\\\\": 2, \\\\\\\\\\\\\\\"details\\\\\\\\\\\\\\\": {\\\\\\\\\\\\\\\"selectedColumn\\\\\\\\\\\\\\\": \\\\\\\\\\\\\\\"last_new_job\\\\\\\\\\\\\\\"}}, \\\\\\\\\\\\\\\"typeProperty\\\\\\\\\\\\\\\": 0}, {\\\\\\\\\\\\\\\"column\\\\\\\\\\\\\\\": {\\\\\\\\\\\\\\\"type\\\\\\\\\\\\\\\": 2, \\\\\\\\\\\\\\\"details\\\\\\\\\\\\\\\": {\\\\\\\\\\\\\\\"selectedColumn\\\\\\\\\\\\\\\": \\\\\\\\\\\\\\\"training_hours\\\\\\\\\\\\\\\"}}, \\\\\\\\\\\\\\\"typeProperty\\\\\\\\\\\\\\\": 2}, {\\\\\\\\\\\\\\\"column\\\\\\\\\\\\\\\": {\\\\\\\\\\\\\\\"type\\\\\\\\\\\\\\\": 2, \\\\\\\\\\\\\\\"details\\\\\\\\\\\\\\\": {\\\\\\\\\\\\\\\"selectedColumn\\\\\\\\\\\\\\\": \\\\\\\\\\\\\\\"target\\\\\\\\\\\\\\\"}}, \\\\\\\\\\\\\\\"typeProperty\\\\\\\\\\\\\\\": 3}]}, \\\\\\\\\\\\\\\"localData\\\\\\\\\\\\\\\": {}, \\\\\\\\\\\\\\\"isEnabled\\\\\\\\\\\\\\\": true, \\\\\\\\\\\\\\\"name\\\\\\\\\\\\\\\": null, \\\\\\\\\\\\\\\"annotation\\\\\\\\\\\\\\\": null}], \\\\\\\\\\\\\\\"inspectors\\\\\\\\\\\\\\\": [], \\\\\\\\\\\\\\\"meta\\\\\\\\\\\\\\\": {\\\\\\\\\\\\\\\"savedDatasetId\\\\\\\\\\\\\\\": \\\\\\\\\\\\\\\"f0acea14-bafe-4304-ad4a-be43f0214298\\\\\\\\\\\\\\\", \\\\\\\\\\\\\\\"datasetType\\\\\\\\\\\\\\\": \\\\\\\\\\\\\\\"tabular\\\\\\\\\\\\\\\", \\\\\\\\\\\\\\\"subscriptionId\\\\\\\\\\\\\\\": \\\\\\\\\\\\\\\"d7f39349-a66b-446e-aba6-0053c2cf1c11\\\\\\\\\\\\\\\", \\\\\\\\\\\\\\\"workspaceId\\\\\\\\\\\\\\\": \\\\\\\\\\\\\\\"9bc893d7-36d7-4017-9484-c870f04f3f1a\\\\\\\\\\\\\\\", \\\\\\\\\\\\\\\"workspaceLocation\\\\\\\\\\\\\\\": \\\\\\\\\\\\\\\"southcentralus\\\\\\\\\\\\\\\"}}\\\\\\\", \\\\\\\"activities\\\\\\\": 0}\", \"EnableSubsampling\": null, \"runTemplate\": \"AutoML\", \"azureml.runsource\": \"automl\", \"display_task_type\": \"classification\", \"dependencies_versions\": \"{\\\"azureml-widgets\\\": \\\"1.20.0\\\", \\\"azureml-train\\\": \\\"1.20.0\\\", \\\"azureml-train-restclients-hyperdrive\\\": \\\"1.20.0\\\", \\\"azureml-train-core\\\": \\\"1.20.0\\\", \\\"azureml-train-automl\\\": \\\"1.20.0\\\", \\\"azureml-train-automl-runtime\\\": \\\"1.20.0\\\", \\\"azureml-train-automl-client\\\": \\\"1.20.0\\\", \\\"azureml-tensorboard\\\": \\\"1.20.0\\\", \\\"azureml-telemetry\\\": \\\"1.20.0\\\", \\\"azureml-sdk\\\": \\\"1.20.0\\\", \\\"azureml-samples\\\": \\\"0+unknown\\\", \\\"azureml-pipeline\\\": \\\"1.20.0\\\", \\\"azureml-pipeline-steps\\\": \\\"1.20.0\\\", \\\"azureml-pipeline-core\\\": \\\"1.20.0\\\", \\\"azureml-opendatasets\\\": \\\"1.20.0\\\", \\\"azureml-model-management-sdk\\\": \\\"1.0.1b6.post1\\\", \\\"azureml-mlflow\\\": \\\"1.20.0.post1\\\", \\\"azureml-interpret\\\": \\\"1.20.0\\\", \\\"azureml-explain-model\\\": \\\"1.20.0\\\", \\\"azureml-defaults\\\": \\\"1.20.0\\\", \\\"azureml-dataset-runtime\\\": \\\"1.20.0\\\", \\\"azureml-dataprep\\\": \\\"2.7.3\\\", \\\"azureml-dataprep-rslex\\\": \\\"1.5.0\\\", \\\"azureml-dataprep-native\\\": \\\"27.0.0\\\", \\\"azureml-datadrift\\\": \\\"1.20.0\\\", \\\"azureml-core\\\": \\\"1.20.0\\\", \\\"azureml-contrib-services\\\": \\\"1.20.0\\\", \\\"azureml-contrib-server\\\": \\\"1.20.0\\\", \\\"azureml-contrib-reinforcementlearning\\\": \\\"1.20.0\\\", \\\"azureml-contrib-pipeline-steps\\\": \\\"1.20.0\\\", \\\"azureml-contrib-notebook\\\": \\\"1.20.0\\\", \\\"azureml-contrib-interpret\\\": \\\"1.20.0\\\", \\\"azureml-contrib-gbdt\\\": \\\"1.20.0\\\", \\\"azureml-contrib-fairness\\\": \\\"1.20.0\\\", \\\"azureml-contrib-dataset\\\": \\\"1.20.0\\\", \\\"azureml-cli-common\\\": \\\"1.20.0\\\", \\\"azureml-automl-runtime\\\": \\\"1.20.0\\\", \\\"azureml-automl-core\\\": \\\"1.20.0\\\", \\\"azureml-accel-models\\\": \\\"1.20.0\\\"}\", \"_aml_system_scenario_identification\": \"Remote.Parent\", \"ClientType\": \"SDK\", \"environment_cpu_name\": \"AzureML-AutoML\", \"environment_cpu_label\": \"prod\", \"environment_gpu_name\": \"AzureML-AutoML-GPU\", \"environment_gpu_label\": \"prod\", \"root_attribution\": \"automl\", \"attribution\": \"AutoML\", \"Orchestrator\": \"AutoML\", \"CancelUri\": \"https://southcentralus.experiments.azureml.net/jasmine/v1.0/subscriptions/d7f39349-a66b-446e-aba6-0053c2cf1c11/resourceGroups/aml-quickstarts-136680/providers/Microsoft.MachineLearningServices/workspaces/quick-starts-ws-136680/experimentids/c93ea935-74b5-4eb9-9b42-e97468947844/cancel/AutoML_a2097c92-4271-44a9-aa13-020ff2552d48\", \"ClientSdkVersion\": \"1.20.0.post1\", \"snapshotId\": \"00000000-0000-0000-0000-000000000000\", \"SetupRunId\": \"AutoML_a2097c92-4271-44a9-aa13-020ff2552d48_setup\", \"SetupRunContainerId\": \"dcid.AutoML_a2097c92-4271-44a9-aa13-020ff2552d48_setup\", \"FeaturizationRunJsonPath\": \"featurizer_container.json\", \"FeaturizationRunId\": \"AutoML_a2097c92-4271-44a9-aa13-020ff2552d48_featurize\", \"ProblemInfoJsonString\": \"{\\\"dataset_num_categorical\\\": 0, \\\"is_sparse\\\": true, \\\"subsampling\\\": false, \\\"dataset_classes\\\": 2, \\\"dataset_features\\\": 201, \\\"dataset_samples\\\": 19158, \\\"single_frequency_class_detected\\\": false}\", \"ModelExplainRunId\": \"AutoML_a2097c92-4271-44a9-aa13-020ff2552d48_ModelExplain\"}, \"tags\": {\"model_explain_run\": \"best_run\", \"_aml_system_azureml.automlComponent\": \"AutoML\", \"pipeline_id\": \"\", \"score\": \"\", \"predicted_cost\": \"\", \"fit_time\": \"\", \"training_percent\": \"\", \"iteration\": \"\", \"run_preprocessor\": \"\", \"run_algorithm\": \"\", \"dynamic_whitelisting_iterations\": \"<25>;<30>;<35>;\", \"automl_best_child_run_id\": \"AutoML_a2097c92-4271-44a9-aa13-020ff2552d48_36\", \"model_explain_best_run_child_id\": \"AutoML_a2097c92-4271-44a9-aa13-020ff2552d48_36\"}, \"end_time_utc\": \"2021-01-31T04:48:03.946697Z\", \"status\": \"Completed\", \"log_files\": {}, \"log_groups\": [], \"run_duration\": \"0:25:59\"}, \"child_runs\": [{\"run_id\": \"AutoML_a2097c92-4271-44a9-aa13-020ff2552d48_0\", \"run_number\": 5, \"metric\": null, \"status\": \"Completed\", \"run_type\": \"azureml.scriptrun\", \"training_percent\": \"100\", \"start_time\": \"2021-01-31T04:33:15.197205Z\", \"end_time\": \"2021-01-31T04:34:12.300732Z\", \"created_time\": \"2021-01-31T04:33:04.516956Z\", \"created_time_dt\": \"2021-01-31T04:33:04.516956Z\", \"duration\": \"0:01:07\", \"iteration\": \"0\", \"goal\": \"accuracy_max\", \"run_name\": \"MaxAbsScaler, LightGBM\", \"run_properties\": \"copy=True\", \"primary_metric\": 0.79387193, \"best_metric\": 0.79387193}, {\"run_id\": \"AutoML_a2097c92-4271-44a9-aa13-020ff2552d48_2\", \"run_number\": 6, \"metric\": null, \"status\": \"Completed\", \"run_type\": \"azureml.scriptrun\", \"training_percent\": \"100\", \"start_time\": \"2021-01-31T04:33:16.475299Z\", \"end_time\": \"2021-01-31T04:34:08.462416Z\", \"created_time\": \"2021-01-31T04:33:04.544814Z\", \"created_time_dt\": \"2021-01-31T04:33:04.544814Z\", \"duration\": \"0:01:03\", \"iteration\": \"2\", \"goal\": \"accuracy_max\", \"run_name\": \"MaxAbsScaler, RandomForest\", \"run_properties\": \"copy=True\", \"primary_metric\": 0.77435003, \"best_metric\": 0.79387193}, {\"run_id\": \"AutoML_a2097c92-4271-44a9-aa13-020ff2552d48_1\", \"run_number\": 7, \"metric\": null, \"status\": \"Completed\", \"run_type\": \"azureml.scriptrun\", \"training_percent\": \"100\", \"start_time\": \"2021-01-31T04:33:16.71937Z\", \"end_time\": \"2021-01-31T04:36:04.422344Z\", \"created_time\": \"2021-01-31T04:33:04.550535Z\", \"created_time_dt\": \"2021-01-31T04:33:04.550535Z\", \"duration\": \"0:02:59\", \"iteration\": \"1\", \"goal\": \"accuracy_max\", \"run_name\": \"MaxAbsScaler, XGBoostClassifier\", \"run_properties\": \"copy=True\", \"primary_metric\": 0.7934546, \"best_metric\": 0.79387193}, {\"run_id\": \"AutoML_a2097c92-4271-44a9-aa13-020ff2552d48_3\", \"run_number\": 8, \"metric\": null, \"status\": \"Completed\", \"run_type\": \"azureml.scriptrun\", \"training_percent\": \"100\", \"start_time\": \"2021-01-31T04:34:12.319006Z\", \"end_time\": \"2021-01-31T04:35:08.140005Z\", \"created_time\": \"2021-01-31T04:33:04.615854Z\", \"created_time_dt\": \"2021-01-31T04:33:04.615854Z\", \"duration\": \"0:02:03\", \"iteration\": \"3\", \"goal\": \"accuracy_max\", \"run_name\": \"MaxAbsScaler, RandomForest\", \"run_properties\": \"copy=True\", \"primary_metric\": 0.75367989, \"best_metric\": 0.79387193}, {\"run_id\": \"AutoML_a2097c92-4271-44a9-aa13-020ff2552d48_4\", \"run_number\": 9, \"metric\": null, \"status\": \"Completed\", \"run_type\": \"azureml.scriptrun\", \"training_percent\": \"100\", \"start_time\": \"2021-01-31T04:34:22.369586Z\", \"end_time\": \"2021-01-31T04:35:17.327299Z\", \"created_time\": \"2021-01-31T04:34:10.88244Z\", \"created_time_dt\": \"2021-01-31T04:34:10.88244Z\", \"duration\": \"0:01:06\", \"iteration\": \"4\", \"goal\": \"accuracy_max\", \"run_name\": \"MaxAbsScaler, RandomForest\", \"run_properties\": \"copy=True\", \"primary_metric\": 0.74470114, \"best_metric\": 0.79387193}, {\"run_id\": \"AutoML_a2097c92-4271-44a9-aa13-020ff2552d48_5\", \"run_number\": 10, \"metric\": null, \"status\": \"Completed\", \"run_type\": \"azureml.scriptrun\", \"training_percent\": \"100\", \"start_time\": \"2021-01-31T04:35:10.025163Z\", \"end_time\": \"2021-01-31T04:36:05.521014Z\", \"created_time\": \"2021-01-31T04:34:14.546772Z\", \"created_time_dt\": \"2021-01-31T04:34:14.546772Z\", \"duration\": \"0:01:50\", \"iteration\": \"5\", \"goal\": \"accuracy_max\", \"run_name\": \"MaxAbsScaler, RandomForest\", \"run_properties\": \"copy=True\", \"primary_metric\": 0.71192217, \"best_metric\": 0.79387193}, {\"run_id\": \"AutoML_a2097c92-4271-44a9-aa13-020ff2552d48_6\", \"run_number\": 11, \"metric\": null, \"status\": \"Completed\", \"run_type\": \"azureml.scriptrun\", \"training_percent\": \"100\", \"start_time\": \"2021-01-31T04:35:22.222847Z\", \"end_time\": \"2021-01-31T04:36:33.162886Z\", \"created_time\": \"2021-01-31T04:35:10.300991Z\", \"created_time_dt\": \"2021-01-31T04:35:10.300991Z\", \"duration\": \"0:01:22\", \"iteration\": \"6\", \"goal\": \"accuracy_max\", \"run_name\": \"SparseNormalizer, XGBoostClassifier\", \"run_properties\": \"<azureml.automl.runtime.shared.model_wrappers.SparseNormalizer object at 0x7f63bba17b00\", \"primary_metric\": 0.79032253, \"best_metric\": 0.79387193}, {\"run_id\": \"AutoML_a2097c92-4271-44a9-aa13-020ff2552d48_7\", \"run_number\": 12, \"metric\": null, \"status\": \"Completed\", \"run_type\": \"azureml.scriptrun\", \"training_percent\": \"100\", \"start_time\": \"2021-01-31T04:35:31.325443Z\", \"end_time\": \"2021-01-31T04:38:28.304223Z\", \"created_time\": \"2021-01-31T04:35:19.159883Z\", \"created_time_dt\": \"2021-01-31T04:35:19.159883Z\", \"duration\": \"0:03:09\", \"iteration\": \"7\", \"goal\": \"accuracy_max\", \"run_name\": \"SparseNormalizer, XGBoostClassifier\", \"run_properties\": \"<azureml.automl.runtime.shared.model_wrappers.SparseNormalizer object at 0x7feabdc43fd0\", \"primary_metric\": 0.78875679, \"best_metric\": 0.79387193}, {\"run_id\": \"AutoML_a2097c92-4271-44a9-aa13-020ff2552d48_8\", \"run_number\": 13, \"metric\": null, \"status\": \"Completed\", \"run_type\": \"azureml.scriptrun\", \"training_percent\": \"100\", \"start_time\": \"2021-01-31T04:36:16.781817Z\", \"end_time\": \"2021-01-31T04:37:26.70831Z\", \"created_time\": \"2021-01-31T04:36:06.31872Z\", \"created_time_dt\": \"2021-01-31T04:36:06.31872Z\", \"duration\": \"0:01:20\", \"iteration\": \"8\", \"goal\": \"accuracy_max\", \"run_name\": \"SparseNormalizer, XGBoostClassifier\", \"run_properties\": \"<azureml.automl.runtime.shared.model_wrappers.SparseNormalizer object at 0x7f77138f7fd0\", \"primary_metric\": 0.78948738, \"best_metric\": 0.79387193}, {\"run_id\": \"AutoML_a2097c92-4271-44a9-aa13-020ff2552d48_9\", \"run_number\": 14, \"metric\": null, \"status\": \"Completed\", \"run_type\": \"azureml.scriptrun\", \"training_percent\": \"100\", \"start_time\": \"2021-01-31T04:36:22.084887Z\", \"end_time\": \"2021-01-31T04:37:10.865011Z\", \"created_time\": \"2021-01-31T04:36:09.50821Z\", \"created_time_dt\": \"2021-01-31T04:36:09.50821Z\", \"duration\": \"0:01:01\", \"iteration\": \"9\", \"goal\": \"accuracy_max\", \"run_name\": \"SparseNormalizer, XGBoostClassifier\", \"run_properties\": \"<azureml.automl.runtime.shared.model_wrappers.SparseNormalizer object at 0x7f94082ea9e8\", \"primary_metric\": 0.79204502, \"best_metric\": 0.79387193}, {\"run_id\": \"AutoML_a2097c92-4271-44a9-aa13-020ff2552d48_10\", \"run_number\": 15, \"metric\": null, \"status\": \"Completed\", \"run_type\": \"azureml.scriptrun\", \"training_percent\": \"100\", \"start_time\": \"2021-01-31T04:36:45.668561Z\", \"end_time\": \"2021-01-31T04:37:42.767585Z\", \"created_time\": \"2021-01-31T04:36:34.960805Z\", \"created_time_dt\": \"2021-01-31T04:36:34.960805Z\", \"duration\": \"0:01:07\", \"iteration\": \"10\", \"goal\": \"accuracy_max\", \"run_name\": \"StandardScalerWrapper, RandomForest\", \"run_properties\": \"<azureml.automl.runtime.shared.model_wrappers.StandardScalerWrapper object at 0x7fb62af4f940\", \"primary_metric\": 0.78092706, \"best_metric\": 0.79387193}, {\"run_id\": \"AutoML_a2097c92-4271-44a9-aa13-020ff2552d48_11\", \"run_number\": 16, \"metric\": null, \"status\": \"Completed\", \"run_type\": \"azureml.scriptrun\", \"training_percent\": \"100\", \"start_time\": \"2021-01-31T04:37:25.234105Z\", \"end_time\": \"2021-01-31T04:38:13.026725Z\", \"created_time\": \"2021-01-31T04:37:12.366771Z\", \"created_time_dt\": \"2021-01-31T04:37:12.366771Z\", \"duration\": \"0:01:00\", \"iteration\": \"11\", \"goal\": \"accuracy_max\", \"run_name\": \"SparseNormalizer, XGBoostClassifier\", \"run_properties\": \"<azureml.automl.runtime.shared.model_wrappers.SparseNormalizer object at 0x7f09641ff160\", \"primary_metric\": 0.77471597, \"best_metric\": 0.79387193}, {\"run_id\": \"AutoML_a2097c92-4271-44a9-aa13-020ff2552d48_12\", \"run_number\": 17, \"metric\": null, \"status\": \"Completed\", \"run_type\": \"azureml.scriptrun\", \"training_percent\": \"100\", \"start_time\": \"2021-01-31T04:37:44.006545Z\", \"end_time\": \"2021-01-31T04:38:45.190285Z\", \"created_time\": \"2021-01-31T04:37:28.349052Z\", \"created_time_dt\": \"2021-01-31T04:37:28.349052Z\", \"duration\": \"0:01:16\", \"iteration\": \"12\", \"goal\": \"accuracy_max\", \"run_name\": \"MaxAbsScaler, RandomForest\", \"run_properties\": \"copy=True\", \"primary_metric\": 0.78233667, \"best_metric\": 0.79387193}, {\"run_id\": \"AutoML_a2097c92-4271-44a9-aa13-020ff2552d48_13\", \"run_number\": 18, \"metric\": null, \"status\": \"Completed\", \"run_type\": \"azureml.scriptrun\", \"training_percent\": \"100\", \"start_time\": \"2021-01-31T04:37:58.516974Z\", \"end_time\": \"2021-01-31T04:38:59.811835Z\", \"created_time\": \"2021-01-31T04:37:44.702379Z\", \"created_time_dt\": \"2021-01-31T04:37:44.702379Z\", \"duration\": \"0:01:15\", \"iteration\": \"13\", \"goal\": \"accuracy_max\", \"run_name\": \"MaxAbsScaler, LogisticRegression\", \"run_properties\": \"copy=True\", \"primary_metric\": 0.78097916, \"best_metric\": 0.79387193}, {\"run_id\": \"AutoML_a2097c92-4271-44a9-aa13-020ff2552d48_14\", \"run_number\": 19, \"metric\": null, \"status\": \"Completed\", \"run_type\": \"azureml.scriptrun\", \"training_percent\": \"100\", \"start_time\": \"2021-01-31T04:38:27.189183Z\", \"end_time\": \"2021-01-31T04:39:16.77694Z\", \"created_time\": \"2021-01-31T04:38:14.693863Z\", \"created_time_dt\": \"2021-01-31T04:38:14.693863Z\", \"duration\": \"0:01:02\", \"iteration\": \"14\", \"goal\": \"accuracy_max\", \"run_name\": \"StandardScalerWrapper, LightGBM\", \"run_properties\": \"<azureml.automl.runtime.shared.model_wrappers.StandardScalerWrapper object at 0x7fdbf0243160\", \"primary_metric\": 0.76511112, \"best_metric\": 0.79387193}, {\"run_id\": \"AutoML_a2097c92-4271-44a9-aa13-020ff2552d48_15\", \"run_number\": 20, \"metric\": null, \"status\": \"Completed\", \"run_type\": \"azureml.scriptrun\", \"training_percent\": \"100\", \"start_time\": \"2021-01-31T04:38:40.798278Z\", \"end_time\": \"2021-01-31T04:40:36.26256Z\", \"created_time\": \"2021-01-31T04:38:30.087244Z\", \"created_time_dt\": \"2021-01-31T04:38:30.087244Z\", \"duration\": \"0:02:06\", \"iteration\": \"15\", \"goal\": \"accuracy_max\", \"run_name\": \"MaxAbsScaler, ExtremeRandomTrees\", \"run_properties\": \"copy=True\", \"primary_metric\": 0.77868274, \"best_metric\": 0.79387193}, {\"run_id\": \"AutoML_a2097c92-4271-44a9-aa13-020ff2552d48_16\", \"run_number\": 21, \"metric\": null, \"status\": \"Completed\", \"run_type\": \"azureml.scriptrun\", \"training_percent\": \"100\", \"start_time\": \"2021-01-31T04:38:58.733948Z\", \"end_time\": \"2021-01-31T04:40:02.853774Z\", \"created_time\": \"2021-01-31T04:38:46.840374Z\", \"created_time_dt\": \"2021-01-31T04:38:46.840374Z\", \"duration\": \"0:01:16\", \"iteration\": \"16\", \"goal\": \"accuracy_max\", \"run_name\": \"MaxAbsScaler, LightGBM\", \"run_properties\": \"copy=True\", \"primary_metric\": 0.77435021, \"best_metric\": 0.79387193}, {\"run_id\": \"AutoML_a2097c92-4271-44a9-aa13-020ff2552d48_17\", \"run_number\": 22, \"metric\": null, \"status\": \"Completed\", \"run_type\": \"azureml.scriptrun\", \"training_percent\": \"100\", \"start_time\": \"2021-01-31T04:39:13.593646Z\", \"end_time\": \"2021-01-31T04:40:08.909122Z\", \"created_time\": \"2021-01-31T04:39:01.668481Z\", \"created_time_dt\": \"2021-01-31T04:39:01.668481Z\", \"duration\": \"0:01:07\", \"iteration\": \"17\", \"goal\": \"accuracy_max\", \"run_name\": \"MaxAbsScaler, LightGBM\", \"run_properties\": \"copy=True\", \"primary_metric\": 0.77450666, \"best_metric\": 0.79387193}, {\"run_id\": \"AutoML_a2097c92-4271-44a9-aa13-020ff2552d48_18\", \"run_number\": 23, \"metric\": null, \"status\": \"Completed\", \"run_type\": \"azureml.scriptrun\", \"training_percent\": \"100\", \"start_time\": \"2021-01-31T04:39:32.127171Z\", \"end_time\": \"2021-01-31T04:40:26.848933Z\", \"created_time\": \"2021-01-31T04:39:18.495538Z\", \"created_time_dt\": \"2021-01-31T04:39:18.495538Z\", \"duration\": \"0:01:08\", \"iteration\": \"18\", \"goal\": \"accuracy_max\", \"run_name\": \"SparseNormalizer, XGBoostClassifier\", \"run_properties\": \"<azureml.automl.runtime.shared.model_wrappers.SparseNormalizer object at 0x7f0a20a50470\", \"primary_metric\": 0.78891354, \"best_metric\": 0.79387193}, {\"run_id\": \"AutoML_a2097c92-4271-44a9-aa13-020ff2552d48_19\", \"run_number\": 24, \"metric\": null, \"status\": \"Completed\", \"run_type\": \"azureml.scriptrun\", \"training_percent\": \"100\", \"start_time\": \"2021-01-31T04:40:14.563612Z\", \"end_time\": \"2021-01-31T04:41:16.848059Z\", \"created_time\": \"2021-01-31T04:40:04.455999Z\", \"created_time_dt\": \"2021-01-31T04:40:04.455999Z\", \"duration\": \"0:01:12\", \"iteration\": \"19\", \"goal\": \"accuracy_max\", \"run_name\": \"MaxAbsScaler, LightGBM\", \"run_properties\": \"copy=True\", \"primary_metric\": 0.78588596, \"best_metric\": 0.79387193}, {\"run_id\": \"AutoML_a2097c92-4271-44a9-aa13-020ff2552d48_20\", \"run_number\": 25, \"metric\": null, \"status\": \"Completed\", \"run_type\": \"azureml.scriptrun\", \"training_percent\": \"100\", \"start_time\": \"2021-01-31T04:40:20.163601Z\", \"end_time\": \"2021-01-31T04:41:10.40522Z\", \"created_time\": \"2021-01-31T04:40:10.338781Z\", \"created_time_dt\": \"2021-01-31T04:40:10.338781Z\", \"duration\": \"0:01:00\", \"iteration\": \"20\", \"goal\": \"accuracy_max\", \"run_name\": \"MaxAbsScaler, LogisticRegression\", \"run_properties\": \"copy=True\", \"primary_metric\": 0.78040499, \"best_metric\": 0.79387193}, {\"run_id\": \"AutoML_a2097c92-4271-44a9-aa13-020ff2552d48_21\", \"run_number\": 26, \"metric\": null, \"status\": \"Completed\", \"run_type\": \"azureml.scriptrun\", \"training_percent\": \"100\", \"start_time\": \"2021-01-31T04:40:38.081692Z\", \"end_time\": \"2021-01-31T04:42:00.682482Z\", \"created_time\": \"2021-01-31T04:40:28.465504Z\", \"created_time_dt\": \"2021-01-31T04:40:28.465504Z\", \"duration\": \"0:01:32\", \"iteration\": \"21\", \"goal\": \"accuracy_max\", \"run_name\": \"SparseNormalizer, XGBoostClassifier\", \"run_properties\": \"<azureml.automl.runtime.shared.model_wrappers.SparseNormalizer object at 0x7ff757097fd0\", \"primary_metric\": 0.78865228, \"best_metric\": 0.79387193}, {\"run_id\": \"AutoML_a2097c92-4271-44a9-aa13-020ff2552d48_22\", \"run_number\": 27, \"metric\": null, \"status\": \"Completed\", \"run_type\": \"azureml.scriptrun\", \"training_percent\": \"100\", \"start_time\": \"2021-01-31T04:40:48.970755Z\", \"end_time\": \"2021-01-31T04:41:50.141548Z\", \"created_time\": \"2021-01-31T04:40:37.650469Z\", \"created_time_dt\": \"2021-01-31T04:40:37.650469Z\", \"duration\": \"0:01:12\", \"iteration\": \"22\", \"goal\": \"accuracy_max\", \"run_name\": \"SparseNormalizer, LightGBM\", \"run_properties\": \"<azureml.automl.runtime.shared.model_wrappers.SparseNormalizer object at 0x7f93604ef358\", \"primary_metric\": 0.75446265, \"best_metric\": 0.79387193}, {\"run_id\": \"AutoML_a2097c92-4271-44a9-aa13-020ff2552d48_23\", \"run_number\": 28, \"metric\": null, \"status\": \"Completed\", \"run_type\": \"azureml.scriptrun\", \"training_percent\": \"100\", \"start_time\": \"2021-01-31T04:41:23.590415Z\", \"end_time\": \"2021-01-31T04:42:38.08809Z\", \"created_time\": \"2021-01-31T04:41:12.121805Z\", \"created_time_dt\": \"2021-01-31T04:41:12.121805Z\", \"duration\": \"0:01:25\", \"iteration\": \"23\", \"goal\": \"accuracy_max\", \"run_name\": \"SparseNormalizer, XGBoostClassifier\", \"run_properties\": \"<azureml.automl.runtime.shared.model_wrappers.SparseNormalizer object at 0x7fd28a80f518\", \"primary_metric\": 0.78750389, \"best_metric\": 0.79387193}, {\"run_id\": \"AutoML_a2097c92-4271-44a9-aa13-020ff2552d48_24\", \"run_number\": 29, \"metric\": null, \"status\": \"Completed\", \"run_type\": \"azureml.scriptrun\", \"training_percent\": \"100\", \"start_time\": \"2021-01-31T04:41:30.422458Z\", \"end_time\": \"2021-01-31T04:42:44.33869Z\", \"created_time\": \"2021-01-31T04:41:18.337214Z\", \"created_time_dt\": \"2021-01-31T04:41:18.337214Z\", \"duration\": \"0:01:26\", \"iteration\": \"24\", \"goal\": \"accuracy_max\", \"run_name\": \"StandardScalerWrapper, ExtremeRandomTrees\", \"run_properties\": \"<azureml.automl.runtime.shared.model_wrappers.StandardScalerWrapper object at 0x7f3b056b8048\", \"primary_metric\": 0.7763339, \"best_metric\": 0.79387193}, {\"run_id\": \"AutoML_a2097c92-4271-44a9-aa13-020ff2552d48_25\", \"run_number\": 30, \"metric\": null, \"status\": \"Completed\", \"run_type\": \"azureml.scriptrun\", \"training_percent\": \"100\", \"start_time\": \"2021-01-31T04:42:04.723491Z\", \"end_time\": \"2021-01-31T04:42:57.689596Z\", \"created_time\": \"2021-01-31T04:41:52.460315Z\", \"created_time_dt\": \"2021-01-31T04:41:52.460315Z\", \"duration\": \"0:01:05\", \"iteration\": \"25\", \"goal\": \"accuracy_max\", \"run_name\": \"StandardScalerWrapper, LightGBM\", \"run_properties\": \"<azureml.automl.runtime.shared.model_wrappers.StandardScalerWrapper object at 0x7f8d48597e48\", \"primary_metric\": 0.75065216, \"best_metric\": 0.79387193}, {\"run_id\": \"AutoML_a2097c92-4271-44a9-aa13-020ff2552d48_26\", \"run_number\": 31, \"metric\": null, \"status\": \"Completed\", \"run_type\": \"azureml.scriptrun\", \"training_percent\": \"100\", \"start_time\": \"2021-01-31T04:42:13.771351Z\", \"end_time\": \"2021-01-31T04:43:36.22845Z\", \"created_time\": \"2021-01-31T04:42:02.984045Z\", \"created_time_dt\": \"2021-01-31T04:42:02.984045Z\", \"duration\": \"0:01:33\", \"iteration\": \"26\", \"goal\": \"accuracy_max\", \"run_name\": \"MaxAbsScaler, GradientBoosting\", \"run_properties\": \"copy=True\", \"primary_metric\": 0.79006161, \"best_metric\": 0.79387193}, {\"run_id\": \"AutoML_a2097c92-4271-44a9-aa13-020ff2552d48_27\", \"run_number\": 32, \"metric\": null, \"status\": \"Completed\", \"run_type\": \"azureml.scriptrun\", \"training_percent\": \"100\", \"start_time\": \"2021-01-31T04:42:52.597191Z\", \"end_time\": \"2021-01-31T04:44:33.531878Z\", \"created_time\": \"2021-01-31T04:42:39.946592Z\", \"created_time_dt\": \"2021-01-31T04:42:39.946592Z\", \"duration\": \"0:01:53\", \"iteration\": \"27\", \"goal\": \"accuracy_max\", \"run_name\": \"SparseNormalizer, RandomForest\", \"run_properties\": \"<azureml.automl.runtime.shared.model_wrappers.SparseNormalizer object at 0x7ff6927815f8\", \"primary_metric\": 0.77643833, \"best_metric\": 0.79387193}, {\"run_id\": \"AutoML_a2097c92-4271-44a9-aa13-020ff2552d48_28\", \"run_number\": 33, \"metric\": null, \"status\": \"Completed\", \"run_type\": \"azureml.scriptrun\", \"training_percent\": \"100\", \"start_time\": \"2021-01-31T04:42:57.65278Z\", \"end_time\": \"2021-01-31T04:44:03.736632Z\", \"created_time\": \"2021-01-31T04:42:45.970063Z\", \"created_time_dt\": \"2021-01-31T04:42:45.970063Z\", \"duration\": \"0:01:17\", \"iteration\": \"28\", \"goal\": \"accuracy_max\", \"run_name\": \"MaxAbsScaler, LightGBM\", \"run_properties\": \"copy=True\", \"primary_metric\": 0.79074017, \"best_metric\": 0.79387193}, {\"run_id\": \"AutoML_a2097c92-4271-44a9-aa13-020ff2552d48_29\", \"run_number\": 34, \"metric\": null, \"status\": \"Completed\", \"run_type\": \"azureml.scriptrun\", \"training_percent\": \"100\", \"start_time\": \"2021-01-31T04:43:11.341806Z\", \"end_time\": \"2021-01-31T04:43:57.806414Z\", \"created_time\": \"2021-01-31T04:42:59.591299Z\", \"created_time_dt\": \"2021-01-31T04:42:59.591299Z\", \"duration\": \"0:00:58\", \"iteration\": \"29\", \"goal\": \"accuracy_max\", \"run_name\": \"MaxAbsScaler, LightGBM\", \"run_properties\": \"copy=True\", \"primary_metric\": 0.78572952, \"best_metric\": 0.79387193}, {\"run_id\": \"AutoML_a2097c92-4271-44a9-aa13-020ff2552d48_30\", \"run_number\": 35, \"metric\": null, \"status\": \"Completed\", \"run_type\": \"azureml.scriptrun\", \"training_percent\": \"100\", \"start_time\": \"2021-01-31T04:43:51.709402Z\", \"end_time\": \"2021-01-31T04:44:46.669511Z\", \"created_time\": \"2021-01-31T04:43:39.375249Z\", \"created_time_dt\": \"2021-01-31T04:43:39.375249Z\", \"duration\": \"0:01:07\", \"iteration\": \"30\", \"goal\": \"accuracy_max\", \"run_name\": \"SparseNormalizer, LightGBM\", \"run_properties\": \"<azureml.automl.runtime.shared.model_wrappers.SparseNormalizer object at 0x7f555f8d4ef0\", \"primary_metric\": 0.75065216, \"best_metric\": 0.79387193}, {\"run_id\": \"AutoML_a2097c92-4271-44a9-aa13-020ff2552d48_31\", \"run_number\": 36, \"metric\": null, \"status\": \"Completed\", \"run_type\": \"azureml.scriptrun\", \"training_percent\": \"100\", \"start_time\": \"2021-01-31T04:44:11.888562Z\", \"end_time\": \"2021-01-31T04:45:37.138555Z\", \"created_time\": \"2021-01-31T04:43:59.388953Z\", \"created_time_dt\": \"2021-01-31T04:43:59.388953Z\", \"duration\": \"0:01:37\", \"iteration\": \"31\", \"goal\": \"accuracy_max\", \"run_name\": \"MaxAbsScaler, RandomForest\", \"run_properties\": \"copy=True\", \"primary_metric\": 0.79157574, \"best_metric\": 0.79387193}, {\"run_id\": \"AutoML_a2097c92-4271-44a9-aa13-020ff2552d48_32\", \"run_number\": 37, \"metric\": null, \"status\": \"Canceled\", \"run_type\": \"azureml.scriptrun\", \"training_percent\": \"100\", \"start_time\": \"2021-01-31T04:44:18.345088Z\", \"end_time\": \"2021-01-31T04:45:49.305504Z\", \"created_time\": \"2021-01-31T04:44:05.327201Z\", \"created_time_dt\": \"2021-01-31T04:44:05.327201Z\", \"duration\": \"0:01:43\", \"iteration\": \"32\", \"goal\": \"accuracy_max\", \"run_name\": \"SparseNormalizer, XGBoostClassifier\", \"run_properties\": \"<azureml.automl.runtime.shared.model_wrappers.SparseNormalizer object at 0x7f6159e55518\", \"primary_metric\": 0.79063567, \"best_metric\": 0.79387193}, {\"run_id\": \"AutoML_a2097c92-4271-44a9-aa13-020ff2552d48_33\", \"run_number\": 38, \"metric\": null, \"status\": \"Completed\", \"run_type\": \"azureml.scriptrun\", \"training_percent\": \"100\", \"start_time\": \"2021-01-31T04:44:46.734147Z\", \"end_time\": \"2021-01-31T04:45:40.185762Z\", \"created_time\": \"2021-01-31T04:44:35.530595Z\", \"created_time_dt\": \"2021-01-31T04:44:35.530595Z\", \"duration\": \"0:01:04\", \"iteration\": \"33\", \"goal\": \"accuracy_max\", \"run_name\": \"SparseNormalizer, LightGBM\", \"run_properties\": \"<azureml.automl.runtime.shared.model_wrappers.SparseNormalizer object at 0x7f60b3ee0a58\", \"primary_metric\": 0.77946581, \"best_metric\": 0.79387193}, {\"run_id\": \"AutoML_a2097c92-4271-44a9-aa13-020ff2552d48_34\", \"run_number\": 39, \"metric\": null, \"status\": \"Canceled\", \"run_type\": \"azureml.scriptrun\", \"training_percent\": \"100\", \"start_time\": \"2021-01-31T04:45:01.027879Z\", \"end_time\": \"2021-01-31T04:45:50.044096Z\", \"created_time\": \"2021-01-31T04:44:48.431622Z\", \"created_time_dt\": \"2021-01-31T04:44:48.431622Z\", \"duration\": \"0:01:01\", \"iteration\": \"34\", \"goal\": \"accuracy_max\", \"run_name\": \"TruncatedSVDWrapper, XGBoostClassifier\", \"run_properties\": \"n_components=0.6036842105263158, random_state=None\", \"primary_metric\": 0.78077039, \"best_metric\": 0.79387193}, {\"run_id\": \"AutoML_a2097c92-4271-44a9-aa13-020ff2552d48_35\", \"run_number\": 40, \"metric\": null, \"status\": \"Canceled\", \"run_type\": \"azureml.scriptrun\", \"training_percent\": \"100\", \"start_time\": \"2021-01-31T04:45:39.807797Z\", \"end_time\": \"2021-01-31T04:45:56.715043Z\", \"created_time\": \"2021-01-31T04:45:39.807797Z\", \"created_time_dt\": \"2021-01-31T04:45:39.807797Z\", \"duration\": \"0:00:16\", \"iteration\": \"35\", \"goal\": null, \"run_name\": \"Canceled\", \"run_properties\": null}, {\"run_id\": \"AutoML_a2097c92-4271-44a9-aa13-020ff2552d48_36\", \"run_number\": 41, \"metric\": null, \"status\": \"Completed\", \"run_type\": \"azureml.scriptrun\", \"training_percent\": \"100\", \"start_time\": \"2021-01-31T04:46:09.056688Z\", \"end_time\": \"2021-01-31T04:47:43.774162Z\", \"created_time\": \"2021-01-31T04:45:57.770109Z\", \"created_time_dt\": \"2021-01-31T04:45:57.770109Z\", \"duration\": \"0:01:46\", \"iteration\": \"36\", \"goal\": \"accuracy_max\", \"run_name\": \"VotingEnsemble\", \"run_properties\": \"classification_labels=None,\\n                              estimators=[('0',\\n                                           Pipeline(memory=None,\\n                                                    steps=[('maxabsscaler',\\n                                                            MaxAbsScaler(copy=True\", \"primary_metric\": 0.79956193, \"best_metric\": 0.79956193}, {\"run_id\": \"AutoML_a2097c92-4271-44a9-aa13-020ff2552d48_37\", \"run_number\": 42, \"metric\": null, \"status\": \"Completed\", \"run_type\": \"azureml.scriptrun\", \"training_percent\": \"100\", \"start_time\": \"2021-01-31T04:46:09.279629Z\", \"end_time\": \"2021-01-31T04:47:52.330802Z\", \"created_time\": \"2021-01-31T04:45:57.802181Z\", \"created_time_dt\": \"2021-01-31T04:45:57.802181Z\", \"duration\": \"0:01:54\", \"iteration\": \"37\", \"goal\": \"accuracy_max\", \"run_name\": \"StackEnsemble\", \"run_properties\": \"base_learners=[('0',\\n                                        Pipeline(memory=None,\\n                                                 steps=[('maxabsscaler',\\n                                                         MaxAbsScaler(copy=True\", \"primary_metric\": 0.79538597, \"best_metric\": 0.79956193}], \"children_metrics\": {\"categories\": [0], \"series\": {\"AUC_micro\": [{\"categories\": [\"0\", \"1\", \"2\", \"3\", \"4\", \"5\", \"6\", \"7\", \"8\", \"9\", \"10\", \"11\", \"12\", \"13\", \"14\", \"15\", \"16\", \"17\", \"18\", \"19\", \"20\", \"21\", \"22\", \"23\", \"24\", \"25\", \"26\", \"27\", \"28\", \"29\", \"30\", \"31\", \"32\", \"33\", \"34\", \"36\", \"37\"], \"mode\": \"markers\", \"name\": \"AUC_micro\", \"stepped\": false, \"type\": \"scatter\", \"data\": [0.8753836680167468, 0.8754741172813076, 0.8622627951706454, 0.853640547794712, 0.789068258778121, 0.7759407034626965, 0.8737943399553956, 0.8717037548487298, 0.8733778322518837, 0.8718927572615099, 0.8691305619872463, 0.8570179344676833, 0.868065900583485, 0.8677000641705502, 0.8632725673465289, 0.8660627211923988, 0.8656399097429054, 0.8641388365343005, 0.8701715816554666, 0.8691136336937282, 0.8671173316307292, 0.8719222357008803, 0.8585863362690258, 0.8713050056721017, 0.8599964055205558, 0.8518615097370693, 0.872504262068803, 0.8622156656537003, 0.8719947952088113, 0.8708812416878207, 0.8546566740828734, 0.8728058105881106, 0.8722261406415486, 0.8676242838590668, 0.8694251770252922, 0.8703769164401708, 0.8763013437044933]}, {\"categories\": [\"0\", \"1\", \"2\", \"3\", \"4\", \"5\", \"6\", \"7\", \"8\", \"9\", \"10\", \"11\", \"12\", \"13\", \"14\", \"15\", \"16\", \"17\", \"18\", \"19\", \"20\", \"21\", \"22\", \"23\", \"24\", \"25\", \"26\", \"27\", \"28\", \"29\", \"30\", \"31\", \"32\", \"33\", \"34\", \"36\", \"37\"], \"mode\": \"lines\", \"name\": \"AUC_micro_max\", \"stepped\": true, \"type\": \"scatter\", \"data\": [0.8753836680167468, 0.8754741172813076, 0.8754741172813076, 0.8754741172813076, 0.8754741172813076, 0.8754741172813076, 0.8754741172813076, 0.8754741172813076, 0.8754741172813076, 0.8754741172813076, 0.8754741172813076, 0.8754741172813076, 0.8754741172813076, 0.8754741172813076, 0.8754741172813076, 0.8754741172813076, 0.8754741172813076, 0.8754741172813076, 0.8754741172813076, 0.8754741172813076, 0.8754741172813076, 0.8754741172813076, 0.8754741172813076, 0.8754741172813076, 0.8754741172813076, 0.8754741172813076, 0.8754741172813076, 0.8754741172813076, 0.8754741172813076, 0.8754741172813076, 0.8754741172813076, 0.8754741172813076, 0.8754741172813076, 0.8754741172813076, 0.8754741172813076, 0.8754741172813076, 0.8763013437044933]}], \"accuracy\": [{\"categories\": [\"0\", \"1\", \"2\", \"3\", \"4\", \"5\", \"6\", \"7\", \"8\", \"9\", \"10\", \"11\", \"12\", \"13\", \"14\", \"15\", \"16\", \"17\", \"18\", \"19\", \"20\", \"21\", \"22\", \"23\", \"24\", \"25\", \"26\", \"27\", \"28\", \"29\", \"30\", \"31\", \"32\", \"33\", \"34\", \"36\", \"37\"], \"mode\": \"markers\", \"name\": \"accuracy\", \"stepped\": false, \"type\": \"scatter\", \"data\": [0.7938719347548757, 0.7934546025746452, 0.7743500309800991, 0.7536798881119797, 0.7447011360459584, 0.7119221748302089, 0.790322533621718, 0.788756785241157, 0.7894873788111381, 0.7920450216860694, 0.7809270624381147, 0.7747159748867741, 0.7823366705739192, 0.7809791591396197, 0.7651111223732989, 0.7786827354473914, 0.7743502080870865, 0.7745066616749744, 0.7889135385485619, 0.7858859627181618, 0.7804049919102978, 0.7886522784950156, 0.7544626465015376, 0.7875038895419142, 0.7763339017105265, 0.750652162421821, 0.790061614158532, 0.7764383267149814, 0.7907401655214656, 0.7857295227538883, 0.750652162421821, 0.7915757426640924, 0.7906356723989387, 0.7794658071800807, 0.7807703908723964, 0.799561932678637, 0.7953859678951352]}, {\"categories\": [\"0\", \"1\", \"2\", \"3\", \"4\", \"5\", \"6\", \"7\", \"8\", \"9\", \"10\", \"11\", \"12\", \"13\", \"14\", \"15\", \"16\", \"17\", \"18\", \"19\", \"20\", \"21\", \"22\", \"23\", \"24\", \"25\", \"26\", \"27\", \"28\", \"29\", \"30\", \"31\", \"32\", \"33\", \"34\", \"36\", \"37\"], \"mode\": \"lines\", \"name\": \"accuracy_max\", \"stepped\": true, \"type\": \"scatter\", \"data\": [0.7938719347548757, 0.7938719347548757, 0.7938719347548757, 0.7938719347548757, 0.7938719347548757, 0.7938719347548757, 0.7938719347548757, 0.7938719347548757, 0.7938719347548757, 0.7938719347548757, 0.7938719347548757, 0.7938719347548757, 0.7938719347548757, 0.7938719347548757, 0.7938719347548757, 0.7938719347548757, 0.7938719347548757, 0.7938719347548757, 0.7938719347548757, 0.7938719347548757, 0.7938719347548757, 0.7938719347548757, 0.7938719347548757, 0.7938719347548757, 0.7938719347548757, 0.7938719347548757, 0.7938719347548757, 0.7938719347548757, 0.7938719347548757, 0.7938719347548757, 0.7938719347548757, 0.7938719347548757, 0.7938719347548757, 0.7938719347548757, 0.7938719347548757, 0.799561932678637, 0.799561932678637]}], \"matthews_correlation\": [{\"categories\": [\"0\", \"1\", \"2\", \"3\", \"4\", \"5\", \"6\", \"7\", \"8\", \"9\", \"10\", \"11\", \"12\", \"13\", \"14\", \"15\", \"16\", \"17\", \"18\", \"19\", \"20\", \"21\", \"22\", \"23\", \"24\", \"25\", \"26\", \"27\", \"28\", \"29\", \"30\", \"31\", \"32\", \"33\", \"34\", \"36\", \"37\"], \"mode\": \"markers\", \"name\": \"matthews_correlation\", \"stepped\": false, \"type\": \"scatter\", \"data\": [0.4427272506371036, 0.4295693559896157, 0.2951911776465722, 0.08777464789262512, 0.4318125209267574, 0.3847898383621483, 0.41085716389351346, 0.4146956164921714, 0.41173009475686967, 0.4219547848356259, 0.34902859847205464, 0.3087813098857196, 0.3659084850473814, 0.3469697742277324, 0.2308689768655206, 0.3499840104765, 0.29877126688242794, 0.3065561039396436, 0.3977095969331935, 0.38608913520409754, 0.34562161968903327, 0.4034417504814768, 0.10629365145572253, 0.4028141670112998, 0.3200560511374211, 0.0, 0.39746903601976713, 0.31955614798508397, 0.41330921596955006, 0.37685222155560477, 0.0, 0.4281280565177178, 0.4169785015122024, 0.34042390883312124, 0.35030131008508336, 0.47799719995235906, 0.4416399668792207]}, {\"categories\": [\"0\", \"1\", \"2\", \"3\", \"4\", \"5\", \"6\", \"7\", \"8\", \"9\", \"10\", \"11\", \"12\", \"13\", \"14\", \"15\", \"16\", \"17\", \"18\", \"19\", \"20\", \"21\", \"22\", \"23\", \"24\", \"25\", \"26\", \"27\", \"28\", \"29\", \"30\", \"31\", \"32\", \"33\", \"34\", \"36\", \"37\"], \"mode\": \"lines\", \"name\": \"matthews_correlation_max\", \"stepped\": true, \"type\": \"scatter\", \"data\": [0.4427272506371036, 0.4427272506371036, 0.4427272506371036, 0.4427272506371036, 0.4427272506371036, 0.4427272506371036, 0.4427272506371036, 0.4427272506371036, 0.4427272506371036, 0.4427272506371036, 0.4427272506371036, 0.4427272506371036, 0.4427272506371036, 0.4427272506371036, 0.4427272506371036, 0.4427272506371036, 0.4427272506371036, 0.4427272506371036, 0.4427272506371036, 0.4427272506371036, 0.4427272506371036, 0.4427272506371036, 0.4427272506371036, 0.4427272506371036, 0.4427272506371036, 0.4427272506371036, 0.4427272506371036, 0.4427272506371036, 0.4427272506371036, 0.4427272506371036, 0.4427272506371036, 0.4427272506371036, 0.4427272506371036, 0.4427272506371036, 0.4427272506371036, 0.47799719995235906, 0.47799719995235906]}], \"balanced_accuracy\": [{\"categories\": [\"0\", \"1\", \"2\", \"3\", \"4\", \"5\", \"6\", \"7\", \"8\", \"9\", \"10\", \"11\", \"12\", \"13\", \"14\", \"15\", \"16\", \"17\", \"18\", \"19\", \"20\", \"21\", \"22\", \"23\", \"24\", \"25\", \"26\", \"27\", \"28\", \"29\", \"30\", \"31\", \"32\", \"33\", \"34\", \"36\", \"37\"], \"mode\": \"markers\", \"name\": \"balanced_accuracy\", \"stepped\": false, \"type\": \"scatter\", \"data\": [0.7185357351109539, 0.70674775618263, 0.6092636945420272, 0.513239322924209, 0.7407211029754281, 0.7175384480878201, 0.6929817760520327, 0.6986872680916489, 0.6950451103907176, 0.7010780479809662, 0.6484871201648521, 0.6213795897104137, 0.6621071509840707, 0.64627585707193, 0.5718942908151752, 0.6527987866863862, 0.6130414051420882, 0.6192130568594709, 0.6825630645017434, 0.6757539883128968, 0.6459627339284386, 0.6882213907143903, 0.5150684079096541, 0.6892715844972459, 0.6288182726406933, 0.5, 0.6804549223005742, 0.6281974439004804, 0.6948686751393331, 0.6672951157041123, 0.5, 0.7078181955602917, 0.6983502917077957, 0.6424412516202349, 0.6498668611492586, 0.7447442039229526, 0.715576232818535]}, {\"categories\": [\"0\", \"1\", \"2\", \"3\", \"4\", \"5\", \"6\", \"7\", \"8\", \"9\", \"10\", \"11\", \"12\", \"13\", \"14\", \"15\", \"16\", \"17\", \"18\", \"19\", \"20\", \"21\", \"22\", \"23\", \"24\", \"25\", \"26\", \"27\", \"28\", \"29\", \"30\", \"31\", \"32\", \"33\", \"34\", \"36\", \"37\"], \"mode\": \"lines\", \"name\": \"balanced_accuracy_max\", \"stepped\": true, \"type\": \"scatter\", \"data\": [0.7185357351109539, 0.7185357351109539, 0.7185357351109539, 0.7185357351109539, 0.7407211029754281, 0.7407211029754281, 0.7407211029754281, 0.7407211029754281, 0.7407211029754281, 0.7407211029754281, 0.7407211029754281, 0.7407211029754281, 0.7407211029754281, 0.7407211029754281, 0.7407211029754281, 0.7407211029754281, 0.7407211029754281, 0.7407211029754281, 0.7407211029754281, 0.7407211029754281, 0.7407211029754281, 0.7407211029754281, 0.7407211029754281, 0.7407211029754281, 0.7407211029754281, 0.7407211029754281, 0.7407211029754281, 0.7407211029754281, 0.7407211029754281, 0.7407211029754281, 0.7407211029754281, 0.7407211029754281, 0.7407211029754281, 0.7407211029754281, 0.7407211029754281, 0.7447442039229526, 0.7447442039229526]}], \"precision_score_weighted\": [{\"categories\": [\"0\", \"1\", \"2\", \"3\", \"4\", \"5\", \"6\", \"7\", \"8\", \"9\", \"10\", \"11\", \"12\", \"13\", \"14\", \"15\", \"16\", \"17\", \"18\", \"19\", \"20\", \"21\", \"22\", \"23\", \"24\", \"25\", \"26\", \"27\", \"28\", \"29\", \"30\", \"31\", \"32\", \"33\", \"34\", \"36\", \"37\"], \"mode\": \"markers\", \"name\": \"precision_score_weighted\", \"stepped\": false, \"type\": \"scatter\", \"data\": [0.7915340009705881, 0.7869570975817286, 0.7486890456527603, 0.6892132523548646, 0.7944451819415134, 0.7795513619030032, 0.7805905428339478, 0.7815337684377439, 0.7806755358374916, 0.7844612623257171, 0.761255768222689, 0.7500731116448016, 0.7657482394713616, 0.7609055291257834, 0.7328025820278526, 0.7604712025792669, 0.7484316976454576, 0.7497882960416697, 0.7763931177749668, 0.7722896043304719, 0.7602924296919849, 0.7780130106251941, 0.722702321516656, 0.7775283342688901, 0.7530440108888959, 0.5635073887631035, 0.7767573536982055, 0.7530366559310991, 0.7813929792680643, 0.7698999764993575, 0.5635073887631035, 0.7862447069290558, 0.782556341787849, 0.7588359674177954, 0.7614631959032593, 0.8049137441677134, 0.7912857486268369]}, {\"categories\": [\"0\", \"1\", \"2\", \"3\", \"4\", \"5\", \"6\", \"7\", \"8\", \"9\", \"10\", \"11\", \"12\", \"13\", \"14\", \"15\", \"16\", \"17\", \"18\", \"19\", \"20\", \"21\", \"22\", \"23\", \"24\", \"25\", \"26\", \"27\", \"28\", \"29\", \"30\", \"31\", \"32\", \"33\", \"34\", \"36\", \"37\"], \"mode\": \"lines\", \"name\": \"precision_score_weighted_max\", \"stepped\": true, \"type\": \"scatter\", \"data\": [0.7915340009705881, 0.7915340009705881, 0.7915340009705881, 0.7915340009705881, 0.7944451819415134, 0.7944451819415134, 0.7944451819415134, 0.7944451819415134, 0.7944451819415134, 0.7944451819415134, 0.7944451819415134, 0.7944451819415134, 0.7944451819415134, 0.7944451819415134, 0.7944451819415134, 0.7944451819415134, 0.7944451819415134, 0.7944451819415134, 0.7944451819415134, 0.7944451819415134, 0.7944451819415134, 0.7944451819415134, 0.7944451819415134, 0.7944451819415134, 0.7944451819415134, 0.7944451819415134, 0.7944451819415134, 0.7944451819415134, 0.7944451819415134, 0.7944451819415134, 0.7944451819415134, 0.7944451819415134, 0.7944451819415134, 0.7944451819415134, 0.7944451819415134, 0.8049137441677134, 0.8049137441677134]}], \"AUC_weighted\": [{\"categories\": [\"0\", \"1\", \"2\", \"3\", \"4\", \"5\", \"6\", \"7\", \"8\", \"9\", \"10\", \"11\", \"12\", \"13\", \"14\", \"15\", \"16\", \"17\", \"18\", \"19\", \"20\", \"21\", \"22\", \"23\", \"24\", \"25\", \"26\", \"27\", \"28\", \"29\", \"30\", \"31\", \"32\", \"33\", \"34\", \"36\", \"37\"], \"mode\": \"markers\", \"name\": \"AUC_weighted\", \"stepped\": false, \"type\": \"scatter\", \"data\": [0.7990651914976759, 0.8000309772632157, 0.788024412996957, 0.7748060153477729, 0.7864182128975551, 0.7739550395815852, 0.7989278903599801, 0.7943549426976113, 0.797562645303005, 0.7943020549112128, 0.7938666588500929, 0.774209373948823, 0.7896748652073527, 0.7960822912782091, 0.788993913753696, 0.7889437365596443, 0.7945258250020655, 0.7919745749243872, 0.7924104329738377, 0.7905770233287358, 0.7952274974176795, 0.7963792993765487, 0.7879643103996636, 0.7946659342950235, 0.7822917190337226, 0.7704125934467152, 0.7963570776376387, 0.7816938633207051, 0.7945150760835732, 0.7950471935964559, 0.7777800010662801, 0.7954047293504034, 0.7952329023726357, 0.7927201756625724, 0.7949049425653076, 0.7984368384633993, 0.8005658850243819]}, {\"categories\": [\"0\", \"1\", \"2\", \"3\", \"4\", \"5\", \"6\", \"7\", \"8\", \"9\", \"10\", \"11\", \"12\", \"13\", \"14\", \"15\", \"16\", \"17\", \"18\", \"19\", \"20\", \"21\", \"22\", \"23\", \"24\", \"25\", \"26\", \"27\", \"28\", \"29\", \"30\", \"31\", \"32\", \"33\", \"34\", \"36\", \"37\"], \"mode\": \"lines\", \"name\": \"AUC_weighted_max\", \"stepped\": true, \"type\": \"scatter\", \"data\": [0.7990651914976759, 0.8000309772632157, 0.8000309772632157, 0.8000309772632157, 0.8000309772632157, 0.8000309772632157, 0.8000309772632157, 0.8000309772632157, 0.8000309772632157, 0.8000309772632157, 0.8000309772632157, 0.8000309772632157, 0.8000309772632157, 0.8000309772632157, 0.8000309772632157, 0.8000309772632157, 0.8000309772632157, 0.8000309772632157, 0.8000309772632157, 0.8000309772632157, 0.8000309772632157, 0.8000309772632157, 0.8000309772632157, 0.8000309772632157, 0.8000309772632157, 0.8000309772632157, 0.8000309772632157, 0.8000309772632157, 0.8000309772632157, 0.8000309772632157, 0.8000309772632157, 0.8000309772632157, 0.8000309772632157, 0.8000309772632157, 0.8000309772632157, 0.8000309772632157, 0.8005658850243819]}], \"average_precision_score_macro\": [{\"categories\": [\"0\", \"1\", \"2\", \"3\", \"4\", \"5\", \"6\", \"7\", \"8\", \"9\", \"10\", \"11\", \"12\", \"13\", \"14\", \"15\", \"16\", \"17\", \"18\", \"19\", \"20\", \"21\", \"22\", \"23\", \"24\", \"25\", \"26\", \"27\", \"28\", \"29\", \"30\", \"31\", \"32\", \"33\", \"34\", \"36\", \"37\"], \"mode\": \"markers\", \"name\": \"average_precision_score_macro\", \"stepped\": false, \"type\": \"scatter\", \"data\": [0.7225981494213273, 0.7220223491864692, 0.7143382941600548, 0.7052656634954317, 0.7123463892116566, 0.7030864587735142, 0.721855897410722, 0.7171707349292451, 0.7209492775577205, 0.7186373228864354, 0.7199209471578255, 0.6969244737176813, 0.70577087603254, 0.7202084187199409, 0.7128682622874926, 0.7138328096438384, 0.7202265985382551, 0.7185378398231401, 0.7166011256489463, 0.716074052841355, 0.718944032767124, 0.7190932333362572, 0.7133894746058994, 0.7176668664575881, 0.7083472755800233, 0.7019556410284153, 0.7218917720202492, 0.7061686379658878, 0.7186729605949711, 0.720108460227892, 0.7053641694275768, 0.720441324421143, 0.7186658592075179, 0.7187966322054987, 0.7199103241217469, 0.7228987957245601, 0.723783934159538]}, {\"categories\": [\"0\", \"1\", \"2\", \"3\", \"4\", \"5\", \"6\", \"7\", \"8\", \"9\", \"10\", \"11\", \"12\", \"13\", \"14\", \"15\", \"16\", \"17\", \"18\", \"19\", \"20\", \"21\", \"22\", \"23\", \"24\", \"25\", \"26\", \"27\", \"28\", \"29\", \"30\", \"31\", \"32\", \"33\", \"34\", \"36\", \"37\"], \"mode\": \"lines\", \"name\": \"average_precision_score_macro_max\", \"stepped\": true, \"type\": \"scatter\", \"data\": [0.7225981494213273, 0.7225981494213273, 0.7225981494213273, 0.7225981494213273, 0.7225981494213273, 0.7225981494213273, 0.7225981494213273, 0.7225981494213273, 0.7225981494213273, 0.7225981494213273, 0.7225981494213273, 0.7225981494213273, 0.7225981494213273, 0.7225981494213273, 0.7225981494213273, 0.7225981494213273, 0.7225981494213273, 0.7225981494213273, 0.7225981494213273, 0.7225981494213273, 0.7225981494213273, 0.7225981494213273, 0.7225981494213273, 0.7225981494213273, 0.7225981494213273, 0.7225981494213273, 0.7225981494213273, 0.7225981494213273, 0.7225981494213273, 0.7225981494213273, 0.7225981494213273, 0.7225981494213273, 0.7225981494213273, 0.7225981494213273, 0.7225981494213273, 0.7228987957245601, 0.723783934159538]}], \"recall_score_micro\": [{\"categories\": [\"0\", \"1\", \"2\", \"3\", \"4\", \"5\", \"6\", \"7\", \"8\", \"9\", \"10\", \"11\", \"12\", \"13\", \"14\", \"15\", \"16\", \"17\", \"18\", \"19\", \"20\", \"21\", \"22\", \"23\", \"24\", \"25\", \"26\", \"27\", \"28\", \"29\", \"30\", \"31\", \"32\", \"33\", \"34\", \"36\", \"37\"], \"mode\": \"markers\", \"name\": \"recall_score_micro\", \"stepped\": false, \"type\": \"scatter\", \"data\": [0.7938719347548757, 0.7934546025746452, 0.7743500309800991, 0.7536798881119797, 0.7447011360459584, 0.7119221748302089, 0.790322533621718, 0.788756785241157, 0.7894873788111381, 0.7920450216860694, 0.7809270624381147, 0.7747159748867741, 0.7823366705739192, 0.7809791591396197, 0.7651111223732989, 0.7786827354473914, 0.7743502080870865, 0.7745066616749744, 0.7889135385485619, 0.7858859627181618, 0.7804049919102978, 0.7886522784950156, 0.7544626465015376, 0.7875038895419142, 0.7763339017105265, 0.750652162421821, 0.790061614158532, 0.7764383267149814, 0.7907401655214656, 0.7857295227538883, 0.750652162421821, 0.7915757426640924, 0.7906356723989387, 0.7794658071800807, 0.7807703908723964, 0.799561932678637, 0.7953859678951352]}, {\"categories\": [\"0\", \"1\", \"2\", \"3\", \"4\", \"5\", \"6\", \"7\", \"8\", \"9\", \"10\", \"11\", \"12\", \"13\", \"14\", \"15\", \"16\", \"17\", \"18\", \"19\", \"20\", \"21\", \"22\", \"23\", \"24\", \"25\", \"26\", \"27\", \"28\", \"29\", \"30\", \"31\", \"32\", \"33\", \"34\", \"36\", \"37\"], \"mode\": \"lines\", \"name\": \"recall_score_micro_max\", \"stepped\": true, \"type\": \"scatter\", \"data\": [0.7938719347548757, 0.7938719347548757, 0.7938719347548757, 0.7938719347548757, 0.7938719347548757, 0.7938719347548757, 0.7938719347548757, 0.7938719347548757, 0.7938719347548757, 0.7938719347548757, 0.7938719347548757, 0.7938719347548757, 0.7938719347548757, 0.7938719347548757, 0.7938719347548757, 0.7938719347548757, 0.7938719347548757, 0.7938719347548757, 0.7938719347548757, 0.7938719347548757, 0.7938719347548757, 0.7938719347548757, 0.7938719347548757, 0.7938719347548757, 0.7938719347548757, 0.7938719347548757, 0.7938719347548757, 0.7938719347548757, 0.7938719347548757, 0.7938719347548757, 0.7938719347548757, 0.7938719347548757, 0.7938719347548757, 0.7938719347548757, 0.7938719347548757, 0.799561932678637, 0.799561932678637]}], \"precision_score_macro\": [{\"categories\": [\"0\", \"1\", \"2\", \"3\", \"4\", \"5\", \"6\", \"7\", \"8\", \"9\", \"10\", \"11\", \"12\", \"13\", \"14\", \"15\", \"16\", \"17\", \"18\", \"19\", \"20\", \"21\", \"22\", \"23\", \"24\", \"25\", \"26\", \"27\", \"28\", \"29\", \"30\", \"31\", \"32\", \"33\", \"34\", \"36\", \"37\"], \"mode\": \"markers\", \"name\": \"precision_score_macro\", \"stepped\": false, \"type\": \"scatter\", \"data\": [0.7242722057598096, 0.7231782736777307, 0.7000170719512797, 0.6223775922705375, 0.6937160040408445, 0.6701916354208419, 0.7187577432730852, 0.7164557026639303, 0.717339691687743, 0.7215317787275222, 0.7051557575557583, 0.696613403433824, 0.7065124426104572, 0.70576672261832, 0.6855251116895256, 0.700662472191677, 0.6976889619752937, 0.697268888638727, 0.7166701865928384, 0.7120823013610478, 0.7046102428757306, 0.7162704501244445, 0.6887769904869019, 0.7143861280252783, 0.6988921804582178, 0.3753260812109105, 0.7189205611772949, 0.6992293500156599, 0.7192034086529338, 0.7122896638885126, 0.3753260812109105, 0.7205344276487697, 0.7192175632178077, 0.7034707139952328, 0.7048168664205555, 0.7333937027408227, 0.7262598637578812]}, {\"categories\": [\"0\", \"1\", \"2\", \"3\", \"4\", \"5\", \"6\", \"7\", \"8\", \"9\", \"10\", \"11\", \"12\", \"13\", \"14\", \"15\", \"16\", \"17\", \"18\", \"19\", \"20\", \"21\", \"22\", \"23\", \"24\", \"25\", \"26\", \"27\", \"28\", \"29\", \"30\", \"31\", \"32\", \"33\", \"34\", \"36\", \"37\"], \"mode\": \"lines\", \"name\": \"precision_score_macro_max\", \"stepped\": true, \"type\": \"scatter\", \"data\": [0.7242722057598096, 0.7242722057598096, 0.7242722057598096, 0.7242722057598096, 0.7242722057598096, 0.7242722057598096, 0.7242722057598096, 0.7242722057598096, 0.7242722057598096, 0.7242722057598096, 0.7242722057598096, 0.7242722057598096, 0.7242722057598096, 0.7242722057598096, 0.7242722057598096, 0.7242722057598096, 0.7242722057598096, 0.7242722057598096, 0.7242722057598096, 0.7242722057598096, 0.7242722057598096, 0.7242722057598096, 0.7242722057598096, 0.7242722057598096, 0.7242722057598096, 0.7242722057598096, 0.7242722057598096, 0.7242722057598096, 0.7242722057598096, 0.7242722057598096, 0.7242722057598096, 0.7242722057598096, 0.7242722057598096, 0.7242722057598096, 0.7242722057598096, 0.7333937027408227, 0.7333937027408227]}], \"average_precision_score_micro\": [{\"categories\": [\"0\", \"1\", \"2\", \"3\", \"4\", \"5\", \"6\", \"7\", \"8\", \"9\", \"10\", \"11\", \"12\", \"13\", \"14\", \"15\", \"16\", \"17\", \"18\", \"19\", \"20\", \"21\", \"22\", \"23\", \"24\", \"25\", \"26\", \"27\", \"28\", \"29\", \"30\", \"31\", \"32\", \"33\", \"34\", \"36\", \"37\"], \"mode\": \"markers\", \"name\": \"average_precision_score_micro\", \"stepped\": false, \"type\": \"scatter\", \"data\": [0.8629785229519127, 0.8615514678408918, 0.8498536290507918, 0.8422285598619906, 0.7504599854784372, 0.7518246466224093, 0.8615272315772424, 0.8592262025674282, 0.861362295977427, 0.8585248309052836, 0.8576238471375314, 0.8417825124299234, 0.8505286803003275, 0.8538216906080267, 0.8490891433533048, 0.85580706205697, 0.8536605412013808, 0.8512646477073005, 0.8560395494179518, 0.8546083349514063, 0.8529781000805047, 0.8596609907051711, 0.8481051258871535, 0.8590176462262299, 0.8499398138888944, 0.8424927169837098, 0.858982231769572, 0.8505835293183821, 0.8580739111093951, 0.8580842090139766, 0.8445424151436718, 0.8610237618948858, 0.8591542594491139, 0.8550323927617074, 0.8580353210632982, 0.8578255497910187, 0.8631256449004882]}, {\"categories\": [\"0\", \"1\", \"2\", \"3\", \"4\", \"5\", \"6\", \"7\", \"8\", \"9\", \"10\", \"11\", \"12\", \"13\", \"14\", \"15\", \"16\", \"17\", \"18\", \"19\", \"20\", \"21\", \"22\", \"23\", \"24\", \"25\", \"26\", \"27\", \"28\", \"29\", \"30\", \"31\", \"32\", \"33\", \"34\", \"36\", \"37\"], \"mode\": \"lines\", \"name\": \"average_precision_score_micro_max\", \"stepped\": true, \"type\": \"scatter\", \"data\": [0.8629785229519127, 0.8629785229519127, 0.8629785229519127, 0.8629785229519127, 0.8629785229519127, 0.8629785229519127, 0.8629785229519127, 0.8629785229519127, 0.8629785229519127, 0.8629785229519127, 0.8629785229519127, 0.8629785229519127, 0.8629785229519127, 0.8629785229519127, 0.8629785229519127, 0.8629785229519127, 0.8629785229519127, 0.8629785229519127, 0.8629785229519127, 0.8629785229519127, 0.8629785229519127, 0.8629785229519127, 0.8629785229519127, 0.8629785229519127, 0.8629785229519127, 0.8629785229519127, 0.8629785229519127, 0.8629785229519127, 0.8629785229519127, 0.8629785229519127, 0.8629785229519127, 0.8629785229519127, 0.8629785229519127, 0.8629785229519127, 0.8629785229519127, 0.8629785229519127, 0.8631256449004882]}], \"f1_score_macro\": [{\"categories\": [\"0\", \"1\", \"2\", \"3\", \"4\", \"5\", \"6\", \"7\", \"8\", \"9\", \"10\", \"11\", \"12\", \"13\", \"14\", \"15\", \"16\", \"17\", \"18\", \"19\", \"20\", \"21\", \"22\", \"23\", \"24\", \"25\", \"26\", \"27\", \"28\", \"29\", \"30\", \"31\", \"32\", \"33\", \"34\", \"36\", \"37\"], \"mode\": \"markers\", \"name\": \"f1_score_macro\", \"stepped\": false, \"type\": \"scatter\", \"data\": [0.7211387829956304, 0.7138393854710382, 0.6215732488610252, 0.4604760047175496, 0.7015357564265189, 0.6714647010988731, 0.7032133258271015, 0.7061730450866797, 0.704173953331607, 0.7093485180855096, 0.6642282842821524, 0.6355935715655072, 0.6765422140147335, 0.6623199909693047, 0.5713662463458922, 0.6669032547433134, 0.626047648873396, 0.633366570654153, 0.6951278860874436, 0.6888098702437664, 0.6618488713379587, 0.6991046027340709, 0.4646521830069375, 0.6992409183036342, 0.6439657347807609, 0.42877895948114375, 0.6942080448241438, 0.6433350088127485, 0.7047009812070947, 0.6820459467082827, 0.42877895948114375, 0.713446898705481, 0.7069747506120994, 0.6582717700393043, 0.6652845000398937, 0.7385704671782548, 0.7202962798052616]}, {\"categories\": [\"0\", \"1\", \"2\", \"3\", \"4\", \"5\", \"6\", \"7\", \"8\", \"9\", \"10\", \"11\", \"12\", \"13\", \"14\", \"15\", \"16\", \"17\", \"18\", \"19\", \"20\", \"21\", \"22\", \"23\", \"24\", \"25\", \"26\", \"27\", \"28\", \"29\", \"30\", \"31\", \"32\", \"33\", \"34\", \"36\", \"37\"], \"mode\": \"lines\", \"name\": \"f1_score_macro_max\", \"stepped\": true, \"type\": \"scatter\", \"data\": [0.7211387829956304, 0.7211387829956304, 0.7211387829956304, 0.7211387829956304, 0.7211387829956304, 0.7211387829956304, 0.7211387829956304, 0.7211387829956304, 0.7211387829956304, 0.7211387829956304, 0.7211387829956304, 0.7211387829956304, 0.7211387829956304, 0.7211387829956304, 0.7211387829956304, 0.7211387829956304, 0.7211387829956304, 0.7211387829956304, 0.7211387829956304, 0.7211387829956304, 0.7211387829956304, 0.7211387829956304, 0.7211387829956304, 0.7211387829956304, 0.7211387829956304, 0.7211387829956304, 0.7211387829956304, 0.7211387829956304, 0.7211387829956304, 0.7211387829956304, 0.7211387829956304, 0.7211387829956304, 0.7211387829956304, 0.7211387829956304, 0.7211387829956304, 0.7385704671782548, 0.7385704671782548]}], \"precision_score_micro\": [{\"categories\": [\"0\", \"1\", \"2\", \"3\", \"4\", \"5\", \"6\", \"7\", \"8\", \"9\", \"10\", \"11\", \"12\", \"13\", \"14\", \"15\", \"16\", \"17\", \"18\", \"19\", \"20\", \"21\", \"22\", \"23\", \"24\", \"25\", \"26\", \"27\", \"28\", \"29\", \"30\", \"31\", \"32\", \"33\", \"34\", \"36\", \"37\"], \"mode\": \"markers\", \"name\": \"precision_score_micro\", \"stepped\": false, \"type\": \"scatter\", \"data\": [0.7938719347548757, 0.7934546025746452, 0.7743500309800991, 0.7536798881119797, 0.7447011360459584, 0.7119221748302089, 0.790322533621718, 0.788756785241157, 0.7894873788111381, 0.7920450216860694, 0.7809270624381147, 0.7747159748867741, 0.7823366705739192, 0.7809791591396197, 0.7651111223732989, 0.7786827354473914, 0.7743502080870865, 0.7745066616749744, 0.7889135385485619, 0.7858859627181618, 0.7804049919102978, 0.7886522784950156, 0.7544626465015376, 0.7875038895419142, 0.7763339017105265, 0.750652162421821, 0.790061614158532, 0.7764383267149814, 0.7907401655214656, 0.7857295227538883, 0.750652162421821, 0.7915757426640924, 0.7906356723989387, 0.7794658071800807, 0.7807703908723964, 0.799561932678637, 0.7953859678951352]}, {\"categories\": [\"0\", \"1\", \"2\", \"3\", \"4\", \"5\", \"6\", \"7\", \"8\", \"9\", \"10\", \"11\", \"12\", \"13\", \"14\", \"15\", \"16\", \"17\", \"18\", \"19\", \"20\", \"21\", \"22\", \"23\", \"24\", \"25\", \"26\", \"27\", \"28\", \"29\", \"30\", \"31\", \"32\", \"33\", \"34\", \"36\", \"37\"], \"mode\": \"lines\", \"name\": \"precision_score_micro_max\", \"stepped\": true, \"type\": \"scatter\", \"data\": [0.7938719347548757, 0.7938719347548757, 0.7938719347548757, 0.7938719347548757, 0.7938719347548757, 0.7938719347548757, 0.7938719347548757, 0.7938719347548757, 0.7938719347548757, 0.7938719347548757, 0.7938719347548757, 0.7938719347548757, 0.7938719347548757, 0.7938719347548757, 0.7938719347548757, 0.7938719347548757, 0.7938719347548757, 0.7938719347548757, 0.7938719347548757, 0.7938719347548757, 0.7938719347548757, 0.7938719347548757, 0.7938719347548757, 0.7938719347548757, 0.7938719347548757, 0.7938719347548757, 0.7938719347548757, 0.7938719347548757, 0.7938719347548757, 0.7938719347548757, 0.7938719347548757, 0.7938719347548757, 0.7938719347548757, 0.7938719347548757, 0.7938719347548757, 0.799561932678637, 0.799561932678637]}], \"recall_score_weighted\": [{\"categories\": [\"0\", \"1\", \"2\", \"3\", \"4\", \"5\", \"6\", \"7\", \"8\", \"9\", \"10\", \"11\", \"12\", \"13\", \"14\", \"15\", \"16\", \"17\", \"18\", \"19\", \"20\", \"21\", \"22\", \"23\", \"24\", \"25\", \"26\", \"27\", \"28\", \"29\", \"30\", \"31\", \"32\", \"33\", \"34\", \"36\", \"37\"], \"mode\": \"markers\", \"name\": \"recall_score_weighted\", \"stepped\": false, \"type\": \"scatter\", \"data\": [0.7938719347548757, 0.7934546025746452, 0.7743500309800991, 0.7536798881119797, 0.7447011360459584, 0.7119221748302089, 0.790322533621718, 0.788756785241157, 0.7894873788111381, 0.7920450216860694, 0.7809270624381147, 0.7747159748867741, 0.7823366705739192, 0.7809791591396197, 0.7651111223732989, 0.7786827354473914, 0.7743502080870865, 0.7745066616749744, 0.7889135385485619, 0.7858859627181618, 0.7804049919102978, 0.7886522784950156, 0.7544626465015376, 0.7875038895419142, 0.7763339017105265, 0.750652162421821, 0.790061614158532, 0.7764383267149814, 0.7907401655214656, 0.7857295227538883, 0.750652162421821, 0.7915757426640924, 0.7906356723989387, 0.7794658071800807, 0.7807703908723964, 0.799561932678637, 0.7953859678951352]}, {\"categories\": [\"0\", \"1\", \"2\", \"3\", \"4\", \"5\", \"6\", \"7\", \"8\", \"9\", \"10\", \"11\", \"12\", \"13\", \"14\", \"15\", \"16\", \"17\", \"18\", \"19\", \"20\", \"21\", \"22\", \"23\", \"24\", \"25\", \"26\", \"27\", \"28\", \"29\", \"30\", \"31\", \"32\", \"33\", \"34\", \"36\", \"37\"], \"mode\": \"lines\", \"name\": \"recall_score_weighted_max\", \"stepped\": true, \"type\": \"scatter\", \"data\": [0.7938719347548757, 0.7938719347548757, 0.7938719347548757, 0.7938719347548757, 0.7938719347548757, 0.7938719347548757, 0.7938719347548757, 0.7938719347548757, 0.7938719347548757, 0.7938719347548757, 0.7938719347548757, 0.7938719347548757, 0.7938719347548757, 0.7938719347548757, 0.7938719347548757, 0.7938719347548757, 0.7938719347548757, 0.7938719347548757, 0.7938719347548757, 0.7938719347548757, 0.7938719347548757, 0.7938719347548757, 0.7938719347548757, 0.7938719347548757, 0.7938719347548757, 0.7938719347548757, 0.7938719347548757, 0.7938719347548757, 0.7938719347548757, 0.7938719347548757, 0.7938719347548757, 0.7938719347548757, 0.7938719347548757, 0.7938719347548757, 0.7938719347548757, 0.799561932678637, 0.799561932678637]}], \"norm_macro_recall\": [{\"categories\": [\"0\", \"1\", \"2\", \"3\", \"4\", \"5\", \"6\", \"7\", \"8\", \"9\", \"10\", \"11\", \"12\", \"13\", \"14\", \"15\", \"16\", \"17\", \"18\", \"19\", \"20\", \"21\", \"22\", \"23\", \"24\", \"25\", \"26\", \"27\", \"28\", \"29\", \"30\", \"31\", \"32\", \"33\", \"34\", \"36\", \"37\"], \"mode\": \"markers\", \"name\": \"norm_macro_recall\", \"stepped\": false, \"type\": \"scatter\", \"data\": [0.43707147022190806, 0.41349551236526, 0.21852738908405459, 0.026478645848418036, 0.4814422059508564, 0.4350768961756401, 0.38596355210406535, 0.39737453618329777, 0.39009022078143507, 0.40215609596193236, 0.29697424032970426, 0.2427591794208274, 0.3242143019681415, 0.2925517141438601, 0.1437885816303505, 0.3055975733727724, 0.22608281028417626, 0.2384261137189417, 0.36512612900348695, 0.3515079766257937, 0.2919254678568772, 0.37644278142878046, 0.030136815819308403, 0.37854316899449186, 0.2576365452813866, 0.0, 0.36090984460114856, 0.2563948878009607, 0.3897373502786662, 0.33459023140822464, 0.0, 0.4156363911205835, 0.3967005834155914, 0.28488250324046965, 0.29973372229851714, 0.4894884078459052, 0.4311524656370701]}, {\"categories\": [\"0\", \"1\", \"2\", \"3\", \"4\", \"5\", \"6\", \"7\", \"8\", \"9\", \"10\", \"11\", \"12\", \"13\", \"14\", \"15\", \"16\", \"17\", \"18\", \"19\", \"20\", \"21\", \"22\", \"23\", \"24\", \"25\", \"26\", \"27\", \"28\", \"29\", \"30\", \"31\", \"32\", \"33\", \"34\", \"36\", \"37\"], \"mode\": \"lines\", \"name\": \"norm_macro_recall_max\", \"stepped\": true, \"type\": \"scatter\", \"data\": [0.43707147022190806, 0.43707147022190806, 0.43707147022190806, 0.43707147022190806, 0.4814422059508564, 0.4814422059508564, 0.4814422059508564, 0.4814422059508564, 0.4814422059508564, 0.4814422059508564, 0.4814422059508564, 0.4814422059508564, 0.4814422059508564, 0.4814422059508564, 0.4814422059508564, 0.4814422059508564, 0.4814422059508564, 0.4814422059508564, 0.4814422059508564, 0.4814422059508564, 0.4814422059508564, 0.4814422059508564, 0.4814422059508564, 0.4814422059508564, 0.4814422059508564, 0.4814422059508564, 0.4814422059508564, 0.4814422059508564, 0.4814422059508564, 0.4814422059508564, 0.4814422059508564, 0.4814422059508564, 0.4814422059508564, 0.4814422059508564, 0.4814422059508564, 0.4894884078459052, 0.4894884078459052]}], \"f1_score_weighted\": [{\"categories\": [\"0\", \"1\", \"2\", \"3\", \"4\", \"5\", \"6\", \"7\", \"8\", \"9\", \"10\", \"11\", \"12\", \"13\", \"14\", \"15\", \"16\", \"17\", \"18\", \"19\", \"20\", \"21\", \"22\", \"23\", \"24\", \"25\", \"26\", \"27\", \"28\", \"29\", \"30\", \"31\", \"32\", \"33\", \"34\", \"36\", \"37\"], \"mode\": \"markers\", \"name\": \"f1_score_weighted\", \"stepped\": false, \"type\": \"scatter\", \"data\": [0.7925337716003232, 0.7894967816270205, 0.7421728721416297, 0.6598840522168559, 0.7582874105505281, 0.7289283574428655, 0.7838012077704049, 0.7842649780555375, 0.7838165420385776, 0.7870346557925847, 0.7634734217348961, 0.7484453124406575, 0.76928695402713, 0.7626664865068726, 0.7158056598946158, 0.7635605458812073, 0.7440366623850475, 0.7473549979826968, 0.7798757413429664, 0.7759403816712045, 0.7622237143472488, 0.7813803342729818, 0.6621612097684445, 0.7808966009908435, 0.7527781563948984, 0.6437464058813542, 0.78003851592566, 0.7525425956533771, 0.7846059316884195, 0.7730706662795324, 0.6437464058813542, 0.7884464264014477, 0.7854622854694728, 0.7602986817133168, 0.7637895916603267, 0.8019159878273167, 0.7929421047804949]}, {\"categories\": [\"0\", \"1\", \"2\", \"3\", \"4\", \"5\", \"6\", \"7\", \"8\", \"9\", \"10\", \"11\", \"12\", \"13\", \"14\", \"15\", \"16\", \"17\", \"18\", \"19\", \"20\", \"21\", \"22\", \"23\", \"24\", \"25\", \"26\", \"27\", \"28\", \"29\", \"30\", \"31\", \"32\", \"33\", \"34\", \"36\", \"37\"], \"mode\": \"lines\", \"name\": \"f1_score_weighted_max\", \"stepped\": true, \"type\": \"scatter\", \"data\": [0.7925337716003232, 0.7925337716003232, 0.7925337716003232, 0.7925337716003232, 0.7925337716003232, 0.7925337716003232, 0.7925337716003232, 0.7925337716003232, 0.7925337716003232, 0.7925337716003232, 0.7925337716003232, 0.7925337716003232, 0.7925337716003232, 0.7925337716003232, 0.7925337716003232, 0.7925337716003232, 0.7925337716003232, 0.7925337716003232, 0.7925337716003232, 0.7925337716003232, 0.7925337716003232, 0.7925337716003232, 0.7925337716003232, 0.7925337716003232, 0.7925337716003232, 0.7925337716003232, 0.7925337716003232, 0.7925337716003232, 0.7925337716003232, 0.7925337716003232, 0.7925337716003232, 0.7925337716003232, 0.7925337716003232, 0.7925337716003232, 0.7925337716003232, 0.8019159878273167, 0.8019159878273167]}], \"recall_score_macro\": [{\"categories\": [\"0\", \"1\", \"2\", \"3\", \"4\", \"5\", \"6\", \"7\", \"8\", \"9\", \"10\", \"11\", \"12\", \"13\", \"14\", \"15\", \"16\", \"17\", \"18\", \"19\", \"20\", \"21\", \"22\", \"23\", \"24\", \"25\", \"26\", \"27\", \"28\", \"29\", \"30\", \"31\", \"32\", \"33\", \"34\", \"36\", \"37\"], \"mode\": \"markers\", \"name\": \"recall_score_macro\", \"stepped\": false, \"type\": \"scatter\", \"data\": [0.7185357351109539, 0.70674775618263, 0.6092636945420272, 0.513239322924209, 0.7407211029754281, 0.7175384480878201, 0.6929817760520327, 0.6986872680916489, 0.6950451103907176, 0.7010780479809662, 0.6484871201648521, 0.6213795897104137, 0.6621071509840707, 0.64627585707193, 0.5718942908151752, 0.6527987866863862, 0.6130414051420882, 0.6192130568594709, 0.6825630645017434, 0.6757539883128968, 0.6459627339284386, 0.6882213907143903, 0.5150684079096541, 0.6892715844972459, 0.6288182726406933, 0.5, 0.6804549223005742, 0.6281974439004804, 0.6948686751393331, 0.6672951157041123, 0.5, 0.7078181955602917, 0.6983502917077957, 0.6424412516202349, 0.6498668611492586, 0.7447442039229526, 0.715576232818535]}, {\"categories\": [\"0\", \"1\", \"2\", \"3\", \"4\", \"5\", \"6\", \"7\", \"8\", \"9\", \"10\", \"11\", \"12\", \"13\", \"14\", \"15\", \"16\", \"17\", \"18\", \"19\", \"20\", \"21\", \"22\", \"23\", \"24\", \"25\", \"26\", \"27\", \"28\", \"29\", \"30\", \"31\", \"32\", \"33\", \"34\", \"36\", \"37\"], \"mode\": \"lines\", \"name\": \"recall_score_macro_max\", \"stepped\": true, \"type\": \"scatter\", \"data\": [0.7185357351109539, 0.7185357351109539, 0.7185357351109539, 0.7185357351109539, 0.7407211029754281, 0.7407211029754281, 0.7407211029754281, 0.7407211029754281, 0.7407211029754281, 0.7407211029754281, 0.7407211029754281, 0.7407211029754281, 0.7407211029754281, 0.7407211029754281, 0.7407211029754281, 0.7407211029754281, 0.7407211029754281, 0.7407211029754281, 0.7407211029754281, 0.7407211029754281, 0.7407211029754281, 0.7407211029754281, 0.7407211029754281, 0.7407211029754281, 0.7407211029754281, 0.7407211029754281, 0.7407211029754281, 0.7407211029754281, 0.7407211029754281, 0.7407211029754281, 0.7407211029754281, 0.7407211029754281, 0.7407211029754281, 0.7407211029754281, 0.7407211029754281, 0.7447442039229526, 0.7447442039229526]}], \"log_loss\": [{\"categories\": [\"0\", \"1\", \"2\", \"3\", \"4\", \"5\", \"6\", \"7\", \"8\", \"9\", \"10\", \"11\", \"12\", \"13\", \"14\", \"15\", \"16\", \"17\", \"18\", \"19\", \"20\", \"21\", \"22\", \"23\", \"24\", \"25\", \"26\", \"27\", \"28\", \"29\", \"30\", \"31\", \"32\", \"33\", \"34\", \"36\", \"37\"], \"mode\": \"markers\", \"name\": \"log_loss\", \"stepped\": false, \"type\": \"scatter\", \"data\": [0.4400500364491352, 0.4386354114873188, 0.4659095063561745, 0.4879398426285351, 0.5942721743931902, 0.5884838189829006, 0.4419084885909938, 0.4465308714829478, 0.4430078045245134, 0.49023356861968714, 0.44994140149162243, 0.5170384212089658, 0.4503724774856771, 0.4547653914313477, 0.4632808996339672, 0.4553154922802875, 0.45752984348977216, 0.4588328940450571, 0.45171839456070223, 0.44943521370562667, 0.45608326014935396, 0.4474339960196871, 0.4779323375781333, 0.44791755767671343, 0.46669676358407985, 0.5512152364976773, 0.44442292912968206, 0.46180765743623703, 0.44494730092019613, 0.44655575009545234, 0.5429821665322643, 0.4437190748772742, 0.44448034619027854, 0.45334541860548266, 0.44956573439157965, 0.4942626664129846, 0.43773755706747186]}, {\"categories\": [\"0\", \"1\", \"2\", \"3\", \"4\", \"5\", \"6\", \"7\", \"8\", \"9\", \"10\", \"11\", \"12\", \"13\", \"14\", \"15\", \"16\", \"17\", \"18\", \"19\", \"20\", \"21\", \"22\", \"23\", \"24\", \"25\", \"26\", \"27\", \"28\", \"29\", \"30\", \"31\", \"32\", \"33\", \"34\", \"36\", \"37\"], \"mode\": \"lines\", \"name\": \"log_loss_min\", \"stepped\": true, \"type\": \"scatter\", \"data\": [0.4400500364491352, 0.4386354114873188, 0.4386354114873188, 0.4386354114873188, 0.4386354114873188, 0.4386354114873188, 0.4386354114873188, 0.4386354114873188, 0.4386354114873188, 0.4386354114873188, 0.4386354114873188, 0.4386354114873188, 0.4386354114873188, 0.4386354114873188, 0.4386354114873188, 0.4386354114873188, 0.4386354114873188, 0.4386354114873188, 0.4386354114873188, 0.4386354114873188, 0.4386354114873188, 0.4386354114873188, 0.4386354114873188, 0.4386354114873188, 0.4386354114873188, 0.4386354114873188, 0.4386354114873188, 0.4386354114873188, 0.4386354114873188, 0.4386354114873188, 0.4386354114873188, 0.4386354114873188, 0.4386354114873188, 0.4386354114873188, 0.4386354114873188, 0.4386354114873188, 0.43773755706747186]}], \"average_precision_score_weighted\": [{\"categories\": [\"0\", \"1\", \"2\", \"3\", \"4\", \"5\", \"6\", \"7\", \"8\", \"9\", \"10\", \"11\", \"12\", \"13\", \"14\", \"15\", \"16\", \"17\", \"18\", \"19\", \"20\", \"21\", \"22\", \"23\", \"24\", \"25\", \"26\", \"27\", \"28\", \"29\", \"30\", \"31\", \"32\", \"33\", \"34\", \"36\", \"37\"], \"mode\": \"markers\", \"name\": \"average_precision_score_weighted\", \"stepped\": false, \"type\": \"scatter\", \"data\": [0.8137666459366596, 0.8125453153335593, 0.8063364626745203, 0.7993490647262737, 0.8053523563742697, 0.7990243887744624, 0.8132449969816046, 0.8099073619156201, 0.8127488778636582, 0.8102561042118547, 0.8114276591322314, 0.7944477829751398, 0.8015942418395703, 0.810496632648268, 0.8048692692625472, 0.8082442101170979, 0.8108647654565555, 0.808954261763619, 0.8082015689453055, 0.806992154000046, 0.8095491179450576, 0.8113207893081361, 0.806585384369065, 0.8102716501375085, 0.8040135837562221, 0.7983334430967945, 0.8118154486827411, 0.8022806667530051, 0.8096240467079312, 0.8110287415135631, 0.8009735565861138, 0.8122676445533653, 0.8103930892665563, 0.8098360542339161, 0.8117293411157581, 0.813429164686376, 0.8141068899751623]}, {\"categories\": [\"0\", \"1\", \"2\", \"3\", \"4\", \"5\", \"6\", \"7\", \"8\", \"9\", \"10\", \"11\", \"12\", \"13\", \"14\", \"15\", \"16\", \"17\", \"18\", \"19\", \"20\", \"21\", \"22\", \"23\", \"24\", \"25\", \"26\", \"27\", \"28\", \"29\", \"30\", \"31\", \"32\", \"33\", \"34\", \"36\", \"37\"], \"mode\": \"lines\", \"name\": \"average_precision_score_weighted_max\", \"stepped\": true, \"type\": \"scatter\", \"data\": [0.8137666459366596, 0.8137666459366596, 0.8137666459366596, 0.8137666459366596, 0.8137666459366596, 0.8137666459366596, 0.8137666459366596, 0.8137666459366596, 0.8137666459366596, 0.8137666459366596, 0.8137666459366596, 0.8137666459366596, 0.8137666459366596, 0.8137666459366596, 0.8137666459366596, 0.8137666459366596, 0.8137666459366596, 0.8137666459366596, 0.8137666459366596, 0.8137666459366596, 0.8137666459366596, 0.8137666459366596, 0.8137666459366596, 0.8137666459366596, 0.8137666459366596, 0.8137666459366596, 0.8137666459366596, 0.8137666459366596, 0.8137666459366596, 0.8137666459366596, 0.8137666459366596, 0.8137666459366596, 0.8137666459366596, 0.8137666459366596, 0.8137666459366596, 0.8137666459366596, 0.8141068899751623]}], \"weighted_accuracy\": [{\"categories\": [\"0\", \"1\", \"2\", \"3\", \"4\", \"5\", \"6\", \"7\", \"8\", \"9\", \"10\", \"11\", \"12\", \"13\", \"14\", \"15\", \"16\", \"17\", \"18\", \"19\", \"20\", \"21\", \"22\", \"23\", \"24\", \"25\", \"26\", \"27\", \"28\", \"29\", \"30\", \"31\", \"32\", \"33\", \"34\", \"36\", \"37\"], \"mode\": \"markers\", \"name\": \"weighted_accuracy\", \"stepped\": false, \"type\": \"scatter\", \"data\": [0.8389676964840191, 0.8453554370927667, 0.872972839253866, 0.897454043651711, 0.747068196543958, 0.708328029683952, 0.8485809697575284, 0.8426603172514234, 0.8460026064206294, 0.846504833463165, 0.8601190061553826, 0.8664437873589131, 0.8542387663353834, 0.86154645816973, 0.8806696025942606, 0.8540635929102182, 0.8708692047199887, 0.8674278121458296, 0.8525692575153547, 0.8517603198742784, 0.8608168677115117, 0.8487543152365287, 0.897601963048382, 0.84631643733006, 0.8645787058455685, 0.9005442636628962, 0.8556396543727169, 0.8651196281807538, 0.8481248992621145, 0.8565872935128935, 0.9005442636628962, 0.841718707475486, 0.8458711107779516, 0.8614132700713306, 0.8591255029850196, 0.8323045824073745, 0.8431645089665297]}, {\"categories\": [\"0\", \"1\", \"2\", \"3\", \"4\", \"5\", \"6\", \"7\", \"8\", \"9\", \"10\", \"11\", \"12\", \"13\", \"14\", \"15\", \"16\", \"17\", \"18\", \"19\", \"20\", \"21\", \"22\", \"23\", \"24\", \"25\", \"26\", \"27\", \"28\", \"29\", \"30\", \"31\", \"32\", \"33\", \"34\", \"36\", \"37\"], \"mode\": \"lines\", \"name\": \"weighted_accuracy_max\", \"stepped\": true, \"type\": \"scatter\", \"data\": [0.8389676964840191, 0.8453554370927667, 0.872972839253866, 0.897454043651711, 0.897454043651711, 0.897454043651711, 0.897454043651711, 0.897454043651711, 0.897454043651711, 0.897454043651711, 0.897454043651711, 0.897454043651711, 0.897454043651711, 0.897454043651711, 0.897454043651711, 0.897454043651711, 0.897454043651711, 0.897454043651711, 0.897454043651711, 0.897454043651711, 0.897454043651711, 0.897454043651711, 0.897601963048382, 0.897601963048382, 0.897601963048382, 0.9005442636628962, 0.9005442636628962, 0.9005442636628962, 0.9005442636628962, 0.9005442636628962, 0.9005442636628962, 0.9005442636628962, 0.9005442636628962, 0.9005442636628962, 0.9005442636628962, 0.9005442636628962, 0.9005442636628962]}], \"f1_score_micro\": [{\"categories\": [\"0\", \"1\", \"2\", \"3\", \"4\", \"5\", \"6\", \"7\", \"8\", \"9\", \"10\", \"11\", \"12\", \"13\", \"14\", \"15\", \"16\", \"17\", \"18\", \"19\", \"20\", \"21\", \"22\", \"23\", \"24\", \"25\", \"26\", \"27\", \"28\", \"29\", \"30\", \"31\", \"32\", \"33\", \"34\", \"36\", \"37\"], \"mode\": \"markers\", \"name\": \"f1_score_micro\", \"stepped\": false, \"type\": \"scatter\", \"data\": [0.7938719347548757, 0.7934546025746452, 0.7743500309800992, 0.7536798881119797, 0.7447011360459584, 0.7119221748302088, 0.790322533621718, 0.788756785241157, 0.789487378811138, 0.7920450216860694, 0.7809270624381147, 0.7747159748867741, 0.7823366705739192, 0.7809791591396197, 0.7651111223732989, 0.7786827354473914, 0.7743502080870865, 0.7745066616749744, 0.7889135385485619, 0.7858859627181617, 0.7804049919102978, 0.7886522784950157, 0.7544626465015376, 0.7875038895419142, 0.7763339017105265, 0.750652162421821, 0.790061614158532, 0.7764383267149814, 0.7907401655214656, 0.7857295227538882, 0.750652162421821, 0.7915757426640924, 0.7906356723989386, 0.7794658071800807, 0.7807703908723964, 0.799561932678637, 0.7953859678951353]}, {\"categories\": [\"0\", \"1\", \"2\", \"3\", \"4\", \"5\", \"6\", \"7\", \"8\", \"9\", \"10\", \"11\", \"12\", \"13\", \"14\", \"15\", \"16\", \"17\", \"18\", \"19\", \"20\", \"21\", \"22\", \"23\", \"24\", \"25\", \"26\", \"27\", \"28\", \"29\", \"30\", \"31\", \"32\", \"33\", \"34\", \"36\", \"37\"], \"mode\": \"lines\", \"name\": \"f1_score_micro_max\", \"stepped\": true, \"type\": \"scatter\", \"data\": [0.7938719347548757, 0.7938719347548757, 0.7938719347548757, 0.7938719347548757, 0.7938719347548757, 0.7938719347548757, 0.7938719347548757, 0.7938719347548757, 0.7938719347548757, 0.7938719347548757, 0.7938719347548757, 0.7938719347548757, 0.7938719347548757, 0.7938719347548757, 0.7938719347548757, 0.7938719347548757, 0.7938719347548757, 0.7938719347548757, 0.7938719347548757, 0.7938719347548757, 0.7938719347548757, 0.7938719347548757, 0.7938719347548757, 0.7938719347548757, 0.7938719347548757, 0.7938719347548757, 0.7938719347548757, 0.7938719347548757, 0.7938719347548757, 0.7938719347548757, 0.7938719347548757, 0.7938719347548757, 0.7938719347548757, 0.7938719347548757, 0.7938719347548757, 0.799561932678637, 0.799561932678637]}], \"AUC_macro\": [{\"categories\": [\"0\", \"1\", \"2\", \"3\", \"4\", \"5\", \"6\", \"7\", \"8\", \"9\", \"10\", \"11\", \"12\", \"13\", \"14\", \"15\", \"16\", \"17\", \"18\", \"19\", \"20\", \"21\", \"22\", \"23\", \"24\", \"25\", \"26\", \"27\", \"28\", \"29\", \"30\", \"31\", \"32\", \"33\", \"34\", \"36\", \"37\"], \"mode\": \"markers\", \"name\": \"AUC_macro\", \"stepped\": false, \"type\": \"scatter\", \"data\": [0.7990651914976759, 0.8000310122838016, 0.788024412996957, 0.7748060153477729, 0.7864182128975551, 0.7739550395815853, 0.7989278903599801, 0.7943549426976112, 0.797562645303005, 0.7943020549112128, 0.7938666588500929, 0.7742093739488229, 0.7896748652073526, 0.7960822912782091, 0.788993913753696, 0.7889437365596443, 0.7945258250020654, 0.7919745749243872, 0.7924104329738377, 0.7905770233287358, 0.7952274974176794, 0.7963792993765487, 0.7879643103996636, 0.7946659342950235, 0.7822917190337226, 0.7704125934467152, 0.7963570776376389, 0.7816938633207053, 0.7945150760835731, 0.7950471935964559, 0.7777800010662801, 0.7954047293504034, 0.7952329031989503, 0.7927201756625722, 0.794904941990752, 0.7984368384633993, 0.8005658850243819]}, {\"categories\": [\"0\", \"1\", \"2\", \"3\", \"4\", \"5\", \"6\", \"7\", \"8\", \"9\", \"10\", \"11\", \"12\", \"13\", \"14\", \"15\", \"16\", \"17\", \"18\", \"19\", \"20\", \"21\", \"22\", \"23\", \"24\", \"25\", \"26\", \"27\", \"28\", \"29\", \"30\", \"31\", \"32\", \"33\", \"34\", \"36\", \"37\"], \"mode\": \"lines\", \"name\": \"AUC_macro_max\", \"stepped\": true, \"type\": \"scatter\", \"data\": [0.7990651914976759, 0.8000310122838016, 0.8000310122838016, 0.8000310122838016, 0.8000310122838016, 0.8000310122838016, 0.8000310122838016, 0.8000310122838016, 0.8000310122838016, 0.8000310122838016, 0.8000310122838016, 0.8000310122838016, 0.8000310122838016, 0.8000310122838016, 0.8000310122838016, 0.8000310122838016, 0.8000310122838016, 0.8000310122838016, 0.8000310122838016, 0.8000310122838016, 0.8000310122838016, 0.8000310122838016, 0.8000310122838016, 0.8000310122838016, 0.8000310122838016, 0.8000310122838016, 0.8000310122838016, 0.8000310122838016, 0.8000310122838016, 0.8000310122838016, 0.8000310122838016, 0.8000310122838016, 0.8000310122838016, 0.8000310122838016, 0.8000310122838016, 0.8000310122838016, 0.8005658850243819]}]}, \"metricName\": null, \"primaryMetricName\": \"accuracy\", \"showLegend\": false}, \"run_metrics\": [{\"name\": \"experiment_status\", \"run_id\": \"AutoML_a2097c92-4271-44a9-aa13-020ff2552d48\", \"categories\": [0, 1, 2, 3, 4, 5, 6, 7, 8, 9, 10, 11, 12, 13], \"series\": [{\"data\": [\"DatasetEvaluation\", \"FeaturesGeneration\", \"DatasetFeaturization\", \"DatasetFeaturizationCompleted\", \"DatasetCrossValidationSplit\", \"ModelSelection\", \"BestRunExplainModel\", \"ModelExplanationDataSetSetup\", \"PickSurrogateModel\", \"EngineeredFeatureExplanations\", \"EngineeredFeatureExplanations\", \"RawFeaturesExplanations\", \"RawFeaturesExplanations\", \"BestRunExplainModel\"]}]}, {\"name\": \"experiment_status_description\", \"run_id\": \"AutoML_a2097c92-4271-44a9-aa13-020ff2552d48\", \"categories\": [0, 1, 2, 3, 4, 5, 6, 7, 8, 9, 10, 11, 12, 13], \"series\": [{\"data\": [\"Gathering dataset statistics.\", \"Generating features for the dataset.\", \"Beginning to fit featurizers and featurize the dataset.\", \"Completed fit featurizers and featurizing the dataset.\", \"Generating individually featurized CV splits.\", \"Beginning model selection.\", \"Best run model explanations started\", \"Model explanations data setup completed\", \"Choosing LightGBM as the surrogate model for explanations\", \"Computation of engineered features started\", \"Computation of engineered features completed\", \"Computation of raw features started\", \"Computation of raw features completed\", \"Best run model explanations completed\"]}]}, {\"name\": \"f1_score_micro\", \"run_id\": \"AutoML_a2097c92-4271-44a9-aa13-020ff2552d48\", \"categories\": [0], \"series\": [{\"data\": [0.799561932678637]}]}, {\"name\": \"accuracy\", \"run_id\": \"AutoML_a2097c92-4271-44a9-aa13-020ff2552d48\", \"categories\": [0], \"series\": [{\"data\": [0.799561932678637]}]}, {\"name\": \"AUC_weighted\", \"run_id\": \"AutoML_a2097c92-4271-44a9-aa13-020ff2552d48\", \"categories\": [0], \"series\": [{\"data\": [0.7984368384633993]}]}, {\"name\": \"weighted_accuracy\", \"run_id\": \"AutoML_a2097c92-4271-44a9-aa13-020ff2552d48\", \"categories\": [0], \"series\": [{\"data\": [0.8323045824073745]}]}, {\"name\": \"AUC_macro\", \"run_id\": \"AutoML_a2097c92-4271-44a9-aa13-020ff2552d48\", \"categories\": [0], \"series\": [{\"data\": [0.7984368384633993]}]}, {\"name\": \"average_precision_score_macro\", \"run_id\": \"AutoML_a2097c92-4271-44a9-aa13-020ff2552d48\", \"categories\": [0], \"series\": [{\"data\": [0.7228987957245601]}]}, {\"name\": \"norm_macro_recall\", \"run_id\": \"AutoML_a2097c92-4271-44a9-aa13-020ff2552d48\", \"categories\": [0], \"series\": [{\"data\": [0.4894884078459052]}]}, {\"name\": \"f1_score_macro\", \"run_id\": \"AutoML_a2097c92-4271-44a9-aa13-020ff2552d48\", \"categories\": [0], \"series\": [{\"data\": [0.7385704671782548]}]}, {\"name\": \"recall_score_macro\", \"run_id\": \"AutoML_a2097c92-4271-44a9-aa13-020ff2552d48\", \"categories\": [0], \"series\": [{\"data\": [0.7447442039229526]}]}, {\"name\": \"average_precision_score_weighted\", \"run_id\": \"AutoML_a2097c92-4271-44a9-aa13-020ff2552d48\", \"categories\": [0], \"series\": [{\"data\": [0.813429164686376]}]}, {\"name\": \"recall_score_micro\", \"run_id\": \"AutoML_a2097c92-4271-44a9-aa13-020ff2552d48\", \"categories\": [0], \"series\": [{\"data\": [0.799561932678637]}]}, {\"name\": \"recall_score_weighted\", \"run_id\": \"AutoML_a2097c92-4271-44a9-aa13-020ff2552d48\", \"categories\": [0], \"series\": [{\"data\": [0.799561932678637]}]}, {\"name\": \"f1_score_weighted\", \"run_id\": \"AutoML_a2097c92-4271-44a9-aa13-020ff2552d48\", \"categories\": [0], \"series\": [{\"data\": [0.8019159878273167]}]}, {\"name\": \"log_loss\", \"run_id\": \"AutoML_a2097c92-4271-44a9-aa13-020ff2552d48\", \"categories\": [0], \"series\": [{\"data\": [0.4942626664129846]}]}, {\"name\": \"precision_score_weighted\", \"run_id\": \"AutoML_a2097c92-4271-44a9-aa13-020ff2552d48\", \"categories\": [0], \"series\": [{\"data\": [0.8049137441677134]}]}, {\"name\": \"matthews_correlation\", \"run_id\": \"AutoML_a2097c92-4271-44a9-aa13-020ff2552d48\", \"categories\": [0], \"series\": [{\"data\": [0.47799719995235906]}]}, {\"name\": \"precision_score_micro\", \"run_id\": \"AutoML_a2097c92-4271-44a9-aa13-020ff2552d48\", \"categories\": [0], \"series\": [{\"data\": [0.799561932678637]}]}, {\"name\": \"average_precision_score_micro\", \"run_id\": \"AutoML_a2097c92-4271-44a9-aa13-020ff2552d48\", \"categories\": [0], \"series\": [{\"data\": [0.8578255497910187]}]}, {\"name\": \"balanced_accuracy\", \"run_id\": \"AutoML_a2097c92-4271-44a9-aa13-020ff2552d48\", \"categories\": [0], \"series\": [{\"data\": [0.7447442039229526]}]}, {\"name\": \"AUC_micro\", \"run_id\": \"AutoML_a2097c92-4271-44a9-aa13-020ff2552d48\", \"categories\": [0], \"series\": [{\"data\": [0.8703769164401708]}]}, {\"name\": \"precision_score_macro\", \"run_id\": \"AutoML_a2097c92-4271-44a9-aa13-020ff2552d48\", \"categories\": [0], \"series\": [{\"data\": [0.7333937027408227]}]}], \"run_logs\": \"\\nRun is completed.\", \"graph\": {}, \"widget_settings\": {\"childWidgetDisplay\": \"popup\", \"send_telemetry\": false, \"log_level\": \"INFO\", \"sdk_version\": \"1.20.0\"}, \"loading\": false}"
     },
     "metadata": {},
     "output_type": "display_data"
    }
   ],
   "source": [
    "RunDetails(remote_run).show()"
   ]
  },
  {
   "cell_type": "code",
   "execution_count": 9,
   "metadata": {
    "gather": {
     "logged": 1611957104738
    },
    "nteract": {
     "transient": {
      "deleting": false
     }
    }
   },
   "outputs": [
    {
     "data": {
      "text/plain": [
       "{'runId': 'AutoML_a2097c92-4271-44a9-aa13-020ff2552d48',\n",
       " 'target': 'cpu-cluster',\n",
       " 'status': 'Completed',\n",
       " 'startTimeUtc': '2021-01-31T04:22:20.820807Z',\n",
       " 'endTimeUtc': '2021-01-31T04:48:03.946697Z',\n",
       " 'properties': {'num_iterations': '1000',\n",
       "  'training_type': 'TrainFull',\n",
       "  'acquisition_function': 'EI',\n",
       "  'primary_metric': 'accuracy',\n",
       "  'train_split': '0',\n",
       "  'acquisition_parameter': '0',\n",
       "  'num_cross_validation': '5',\n",
       "  'target': 'cpu-cluster',\n",
       "  'AMLSettingsJsonString': '{\"path\":null,\"name\":\"jobchangeautoml\",\"subscription_id\":\"d7f39349-a66b-446e-aba6-0053c2cf1c11\",\"resource_group\":\"aml-quickstarts-136680\",\"workspace_name\":\"quick-starts-ws-136680\",\"region\":\"southcentralus\",\"compute_target\":\"cpu-cluster\",\"spark_service\":null,\"azure_service\":\"remote\",\"many_models\":false,\"pipeline_fetch_max_batch_size\":1,\"iterations\":1000,\"primary_metric\":\"accuracy\",\"task_type\":\"classification\",\"data_script\":null,\"validation_size\":0.0,\"n_cross_validations\":5,\"y_min\":null,\"y_max\":null,\"num_classes\":null,\"featurization\":\"auto\",\"_ignore_package_version_incompatibilities\":false,\"is_timeseries\":false,\"max_cores_per_iteration\":1,\"max_concurrent_iterations\":4,\"iteration_timeout_minutes\":null,\"mem_in_mb\":null,\"enforce_time_on_windows\":false,\"experiment_timeout_minutes\":15,\"experiment_exit_score\":null,\"whitelist_models\":null,\"blacklist_algos\":[\"TensorFlowLinearClassifier\",\"TensorFlowDNN\"],\"supported_models\":[\"MultinomialNaiveBayes\",\"LogisticRegression\",\"TensorFlowDNN\",\"SVM\",\"SGD\",\"XGBoostClassifier\",\"BernoulliNaiveBayes\",\"LinearSVM\",\"AveragedPerceptronClassifier\",\"ExtremeRandomTrees\",\"GradientBoosting\",\"KNN\",\"TensorFlowLinearClassifier\",\"DecisionTree\",\"RandomForest\",\"LightGBM\"],\"auto_blacklist\":true,\"blacklist_samples_reached\":false,\"exclude_nan_labels\":true,\"verbosity\":20,\"_debug_log\":\"azureml_automl.log\",\"show_warnings\":false,\"model_explainability\":true,\"service_url\":null,\"sdk_url\":null,\"sdk_packages\":null,\"enable_onnx_compatible_models\":false,\"enable_split_onnx_featurizer_estimator_models\":false,\"vm_type\":\"STANDARD_D12_V2\",\"telemetry_verbosity\":20,\"send_telemetry\":true,\"enable_dnn\":false,\"scenario\":\"SDK-1.13.0\",\"environment_label\":null,\"force_text_dnn\":false,\"enable_feature_sweeping\":true,\"enable_early_stopping\":true,\"early_stopping_n_iters\":10,\"metrics\":null,\"enable_ensembling\":true,\"enable_stack_ensembling\":true,\"ensemble_iterations\":15,\"enable_tf\":false,\"enable_subsampling\":null,\"subsample_seed\":null,\"enable_nimbusml\":false,\"enable_streaming\":false,\"force_streaming\":false,\"track_child_runs\":true,\"allowed_private_models\":[],\"label_column_name\":\"target\",\"weight_column_name\":null,\"cv_split_column_names\":null,\"enable_local_managed\":false,\"_local_managed_run_id\":null,\"cost_mode\":1,\"lag_length\":0,\"metric_operation\":\"maximize\",\"preprocess\":true}',\n",
       "  'DataPrepJsonString': '{\\\\\"training_data\\\\\": \\\\\"{\\\\\\\\\\\\\"blocks\\\\\\\\\\\\\": [{\\\\\\\\\\\\\"id\\\\\\\\\\\\\": \\\\\\\\\\\\\"d9b50f64-ce0c-4332-8a92-6e1129fafb56\\\\\\\\\\\\\", \\\\\\\\\\\\\"type\\\\\\\\\\\\\": \\\\\\\\\\\\\"Microsoft.DPrep.GetDatastoreFilesBlock\\\\\\\\\\\\\", \\\\\\\\\\\\\"arguments\\\\\\\\\\\\\": {\\\\\\\\\\\\\"datastores\\\\\\\\\\\\\": [{\\\\\\\\\\\\\"datastoreName\\\\\\\\\\\\\": \\\\\\\\\\\\\"workspaceblobstore\\\\\\\\\\\\\", \\\\\\\\\\\\\"path\\\\\\\\\\\\\": \\\\\\\\\\\\\"UI/01-31-2021_041851_UTC/aug_train.csv\\\\\\\\\\\\\", \\\\\\\\\\\\\"resourceGroup\\\\\\\\\\\\\": \\\\\\\\\\\\\"aml-quickstarts-136680\\\\\\\\\\\\\", \\\\\\\\\\\\\"subscription\\\\\\\\\\\\\": \\\\\\\\\\\\\"d7f39349-a66b-446e-aba6-0053c2cf1c11\\\\\\\\\\\\\", \\\\\\\\\\\\\"workspaceName\\\\\\\\\\\\\": \\\\\\\\\\\\\"quick-starts-ws-136680\\\\\\\\\\\\\"}]}, \\\\\\\\\\\\\"localData\\\\\\\\\\\\\": {}, \\\\\\\\\\\\\"isEnabled\\\\\\\\\\\\\": true, \\\\\\\\\\\\\"name\\\\\\\\\\\\\": null, \\\\\\\\\\\\\"annotation\\\\\\\\\\\\\": null}, {\\\\\\\\\\\\\"id\\\\\\\\\\\\\": \\\\\\\\\\\\\"16a12452-8631-4cad-92ce-9b7f1e1240ab\\\\\\\\\\\\\", \\\\\\\\\\\\\"type\\\\\\\\\\\\\": \\\\\\\\\\\\\"Microsoft.DPrep.ParseDelimitedBlock\\\\\\\\\\\\\", \\\\\\\\\\\\\"arguments\\\\\\\\\\\\\": {\\\\\\\\\\\\\"columnHeadersMode\\\\\\\\\\\\\": 1, \\\\\\\\\\\\\"fileEncoding\\\\\\\\\\\\\": 0, \\\\\\\\\\\\\"handleQuotedLineBreaks\\\\\\\\\\\\\": false, \\\\\\\\\\\\\"preview\\\\\\\\\\\\\": false, \\\\\\\\\\\\\"separator\\\\\\\\\\\\\": \\\\\\\\\\\\\",\\\\\\\\\\\\\", \\\\\\\\\\\\\"skipRows\\\\\\\\\\\\\": 0, \\\\\\\\\\\\\"skipRowsMode\\\\\\\\\\\\\": 0}, \\\\\\\\\\\\\"localData\\\\\\\\\\\\\": {}, \\\\\\\\\\\\\"isEnabled\\\\\\\\\\\\\": true, \\\\\\\\\\\\\"name\\\\\\\\\\\\\": null, \\\\\\\\\\\\\"annotation\\\\\\\\\\\\\": null}, {\\\\\\\\\\\\\"id\\\\\\\\\\\\\": \\\\\\\\\\\\\"1c48470f-63d6-439a-b01b-dbc9e40a947d\\\\\\\\\\\\\", \\\\\\\\\\\\\"type\\\\\\\\\\\\\": \\\\\\\\\\\\\"Microsoft.DPrep.DropColumnsBlock\\\\\\\\\\\\\", \\\\\\\\\\\\\"arguments\\\\\\\\\\\\\": {\\\\\\\\\\\\\"columns\\\\\\\\\\\\\": {\\\\\\\\\\\\\"type\\\\\\\\\\\\\": 0, \\\\\\\\\\\\\"details\\\\\\\\\\\\\": {\\\\\\\\\\\\\"selectedColumns\\\\\\\\\\\\\": [\\\\\\\\\\\\\"Path\\\\\\\\\\\\\", \\\\\\\\\\\\\"enrollee_id\\\\\\\\\\\\\"]}}}, \\\\\\\\\\\\\"localData\\\\\\\\\\\\\": {}, \\\\\\\\\\\\\"isEnabled\\\\\\\\\\\\\": true, \\\\\\\\\\\\\"name\\\\\\\\\\\\\": null, \\\\\\\\\\\\\"annotation\\\\\\\\\\\\\": null}, {\\\\\\\\\\\\\"id\\\\\\\\\\\\\": \\\\\\\\\\\\\"ad3f72a5-c028-4826-995c-d4365ed0fa63\\\\\\\\\\\\\", \\\\\\\\\\\\\"type\\\\\\\\\\\\\": \\\\\\\\\\\\\"Microsoft.DPrep.SetColumnTypesBlock\\\\\\\\\\\\\", \\\\\\\\\\\\\"arguments\\\\\\\\\\\\\": {\\\\\\\\\\\\\"columnConversion\\\\\\\\\\\\\": [{\\\\\\\\\\\\\"column\\\\\\\\\\\\\": {\\\\\\\\\\\\\"type\\\\\\\\\\\\\": 2, \\\\\\\\\\\\\"details\\\\\\\\\\\\\": {\\\\\\\\\\\\\"selectedColumn\\\\\\\\\\\\\": \\\\\\\\\\\\\"Path\\\\\\\\\\\\\"}}, \\\\\\\\\\\\\"typeProperty\\\\\\\\\\\\\": 0}, {\\\\\\\\\\\\\"column\\\\\\\\\\\\\": {\\\\\\\\\\\\\"type\\\\\\\\\\\\\": 2, \\\\\\\\\\\\\"details\\\\\\\\\\\\\": {\\\\\\\\\\\\\"selectedColumn\\\\\\\\\\\\\": \\\\\\\\\\\\\"enrollee_id\\\\\\\\\\\\\"}}, \\\\\\\\\\\\\"typeProperty\\\\\\\\\\\\\": 2}, {\\\\\\\\\\\\\"column\\\\\\\\\\\\\": {\\\\\\\\\\\\\"type\\\\\\\\\\\\\": 2, \\\\\\\\\\\\\"details\\\\\\\\\\\\\": {\\\\\\\\\\\\\"selectedColumn\\\\\\\\\\\\\": \\\\\\\\\\\\\"city\\\\\\\\\\\\\"}}, \\\\\\\\\\\\\"typeProperty\\\\\\\\\\\\\": 0}, {\\\\\\\\\\\\\"column\\\\\\\\\\\\\": {\\\\\\\\\\\\\"type\\\\\\\\\\\\\": 2, \\\\\\\\\\\\\"details\\\\\\\\\\\\\": {\\\\\\\\\\\\\"selectedColumn\\\\\\\\\\\\\": \\\\\\\\\\\\\"city_development_index\\\\\\\\\\\\\"}}, \\\\\\\\\\\\\"typeProperty\\\\\\\\\\\\\": 3}, {\\\\\\\\\\\\\"column\\\\\\\\\\\\\": {\\\\\\\\\\\\\"type\\\\\\\\\\\\\": 2, \\\\\\\\\\\\\"details\\\\\\\\\\\\\": {\\\\\\\\\\\\\"selectedColumn\\\\\\\\\\\\\": \\\\\\\\\\\\\"gender\\\\\\\\\\\\\"}}, \\\\\\\\\\\\\"typeProperty\\\\\\\\\\\\\": 0}, {\\\\\\\\\\\\\"column\\\\\\\\\\\\\": {\\\\\\\\\\\\\"type\\\\\\\\\\\\\": 2, \\\\\\\\\\\\\"details\\\\\\\\\\\\\": {\\\\\\\\\\\\\"selectedColumn\\\\\\\\\\\\\": \\\\\\\\\\\\\"relevent_experience\\\\\\\\\\\\\"}}, \\\\\\\\\\\\\"typeProperty\\\\\\\\\\\\\": 0}, {\\\\\\\\\\\\\"column\\\\\\\\\\\\\": {\\\\\\\\\\\\\"type\\\\\\\\\\\\\": 2, \\\\\\\\\\\\\"details\\\\\\\\\\\\\": {\\\\\\\\\\\\\"selectedColumn\\\\\\\\\\\\\": \\\\\\\\\\\\\"enrolled_university\\\\\\\\\\\\\"}}, \\\\\\\\\\\\\"typeProperty\\\\\\\\\\\\\": 0}, {\\\\\\\\\\\\\"column\\\\\\\\\\\\\": {\\\\\\\\\\\\\"type\\\\\\\\\\\\\": 2, \\\\\\\\\\\\\"details\\\\\\\\\\\\\": {\\\\\\\\\\\\\"selectedColumn\\\\\\\\\\\\\": \\\\\\\\\\\\\"education_level\\\\\\\\\\\\\"}}, \\\\\\\\\\\\\"typeProperty\\\\\\\\\\\\\": 0}, {\\\\\\\\\\\\\"column\\\\\\\\\\\\\": {\\\\\\\\\\\\\"type\\\\\\\\\\\\\": 2, \\\\\\\\\\\\\"details\\\\\\\\\\\\\": {\\\\\\\\\\\\\"selectedColumn\\\\\\\\\\\\\": \\\\\\\\\\\\\"major_discipline\\\\\\\\\\\\\"}}, \\\\\\\\\\\\\"typeProperty\\\\\\\\\\\\\": 0}, {\\\\\\\\\\\\\"column\\\\\\\\\\\\\": {\\\\\\\\\\\\\"type\\\\\\\\\\\\\": 2, \\\\\\\\\\\\\"details\\\\\\\\\\\\\": {\\\\\\\\\\\\\"selectedColumn\\\\\\\\\\\\\": \\\\\\\\\\\\\"experience\\\\\\\\\\\\\"}}, \\\\\\\\\\\\\"typeProperty\\\\\\\\\\\\\": 0}, {\\\\\\\\\\\\\"column\\\\\\\\\\\\\": {\\\\\\\\\\\\\"type\\\\\\\\\\\\\": 2, \\\\\\\\\\\\\"details\\\\\\\\\\\\\": {\\\\\\\\\\\\\"selectedColumn\\\\\\\\\\\\\": \\\\\\\\\\\\\"company_size\\\\\\\\\\\\\"}}, \\\\\\\\\\\\\"typeProperty\\\\\\\\\\\\\": 0}, {\\\\\\\\\\\\\"column\\\\\\\\\\\\\": {\\\\\\\\\\\\\"type\\\\\\\\\\\\\": 2, \\\\\\\\\\\\\"details\\\\\\\\\\\\\": {\\\\\\\\\\\\\"selectedColumn\\\\\\\\\\\\\": \\\\\\\\\\\\\"company_type\\\\\\\\\\\\\"}}, \\\\\\\\\\\\\"typeProperty\\\\\\\\\\\\\": 0}, {\\\\\\\\\\\\\"column\\\\\\\\\\\\\": {\\\\\\\\\\\\\"type\\\\\\\\\\\\\": 2, \\\\\\\\\\\\\"details\\\\\\\\\\\\\": {\\\\\\\\\\\\\"selectedColumn\\\\\\\\\\\\\": \\\\\\\\\\\\\"last_new_job\\\\\\\\\\\\\"}}, \\\\\\\\\\\\\"typeProperty\\\\\\\\\\\\\": 0}, {\\\\\\\\\\\\\"column\\\\\\\\\\\\\": {\\\\\\\\\\\\\"type\\\\\\\\\\\\\": 2, \\\\\\\\\\\\\"details\\\\\\\\\\\\\": {\\\\\\\\\\\\\"selectedColumn\\\\\\\\\\\\\": \\\\\\\\\\\\\"training_hours\\\\\\\\\\\\\"}}, \\\\\\\\\\\\\"typeProperty\\\\\\\\\\\\\": 2}, {\\\\\\\\\\\\\"column\\\\\\\\\\\\\": {\\\\\\\\\\\\\"type\\\\\\\\\\\\\": 2, \\\\\\\\\\\\\"details\\\\\\\\\\\\\": {\\\\\\\\\\\\\"selectedColumn\\\\\\\\\\\\\": \\\\\\\\\\\\\"target\\\\\\\\\\\\\"}}, \\\\\\\\\\\\\"typeProperty\\\\\\\\\\\\\": 3}]}, \\\\\\\\\\\\\"localData\\\\\\\\\\\\\": {}, \\\\\\\\\\\\\"isEnabled\\\\\\\\\\\\\": true, \\\\\\\\\\\\\"name\\\\\\\\\\\\\": null, \\\\\\\\\\\\\"annotation\\\\\\\\\\\\\": null}], \\\\\\\\\\\\\"inspectors\\\\\\\\\\\\\": [], \\\\\\\\\\\\\"meta\\\\\\\\\\\\\": {\\\\\\\\\\\\\"savedDatasetId\\\\\\\\\\\\\": \\\\\\\\\\\\\"f0acea14-bafe-4304-ad4a-be43f0214298\\\\\\\\\\\\\", \\\\\\\\\\\\\"datasetType\\\\\\\\\\\\\": \\\\\\\\\\\\\"tabular\\\\\\\\\\\\\", \\\\\\\\\\\\\"subscriptionId\\\\\\\\\\\\\": \\\\\\\\\\\\\"d7f39349-a66b-446e-aba6-0053c2cf1c11\\\\\\\\\\\\\", \\\\\\\\\\\\\"workspaceId\\\\\\\\\\\\\": \\\\\\\\\\\\\"9bc893d7-36d7-4017-9484-c870f04f3f1a\\\\\\\\\\\\\", \\\\\\\\\\\\\"workspaceLocation\\\\\\\\\\\\\": \\\\\\\\\\\\\"southcentralus\\\\\\\\\\\\\"}}\\\\\", \\\\\"activities\\\\\": 0}',\n",
       "  'EnableSubsampling': None,\n",
       "  'runTemplate': 'AutoML',\n",
       "  'azureml.runsource': 'automl',\n",
       "  'display_task_type': 'classification',\n",
       "  'dependencies_versions': '{\"azureml-widgets\": \"1.20.0\", \"azureml-train\": \"1.20.0\", \"azureml-train-restclients-hyperdrive\": \"1.20.0\", \"azureml-train-core\": \"1.20.0\", \"azureml-train-automl\": \"1.20.0\", \"azureml-train-automl-runtime\": \"1.20.0\", \"azureml-train-automl-client\": \"1.20.0\", \"azureml-tensorboard\": \"1.20.0\", \"azureml-telemetry\": \"1.20.0\", \"azureml-sdk\": \"1.20.0\", \"azureml-samples\": \"0+unknown\", \"azureml-pipeline\": \"1.20.0\", \"azureml-pipeline-steps\": \"1.20.0\", \"azureml-pipeline-core\": \"1.20.0\", \"azureml-opendatasets\": \"1.20.0\", \"azureml-model-management-sdk\": \"1.0.1b6.post1\", \"azureml-mlflow\": \"1.20.0.post1\", \"azureml-interpret\": \"1.20.0\", \"azureml-explain-model\": \"1.20.0\", \"azureml-defaults\": \"1.20.0\", \"azureml-dataset-runtime\": \"1.20.0\", \"azureml-dataprep\": \"2.7.3\", \"azureml-dataprep-rslex\": \"1.5.0\", \"azureml-dataprep-native\": \"27.0.0\", \"azureml-datadrift\": \"1.20.0\", \"azureml-core\": \"1.20.0\", \"azureml-contrib-services\": \"1.20.0\", \"azureml-contrib-server\": \"1.20.0\", \"azureml-contrib-reinforcementlearning\": \"1.20.0\", \"azureml-contrib-pipeline-steps\": \"1.20.0\", \"azureml-contrib-notebook\": \"1.20.0\", \"azureml-contrib-interpret\": \"1.20.0\", \"azureml-contrib-gbdt\": \"1.20.0\", \"azureml-contrib-fairness\": \"1.20.0\", \"azureml-contrib-dataset\": \"1.20.0\", \"azureml-cli-common\": \"1.20.0\", \"azureml-automl-runtime\": \"1.20.0\", \"azureml-automl-core\": \"1.20.0\", \"azureml-accel-models\": \"1.20.0\"}',\n",
       "  '_aml_system_scenario_identification': 'Remote.Parent',\n",
       "  'ClientType': 'SDK',\n",
       "  'environment_cpu_name': 'AzureML-AutoML',\n",
       "  'environment_cpu_label': 'prod',\n",
       "  'environment_gpu_name': 'AzureML-AutoML-GPU',\n",
       "  'environment_gpu_label': 'prod',\n",
       "  'root_attribution': 'automl',\n",
       "  'attribution': 'AutoML',\n",
       "  'Orchestrator': 'AutoML',\n",
       "  'CancelUri': 'https://southcentralus.experiments.azureml.net/jasmine/v1.0/subscriptions/d7f39349-a66b-446e-aba6-0053c2cf1c11/resourceGroups/aml-quickstarts-136680/providers/Microsoft.MachineLearningServices/workspaces/quick-starts-ws-136680/experimentids/c93ea935-74b5-4eb9-9b42-e97468947844/cancel/AutoML_a2097c92-4271-44a9-aa13-020ff2552d48',\n",
       "  'ClientSdkVersion': '1.20.0.post1',\n",
       "  'snapshotId': '00000000-0000-0000-0000-000000000000',\n",
       "  'SetupRunId': 'AutoML_a2097c92-4271-44a9-aa13-020ff2552d48_setup',\n",
       "  'SetupRunContainerId': 'dcid.AutoML_a2097c92-4271-44a9-aa13-020ff2552d48_setup',\n",
       "  'FeaturizationRunJsonPath': 'featurizer_container.json',\n",
       "  'FeaturizationRunId': 'AutoML_a2097c92-4271-44a9-aa13-020ff2552d48_featurize',\n",
       "  'ProblemInfoJsonString': '{\"dataset_num_categorical\": 0, \"is_sparse\": true, \"subsampling\": false, \"dataset_classes\": 2, \"dataset_features\": 201, \"dataset_samples\": 19158, \"single_frequency_class_detected\": false}',\n",
       "  'ModelExplainRunId': 'AutoML_a2097c92-4271-44a9-aa13-020ff2552d48_ModelExplain'},\n",
       " 'inputDatasets': [{'dataset': {'id': 'f0acea14-bafe-4304-ad4a-be43f0214298'}, 'consumptionDetails': {'type': 'RunInput', 'inputName': 'training_data', 'mechanism': 'Direct'}}],\n",
       " 'outputDatasets': [],\n",
       " 'logFiles': {},\n",
       " 'submittedBy': 'ODL_User 136680'}"
      ]
     },
     "execution_count": 9,
     "metadata": {},
     "output_type": "execute_result"
    }
   ],
   "source": [
    "remote_run.wait_for_completion()\r\n"
   ]
  },
  {
   "cell_type": "markdown",
   "metadata": {},
   "source": [
    "## Best Model\n",
    "\n",
    "TODO: In the cell below, get the best model from the automl experiments and display all the properties of the model.\n",
    "\n"
   ]
  },
  {
   "cell_type": "code",
   "execution_count": 10,
   "metadata": {
    "collapsed": false,
    "gather": {
     "logged": 1611958175491
    },
    "jupyter": {
     "outputs_hidden": false,
     "source_hidden": false
    },
    "nteract": {
     "transient": {
      "deleting": false
     }
    }
   },
   "outputs": [],
   "source": [
    "best_run, fitted_model = remote_run.get_output()\r\n",
    "best_run_metrics = best_run.get_metrics()"
   ]
  },
  {
   "cell_type": "code",
   "execution_count": 11,
   "metadata": {
    "gather": {
     "logged": 1611958175654
    },
    "nteract": {
     "transient": {
      "deleting": false
     }
    }
   },
   "outputs": [
    {
     "data": {
      "text/html": [
       "<table style=\"width:100%\"><tr><th>Experiment</th><th>Id</th><th>Type</th><th>Status</th><th>Details Page</th><th>Docs Page</th></tr><tr><td>jobchangeautoml</td><td>AutoML_a2097c92-4271-44a9-aa13-020ff2552d48_36</td><td>azureml.scriptrun</td><td>Completed</td><td><a href=\"https://ml.azure.com/experiments/jobchangeautoml/runs/AutoML_a2097c92-4271-44a9-aa13-020ff2552d48_36?wsid=/subscriptions/d7f39349-a66b-446e-aba6-0053c2cf1c11/resourcegroups/aml-quickstarts-136680/workspaces/quick-starts-ws-136680\" target=\"_blank\" rel=\"noopener\">Link to Azure Machine Learning studio</a></td><td><a href=\"https://docs.microsoft.com/en-us/python/api/azureml-core/azureml.core.run.Run?view=azure-ml-py\" target=\"_blank\" rel=\"noopener\">Link to Documentation</a></td></tr></table>"
      ],
      "text/plain": [
       "Run(Experiment: jobchangeautoml,\n",
       "Id: AutoML_a2097c92-4271-44a9-aa13-020ff2552d48_36,\n",
       "Type: azureml.scriptrun,\n",
       "Status: Completed)"
      ]
     },
     "execution_count": 11,
     "metadata": {},
     "output_type": "execute_result"
    }
   ],
   "source": [
    "best_run"
   ]
  },
  {
   "cell_type": "code",
   "execution_count": 12,
   "metadata": {
    "gather": {
     "logged": 1611958175897
    },
    "nteract": {
     "transient": {
      "deleting": false
     }
    }
   },
   "outputs": [
    {
     "data": {
      "text/plain": [
       "PipelineWithYTransformations(Pipeline={'memory': None,\n",
       "                                       'steps': [('datatransformer',\n",
       "                                                  DataTransformer(enable_dnn=None,\n",
       "                                                                  enable_feature_sweeping=None,\n",
       "                                                                  feature_sweeping_config=None,\n",
       "                                                                  feature_sweeping_timeout=None,\n",
       "                                                                  featurization_config=None,\n",
       "                                                                  force_text_dnn=None,\n",
       "                                                                  is_cross_validation=None,\n",
       "                                                                  is_onnx_compatible=None,\n",
       "                                                                  logger=None,\n",
       "                                                                  observer=None,\n",
       "                                                                  task=None,\n",
       "                                                                  working_dir=None))...\n",
       "                                                                                                                                     min_impurity_decrease=0.0,\n",
       "                                                                                                                                     min_impurity_split=None,\n",
       "                                                                                                                                     min_samples_leaf=0.01,\n",
       "                                                                                                                                     min_samples_split=0.01,\n",
       "                                                                                                                                     min_weight_fraction_leaf=0.0,\n",
       "                                                                                                                                     n_estimators=25,\n",
       "                                                                                                                                     n_jobs=1,\n",
       "                                                                                                                                     oob_score=True,\n",
       "                                                                                                                                     random_state=None,\n",
       "                                                                                                                                     verbose=0,\n",
       "                                                                                                                                     warm_start=False))],\n",
       "                                                                                                      verbose=False))],\n",
       "                                                                                flatten_transform=None,\n",
       "                                                                                weights=[0.1,\n",
       "                                                                                         0.1,\n",
       "                                                                                         0.1,\n",
       "                                                                                         0.1,\n",
       "                                                                                         0.1,\n",
       "                                                                                         0.3,\n",
       "                                                                                         0.2]))],\n",
       "                                       'verbose': False},\n",
       "                             y_transformer={},\n",
       "                             y_transformer_name='LabelEncoder')"
      ]
     },
     "execution_count": 12,
     "metadata": {},
     "output_type": "execute_result"
    }
   ],
   "source": [
    "fitted_model"
   ]
  },
  {
   "cell_type": "code",
   "execution_count": 13,
   "metadata": {
    "gather": {
     "logged": 1611958236285
    },
    "nteract": {
     "transient": {
      "deleting": false
     }
    }
   },
   "outputs": [
    {
     "name": "stdout",
     "output_type": "stream",
     "text": [
      "Best Run Id:  AutoML_a2097c92-4271-44a9-aa13-020ff2552d48_36\n",
      "\n",
      " Accuracy: 0.799561932678637\n",
      "PreFittedSoftVotingClassifier(classification_labels=None,\n",
      "                              estimators=[('0',\n",
      "                                           Pipeline(memory=None,\n",
      "                                                    steps=[('maxabsscaler',\n",
      "                                                            MaxAbsScaler(copy=True)),\n",
      "                                                           ('lightgbmclassifier',\n",
      "                                                            LightGBMClassifier(boosting_type='gbdt',\n",
      "                                                                               class_weight=None,\n",
      "                                                                               colsample_bytree=1.0,\n",
      "                                                                               importance_type='split',\n",
      "                                                                               learning_rate=0.1,\n",
      "                                                                               max_depth=-1,\n",
      "                                                                               min_child_samples=20,\n",
      "                                                                               min_child_weight=0.001,\n",
      "                                                                               min_spl...\n",
      "                                                                                   max_depth=None,\n",
      "                                                                                   max_features='log2',\n",
      "                                                                                   max_leaf_nodes=None,\n",
      "                                                                                   max_samples=None,\n",
      "                                                                                   min_impurity_decrease=0.0,\n",
      "                                                                                   min_impurity_split=None,\n",
      "                                                                                   min_samples_leaf=0.01,\n",
      "                                                                                   min_samples_split=0.01,\n",
      "                                                                                   min_weight_fraction_leaf=0.0,\n",
      "                                                                                   n_estimators=25,\n",
      "                                                                                   n_jobs=1,\n",
      "                                                                                   oob_score=True,\n",
      "                                                                                   random_state=None,\n",
      "                                                                                   verbose=0,\n",
      "                                                                                   warm_start=False))],\n",
      "                                                    verbose=False))],\n",
      "                              flatten_transform=None,\n",
      "                              weights=[0.1, 0.1, 0.1, 0.1, 0.1, 0.3, 0.2])\n",
      "{'_aml_system_azureml.automlComponent': 'AutoML', '_aml_system_ComputeTargetStatus': '{\"AllocationState\":\"steady\",\"PreparingNodeCount\":0,\"RunningNodeCount\":2,\"CurrentNodeCount\":4}', 'ensembled_iterations': '[0, 1, 9, 31, 28, 5, 4]', 'ensembled_algorithms': \"['LightGBM', 'XGBoostClassifier', 'XGBoostClassifier', 'RandomForest', 'LightGBM', 'RandomForest', 'RandomForest']\", 'ensemble_weights': '[0.1, 0.1, 0.1, 0.1, 0.1, 0.3, 0.2]', 'best_individual_pipeline_score': '0.7938719347548757', 'best_individual_iteration': '0', '_aml_system_automl_is_child_run_end_telemetry_event_logged': 'True'}\n"
     ]
    }
   ],
   "source": [
    "print('Best Run Id: ', best_run.id)\r\n",
    "print('\\n Accuracy:', best_run_metrics['accuracy'])\r\n",
    "print(fitted_model._final_estimator)\r\n",
    "print(best_run.get_tags())"
   ]
  },
  {
   "cell_type": "code",
   "execution_count": 14,
   "metadata": {
    "collapsed": false,
    "gather": {
     "logged": 1611958251935
    },
    "jupyter": {
     "outputs_hidden": false,
     "source_hidden": false
    },
    "nteract": {
     "transient": {
      "deleting": false
     }
    }
   },
   "outputs": [
    {
     "data": {
      "text/plain": [
       "'AutoMLa2097c92436'"
      ]
     },
     "execution_count": 14,
     "metadata": {},
     "output_type": "execute_result"
    }
   ],
   "source": [
    "import os\r\n",
    "import joblib\r\n",
    "\r\n",
    "os.makedirs('./outputs', exist_ok=True)\r\n",
    "\r\n",
    "joblib.dump(fitted_model, filename='outputs/automl.joblib')\r\n",
    "\r\n",
    "model_name = best_run.properties['model_name']\r\n",
    "model_name"
   ]
  },
  {
   "cell_type": "code",
   "execution_count": 15,
   "metadata": {},
   "outputs": [],
   "source": [
    "env = best_run.get_environment()\n",
    "\n",
    "script_file = 'score.py'\n",
    "\n",
    "best_run.download_file('outputs/scoring_file_v_1_0_0.py', script_file)"
   ]
  },
  {
   "cell_type": "markdown",
   "metadata": {},
   "source": [
    "## Model Deployment\n",
    "\n",
    "Remember you have to deploy only one of the two models you trained.. Perform the steps in the rest of this notebook only if you wish to deploy this model.\n",
    "\n",
    "TODO: In the cell below, register the model, create an inference config and deploy the model as a web service."
   ]
  },
  {
   "cell_type": "code",
   "execution_count": 26,
   "metadata": {
    "collapsed": false,
    "gather": {
     "logged": 1611962726722
    },
    "jupyter": {
     "outputs_hidden": false,
     "source_hidden": false
    },
    "nteract": {
     "transient": {
      "deleting": false
     }
    }
   },
   "outputs": [],
   "source": [
    "#Register the fitted model\r\n",
    "model = remote_run.register_model(model_name = model_name, #AutoMLac80c775a36\r\n",
    "                                  description = 'AutoML model')"
   ]
  },
  {
   "cell_type": "code",
   "execution_count": 27,
   "metadata": {
    "nteract": {
     "transient": {
      "deleting": false
     }
    }
   },
   "outputs": [
    {
     "name": "stdout",
     "output_type": "stream",
     "text": [
      "automl-job-change\n"
     ]
    }
   ],
   "source": [
    "inference_config = InferenceConfig(entry_script = script_file, environment = env)\r\n",
    "\r\n",
    "aci_config = AciWebservice.deploy_configuration(cpu_cores = 1, memory_gb = 1)\r\n",
    "\r\n",
    "aci_service_name = 'automl-job-change'\r\n",
    "print(aci_service_name)"
   ]
  },
  {
   "cell_type": "code",
   "execution_count": 28,
   "metadata": {
    "nteract": {
     "transient": {
      "deleting": false
     }
    }
   },
   "outputs": [
    {
     "name": "stdout",
     "output_type": "stream",
     "text": [
      "Tips: You can try get_logs(): https://aka.ms/debugimage#dockerlog or local deployment: https://aka.ms/debugimage#debug-locally to debug if deployment takes longer than 10 minutes.\n",
      "Running.....................................................\n",
      "Succeeded\n",
      "ACI service creation operation finished, operation \"Succeeded\"\n",
      "State: Healthy\n",
      "Scoring URI: http://3b767505-421c-4626-be5a-bed072230b63.southcentralus.azurecontainer.io/score\n"
     ]
    }
   ],
   "source": [
    "service = Model.deploy(ws, aci_service_name, [model], inference_config, aci_config)\r\n",
    "service.wait_for_deployment(True)\r\n",
    "print(\"State: \" + service.state)\r\n",
    "print(\"Scoring URI: \" + service.scoring_uri)"
   ]
  },
  {
   "cell_type": "code",
   "execution_count": 31,
   "metadata": {},
   "outputs": [
    {
     "name": "stdout",
     "output_type": "stream",
     "text": [
      "{\"result\": [0.0, 0.0]}\n"
     ]
    }
   ],
   "source": [
    "%run endpoint.py"
   ]
  },
  {
   "cell_type": "markdown",
   "metadata": {
    "gather": {
     "logged": 1598431657736
    },
    "jupyter": {
     "outputs_hidden": false,
     "source_hidden": false
    },
    "nteract": {
     "transient": {
      "deleting": false
     }
    }
   },
   "source": [
    "TODO: In the cell below, send a request to the web service you deployed to test it."
   ]
  },
  {
   "cell_type": "code",
   "execution_count": 32,
   "metadata": {
    "nteract": {
     "transient": {
      "deleting": false
     }
    }
   },
   "outputs": [
    {
     "data": {
      "text/html": [
       "<div>\n",
       "<style scoped>\n",
       "    .dataframe tbody tr th:only-of-type {\n",
       "        vertical-align: middle;\n",
       "    }\n",
       "\n",
       "    .dataframe tbody tr th {\n",
       "        vertical-align: top;\n",
       "    }\n",
       "\n",
       "    .dataframe thead th {\n",
       "        text-align: right;\n",
       "    }\n",
       "</style>\n",
       "<table border=\"1\" class=\"dataframe\">\n",
       "  <thead>\n",
       "    <tr style=\"text-align: right;\">\n",
       "      <th></th>\n",
       "      <th>city</th>\n",
       "      <th>city_development_index</th>\n",
       "      <th>gender</th>\n",
       "      <th>relevent_experience</th>\n",
       "      <th>enrolled_university</th>\n",
       "      <th>education_level</th>\n",
       "      <th>major_discipline</th>\n",
       "      <th>experience</th>\n",
       "      <th>company_size</th>\n",
       "      <th>company_type</th>\n",
       "      <th>last_new_job</th>\n",
       "      <th>training_hours</th>\n",
       "      <th>target</th>\n",
       "    </tr>\n",
       "  </thead>\n",
       "  <tbody>\n",
       "    <tr>\n",
       "      <th>0</th>\n",
       "      <td>city_103</td>\n",
       "      <td>0.92</td>\n",
       "      <td>Male</td>\n",
       "      <td>Has relevent experience</td>\n",
       "      <td>no_enrollment</td>\n",
       "      <td>Graduate</td>\n",
       "      <td>STEM</td>\n",
       "      <td>&gt;20</td>\n",
       "      <td>None</td>\n",
       "      <td>None</td>\n",
       "      <td>1</td>\n",
       "      <td>36</td>\n",
       "      <td>1.00</td>\n",
       "    </tr>\n",
       "    <tr>\n",
       "      <th>1</th>\n",
       "      <td>city_40</td>\n",
       "      <td>0.78</td>\n",
       "      <td>Male</td>\n",
       "      <td>No relevent experience</td>\n",
       "      <td>no_enrollment</td>\n",
       "      <td>Graduate</td>\n",
       "      <td>STEM</td>\n",
       "      <td>15</td>\n",
       "      <td>50-99</td>\n",
       "      <td>Pvt Ltd</td>\n",
       "      <td>&gt;4</td>\n",
       "      <td>47</td>\n",
       "      <td>0.00</td>\n",
       "    </tr>\n",
       "    <tr>\n",
       "      <th>2</th>\n",
       "      <td>city_21</td>\n",
       "      <td>0.62</td>\n",
       "      <td>None</td>\n",
       "      <td>No relevent experience</td>\n",
       "      <td>Full time course</td>\n",
       "      <td>Graduate</td>\n",
       "      <td>STEM</td>\n",
       "      <td>5</td>\n",
       "      <td>None</td>\n",
       "      <td>None</td>\n",
       "      <td>never</td>\n",
       "      <td>83</td>\n",
       "      <td>0.00</td>\n",
       "    </tr>\n",
       "    <tr>\n",
       "      <th>3</th>\n",
       "      <td>city_115</td>\n",
       "      <td>0.79</td>\n",
       "      <td>None</td>\n",
       "      <td>No relevent experience</td>\n",
       "      <td>None</td>\n",
       "      <td>Graduate</td>\n",
       "      <td>Business Degree</td>\n",
       "      <td>&lt;1</td>\n",
       "      <td>None</td>\n",
       "      <td>Pvt Ltd</td>\n",
       "      <td>never</td>\n",
       "      <td>52</td>\n",
       "      <td>1.00</td>\n",
       "    </tr>\n",
       "    <tr>\n",
       "      <th>4</th>\n",
       "      <td>city_162</td>\n",
       "      <td>0.77</td>\n",
       "      <td>Male</td>\n",
       "      <td>Has relevent experience</td>\n",
       "      <td>no_enrollment</td>\n",
       "      <td>Masters</td>\n",
       "      <td>STEM</td>\n",
       "      <td>&gt;20</td>\n",
       "      <td>50-99</td>\n",
       "      <td>Funded Startup</td>\n",
       "      <td>4</td>\n",
       "      <td>8</td>\n",
       "      <td>0.00</td>\n",
       "    </tr>\n",
       "  </tbody>\n",
       "</table>\n",
       "</div>"
      ],
      "text/plain": [
       "       city  city_development_index gender      relevent_experience  \\\n",
       "0  city_103                    0.92   Male  Has relevent experience   \n",
       "1   city_40                    0.78   Male   No relevent experience   \n",
       "2   city_21                    0.62   None   No relevent experience   \n",
       "3  city_115                    0.79   None   No relevent experience   \n",
       "4  city_162                    0.77   Male  Has relevent experience   \n",
       "\n",
       "  enrolled_university education_level major_discipline experience  \\\n",
       "0       no_enrollment        Graduate             STEM        >20   \n",
       "1       no_enrollment        Graduate             STEM         15   \n",
       "2    Full time course        Graduate             STEM          5   \n",
       "3                None        Graduate  Business Degree         <1   \n",
       "4       no_enrollment         Masters             STEM        >20   \n",
       "\n",
       "  company_size    company_type last_new_job  training_hours  target  \n",
       "0         None            None            1              36    1.00  \n",
       "1        50-99         Pvt Ltd           >4              47    0.00  \n",
       "2         None            None        never              83    0.00  \n",
       "3         None         Pvt Ltd        never              52    1.00  \n",
       "4        50-99  Funded Startup            4               8    0.00  "
      ]
     },
     "execution_count": 32,
     "metadata": {},
     "output_type": "execute_result"
    }
   ],
   "source": [
    "dataset.to_pandas_dataframe().head()"
   ]
  },
  {
   "cell_type": "code",
   "execution_count": 33,
   "metadata": {},
   "outputs": [
    {
     "name": "stdout",
     "output_type": "stream",
     "text": [
      "{\"data\": [{\"city\": \"city_100\", \"city_development_index\": 0.887, \"gender\": \"Male\", \"relevent_experience\": \"Has relevent experience\", \"enrolled_university\": \"no_enrollment\", \"education_level\": \"Graduate\", \"major_discipline\": \"STEM\", \"experience\": \"15\", \"company_size\": \"<10\", \"company_type\": \"Pvt Ltd\", \"last_new_job\": \">4\", \"training_hours\": 39}, {\"city\": \"city_160\", \"city_development_index\": 0.92, \"gender\": \"Male\", \"relevent_experience\": \"Has relevent experience\", \"enrolled_university\": \"no_enrollment\", \"education_level\": \"Graduate\", \"major_discipline\": \"STEM\", \"experience\": \"6\", \"company_size\": \"50-99\", \"company_type\": \"Pvt Ltd\", \"last_new_job\": \"1\", \"training_hours\": 164}, {\"city\": \"city_103\", \"city_development_index\": 0.92, \"gender\": \"Male\", \"relevent_experience\": \"No relevent experience\", \"enrolled_university\": \"Part time course\", \"education_level\": \"Phd\", \"major_discipline\": \"STEM\", \"experience\": \"3\", \"company_size\": \"1000-4999\", \"company_type\": \"Public Sector\", \"last_new_job\": \"2\", \"training_hours\": 14}]}\n"
     ]
    }
   ],
   "source": [
    "data_sample = dataset.to_pandas_dataframe().sample(3)\n",
    "y_true = data_sample.pop('target')\n",
    "sample_json = json.dumps({'data':data_sample.to_dict(orient='records')})\n",
    "print(sample_json)"
   ]
  },
  {
   "cell_type": "code",
   "execution_count": 34,
   "metadata": {
    "nteract": {
     "transient": {
      "deleting": false
     }
    }
   },
   "outputs": [
    {
     "name": "stdout",
     "output_type": "stream",
     "text": [
      "Prediction:  {\"result\": [0.0, 0.0, 0.0]}\n",
      "True Values:  [0. 0. 0.]\n"
     ]
    }
   ],
   "source": [
    "output = service.run(sample_json)\r\n",
    "print('Prediction: ', output)\r\n",
    "print('True Values: ', y_true.values)"
   ]
  },
  {
   "cell_type": "code",
   "execution_count": 35,
   "metadata": {
    "nteract": {
     "transient": {
      "deleting": false
     }
    }
   },
   "outputs": [
    {
     "data": {
      "text/plain": [
       "'2021-01-31T05:02:39,472695723+00:00 - iot-server/run \\n2021-01-31T05:02:39,473721334+00:00 - rsyslog/run \\n2021-01-31T05:02:39,474232039+00:00 - nginx/run \\n2021-01-31T05:02:39,474032337+00:00 - gunicorn/run \\n/usr/sbin/nginx: /azureml-envs/azureml_265db83b0c6014ce472c5de2f0b97e04/lib/libcrypto.so.1.0.0: no version information available (required by /usr/sbin/nginx)\\n/usr/sbin/nginx: /azureml-envs/azureml_265db83b0c6014ce472c5de2f0b97e04/lib/libcrypto.so.1.0.0: no version information available (required by /usr/sbin/nginx)\\n/usr/sbin/nginx: /azureml-envs/azureml_265db83b0c6014ce472c5de2f0b97e04/lib/libssl.so.1.0.0: no version information available (required by /usr/sbin/nginx)\\n/usr/sbin/nginx: /azureml-envs/azureml_265db83b0c6014ce472c5de2f0b97e04/lib/libssl.so.1.0.0: no version information available (required by /usr/sbin/nginx)\\n/usr/sbin/nginx: /azureml-envs/azureml_265db83b0c6014ce472c5de2f0b97e04/lib/libssl.so.1.0.0: no version information available (required by /usr/sbin/nginx)\\nrsyslogd: /azureml-envs/azureml_265db83b0c6014ce472c5de2f0b97e04/lib/libuuid.so.1: no version information available (required by rsyslogd)\\nEdgeHubConnectionString and IOTEDGE_IOTHUBHOSTNAME are not set. Exiting...\\n2021-01-31T05:02:39,616732788+00:00 - iot-server/finish 1 0\\n2021-01-31T05:02:39,618223204+00:00 - Exit code 1 is normal. Not restarting iot-server.\\nStarting gunicorn 19.9.0\\nListening at: http://127.0.0.1:31311 (13)\\nUsing worker: sync\\nworker timeout is set to 300\\nBooting worker with pid: 42\\nSPARK_HOME not set. Skipping PySpark Initialization.\\nGenerating new fontManager, this may take some time...\\nInitializing logger\\n2021-01-31 05:02:40,930 | root | INFO | Starting up app insights client\\n2021-01-31 05:02:40,930 | root | INFO | Starting up request id generator\\n2021-01-31 05:02:40,930 | root | INFO | Starting up app insight hooks\\n2021-01-31 05:02:40,930 | root | INFO | Invoking user\\'s init function\\n2021-01-31 05:02:43,270 | azureml.core | WARNING | Failure while loading azureml_run_type_providers. Failed to load entrypoint automl = azureml.train.automl.run:AutoMLRun._from_run_dto with exception cannot import name \\'RunType\\'.\\nFailure while loading azureml_run_type_providers. Failed to load entrypoint automl = azureml.train.automl.run:AutoMLRun._from_run_dto with exception cannot import name \\'RunType\\'.\\n2021-01-31 05:02:43,513 | root | INFO | Users\\'s init has completed successfully\\n2021-01-31 05:02:43,519 | root | INFO | Skipping middleware: dbg_model_info as it\\'s not enabled.\\n2021-01-31 05:02:43,519 | root | INFO | Skipping middleware: dbg_resource_usage as it\\'s not enabled.\\n2021-01-31 05:02:43,521 | root | INFO | Scoring timeout is found from os.environ: 60000 ms\\n2021-01-31 05:03:03,095 | root | INFO | 200\\n127.0.0.1 - - [31/Jan/2021:05:03:03 +0000] \"GET /swagger.json HTTP/1.0\" 200 2846 \"-\" \"Go-http-client/1.1\"\\n2021-01-31 05:03:06,683 | root | INFO | 200\\n127.0.0.1 - - [31/Jan/2021:05:03:06 +0000] \"GET /swagger.json HTTP/1.0\" 200 2846 \"-\" \"Go-http-client/1.1\"\\n2021-01-31 05:06:56,684 | root | INFO | Validation Request Content-Type\\n2021-01-31 05:06:56,685 | root | INFO | Scoring Timer is set to 60.0 seconds\\n2021-01-31 05:06:56,694 | root | ERROR | Encountered Exception: Traceback (most recent call last):\\n  File \"/var/azureml-server/synchronous/routes.py\", line 64, in run_scoring\\n    response = invoke_user_with_timer(service_input, request_headers)\\n  File \"/var/azureml-server/synchronous/routes.py\", line 97, in invoke_user_with_timer\\n    result = user_main.run(**params)\\n  File \"/azureml-envs/azureml_265db83b0c6014ce472c5de2f0b97e04/lib/python3.6/site-packages/wrapt/wrappers.py\", line 564, in __call__\\n    args, kwargs)\\n  File \"/azureml-envs/azureml_265db83b0c6014ce472c5de2f0b97e04/lib/python3.6/site-packages/inference_schema/schema_decorators.py\", line 57, in decorator_input\\n    kwargs[param_name] = _deserialize_input_argument(kwargs[param_name], param_type, param_name)\\n  File \"/azureml-envs/azureml_265db83b0c6014ce472c5de2f0b97e04/lib/python3.6/site-packages/inference_schema/schema_decorators.py\", line 285, in _deserialize_input_argument\\n    input_data = param_type.deserialize_input(input_data)\\n  File \"/azureml-envs/azureml_265db83b0c6014ce472c5de2f0b97e04/lib/python3.6/site-packages/inference_schema/parameter_types/pandas_parameter_type.py\", line 79, in deserialize_input\\n    data_frame.shape[dim], dim, expected_shape[dim]))\\nValueError: Invalid input data frame: data frame has size 13 on dimension #1, while expected value is 12\\n\\nDuring handling of the above exception, another exception occurred:\\n\\nTraceback (most recent call last):\\n  File \"/azureml-envs/azureml_265db83b0c6014ce472c5de2f0b97e04/lib/python3.6/site-packages/flask/app.py\", line 1832, in full_dispatch_request\\n    rv = self.dispatch_request()\\n  File \"/azureml-envs/azureml_265db83b0c6014ce472c5de2f0b97e04/lib/python3.6/site-packages/flask/app.py\", line 1818, in dispatch_request\\n    return self.view_functions[rule.endpoint](**req.view_args)\\n  File \"/var/azureml-server/synchronous/routes.py\", line 43, in score_realtime\\n    return run_scoring(service_input, request.headers, request.environ.get(\\'REQUEST_ID\\', \\'00000000-0000-0000-0000-000000000000\\'))\\n  File \"/var/azureml-server/synchronous/routes.py\", line 77, in run_scoring\\n    raise RunFunctionException(str(exc))\\nrun_function_exception.RunFunctionException\\n\\n2021-01-31 05:06:56,695 | root | INFO | 500\\n127.0.0.1 - - [31/Jan/2021:05:06:56 +0000] \"POST /score HTTP/1.0\" 500 92 \"-\" \"python-requests/2.25.1\"\\n2021-01-31 05:07:11,404 | root | INFO | Validation Request Content-Type\\n2021-01-31 05:07:11,404 | root | INFO | Scoring Timer is set to 60.0 seconds\\n2021-01-31 05:07:11,519 | root | INFO | 200\\n127.0.0.1 - - [31/Jan/2021:05:07:11 +0000] \"POST /score HTTP/1.0\" 200 26 \"-\" \"python-requests/2.25.1\"\\n2021-01-31 05:07:21,491 | root | INFO | Validation Request Content-Type\\n2021-01-31 05:07:21,492 | root | INFO | Scoring Timer is set to 60.0 seconds\\n2021-01-31 05:07:21,618 | root | INFO | 200\\n127.0.0.1 - - [31/Jan/2021:05:07:21 +0000] \"POST /score HTTP/1.0\" 200 31 \"-\" \"python-requests/2.25.1\"\\n'"
      ]
     },
     "execution_count": 35,
     "metadata": {},
     "output_type": "execute_result"
    }
   ],
   "source": [
    "service.get_logs()"
   ]
  },
  {
   "cell_type": "markdown",
   "metadata": {
    "gather": {
     "logged": 1598432765711
    },
    "jupyter": {
     "outputs_hidden": false,
     "source_hidden": false
    },
    "nteract": {
     "transient": {
      "deleting": false
     }
    }
   },
   "source": [
    "TODO: In the cell below, print the logs of the web service and delete the service"
   ]
  },
  {
   "cell_type": "code",
   "execution_count": 36,
   "metadata": {
    "nteract": {
     "transient": {
      "deleting": false
     }
    }
   },
   "outputs": [],
   "source": [
    "service.delete()"
   ]
  }
 ],
 "metadata": {
  "kernel_info": {
   "name": "python3"
  },
  "kernelspec": {
   "display_name": "Python 3",
   "language": "python",
   "name": "python3"
  },
  "language_info": {
   "codemirror_mode": {
    "name": "ipython",
    "version": 3
   },
   "file_extension": ".py",
   "mimetype": "text/x-python",
   "name": "python",
   "nbconvert_exporter": "python",
   "pygments_lexer": "ipython3",
   "version": "3.6.9"
  },
  "nteract": {
   "version": "nteract-front-end@1.0.0"
  }
 },
 "nbformat": 4,
 "nbformat_minor": 4
}
