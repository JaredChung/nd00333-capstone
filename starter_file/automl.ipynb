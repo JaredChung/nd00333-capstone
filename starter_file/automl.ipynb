{
 "cells": [
  {
   "cell_type": "markdown",
   "metadata": {},
   "source": [
    "# Automated ML\n",
    "\n",
    "TODO: Import Dependencies. In the cell below, import all the dependencies that you will need to complete the project."
   ]
  },
  {
   "cell_type": "code",
   "execution_count": 1,
   "metadata": {
    "collapsed": false,
    "gather": {
     "logged": 1611955113890
    },
    "jupyter": {
     "outputs_hidden": false,
     "source_hidden": false
    },
    "nteract": {
     "transient": {
      "deleting": false
     }
    }
   },
   "outputs": [],
   "source": [
    "from azureml.core import Dataset, Workspace, Experiment\r\n",
    "from azureml.core.compute import ComputeTarget, AmlCompute\r\n",
    "from azureml.core.compute_target import ComputeTargetException\r\n",
    "from azureml.widgets import RunDetails\r\n",
    "from azureml.train.automl import AutoMLConfig\r\n",
    "\r\n",
    "from azureml.core.model import InferenceConfig\r\n",
    "from azureml.core.webservice import AciWebservice, Webservice\r\n",
    "from azureml.core.model import Model\r\n",
    "from azureml.core.environment import Environment"
   ]
  },
  {
   "cell_type": "markdown",
   "metadata": {},
   "source": [
    "## Dataset\n",
    "\n",
    "### Overview\n",
    "TODO: In this markdown cell, give an overview of the dataset you are using. Also mention the task you will be performing.\n",
    "\n",
    "\n",
    "TODO: Get data. In the cell below, write code to access the data you will be using in this project. Remember that the dataset needs to be external."
   ]
  },
  {
   "cell_type": "code",
   "execution_count": 2,
   "metadata": {
    "collapsed": false,
    "gather": {
     "logged": 1611954915167
    },
    "jupyter": {
     "outputs_hidden": false,
     "source_hidden": false
    },
    "nteract": {
     "transient": {
      "deleting": false
     }
    }
   },
   "outputs": [],
   "source": [
    "ws = Workspace.from_config()\n",
    "\n",
    "# choose a name for experiment\n",
    "experiment_name = 'jobchangeautoml'\n",
    "\n",
    "experiment=Experiment(ws, experiment_name)"
   ]
  },
  {
   "cell_type": "code",
   "execution_count": 3,
   "metadata": {
    "gather": {
     "logged": 1611955181134
    },
    "nteract": {
     "transient": {
      "deleting": false
     }
    }
   },
   "outputs": [
    {
     "data": {
      "text/plain": [
       "{\n",
       "  \"source\": [\n",
       "    \"('workspaceblobstore', 'UI/01-30-2021_091548_UTC/aug_train.csv')\"\n",
       "  ],\n",
       "  \"definition\": [\n",
       "    \"GetDatastoreFiles\",\n",
       "    \"ParseDelimited\",\n",
       "    \"DropColumns\",\n",
       "    \"SetColumnTypes\"\n",
       "  ],\n",
       "  \"registration\": {\n",
       "    \"id\": \"14f1a7af-68e9-4999-bbb8-a2a9271d9ddb\",\n",
       "    \"name\": \"traindata\",\n",
       "    \"version\": 1,\n",
       "    \"workspace\": \"Workspace.create(name='quick-starts-ws-136651', subscription_id='d4ad7261-832d-46b2-b093-22156001df5b', resource_group='aml-quickstarts-136651')\"\n",
       "  }\n",
       "}"
      ]
     },
     "execution_count": 3,
     "metadata": {},
     "output_type": "execute_result"
    }
   ],
   "source": [
    "dataset = Dataset.get_by_name(ws, 'traindata')\n",
    "#dataset = dataset.to_pandas_dataframe().drop('enrollee_id',axis=1)\n",
    "dataset"
   ]
  },
  {
   "cell_type": "code",
   "execution_count": 4,
   "metadata": {
    "gather": {
     "logged": 1611955266774
    },
    "nteract": {
     "transient": {
      "deleting": false
     }
    }
   },
   "outputs": [
    {
     "name": "stdout",
     "output_type": "stream",
     "text": [
      "Creating\n",
      "Succeeded\n",
      "AmlCompute wait for completion finished\n",
      "\n",
      "Minimum number of nodes requested have been provisioned\n"
     ]
    }
   ],
   "source": [
    "cpu_cluster_name = \"cpu-cluster\"\r\n",
    "\r\n",
    "# Verify that cluster does not exist already\r\n",
    "try:\r\n",
    "    compute_target = ComputeTarget(workspace=ws, name=cpu_cluster_name)\r\n",
    "    print('Found existing cluster, use it.')\r\n",
    "except ComputeTargetException:\r\n",
    "    compute_config = AmlCompute.provisioning_configuration(vm_size='STANDARD_D12_V2',\r\n",
    "                                                           max_nodes=5)\r\n",
    "    compute_target = ComputeTarget.create(ws, cpu_cluster_name, compute_config)\r\n",
    "\r\n",
    "compute_target.wait_for_completion(show_output=True)"
   ]
  },
  {
   "cell_type": "markdown",
   "metadata": {},
   "source": [
    "## AutoML Configuration\n",
    "\n",
    "TODO: Explain why you chose the automl settings and cofiguration you used below."
   ]
  },
  {
   "cell_type": "code",
   "execution_count": 5,
   "metadata": {
    "collapsed": false,
    "gather": {
     "logged": 1611955319895
    },
    "jupyter": {
     "outputs_hidden": false,
     "source_hidden": false
    },
    "nteract": {
     "transient": {
      "deleting": false
     }
    }
   },
   "outputs": [],
   "source": [
    "# TODO: Put your automl settings here\n",
    "automl_settings = {\n",
    "    \"experiment_timeout_minutes\": 15,\n",
    "    \"max_concurrent_iterations\": 4,\n",
    "    \"primary_metric\" : 'accuracy',\n",
    "    \"n_cross_validations\": 5\n",
    "}\n",
    "# TODO: Put your automl config here\n",
    "automl_config = AutoMLConfig(compute_target=compute_target,\n",
    "                             task = \"classification\",\n",
    "                             training_data=dataset,\n",
    "                             label_column_name=\"target\", \n",
    "                             enable_early_stopping= True,\n",
    "                             featurization= 'auto',\n",
    "                             **automl_settings\n",
    "                            )"
   ]
  },
  {
   "cell_type": "code",
   "execution_count": 6,
   "metadata": {
    "collapsed": false,
    "gather": {
     "logged": 1611957100649
    },
    "jupyter": {
     "outputs_hidden": false,
     "source_hidden": false
    },
    "nteract": {
     "transient": {
      "deleting": false
     }
    }
   },
   "outputs": [
    {
     "name": "stdout",
     "output_type": "stream",
     "text": [
      "Running on remote.\n",
      "No run_configuration provided, running on cpu-cluster with default configuration\n",
      "Running on remote compute: cpu-cluster\n",
      "Parent Run ID: AutoML_5165bbd4-851f-4b10-81e0-9a9dbccbe98d\n",
      "\n",
      "Current status: FeaturesGeneration. Generating features for the dataset.\n",
      "Current status: DatasetCrossValidationSplit. Generating individually featurized CV splits.\n",
      "Current status: ModelSelection. Beginning model selection.\n",
      "\n",
      "****************************************************************************************************\n",
      "DATA GUARDRAILS: \n",
      "\n",
      "TYPE:         Class balancing detection\n",
      "STATUS:       PASSED\n",
      "DESCRIPTION:  Your inputs were analyzed, and all classes are balanced in your training data.\n",
      "              Learn more about imbalanced data: https://aka.ms/AutomatedMLImbalancedData\n",
      "\n",
      "****************************************************************************************************\n",
      "\n",
      "TYPE:         Missing feature values imputation\n",
      "STATUS:       DONE\n",
      "DESCRIPTION:  If the missing values are expected, let the run complete. Otherwise cancel the current run and use a script to customize the handling of missing feature values that may be more appropriate based on the data type and business requirement.\n",
      "              Learn more about missing value imputation: https://aka.ms/AutomatedMLFeaturization\n",
      "DETAILS:      \n",
      "+---------------------------------+---------------------------------+\n",
      "|Column name                      |Missing value count              |\n",
      "+=================================+=================================+\n",
      "|gender                           |4508                             |\n",
      "|enrolled_university              |386                              |\n",
      "|education_level                  |460                              |\n",
      "|major_discipline                 |2813                             |\n",
      "|experience                       |65                               |\n",
      "|company_size                     |5938                             |\n",
      "|company_type                     |6140                             |\n",
      "|last_new_job                     |423                              |\n",
      "+---------------------------------+---------------------------------+\n",
      "\n",
      "****************************************************************************************************\n",
      "\n",
      "TYPE:         High cardinality feature detection\n",
      "STATUS:       PASSED\n",
      "DESCRIPTION:  Your inputs were analyzed, and no high cardinality features were detected.\n",
      "              Learn more about high cardinality feature handling: https://aka.ms/AutomatedMLFeaturization\n",
      "\n",
      "****************************************************************************************************\n",
      "\n",
      "****************************************************************************************************\n",
      "ITERATION: The iteration being evaluated.\n",
      "PIPELINE: A summary description of the pipeline being evaluated.\n",
      "DURATION: Time taken for the current iteration.\n",
      "METRIC: The result of computing score on the fitted pipeline.\n",
      "BEST: The best observed score thus far.\n",
      "****************************************************************************************************\n",
      "\n",
      " ITERATION   PIPELINE                                       DURATION      METRIC      BEST\n",
      "         2   MaxAbsScaler RandomForest                      0:00:54       0.7669    0.7669\n",
      "         0   MaxAbsScaler LightGBM                          0:01:08       0.7939    0.7939\n",
      "         3   MaxAbsScaler RandomForest                      0:01:22       0.7604    0.7939\n",
      "         5   MaxAbsScaler RandomForest                      0:00:52       0.7050    0.7939\n",
      "         1   MaxAbsScaler XGBoostClassifier                 0:02:30       0.7935    0.7939\n",
      "         4   MaxAbsScaler RandomForest                      0:02:28       0.7487    0.7939\n",
      "         7   SparseNormalizer XGBoostClassifier             0:01:07       0.7888    0.7939\n",
      "         9   SparseNormalizer XGBoostClassifier             0:01:01       0.7920    0.7939\n",
      "         8   SparseNormalizer XGBoostClassifier             0:01:20       0.7895    0.7939\n",
      "         6   SparseNormalizer XGBoostClassifier             0:02:40       0.7903    0.7939\n",
      "        11   StandardScalerWrapper RandomForest             0:00:54       0.7792    0.7939\n",
      "        12   SparseNormalizer XGBoostClassifier             0:00:49       0.7747    0.7939\n",
      "        10   MaxAbsScaler RandomForest                      0:01:30       0.7713    0.7939\n",
      "        13   MaxAbsScaler RandomForest                      0:00:56       0.7823    0.7939\n",
      "        14   MaxAbsScaler LogisticRegression                0:00:58       0.7810    0.7939\n",
      "        15   StandardScalerWrapper LightGBM                 0:00:53       0.7651    0.7939\n",
      "        16   MaxAbsScaler LightGBM                          0:00:46       0.7744    0.7939\n",
      "        18   SparseNormalizer LightGBM                      0:00:49       0.7764    0.7939\n",
      "        17   MaxAbsScaler LogisticRegression                0:01:24       0.7802    0.7939\n",
      "        19   MaxAbsScaler LightGBM                          0:00:49       0.7923    0.7939\n",
      "        20   SparseNormalizer XGBoostClassifier             0:01:01       0.7936    0.7939\n",
      "        21   SparseNormalizer XGBoostClassifier             0:01:12       0.7892    0.7939\n",
      "        22   SparseNormalizer XGBoostClassifier             0:01:04       0.7875    0.7939\n",
      "        23   SparseNormalizer RandomForest                  0:01:05       0.7507    0.7939\n",
      "        24   MaxAbsScaler LightGBM                          0:00:54       0.7507    0.7939\n",
      "        25   StandardScalerWrapper LightGBM                 0:00:51       0.7507    0.7939\n",
      "        27   MaxAbsScaler LightGBM                          0:00:50       0.7524    0.7939\n",
      "        28   StandardScalerWrapper LightGBM                 0:00:51       0.7697    0.7939\n",
      "        26   StandardScalerWrapper LightGBM                 0:01:16       0.7855    0.7939\n",
      "        29   StandardScalerWrapper LightGBM                 0:00:52       0.7962    0.7962\n",
      "        30   SparseNormalizer LightGBM                      0:00:54       0.7507    0.7962\n",
      "        31   SparseNormalizer XGBoostClassifier             0:01:01       0.7942    0.7962\n",
      "        32   StandardScalerWrapper LightGBM                 0:00:55       0.7954    0.7962\n",
      "        33   SparseNormalizer XGBoostClassifier             0:00:57       0.7914    0.7962\n",
      "        34   StandardScalerWrapper LightGBM                 0:00:56       0.7945    0.7962\n",
      "        35   MaxAbsScaler LightGBM                          0:00:52       0.7507    0.7962\n",
      "        36   StandardScalerWrapper XGBoostClassifier        0:00:57       0.7763    0.7962\n",
      "        37   MaxAbsScaler LightGBM                          0:00:29          nan    0.7962\n",
      "ERROR: {\n",
      "    \"additional_properties\": {},\n",
      "    \"error\": {\n",
      "        \"additional_properties\": {\n",
      "            \"debugInfo\": null\n",
      "        },\n",
      "        \"code\": \"UserError\",\n",
      "        \"severity\": null,\n",
      "        \"message\": \"Experiment timeout reached, please consider increasing your experiment timeout.\",\n",
      "        \"message_format\": \"Experiment timeout reached, please consider increasing your experiment timeout.\",\n",
      "        \"message_parameters\": {},\n",
      "        \"reference_code\": null,\n",
      "        \"details_uri\": null,\n",
      "        \"target\": null,\n",
      "        \"details\": [],\n",
      "        \"inner_error\": {\n",
      "            \"additional_properties\": {},\n",
      "            \"code\": \"ResourceExhausted\",\n",
      "            \"inner_error\": {\n",
      "                \"additional_properties\": {},\n",
      "                \"code\": \"Timeout\",\n",
      "                \"inner_error\": {\n",
      "                    \"additional_properties\": {},\n",
      "                    \"code\": \"ExperimentTimeoutForIterations\",\n",
      "                    \"inner_error\": null\n",
      "                }\n",
      "            }\n",
      "        }\n",
      "    },\n",
      "    \"correlation\": null,\n",
      "    \"environment\": null,\n",
      "    \"location\": null,\n",
      "    \"time\": {},\n",
      "    \"component_name\": null\n",
      "}\n",
      "        38                                                  0:00:19          nan    0.7962\n",
      "ERROR: {\n",
      "    \"additional_properties\": {},\n",
      "    \"error\": {\n",
      "        \"additional_properties\": {\n",
      "            \"debugInfo\": null\n",
      "        },\n",
      "        \"code\": \"UserError\",\n",
      "        \"severity\": null,\n",
      "        \"message\": \"Experiment timeout reached, please consider increasing your experiment timeout.\",\n",
      "        \"message_format\": \"Experiment timeout reached, please consider increasing your experiment timeout.\",\n",
      "        \"message_parameters\": {},\n",
      "        \"reference_code\": null,\n",
      "        \"details_uri\": null,\n",
      "        \"target\": null,\n",
      "        \"details\": [],\n",
      "        \"inner_error\": {\n",
      "            \"additional_properties\": {},\n",
      "            \"code\": \"ResourceExhausted\",\n",
      "            \"inner_error\": {\n",
      "                \"additional_properties\": {},\n",
      "                \"code\": \"Timeout\",\n",
      "                \"inner_error\": {\n",
      "                    \"additional_properties\": {},\n",
      "                    \"code\": \"ExperimentTimeoutForIterations\",\n",
      "                    \"inner_error\": null\n",
      "                }\n",
      "            }\n",
      "        }\n",
      "    },\n",
      "    \"correlation\": null,\n",
      "    \"environment\": null,\n",
      "    \"location\": null,\n",
      "    \"time\": {},\n",
      "    \"component_name\": null\n",
      "}\n",
      "        39                                                  0:00:09          nan    0.7962\n",
      "ERROR: {\n",
      "    \"additional_properties\": {},\n",
      "    \"error\": {\n",
      "        \"additional_properties\": {\n",
      "            \"debugInfo\": null\n",
      "        },\n",
      "        \"code\": \"UserError\",\n",
      "        \"severity\": null,\n",
      "        \"message\": \"Experiment timeout reached, please consider increasing your experiment timeout.\",\n",
      "        \"message_format\": \"Experiment timeout reached, please consider increasing your experiment timeout.\",\n",
      "        \"message_parameters\": {},\n",
      "        \"reference_code\": null,\n",
      "        \"details_uri\": null,\n",
      "        \"target\": null,\n",
      "        \"details\": [],\n",
      "        \"inner_error\": {\n",
      "            \"additional_properties\": {},\n",
      "            \"code\": \"ResourceExhausted\",\n",
      "            \"inner_error\": {\n",
      "                \"additional_properties\": {},\n",
      "                \"code\": \"Timeout\",\n",
      "                \"inner_error\": {\n",
      "                    \"additional_properties\": {},\n",
      "                    \"code\": \"ExperimentTimeoutForIterations\",\n",
      "                    \"inner_error\": null\n",
      "                }\n",
      "            }\n",
      "        }\n",
      "    },\n",
      "    \"correlation\": null,\n",
      "    \"environment\": null,\n",
      "    \"location\": null,\n",
      "    \"time\": {},\n",
      "    \"component_name\": null\n",
      "}\n",
      "        40    VotingEnsemble                                0:01:36       0.7979    0.7979\n",
      "        41    StackEnsemble                                 0:01:51       0.7954    0.7979\n"
     ]
    }
   ],
   "source": [
    "# TODO: Submit your experiment\n",
    "remote_run = experiment.submit(automl_config, show_output = True)\n"
   ]
  },
  {
   "cell_type": "markdown",
   "metadata": {},
   "source": [
    "## Run Details\n",
    "\n",
    "OPTIONAL: Write about the different models trained and their performance. Why do you think some models did better than others?\n",
    "\n",
    "TODO: In the cell below, use the `RunDetails` widget to show the different experiments."
   ]
  },
  {
   "cell_type": "code",
   "execution_count": 7,
   "metadata": {
    "gather": {
     "logged": 1611957100717
    },
    "nteract": {
     "transient": {
      "deleting": false
     }
    }
   },
   "outputs": [
    {
     "data": {
      "text/html": [
       "<table style=\"width:100%\"><tr><th>Experiment</th><th>Id</th><th>Type</th><th>Status</th><th>Details Page</th><th>Docs Page</th></tr><tr><td>jobchangeautoml</td><td>AutoML_5165bbd4-851f-4b10-81e0-9a9dbccbe98d</td><td>automl</td><td>Completed</td><td><a href=\"https://ml.azure.com/experiments/jobchangeautoml/runs/AutoML_5165bbd4-851f-4b10-81e0-9a9dbccbe98d?wsid=/subscriptions/d4ad7261-832d-46b2-b093-22156001df5b/resourcegroups/aml-quickstarts-136651/workspaces/quick-starts-ws-136651\" target=\"_blank\" rel=\"noopener\">Link to Azure Machine Learning studio</a></td><td><a href=\"https://docs.microsoft.com/en-us/python/api/overview/azure/ml/intro?view=azure-ml-py\" target=\"_blank\" rel=\"noopener\">Link to Documentation</a></td></tr></table>"
      ],
      "text/plain": [
       "Run(Experiment: jobchangeautoml,\n",
       "Id: AutoML_5165bbd4-851f-4b10-81e0-9a9dbccbe98d,\n",
       "Type: automl,\n",
       "Status: Completed)"
      ]
     },
     "execution_count": 7,
     "metadata": {},
     "output_type": "execute_result"
    }
   ],
   "source": [
    "remote_run"
   ]
  },
  {
   "cell_type": "code",
   "execution_count": 8,
   "metadata": {
    "collapsed": false,
    "gather": {
     "logged": 1611957100803
    },
    "jupyter": {
     "outputs_hidden": false,
     "source_hidden": false
    },
    "nteract": {
     "transient": {
      "deleting": false
     }
    }
   },
   "outputs": [
    {
     "data": {
      "application/vnd.jupyter.widget-view+json": {
       "model_id": "132976fe702d47ba889070050e424b6d",
       "version_major": 2,
       "version_minor": 0
      },
      "text/plain": [
       "_AutoMLWidget(widget_settings={'childWidgetDisplay': 'popup', 'send_telemetry': False, 'log_level': 'INFO', 's…"
      ]
     },
     "metadata": {},
     "output_type": "display_data"
    },
    {
     "data": {
      "application/aml.mini.widget.v1": "{\"status\": \"Completed\", \"workbench_run_details_uri\": \"https://ml.azure.com/experiments/jobchangeautoml/runs/AutoML_5165bbd4-851f-4b10-81e0-9a9dbccbe98d?wsid=/subscriptions/d4ad7261-832d-46b2-b093-22156001df5b/resourcegroups/aml-quickstarts-136651/workspaces/quick-starts-ws-136651\", \"run_id\": \"AutoML_5165bbd4-851f-4b10-81e0-9a9dbccbe98d\", \"run_properties\": {\"run_id\": \"AutoML_5165bbd4-851f-4b10-81e0-9a9dbccbe98d\", \"created_utc\": \"2021-01-30T21:22:57.642198Z\", \"properties\": {\"num_iterations\": \"1000\", \"training_type\": \"TrainFull\", \"acquisition_function\": \"EI\", \"primary_metric\": \"accuracy\", \"train_split\": \"0\", \"acquisition_parameter\": \"0\", \"num_cross_validation\": \"5\", \"target\": \"cpu-cluster\", \"AMLSettingsJsonString\": \"{\\\"path\\\":null,\\\"name\\\":\\\"jobchangeautoml\\\",\\\"subscription_id\\\":\\\"d4ad7261-832d-46b2-b093-22156001df5b\\\",\\\"resource_group\\\":\\\"aml-quickstarts-136651\\\",\\\"workspace_name\\\":\\\"quick-starts-ws-136651\\\",\\\"region\\\":\\\"southcentralus\\\",\\\"compute_target\\\":\\\"cpu-cluster\\\",\\\"spark_service\\\":null,\\\"azure_service\\\":\\\"remote\\\",\\\"many_models\\\":false,\\\"pipeline_fetch_max_batch_size\\\":1,\\\"iterations\\\":1000,\\\"primary_metric\\\":\\\"accuracy\\\",\\\"task_type\\\":\\\"classification\\\",\\\"data_script\\\":null,\\\"validation_size\\\":0.0,\\\"n_cross_validations\\\":5,\\\"y_min\\\":null,\\\"y_max\\\":null,\\\"num_classes\\\":null,\\\"featurization\\\":\\\"auto\\\",\\\"_ignore_package_version_incompatibilities\\\":false,\\\"is_timeseries\\\":false,\\\"max_cores_per_iteration\\\":1,\\\"max_concurrent_iterations\\\":4,\\\"iteration_timeout_minutes\\\":null,\\\"mem_in_mb\\\":null,\\\"enforce_time_on_windows\\\":false,\\\"experiment_timeout_minutes\\\":15,\\\"experiment_exit_score\\\":null,\\\"whitelist_models\\\":null,\\\"blacklist_algos\\\":[\\\"TensorFlowLinearClassifier\\\",\\\"TensorFlowDNN\\\"],\\\"supported_models\\\":[\\\"GradientBoosting\\\",\\\"KNN\\\",\\\"ExtremeRandomTrees\\\",\\\"DecisionTree\\\",\\\"LinearSVM\\\",\\\"BernoulliNaiveBayes\\\",\\\"MultinomialNaiveBayes\\\",\\\"LogisticRegression\\\",\\\"SGD\\\",\\\"AveragedPerceptronClassifier\\\",\\\"TensorFlowDNN\\\",\\\"TensorFlowLinearClassifier\\\",\\\"LightGBM\\\",\\\"SVM\\\",\\\"RandomForest\\\",\\\"XGBoostClassifier\\\"],\\\"auto_blacklist\\\":true,\\\"blacklist_samples_reached\\\":false,\\\"exclude_nan_labels\\\":true,\\\"verbosity\\\":20,\\\"_debug_log\\\":\\\"azureml_automl.log\\\",\\\"show_warnings\\\":false,\\\"model_explainability\\\":true,\\\"service_url\\\":null,\\\"sdk_url\\\":null,\\\"sdk_packages\\\":null,\\\"enable_onnx_compatible_models\\\":false,\\\"enable_split_onnx_featurizer_estimator_models\\\":false,\\\"vm_type\\\":\\\"STANDARD_D12_V2\\\",\\\"telemetry_verbosity\\\":20,\\\"send_telemetry\\\":true,\\\"enable_dnn\\\":false,\\\"scenario\\\":\\\"SDK-1.13.0\\\",\\\"environment_label\\\":null,\\\"force_text_dnn\\\":false,\\\"enable_feature_sweeping\\\":true,\\\"enable_early_stopping\\\":true,\\\"early_stopping_n_iters\\\":10,\\\"metrics\\\":null,\\\"enable_ensembling\\\":true,\\\"enable_stack_ensembling\\\":true,\\\"ensemble_iterations\\\":15,\\\"enable_tf\\\":false,\\\"enable_subsampling\\\":null,\\\"subsample_seed\\\":null,\\\"enable_nimbusml\\\":false,\\\"enable_streaming\\\":false,\\\"force_streaming\\\":false,\\\"track_child_runs\\\":true,\\\"allowed_private_models\\\":[],\\\"label_column_name\\\":\\\"target\\\",\\\"weight_column_name\\\":null,\\\"cv_split_column_names\\\":null,\\\"enable_local_managed\\\":false,\\\"_local_managed_run_id\\\":null,\\\"cost_mode\\\":1,\\\"lag_length\\\":0,\\\"metric_operation\\\":\\\"maximize\\\",\\\"preprocess\\\":true}\", \"DataPrepJsonString\": \"{\\\\\\\"training_data\\\\\\\": \\\\\\\"{\\\\\\\\\\\\\\\"blocks\\\\\\\\\\\\\\\": [{\\\\\\\\\\\\\\\"id\\\\\\\\\\\\\\\": \\\\\\\\\\\\\\\"c2dee941-5b69-4017-94ab-b3e5fd4ec200\\\\\\\\\\\\\\\", \\\\\\\\\\\\\\\"type\\\\\\\\\\\\\\\": \\\\\\\\\\\\\\\"Microsoft.DPrep.GetDatastoreFilesBlock\\\\\\\\\\\\\\\", \\\\\\\\\\\\\\\"arguments\\\\\\\\\\\\\\\": {\\\\\\\\\\\\\\\"datastores\\\\\\\\\\\\\\\": [{\\\\\\\\\\\\\\\"datastoreName\\\\\\\\\\\\\\\": \\\\\\\\\\\\\\\"workspaceblobstore\\\\\\\\\\\\\\\", \\\\\\\\\\\\\\\"path\\\\\\\\\\\\\\\": \\\\\\\\\\\\\\\"UI/01-30-2021_091548_UTC/aug_train.csv\\\\\\\\\\\\\\\", \\\\\\\\\\\\\\\"resourceGroup\\\\\\\\\\\\\\\": \\\\\\\\\\\\\\\"aml-quickstarts-136651\\\\\\\\\\\\\\\", \\\\\\\\\\\\\\\"subscription\\\\\\\\\\\\\\\": \\\\\\\\\\\\\\\"d4ad7261-832d-46b2-b093-22156001df5b\\\\\\\\\\\\\\\", \\\\\\\\\\\\\\\"workspaceName\\\\\\\\\\\\\\\": \\\\\\\\\\\\\\\"quick-starts-ws-136651\\\\\\\\\\\\\\\"}]}, \\\\\\\\\\\\\\\"localData\\\\\\\\\\\\\\\": {}, \\\\\\\\\\\\\\\"isEnabled\\\\\\\\\\\\\\\": true, \\\\\\\\\\\\\\\"name\\\\\\\\\\\\\\\": null, \\\\\\\\\\\\\\\"annotation\\\\\\\\\\\\\\\": null}, {\\\\\\\\\\\\\\\"id\\\\\\\\\\\\\\\": \\\\\\\\\\\\\\\"5cde554f-de1d-438c-b52a-6bc393f200bc\\\\\\\\\\\\\\\", \\\\\\\\\\\\\\\"type\\\\\\\\\\\\\\\": \\\\\\\\\\\\\\\"Microsoft.DPrep.ParseDelimitedBlock\\\\\\\\\\\\\\\", \\\\\\\\\\\\\\\"arguments\\\\\\\\\\\\\\\": {\\\\\\\\\\\\\\\"columnHeadersMode\\\\\\\\\\\\\\\": 1, \\\\\\\\\\\\\\\"fileEncoding\\\\\\\\\\\\\\\": 0, \\\\\\\\\\\\\\\"handleQuotedLineBreaks\\\\\\\\\\\\\\\": false, \\\\\\\\\\\\\\\"preview\\\\\\\\\\\\\\\": false, \\\\\\\\\\\\\\\"separator\\\\\\\\\\\\\\\": \\\\\\\\\\\\\\\",\\\\\\\\\\\\\\\", \\\\\\\\\\\\\\\"skipRows\\\\\\\\\\\\\\\": 0, \\\\\\\\\\\\\\\"skipRowsMode\\\\\\\\\\\\\\\": 0}, \\\\\\\\\\\\\\\"localData\\\\\\\\\\\\\\\": {}, \\\\\\\\\\\\\\\"isEnabled\\\\\\\\\\\\\\\": true, \\\\\\\\\\\\\\\"name\\\\\\\\\\\\\\\": null, \\\\\\\\\\\\\\\"annotation\\\\\\\\\\\\\\\": null}, {\\\\\\\\\\\\\\\"id\\\\\\\\\\\\\\\": \\\\\\\\\\\\\\\"8d07053a-d56f-4154-84e0-3dd012de7096\\\\\\\\\\\\\\\", \\\\\\\\\\\\\\\"type\\\\\\\\\\\\\\\": \\\\\\\\\\\\\\\"Microsoft.DPrep.DropColumnsBlock\\\\\\\\\\\\\\\", \\\\\\\\\\\\\\\"arguments\\\\\\\\\\\\\\\": {\\\\\\\\\\\\\\\"columns\\\\\\\\\\\\\\\": {\\\\\\\\\\\\\\\"type\\\\\\\\\\\\\\\": 0, \\\\\\\\\\\\\\\"details\\\\\\\\\\\\\\\": {\\\\\\\\\\\\\\\"selectedColumns\\\\\\\\\\\\\\\": [\\\\\\\\\\\\\\\"Path\\\\\\\\\\\\\\\", \\\\\\\\\\\\\\\"enrollee_id\\\\\\\\\\\\\\\"]}}}, \\\\\\\\\\\\\\\"localData\\\\\\\\\\\\\\\": {}, \\\\\\\\\\\\\\\"isEnabled\\\\\\\\\\\\\\\": true, \\\\\\\\\\\\\\\"name\\\\\\\\\\\\\\\": null, \\\\\\\\\\\\\\\"annotation\\\\\\\\\\\\\\\": null}, {\\\\\\\\\\\\\\\"id\\\\\\\\\\\\\\\": \\\\\\\\\\\\\\\"d8221740-a07a-411d-b08a-47ff088b7c03\\\\\\\\\\\\\\\", \\\\\\\\\\\\\\\"type\\\\\\\\\\\\\\\": \\\\\\\\\\\\\\\"Microsoft.DPrep.SetColumnTypesBlock\\\\\\\\\\\\\\\", \\\\\\\\\\\\\\\"arguments\\\\\\\\\\\\\\\": {\\\\\\\\\\\\\\\"columnConversion\\\\\\\\\\\\\\\": [{\\\\\\\\\\\\\\\"column\\\\\\\\\\\\\\\": {\\\\\\\\\\\\\\\"type\\\\\\\\\\\\\\\": 2, \\\\\\\\\\\\\\\"details\\\\\\\\\\\\\\\": {\\\\\\\\\\\\\\\"selectedColumn\\\\\\\\\\\\\\\": \\\\\\\\\\\\\\\"Path\\\\\\\\\\\\\\\"}}, \\\\\\\\\\\\\\\"typeProperty\\\\\\\\\\\\\\\": 0}, {\\\\\\\\\\\\\\\"column\\\\\\\\\\\\\\\": {\\\\\\\\\\\\\\\"type\\\\\\\\\\\\\\\": 2, \\\\\\\\\\\\\\\"details\\\\\\\\\\\\\\\": {\\\\\\\\\\\\\\\"selectedColumn\\\\\\\\\\\\\\\": \\\\\\\\\\\\\\\"enrollee_id\\\\\\\\\\\\\\\"}}, \\\\\\\\\\\\\\\"typeProperty\\\\\\\\\\\\\\\": 2}, {\\\\\\\\\\\\\\\"column\\\\\\\\\\\\\\\": {\\\\\\\\\\\\\\\"type\\\\\\\\\\\\\\\": 2, \\\\\\\\\\\\\\\"details\\\\\\\\\\\\\\\": {\\\\\\\\\\\\\\\"selectedColumn\\\\\\\\\\\\\\\": \\\\\\\\\\\\\\\"city\\\\\\\\\\\\\\\"}}, \\\\\\\\\\\\\\\"typeProperty\\\\\\\\\\\\\\\": 0}, {\\\\\\\\\\\\\\\"column\\\\\\\\\\\\\\\": {\\\\\\\\\\\\\\\"type\\\\\\\\\\\\\\\": 2, \\\\\\\\\\\\\\\"details\\\\\\\\\\\\\\\": {\\\\\\\\\\\\\\\"selectedColumn\\\\\\\\\\\\\\\": \\\\\\\\\\\\\\\"city_development_index\\\\\\\\\\\\\\\"}}, \\\\\\\\\\\\\\\"typeProperty\\\\\\\\\\\\\\\": 3}, {\\\\\\\\\\\\\\\"column\\\\\\\\\\\\\\\": {\\\\\\\\\\\\\\\"type\\\\\\\\\\\\\\\": 2, \\\\\\\\\\\\\\\"details\\\\\\\\\\\\\\\": {\\\\\\\\\\\\\\\"selectedColumn\\\\\\\\\\\\\\\": \\\\\\\\\\\\\\\"gender\\\\\\\\\\\\\\\"}}, \\\\\\\\\\\\\\\"typeProperty\\\\\\\\\\\\\\\": 0}, {\\\\\\\\\\\\\\\"column\\\\\\\\\\\\\\\": {\\\\\\\\\\\\\\\"type\\\\\\\\\\\\\\\": 2, \\\\\\\\\\\\\\\"details\\\\\\\\\\\\\\\": {\\\\\\\\\\\\\\\"selectedColumn\\\\\\\\\\\\\\\": \\\\\\\\\\\\\\\"relevent_experience\\\\\\\\\\\\\\\"}}, \\\\\\\\\\\\\\\"typeProperty\\\\\\\\\\\\\\\": 0}, {\\\\\\\\\\\\\\\"column\\\\\\\\\\\\\\\": {\\\\\\\\\\\\\\\"type\\\\\\\\\\\\\\\": 2, \\\\\\\\\\\\\\\"details\\\\\\\\\\\\\\\": {\\\\\\\\\\\\\\\"selectedColumn\\\\\\\\\\\\\\\": \\\\\\\\\\\\\\\"enrolled_university\\\\\\\\\\\\\\\"}}, \\\\\\\\\\\\\\\"typeProperty\\\\\\\\\\\\\\\": 0}, {\\\\\\\\\\\\\\\"column\\\\\\\\\\\\\\\": {\\\\\\\\\\\\\\\"type\\\\\\\\\\\\\\\": 2, \\\\\\\\\\\\\\\"details\\\\\\\\\\\\\\\": {\\\\\\\\\\\\\\\"selectedColumn\\\\\\\\\\\\\\\": \\\\\\\\\\\\\\\"education_level\\\\\\\\\\\\\\\"}}, \\\\\\\\\\\\\\\"typeProperty\\\\\\\\\\\\\\\": 0}, {\\\\\\\\\\\\\\\"column\\\\\\\\\\\\\\\": {\\\\\\\\\\\\\\\"type\\\\\\\\\\\\\\\": 2, \\\\\\\\\\\\\\\"details\\\\\\\\\\\\\\\": {\\\\\\\\\\\\\\\"selectedColumn\\\\\\\\\\\\\\\": \\\\\\\\\\\\\\\"major_discipline\\\\\\\\\\\\\\\"}}, \\\\\\\\\\\\\\\"typeProperty\\\\\\\\\\\\\\\": 0}, {\\\\\\\\\\\\\\\"column\\\\\\\\\\\\\\\": {\\\\\\\\\\\\\\\"type\\\\\\\\\\\\\\\": 2, \\\\\\\\\\\\\\\"details\\\\\\\\\\\\\\\": {\\\\\\\\\\\\\\\"selectedColumn\\\\\\\\\\\\\\\": \\\\\\\\\\\\\\\"experience\\\\\\\\\\\\\\\"}}, \\\\\\\\\\\\\\\"typeProperty\\\\\\\\\\\\\\\": 0}, {\\\\\\\\\\\\\\\"column\\\\\\\\\\\\\\\": {\\\\\\\\\\\\\\\"type\\\\\\\\\\\\\\\": 2, \\\\\\\\\\\\\\\"details\\\\\\\\\\\\\\\": {\\\\\\\\\\\\\\\"selectedColumn\\\\\\\\\\\\\\\": \\\\\\\\\\\\\\\"company_size\\\\\\\\\\\\\\\"}}, \\\\\\\\\\\\\\\"typeProperty\\\\\\\\\\\\\\\": 0}, {\\\\\\\\\\\\\\\"column\\\\\\\\\\\\\\\": {\\\\\\\\\\\\\\\"type\\\\\\\\\\\\\\\": 2, \\\\\\\\\\\\\\\"details\\\\\\\\\\\\\\\": {\\\\\\\\\\\\\\\"selectedColumn\\\\\\\\\\\\\\\": \\\\\\\\\\\\\\\"company_type\\\\\\\\\\\\\\\"}}, \\\\\\\\\\\\\\\"typeProperty\\\\\\\\\\\\\\\": 0}, {\\\\\\\\\\\\\\\"column\\\\\\\\\\\\\\\": {\\\\\\\\\\\\\\\"type\\\\\\\\\\\\\\\": 2, \\\\\\\\\\\\\\\"details\\\\\\\\\\\\\\\": {\\\\\\\\\\\\\\\"selectedColumn\\\\\\\\\\\\\\\": \\\\\\\\\\\\\\\"last_new_job\\\\\\\\\\\\\\\"}}, \\\\\\\\\\\\\\\"typeProperty\\\\\\\\\\\\\\\": 0}, {\\\\\\\\\\\\\\\"column\\\\\\\\\\\\\\\": {\\\\\\\\\\\\\\\"type\\\\\\\\\\\\\\\": 2, \\\\\\\\\\\\\\\"details\\\\\\\\\\\\\\\": {\\\\\\\\\\\\\\\"selectedColumn\\\\\\\\\\\\\\\": \\\\\\\\\\\\\\\"training_hours\\\\\\\\\\\\\\\"}}, \\\\\\\\\\\\\\\"typeProperty\\\\\\\\\\\\\\\": 2}, {\\\\\\\\\\\\\\\"column\\\\\\\\\\\\\\\": {\\\\\\\\\\\\\\\"type\\\\\\\\\\\\\\\": 2, \\\\\\\\\\\\\\\"details\\\\\\\\\\\\\\\": {\\\\\\\\\\\\\\\"selectedColumn\\\\\\\\\\\\\\\": \\\\\\\\\\\\\\\"target\\\\\\\\\\\\\\\"}}, \\\\\\\\\\\\\\\"typeProperty\\\\\\\\\\\\\\\": 3}]}, \\\\\\\\\\\\\\\"localData\\\\\\\\\\\\\\\": {}, \\\\\\\\\\\\\\\"isEnabled\\\\\\\\\\\\\\\": true, \\\\\\\\\\\\\\\"name\\\\\\\\\\\\\\\": null, \\\\\\\\\\\\\\\"annotation\\\\\\\\\\\\\\\": null}], \\\\\\\\\\\\\\\"inspectors\\\\\\\\\\\\\\\": [], \\\\\\\\\\\\\\\"meta\\\\\\\\\\\\\\\": {\\\\\\\\\\\\\\\"savedDatasetId\\\\\\\\\\\\\\\": \\\\\\\\\\\\\\\"14f1a7af-68e9-4999-bbb8-a2a9271d9ddb\\\\\\\\\\\\\\\", \\\\\\\\\\\\\\\"datasetType\\\\\\\\\\\\\\\": \\\\\\\\\\\\\\\"tabular\\\\\\\\\\\\\\\", \\\\\\\\\\\\\\\"subscriptionId\\\\\\\\\\\\\\\": \\\\\\\\\\\\\\\"d4ad7261-832d-46b2-b093-22156001df5b\\\\\\\\\\\\\\\", \\\\\\\\\\\\\\\"workspaceId\\\\\\\\\\\\\\\": \\\\\\\\\\\\\\\"573d1cf8-c55a-49a9-b3b1-3db20a236244\\\\\\\\\\\\\\\", \\\\\\\\\\\\\\\"workspaceLocation\\\\\\\\\\\\\\\": \\\\\\\\\\\\\\\"southcentralus\\\\\\\\\\\\\\\"}}\\\\\\\", \\\\\\\"activities\\\\\\\": 0}\", \"EnableSubsampling\": null, \"runTemplate\": \"AutoML\", \"azureml.runsource\": \"automl\", \"display_task_type\": \"classification\", \"dependencies_versions\": \"{\\\"azureml-widgets\\\": \\\"1.20.0\\\", \\\"azureml-train\\\": \\\"1.20.0\\\", \\\"azureml-train-restclients-hyperdrive\\\": \\\"1.20.0\\\", \\\"azureml-train-core\\\": \\\"1.20.0\\\", \\\"azureml-train-automl\\\": \\\"1.20.0\\\", \\\"azureml-train-automl-runtime\\\": \\\"1.20.0\\\", \\\"azureml-train-automl-client\\\": \\\"1.20.0\\\", \\\"azureml-tensorboard\\\": \\\"1.20.0\\\", \\\"azureml-telemetry\\\": \\\"1.20.0\\\", \\\"azureml-sdk\\\": \\\"1.20.0\\\", \\\"azureml-samples\\\": \\\"0+unknown\\\", \\\"azureml-pipeline\\\": \\\"1.20.0\\\", \\\"azureml-pipeline-steps\\\": \\\"1.20.0\\\", \\\"azureml-pipeline-core\\\": \\\"1.20.0\\\", \\\"azureml-opendatasets\\\": \\\"1.20.0\\\", \\\"azureml-model-management-sdk\\\": \\\"1.0.1b6.post1\\\", \\\"azureml-mlflow\\\": \\\"1.20.0.post1\\\", \\\"azureml-interpret\\\": \\\"1.20.0\\\", \\\"azureml-explain-model\\\": \\\"1.20.0\\\", \\\"azureml-defaults\\\": \\\"1.20.0\\\", \\\"azureml-dataset-runtime\\\": \\\"1.20.0\\\", \\\"azureml-dataprep\\\": \\\"2.7.3\\\", \\\"azureml-dataprep-rslex\\\": \\\"1.5.0\\\", \\\"azureml-dataprep-native\\\": \\\"27.0.0\\\", \\\"azureml-datadrift\\\": \\\"1.20.0\\\", \\\"azureml-core\\\": \\\"1.20.0\\\", \\\"azureml-contrib-services\\\": \\\"1.20.0\\\", \\\"azureml-contrib-server\\\": \\\"1.20.0\\\", \\\"azureml-contrib-reinforcementlearning\\\": \\\"1.20.0\\\", \\\"azureml-contrib-pipeline-steps\\\": \\\"1.20.0\\\", \\\"azureml-contrib-notebook\\\": \\\"1.20.0\\\", \\\"azureml-contrib-interpret\\\": \\\"1.20.0\\\", \\\"azureml-contrib-gbdt\\\": \\\"1.20.0\\\", \\\"azureml-contrib-fairness\\\": \\\"1.20.0\\\", \\\"azureml-contrib-dataset\\\": \\\"1.20.0\\\", \\\"azureml-cli-common\\\": \\\"1.20.0\\\", \\\"azureml-automl-runtime\\\": \\\"1.20.0\\\", \\\"azureml-automl-core\\\": \\\"1.20.0\\\", \\\"azureml-accel-models\\\": \\\"1.20.0\\\"}\", \"_aml_system_scenario_identification\": \"Remote.Parent\", \"ClientType\": \"SDK\", \"environment_cpu_name\": \"AzureML-AutoML\", \"environment_cpu_label\": \"prod\", \"environment_gpu_name\": \"AzureML-AutoML-GPU\", \"environment_gpu_label\": \"prod\", \"root_attribution\": \"automl\", \"attribution\": \"AutoML\", \"Orchestrator\": \"AutoML\", \"CancelUri\": \"https://southcentralus.experiments.azureml.net/jasmine/v1.0/subscriptions/d4ad7261-832d-46b2-b093-22156001df5b/resourceGroups/aml-quickstarts-136651/providers/Microsoft.MachineLearningServices/workspaces/quick-starts-ws-136651/experimentids/38f35cec-daa8-4df2-a551-6231d7d2044c/cancel/AutoML_5165bbd4-851f-4b10-81e0-9a9dbccbe98d\", \"ClientSdkVersion\": \"1.20.0.post1\", \"snapshotId\": \"00000000-0000-0000-0000-000000000000\", \"SetupRunId\": \"AutoML_5165bbd4-851f-4b10-81e0-9a9dbccbe98d_setup\", \"SetupRunContainerId\": \"dcid.AutoML_5165bbd4-851f-4b10-81e0-9a9dbccbe98d_setup\", \"FeaturizationRunJsonPath\": \"featurizer_container.json\", \"FeaturizationRunId\": \"AutoML_5165bbd4-851f-4b10-81e0-9a9dbccbe98d_featurize\", \"ProblemInfoJsonString\": \"{\\\"dataset_num_categorical\\\": 0, \\\"is_sparse\\\": true, \\\"subsampling\\\": false, \\\"dataset_classes\\\": 2, \\\"dataset_features\\\": 201, \\\"dataset_samples\\\": 19158, \\\"single_frequency_class_detected\\\": false}\", \"ModelExplainRunId\": \"AutoML_5165bbd4-851f-4b10-81e0-9a9dbccbe98d_ModelExplain\"}, \"tags\": {\"model_explain_run\": \"best_run\", \"_aml_system_azureml.automlComponent\": \"AutoML\", \"pipeline_id\": \"\", \"score\": \"\", \"predicted_cost\": \"\", \"fit_time\": \"\", \"training_percent\": \"\", \"iteration\": \"\", \"run_preprocessor\": \"\", \"run_algorithm\": \"\", \"dynamic_whitelisting_iterations\": \"<25>;<30>;<35>;\", \"automl_best_child_run_id\": \"AutoML_5165bbd4-851f-4b10-81e0-9a9dbccbe98d_40\", \"model_explain_best_run_child_id\": \"AutoML_5165bbd4-851f-4b10-81e0-9a9dbccbe98d_40\"}, \"end_time_utc\": \"2021-01-30T21:49:00.258062Z\", \"status\": \"Completed\", \"log_files\": {}, \"log_groups\": [], \"run_duration\": \"0:26:02\"}, \"child_runs\": [{\"run_id\": \"AutoML_5165bbd4-851f-4b10-81e0-9a9dbccbe98d_3\", \"run_number\": 5, \"metric\": null, \"status\": \"Completed\", \"run_type\": \"azureml.scriptrun\", \"training_percent\": \"100\", \"start_time\": \"2021-01-30T21:33:50.914833Z\", \"end_time\": \"2021-01-30T21:35:12.888131Z\", \"created_time\": \"2021-01-30T21:31:31.049328Z\", \"created_time_dt\": \"2021-01-30T21:31:31.049328Z\", \"duration\": \"0:03:41\", \"iteration\": \"3\", \"goal\": \"accuracy_max\", \"run_name\": \"MaxAbsScaler, RandomForest\", \"run_properties\": \"copy=True\", \"primary_metric\": 0.7603602, \"best_metric\": 0.79387193}, {\"run_id\": \"AutoML_5165bbd4-851f-4b10-81e0-9a9dbccbe98d_2\", \"run_number\": 6, \"metric\": null, \"status\": \"Completed\", \"run_type\": \"azureml.scriptrun\", \"training_percent\": \"100\", \"start_time\": \"2021-01-30T21:31:41.453806Z\", \"end_time\": \"2021-01-30T21:32:35.029687Z\", \"created_time\": \"2021-01-30T21:31:31.063141Z\", \"created_time_dt\": \"2021-01-30T21:31:31.063141Z\", \"duration\": \"0:01:03\", \"iteration\": \"2\", \"goal\": \"accuracy_max\", \"run_name\": \"MaxAbsScaler, RandomForest\", \"run_properties\": \"copy=True\", \"primary_metric\": 0.76688627, \"best_metric\": 0.79387193}, {\"run_id\": \"AutoML_5165bbd4-851f-4b10-81e0-9a9dbccbe98d_1\", \"run_number\": 7, \"metric\": null, \"status\": \"Completed\", \"run_type\": \"azureml.scriptrun\", \"training_percent\": \"100\", \"start_time\": \"2021-01-30T21:34:07.81074Z\", \"end_time\": \"2021-01-30T21:36:38.115787Z\", \"created_time\": \"2021-01-30T21:31:31.063486Z\", \"created_time_dt\": \"2021-01-30T21:31:31.063486Z\", \"duration\": \"0:05:07\", \"iteration\": \"1\", \"goal\": \"accuracy_max\", \"run_name\": \"MaxAbsScaler, XGBoostClassifier\", \"run_properties\": \"copy=True\", \"primary_metric\": 0.7934546, \"best_metric\": 0.79387193}, {\"run_id\": \"AutoML_5165bbd4-851f-4b10-81e0-9a9dbccbe98d_0\", \"run_number\": 8, \"metric\": null, \"status\": \"Completed\", \"run_type\": \"azureml.scriptrun\", \"training_percent\": \"100\", \"start_time\": \"2021-01-30T21:32:41.03462Z\", \"end_time\": \"2021-01-30T21:33:48.955304Z\", \"created_time\": \"2021-01-30T21:31:31.285455Z\", \"created_time_dt\": \"2021-01-30T21:31:31.285455Z\", \"duration\": \"0:02:17\", \"iteration\": \"0\", \"goal\": \"accuracy_max\", \"run_name\": \"MaxAbsScaler, LightGBM\", \"run_properties\": \"copy=True\", \"primary_metric\": 0.79387193, \"best_metric\": 0.79387193}, {\"run_id\": \"AutoML_5165bbd4-851f-4b10-81e0-9a9dbccbe98d_4\", \"run_number\": 9, \"metric\": null, \"status\": \"Completed\", \"run_type\": \"azureml.scriptrun\", \"training_percent\": \"100\", \"start_time\": \"2021-01-30T21:34:09.462815Z\", \"end_time\": \"2021-01-30T21:36:37.758227Z\", \"created_time\": \"2021-01-30T21:32:38.875194Z\", \"created_time_dt\": \"2021-01-30T21:32:38.875194Z\", \"duration\": \"0:03:58\", \"iteration\": \"4\", \"goal\": \"accuracy_max\", \"run_name\": \"MaxAbsScaler, RandomForest\", \"run_properties\": \"copy=True\", \"primary_metric\": 0.74866964, \"best_metric\": 0.79387193}, {\"run_id\": \"AutoML_5165bbd4-851f-4b10-81e0-9a9dbccbe98d_5\", \"run_number\": 10, \"metric\": null, \"status\": \"Completed\", \"run_type\": \"azureml.scriptrun\", \"training_percent\": \"100\", \"start_time\": \"2021-01-30T21:35:18.743444Z\", \"end_time\": \"2021-01-30T21:36:10.258015Z\", \"created_time\": \"2021-01-30T21:33:53.329939Z\", \"created_time_dt\": \"2021-01-30T21:33:53.329939Z\", \"duration\": \"0:02:16\", \"iteration\": \"5\", \"goal\": \"accuracy_max\", \"run_name\": \"MaxAbsScaler, RandomForest\", \"run_properties\": \"copy=True\", \"primary_metric\": 0.70497939, \"best_metric\": 0.79387193}, {\"run_id\": \"AutoML_5165bbd4-851f-4b10-81e0-9a9dbccbe98d_6\", \"run_number\": 11, \"metric\": null, \"status\": \"Completed\", \"run_type\": \"azureml.scriptrun\", \"training_percent\": \"100\", \"start_time\": \"2021-01-30T21:36:08.672598Z\", \"end_time\": \"2021-01-30T21:38:49.116024Z\", \"created_time\": \"2021-01-30T21:35:22.092277Z\", \"created_time_dt\": \"2021-01-30T21:35:22.092277Z\", \"duration\": \"0:03:27\", \"iteration\": \"6\", \"goal\": \"accuracy_max\", \"run_name\": \"SparseNormalizer, XGBoostClassifier\", \"run_properties\": \"<azureml.automl.runtime.shared.model_wrappers.SparseNormalizer object at 0x7fb37a551780\", \"primary_metric\": 0.79032253, \"best_metric\": 0.79387193}, {\"run_id\": \"AutoML_5165bbd4-851f-4b10-81e0-9a9dbccbe98d_7\", \"run_number\": 12, \"metric\": null, \"status\": \"Completed\", \"run_type\": \"azureml.scriptrun\", \"training_percent\": \"100\", \"start_time\": \"2021-01-30T21:36:30.225185Z\", \"end_time\": \"2021-01-30T21:37:37.658771Z\", \"created_time\": \"2021-01-30T21:36:16.343856Z\", \"created_time_dt\": \"2021-01-30T21:36:16.343856Z\", \"duration\": \"0:01:21\", \"iteration\": \"7\", \"goal\": \"accuracy_max\", \"run_name\": \"SparseNormalizer, XGBoostClassifier\", \"run_properties\": \"<azureml.automl.runtime.shared.model_wrappers.SparseNormalizer object at 0x7fedf45a9be0\", \"primary_metric\": 0.78875679, \"best_metric\": 0.79387193}, {\"run_id\": \"AutoML_5165bbd4-851f-4b10-81e0-9a9dbccbe98d_9\", \"run_number\": 13, \"metric\": null, \"status\": \"Completed\", \"run_type\": \"azureml.scriptrun\", \"training_percent\": \"100\", \"start_time\": \"2021-01-30T21:36:52.355029Z\", \"end_time\": \"2021-01-30T21:37:53.423764Z\", \"created_time\": \"2021-01-30T21:36:39.415798Z\", \"created_time_dt\": \"2021-01-30T21:36:39.415798Z\", \"duration\": \"0:01:14\", \"iteration\": \"9\", \"goal\": \"accuracy_max\", \"run_name\": \"SparseNormalizer, XGBoostClassifier\", \"run_properties\": \"<azureml.automl.runtime.shared.model_wrappers.SparseNormalizer object at 0x7ff99d36fd30\", \"primary_metric\": 0.79204502, \"best_metric\": 0.79387193}, {\"run_id\": \"AutoML_5165bbd4-851f-4b10-81e0-9a9dbccbe98d_8\", \"run_number\": 14, \"metric\": null, \"status\": \"Completed\", \"run_type\": \"azureml.scriptrun\", \"training_percent\": \"100\", \"start_time\": \"2021-01-30T21:36:50.837117Z\", \"end_time\": \"2021-01-30T21:38:10.584422Z\", \"created_time\": \"2021-01-30T21:36:39.421636Z\", \"created_time_dt\": \"2021-01-30T21:36:39.421636Z\", \"duration\": \"0:01:31\", \"iteration\": \"8\", \"goal\": \"accuracy_max\", \"run_name\": \"SparseNormalizer, XGBoostClassifier\", \"run_properties\": \"<azureml.automl.runtime.shared.model_wrappers.SparseNormalizer object at 0x7f044b6f3b38\", \"primary_metric\": 0.78948738, \"best_metric\": 0.79387193}, {\"run_id\": \"AutoML_5165bbd4-851f-4b10-81e0-9a9dbccbe98d_10\", \"run_number\": 15, \"metric\": null, \"status\": \"Completed\", \"run_type\": \"azureml.scriptrun\", \"training_percent\": \"100\", \"start_time\": \"2021-01-30T21:37:51.529459Z\", \"end_time\": \"2021-01-30T21:39:21.682446Z\", \"created_time\": \"2021-01-30T21:37:39.918387Z\", \"created_time_dt\": \"2021-01-30T21:37:39.918387Z\", \"duration\": \"0:01:41\", \"iteration\": \"10\", \"goal\": \"accuracy_max\", \"run_name\": \"MaxAbsScaler, RandomForest\", \"run_properties\": \"copy=True\", \"primary_metric\": 0.77132256, \"best_metric\": 0.79387193}, {\"run_id\": \"AutoML_5165bbd4-851f-4b10-81e0-9a9dbccbe98d_11\", \"run_number\": 16, \"metric\": null, \"status\": \"Completed\", \"run_type\": \"azureml.scriptrun\", \"training_percent\": \"100\", \"start_time\": \"2021-01-30T21:38:06.00706Z\", \"end_time\": \"2021-01-30T21:38:59.997516Z\", \"created_time\": \"2021-01-30T21:37:54.987125Z\", \"created_time_dt\": \"2021-01-30T21:37:54.987125Z\", \"duration\": \"0:01:05\", \"iteration\": \"11\", \"goal\": \"accuracy_max\", \"run_name\": \"StandardScalerWrapper, RandomForest\", \"run_properties\": \"<azureml.automl.runtime.shared.model_wrappers.StandardScalerWrapper object at 0x7f6d0b321978\", \"primary_metric\": 0.77920447, \"best_metric\": 0.79387193}, {\"run_id\": \"AutoML_5165bbd4-851f-4b10-81e0-9a9dbccbe98d_12\", \"run_number\": 17, \"metric\": null, \"status\": \"Completed\", \"run_type\": \"azureml.scriptrun\", \"training_percent\": \"100\", \"start_time\": \"2021-01-30T21:38:25.868693Z\", \"end_time\": \"2021-01-30T21:39:14.824638Z\", \"created_time\": \"2021-01-30T21:38:12.165676Z\", \"created_time_dt\": \"2021-01-30T21:38:12.165676Z\", \"duration\": \"0:01:02\", \"iteration\": \"12\", \"goal\": \"accuracy_max\", \"run_name\": \"SparseNormalizer, XGBoostClassifier\", \"run_properties\": \"<azureml.automl.runtime.shared.model_wrappers.SparseNormalizer object at 0x7f376c1d5898\", \"primary_metric\": 0.77471597, \"best_metric\": 0.79387193}, {\"run_id\": \"AutoML_5165bbd4-851f-4b10-81e0-9a9dbccbe98d_13\", \"run_number\": 18, \"metric\": null, \"status\": \"Completed\", \"run_type\": \"azureml.scriptrun\", \"training_percent\": \"100\", \"start_time\": \"2021-01-30T21:39:07.030962Z\", \"end_time\": \"2021-01-30T21:40:03.494198Z\", \"created_time\": \"2021-01-30T21:38:50.624875Z\", \"created_time_dt\": \"2021-01-30T21:38:50.624875Z\", \"duration\": \"0:01:12\", \"iteration\": \"13\", \"goal\": \"accuracy_max\", \"run_name\": \"MaxAbsScaler, RandomForest\", \"run_properties\": \"copy=True\", \"primary_metric\": 0.78233667, \"best_metric\": 0.79387193}, {\"run_id\": \"AutoML_5165bbd4-851f-4b10-81e0-9a9dbccbe98d_14\", \"run_number\": 19, \"metric\": null, \"status\": \"Completed\", \"run_type\": \"azureml.scriptrun\", \"training_percent\": \"100\", \"start_time\": \"2021-01-30T21:39:14.504172Z\", \"end_time\": \"2021-01-30T21:40:12.432656Z\", \"created_time\": \"2021-01-30T21:39:01.62302Z\", \"created_time_dt\": \"2021-01-30T21:39:01.62302Z\", \"duration\": \"0:01:10\", \"iteration\": \"14\", \"goal\": \"accuracy_max\", \"run_name\": \"MaxAbsScaler, LogisticRegression\", \"run_properties\": \"copy=True\", \"primary_metric\": 0.78103135, \"best_metric\": 0.79387193}, {\"run_id\": \"AutoML_5165bbd4-851f-4b10-81e0-9a9dbccbe98d_15\", \"run_number\": 20, \"metric\": null, \"status\": \"Completed\", \"run_type\": \"azureml.scriptrun\", \"training_percent\": \"100\", \"start_time\": \"2021-01-30T21:39:29.664845Z\", \"end_time\": \"2021-01-30T21:40:22.30866Z\", \"created_time\": \"2021-01-30T21:39:16.968279Z\", \"created_time_dt\": \"2021-01-30T21:39:16.968279Z\", \"duration\": \"0:01:05\", \"iteration\": \"15\", \"goal\": \"accuracy_max\", \"run_name\": \"StandardScalerWrapper, LightGBM\", \"run_properties\": \"<azureml.automl.runtime.shared.model_wrappers.StandardScalerWrapper object at 0x7ff20225ffd0\", \"primary_metric\": 0.76511112, \"best_metric\": 0.79387193}, {\"run_id\": \"AutoML_5165bbd4-851f-4b10-81e0-9a9dbccbe98d_16\", \"run_number\": 21, \"metric\": null, \"status\": \"Completed\", \"run_type\": \"azureml.scriptrun\", \"training_percent\": \"100\", \"start_time\": \"2021-01-30T21:39:33.825411Z\", \"end_time\": \"2021-01-30T21:40:19.348624Z\", \"created_time\": \"2021-01-30T21:39:23.26114Z\", \"created_time_dt\": \"2021-01-30T21:39:23.26114Z\", \"duration\": \"0:00:56\", \"iteration\": \"16\", \"goal\": \"accuracy_max\", \"run_name\": \"MaxAbsScaler, LightGBM\", \"run_properties\": \"copy=True\", \"primary_metric\": 0.77435021, \"best_metric\": 0.79387193}, {\"run_id\": \"AutoML_5165bbd4-851f-4b10-81e0-9a9dbccbe98d_17\", \"run_number\": 22, \"metric\": null, \"status\": \"Completed\", \"run_type\": \"azureml.scriptrun\", \"training_percent\": \"100\", \"start_time\": \"2021-01-30T21:40:15.420685Z\", \"end_time\": \"2021-01-30T21:41:39.451762Z\", \"created_time\": \"2021-01-30T21:40:05.431053Z\", \"created_time_dt\": \"2021-01-30T21:40:05.431053Z\", \"duration\": \"0:01:34\", \"iteration\": \"17\", \"goal\": \"accuracy_max\", \"run_name\": \"MaxAbsScaler, LogisticRegression\", \"run_properties\": \"copy=True\", \"primary_metric\": 0.7802484, \"best_metric\": 0.79387193}, {\"run_id\": \"AutoML_5165bbd4-851f-4b10-81e0-9a9dbccbe98d_18\", \"run_number\": 23, \"metric\": null, \"status\": \"Completed\", \"run_type\": \"azureml.scriptrun\", \"training_percent\": \"100\", \"start_time\": \"2021-01-30T21:40:26.869391Z\", \"end_time\": \"2021-01-30T21:41:15.747879Z\", \"created_time\": \"2021-01-30T21:40:14.283161Z\", \"created_time_dt\": \"2021-01-30T21:40:14.283161Z\", \"duration\": \"0:01:01\", \"iteration\": \"18\", \"goal\": \"accuracy_max\", \"run_name\": \"SparseNormalizer, LightGBM\", \"run_properties\": \"<azureml.automl.runtime.shared.model_wrappers.SparseNormalizer object at 0x7f5db610cb70\", \"primary_metric\": 0.7764383, \"best_metric\": 0.79387193}, {\"run_id\": \"AutoML_5165bbd4-851f-4b10-81e0-9a9dbccbe98d_19\", \"run_number\": 24, \"metric\": null, \"status\": \"Completed\", \"run_type\": \"azureml.scriptrun\", \"training_percent\": \"100\", \"start_time\": \"2021-01-30T21:40:34.984197Z\", \"end_time\": \"2021-01-30T21:41:24.385123Z\", \"created_time\": \"2021-01-30T21:40:21.095541Z\", \"created_time_dt\": \"2021-01-30T21:40:21.095541Z\", \"duration\": \"0:01:03\", \"iteration\": \"19\", \"goal\": \"accuracy_max\", \"run_name\": \"MaxAbsScaler, LightGBM\", \"run_properties\": \"copy=True\", \"primary_metric\": 0.79230628, \"best_metric\": 0.79387193}, {\"run_id\": \"AutoML_5165bbd4-851f-4b10-81e0-9a9dbccbe98d_20\", \"run_number\": 25, \"metric\": null, \"status\": \"Completed\", \"run_type\": \"azureml.scriptrun\", \"training_percent\": \"100\", \"start_time\": \"2021-01-30T21:40:38.785553Z\", \"end_time\": \"2021-01-30T21:41:39.354672Z\", \"created_time\": \"2021-01-30T21:40:25.939465Z\", \"created_time_dt\": \"2021-01-30T21:40:25.939465Z\", \"duration\": \"0:01:13\", \"iteration\": \"20\", \"goal\": \"accuracy_max\", \"run_name\": \"SparseNormalizer, XGBoostClassifier\", \"run_properties\": \"<azureml.automl.runtime.shared.model_wrappers.SparseNormalizer object at 0x7fc05ec4edd8\", \"primary_metric\": 0.79355874, \"best_metric\": 0.79387193}, {\"run_id\": \"AutoML_5165bbd4-851f-4b10-81e0-9a9dbccbe98d_21\", \"run_number\": 26, \"metric\": null, \"status\": \"Completed\", \"run_type\": \"azureml.scriptrun\", \"training_percent\": \"100\", \"start_time\": \"2021-01-30T21:41:27.588003Z\", \"end_time\": \"2021-01-30T21:42:39.9877Z\", \"created_time\": \"2021-01-30T21:41:17.472606Z\", \"created_time_dt\": \"2021-01-30T21:41:17.472606Z\", \"duration\": \"0:01:22\", \"iteration\": \"21\", \"goal\": \"accuracy_max\", \"run_name\": \"SparseNormalizer, XGBoostClassifier\", \"run_properties\": \"<azureml.automl.runtime.shared.model_wrappers.SparseNormalizer object at 0x7fcf0a2207b8\", \"primary_metric\": 0.7891742, \"best_metric\": 0.79387193}, {\"run_id\": \"AutoML_5165bbd4-851f-4b10-81e0-9a9dbccbe98d_22\", \"run_number\": 27, \"metric\": null, \"status\": \"Completed\", \"run_type\": \"azureml.scriptrun\", \"training_percent\": \"100\", \"start_time\": \"2021-01-30T21:41:40.450376Z\", \"end_time\": \"2021-01-30T21:42:44.676739Z\", \"created_time\": \"2021-01-30T21:41:27.667387Z\", \"created_time_dt\": \"2021-01-30T21:41:27.667387Z\", \"duration\": \"0:01:17\", \"iteration\": \"22\", \"goal\": \"accuracy_max\", \"run_name\": \"SparseNormalizer, XGBoostClassifier\", \"run_properties\": \"<azureml.automl.runtime.shared.model_wrappers.SparseNormalizer object at 0x7efec4c3fda0\", \"primary_metric\": 0.78750389, \"best_metric\": 0.79387193}, {\"run_id\": \"AutoML_5165bbd4-851f-4b10-81e0-9a9dbccbe98d_23\", \"run_number\": 28, \"metric\": null, \"status\": \"Completed\", \"run_type\": \"azureml.scriptrun\", \"training_percent\": \"100\", \"start_time\": \"2021-01-30T21:41:52.648409Z\", \"end_time\": \"2021-01-30T21:42:57.341337Z\", \"created_time\": \"2021-01-30T21:41:41.597575Z\", \"created_time_dt\": \"2021-01-30T21:41:41.597575Z\", \"duration\": \"0:01:15\", \"iteration\": \"23\", \"goal\": \"accuracy_max\", \"run_name\": \"SparseNormalizer, RandomForest\", \"run_properties\": \"<azureml.automl.runtime.shared.model_wrappers.SparseNormalizer object at 0x7f73e71cac50\", \"primary_metric\": 0.75065216, \"best_metric\": 0.79387193}, {\"run_id\": \"AutoML_5165bbd4-851f-4b10-81e0-9a9dbccbe98d_24\", \"run_number\": 29, \"metric\": null, \"status\": \"Completed\", \"run_type\": \"azureml.scriptrun\", \"training_percent\": \"100\", \"start_time\": \"2021-01-30T21:41:53.044939Z\", \"end_time\": \"2021-01-30T21:42:46.954038Z\", \"created_time\": \"2021-01-30T21:41:41.625903Z\", \"created_time_dt\": \"2021-01-30T21:41:41.625903Z\", \"duration\": \"0:01:05\", \"iteration\": \"24\", \"goal\": \"accuracy_max\", \"run_name\": \"MaxAbsScaler, LightGBM\", \"run_properties\": \"copy=True\", \"primary_metric\": 0.75065216, \"best_metric\": 0.79387193}, {\"run_id\": \"AutoML_5165bbd4-851f-4b10-81e0-9a9dbccbe98d_25\", \"run_number\": 30, \"metric\": null, \"status\": \"Completed\", \"run_type\": \"azureml.scriptrun\", \"training_percent\": \"100\", \"start_time\": \"2021-01-30T21:42:56.866292Z\", \"end_time\": \"2021-01-30T21:43:47.981277Z\", \"created_time\": \"2021-01-30T21:42:43.42148Z\", \"created_time_dt\": \"2021-01-30T21:42:43.42148Z\", \"duration\": \"0:01:04\", \"iteration\": \"25\", \"goal\": \"accuracy_max\", \"run_name\": \"StandardScalerWrapper, LightGBM\", \"run_properties\": \"<azureml.automl.runtime.shared.model_wrappers.StandardScalerWrapper object at 0x7fcad7df7b38\", \"primary_metric\": 0.75065216, \"best_metric\": 0.79387193}, {\"run_id\": \"AutoML_5165bbd4-851f-4b10-81e0-9a9dbccbe98d_26\", \"run_number\": 31, \"metric\": null, \"status\": \"Completed\", \"run_type\": \"azureml.scriptrun\", \"training_percent\": \"100\", \"start_time\": \"2021-01-30T21:42:59.840562Z\", \"end_time\": \"2021-01-30T21:44:16.03213Z\", \"created_time\": \"2021-01-30T21:42:47.463107Z\", \"created_time_dt\": \"2021-01-30T21:42:47.463107Z\", \"duration\": \"0:01:28\", \"iteration\": \"26\", \"goal\": \"accuracy_max\", \"run_name\": \"StandardScalerWrapper, LightGBM\", \"run_properties\": \"<azureml.automl.runtime.shared.model_wrappers.StandardScalerWrapper object at 0x7fe3a968ae80\", \"primary_metric\": 0.78546839, \"best_metric\": 0.79387193}, {\"run_id\": \"AutoML_5165bbd4-851f-4b10-81e0-9a9dbccbe98d_27\", \"run_number\": 32, \"metric\": null, \"status\": \"Completed\", \"run_type\": \"azureml.scriptrun\", \"training_percent\": \"100\", \"start_time\": \"2021-01-30T21:43:04.287384Z\", \"end_time\": \"2021-01-30T21:43:54.711446Z\", \"created_time\": \"2021-01-30T21:42:51.99162Z\", \"created_time_dt\": \"2021-01-30T21:42:51.99162Z\", \"duration\": \"0:01:02\", \"iteration\": \"27\", \"goal\": \"accuracy_max\", \"run_name\": \"MaxAbsScaler, LightGBM\", \"run_properties\": \"copy=True\", \"primary_metric\": 0.75242691, \"best_metric\": 0.79387193}, {\"run_id\": \"AutoML_5165bbd4-851f-4b10-81e0-9a9dbccbe98d_28\", \"run_number\": 33, \"metric\": null, \"status\": \"Completed\", \"run_type\": \"azureml.scriptrun\", \"training_percent\": \"100\", \"start_time\": \"2021-01-30T21:43:13.235689Z\", \"end_time\": \"2021-01-30T21:44:04.017728Z\", \"created_time\": \"2021-01-30T21:43:00.63507Z\", \"created_time_dt\": \"2021-01-30T21:43:00.63507Z\", \"duration\": \"0:01:03\", \"iteration\": \"28\", \"goal\": \"accuracy_max\", \"run_name\": \"StandardScalerWrapper, LightGBM\", \"run_properties\": \"<azureml.automl.runtime.shared.model_wrappers.StandardScalerWrapper object at 0x7fca870722e8\", \"primary_metric\": 0.76970436, \"best_metric\": 0.79387193}, {\"run_id\": \"AutoML_5165bbd4-851f-4b10-81e0-9a9dbccbe98d_29\", \"run_number\": 34, \"metric\": null, \"status\": \"Completed\", \"run_type\": \"azureml.scriptrun\", \"training_percent\": \"100\", \"start_time\": \"2021-01-30T21:44:02.656267Z\", \"end_time\": \"2021-01-30T21:44:54.390152Z\", \"created_time\": \"2021-01-30T21:43:49.632977Z\", \"created_time_dt\": \"2021-01-30T21:43:49.632977Z\", \"duration\": \"0:01:04\", \"iteration\": \"29\", \"goal\": \"accuracy_max\", \"run_name\": \"StandardScalerWrapper, LightGBM\", \"run_properties\": \"<azureml.automl.runtime.shared.model_wrappers.StandardScalerWrapper object at 0x7fb5218f38d0\", \"primary_metric\": 0.79622116, \"best_metric\": 0.79622116}, {\"run_id\": \"AutoML_5165bbd4-851f-4b10-81e0-9a9dbccbe98d_30\", \"run_number\": 35, \"metric\": null, \"status\": \"Completed\", \"run_type\": \"azureml.scriptrun\", \"training_percent\": \"100\", \"start_time\": \"2021-01-30T21:44:07.065555Z\", \"end_time\": \"2021-01-30T21:45:00.86893Z\", \"created_time\": \"2021-01-30T21:43:57.300715Z\", \"created_time_dt\": \"2021-01-30T21:43:57.300715Z\", \"duration\": \"0:01:03\", \"iteration\": \"30\", \"goal\": \"accuracy_max\", \"run_name\": \"SparseNormalizer, LightGBM\", \"run_properties\": \"<azureml.automl.runtime.shared.model_wrappers.SparseNormalizer object at 0x7f14a17fb748\", \"primary_metric\": 0.75065216, \"best_metric\": 0.79622116}, {\"run_id\": \"AutoML_5165bbd4-851f-4b10-81e0-9a9dbccbe98d_31\", \"run_number\": 36, \"metric\": null, \"status\": \"Completed\", \"run_type\": \"azureml.scriptrun\", \"training_percent\": \"100\", \"start_time\": \"2021-01-30T21:44:16.868881Z\", \"end_time\": \"2021-01-30T21:45:17.790987Z\", \"created_time\": \"2021-01-30T21:44:05.739023Z\", \"created_time_dt\": \"2021-01-30T21:44:05.739023Z\", \"duration\": \"0:01:12\", \"iteration\": \"31\", \"goal\": \"accuracy_max\", \"run_name\": \"SparseNormalizer, XGBoostClassifier\", \"run_properties\": \"<azureml.automl.runtime.shared.model_wrappers.SparseNormalizer object at 0x7fd4fdcb9b70\", \"primary_metric\": 0.79423725, \"best_metric\": 0.79622116}, {\"run_id\": \"AutoML_5165bbd4-851f-4b10-81e0-9a9dbccbe98d_32\", \"run_number\": 37, \"metric\": null, \"status\": \"Completed\", \"run_type\": \"azureml.scriptrun\", \"training_percent\": \"100\", \"start_time\": \"2021-01-30T21:44:30.952935Z\", \"end_time\": \"2021-01-30T21:45:26.191713Z\", \"created_time\": \"2021-01-30T21:44:17.655113Z\", \"created_time_dt\": \"2021-01-30T21:44:17.655113Z\", \"duration\": \"0:01:08\", \"iteration\": \"32\", \"goal\": \"accuracy_max\", \"run_name\": \"StandardScalerWrapper, LightGBM\", \"run_properties\": \"<azureml.automl.runtime.shared.model_wrappers.StandardScalerWrapper object at 0x7f5ab9e8ea90\", \"primary_metric\": 0.79543804, \"best_metric\": 0.79622116}, {\"run_id\": \"AutoML_5165bbd4-851f-4b10-81e0-9a9dbccbe98d_33\", \"run_number\": 38, \"metric\": null, \"status\": \"Completed\", \"run_type\": \"azureml.scriptrun\", \"training_percent\": \"100\", \"start_time\": \"2021-01-30T21:45:06.269612Z\", \"end_time\": \"2021-01-30T21:46:03.217531Z\", \"created_time\": \"2021-01-30T21:44:55.982013Z\", \"created_time_dt\": \"2021-01-30T21:44:55.982013Z\", \"duration\": \"0:01:07\", \"iteration\": \"33\", \"goal\": \"accuracy_max\", \"run_name\": \"SparseNormalizer, XGBoostClassifier\", \"run_properties\": \"<azureml.automl.runtime.shared.model_wrappers.SparseNormalizer object at 0x7f0ba2f099b0\", \"primary_metric\": 0.79141869, \"best_metric\": 0.79622116}, {\"run_id\": \"AutoML_5165bbd4-851f-4b10-81e0-9a9dbccbe98d_34\", \"run_number\": 39, \"metric\": null, \"status\": \"Completed\", \"run_type\": \"azureml.scriptrun\", \"training_percent\": \"100\", \"start_time\": \"2021-01-30T21:45:16.675442Z\", \"end_time\": \"2021-01-30T21:46:12.228413Z\", \"created_time\": \"2021-01-30T21:45:02.432901Z\", \"created_time_dt\": \"2021-01-30T21:45:02.432901Z\", \"duration\": \"0:01:09\", \"iteration\": \"34\", \"goal\": \"accuracy_max\", \"run_name\": \"StandardScalerWrapper, LightGBM\", \"run_properties\": \"<azureml.automl.runtime.shared.model_wrappers.StandardScalerWrapper object at 0x7fb9fa14b588\", \"primary_metric\": 0.79449862, \"best_metric\": 0.79622116}, {\"run_id\": \"AutoML_5165bbd4-851f-4b10-81e0-9a9dbccbe98d_35\", \"run_number\": 40, \"metric\": null, \"status\": \"Completed\", \"run_type\": \"azureml.scriptrun\", \"training_percent\": \"100\", \"start_time\": \"2021-01-30T21:45:32.690739Z\", \"end_time\": \"2021-01-30T21:46:24.634202Z\", \"created_time\": \"2021-01-30T21:45:20.239896Z\", \"created_time_dt\": \"2021-01-30T21:45:20.239896Z\", \"duration\": \"0:01:04\", \"iteration\": \"35\", \"goal\": \"accuracy_max\", \"run_name\": \"MaxAbsScaler, LightGBM\", \"run_properties\": \"copy=True\", \"primary_metric\": 0.75065216, \"best_metric\": 0.79622116}, {\"run_id\": \"AutoML_5165bbd4-851f-4b10-81e0-9a9dbccbe98d_36\", \"run_number\": 41, \"metric\": null, \"status\": \"Completed\", \"run_type\": \"azureml.scriptrun\", \"training_percent\": \"100\", \"start_time\": \"2021-01-30T21:45:40.799007Z\", \"end_time\": \"2021-01-30T21:46:37.896479Z\", \"created_time\": \"2021-01-30T21:45:29.025812Z\", \"created_time_dt\": \"2021-01-30T21:45:29.025812Z\", \"duration\": \"0:01:08\", \"iteration\": \"36\", \"goal\": \"accuracy_max\", \"run_name\": \"StandardScalerWrapper, XGBoostClassifier\", \"run_properties\": \"<azureml.automl.runtime.shared.model_wrappers.StandardScalerWrapper object at 0x7f59c04015c0\", \"primary_metric\": 0.7763339, \"best_metric\": 0.79622116}, {\"run_id\": \"AutoML_5165bbd4-851f-4b10-81e0-9a9dbccbe98d_37\", \"run_number\": 42, \"metric\": null, \"status\": \"Canceled\", \"run_type\": \"azureml.scriptrun\", \"training_percent\": \"100\", \"start_time\": \"2021-01-30T21:46:17.134627Z\", \"end_time\": \"2021-01-30T21:46:45.686997Z\", \"created_time\": \"2021-01-30T21:46:05.83843Z\", \"created_time_dt\": \"2021-01-30T21:46:05.83843Z\", \"duration\": \"0:00:39\", \"iteration\": \"37\", \"goal\": null, \"run_name\": \"MaxAbsScaler, LightGBM\", \"run_properties\": null}, {\"run_id\": \"AutoML_5165bbd4-851f-4b10-81e0-9a9dbccbe98d_38\", \"run_number\": 43, \"metric\": null, \"status\": \"Canceled\", \"run_type\": \"azureml.scriptrun\", \"training_percent\": \"100\", \"start_time\": \"2021-01-30T21:46:25.879595Z\", \"end_time\": \"2021-01-30T21:46:44.456531Z\", \"created_time\": \"2021-01-30T21:46:14.60727Z\", \"created_time_dt\": \"2021-01-30T21:46:14.60727Z\", \"duration\": \"0:00:29\", \"iteration\": \"38\", \"goal\": null, \"run_name\": \"Canceled\", \"run_properties\": null}, {\"run_id\": \"AutoML_5165bbd4-851f-4b10-81e0-9a9dbccbe98d_39\", \"run_number\": 44, \"metric\": null, \"status\": \"Canceled\", \"run_type\": \"azureml.scriptrun\", \"training_percent\": \"100\", \"start_time\": \"2021-01-30T21:46:36.675165Z\", \"end_time\": \"2021-01-30T21:46:46.110753Z\", \"created_time\": \"2021-01-30T21:46:26.93911Z\", \"created_time_dt\": \"2021-01-30T21:46:26.93911Z\", \"duration\": \"0:00:19\", \"iteration\": \"39\", \"goal\": null, \"run_name\": \"Canceled\", \"run_properties\": null}, {\"run_id\": \"AutoML_5165bbd4-851f-4b10-81e0-9a9dbccbe98d_40\", \"run_number\": 45, \"metric\": null, \"status\": \"Completed\", \"run_type\": \"azureml.scriptrun\", \"training_percent\": \"100\", \"start_time\": \"2021-01-30T21:46:56.660763Z\", \"end_time\": \"2021-01-30T21:48:32.383974Z\", \"created_time\": \"2021-01-30T21:46:46.67097Z\", \"created_time_dt\": \"2021-01-30T21:46:46.67097Z\", \"duration\": \"0:01:45\", \"iteration\": \"40\", \"goal\": \"accuracy_max\", \"run_name\": \"VotingEnsemble\", \"run_properties\": \"classification_labels=None,\\n                              estimators=[('29',\\n                                           Pipeline(memory=None,\\n                                                    steps=[('standardscalerwrapper',\\n                                                            <azureml.automl.runtime.shared.model_wrappers.StandardScalerWrapper object at 0x7f7b6075bcc0>\", \"primary_metric\": 0.79794365, \"best_metric\": 0.79794365}, {\"run_id\": \"AutoML_5165bbd4-851f-4b10-81e0-9a9dbccbe98d_41\", \"run_number\": 46, \"metric\": null, \"status\": \"Completed\", \"run_type\": \"azureml.scriptrun\", \"training_percent\": \"100\", \"start_time\": \"2021-01-30T21:46:58.135933Z\", \"end_time\": \"2021-01-30T21:48:49.605835Z\", \"created_time\": \"2021-01-30T21:46:46.710673Z\", \"created_time_dt\": \"2021-01-30T21:46:46.710673Z\", \"duration\": \"0:02:02\", \"iteration\": \"41\", \"goal\": \"accuracy_max\", \"run_name\": \"StackEnsemble\", \"run_properties\": \"base_learners=[('29',\\n                                        Pipeline(memory=None,\\n                                                 steps=[('standardscalerwrapper',\\n                                                         <azureml.automl.runtime.shared.model_wrappers.StandardScalerWrapper object at 0x7f9dd4689fd0>\", \"primary_metric\": 0.79538597, \"best_metric\": 0.79794365}], \"children_metrics\": {\"categories\": [0], \"series\": {\"precision_score_weighted\": [{\"categories\": [\"0\", \"1\", \"2\", \"3\", \"4\", \"5\", \"6\", \"7\", \"8\", \"9\", \"10\", \"11\", \"12\", \"13\", \"14\", \"15\", \"16\", \"17\", \"18\", \"19\", \"20\", \"21\", \"22\", \"23\", \"24\", \"25\", \"26\", \"27\", \"28\", \"29\", \"30\", \"31\", \"32\", \"33\", \"34\", \"35\", \"36\", \"40\", \"41\"], \"mode\": \"markers\", \"name\": \"precision_score_weighted\", \"stepped\": false, \"type\": \"scatter\", \"data\": [0.7915340009705881, 0.7869570975817286, 0.7363182332137271, 0.7262149359831289, 0.792372470362964, 0.7804482697990514, 0.7805905428339478, 0.7815337684377439, 0.7806755358374916, 0.7844612623257171, 0.7436689382458734, 0.7592375942652817, 0.7500731116448016, 0.7657482394713616, 0.7609637895969449, 0.7328025820278526, 0.7484316976454576, 0.760162494194301, 0.7551540431772046, 0.7837414445227757, 0.7873377355171168, 0.7784849420081634, 0.7775283342688901, 0.5635073887631035, 0.5635073887631035, 0.5635073887631035, 0.7693842673610441, 0.7223241353079762, 0.7411712129206149, 0.7939857773560227, 0.5635073887631035, 0.786745290878047, 0.7897450262335408, 0.7836704435081268, 0.7882322197987103, 0.5635073887631035, 0.7530440108888959, 0.7983447578957739, 0.7923901438647651]}, {\"categories\": [\"0\", \"1\", \"2\", \"3\", \"4\", \"5\", \"6\", \"7\", \"8\", \"9\", \"10\", \"11\", \"12\", \"13\", \"14\", \"15\", \"16\", \"17\", \"18\", \"19\", \"20\", \"21\", \"22\", \"23\", \"24\", \"25\", \"26\", \"27\", \"28\", \"29\", \"30\", \"31\", \"32\", \"33\", \"34\", \"35\", \"36\", \"40\", \"41\"], \"mode\": \"lines\", \"name\": \"precision_score_weighted_max\", \"stepped\": true, \"type\": \"scatter\", \"data\": [0.7915340009705881, 0.7915340009705881, 0.7915340009705881, 0.7915340009705881, 0.792372470362964, 0.792372470362964, 0.792372470362964, 0.792372470362964, 0.792372470362964, 0.792372470362964, 0.792372470362964, 0.792372470362964, 0.792372470362964, 0.792372470362964, 0.792372470362964, 0.792372470362964, 0.792372470362964, 0.792372470362964, 0.792372470362964, 0.792372470362964, 0.792372470362964, 0.792372470362964, 0.792372470362964, 0.792372470362964, 0.792372470362964, 0.792372470362964, 0.792372470362964, 0.792372470362964, 0.792372470362964, 0.7939857773560227, 0.7939857773560227, 0.7939857773560227, 0.7939857773560227, 0.7939857773560227, 0.7939857773560227, 0.7939857773560227, 0.7939857773560227, 0.7983447578957739, 0.7983447578957739]}], \"recall_score_macro\": [{\"categories\": [\"0\", \"1\", \"2\", \"3\", \"4\", \"5\", \"6\", \"7\", \"8\", \"9\", \"10\", \"11\", \"12\", \"13\", \"14\", \"15\", \"16\", \"17\", \"18\", \"19\", \"20\", \"21\", \"22\", \"23\", \"24\", \"25\", \"26\", \"27\", \"28\", \"29\", \"30\", \"31\", \"32\", \"33\", \"34\", \"35\", \"36\", \"40\", \"41\"], \"mode\": \"markers\", \"name\": \"recall_score_macro\", \"stepped\": false, \"type\": \"scatter\", \"data\": [0.7185357351109539, 0.70674775618263, 0.5781630143208806, 0.545017130588536, 0.7376908396344435, 0.7182315232777282, 0.6929817760520327, 0.6986872680916489, 0.6950451103907176, 0.7010780479809662, 0.5925356765815675, 0.6450016909739548, 0.6213795897104137, 0.6621071509840707, 0.6463106155008491, 0.5718942908151752, 0.6130414051420882, 0.6460721818964117, 0.6389128058483668, 0.6991212017020155, 0.7073058403939706, 0.688527356064579, 0.6892715844972459, 0.5, 0.5, 0.5, 0.6660261747336379, 0.5076611505480533, 0.5889570238754651, 0.7217398710163924, 0.5, 0.704376155987511, 0.7115517555590151, 0.7002156136362053, 0.7084813892825672, 0.5, 0.6288182726406933, 0.7308228193831514, 0.7184339759002365]}, {\"categories\": [\"0\", \"1\", \"2\", \"3\", \"4\", \"5\", \"6\", \"7\", \"8\", \"9\", \"10\", \"11\", \"12\", \"13\", \"14\", \"15\", \"16\", \"17\", \"18\", \"19\", \"20\", \"21\", \"22\", \"23\", \"24\", \"25\", \"26\", \"27\", \"28\", \"29\", \"30\", \"31\", \"32\", \"33\", \"34\", \"35\", \"36\", \"40\", \"41\"], \"mode\": \"lines\", \"name\": \"recall_score_macro_max\", \"stepped\": true, \"type\": \"scatter\", \"data\": [0.7185357351109539, 0.7185357351109539, 0.7185357351109539, 0.7185357351109539, 0.7376908396344435, 0.7376908396344435, 0.7376908396344435, 0.7376908396344435, 0.7376908396344435, 0.7376908396344435, 0.7376908396344435, 0.7376908396344435, 0.7376908396344435, 0.7376908396344435, 0.7376908396344435, 0.7376908396344435, 0.7376908396344435, 0.7376908396344435, 0.7376908396344435, 0.7376908396344435, 0.7376908396344435, 0.7376908396344435, 0.7376908396344435, 0.7376908396344435, 0.7376908396344435, 0.7376908396344435, 0.7376908396344435, 0.7376908396344435, 0.7376908396344435, 0.7376908396344435, 0.7376908396344435, 0.7376908396344435, 0.7376908396344435, 0.7376908396344435, 0.7376908396344435, 0.7376908396344435, 0.7376908396344435, 0.7376908396344435, 0.7376908396344435]}], \"AUC_macro\": [{\"categories\": [\"0\", \"1\", \"2\", \"3\", \"4\", \"5\", \"6\", \"7\", \"8\", \"9\", \"10\", \"11\", \"12\", \"13\", \"14\", \"15\", \"16\", \"17\", \"18\", \"19\", \"20\", \"21\", \"22\", \"23\", \"24\", \"25\", \"26\", \"27\", \"28\", \"29\", \"30\", \"31\", \"32\", \"33\", \"34\", \"35\", \"36\", \"40\", \"41\"], \"mode\": \"markers\", \"name\": \"AUC_macro\", \"stepped\": false, \"type\": \"scatter\", \"data\": [0.7990651914976759, 0.8000310122838016, 0.7899058610201337, 0.7817103430149659, 0.7846257585832801, 0.7735851594405989, 0.7989278903599801, 0.7943549426976112, 0.797562645303005, 0.7943020549112128, 0.7892779770399219, 0.7936654097030906, 0.7742093739488229, 0.7886061272884898, 0.7960830013651361, 0.788993913753696, 0.7945258250020654, 0.795044011096176, 0.7835853582110703, 0.7981726185991438, 0.7977174962572139, 0.7973303663591758, 0.7946659342950235, 0.7822480649119413, 0.792866033249932, 0.7704125934467152, 0.7931475520451702, 0.7942540653976293, 0.7805246982498483, 0.8008406993508903, 0.7889607054537969, 0.7987124194379321, 0.7985526119895939, 0.7970140065802606, 0.7980740005221165, 0.7661215257019487, 0.7656540114900858, 0.7991412705729063, 0.8016409423044394]}, {\"categories\": [\"0\", \"1\", \"2\", \"3\", \"4\", \"5\", \"6\", \"7\", \"8\", \"9\", \"10\", \"11\", \"12\", \"13\", \"14\", \"15\", \"16\", \"17\", \"18\", \"19\", \"20\", \"21\", \"22\", \"23\", \"24\", \"25\", \"26\", \"27\", \"28\", \"29\", \"30\", \"31\", \"32\", \"33\", \"34\", \"35\", \"36\", \"40\", \"41\"], \"mode\": \"lines\", \"name\": \"AUC_macro_max\", \"stepped\": true, \"type\": \"scatter\", \"data\": [0.7990651914976759, 0.8000310122838016, 0.8000310122838016, 0.8000310122838016, 0.8000310122838016, 0.8000310122838016, 0.8000310122838016, 0.8000310122838016, 0.8000310122838016, 0.8000310122838016, 0.8000310122838016, 0.8000310122838016, 0.8000310122838016, 0.8000310122838016, 0.8000310122838016, 0.8000310122838016, 0.8000310122838016, 0.8000310122838016, 0.8000310122838016, 0.8000310122838016, 0.8000310122838016, 0.8000310122838016, 0.8000310122838016, 0.8000310122838016, 0.8000310122838016, 0.8000310122838016, 0.8000310122838016, 0.8000310122838016, 0.8000310122838016, 0.8008406993508903, 0.8008406993508903, 0.8008406993508903, 0.8008406993508903, 0.8008406993508903, 0.8008406993508903, 0.8008406993508903, 0.8008406993508903, 0.8008406993508903, 0.8016409423044394]}], \"recall_score_weighted\": [{\"categories\": [\"0\", \"1\", \"2\", \"3\", \"4\", \"5\", \"6\", \"7\", \"8\", \"9\", \"10\", \"11\", \"12\", \"13\", \"14\", \"15\", \"16\", \"17\", \"18\", \"19\", \"20\", \"21\", \"22\", \"23\", \"24\", \"25\", \"26\", \"27\", \"28\", \"29\", \"30\", \"31\", \"32\", \"33\", \"34\", \"35\", \"36\", \"40\", \"41\"], \"mode\": \"markers\", \"name\": \"recall_score_weighted\", \"stepped\": false, \"type\": \"scatter\", \"data\": [0.7938719347548757, 0.7934546025746452, 0.7668862657073462, 0.7603602001908396, 0.7486696404292201, 0.7049793901961201, 0.790322533621718, 0.788756785241157, 0.7894873788111381, 0.7920450216860694, 0.7713225641386143, 0.779204465384848, 0.7747159748867741, 0.7823366705739192, 0.7810313512064255, 0.7651111223732989, 0.7743502080870865, 0.7802484020862659, 0.7764382994677526, 0.7923062817396157, 0.7935587414831975, 0.7891741991630741, 0.7875038895419142, 0.750652162421821, 0.750652162421821, 0.750652162421821, 0.7854683853128718, 0.7524269106710502, 0.7697043648425737, 0.7962211635765585, 0.750652162421821, 0.7942372519752878, 0.7954380373494114, 0.7914186896371704, 0.7944986210177494, 0.750652162421821, 0.7763339017105265, 0.79794365164091, 0.7953859678951353]}, {\"categories\": [\"0\", \"1\", \"2\", \"3\", \"4\", \"5\", \"6\", \"7\", \"8\", \"9\", \"10\", \"11\", \"12\", \"13\", \"14\", \"15\", \"16\", \"17\", \"18\", \"19\", \"20\", \"21\", \"22\", \"23\", \"24\", \"25\", \"26\", \"27\", \"28\", \"29\", \"30\", \"31\", \"32\", \"33\", \"34\", \"35\", \"36\", \"40\", \"41\"], \"mode\": \"lines\", \"name\": \"recall_score_weighted_max\", \"stepped\": true, \"type\": \"scatter\", \"data\": [0.7938719347548757, 0.7938719347548757, 0.7938719347548757, 0.7938719347548757, 0.7938719347548757, 0.7938719347548757, 0.7938719347548757, 0.7938719347548757, 0.7938719347548757, 0.7938719347548757, 0.7938719347548757, 0.7938719347548757, 0.7938719347548757, 0.7938719347548757, 0.7938719347548757, 0.7938719347548757, 0.7938719347548757, 0.7938719347548757, 0.7938719347548757, 0.7938719347548757, 0.7938719347548757, 0.7938719347548757, 0.7938719347548757, 0.7938719347548757, 0.7938719347548757, 0.7938719347548757, 0.7938719347548757, 0.7938719347548757, 0.7938719347548757, 0.7962211635765585, 0.7962211635765585, 0.7962211635765585, 0.7962211635765585, 0.7962211635765585, 0.7962211635765585, 0.7962211635765585, 0.7962211635765585, 0.79794365164091, 0.79794365164091]}], \"matthews_correlation\": [{\"categories\": [\"0\", \"1\", \"2\", \"3\", \"4\", \"5\", \"6\", \"7\", \"8\", \"9\", \"10\", \"11\", \"12\", \"13\", \"14\", \"15\", \"16\", \"17\", \"18\", \"19\", \"20\", \"21\", \"22\", \"23\", \"24\", \"25\", \"26\", \"27\", \"28\", \"29\", \"30\", \"31\", \"32\", \"33\", \"34\", \"35\", \"36\", \"40\", \"41\"], \"mode\": \"markers\", \"name\": \"matthews_correlation\", \"stepped\": false, \"type\": \"scatter\", \"data\": [0.4427272506371036, 0.4295693559896157, 0.24094552284057108, 0.17449795152774267, 0.4295820317191777, 0.3833005883573569, 0.41085716389351346, 0.4146956164921714, 0.41173009475686967, 0.4219547848356259, 0.2705902073685108, 0.34272060486322775, 0.3087813098857196, 0.3659084850473814, 0.347100099854032, 0.2308689768655206, 0.29877126688242794, 0.345461643504064, 0.3311909940540378, 0.4199961515286244, 0.43045992788170384, 0.40454756838861217, 0.4028141670112998, 0.0, 0.0, 0.0, 0.3751986735169582, 0.0696890686011011, 0.26282079282377946, 0.4492025911619938, 0.0, 0.42830890085176626, 0.43723421400942214, 0.42002516654528854, 0.4328918690443979, 0.0, 0.3200560511374211, 0.4609872519472173, 0.4447251453722491]}, {\"categories\": [\"0\", \"1\", \"2\", \"3\", \"4\", \"5\", \"6\", \"7\", \"8\", \"9\", \"10\", \"11\", \"12\", \"13\", \"14\", \"15\", \"16\", \"17\", \"18\", \"19\", \"20\", \"21\", \"22\", \"23\", \"24\", \"25\", \"26\", \"27\", \"28\", \"29\", \"30\", \"31\", \"32\", \"33\", \"34\", \"35\", \"36\", \"40\", \"41\"], \"mode\": \"lines\", \"name\": \"matthews_correlation_max\", \"stepped\": true, \"type\": \"scatter\", \"data\": [0.4427272506371036, 0.4427272506371036, 0.4427272506371036, 0.4427272506371036, 0.4427272506371036, 0.4427272506371036, 0.4427272506371036, 0.4427272506371036, 0.4427272506371036, 0.4427272506371036, 0.4427272506371036, 0.4427272506371036, 0.4427272506371036, 0.4427272506371036, 0.4427272506371036, 0.4427272506371036, 0.4427272506371036, 0.4427272506371036, 0.4427272506371036, 0.4427272506371036, 0.4427272506371036, 0.4427272506371036, 0.4427272506371036, 0.4427272506371036, 0.4427272506371036, 0.4427272506371036, 0.4427272506371036, 0.4427272506371036, 0.4427272506371036, 0.4492025911619938, 0.4492025911619938, 0.4492025911619938, 0.4492025911619938, 0.4492025911619938, 0.4492025911619938, 0.4492025911619938, 0.4492025911619938, 0.4609872519472173, 0.4609872519472173]}], \"norm_macro_recall\": [{\"categories\": [\"0\", \"1\", \"2\", \"3\", \"4\", \"5\", \"6\", \"7\", \"8\", \"9\", \"10\", \"11\", \"12\", \"13\", \"14\", \"15\", \"16\", \"17\", \"18\", \"19\", \"20\", \"21\", \"22\", \"23\", \"24\", \"25\", \"26\", \"27\", \"28\", \"29\", \"30\", \"31\", \"32\", \"33\", \"34\", \"35\", \"36\", \"40\", \"41\"], \"mode\": \"markers\", \"name\": \"norm_macro_recall\", \"stepped\": false, \"type\": \"scatter\", \"data\": [0.43707147022190806, 0.41349551236526, 0.15632602864176123, 0.09003426117707196, 0.47538167926888697, 0.4364630465554565, 0.38596355210406535, 0.39737453618329777, 0.39009022078143507, 0.40215609596193236, 0.18507135316313503, 0.29000338194790937, 0.2427591794208274, 0.3242143019681415, 0.2926212310016981, 0.1437885816303505, 0.22608281028417626, 0.2921443637928233, 0.2778256116967337, 0.398242403404031, 0.41461168078794125, 0.3770547121291582, 0.37854316899449186, 0.0, 0.0, 0.0, 0.3320523494672757, 0.015322301096106638, 0.17791404775093028, 0.4434797420327847, 0.0, 0.40875231197502193, 0.4231035111180301, 0.4004312272724106, 0.4169627785651344, 0.0, 0.2576365452813866, 0.461645638766303, 0.4368679518004731]}, {\"categories\": [\"0\", \"1\", \"2\", \"3\", \"4\", \"5\", \"6\", \"7\", \"8\", \"9\", \"10\", \"11\", \"12\", \"13\", \"14\", \"15\", \"16\", \"17\", \"18\", \"19\", \"20\", \"21\", \"22\", \"23\", \"24\", \"25\", \"26\", \"27\", \"28\", \"29\", \"30\", \"31\", \"32\", \"33\", \"34\", \"35\", \"36\", \"40\", \"41\"], \"mode\": \"lines\", \"name\": \"norm_macro_recall_max\", \"stepped\": true, \"type\": \"scatter\", \"data\": [0.43707147022190806, 0.43707147022190806, 0.43707147022190806, 0.43707147022190806, 0.47538167926888697, 0.47538167926888697, 0.47538167926888697, 0.47538167926888697, 0.47538167926888697, 0.47538167926888697, 0.47538167926888697, 0.47538167926888697, 0.47538167926888697, 0.47538167926888697, 0.47538167926888697, 0.47538167926888697, 0.47538167926888697, 0.47538167926888697, 0.47538167926888697, 0.47538167926888697, 0.47538167926888697, 0.47538167926888697, 0.47538167926888697, 0.47538167926888697, 0.47538167926888697, 0.47538167926888697, 0.47538167926888697, 0.47538167926888697, 0.47538167926888697, 0.47538167926888697, 0.47538167926888697, 0.47538167926888697, 0.47538167926888697, 0.47538167926888697, 0.47538167926888697, 0.47538167926888697, 0.47538167926888697, 0.47538167926888697, 0.47538167926888697]}], \"precision_score_micro\": [{\"categories\": [\"0\", \"1\", \"2\", \"3\", \"4\", \"5\", \"6\", \"7\", \"8\", \"9\", \"10\", \"11\", \"12\", \"13\", \"14\", \"15\", \"16\", \"17\", \"18\", \"19\", \"20\", \"21\", \"22\", \"23\", \"24\", \"25\", \"26\", \"27\", \"28\", \"29\", \"30\", \"31\", \"32\", \"33\", \"34\", \"35\", \"36\", \"40\", \"41\"], \"mode\": \"markers\", \"name\": \"precision_score_micro\", \"stepped\": false, \"type\": \"scatter\", \"data\": [0.7938719347548757, 0.7934546025746452, 0.7668862657073462, 0.7603602001908396, 0.7486696404292201, 0.7049793901961201, 0.790322533621718, 0.788756785241157, 0.7894873788111381, 0.7920450216860694, 0.7713225641386143, 0.779204465384848, 0.7747159748867741, 0.7823366705739192, 0.7810313512064255, 0.7651111223732989, 0.7743502080870865, 0.7802484020862659, 0.7764382994677526, 0.7923062817396157, 0.7935587414831975, 0.7891741991630741, 0.7875038895419142, 0.750652162421821, 0.750652162421821, 0.750652162421821, 0.7854683853128718, 0.7524269106710502, 0.7697043648425737, 0.7962211635765585, 0.750652162421821, 0.7942372519752878, 0.7954380373494114, 0.7914186896371704, 0.7944986210177494, 0.750652162421821, 0.7763339017105265, 0.79794365164091, 0.7953859678951353]}, {\"categories\": [\"0\", \"1\", \"2\", \"3\", \"4\", \"5\", \"6\", \"7\", \"8\", \"9\", \"10\", \"11\", \"12\", \"13\", \"14\", \"15\", \"16\", \"17\", \"18\", \"19\", \"20\", \"21\", \"22\", \"23\", \"24\", \"25\", \"26\", \"27\", \"28\", \"29\", \"30\", \"31\", \"32\", \"33\", \"34\", \"35\", \"36\", \"40\", \"41\"], \"mode\": \"lines\", \"name\": \"precision_score_micro_max\", \"stepped\": true, \"type\": \"scatter\", \"data\": [0.7938719347548757, 0.7938719347548757, 0.7938719347548757, 0.7938719347548757, 0.7938719347548757, 0.7938719347548757, 0.7938719347548757, 0.7938719347548757, 0.7938719347548757, 0.7938719347548757, 0.7938719347548757, 0.7938719347548757, 0.7938719347548757, 0.7938719347548757, 0.7938719347548757, 0.7938719347548757, 0.7938719347548757, 0.7938719347548757, 0.7938719347548757, 0.7938719347548757, 0.7938719347548757, 0.7938719347548757, 0.7938719347548757, 0.7938719347548757, 0.7938719347548757, 0.7938719347548757, 0.7938719347548757, 0.7938719347548757, 0.7938719347548757, 0.7962211635765585, 0.7962211635765585, 0.7962211635765585, 0.7962211635765585, 0.7962211635765585, 0.7962211635765585, 0.7962211635765585, 0.7962211635765585, 0.79794365164091, 0.79794365164091]}], \"f1_score_macro\": [{\"categories\": [\"0\", \"1\", \"2\", \"3\", \"4\", \"5\", \"6\", \"7\", \"8\", \"9\", \"10\", \"11\", \"12\", \"13\", \"14\", \"15\", \"16\", \"17\", \"18\", \"19\", \"20\", \"21\", \"22\", \"23\", \"24\", \"25\", \"26\", \"27\", \"28\", \"29\", \"30\", \"31\", \"32\", \"33\", \"34\", \"35\", \"36\", \"40\", \"41\"], \"mode\": \"markers\", \"name\": \"f1_score_macro\", \"stepped\": false, \"type\": \"scatter\", \"data\": [0.7211387829956304, 0.7138393854710382, 0.5782974816486403, 0.5219815970018973, 0.7028317905410091, 0.6675002602336841, 0.7032133258271015, 0.7061730450866797, 0.704173953331607, 0.7093485180855096, 0.6006412080077271, 0.660154031893023, 0.6355935715655072, 0.6765422140147335, 0.6623688674634285, 0.5713662463458922, 0.626047648873396, 0.6618986695092295, 0.6539300232184007, 0.7083899484104815, 0.7142422154653466, 0.6995555350259887, 0.6992409183036342, 0.42877895948114375, 0.42877895948114375, 0.42877895948114375, 0.6809246815159989, 0.44754905322940264, 0.5956224090708521, 0.7243865858223767, 0.42877895948114375, 0.7127278556486455, 0.717916981261434, 0.7084985880841105, 0.7155308012707644, 0.42877895948114375, 0.6439657347807609, 0.730373670710948, 0.7219683225111594]}, {\"categories\": [\"0\", \"1\", \"2\", \"3\", \"4\", \"5\", \"6\", \"7\", \"8\", \"9\", \"10\", \"11\", \"12\", \"13\", \"14\", \"15\", \"16\", \"17\", \"18\", \"19\", \"20\", \"21\", \"22\", \"23\", \"24\", \"25\", \"26\", \"27\", \"28\", \"29\", \"30\", \"31\", \"32\", \"33\", \"34\", \"35\", \"36\", \"40\", \"41\"], \"mode\": \"lines\", \"name\": \"f1_score_macro_max\", \"stepped\": true, \"type\": \"scatter\", \"data\": [0.7211387829956304, 0.7211387829956304, 0.7211387829956304, 0.7211387829956304, 0.7211387829956304, 0.7211387829956304, 0.7211387829956304, 0.7211387829956304, 0.7211387829956304, 0.7211387829956304, 0.7211387829956304, 0.7211387829956304, 0.7211387829956304, 0.7211387829956304, 0.7211387829956304, 0.7211387829956304, 0.7211387829956304, 0.7211387829956304, 0.7211387829956304, 0.7211387829956304, 0.7211387829956304, 0.7211387829956304, 0.7211387829956304, 0.7211387829956304, 0.7211387829956304, 0.7211387829956304, 0.7211387829956304, 0.7211387829956304, 0.7211387829956304, 0.7243865858223767, 0.7243865858223767, 0.7243865858223767, 0.7243865858223767, 0.7243865858223767, 0.7243865858223767, 0.7243865858223767, 0.7243865858223767, 0.730373670710948, 0.730373670710948]}], \"balanced_accuracy\": [{\"categories\": [\"0\", \"1\", \"2\", \"3\", \"4\", \"5\", \"6\", \"7\", \"8\", \"9\", \"10\", \"11\", \"12\", \"13\", \"14\", \"15\", \"16\", \"17\", \"18\", \"19\", \"20\", \"21\", \"22\", \"23\", \"24\", \"25\", \"26\", \"27\", \"28\", \"29\", \"30\", \"31\", \"32\", \"33\", \"34\", \"35\", \"36\", \"40\", \"41\"], \"mode\": \"markers\", \"name\": \"balanced_accuracy\", \"stepped\": false, \"type\": \"scatter\", \"data\": [0.7185357351109539, 0.70674775618263, 0.5781630143208806, 0.545017130588536, 0.7376908396344435, 0.7182315232777282, 0.6929817760520327, 0.6986872680916489, 0.6950451103907176, 0.7010780479809662, 0.5925356765815675, 0.6450016909739548, 0.6213795897104137, 0.6621071509840707, 0.6463106155008491, 0.5718942908151752, 0.6130414051420882, 0.6460721818964117, 0.6389128058483668, 0.6991212017020155, 0.7073058403939706, 0.688527356064579, 0.6892715844972459, 0.5, 0.5, 0.5, 0.6660261747336379, 0.5076611505480533, 0.5889570238754651, 0.7217398710163924, 0.5, 0.704376155987511, 0.7115517555590151, 0.7002156136362053, 0.7084813892825672, 0.5, 0.6288182726406933, 0.7308228193831514, 0.7184339759002365]}, {\"categories\": [\"0\", \"1\", \"2\", \"3\", \"4\", \"5\", \"6\", \"7\", \"8\", \"9\", \"10\", \"11\", \"12\", \"13\", \"14\", \"15\", \"16\", \"17\", \"18\", \"19\", \"20\", \"21\", \"22\", \"23\", \"24\", \"25\", \"26\", \"27\", \"28\", \"29\", \"30\", \"31\", \"32\", \"33\", \"34\", \"35\", \"36\", \"40\", \"41\"], \"mode\": \"lines\", \"name\": \"balanced_accuracy_max\", \"stepped\": true, \"type\": \"scatter\", \"data\": [0.7185357351109539, 0.7185357351109539, 0.7185357351109539, 0.7185357351109539, 0.7376908396344435, 0.7376908396344435, 0.7376908396344435, 0.7376908396344435, 0.7376908396344435, 0.7376908396344435, 0.7376908396344435, 0.7376908396344435, 0.7376908396344435, 0.7376908396344435, 0.7376908396344435, 0.7376908396344435, 0.7376908396344435, 0.7376908396344435, 0.7376908396344435, 0.7376908396344435, 0.7376908396344435, 0.7376908396344435, 0.7376908396344435, 0.7376908396344435, 0.7376908396344435, 0.7376908396344435, 0.7376908396344435, 0.7376908396344435, 0.7376908396344435, 0.7376908396344435, 0.7376908396344435, 0.7376908396344435, 0.7376908396344435, 0.7376908396344435, 0.7376908396344435, 0.7376908396344435, 0.7376908396344435, 0.7376908396344435, 0.7376908396344435]}], \"log_loss\": [{\"categories\": [\"0\", \"1\", \"2\", \"3\", \"4\", \"5\", \"6\", \"7\", \"8\", \"9\", \"10\", \"11\", \"12\", \"13\", \"14\", \"15\", \"16\", \"17\", \"18\", \"19\", \"20\", \"21\", \"22\", \"23\", \"24\", \"25\", \"26\", \"27\", \"28\", \"29\", \"30\", \"31\", \"32\", \"33\", \"34\", \"35\", \"36\", \"40\", \"41\"], \"mode\": \"markers\", \"name\": \"log_loss\", \"stepped\": false, \"type\": \"scatter\", \"data\": [0.4400500364491352, 0.4386354114873188, 0.4639763466061814, 0.4781818666356442, 0.594050449506026, 0.5923446747319528, 0.4419084885909938, 0.4465308714829478, 0.4430078045245134, 0.49023356861968714, 0.47006774110136346, 0.45083173871659293, 0.5170384212089658, 0.45102688085014797, 0.45476556600330237, 0.4632808996339672, 0.45752984348977216, 0.4570355391668353, 0.4586468416251289, 0.44039219332130414, 0.4447231666489415, 0.4437373684305149, 0.44791755767671343, 0.48189191963462835, 0.4870635278332668, 0.5512152364976773, 0.4476260609379203, 0.4705308635066706, 0.47547185752115056, 0.43612378503693233, 0.5615656597551668, 0.44077356442311855, 0.44038526464954, 0.4453963504394684, 0.4400993920817727, 0.5616413062332134, 0.5141956104249849, 0.45951820123825043, 0.4366809833080373]}, {\"categories\": [\"0\", \"1\", \"2\", \"3\", \"4\", \"5\", \"6\", \"7\", \"8\", \"9\", \"10\", \"11\", \"12\", \"13\", \"14\", \"15\", \"16\", \"17\", \"18\", \"19\", \"20\", \"21\", \"22\", \"23\", \"24\", \"25\", \"26\", \"27\", \"28\", \"29\", \"30\", \"31\", \"32\", \"33\", \"34\", \"35\", \"36\", \"40\", \"41\"], \"mode\": \"lines\", \"name\": \"log_loss_min\", \"stepped\": true, \"type\": \"scatter\", \"data\": [0.4400500364491352, 0.4386354114873188, 0.4386354114873188, 0.4386354114873188, 0.4386354114873188, 0.4386354114873188, 0.4386354114873188, 0.4386354114873188, 0.4386354114873188, 0.4386354114873188, 0.4386354114873188, 0.4386354114873188, 0.4386354114873188, 0.4386354114873188, 0.4386354114873188, 0.4386354114873188, 0.4386354114873188, 0.4386354114873188, 0.4386354114873188, 0.4386354114873188, 0.4386354114873188, 0.4386354114873188, 0.4386354114873188, 0.4386354114873188, 0.4386354114873188, 0.4386354114873188, 0.4386354114873188, 0.4386354114873188, 0.4386354114873188, 0.43612378503693233, 0.43612378503693233, 0.43612378503693233, 0.43612378503693233, 0.43612378503693233, 0.43612378503693233, 0.43612378503693233, 0.43612378503693233, 0.43612378503693233, 0.43612378503693233]}], \"recall_score_micro\": [{\"categories\": [\"0\", \"1\", \"2\", \"3\", \"4\", \"5\", \"6\", \"7\", \"8\", \"9\", \"10\", \"11\", \"12\", \"13\", \"14\", \"15\", \"16\", \"17\", \"18\", \"19\", \"20\", \"21\", \"22\", \"23\", \"24\", \"25\", \"26\", \"27\", \"28\", \"29\", \"30\", \"31\", \"32\", \"33\", \"34\", \"35\", \"36\", \"40\", \"41\"], \"mode\": \"markers\", \"name\": \"recall_score_micro\", \"stepped\": false, \"type\": \"scatter\", \"data\": [0.7938719347548757, 0.7934546025746452, 0.7668862657073462, 0.7603602001908396, 0.7486696404292201, 0.7049793901961201, 0.790322533621718, 0.788756785241157, 0.7894873788111381, 0.7920450216860694, 0.7713225641386143, 0.779204465384848, 0.7747159748867741, 0.7823366705739192, 0.7810313512064255, 0.7651111223732989, 0.7743502080870865, 0.7802484020862659, 0.7764382994677526, 0.7923062817396157, 0.7935587414831975, 0.7891741991630741, 0.7875038895419142, 0.750652162421821, 0.750652162421821, 0.750652162421821, 0.7854683853128718, 0.7524269106710502, 0.7697043648425737, 0.7962211635765585, 0.750652162421821, 0.7942372519752878, 0.7954380373494114, 0.7914186896371704, 0.7944986210177494, 0.750652162421821, 0.7763339017105265, 0.79794365164091, 0.7953859678951353]}, {\"categories\": [\"0\", \"1\", \"2\", \"3\", \"4\", \"5\", \"6\", \"7\", \"8\", \"9\", \"10\", \"11\", \"12\", \"13\", \"14\", \"15\", \"16\", \"17\", \"18\", \"19\", \"20\", \"21\", \"22\", \"23\", \"24\", \"25\", \"26\", \"27\", \"28\", \"29\", \"30\", \"31\", \"32\", \"33\", \"34\", \"35\", \"36\", \"40\", \"41\"], \"mode\": \"lines\", \"name\": \"recall_score_micro_max\", \"stepped\": true, \"type\": \"scatter\", \"data\": [0.7938719347548757, 0.7938719347548757, 0.7938719347548757, 0.7938719347548757, 0.7938719347548757, 0.7938719347548757, 0.7938719347548757, 0.7938719347548757, 0.7938719347548757, 0.7938719347548757, 0.7938719347548757, 0.7938719347548757, 0.7938719347548757, 0.7938719347548757, 0.7938719347548757, 0.7938719347548757, 0.7938719347548757, 0.7938719347548757, 0.7938719347548757, 0.7938719347548757, 0.7938719347548757, 0.7938719347548757, 0.7938719347548757, 0.7938719347548757, 0.7938719347548757, 0.7938719347548757, 0.7938719347548757, 0.7938719347548757, 0.7938719347548757, 0.7962211635765585, 0.7962211635765585, 0.7962211635765585, 0.7962211635765585, 0.7962211635765585, 0.7962211635765585, 0.7962211635765585, 0.7962211635765585, 0.79794365164091, 0.79794365164091]}], \"average_precision_score_macro\": [{\"categories\": [\"0\", \"1\", \"2\", \"3\", \"4\", \"5\", \"6\", \"7\", \"8\", \"9\", \"10\", \"11\", \"12\", \"13\", \"14\", \"15\", \"16\", \"17\", \"18\", \"19\", \"20\", \"21\", \"22\", \"23\", \"24\", \"25\", \"26\", \"27\", \"28\", \"29\", \"30\", \"31\", \"32\", \"33\", \"34\", \"35\", \"36\", \"40\", \"41\"], \"mode\": \"markers\", \"name\": \"average_precision_score_macro\", \"stepped\": false, \"type\": \"scatter\", \"data\": [0.7225981494213273, 0.7220223491864692, 0.7172675850195049, 0.7093820853964066, 0.7124508020186682, 0.7042443689967786, 0.721855897410722, 0.7171707349292451, 0.7209492775577205, 0.7186373228864354, 0.7165672806502774, 0.7180811111237725, 0.6969244737176813, 0.7043531891453713, 0.7202070366941321, 0.7128682622874926, 0.7202265985382551, 0.7179055516473062, 0.7116104766523035, 0.7247560775848874, 0.7191591953079978, 0.7197880007095163, 0.7176668664575881, 0.7101539505812748, 0.7208698501511372, 0.7019556410284153, 0.7196863107238163, 0.7194988236588229, 0.7083528888748799, 0.7246084913838503, 0.7128419465183652, 0.7201277935230784, 0.7233641781957187, 0.718533238412119, 0.7239332975790724, 0.6984795111192081, 0.6785849402298433, 0.7237419589024919, 0.7254692215212186]}, {\"categories\": [\"0\", \"1\", \"2\", \"3\", \"4\", \"5\", \"6\", \"7\", \"8\", \"9\", \"10\", \"11\", \"12\", \"13\", \"14\", \"15\", \"16\", \"17\", \"18\", \"19\", \"20\", \"21\", \"22\", \"23\", \"24\", \"25\", \"26\", \"27\", \"28\", \"29\", \"30\", \"31\", \"32\", \"33\", \"34\", \"35\", \"36\", \"40\", \"41\"], \"mode\": \"lines\", \"name\": \"average_precision_score_macro_max\", \"stepped\": true, \"type\": \"scatter\", \"data\": [0.7225981494213273, 0.7225981494213273, 0.7225981494213273, 0.7225981494213273, 0.7225981494213273, 0.7225981494213273, 0.7225981494213273, 0.7225981494213273, 0.7225981494213273, 0.7225981494213273, 0.7225981494213273, 0.7225981494213273, 0.7225981494213273, 0.7225981494213273, 0.7225981494213273, 0.7225981494213273, 0.7225981494213273, 0.7225981494213273, 0.7225981494213273, 0.7247560775848874, 0.7247560775848874, 0.7247560775848874, 0.7247560775848874, 0.7247560775848874, 0.7247560775848874, 0.7247560775848874, 0.7247560775848874, 0.7247560775848874, 0.7247560775848874, 0.7247560775848874, 0.7247560775848874, 0.7247560775848874, 0.7247560775848874, 0.7247560775848874, 0.7247560775848874, 0.7247560775848874, 0.7247560775848874, 0.7247560775848874, 0.7254692215212186]}], \"weighted_accuracy\": [{\"categories\": [\"0\", \"1\", \"2\", \"3\", \"4\", \"5\", \"6\", \"7\", \"8\", \"9\", \"10\", \"11\", \"12\", \"13\", \"14\", \"15\", \"16\", \"17\", \"18\", \"19\", \"20\", \"21\", \"22\", \"23\", \"24\", \"25\", \"26\", \"27\", \"28\", \"29\", \"30\", \"31\", \"32\", \"33\", \"34\", \"35\", \"36\", \"40\", \"41\"], \"mode\": \"markers\", \"name\": \"weighted_accuracy\", \"stepped\": false, \"type\": \"scatter\", \"data\": [0.8389676964840191, 0.8453554370927667, 0.8796788863240697, 0.8892013997198902, 0.7553084419221525, 0.6969392726288076, 0.8485809697575284, 0.8426603172514234, 0.8460026064206294, 0.846504833463165, 0.8782085410116608, 0.8595706983427867, 0.8664437873589131, 0.8542387663353834, 0.8616090754683409, 0.8806696025942606, 0.8708692047199887, 0.8605023643936678, 0.8586992012177067, 0.848054821060658, 0.8451942356754408, 0.8494193441609784, 0.84631643733006, 0.9005442636628962, 0.9005442636628962, 0.9005442636628962, 0.8569309962645579, 0.8987648626756977, 0.8777636955068996, 0.8407966176903214, 0.9005442636628962, 0.8480464508887062, 0.845626266803398, 0.8460378303067551, 0.8459626113179809, 0.9005442636628962, 0.8645787058455685, 0.8381013821455708, 0.8414561176610622]}, {\"categories\": [\"0\", \"1\", \"2\", \"3\", \"4\", \"5\", \"6\", \"7\", \"8\", \"9\", \"10\", \"11\", \"12\", \"13\", \"14\", \"15\", \"16\", \"17\", \"18\", \"19\", \"20\", \"21\", \"22\", \"23\", \"24\", \"25\", \"26\", \"27\", \"28\", \"29\", \"30\", \"31\", \"32\", \"33\", \"34\", \"35\", \"36\", \"40\", \"41\"], \"mode\": \"lines\", \"name\": \"weighted_accuracy_max\", \"stepped\": true, \"type\": \"scatter\", \"data\": [0.8389676964840191, 0.8453554370927667, 0.8796788863240697, 0.8892013997198902, 0.8892013997198902, 0.8892013997198902, 0.8892013997198902, 0.8892013997198902, 0.8892013997198902, 0.8892013997198902, 0.8892013997198902, 0.8892013997198902, 0.8892013997198902, 0.8892013997198902, 0.8892013997198902, 0.8892013997198902, 0.8892013997198902, 0.8892013997198902, 0.8892013997198902, 0.8892013997198902, 0.8892013997198902, 0.8892013997198902, 0.8892013997198902, 0.9005442636628962, 0.9005442636628962, 0.9005442636628962, 0.9005442636628962, 0.9005442636628962, 0.9005442636628962, 0.9005442636628962, 0.9005442636628962, 0.9005442636628962, 0.9005442636628962, 0.9005442636628962, 0.9005442636628962, 0.9005442636628962, 0.9005442636628962, 0.9005442636628962, 0.9005442636628962]}], \"precision_score_macro\": [{\"categories\": [\"0\", \"1\", \"2\", \"3\", \"4\", \"5\", \"6\", \"7\", \"8\", \"9\", \"10\", \"11\", \"12\", \"13\", \"14\", \"15\", \"16\", \"17\", \"18\", \"19\", \"20\", \"21\", \"22\", \"23\", \"24\", \"25\", \"26\", \"27\", \"28\", \"29\", \"30\", \"31\", \"32\", \"33\", \"34\", \"35\", \"36\", \"40\", \"41\"], \"mode\": \"markers\", \"name\": \"precision_score_macro\", \"stepped\": false, \"type\": \"scatter\", \"data\": [0.7242722057598096, 0.7231782736777307, 0.6892846597339053, 0.683538542157685, 0.6941941891623523, 0.6683200235658175, 0.7187577432730852, 0.7164557026639303, 0.717339691687743, 0.7215317787275222, 0.697961506447435, 0.7028229006028679, 0.696613403433824, 0.7065124426104572, 0.7058722790568204, 0.6855251116895256, 0.6976889619752937, 0.7042687049785948, 0.697539082702883, 0.7215020412732306, 0.7235326606609894, 0.717114405085282, 0.7143861280252783, 0.3753260812109105, 0.3753260812109105, 0.3753260812109105, 0.7120548325051802, 0.6906752881685024, 0.6946539951836023, 0.7275405809327605, 0.3753260812109105, 0.7244895296204616, 0.7259436995557655, 0.7203993562058042, 0.7247603267877019, 0.3753260812109105, 0.6988921804582178, 0.7302062197256393, 0.7264376307894814]}, {\"categories\": [\"0\", \"1\", \"2\", \"3\", \"4\", \"5\", \"6\", \"7\", \"8\", \"9\", \"10\", \"11\", \"12\", \"13\", \"14\", \"15\", \"16\", \"17\", \"18\", \"19\", \"20\", \"21\", \"22\", \"23\", \"24\", \"25\", \"26\", \"27\", \"28\", \"29\", \"30\", \"31\", \"32\", \"33\", \"34\", \"35\", \"36\", \"40\", \"41\"], \"mode\": \"lines\", \"name\": \"precision_score_macro_max\", \"stepped\": true, \"type\": \"scatter\", \"data\": [0.7242722057598096, 0.7242722057598096, 0.7242722057598096, 0.7242722057598096, 0.7242722057598096, 0.7242722057598096, 0.7242722057598096, 0.7242722057598096, 0.7242722057598096, 0.7242722057598096, 0.7242722057598096, 0.7242722057598096, 0.7242722057598096, 0.7242722057598096, 0.7242722057598096, 0.7242722057598096, 0.7242722057598096, 0.7242722057598096, 0.7242722057598096, 0.7242722057598096, 0.7242722057598096, 0.7242722057598096, 0.7242722057598096, 0.7242722057598096, 0.7242722057598096, 0.7242722057598096, 0.7242722057598096, 0.7242722057598096, 0.7242722057598096, 0.7275405809327605, 0.7275405809327605, 0.7275405809327605, 0.7275405809327605, 0.7275405809327605, 0.7275405809327605, 0.7275405809327605, 0.7275405809327605, 0.7302062197256393, 0.7302062197256393]}], \"AUC_micro\": [{\"categories\": [\"0\", \"1\", \"2\", \"3\", \"4\", \"5\", \"6\", \"7\", \"8\", \"9\", \"10\", \"11\", \"12\", \"13\", \"14\", \"15\", \"16\", \"17\", \"18\", \"19\", \"20\", \"21\", \"22\", \"23\", \"24\", \"25\", \"26\", \"27\", \"28\", \"29\", \"30\", \"31\", \"32\", \"33\", \"34\", \"35\", \"36\", \"40\", \"41\"], \"mode\": \"markers\", \"name\": \"AUC_micro\", \"stepped\": false, \"type\": \"scatter\", \"data\": [0.8753836680167468, 0.8754741172813076, 0.8617861451223454, 0.8571027879359973, 0.7896679728507672, 0.7741168367127714, 0.8737943399553956, 0.8717037548487298, 0.8733778322518837, 0.8718927572615099, 0.8615718733733997, 0.8686225473676211, 0.8570179344676833, 0.8676696333510746, 0.8676998326437667, 0.8632725673465289, 0.8656399097429054, 0.8668212037829708, 0.8632712643827919, 0.8743862841051607, 0.8738513291738064, 0.8727414780101682, 0.8713050056721017, 0.8562941389570856, 0.860264836159262, 0.8518615097370693, 0.870231324905491, 0.8608312587928786, 0.8591692618897637, 0.8765552545405179, 0.8588129779989355, 0.8742517365486417, 0.8747457688343474, 0.8733076105583866, 0.8748247186514695, 0.8502674786946981, 0.8537117506426911, 0.8756433212553245, 0.8769378423373226]}, {\"categories\": [\"0\", \"1\", \"2\", \"3\", \"4\", \"5\", \"6\", \"7\", \"8\", \"9\", \"10\", \"11\", \"12\", \"13\", \"14\", \"15\", \"16\", \"17\", \"18\", \"19\", \"20\", \"21\", \"22\", \"23\", \"24\", \"25\", \"26\", \"27\", \"28\", \"29\", \"30\", \"31\", \"32\", \"33\", \"34\", \"35\", \"36\", \"40\", \"41\"], \"mode\": \"lines\", \"name\": \"AUC_micro_max\", \"stepped\": true, \"type\": \"scatter\", \"data\": [0.8753836680167468, 0.8754741172813076, 0.8754741172813076, 0.8754741172813076, 0.8754741172813076, 0.8754741172813076, 0.8754741172813076, 0.8754741172813076, 0.8754741172813076, 0.8754741172813076, 0.8754741172813076, 0.8754741172813076, 0.8754741172813076, 0.8754741172813076, 0.8754741172813076, 0.8754741172813076, 0.8754741172813076, 0.8754741172813076, 0.8754741172813076, 0.8754741172813076, 0.8754741172813076, 0.8754741172813076, 0.8754741172813076, 0.8754741172813076, 0.8754741172813076, 0.8754741172813076, 0.8754741172813076, 0.8754741172813076, 0.8754741172813076, 0.8765552545405179, 0.8765552545405179, 0.8765552545405179, 0.8765552545405179, 0.8765552545405179, 0.8765552545405179, 0.8765552545405179, 0.8765552545405179, 0.8765552545405179, 0.8769378423373226]}], \"AUC_weighted\": [{\"categories\": [\"0\", \"1\", \"2\", \"3\", \"4\", \"5\", \"6\", \"7\", \"8\", \"9\", \"10\", \"11\", \"12\", \"13\", \"14\", \"15\", \"16\", \"17\", \"18\", \"19\", \"20\", \"21\", \"22\", \"23\", \"24\", \"25\", \"26\", \"27\", \"28\", \"29\", \"30\", \"31\", \"32\", \"33\", \"34\", \"35\", \"36\", \"40\", \"41\"], \"mode\": \"markers\", \"name\": \"AUC_weighted\", \"stepped\": false, \"type\": \"scatter\", \"data\": [0.7990651914976759, 0.8000309772632157, 0.7899058610201337, 0.7817103430149658, 0.7846257585832802, 0.7735851594405989, 0.7989278903599801, 0.7943549426976113, 0.797562645303005, 0.7943020549112128, 0.7892779770399219, 0.7936654097030906, 0.774209373948823, 0.7886061272884898, 0.7960830013651361, 0.788993913753696, 0.7945258250020655, 0.7950440110961758, 0.7835853582110703, 0.7981726185991438, 0.7977174962572139, 0.7973303663591758, 0.7946659342950235, 0.7822480649119414, 0.792866033249932, 0.7704125934467152, 0.7931475520451702, 0.7942540653976294, 0.7805246982498483, 0.8008406993508903, 0.7889607054537969, 0.798712419437932, 0.798552611989594, 0.7970140065802606, 0.7980740005221165, 0.7661215257019487, 0.7656540114900858, 0.7991412705729063, 0.8016409423044394]}, {\"categories\": [\"0\", \"1\", \"2\", \"3\", \"4\", \"5\", \"6\", \"7\", \"8\", \"9\", \"10\", \"11\", \"12\", \"13\", \"14\", \"15\", \"16\", \"17\", \"18\", \"19\", \"20\", \"21\", \"22\", \"23\", \"24\", \"25\", \"26\", \"27\", \"28\", \"29\", \"30\", \"31\", \"32\", \"33\", \"34\", \"35\", \"36\", \"40\", \"41\"], \"mode\": \"lines\", \"name\": \"AUC_weighted_max\", \"stepped\": true, \"type\": \"scatter\", \"data\": [0.7990651914976759, 0.8000309772632157, 0.8000309772632157, 0.8000309772632157, 0.8000309772632157, 0.8000309772632157, 0.8000309772632157, 0.8000309772632157, 0.8000309772632157, 0.8000309772632157, 0.8000309772632157, 0.8000309772632157, 0.8000309772632157, 0.8000309772632157, 0.8000309772632157, 0.8000309772632157, 0.8000309772632157, 0.8000309772632157, 0.8000309772632157, 0.8000309772632157, 0.8000309772632157, 0.8000309772632157, 0.8000309772632157, 0.8000309772632157, 0.8000309772632157, 0.8000309772632157, 0.8000309772632157, 0.8000309772632157, 0.8000309772632157, 0.8008406993508903, 0.8008406993508903, 0.8008406993508903, 0.8008406993508903, 0.8008406993508903, 0.8008406993508903, 0.8008406993508903, 0.8008406993508903, 0.8008406993508903, 0.8016409423044394]}], \"f1_score_micro\": [{\"categories\": [\"0\", \"1\", \"2\", \"3\", \"4\", \"5\", \"6\", \"7\", \"8\", \"9\", \"10\", \"11\", \"12\", \"13\", \"14\", \"15\", \"16\", \"17\", \"18\", \"19\", \"20\", \"21\", \"22\", \"23\", \"24\", \"25\", \"26\", \"27\", \"28\", \"29\", \"30\", \"31\", \"32\", \"33\", \"34\", \"35\", \"36\", \"40\", \"41\"], \"mode\": \"markers\", \"name\": \"f1_score_micro\", \"stepped\": false, \"type\": \"scatter\", \"data\": [0.7938719347548757, 0.7934546025746452, 0.7668862657073462, 0.7603602001908396, 0.7486696404292201, 0.7049793901961201, 0.790322533621718, 0.788756785241157, 0.789487378811138, 0.7920450216860694, 0.7713225641386143, 0.779204465384848, 0.7747159748867741, 0.7823366705739192, 0.7810313512064255, 0.7651111223732989, 0.7743502080870865, 0.7802484020862659, 0.7764382994677526, 0.7923062817396157, 0.7935587414831975, 0.7891741991630743, 0.7875038895419142, 0.750652162421821, 0.750652162421821, 0.750652162421821, 0.7854683853128716, 0.7524269106710502, 0.7697043648425737, 0.7962211635765585, 0.750652162421821, 0.7942372519752878, 0.7954380373494114, 0.7914186896371704, 0.7944986210177494, 0.750652162421821, 0.7763339017105265, 0.79794365164091, 0.7953859678951353]}, {\"categories\": [\"0\", \"1\", \"2\", \"3\", \"4\", \"5\", \"6\", \"7\", \"8\", \"9\", \"10\", \"11\", \"12\", \"13\", \"14\", \"15\", \"16\", \"17\", \"18\", \"19\", \"20\", \"21\", \"22\", \"23\", \"24\", \"25\", \"26\", \"27\", \"28\", \"29\", \"30\", \"31\", \"32\", \"33\", \"34\", \"35\", \"36\", \"40\", \"41\"], \"mode\": \"lines\", \"name\": \"f1_score_micro_max\", \"stepped\": true, \"type\": \"scatter\", \"data\": [0.7938719347548757, 0.7938719347548757, 0.7938719347548757, 0.7938719347548757, 0.7938719347548757, 0.7938719347548757, 0.7938719347548757, 0.7938719347548757, 0.7938719347548757, 0.7938719347548757, 0.7938719347548757, 0.7938719347548757, 0.7938719347548757, 0.7938719347548757, 0.7938719347548757, 0.7938719347548757, 0.7938719347548757, 0.7938719347548757, 0.7938719347548757, 0.7938719347548757, 0.7938719347548757, 0.7938719347548757, 0.7938719347548757, 0.7938719347548757, 0.7938719347548757, 0.7938719347548757, 0.7938719347548757, 0.7938719347548757, 0.7938719347548757, 0.7962211635765585, 0.7962211635765585, 0.7962211635765585, 0.7962211635765585, 0.7962211635765585, 0.7962211635765585, 0.7962211635765585, 0.7962211635765585, 0.79794365164091, 0.79794365164091]}], \"average_precision_score_micro\": [{\"categories\": [\"0\", \"1\", \"2\", \"3\", \"4\", \"5\", \"6\", \"7\", \"8\", \"9\", \"10\", \"11\", \"12\", \"13\", \"14\", \"15\", \"16\", \"17\", \"18\", \"19\", \"20\", \"21\", \"22\", \"23\", \"24\", \"25\", \"26\", \"27\", \"28\", \"29\", \"30\", \"31\", \"32\", \"33\", \"34\", \"35\", \"36\", \"40\", \"41\"], \"mode\": \"markers\", \"name\": \"average_precision_score_micro\", \"stepped\": false, \"type\": \"scatter\", \"data\": [0.8629785229519127, 0.8615514678408918, 0.8518385392836354, 0.8477059596525527, 0.7434381662518346, 0.751408951120297, 0.8615272315772424, 0.8592262025674282, 0.861362295977427, 0.8585248309052836, 0.8510994006649181, 0.856841418186155, 0.8417825124299234, 0.8486563851530022, 0.8538201207330698, 0.8490891433533048, 0.8536605412013808, 0.852079671848313, 0.8512968507651426, 0.8615103792908329, 0.8613506282319653, 0.8606245445995153, 0.8590176462262299, 0.8467669390771946, 0.8496310252227447, 0.8424927169837098, 0.856712935356447, 0.8510318335204261, 0.848008339746842, 0.8631566470994123, 0.8485200071817495, 0.8607755955407969, 0.8607370793488389, 0.860922082293353, 0.8610916608863232, 0.8393830929739687, 0.8289098404372595, 0.8631299758533725, 0.8640348280216965]}, {\"categories\": [\"0\", \"1\", \"2\", \"3\", \"4\", \"5\", \"6\", \"7\", \"8\", \"9\", \"10\", \"11\", \"12\", \"13\", \"14\", \"15\", \"16\", \"17\", \"18\", \"19\", \"20\", \"21\", \"22\", \"23\", \"24\", \"25\", \"26\", \"27\", \"28\", \"29\", \"30\", \"31\", \"32\", \"33\", \"34\", \"35\", \"36\", \"40\", \"41\"], \"mode\": \"lines\", \"name\": \"average_precision_score_micro_max\", \"stepped\": true, \"type\": \"scatter\", \"data\": [0.8629785229519127, 0.8629785229519127, 0.8629785229519127, 0.8629785229519127, 0.8629785229519127, 0.8629785229519127, 0.8629785229519127, 0.8629785229519127, 0.8629785229519127, 0.8629785229519127, 0.8629785229519127, 0.8629785229519127, 0.8629785229519127, 0.8629785229519127, 0.8629785229519127, 0.8629785229519127, 0.8629785229519127, 0.8629785229519127, 0.8629785229519127, 0.8629785229519127, 0.8629785229519127, 0.8629785229519127, 0.8629785229519127, 0.8629785229519127, 0.8629785229519127, 0.8629785229519127, 0.8629785229519127, 0.8629785229519127, 0.8629785229519127, 0.8631566470994123, 0.8631566470994123, 0.8631566470994123, 0.8631566470994123, 0.8631566470994123, 0.8631566470994123, 0.8631566470994123, 0.8631566470994123, 0.8631566470994123, 0.8640348280216965]}], \"accuracy\": [{\"categories\": [\"0\", \"1\", \"2\", \"3\", \"4\", \"5\", \"6\", \"7\", \"8\", \"9\", \"10\", \"11\", \"12\", \"13\", \"14\", \"15\", \"16\", \"17\", \"18\", \"19\", \"20\", \"21\", \"22\", \"23\", \"24\", \"25\", \"26\", \"27\", \"28\", \"29\", \"30\", \"31\", \"32\", \"33\", \"34\", \"35\", \"36\", \"40\", \"41\"], \"mode\": \"markers\", \"name\": \"accuracy\", \"stepped\": false, \"type\": \"scatter\", \"data\": [0.7938719347548757, 0.7934546025746452, 0.7668862657073462, 0.7603602001908396, 0.7486696404292201, 0.7049793901961201, 0.790322533621718, 0.788756785241157, 0.7894873788111381, 0.7920450216860694, 0.7713225641386143, 0.779204465384848, 0.7747159748867741, 0.7823366705739192, 0.7810313512064255, 0.7651111223732989, 0.7743502080870865, 0.7802484020862659, 0.7764382994677526, 0.7923062817396157, 0.7935587414831975, 0.7891741991630741, 0.7875038895419142, 0.750652162421821, 0.750652162421821, 0.750652162421821, 0.7854683853128718, 0.7524269106710502, 0.7697043648425737, 0.7962211635765585, 0.750652162421821, 0.7942372519752878, 0.7954380373494114, 0.7914186896371704, 0.7944986210177494, 0.750652162421821, 0.7763339017105265, 0.79794365164091, 0.7953859678951353]}, {\"categories\": [\"0\", \"1\", \"2\", \"3\", \"4\", \"5\", \"6\", \"7\", \"8\", \"9\", \"10\", \"11\", \"12\", \"13\", \"14\", \"15\", \"16\", \"17\", \"18\", \"19\", \"20\", \"21\", \"22\", \"23\", \"24\", \"25\", \"26\", \"27\", \"28\", \"29\", \"30\", \"31\", \"32\", \"33\", \"34\", \"35\", \"36\", \"40\", \"41\"], \"mode\": \"lines\", \"name\": \"accuracy_max\", \"stepped\": true, \"type\": \"scatter\", \"data\": [0.7938719347548757, 0.7938719347548757, 0.7938719347548757, 0.7938719347548757, 0.7938719347548757, 0.7938719347548757, 0.7938719347548757, 0.7938719347548757, 0.7938719347548757, 0.7938719347548757, 0.7938719347548757, 0.7938719347548757, 0.7938719347548757, 0.7938719347548757, 0.7938719347548757, 0.7938719347548757, 0.7938719347548757, 0.7938719347548757, 0.7938719347548757, 0.7938719347548757, 0.7938719347548757, 0.7938719347548757, 0.7938719347548757, 0.7938719347548757, 0.7938719347548757, 0.7938719347548757, 0.7938719347548757, 0.7938719347548757, 0.7938719347548757, 0.7962211635765585, 0.7962211635765585, 0.7962211635765585, 0.7962211635765585, 0.7962211635765585, 0.7962211635765585, 0.7962211635765585, 0.7962211635765585, 0.79794365164091, 0.79794365164091]}], \"average_precision_score_weighted\": [{\"categories\": [\"0\", \"1\", \"2\", \"3\", \"4\", \"5\", \"6\", \"7\", \"8\", \"9\", \"10\", \"11\", \"12\", \"13\", \"14\", \"15\", \"16\", \"17\", \"18\", \"19\", \"20\", \"21\", \"22\", \"23\", \"24\", \"25\", \"26\", \"27\", \"28\", \"29\", \"30\", \"31\", \"32\", \"33\", \"34\", \"35\", \"36\", \"40\", \"41\"], \"mode\": \"markers\", \"name\": \"average_precision_score_weighted\", \"stepped\": false, \"type\": \"scatter\", \"data\": [0.8137666459366596, 0.8125453153335593, 0.8096508199594068, 0.8043157318677189, 0.8051101753371173, 0.79962492031505, 0.8132449969816046, 0.8099073619156201, 0.8127488778636582, 0.8102561042118547, 0.8088054871201695, 0.810254232449714, 0.7944477829751398, 0.7996874682163333, 0.8104952010858826, 0.8048692692625472, 0.8108647654565555, 0.8088360751908004, 0.8047902896093024, 0.8141522604602225, 0.8117011632105703, 0.811947005933251, 0.8102716501375085, 0.804558532290591, 0.8110581188206611, 0.7983334430967945, 0.8099527450937893, 0.8112984150759717, 0.8027447060232152, 0.8144224740751792, 0.8066187976394736, 0.8115952426631141, 0.8128113453161536, 0.8112443512287406, 0.8131901604538291, 0.7947436406835017, 0.7794943390090315, 0.8142601336181112, 0.815336866591619]}, {\"categories\": [\"0\", \"1\", \"2\", \"3\", \"4\", \"5\", \"6\", \"7\", \"8\", \"9\", \"10\", \"11\", \"12\", \"13\", \"14\", \"15\", \"16\", \"17\", \"18\", \"19\", \"20\", \"21\", \"22\", \"23\", \"24\", \"25\", \"26\", \"27\", \"28\", \"29\", \"30\", \"31\", \"32\", \"33\", \"34\", \"35\", \"36\", \"40\", \"41\"], \"mode\": \"lines\", \"name\": \"average_precision_score_weighted_max\", \"stepped\": true, \"type\": \"scatter\", \"data\": [0.8137666459366596, 0.8137666459366596, 0.8137666459366596, 0.8137666459366596, 0.8137666459366596, 0.8137666459366596, 0.8137666459366596, 0.8137666459366596, 0.8137666459366596, 0.8137666459366596, 0.8137666459366596, 0.8137666459366596, 0.8137666459366596, 0.8137666459366596, 0.8137666459366596, 0.8137666459366596, 0.8137666459366596, 0.8137666459366596, 0.8137666459366596, 0.8141522604602225, 0.8141522604602225, 0.8141522604602225, 0.8141522604602225, 0.8141522604602225, 0.8141522604602225, 0.8141522604602225, 0.8141522604602225, 0.8141522604602225, 0.8141522604602225, 0.8144224740751792, 0.8144224740751792, 0.8144224740751792, 0.8144224740751792, 0.8144224740751792, 0.8144224740751792, 0.8144224740751792, 0.8144224740751792, 0.8144224740751792, 0.815336866591619]}], \"f1_score_weighted\": [{\"categories\": [\"0\", \"1\", \"2\", \"3\", \"4\", \"5\", \"6\", \"7\", \"8\", \"9\", \"10\", \"11\", \"12\", \"13\", \"14\", \"15\", \"16\", \"17\", \"18\", \"19\", \"20\", \"21\", \"22\", \"23\", \"24\", \"25\", \"26\", \"27\", \"28\", \"29\", \"30\", \"31\", \"32\", \"33\", \"34\", \"35\", \"36\", \"40\", \"41\"], \"mode\": \"markers\", \"name\": \"f1_score_weighted\", \"stepped\": false, \"type\": \"scatter\", \"data\": [0.7925337716003232, 0.7894967816270205, 0.7196722187676005, 0.6909621541430387, 0.7611899081682181, 0.7232752232572331, 0.7838012077704049, 0.7842649780555375, 0.7838165420385776, 0.7870346557925847, 0.731562399042949, 0.7608949409657786, 0.7484453124406575, 0.76928695402713, 0.7627095113376414, 0.7158056598946158, 0.7440366623850475, 0.7621769800915523, 0.7571514002774009, 0.786822676301786, 0.789707675780528, 0.7818003143218769, 0.7808966009908435, 0.6437464058813542, 0.6437464058813542, 0.6437464058813542, 0.7724660017707172, 0.6533635337027014, 0.7286357545510646, 0.7949418217808946, 0.6437464058813542, 0.7894222833763946, 0.7920661041421126, 0.7864101264866019, 0.7906794878357916, 0.6437464058813542, 0.7527781563948984, 0.7980539350674777, 0.7935916555694771]}, {\"categories\": [\"0\", \"1\", \"2\", \"3\", \"4\", \"5\", \"6\", \"7\", \"8\", \"9\", \"10\", \"11\", \"12\", \"13\", \"14\", \"15\", \"16\", \"17\", \"18\", \"19\", \"20\", \"21\", \"22\", \"23\", \"24\", \"25\", \"26\", \"27\", \"28\", \"29\", \"30\", \"31\", \"32\", \"33\", \"34\", \"35\", \"36\", \"40\", \"41\"], \"mode\": \"lines\", \"name\": \"f1_score_weighted_max\", \"stepped\": true, \"type\": \"scatter\", \"data\": [0.7925337716003232, 0.7925337716003232, 0.7925337716003232, 0.7925337716003232, 0.7925337716003232, 0.7925337716003232, 0.7925337716003232, 0.7925337716003232, 0.7925337716003232, 0.7925337716003232, 0.7925337716003232, 0.7925337716003232, 0.7925337716003232, 0.7925337716003232, 0.7925337716003232, 0.7925337716003232, 0.7925337716003232, 0.7925337716003232, 0.7925337716003232, 0.7925337716003232, 0.7925337716003232, 0.7925337716003232, 0.7925337716003232, 0.7925337716003232, 0.7925337716003232, 0.7925337716003232, 0.7925337716003232, 0.7925337716003232, 0.7925337716003232, 0.7949418217808946, 0.7949418217808946, 0.7949418217808946, 0.7949418217808946, 0.7949418217808946, 0.7949418217808946, 0.7949418217808946, 0.7949418217808946, 0.7980539350674777, 0.7980539350674777]}]}, \"metricName\": null, \"primaryMetricName\": \"accuracy\", \"showLegend\": false}, \"run_metrics\": [{\"name\": \"experiment_status\", \"run_id\": \"AutoML_5165bbd4-851f-4b10-81e0-9a9dbccbe98d\", \"categories\": [0, 1, 2, 3, 4, 5, 6, 7, 8, 9, 10, 11, 12, 13], \"series\": [{\"data\": [\"DatasetEvaluation\", \"FeaturesGeneration\", \"DatasetFeaturization\", \"DatasetFeaturizationCompleted\", \"DatasetCrossValidationSplit\", \"ModelSelection\", \"BestRunExplainModel\", \"ModelExplanationDataSetSetup\", \"PickSurrogateModel\", \"EngineeredFeatureExplanations\", \"EngineeredFeatureExplanations\", \"RawFeaturesExplanations\", \"RawFeaturesExplanations\", \"BestRunExplainModel\"]}]}, {\"name\": \"experiment_status_description\", \"run_id\": \"AutoML_5165bbd4-851f-4b10-81e0-9a9dbccbe98d\", \"categories\": [0, 1, 2, 3, 4, 5, 6, 7, 8, 9, 10, 11, 12, 13], \"series\": [{\"data\": [\"Gathering dataset statistics.\", \"Generating features for the dataset.\", \"Beginning to fit featurizers and featurize the dataset.\", \"Completed fit featurizers and featurizing the dataset.\", \"Generating individually featurized CV splits.\", \"Beginning model selection.\", \"Best run model explanations started\", \"Model explanations data setup completed\", \"Choosing LightGBM as the surrogate model for explanations\", \"Computation of engineered features started\", \"Computation of engineered features completed\", \"Computation of raw features started\", \"Computation of raw features completed\", \"Best run model explanations completed\"]}]}, {\"name\": \"precision_score_micro\", \"run_id\": \"AutoML_5165bbd4-851f-4b10-81e0-9a9dbccbe98d\", \"categories\": [0], \"series\": [{\"data\": [0.79794365164091]}]}, {\"name\": \"average_precision_score_macro\", \"run_id\": \"AutoML_5165bbd4-851f-4b10-81e0-9a9dbccbe98d\", \"categories\": [0], \"series\": [{\"data\": [0.7237419589024919]}]}, {\"name\": \"AUC_macro\", \"run_id\": \"AutoML_5165bbd4-851f-4b10-81e0-9a9dbccbe98d\", \"categories\": [0], \"series\": [{\"data\": [0.7991412705729063]}]}, {\"name\": \"f1_score_macro\", \"run_id\": \"AutoML_5165bbd4-851f-4b10-81e0-9a9dbccbe98d\", \"categories\": [0], \"series\": [{\"data\": [0.730373670710948]}]}, {\"name\": \"AUC_micro\", \"run_id\": \"AutoML_5165bbd4-851f-4b10-81e0-9a9dbccbe98d\", \"categories\": [0], \"series\": [{\"data\": [0.8756433212553245]}]}, {\"name\": \"precision_score_macro\", \"run_id\": \"AutoML_5165bbd4-851f-4b10-81e0-9a9dbccbe98d\", \"categories\": [0], \"series\": [{\"data\": [0.7302062197256393]}]}, {\"name\": \"f1_score_micro\", \"run_id\": \"AutoML_5165bbd4-851f-4b10-81e0-9a9dbccbe98d\", \"categories\": [0], \"series\": [{\"data\": [0.79794365164091]}]}, {\"name\": \"norm_macro_recall\", \"run_id\": \"AutoML_5165bbd4-851f-4b10-81e0-9a9dbccbe98d\", \"categories\": [0], \"series\": [{\"data\": [0.461645638766303]}]}, {\"name\": \"AUC_weighted\", \"run_id\": \"AutoML_5165bbd4-851f-4b10-81e0-9a9dbccbe98d\", \"categories\": [0], \"series\": [{\"data\": [0.7991412705729063]}]}, {\"name\": \"balanced_accuracy\", \"run_id\": \"AutoML_5165bbd4-851f-4b10-81e0-9a9dbccbe98d\", \"categories\": [0], \"series\": [{\"data\": [0.7308228193831514]}]}, {\"name\": \"recall_score_weighted\", \"run_id\": \"AutoML_5165bbd4-851f-4b10-81e0-9a9dbccbe98d\", \"categories\": [0], \"series\": [{\"data\": [0.79794365164091]}]}, {\"name\": \"precision_score_weighted\", \"run_id\": \"AutoML_5165bbd4-851f-4b10-81e0-9a9dbccbe98d\", \"categories\": [0], \"series\": [{\"data\": [0.7983447578957739]}]}, {\"name\": \"average_precision_score_micro\", \"run_id\": \"AutoML_5165bbd4-851f-4b10-81e0-9a9dbccbe98d\", \"categories\": [0], \"series\": [{\"data\": [0.8631299758533725]}]}, {\"name\": \"log_loss\", \"run_id\": \"AutoML_5165bbd4-851f-4b10-81e0-9a9dbccbe98d\", \"categories\": [0], \"series\": [{\"data\": [0.45951820123825043]}]}, {\"name\": \"average_precision_score_weighted\", \"run_id\": \"AutoML_5165bbd4-851f-4b10-81e0-9a9dbccbe98d\", \"categories\": [0], \"series\": [{\"data\": [0.8142601336181112]}]}, {\"name\": \"matthews_correlation\", \"run_id\": \"AutoML_5165bbd4-851f-4b10-81e0-9a9dbccbe98d\", \"categories\": [0], \"series\": [{\"data\": [0.4609872519472173]}]}, {\"name\": \"recall_score_macro\", \"run_id\": \"AutoML_5165bbd4-851f-4b10-81e0-9a9dbccbe98d\", \"categories\": [0], \"series\": [{\"data\": [0.7308228193831514]}]}, {\"name\": \"accuracy\", \"run_id\": \"AutoML_5165bbd4-851f-4b10-81e0-9a9dbccbe98d\", \"categories\": [0], \"series\": [{\"data\": [0.79794365164091]}]}, {\"name\": \"recall_score_micro\", \"run_id\": \"AutoML_5165bbd4-851f-4b10-81e0-9a9dbccbe98d\", \"categories\": [0], \"series\": [{\"data\": [0.79794365164091]}]}, {\"name\": \"f1_score_weighted\", \"run_id\": \"AutoML_5165bbd4-851f-4b10-81e0-9a9dbccbe98d\", \"categories\": [0], \"series\": [{\"data\": [0.7980539350674777]}]}, {\"name\": \"weighted_accuracy\", \"run_id\": \"AutoML_5165bbd4-851f-4b10-81e0-9a9dbccbe98d\", \"categories\": [0], \"series\": [{\"data\": [0.8381013821455708]}]}], \"run_logs\": \"\\nRun is completed.\", \"graph\": {}, \"widget_settings\": {\"childWidgetDisplay\": \"popup\", \"send_telemetry\": false, \"log_level\": \"INFO\", \"sdk_version\": \"1.20.0\"}, \"loading\": false}"
     },
     "metadata": {},
     "output_type": "display_data"
    }
   ],
   "source": [
    "RunDetails(remote_run).show()"
   ]
  },
  {
   "cell_type": "code",
   "execution_count": 9,
   "metadata": {
    "gather": {
     "logged": 1611957104738
    },
    "nteract": {
     "transient": {
      "deleting": false
     }
    }
   },
   "outputs": [
    {
     "data": {
      "text/plain": [
       "{'runId': 'AutoML_5165bbd4-851f-4b10-81e0-9a9dbccbe98d',\n",
       " 'target': 'cpu-cluster',\n",
       " 'status': 'Completed',\n",
       " 'startTimeUtc': '2021-01-30T21:23:17.989803Z',\n",
       " 'endTimeUtc': '2021-01-30T21:49:00.258062Z',\n",
       " 'properties': {'num_iterations': '1000',\n",
       "  'training_type': 'TrainFull',\n",
       "  'acquisition_function': 'EI',\n",
       "  'primary_metric': 'accuracy',\n",
       "  'train_split': '0',\n",
       "  'acquisition_parameter': '0',\n",
       "  'num_cross_validation': '5',\n",
       "  'target': 'cpu-cluster',\n",
       "  'AMLSettingsJsonString': '{\"path\":null,\"name\":\"jobchangeautoml\",\"subscription_id\":\"d4ad7261-832d-46b2-b093-22156001df5b\",\"resource_group\":\"aml-quickstarts-136651\",\"workspace_name\":\"quick-starts-ws-136651\",\"region\":\"southcentralus\",\"compute_target\":\"cpu-cluster\",\"spark_service\":null,\"azure_service\":\"remote\",\"many_models\":false,\"pipeline_fetch_max_batch_size\":1,\"iterations\":1000,\"primary_metric\":\"accuracy\",\"task_type\":\"classification\",\"data_script\":null,\"validation_size\":0.0,\"n_cross_validations\":5,\"y_min\":null,\"y_max\":null,\"num_classes\":null,\"featurization\":\"auto\",\"_ignore_package_version_incompatibilities\":false,\"is_timeseries\":false,\"max_cores_per_iteration\":1,\"max_concurrent_iterations\":4,\"iteration_timeout_minutes\":null,\"mem_in_mb\":null,\"enforce_time_on_windows\":false,\"experiment_timeout_minutes\":15,\"experiment_exit_score\":null,\"whitelist_models\":null,\"blacklist_algos\":[\"TensorFlowLinearClassifier\",\"TensorFlowDNN\"],\"supported_models\":[\"GradientBoosting\",\"KNN\",\"ExtremeRandomTrees\",\"DecisionTree\",\"LinearSVM\",\"BernoulliNaiveBayes\",\"MultinomialNaiveBayes\",\"LogisticRegression\",\"SGD\",\"AveragedPerceptronClassifier\",\"TensorFlowDNN\",\"TensorFlowLinearClassifier\",\"LightGBM\",\"SVM\",\"RandomForest\",\"XGBoostClassifier\"],\"auto_blacklist\":true,\"blacklist_samples_reached\":false,\"exclude_nan_labels\":true,\"verbosity\":20,\"_debug_log\":\"azureml_automl.log\",\"show_warnings\":false,\"model_explainability\":true,\"service_url\":null,\"sdk_url\":null,\"sdk_packages\":null,\"enable_onnx_compatible_models\":false,\"enable_split_onnx_featurizer_estimator_models\":false,\"vm_type\":\"STANDARD_D12_V2\",\"telemetry_verbosity\":20,\"send_telemetry\":true,\"enable_dnn\":false,\"scenario\":\"SDK-1.13.0\",\"environment_label\":null,\"force_text_dnn\":false,\"enable_feature_sweeping\":true,\"enable_early_stopping\":true,\"early_stopping_n_iters\":10,\"metrics\":null,\"enable_ensembling\":true,\"enable_stack_ensembling\":true,\"ensemble_iterations\":15,\"enable_tf\":false,\"enable_subsampling\":null,\"subsample_seed\":null,\"enable_nimbusml\":false,\"enable_streaming\":false,\"force_streaming\":false,\"track_child_runs\":true,\"allowed_private_models\":[],\"label_column_name\":\"target\",\"weight_column_name\":null,\"cv_split_column_names\":null,\"enable_local_managed\":false,\"_local_managed_run_id\":null,\"cost_mode\":1,\"lag_length\":0,\"metric_operation\":\"maximize\",\"preprocess\":true}',\n",
       "  'DataPrepJsonString': '{\\\\\"training_data\\\\\": \\\\\"{\\\\\\\\\\\\\"blocks\\\\\\\\\\\\\": [{\\\\\\\\\\\\\"id\\\\\\\\\\\\\": \\\\\\\\\\\\\"c2dee941-5b69-4017-94ab-b3e5fd4ec200\\\\\\\\\\\\\", \\\\\\\\\\\\\"type\\\\\\\\\\\\\": \\\\\\\\\\\\\"Microsoft.DPrep.GetDatastoreFilesBlock\\\\\\\\\\\\\", \\\\\\\\\\\\\"arguments\\\\\\\\\\\\\": {\\\\\\\\\\\\\"datastores\\\\\\\\\\\\\": [{\\\\\\\\\\\\\"datastoreName\\\\\\\\\\\\\": \\\\\\\\\\\\\"workspaceblobstore\\\\\\\\\\\\\", \\\\\\\\\\\\\"path\\\\\\\\\\\\\": \\\\\\\\\\\\\"UI/01-30-2021_091548_UTC/aug_train.csv\\\\\\\\\\\\\", \\\\\\\\\\\\\"resourceGroup\\\\\\\\\\\\\": \\\\\\\\\\\\\"aml-quickstarts-136651\\\\\\\\\\\\\", \\\\\\\\\\\\\"subscription\\\\\\\\\\\\\": \\\\\\\\\\\\\"d4ad7261-832d-46b2-b093-22156001df5b\\\\\\\\\\\\\", \\\\\\\\\\\\\"workspaceName\\\\\\\\\\\\\": \\\\\\\\\\\\\"quick-starts-ws-136651\\\\\\\\\\\\\"}]}, \\\\\\\\\\\\\"localData\\\\\\\\\\\\\": {}, \\\\\\\\\\\\\"isEnabled\\\\\\\\\\\\\": true, \\\\\\\\\\\\\"name\\\\\\\\\\\\\": null, \\\\\\\\\\\\\"annotation\\\\\\\\\\\\\": null}, {\\\\\\\\\\\\\"id\\\\\\\\\\\\\": \\\\\\\\\\\\\"5cde554f-de1d-438c-b52a-6bc393f200bc\\\\\\\\\\\\\", \\\\\\\\\\\\\"type\\\\\\\\\\\\\": \\\\\\\\\\\\\"Microsoft.DPrep.ParseDelimitedBlock\\\\\\\\\\\\\", \\\\\\\\\\\\\"arguments\\\\\\\\\\\\\": {\\\\\\\\\\\\\"columnHeadersMode\\\\\\\\\\\\\": 1, \\\\\\\\\\\\\"fileEncoding\\\\\\\\\\\\\": 0, \\\\\\\\\\\\\"handleQuotedLineBreaks\\\\\\\\\\\\\": false, \\\\\\\\\\\\\"preview\\\\\\\\\\\\\": false, \\\\\\\\\\\\\"separator\\\\\\\\\\\\\": \\\\\\\\\\\\\",\\\\\\\\\\\\\", \\\\\\\\\\\\\"skipRows\\\\\\\\\\\\\": 0, \\\\\\\\\\\\\"skipRowsMode\\\\\\\\\\\\\": 0}, \\\\\\\\\\\\\"localData\\\\\\\\\\\\\": {}, \\\\\\\\\\\\\"isEnabled\\\\\\\\\\\\\": true, \\\\\\\\\\\\\"name\\\\\\\\\\\\\": null, \\\\\\\\\\\\\"annotation\\\\\\\\\\\\\": null}, {\\\\\\\\\\\\\"id\\\\\\\\\\\\\": \\\\\\\\\\\\\"8d07053a-d56f-4154-84e0-3dd012de7096\\\\\\\\\\\\\", \\\\\\\\\\\\\"type\\\\\\\\\\\\\": \\\\\\\\\\\\\"Microsoft.DPrep.DropColumnsBlock\\\\\\\\\\\\\", \\\\\\\\\\\\\"arguments\\\\\\\\\\\\\": {\\\\\\\\\\\\\"columns\\\\\\\\\\\\\": {\\\\\\\\\\\\\"type\\\\\\\\\\\\\": 0, \\\\\\\\\\\\\"details\\\\\\\\\\\\\": {\\\\\\\\\\\\\"selectedColumns\\\\\\\\\\\\\": [\\\\\\\\\\\\\"Path\\\\\\\\\\\\\", \\\\\\\\\\\\\"enrollee_id\\\\\\\\\\\\\"]}}}, \\\\\\\\\\\\\"localData\\\\\\\\\\\\\": {}, \\\\\\\\\\\\\"isEnabled\\\\\\\\\\\\\": true, \\\\\\\\\\\\\"name\\\\\\\\\\\\\": null, \\\\\\\\\\\\\"annotation\\\\\\\\\\\\\": null}, {\\\\\\\\\\\\\"id\\\\\\\\\\\\\": \\\\\\\\\\\\\"d8221740-a07a-411d-b08a-47ff088b7c03\\\\\\\\\\\\\", \\\\\\\\\\\\\"type\\\\\\\\\\\\\": \\\\\\\\\\\\\"Microsoft.DPrep.SetColumnTypesBlock\\\\\\\\\\\\\", \\\\\\\\\\\\\"arguments\\\\\\\\\\\\\": {\\\\\\\\\\\\\"columnConversion\\\\\\\\\\\\\": [{\\\\\\\\\\\\\"column\\\\\\\\\\\\\": {\\\\\\\\\\\\\"type\\\\\\\\\\\\\": 2, \\\\\\\\\\\\\"details\\\\\\\\\\\\\": {\\\\\\\\\\\\\"selectedColumn\\\\\\\\\\\\\": \\\\\\\\\\\\\"Path\\\\\\\\\\\\\"}}, \\\\\\\\\\\\\"typeProperty\\\\\\\\\\\\\": 0}, {\\\\\\\\\\\\\"column\\\\\\\\\\\\\": {\\\\\\\\\\\\\"type\\\\\\\\\\\\\": 2, \\\\\\\\\\\\\"details\\\\\\\\\\\\\": {\\\\\\\\\\\\\"selectedColumn\\\\\\\\\\\\\": \\\\\\\\\\\\\"enrollee_id\\\\\\\\\\\\\"}}, \\\\\\\\\\\\\"typeProperty\\\\\\\\\\\\\": 2}, {\\\\\\\\\\\\\"column\\\\\\\\\\\\\": {\\\\\\\\\\\\\"type\\\\\\\\\\\\\": 2, \\\\\\\\\\\\\"details\\\\\\\\\\\\\": {\\\\\\\\\\\\\"selectedColumn\\\\\\\\\\\\\": \\\\\\\\\\\\\"city\\\\\\\\\\\\\"}}, \\\\\\\\\\\\\"typeProperty\\\\\\\\\\\\\": 0}, {\\\\\\\\\\\\\"column\\\\\\\\\\\\\": {\\\\\\\\\\\\\"type\\\\\\\\\\\\\": 2, \\\\\\\\\\\\\"details\\\\\\\\\\\\\": {\\\\\\\\\\\\\"selectedColumn\\\\\\\\\\\\\": \\\\\\\\\\\\\"city_development_index\\\\\\\\\\\\\"}}, \\\\\\\\\\\\\"typeProperty\\\\\\\\\\\\\": 3}, {\\\\\\\\\\\\\"column\\\\\\\\\\\\\": {\\\\\\\\\\\\\"type\\\\\\\\\\\\\": 2, \\\\\\\\\\\\\"details\\\\\\\\\\\\\": {\\\\\\\\\\\\\"selectedColumn\\\\\\\\\\\\\": \\\\\\\\\\\\\"gender\\\\\\\\\\\\\"}}, \\\\\\\\\\\\\"typeProperty\\\\\\\\\\\\\": 0}, {\\\\\\\\\\\\\"column\\\\\\\\\\\\\": {\\\\\\\\\\\\\"type\\\\\\\\\\\\\": 2, \\\\\\\\\\\\\"details\\\\\\\\\\\\\": {\\\\\\\\\\\\\"selectedColumn\\\\\\\\\\\\\": \\\\\\\\\\\\\"relevent_experience\\\\\\\\\\\\\"}}, \\\\\\\\\\\\\"typeProperty\\\\\\\\\\\\\": 0}, {\\\\\\\\\\\\\"column\\\\\\\\\\\\\": {\\\\\\\\\\\\\"type\\\\\\\\\\\\\": 2, \\\\\\\\\\\\\"details\\\\\\\\\\\\\": {\\\\\\\\\\\\\"selectedColumn\\\\\\\\\\\\\": \\\\\\\\\\\\\"enrolled_university\\\\\\\\\\\\\"}}, \\\\\\\\\\\\\"typeProperty\\\\\\\\\\\\\": 0}, {\\\\\\\\\\\\\"column\\\\\\\\\\\\\": {\\\\\\\\\\\\\"type\\\\\\\\\\\\\": 2, \\\\\\\\\\\\\"details\\\\\\\\\\\\\": {\\\\\\\\\\\\\"selectedColumn\\\\\\\\\\\\\": \\\\\\\\\\\\\"education_level\\\\\\\\\\\\\"}}, \\\\\\\\\\\\\"typeProperty\\\\\\\\\\\\\": 0}, {\\\\\\\\\\\\\"column\\\\\\\\\\\\\": {\\\\\\\\\\\\\"type\\\\\\\\\\\\\": 2, \\\\\\\\\\\\\"details\\\\\\\\\\\\\": {\\\\\\\\\\\\\"selectedColumn\\\\\\\\\\\\\": \\\\\\\\\\\\\"major_discipline\\\\\\\\\\\\\"}}, \\\\\\\\\\\\\"typeProperty\\\\\\\\\\\\\": 0}, {\\\\\\\\\\\\\"column\\\\\\\\\\\\\": {\\\\\\\\\\\\\"type\\\\\\\\\\\\\": 2, \\\\\\\\\\\\\"details\\\\\\\\\\\\\": {\\\\\\\\\\\\\"selectedColumn\\\\\\\\\\\\\": \\\\\\\\\\\\\"experience\\\\\\\\\\\\\"}}, \\\\\\\\\\\\\"typeProperty\\\\\\\\\\\\\": 0}, {\\\\\\\\\\\\\"column\\\\\\\\\\\\\": {\\\\\\\\\\\\\"type\\\\\\\\\\\\\": 2, \\\\\\\\\\\\\"details\\\\\\\\\\\\\": {\\\\\\\\\\\\\"selectedColumn\\\\\\\\\\\\\": \\\\\\\\\\\\\"company_size\\\\\\\\\\\\\"}}, \\\\\\\\\\\\\"typeProperty\\\\\\\\\\\\\": 0}, {\\\\\\\\\\\\\"column\\\\\\\\\\\\\": {\\\\\\\\\\\\\"type\\\\\\\\\\\\\": 2, \\\\\\\\\\\\\"details\\\\\\\\\\\\\": {\\\\\\\\\\\\\"selectedColumn\\\\\\\\\\\\\": \\\\\\\\\\\\\"company_type\\\\\\\\\\\\\"}}, \\\\\\\\\\\\\"typeProperty\\\\\\\\\\\\\": 0}, {\\\\\\\\\\\\\"column\\\\\\\\\\\\\": {\\\\\\\\\\\\\"type\\\\\\\\\\\\\": 2, \\\\\\\\\\\\\"details\\\\\\\\\\\\\": {\\\\\\\\\\\\\"selectedColumn\\\\\\\\\\\\\": \\\\\\\\\\\\\"last_new_job\\\\\\\\\\\\\"}}, \\\\\\\\\\\\\"typeProperty\\\\\\\\\\\\\": 0}, {\\\\\\\\\\\\\"column\\\\\\\\\\\\\": {\\\\\\\\\\\\\"type\\\\\\\\\\\\\": 2, \\\\\\\\\\\\\"details\\\\\\\\\\\\\": {\\\\\\\\\\\\\"selectedColumn\\\\\\\\\\\\\": \\\\\\\\\\\\\"training_hours\\\\\\\\\\\\\"}}, \\\\\\\\\\\\\"typeProperty\\\\\\\\\\\\\": 2}, {\\\\\\\\\\\\\"column\\\\\\\\\\\\\": {\\\\\\\\\\\\\"type\\\\\\\\\\\\\": 2, \\\\\\\\\\\\\"details\\\\\\\\\\\\\": {\\\\\\\\\\\\\"selectedColumn\\\\\\\\\\\\\": \\\\\\\\\\\\\"target\\\\\\\\\\\\\"}}, \\\\\\\\\\\\\"typeProperty\\\\\\\\\\\\\": 3}]}, \\\\\\\\\\\\\"localData\\\\\\\\\\\\\": {}, \\\\\\\\\\\\\"isEnabled\\\\\\\\\\\\\": true, \\\\\\\\\\\\\"name\\\\\\\\\\\\\": null, \\\\\\\\\\\\\"annotation\\\\\\\\\\\\\": null}], \\\\\\\\\\\\\"inspectors\\\\\\\\\\\\\": [], \\\\\\\\\\\\\"meta\\\\\\\\\\\\\": {\\\\\\\\\\\\\"savedDatasetId\\\\\\\\\\\\\": \\\\\\\\\\\\\"14f1a7af-68e9-4999-bbb8-a2a9271d9ddb\\\\\\\\\\\\\", \\\\\\\\\\\\\"datasetType\\\\\\\\\\\\\": \\\\\\\\\\\\\"tabular\\\\\\\\\\\\\", \\\\\\\\\\\\\"subscriptionId\\\\\\\\\\\\\": \\\\\\\\\\\\\"d4ad7261-832d-46b2-b093-22156001df5b\\\\\\\\\\\\\", \\\\\\\\\\\\\"workspaceId\\\\\\\\\\\\\": \\\\\\\\\\\\\"573d1cf8-c55a-49a9-b3b1-3db20a236244\\\\\\\\\\\\\", \\\\\\\\\\\\\"workspaceLocation\\\\\\\\\\\\\": \\\\\\\\\\\\\"southcentralus\\\\\\\\\\\\\"}}\\\\\", \\\\\"activities\\\\\": 0}',\n",
       "  'EnableSubsampling': None,\n",
       "  'runTemplate': 'AutoML',\n",
       "  'azureml.runsource': 'automl',\n",
       "  'display_task_type': 'classification',\n",
       "  'dependencies_versions': '{\"azureml-widgets\": \"1.20.0\", \"azureml-train\": \"1.20.0\", \"azureml-train-restclients-hyperdrive\": \"1.20.0\", \"azureml-train-core\": \"1.20.0\", \"azureml-train-automl\": \"1.20.0\", \"azureml-train-automl-runtime\": \"1.20.0\", \"azureml-train-automl-client\": \"1.20.0\", \"azureml-tensorboard\": \"1.20.0\", \"azureml-telemetry\": \"1.20.0\", \"azureml-sdk\": \"1.20.0\", \"azureml-samples\": \"0+unknown\", \"azureml-pipeline\": \"1.20.0\", \"azureml-pipeline-steps\": \"1.20.0\", \"azureml-pipeline-core\": \"1.20.0\", \"azureml-opendatasets\": \"1.20.0\", \"azureml-model-management-sdk\": \"1.0.1b6.post1\", \"azureml-mlflow\": \"1.20.0.post1\", \"azureml-interpret\": \"1.20.0\", \"azureml-explain-model\": \"1.20.0\", \"azureml-defaults\": \"1.20.0\", \"azureml-dataset-runtime\": \"1.20.0\", \"azureml-dataprep\": \"2.7.3\", \"azureml-dataprep-rslex\": \"1.5.0\", \"azureml-dataprep-native\": \"27.0.0\", \"azureml-datadrift\": \"1.20.0\", \"azureml-core\": \"1.20.0\", \"azureml-contrib-services\": \"1.20.0\", \"azureml-contrib-server\": \"1.20.0\", \"azureml-contrib-reinforcementlearning\": \"1.20.0\", \"azureml-contrib-pipeline-steps\": \"1.20.0\", \"azureml-contrib-notebook\": \"1.20.0\", \"azureml-contrib-interpret\": \"1.20.0\", \"azureml-contrib-gbdt\": \"1.20.0\", \"azureml-contrib-fairness\": \"1.20.0\", \"azureml-contrib-dataset\": \"1.20.0\", \"azureml-cli-common\": \"1.20.0\", \"azureml-automl-runtime\": \"1.20.0\", \"azureml-automl-core\": \"1.20.0\", \"azureml-accel-models\": \"1.20.0\"}',\n",
       "  '_aml_system_scenario_identification': 'Remote.Parent',\n",
       "  'ClientType': 'SDK',\n",
       "  'environment_cpu_name': 'AzureML-AutoML',\n",
       "  'environment_cpu_label': 'prod',\n",
       "  'environment_gpu_name': 'AzureML-AutoML-GPU',\n",
       "  'environment_gpu_label': 'prod',\n",
       "  'root_attribution': 'automl',\n",
       "  'attribution': 'AutoML',\n",
       "  'Orchestrator': 'AutoML',\n",
       "  'CancelUri': 'https://southcentralus.experiments.azureml.net/jasmine/v1.0/subscriptions/d4ad7261-832d-46b2-b093-22156001df5b/resourceGroups/aml-quickstarts-136651/providers/Microsoft.MachineLearningServices/workspaces/quick-starts-ws-136651/experimentids/38f35cec-daa8-4df2-a551-6231d7d2044c/cancel/AutoML_5165bbd4-851f-4b10-81e0-9a9dbccbe98d',\n",
       "  'ClientSdkVersion': '1.20.0.post1',\n",
       "  'snapshotId': '00000000-0000-0000-0000-000000000000',\n",
       "  'SetupRunId': 'AutoML_5165bbd4-851f-4b10-81e0-9a9dbccbe98d_setup',\n",
       "  'SetupRunContainerId': 'dcid.AutoML_5165bbd4-851f-4b10-81e0-9a9dbccbe98d_setup',\n",
       "  'FeaturizationRunJsonPath': 'featurizer_container.json',\n",
       "  'FeaturizationRunId': 'AutoML_5165bbd4-851f-4b10-81e0-9a9dbccbe98d_featurize',\n",
       "  'ProblemInfoJsonString': '{\"dataset_num_categorical\": 0, \"is_sparse\": true, \"subsampling\": false, \"dataset_classes\": 2, \"dataset_features\": 201, \"dataset_samples\": 19158, \"single_frequency_class_detected\": false}',\n",
       "  'ModelExplainRunId': 'AutoML_5165bbd4-851f-4b10-81e0-9a9dbccbe98d_ModelExplain'},\n",
       " 'inputDatasets': [{'dataset': {'id': '14f1a7af-68e9-4999-bbb8-a2a9271d9ddb'}, 'consumptionDetails': {'type': 'RunInput', 'inputName': 'training_data', 'mechanism': 'Direct'}}],\n",
       " 'outputDatasets': [],\n",
       " 'logFiles': {},\n",
       " 'submittedBy': 'ODL_User 136651'}"
      ]
     },
     "execution_count": 9,
     "metadata": {},
     "output_type": "execute_result"
    }
   ],
   "source": [
    "remote_run.wait_for_completion()\r\n"
   ]
  },
  {
   "cell_type": "markdown",
   "metadata": {},
   "source": [
    "## Best Model\n",
    "\n",
    "TODO: In the cell below, get the best model from the automl experiments and display all the properties of the model.\n",
    "\n"
   ]
  },
  {
   "cell_type": "code",
   "execution_count": 10,
   "metadata": {
    "collapsed": false,
    "gather": {
     "logged": 1611958175491
    },
    "jupyter": {
     "outputs_hidden": false,
     "source_hidden": false
    },
    "nteract": {
     "transient": {
      "deleting": false
     }
    }
   },
   "outputs": [],
   "source": [
    "best_run, fitted_model = remote_run.get_output()\r\n",
    "best_run_metrics = best_run.get_metrics()"
   ]
  },
  {
   "cell_type": "code",
   "execution_count": 11,
   "metadata": {
    "gather": {
     "logged": 1611958175654
    },
    "nteract": {
     "transient": {
      "deleting": false
     }
    }
   },
   "outputs": [
    {
     "data": {
      "text/html": [
       "<table style=\"width:100%\"><tr><th>Experiment</th><th>Id</th><th>Type</th><th>Status</th><th>Details Page</th><th>Docs Page</th></tr><tr><td>jobchangeautoml</td><td>AutoML_5165bbd4-851f-4b10-81e0-9a9dbccbe98d_40</td><td>azureml.scriptrun</td><td>Completed</td><td><a href=\"https://ml.azure.com/experiments/jobchangeautoml/runs/AutoML_5165bbd4-851f-4b10-81e0-9a9dbccbe98d_40?wsid=/subscriptions/d4ad7261-832d-46b2-b093-22156001df5b/resourcegroups/aml-quickstarts-136651/workspaces/quick-starts-ws-136651\" target=\"_blank\" rel=\"noopener\">Link to Azure Machine Learning studio</a></td><td><a href=\"https://docs.microsoft.com/en-us/python/api/azureml-core/azureml.core.run.Run?view=azure-ml-py\" target=\"_blank\" rel=\"noopener\">Link to Documentation</a></td></tr></table>"
      ],
      "text/plain": [
       "Run(Experiment: jobchangeautoml,\n",
       "Id: AutoML_5165bbd4-851f-4b10-81e0-9a9dbccbe98d_40,\n",
       "Type: azureml.scriptrun,\n",
       "Status: Completed)"
      ]
     },
     "execution_count": 11,
     "metadata": {},
     "output_type": "execute_result"
    }
   ],
   "source": [
    "best_run"
   ]
  },
  {
   "cell_type": "code",
   "execution_count": 12,
   "metadata": {
    "gather": {
     "logged": 1611958175897
    },
    "nteract": {
     "transient": {
      "deleting": false
     }
    }
   },
   "outputs": [
    {
     "data": {
      "text/plain": [
       "PipelineWithYTransformations(Pipeline={'memory': None,\n",
       "                                       'steps': [('datatransformer',\n",
       "                                                  DataTransformer(enable_dnn=None,\n",
       "                                                                  enable_feature_sweeping=None,\n",
       "                                                                  feature_sweeping_config=None,\n",
       "                                                                  feature_sweeping_timeout=None,\n",
       "                                                                  featurization_config=None,\n",
       "                                                                  force_text_dnn=None,\n",
       "                                                                  is_cross_validation=None,\n",
       "                                                                  is_onnx_compatible=None,\n",
       "                                                                  logger=None,\n",
       "                                                                  observer=None,\n",
       "                                                                  task=None,\n",
       "                                                                  working_dir=None))...\n",
       "                                                                                                                                     oob_score=True,\n",
       "                                                                                                                                     random_state=None,\n",
       "                                                                                                                                     verbose=0,\n",
       "                                                                                                                                     warm_start=False))],\n",
       "                                                                                                      verbose=False))],\n",
       "                                                                                flatten_transform=None,\n",
       "                                                                                weights=[0.07142857142857142,\n",
       "                                                                                         0.07142857142857142,\n",
       "                                                                                         0.07142857142857142,\n",
       "                                                                                         0.07142857142857142,\n",
       "                                                                                         0.07142857142857142,\n",
       "                                                                                         0.2857142857142857,\n",
       "                                                                                         0.07142857142857142,\n",
       "                                                                                         0.14285714285714285,\n",
       "                                                                                         0.14285714285714285]))],\n",
       "                                       'verbose': False},\n",
       "                             y_transformer={},\n",
       "                             y_transformer_name='LabelEncoder')"
      ]
     },
     "execution_count": 12,
     "metadata": {},
     "output_type": "execute_result"
    }
   ],
   "source": [
    "fitted_model"
   ]
  },
  {
   "cell_type": "code",
   "execution_count": 13,
   "metadata": {
    "gather": {
     "logged": 1611958236285
    },
    "nteract": {
     "transient": {
      "deleting": false
     }
    }
   },
   "outputs": [
    {
     "name": "stdout",
     "output_type": "stream",
     "text": [
      "Best Run Id:  AutoML_5165bbd4-851f-4b10-81e0-9a9dbccbe98d_40\n",
      "\n",
      " Accuracy: 0.79794365164091\n",
      "PreFittedSoftVotingClassifier(classification_labels=None,\n",
      "                              estimators=[('29',\n",
      "                                           Pipeline(memory=None,\n",
      "                                                    steps=[('standardscalerwrapper',\n",
      "                                                            <azureml.automl.runtime.shared.model_wrappers.StandardScalerWrapper object at 0x7faa39562ac8>),\n",
      "                                                           ('lightgbmclassifier',\n",
      "                                                            LightGBMClassifier(boosting_type='gbdt',\n",
      "                                                                               class_weight=None,\n",
      "                                                                               colsample_bytree=0.6933333333333332,\n",
      "                                                                               importance_typ...\n",
      "                                                                                   min_samples_split=0.15052631578947367,\n",
      "                                                                                   min_weight_fraction_leaf=0.0,\n",
      "                                                                                   n_estimators=25,\n",
      "                                                                                   n_jobs=1,\n",
      "                                                                                   oob_score=True,\n",
      "                                                                                   random_state=None,\n",
      "                                                                                   verbose=0,\n",
      "                                                                                   warm_start=False))],\n",
      "                                                    verbose=False))],\n",
      "                              flatten_transform=None,\n",
      "                              weights=[0.07142857142857142, 0.07142857142857142,\n",
      "                                       0.07142857142857142, 0.07142857142857142,\n",
      "                                       0.07142857142857142, 0.2857142857142857,\n",
      "                                       0.07142857142857142, 0.14285714285714285,\n",
      "                                       0.14285714285714285])\n",
      "{'_aml_system_azureml.automlComponent': 'AutoML', '_aml_system_ComputeTargetStatus': '{\"AllocationState\":\"steady\",\"PreparingNodeCount\":0,\"RunningNodeCount\":3,\"CurrentNodeCount\":4}', 'ensembled_iterations': '[29, 32, 34, 31, 0, 5, 19, 22, 13]', 'ensembled_algorithms': \"['LightGBM', 'LightGBM', 'LightGBM', 'XGBoostClassifier', 'LightGBM', 'RandomForest', 'LightGBM', 'XGBoostClassifier', 'RandomForest']\", 'ensemble_weights': '[0.07142857142857142, 0.07142857142857142, 0.07142857142857142, 0.07142857142857142, 0.07142857142857142, 0.2857142857142857, 0.07142857142857142, 0.14285714285714285, 0.14285714285714285]', 'best_individual_pipeline_score': '0.7962211635765585', 'best_individual_iteration': '29', '_aml_system_automl_is_child_run_end_telemetry_event_logged': 'True'}\n"
     ]
    }
   ],
   "source": [
    "print('Best Run Id: ', best_run.id)\r\n",
    "print('\\n Accuracy:', best_run_metrics['accuracy'])\r\n",
    "print(fitted_model._final_estimator)\r\n",
    "print(best_run.get_tags())"
   ]
  },
  {
   "cell_type": "code",
   "execution_count": 14,
   "metadata": {
    "collapsed": false,
    "gather": {
     "logged": 1611958251935
    },
    "jupyter": {
     "outputs_hidden": false,
     "source_hidden": false
    },
    "nteract": {
     "transient": {
      "deleting": false
     }
    }
   },
   "outputs": [
    {
     "data": {
      "text/plain": [
       "'AutoML5165bbd4840'"
      ]
     },
     "execution_count": 14,
     "metadata": {},
     "output_type": "execute_result"
    }
   ],
   "source": [
    "import os\r\n",
    "import joblib\r\n",
    "\r\n",
    "os.makedirs('./outputs', exist_ok=True)\r\n",
    "\r\n",
    "joblib.dump(fitted_model, filename='outputs/automl.joblib')\r\n",
    "\r\n",
    "model_name = best_run.properties['model_name']\r\n",
    "model_name"
   ]
  },
  {
   "cell_type": "code",
   "execution_count": 15,
   "metadata": {},
   "outputs": [],
   "source": [
    "env = best_run.get_environment()\n",
    "\n",
    "script_file = 'score.py'\n",
    "\n",
    "best_run.download_file('outputs/scoring_file_v_1_0_0.py', script_file)"
   ]
  },
  {
   "cell_type": "markdown",
   "metadata": {},
   "source": [
    "## Model Deployment\n",
    "\n",
    "Remember you have to deploy only one of the two models you trained.. Perform the steps in the rest of this notebook only if you wish to deploy this model.\n",
    "\n",
    "TODO: In the cell below, register the model, create an inference config and deploy the model as a web service."
   ]
  },
  {
   "cell_type": "code",
   "execution_count": 16,
   "metadata": {
    "collapsed": false,
    "gather": {
     "logged": 1611962726722
    },
    "jupyter": {
     "outputs_hidden": false,
     "source_hidden": false
    },
    "nteract": {
     "transient": {
      "deleting": false
     }
    }
   },
   "outputs": [],
   "source": [
    "#Register the fitted model\r\n",
    "model = remote_run.register_model(model_name = model_name, #AutoMLac80c775a36\r\n",
    "                                  description = 'AutoML model')"
   ]
  },
  {
   "cell_type": "code",
   "execution_count": 17,
   "metadata": {
    "nteract": {
     "transient": {
      "deleting": false
     }
    }
   },
   "outputs": [
    {
     "name": "stdout",
     "output_type": "stream",
     "text": [
      "automl-job-change\n"
     ]
    }
   ],
   "source": [
    "inference_config = InferenceConfig(entry_script = script_file, environment = env)\r\n",
    "\r\n",
    "aci_config = AciWebservice.deploy_configuration(cpu_cores = 1, memory_gb = 1)\r\n",
    "\r\n",
    "aci_service_name = 'automl-job-change'\r\n",
    "print(aci_service_name)"
   ]
  },
  {
   "cell_type": "code",
   "execution_count": 18,
   "metadata": {
    "nteract": {
     "transient": {
      "deleting": false
     }
    }
   },
   "outputs": [
    {
     "name": "stdout",
     "output_type": "stream",
     "text": [
      "Tips: You can try get_logs(): https://aka.ms/debugimage#dockerlog or local deployment: https://aka.ms/debugimage#debug-locally to debug if deployment takes longer than 10 minutes.\n",
      "Running................................................\n",
      "Succeeded\n",
      "ACI service creation operation finished, operation \"Succeeded\"\n",
      "State: Healthy\n",
      "Scoring URI: http://c026dc71-d3a9-47b9-a1ef-7334c0a04c5f.southcentralus.azurecontainer.io/score\n"
     ]
    }
   ],
   "source": [
    "service = Model.deploy(ws, aci_service_name, [model], inference_config, aci_config)\r\n",
    "service.wait_for_deployment(True)\r\n",
    "print(\"State: \" + service.state)\r\n",
    "print(\"Scoring URI: \" + service.scoring_uri)"
   ]
  },
  {
   "cell_type": "code",
   "execution_count": 22,
   "metadata": {},
   "outputs": [
    {
     "name": "stdout",
     "output_type": "stream",
     "text": [
      "{\"result\": [0.0, 0.0]}\n"
     ]
    }
   ],
   "source": [
    "%run endpoint.py"
   ]
  },
  {
   "cell_type": "markdown",
   "metadata": {
    "gather": {
     "logged": 1598431657736
    },
    "jupyter": {
     "outputs_hidden": false,
     "source_hidden": false
    },
    "nteract": {
     "transient": {
      "deleting": false
     }
    }
   },
   "source": [
    "TODO: In the cell below, send a request to the web service you deployed to test it."
   ]
  },
  {
   "cell_type": "code",
   "execution_count": 23,
   "metadata": {
    "nteract": {
     "transient": {
      "deleting": false
     }
    }
   },
   "outputs": [
    {
     "data": {
      "text/html": [
       "<div>\n",
       "<style scoped>\n",
       "    .dataframe tbody tr th:only-of-type {\n",
       "        vertical-align: middle;\n",
       "    }\n",
       "\n",
       "    .dataframe tbody tr th {\n",
       "        vertical-align: top;\n",
       "    }\n",
       "\n",
       "    .dataframe thead th {\n",
       "        text-align: right;\n",
       "    }\n",
       "</style>\n",
       "<table border=\"1\" class=\"dataframe\">\n",
       "  <thead>\n",
       "    <tr style=\"text-align: right;\">\n",
       "      <th></th>\n",
       "      <th>city</th>\n",
       "      <th>city_development_index</th>\n",
       "      <th>gender</th>\n",
       "      <th>relevent_experience</th>\n",
       "      <th>enrolled_university</th>\n",
       "      <th>education_level</th>\n",
       "      <th>major_discipline</th>\n",
       "      <th>experience</th>\n",
       "      <th>company_size</th>\n",
       "      <th>company_type</th>\n",
       "      <th>last_new_job</th>\n",
       "      <th>training_hours</th>\n",
       "      <th>target</th>\n",
       "    </tr>\n",
       "  </thead>\n",
       "  <tbody>\n",
       "    <tr>\n",
       "      <th>0</th>\n",
       "      <td>city_103</td>\n",
       "      <td>0.92</td>\n",
       "      <td>Male</td>\n",
       "      <td>Has relevent experience</td>\n",
       "      <td>no_enrollment</td>\n",
       "      <td>Graduate</td>\n",
       "      <td>STEM</td>\n",
       "      <td>&gt;20</td>\n",
       "      <td>None</td>\n",
       "      <td>None</td>\n",
       "      <td>1</td>\n",
       "      <td>36</td>\n",
       "      <td>1.00</td>\n",
       "    </tr>\n",
       "    <tr>\n",
       "      <th>1</th>\n",
       "      <td>city_40</td>\n",
       "      <td>0.78</td>\n",
       "      <td>Male</td>\n",
       "      <td>No relevent experience</td>\n",
       "      <td>no_enrollment</td>\n",
       "      <td>Graduate</td>\n",
       "      <td>STEM</td>\n",
       "      <td>15</td>\n",
       "      <td>50-99</td>\n",
       "      <td>Pvt Ltd</td>\n",
       "      <td>&gt;4</td>\n",
       "      <td>47</td>\n",
       "      <td>0.00</td>\n",
       "    </tr>\n",
       "    <tr>\n",
       "      <th>2</th>\n",
       "      <td>city_21</td>\n",
       "      <td>0.62</td>\n",
       "      <td>None</td>\n",
       "      <td>No relevent experience</td>\n",
       "      <td>Full time course</td>\n",
       "      <td>Graduate</td>\n",
       "      <td>STEM</td>\n",
       "      <td>5</td>\n",
       "      <td>None</td>\n",
       "      <td>None</td>\n",
       "      <td>never</td>\n",
       "      <td>83</td>\n",
       "      <td>0.00</td>\n",
       "    </tr>\n",
       "    <tr>\n",
       "      <th>3</th>\n",
       "      <td>city_115</td>\n",
       "      <td>0.79</td>\n",
       "      <td>None</td>\n",
       "      <td>No relevent experience</td>\n",
       "      <td>None</td>\n",
       "      <td>Graduate</td>\n",
       "      <td>Business Degree</td>\n",
       "      <td>&lt;1</td>\n",
       "      <td>None</td>\n",
       "      <td>Pvt Ltd</td>\n",
       "      <td>never</td>\n",
       "      <td>52</td>\n",
       "      <td>1.00</td>\n",
       "    </tr>\n",
       "    <tr>\n",
       "      <th>4</th>\n",
       "      <td>city_162</td>\n",
       "      <td>0.77</td>\n",
       "      <td>Male</td>\n",
       "      <td>Has relevent experience</td>\n",
       "      <td>no_enrollment</td>\n",
       "      <td>Masters</td>\n",
       "      <td>STEM</td>\n",
       "      <td>&gt;20</td>\n",
       "      <td>50-99</td>\n",
       "      <td>Funded Startup</td>\n",
       "      <td>4</td>\n",
       "      <td>8</td>\n",
       "      <td>0.00</td>\n",
       "    </tr>\n",
       "  </tbody>\n",
       "</table>\n",
       "</div>"
      ],
      "text/plain": [
       "       city  city_development_index gender      relevent_experience  \\\n",
       "0  city_103                    0.92   Male  Has relevent experience   \n",
       "1   city_40                    0.78   Male   No relevent experience   \n",
       "2   city_21                    0.62   None   No relevent experience   \n",
       "3  city_115                    0.79   None   No relevent experience   \n",
       "4  city_162                    0.77   Male  Has relevent experience   \n",
       "\n",
       "  enrolled_university education_level major_discipline experience  \\\n",
       "0       no_enrollment        Graduate             STEM        >20   \n",
       "1       no_enrollment        Graduate             STEM         15   \n",
       "2    Full time course        Graduate             STEM          5   \n",
       "3                None        Graduate  Business Degree         <1   \n",
       "4       no_enrollment         Masters             STEM        >20   \n",
       "\n",
       "  company_size    company_type last_new_job  training_hours  target  \n",
       "0         None            None            1              36    1.00  \n",
       "1        50-99         Pvt Ltd           >4              47    0.00  \n",
       "2         None            None        never              83    0.00  \n",
       "3         None         Pvt Ltd        never              52    1.00  \n",
       "4        50-99  Funded Startup            4               8    0.00  "
      ]
     },
     "execution_count": 23,
     "metadata": {},
     "output_type": "execute_result"
    }
   ],
   "source": [
    "dataset.to_pandas_dataframe().head()"
   ]
  },
  {
   "cell_type": "code",
   "execution_count": 24,
   "metadata": {},
   "outputs": [
    {
     "name": "stdout",
     "output_type": "stream",
     "text": [
      "{\"data\": [{\"city\": \"city_103\", \"city_development_index\": 0.92, \"gender\": \"Male\", \"relevent_experience\": \"Has relevent experience\", \"enrolled_university\": \"no_enrollment\", \"education_level\": \"Graduate\", \"major_discipline\": \"STEM\", \"experience\": \"9\", \"company_size\": \"10000+\", \"company_type\": \"Public Sector\", \"last_new_job\": \">4\", \"training_hours\": 11}, {\"city\": \"city_160\", \"city_development_index\": 0.92, \"gender\": null, \"relevent_experience\": \"Has relevent experience\", \"enrolled_university\": \"no_enrollment\", \"education_level\": \"Graduate\", \"major_discipline\": \"STEM\", \"experience\": \"3\", \"company_size\": \"10000+\", \"company_type\": \"Pvt Ltd\", \"last_new_job\": \"1\", \"training_hours\": 109}, {\"city\": \"city_116\", \"city_development_index\": 0.743, \"gender\": null, \"relevent_experience\": \"Has relevent experience\", \"enrolled_university\": \"no_enrollment\", \"education_level\": \"Masters\", \"major_discipline\": \"STEM\", \"experience\": \"7\", \"company_size\": \"50-99\", \"company_type\": \"Pvt Ltd\", \"last_new_job\": \"2\", \"training_hours\": 4}]}\n"
     ]
    }
   ],
   "source": [
    "data_sample = dataset.to_pandas_dataframe().sample(3)\n",
    "y_true = data_sample.pop('target')\n",
    "sample_json = json.dumps({'data':data_sample.to_dict(orient='records')})\n",
    "print(sample_json)"
   ]
  },
  {
   "cell_type": "code",
   "execution_count": 25,
   "metadata": {
    "nteract": {
     "transient": {
      "deleting": false
     }
    }
   },
   "outputs": [
    {
     "name": "stdout",
     "output_type": "stream",
     "text": [
      "Prediction:  {\"result\": [0.0, 0.0, 0.0]}\n",
      "True Values:  [1. 1. 0.]\n"
     ]
    }
   ],
   "source": [
    "output = service.run(sample_json)\r\n",
    "print('Prediction: ', output)\r\n",
    "print('True Values: ', y_true.values)"
   ]
  },
  {
   "cell_type": "code",
   "execution_count": 26,
   "metadata": {
    "nteract": {
     "transient": {
      "deleting": false
     }
    }
   },
   "outputs": [
    {
     "data": {
      "text/plain": [
       "'2021-01-30T21:53:19,362427505+00:00 - iot-server/run \\n2021-01-30T21:53:19,362963106+00:00 - gunicorn/run \\n2021-01-30T21:53:19,365658413+00:00 - rsyslog/run \\n2021-01-30T21:53:19,366791116+00:00 - nginx/run \\n/usr/sbin/nginx: /azureml-envs/azureml_265db83b0c6014ce472c5de2f0b97e04/lib/libcrypto.so.1.0.0: no version information available (required by /usr/sbin/nginx)\\n/usr/sbin/nginx: /azureml-envs/azureml_265db83b0c6014ce472c5de2f0b97e04/lib/libcrypto.so.1.0.0: no version information available (required by /usr/sbin/nginx)\\n/usr/sbin/nginx: /azureml-envs/azureml_265db83b0c6014ce472c5de2f0b97e04/lib/libssl.so.1.0.0: no version information available (required by /usr/sbin/nginx)\\n/usr/sbin/nginx: /azureml-envs/azureml_265db83b0c6014ce472c5de2f0b97e04/lib/libssl.so.1.0.0: no version information available (required by /usr/sbin/nginx)\\n/usr/sbin/nginx: /azureml-envs/azureml_265db83b0c6014ce472c5de2f0b97e04/lib/libssl.so.1.0.0: no version information available (required by /usr/sbin/nginx)\\nrsyslogd: /azureml-envs/azureml_265db83b0c6014ce472c5de2f0b97e04/lib/libuuid.so.1: no version information available (required by rsyslogd)\\nEdgeHubConnectionString and IOTEDGE_IOTHUBHOSTNAME are not set. Exiting...\\n2021-01-30T21:53:19,564353193+00:00 - iot-server/finish 1 0\\n2021-01-30T21:53:19,567809102+00:00 - Exit code 1 is normal. Not restarting iot-server.\\nStarting gunicorn 19.9.0\\nListening at: http://127.0.0.1:31311 (14)\\nUsing worker: sync\\nworker timeout is set to 300\\nBooting worker with pid: 42\\nSPARK_HOME not set. Skipping PySpark Initialization.\\nGenerating new fontManager, this may take some time...\\nInitializing logger\\n2021-01-30 21:53:21,126 | root | INFO | Starting up app insights client\\n2021-01-30 21:53:21,126 | root | INFO | Starting up request id generator\\n2021-01-30 21:53:21,126 | root | INFO | Starting up app insight hooks\\n2021-01-30 21:53:21,127 | root | INFO | Invoking user\\'s init function\\n2021-01-30 21:53:23,710 | azureml.core | WARNING | Failure while loading azureml_run_type_providers. Failed to load entrypoint automl = azureml.train.automl.run:AutoMLRun._from_run_dto with exception cannot import name \\'RunType\\'.\\nFailure while loading azureml_run_type_providers. Failed to load entrypoint automl = azureml.train.automl.run:AutoMLRun._from_run_dto with exception cannot import name \\'RunType\\'.\\n2021-01-30 21:53:23,967 | root | INFO | Users\\'s init has completed successfully\\n2021-01-30 21:53:23,970 | root | INFO | Skipping middleware: dbg_model_info as it\\'s not enabled.\\n2021-01-30 21:53:23,970 | root | INFO | Skipping middleware: dbg_resource_usage as it\\'s not enabled.\\n2021-01-30 21:53:23,972 | root | INFO | Scoring timeout is found from os.environ: 60000 ms\\n2021-01-30 21:53:36,885 | root | INFO | 200\\n127.0.0.1 - - [30/Jan/2021:21:53:36 +0000] \"GET /swagger.json HTTP/1.0\" 200 2846 \"-\" \"Go-http-client/1.1\"\\n2021-01-30 21:53:41,661 | root | INFO | 200\\n127.0.0.1 - - [30/Jan/2021:21:53:41 +0000] \"GET /swagger.json HTTP/1.0\" 200 2846 \"-\" \"Go-http-client/1.1\"\\n2021-01-30 22:02:38,226 | root | INFO | Validation Request Content-Type\\n2021-01-30 22:02:38,227 | root | INFO | Scoring Timer is set to 60.0 seconds\\n2021-01-30 22:02:38,238 | root | ERROR | Encountered Exception: Traceback (most recent call last):\\n  File \"/var/azureml-server/synchronous/routes.py\", line 64, in run_scoring\\n    response = invoke_user_with_timer(service_input, request_headers)\\n  File \"/var/azureml-server/synchronous/routes.py\", line 97, in invoke_user_with_timer\\n    result = user_main.run(**params)\\n  File \"/azureml-envs/azureml_265db83b0c6014ce472c5de2f0b97e04/lib/python3.6/site-packages/wrapt/wrappers.py\", line 564, in __call__\\n    args, kwargs)\\n  File \"/azureml-envs/azureml_265db83b0c6014ce472c5de2f0b97e04/lib/python3.6/site-packages/inference_schema/schema_decorators.py\", line 57, in decorator_input\\n    kwargs[param_name] = _deserialize_input_argument(kwargs[param_name], param_type, param_name)\\n  File \"/azureml-envs/azureml_265db83b0c6014ce472c5de2f0b97e04/lib/python3.6/site-packages/inference_schema/schema_decorators.py\", line 285, in _deserialize_input_argument\\n    input_data = param_type.deserialize_input(input_data)\\n  File \"/azureml-envs/azureml_265db83b0c6014ce472c5de2f0b97e04/lib/python3.6/site-packages/inference_schema/parameter_types/pandas_parameter_type.py\", line 79, in deserialize_input\\n    data_frame.shape[dim], dim, expected_shape[dim]))\\nValueError: Invalid input data frame: data frame has size 13 on dimension #1, while expected value is 12\\n\\nDuring handling of the above exception, another exception occurred:\\n\\nTraceback (most recent call last):\\n  File \"/azureml-envs/azureml_265db83b0c6014ce472c5de2f0b97e04/lib/python3.6/site-packages/flask/app.py\", line 1832, in full_dispatch_request\\n    rv = self.dispatch_request()\\n  File \"/azureml-envs/azureml_265db83b0c6014ce472c5de2f0b97e04/lib/python3.6/site-packages/flask/app.py\", line 1818, in dispatch_request\\n    return self.view_functions[rule.endpoint](**req.view_args)\\n  File \"/var/azureml-server/synchronous/routes.py\", line 43, in score_realtime\\n    return run_scoring(service_input, request.headers, request.environ.get(\\'REQUEST_ID\\', \\'00000000-0000-0000-0000-000000000000\\'))\\n  File \"/var/azureml-server/synchronous/routes.py\", line 77, in run_scoring\\n    raise RunFunctionException(str(exc))\\nrun_function_exception.RunFunctionException\\n\\n2021-01-30 22:02:38,238 | root | INFO | 500\\n127.0.0.1 - - [30/Jan/2021:22:02:38 +0000] \"POST /score HTTP/1.0\" 500 92 \"-\" \"python-requests/2.25.1\"\\n2021-01-30 22:02:53,259 | root | INFO | Validation Request Content-Type\\n2021-01-30 22:02:53,260 | root | INFO | Scoring Timer is set to 60.0 seconds\\n2021-01-30 22:02:53,357 | root | INFO | 200\\n127.0.0.1 - - [30/Jan/2021:22:02:53 +0000] \"POST /score HTTP/1.0\" 200 26 \"-\" \"python-requests/2.25.1\"\\n2021-01-30 22:02:59,242 | root | INFO | Validation Request Content-Type\\n2021-01-30 22:02:59,242 | root | INFO | Scoring Timer is set to 60.0 seconds\\n2021-01-30 22:02:59,313 | root | INFO | 200\\n127.0.0.1 - - [30/Jan/2021:22:02:59 +0000] \"POST /score HTTP/1.0\" 200 31 \"-\" \"python-requests/2.25.1\"\\n'"
      ]
     },
     "execution_count": 26,
     "metadata": {},
     "output_type": "execute_result"
    }
   ],
   "source": [
    "service.get_logs()\n"
   ]
  },
  {
   "cell_type": "markdown",
   "metadata": {
    "gather": {
     "logged": 1598432765711
    },
    "jupyter": {
     "outputs_hidden": false,
     "source_hidden": false
    },
    "nteract": {
     "transient": {
      "deleting": false
     }
    }
   },
   "source": [
    "TODO: In the cell below, print the logs of the web service and delete the service"
   ]
  },
  {
   "cell_type": "code",
   "execution_count": 27,
   "metadata": {
    "nteract": {
     "transient": {
      "deleting": false
     }
    }
   },
   "outputs": [],
   "source": [
    "service.delete()"
   ]
  }
 ],
 "metadata": {
  "kernel_info": {
   "name": "python3"
  },
  "kernelspec": {
   "display_name": "Python 3",
   "language": "python",
   "name": "python3"
  },
  "language_info": {
   "codemirror_mode": {
    "name": "ipython",
    "version": 3
   },
   "file_extension": ".py",
   "mimetype": "text/x-python",
   "name": "python",
   "nbconvert_exporter": "python",
   "pygments_lexer": "ipython3",
   "version": "3.6.9"
  },
  "nteract": {
   "version": "nteract-front-end@1.0.0"
  }
 },
 "nbformat": 4,
 "nbformat_minor": 4
}
